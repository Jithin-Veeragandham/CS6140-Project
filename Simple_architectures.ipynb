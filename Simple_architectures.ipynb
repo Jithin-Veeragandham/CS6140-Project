{
 "cells": [
  {
   "cell_type": "markdown",
   "id": "b01974e0",
   "metadata": {},
   "source": [
    "# Custom Encodings"
   ]
  },
  {
   "cell_type": "code",
   "execution_count": 1,
   "id": "d2d8ec96",
   "metadata": {},
   "outputs": [],
   "source": [
    "dtypes={'ProductName': 'float32', 'EngineVersion': 'float32', 'AppVersion': 'float32', 'AvSigVersion': 'float32', 'IsBeta': 'float32', 'RtpStateBitfield': 'float32', 'IsSxsPassiveMode': 'float32', 'DefaultBrowsersIdentifier': 'float32', 'AVProductStatesIdentifier': 'float32', 'AVProductsInstalled': 'float32', 'AVProductsEnabled': 'float32', 'HasTpm': 'float32', 'CountryIdentifier': 'float32', 'CityIdentifier': 'float32', 'OrganizationIdentifier': 'float32', 'GeoNameIdentifier': 'float32', 'LocaleEnglishNameIdentifier': 'float32', 'Platform': 'float32', 'Processor': 'float32', 'OsVer': 'float32', 'OsBuild': 'float32', 'OsSuite': 'float32', 'OsPlatformSubRelease': 'float32', 'OsBuildLab': 'float32', 'SkuEdition': 'float32', 'IsProtected': 'float32', 'AutoSampleOptIn': 'float32', 'PuaMode': 'float32', 'SMode': 'float32', 'IeVerIdentifier': 'float32', 'SmartScreen': 'float32', 'Firewall': 'float32', 'UacLuaenable': 'float32', 'Census_MDC2FormFactor': 'float32', 'Census_DeviceFamily': 'float32', 'Census_OEMNameIdentifier': 'float32', 'Census_OEMModelIdentifier': 'float32', 'Census_ProcessorCoreCount': 'float32', 'Census_ProcessorManufacturerIdentifier': 'float32', 'Census_ProcessorModelIdentifier': 'float32', 'Census_ProcessorClass': 'float32', 'Census_PrimaryDiskTotalCapacity': 'float32', 'Census_PrimaryDiskTypeName': 'float32', 'Census_SystemVolumeTotalCapacity': 'float32', 'Census_HasOpticalDiskDrive': 'float32', 'Census_TotalPhysicalRAM': 'float32', 'Census_ChassisTypeName': 'float32', 'Census_InternalPrimaryDiagonalDisplaySizeInInches': 'float32', 'Census_InternalPrimaryDisplayResolutionHorizontal': 'float32', 'Census_InternalPrimaryDisplayResolutionVertical': 'float32', 'Census_PowerPlatformRoleName': 'float32', 'Census_InternalBatteryType': 'float32', 'Census_InternalBatteryNumberOfCharges': 'float32', 'Census_OSVersion': 'float32', 'Census_OSArchitecture': 'float32', 'Census_OSBranch': 'float32', 'Census_OSBuildNumber': 'float32', 'Census_OSBuildRevision': 'float32', 'Census_OSEdition': 'float32', 'Census_OSSkuName': 'float32', 'Census_OSInstallTypeName': 'float32', 'Census_OSInstallLanguageIdentifier': 'float32', 'Census_OSUILocaleIdentifier': 'float32', 'Census_OSWUAutoUpdateOptionsName': 'float32', 'Census_IsPortableOperatingSystem': 'float32', 'Census_GenuineStateName': 'float32', 'Census_ActivationChannel': 'float32', 'Census_IsFlightingInternal': 'float32', 'Census_IsFlightsDisabled': 'float32', 'Census_FlightRing': 'float32', 'Census_ThresholdOptIn': 'float32', 'Census_FirmwareManufacturerIdentifier': 'float32', 'Census_FirmwareVersionIdentifier': 'float32', 'Census_IsSecureBootEnabled': 'float32', 'Census_IsWIMBootEnabled': 'float32', 'Census_IsVirtualDevice': 'float32', 'Census_IsTouchEnabled': 'float32', 'Census_IsPenCapable': 'float32', 'Census_IsAlwaysOnAlwaysConnectedCapable': 'float32', 'Wdft_IsGamer': 'float32', 'Wdft_RegionIdentifier': 'float32', 'HasDetections': 'int8'}\n",
    "train_dir=r\"C:\\Users\\jithi\\OneDrive\\Desktop\\ML project\\Processed Datasets\\train_data_scaled_encoded_shrunk.csv\"\n",
    "valid_dir=r'C:\\Users\\jithi\\OneDrive\\Desktop\\ML project\\Processed Datasets\\validation_data_scaled_encoded_shrunk.csv'"
   ]
  },
  {
   "cell_type": "code",
   "execution_count": 2,
   "id": "44be1c90",
   "metadata": {},
   "outputs": [
    {
     "name": "stdout",
     "output_type": "stream",
     "text": [
      "Mem. usage decreased to 1109.47 Mb (49.8% reduction)\n",
      "Mem. usage decreased to 277.37 Mb (49.8% reduction)\n"
     ]
    }
   ],
   "source": [
    "import pandas as pd\n",
    "from helper_functions import reduce_mem_usage\n",
    "train = pd.read_csv(train_dir, dtype=dtypes)\n",
    "valid = pd.read_csv(valid_dir, dtype=dtypes)\n",
    "train = reduce_mem_usage(train)\n",
    "valid = reduce_mem_usage(valid)\n",
    "X_train = train.drop(columns=['HasDetections'])\n",
    "y_train = train['HasDetections']\n",
    "X_valid = valid.drop(columns=['HasDetections'])\n",
    "y_valid = valid['HasDetections']\n"
   ]
  },
  {
   "cell_type": "code",
   "execution_count": 3,
   "id": "3c825483",
   "metadata": {},
   "outputs": [
    {
     "name": "stdout",
     "output_type": "stream",
     "text": [
      "Linear SVC classification :\n",
      "Training accuracy: 0.5988017684843534\n",
      "Validation accuracy: 0.5909190005923902\n",
      "\n",
      "Logistic Regression classification :\n",
      "Training accuracy: 0.5989009672580996\n",
      "Validation accuracy: 0.5909391766056884\n",
      "\n",
      "Perceptron classification :\n",
      "Training accuracy: 0.5542399419378928\n",
      "Validation accuracy: 0.5434000057165371\n"
     ]
    }
   ],
   "source": [
    "from sklearn.svm import LinearSVC  # More efficient for linear kernels\n",
    "from sklearn.metrics import accuracy_score, classification_report\n",
    "from sklearn.preprocessing import StandardScaler\n",
    "import numpy as np\n",
    "import pandas as pd\n",
    "\n",
    "linear_svc = LinearSVC(\n",
    "    C=1.0,                  # Regularization parameter\n",
    "    penalty='l2',           # Default is l2 penalty\n",
    "    loss='squared_hinge',   # Default loss for L2 penalty\n",
    "    dual=False,              #\n",
    "    random_state=42,\n",
    "    max_iter=1000           \n",
    ")\n",
    "\n",
    "\n",
    "\n",
    "linear_svc.fit(X_train, y_train)\n",
    "y_pred = linear_svc.predict(X_valid)\n",
    "print(\"Linear SVC classification :\")\n",
    "print(\"Training accuracy:\", linear_svc.score(X_train, y_train))\n",
    "print(\"Validation accuracy:\", linear_svc.score(X_valid, y_valid))\n",
    "print(\"\")\n",
    "\n",
    "from sklearn.linear_model import LogisticRegression\n",
    "logreg = LogisticRegression()\n",
    "logreg.fit(X_train, y_train)\n",
    "y_pred = logreg.predict(X_valid)\n",
    "print(\"Logistic Regression classification :\")\n",
    "print(\"Training accuracy:\", logreg.score(X_train, y_train))\n",
    "print(\"Validation accuracy:\", logreg.score(X_valid, y_valid))\n",
    "print(\"\")\n",
    "from sklearn.linear_model import Perceptron\n",
    "perceptron = Perceptron()\n",
    "perceptron.fit(X_train, y_train)\n",
    "y_pred = perceptron.predict(X_valid)\n",
    "print(\"Perceptron classification :\")\n",
    "print(\"Training accuracy:\", perceptron.score(X_train, y_train))\n",
    "print(\"Validation accuracy:\", perceptron.score(X_valid, y_valid))\n",
    "\n",
    "\n",
    "\n"
   ]
  },
  {
   "cell_type": "markdown",
   "id": "2d76783d",
   "metadata": {},
   "source": [
    "# Kaggle Encodings"
   ]
  },
  {
   "cell_type": "code",
   "execution_count": 1,
   "id": "c7a4166f",
   "metadata": {},
   "outputs": [],
   "source": [
    "import torch\n",
    "import torch.nn as nn\n",
    "import torch.optim as optim\n",
    "import numpy as np\n",
    "import pandas as pd\n",
    "from tqdm import tqdm\n",
    "from torch.utils.data import DataLoader, TensorDataset\n",
    "train_dtypes=test_dtypes=dtypes = {\n",
    "    'ProductName':                                                  'float32',\n",
    "    'IsBeta':                                                       'float32',\n",
    "    'RtpStateBitfield':                                             'float32',\n",
    "    'IsSxsPassiveMode':                                             'float32',\n",
    "    'DefaultBrowsersIdentifier':                                    'float32',\n",
    "    'AVProductStatesIdentifier':                                    'float32',\n",
    "    'AVProductsInstalled':                                          'float32',\n",
    "    'AVProductsEnabled':                                            'float32',\n",
    "    'HasTpm':                                                       'float32',\n",
    "    'CountryIdentifier':                                            'float32',\n",
    "    'CityIdentifier':                                               'float32',\n",
    "    'OrganizationIdentifier':                                       'float32',\n",
    "    'GeoNameIdentifier':                                            'float32',\n",
    "    'LocaleEnglishNameIdentifier':                                  'float32',\n",
    "    'Platform':                                                     'float32',\n",
    "    'Processor':                                                    'float32',\n",
    "    'OsVer':                                                        'float32',\n",
    "    'OsBuild':                                                      'float32',\n",
    "    'OsSuite':                                                      'float32',\n",
    "    'OsPlatformSubRelease':                                         'float32',\n",
    "    'OsBuildLab':                                                   'float32',\n",
    "    'SkuEdition':                                                   'float32',\n",
    "    'IsProtected':                                                  'float32',\n",
    "    'AutoSampleOptIn':                                              'float32',\n",
    "    'PuaMode':                                                      'float32',\n",
    "    'SMode':                                                        'float32',\n",
    "    'IeVerIdentifier':                                              'float32',\n",
    "    'SmartScreen':                                                  'float32',\n",
    "    'Firewall':                                                     'float32',\n",
    "    'UacLuaenable':                                                 'float32',\n",
    "    'Census_MDC2FormFactor':                                        'float32',\n",
    "    'Census_DeviceFamily':                                          'float32',\n",
    "    'Census_OEMNameIdentifier':                                     'float32',\n",
    "    'Census_OEMModelIdentifier':                                    'float32',\n",
    "    'Census_ProcessorCoreCount':                                    'float32',\n",
    "    'Census_ProcessorManufacturerIdentifier':                       'float32',\n",
    "    'Census_ProcessorModelIdentifier':                              'float32',\n",
    "    'Census_ProcessorClass':                                        'float32',\n",
    "    'Census_PrimaryDiskTotalCapacity':                              'float32',\n",
    "    'Census_PrimaryDiskTypeName':                                   'float32',\n",
    "    'Census_SystemVolumeTotalCapacity':                             'float32',\n",
    "    'Census_HasOpticalDiskDrive':                                   'float32',\n",
    "    'Census_TotalPhysicalRAM':                                      'float32',\n",
    "    'Census_ChassisTypeName':                                       'float32',\n",
    "    'Census_InternalPrimaryDiagonalDisplaySizeInInches':            'float32',\n",
    "    'Census_InternalPrimaryDisplayResolutionHorizontal':            'float32',\n",
    "    'Census_InternalPrimaryDisplayResolutionVertical':              'float32',\n",
    "    'Census_PowerPlatformRoleName':                                 'float32',\n",
    "    'Census_InternalBatteryType':                                   'float32',\n",
    "    'Census_InternalBatteryNumberOfCharges':                        'float32',\n",
    "    'Census_OSArchitecture':                                        'float32',\n",
    "    'Census_OSBranch':                                              'float32',\n",
    "    'Census_OSBuildNumber':                                         'float32',\n",
    "    'Census_OSBuildRevision':                                       'float32',\n",
    "    'Census_OSEdition':                                             'float32',\n",
    "    'Census_OSSkuName':                                             'float32',\n",
    "    'Census_OSInstallTypeName':                                     'float32',\n",
    "    'Census_OSInstallLanguageIdentifier':                           'float32',\n",
    "    'Census_OSUILocaleIdentifier':                                  'float32',\n",
    "    'Census_OSWUAutoUpdateOptionsName':                             'float32',\n",
    "    'Census_IsPortableOperatingSystem':                             'float32',\n",
    "    'Census_GenuineStateName':                                      'float32',\n",
    "    'Census_ActivationChannel':                                     'float32',\n",
    "    'Census_IsFlightingInternal':                                   'float32',\n",
    "    'Census_IsFlightsDisabled':                                     'float32',\n",
    "    'Census_FlightRing':                                            'float32',\n",
    "    'Census_ThresholdOptIn':                                        'float32',\n",
    "    'Census_FirmwareManufacturerIdentifier':                        'float32',\n",
    "    'Census_FirmwareVersionIdentifier':                             'float32',\n",
    "    'Census_IsSecureBootEnabled':                                   'float32',\n",
    "    'Census_IsWIMBootEnabled':                                      'float32',\n",
    "    'Census_IsVirtualDevice':                                       'float32',\n",
    "    'Census_IsTouchEnabled':                                        'float32',\n",
    "    'Census_IsPenCapable':                                          'float32',\n",
    "    'Census_IsAlwaysOnAlwaysConnectedCapable':                      'float32',\n",
    "    'Wdft_IsGamer':                                                 'float32',\n",
    "    'Wdft_RegionIdentifier':                                        'float32',\n",
    "    'EngineVersion_1':                                              'int8',\n",
    "    'EngineVersion_2':                                              'int8',\n",
    "    'EngineVersion_3':                                              'float32',\n",
    "    'EngineVersion_4':                                              'float32',\n",
    "    'AppVersion_1':                                                 'int8',\n",
    "    'AppVersion_2':                                                 'float32',\n",
    "    'AppVersion_3':                                                 'float32',\n",
    "    'AppVersion_4':                                                 'float32',\n",
    "    'AvSigVersion_1':                                               'float32',\n",
    "    'AvSigVersion_2':                                               'float32',\n",
    "    'AvSigVersion_3':                                               'float32',\n",
    "    'AvSigVersion_4':                                               'int8',\n",
    "    'Census_OSVersion_1':                                           'float32',\n",
    "    'Census_OSVersion_2':                                           'float32',\n",
    "    'Census_OSVersion_3':                                           'float32',\n",
    "    'Census_OSVersion_4':                                           'float32',\n",
    "    'HasDetections':                                                'int8',\n",
    "}\n",
    "train_data = pd.read_csv(r'C:\\Users\\jithi\\OneDrive\\Desktop\\ML project\\Processed Datasets\\train_data_kaggle_processed.csv',dtype=train_dtypes)\n",
    "test_data = pd.read_csv(r'C:\\Users\\jithi\\OneDrive\\Desktop\\ML project\\Processed Datasets\\validation_data_kaggle_processed.csv',dtype=test_dtypes)\n",
    "\n",
    "X_train = train_data.drop('HasDetections', axis=1)\n",
    "y_train = train_data['HasDetections']\n",
    "X_valid = test_data.drop('HasDetections', axis=1)\n",
    "y_valid = test_data['HasDetections']\n",
    "\n",
    "\n",
    " "
   ]
  },
  {
   "cell_type": "markdown",
   "id": "30582e72",
   "metadata": {},
   "source": [
    "# Linear SVM"
   ]
  },
  {
   "cell_type": "code",
   "execution_count": 2,
   "id": "16601922",
   "metadata": {},
   "outputs": [
    {
     "name": "stdout",
     "output_type": "stream",
     "text": [
      "Training accuracy: 0.6001779974474516\n",
      "Validation accuracy: 0.599789272513794\n"
     ]
    }
   ],
   "source": [
    "from sklearn.svm import LinearSVC  # More efficient for linear kernels\n",
    "from sklearn.metrics import accuracy_score, classification_report\n",
    "from sklearn.preprocessing import StandardScaler\n",
    "import numpy as np\n",
    "import pandas as pd\n",
    "\n",
    "linear_svc = LinearSVC(\n",
    "    C=1.0,                  # Regularization parameter\n",
    "    penalty='l2',           # Default is l2 penalty\n",
    "    loss='squared_hinge',   # Default loss for L2 penalty\n",
    "    dual=False,              #\n",
    "    random_state=42,\n",
    "    max_iter=1000           \n",
    ")\n",
    "\n",
    "\n",
    "#fit\n",
    "linear_svc.fit(X_train, y_train)\n",
    "# Predict on the validation set\n",
    "y_pred = linear_svc.predict(X_valid)\n",
    "\n",
    "print(\"Training accuracy:\", linear_svc.score(X_train, y_train))\n",
    "print(\"Validation accuracy:\", linear_svc.score(X_valid, y_valid))\n",
    "\n"
   ]
  },
  {
   "cell_type": "markdown",
   "id": "ebca96f9",
   "metadata": {},
   "source": [
    "# logistic regression\n"
   ]
  },
  {
   "cell_type": "code",
   "execution_count": 3,
   "id": "fee0b158",
   "metadata": {},
   "outputs": [
    {
     "name": "stdout",
     "output_type": "stream",
     "text": [
      "Training accuracy: 0.6002931689696535\n",
      "Validation accuracy: 0.5997915142955621\n"
     ]
    }
   ],
   "source": [
    "from sklearn.linear_model import LogisticRegression\n",
    "logreg = LogisticRegression()\n",
    "logreg.fit(X_train, y_train)\n",
    "y_pred = logreg.predict(X_valid)\n",
    "print(\"Training accuracy:\", logreg.score(X_train, y_train))\n",
    "print(\"Validation accuracy:\", logreg.score(X_valid, y_valid))\n"
   ]
  },
  {
   "cell_type": "markdown",
   "id": "f940f9f3",
   "metadata": {},
   "source": [
    "# Perceptron"
   ]
  },
  {
   "cell_type": "code",
   "execution_count": 5,
   "id": "8f295987",
   "metadata": {},
   "outputs": [
    {
     "name": "stdout",
     "output_type": "stream",
     "text": [
      "Training accuracy: 0.5369386036307612\n",
      "Validation accuracy: 0.5371275489759261\n"
     ]
    }
   ],
   "source": [
    "from sklearn.linear_model import Perceptron\n",
    "perceptron = Perceptron()\n",
    "perceptron.fit(X_train, y_train)\n",
    "y_pred = perceptron.predict(X_valid)\n",
    "print(\"Training accuracy:\", perceptron.score(X_train, y_train))\n",
    "print(\"Validation accuracy:\", perceptron.score(X_valid, y_valid))"
   ]
  }
 ],
 "metadata": {
  "kernelspec": {
   "display_name": "fai_labs_3.10",
   "language": "python",
   "name": "python3"
  },
  "language_info": {
   "codemirror_mode": {
    "name": "ipython",
    "version": 3
   },
   "file_extension": ".py",
   "mimetype": "text/x-python",
   "name": "python",
   "nbconvert_exporter": "python",
   "pygments_lexer": "ipython3",
   "version": "3.10.14"
  }
 },
 "nbformat": 4,
 "nbformat_minor": 5
}
