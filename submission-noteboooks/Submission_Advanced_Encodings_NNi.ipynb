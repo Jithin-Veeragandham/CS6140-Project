{
 "cells": [
  {
   "cell_type": "code",
   "execution_count": 1,
   "id": "58555e34-86fb-472f-8a64-4d99194cc245",
   "metadata": {},
   "outputs": [],
   "source": [
    "import pandas as pd\n",
    "import numpy as np\n",
    "from sklearn.preprocessing import OrdinalEncoder\n",
    "from sklearn.model_selection import train_test_split\n",
    "from sklearn.preprocessing import StandardScaler\n",
    "import pickle"
   ]
  },
  {
   "cell_type": "code",
   "execution_count": 2,
   "id": "9e895d8c-61b2-451f-bd95-956f9a0d9883",
   "metadata": {},
   "outputs": [],
   "source": [
    "dtypes = {\n",
    "        'MachineIdentifier':                                    'category',\n",
    "        'ProductName':                                          'category',\n",
    "        'EngineVersion':                                        'category',\n",
    "        'AppVersion':                                           'category',\n",
    "        'AvSigVersion':                                         'category',\n",
    "        'IsBeta':                                               'int8',\n",
    "        'RtpStateBitfield':                                     'float32',\n",
    "        'IsSxsPassiveMode':                                     'int8',\n",
    "        'DefaultBrowsersIdentifier':                            'float32',\n",
    "        'AVProductStatesIdentifier':                            'float32',\n",
    "        'AVProductsInstalled':                                  'float32',\n",
    "        'AVProductsEnabled':                                    'float32',\n",
    "        'HasTpm':                                               'int8',\n",
    "        'CountryIdentifier':                                    'int16',\n",
    "        'CityIdentifier':                                       'float32',\n",
    "        'OrganizationIdentifier':                               'float32',\n",
    "        'GeoNameIdentifier':                                    'float32',\n",
    "        'LocaleEnglishNameIdentifier':                          'int8',\n",
    "        'Platform':                                             'category',\n",
    "        'Processor':                                            'category',\n",
    "        'OsVer':                                                'category',\n",
    "        'OsBuild':                                              'int16',\n",
    "        'OsSuite':                                              'int16',\n",
    "        'OsPlatformSubRelease':                                 'category',\n",
    "        'OsBuildLab':                                           'category',\n",
    "        'SkuEdition':                                           'category',\n",
    "        'IsProtected':                                          'float32',\n",
    "        'AutoSampleOptIn':                                      'int8',\n",
    "        'PuaMode':                                              'category',\n",
    "        'SMode':                                                'float32',\n",
    "        'IeVerIdentifier':                                      'float32',\n",
    "        'SmartScreen':                                          'category',\n",
    "        'Firewall':                                             'float32',\n",
    "        'UacLuaenable':                                         'float32',\n",
    "        'Census_MDC2FormFactor':                                'category',\n",
    "        'Census_DeviceFamily':                                  'category',\n",
    "        'Census_OEMNameIdentifier':                             'float32',\n",
    "        'Census_OEMModelIdentifier':                            'float32',\n",
    "        'Census_ProcessorCoreCount':                            'float32',\n",
    "        'Census_ProcessorManufacturerIdentifier':               'float32',\n",
    "        'Census_ProcessorModelIdentifier':                      'float32',\n",
    "        'Census_ProcessorClass':                                'category',\n",
    "        'Census_PrimaryDiskTotalCapacity':                      'float32',\n",
    "        'Census_PrimaryDiskTypeName':                           'category',\n",
    "        'Census_SystemVolumeTotalCapacity':                     'float32',\n",
    "        'Census_HasOpticalDiskDrive':                           'int8',\n",
    "        'Census_TotalPhysicalRAM':                              'float32',\n",
    "        'Census_ChassisTypeName':                               'category',\n",
    "        'Census_InternalPrimaryDiagonalDisplaySizeInInches':    'float32',\n",
    "        'Census_InternalPrimaryDisplayResolutionHorizontal':    'float32',\n",
    "        'Census_InternalPrimaryDisplayResolutionVertical':      'float32',\n",
    "        'Census_PowerPlatformRoleName':                         'category',\n",
    "        'Census_InternalBatteryType':                           'category',\n",
    "        'Census_InternalBatteryNumberOfCharges':                'float32',\n",
    "        'Census_OSVersion':                                     'category',\n",
    "        'Census_OSArchitecture':                                'category',\n",
    "        'Census_OSBranch':                                      'category',\n",
    "        'Census_OSBuildNumber':                                 'int16',\n",
    "        'Census_OSBuildRevision':                               'int32',\n",
    "        'Census_OSEdition':                                     'category',\n",
    "        'Census_OSSkuName':                                     'category',\n",
    "        'Census_OSInstallTypeName':                             'category',\n",
    "        'Census_OSInstallLanguageIdentifier':                   'float32',\n",
    "        'Census_OSUILocaleIdentifier':                          'int16',\n",
    "        'Census_OSWUAutoUpdateOptionsName':                     'category',\n",
    "        'Census_IsPortableOperatingSystem':                     'int8',\n",
    "        'Census_GenuineStateName':                              'category',\n",
    "        'Census_ActivationChannel':                             'category',\n",
    "        'Census_IsFlightingInternal':                           'float32',\n",
    "        'Census_IsFlightsDisabled':                             'float32',\n",
    "        'Census_FlightRing':                                    'category',\n",
    "        'Census_ThresholdOptIn':                                'float32',\n",
    "        'Census_FirmwareManufacturerIdentifier':                'float32',\n",
    "        'Census_FirmwareVersionIdentifier':                     'float32',\n",
    "        'Census_IsSecureBootEnabled':                           'int8',\n",
    "        'Census_IsWIMBootEnabled':                              'float32',\n",
    "        'Census_IsVirtualDevice':                               'float32',\n",
    "        'Census_IsTouchEnabled':                                'int8',\n",
    "        'Census_IsPenCapable':                                  'int8',\n",
    "        'Census_IsAlwaysOnAlwaysConnectedCapable':              'float32',\n",
    "        'Wdft_IsGamer':                                         'float32',\n",
    "        'Wdft_RegionIdentifier':                                'float32',\n",
    "        }"
   ]
  },
  {
   "cell_type": "code",
   "execution_count": 3,
   "id": "a7216fe4-3c02-423a-89fd-0a0c87de9234",
   "metadata": {},
   "outputs": [],
   "source": [
    "test_dir = \"/Users/dragonfruit/cs6140-ml-workspace/ML-project/data/test.csv\"\n",
    "test = pd.read_csv(test_dir,dtype=dtypes)"
   ]
  },
  {
   "cell_type": "code",
   "execution_count": 4,
   "id": "85f27797-7612-41ab-9ad9-8b0b84a498f7",
   "metadata": {},
   "outputs": [],
   "source": [
    "#for each column print data type and 2 sample values\n",
    "# for col in test.columns:\n",
    "#     print(f\"{col}: {test[col].dtype}, {test[col].sample(2).values}\")"
   ]
  },
  {
   "cell_type": "code",
   "execution_count": 5,
   "id": "c6731a6f-201f-463b-a383-774d544f0bb4",
   "metadata": {},
   "outputs": [],
   "source": [
    "import numpy as np \n",
    "import pandas as pd \n",
    "from datetime import datetime as dt\n",
    "import os\n",
    "import matplotlib.pyplot as plt\n",
    "%matplotlib inline\n",
    "plt.style.use('ggplot')\n",
    "import time\n",
    "import datetime\n",
    "from tqdm import tqdm_notebook as tqdm\n",
    "from sklearn.preprocessing import LabelEncoder\n",
    "from sklearn.model_selection import StratifiedKFold, KFold, TimeSeriesSplit\n",
    "from sklearn.metrics import mean_squared_error, roc_auc_score\n",
    "from sklearn.linear_model import LogisticRegression, LogisticRegressionCV\n",
    "from sklearn import metrics\n",
    "import gc\n",
    "from tqdm import tqdm_notebook"
   ]
  },
  {
   "cell_type": "code",
   "execution_count": 6,
   "id": "8e46fd82-fcd5-404a-8c9c-2da408ae43c4",
   "metadata": {},
   "outputs": [],
   "source": [
    "def reduce_mem_usage(df, verbose=True):\n",
    "    numerics = ['int16', 'int32', 'int64', 'float16', 'float32', 'float64']\n",
    "    start_mem = df.memory_usage(deep=True).sum() / 1024**2    \n",
    "    for col in df.columns:\n",
    "        col_type = df[col].dtypes\n",
    "        if col_type in numerics:\n",
    "            c_min = df[col].min()\n",
    "            c_max = df[col].max()\n",
    "            if str(col_type)[:3] == 'int':\n",
    "                if c_min > np.iinfo(np.int8).min and c_max < np.iinfo(np.int8).max:\n",
    "                    df[col] = df[col].astype(np.int8)\n",
    "                elif c_min > np.iinfo(np.int16).min and c_max < np.iinfo(np.int16).max:\n",
    "                    df[col] = df[col].astype(np.int16)\n",
    "                elif c_min > np.iinfo(np.int32).min and c_max < np.iinfo(np.int32).max:\n",
    "                    df[col] = df[col].astype(np.int32)\n",
    "                elif c_min > np.iinfo(np.int64).min and c_max < np.iinfo(np.int64).max:\n",
    "                    df[col] = df[col].astype(np.int64)  \n",
    "            else:\n",
    "                if c_min > np.finfo(np.float16).min and c_max < np.finfo(np.float16).max:\n",
    "                    df[col] = df[col].astype(np.float16)\n",
    "                elif c_min > np.finfo(np.float32).min and c_max < np.finfo(np.float32).max:\n",
    "                    df[col] = df[col].astype(np.float32)\n",
    "                else:\n",
    "                    df[col] = df[col].astype(np.float64)    \n",
    "    end_mem = df.memory_usage(deep=True).sum() / 1024**2\n",
    "    if verbose: print('Mem. usage decreased to {:5.2f} Mb ({:.1f}% reduction)'.format(end_mem, 100 * (start_mem - end_mem) / start_mem))\n",
    "    return df"
   ]
  },
  {
   "cell_type": "code",
   "execution_count": 7,
   "id": "cf26b453-24c3-4888-b413-565652d88093",
   "metadata": {},
   "outputs": [],
   "source": [
    "numerics = ['int8', 'int16', 'int32', 'int64', 'float16', 'float32', 'float64']\n",
    "numerical_columns = [c for c,v in dtypes.items() if v in numerics]\n",
    "categorical_columns = [c for c,v in dtypes.items() if v not in numerics]"
   ]
  },
  {
   "cell_type": "code",
   "execution_count": 8,
   "id": "c25dc554-5721-4a79-864f-d7db5c8f0350",
   "metadata": {},
   "outputs": [
    {
     "name": "stdout",
     "output_type": "stream",
     "text": [
      "Mem. usage decreased to 2049.02 Mb (16.5% reduction)\n"
     ]
    }
   ],
   "source": [
    "test = reduce_mem_usage(test)"
   ]
  },
  {
   "cell_type": "code",
   "execution_count": 9,
   "id": "fb27869a-032c-4ba7-8dec-487a13cabbc7",
   "metadata": {},
   "outputs": [],
   "source": [
    "toDrop=['IsBeta','AutoSampleOptIn','Census_DeviceFamily',\n",
    "        'Census_ProcessorManufacturerIdentifier','ProductName',\n",
    "        'Census_IsPortableOperatingSystem','OsVer','Census_IsWIMBootEnabled',\n",
    "        'Platform', 'PuaMode', 'Census_IsPenCapable', 'Census_IsFlightsDisabled',\n",
    "        'Census_ProcessorClass', 'Census_IsFlightingInternal', 'Census_InternalBatteryType',\n",
    "        'Census_IsAlwaysOnAlwaysConnectedCapable', 'UacLuaenable', 'Census_OSBuildNumber',\n",
    "        'Census_OSArchitecture', 'Census_IsTouchEnabled', 'Census_ThresholdOptIn', 'Census_ThresholdOptIn', 'SMode',\n",
    "        'HasTpm'\n",
    "       ]\n",
    "test.drop(toDrop, axis=1, inplace=True)"
   ]
  },
  {
   "cell_type": "code",
   "execution_count": 10,
   "id": "0525c9da-8713-4752-9d59-743f0fe968bd",
   "metadata": {},
   "outputs": [],
   "source": [
    "def rename_edition(x):\n",
    "    x = x.lower()\n",
    "    if 'core' in x:\n",
    "        return 'Core'\n",
    "    elif 'pro' in x:\n",
    "        return 'pro'\n",
    "    elif 'enterprise' in x:\n",
    "        return 'Enterprise'\n",
    "    elif 'server' in x:\n",
    "        return 'Server'\n",
    "    elif 'home' in x:\n",
    "        return 'Home'\n",
    "    elif 'education' in x:\n",
    "        return 'Education'\n",
    "    elif 'cloud' in x:\n",
    "        return 'Cloud'\n",
    "    else:\n",
    "        return x\n",
    "    \n",
    "def encode_categorical_columns(x_train, columns, to_drop=None, sort=True):\n",
    "    from tqdm import tqdm\n",
    "    import pandas as pd\n",
    "\n",
    "    to_drop = to_drop if to_drop is not None else []\n",
    "\n",
    "    print(\"Training length:\", x_train.shape[0])\n",
    "\n",
    "    for col in tqdm(columns):\n",
    "        if col in to_drop or col in ['MachineIdentifier', 'HasDetections']:\n",
    "            continue\n",
    "\n",
    "        # Factorize only on train data\n",
    "        x_train[col], uniques = pd.factorize(x_train[col], sort=sort)\n",
    "        x_train[col] = x_train[col].astype('int32')\n",
    "\n",
    "        # Create a mapping dictionary from unique values\n",
    "        category_map = {cat: idx for idx, cat in enumerate(uniques)}\n",
    "\n",
    "        # Map test data using the train-derived mapping\n",
    "\n",
    "        # Optional: replace missing (unseen categories in test) with -1 or 0\n",
    "        print(f\"{col} encoded. Train shape: {x_train.shape}\")\n",
    "\n",
    "    return x_train,category_map\n",
    "    \n",
    "def encode_categorical_columns_test(x_test, columns, category_map):\n",
    "    from tqdm import tqdm\n",
    "    import pandas as pd\n",
    "\n",
    "    for col in tqdm(columns):\n",
    "        if col in ['MachineIdentifier']:\n",
    "            continue\n",
    "\n",
    "        # Map test data using the train-derived mapping\n",
    "        x_test[col] = x_test[col].map(category_map)\n",
    "    return x_test\n",
    "\n",
    "\n",
    "one_hot = {}\n",
    "def add_features(df):\n",
    "    global one_hot\n",
    "    df['primary_drive_c_ratio'] = df['Census_SystemVolumeTotalCapacity']/ df['Census_PrimaryDiskTotalCapacity'];\n",
    "    df['primary_drive_c_ratio'] = df['primary_drive_c_ratio'].astype('float32')\n",
    "    \n",
    "    df['non_primary_drive_MB'] = df['Census_PrimaryDiskTotalCapacity'] - df['Census_SystemVolumeTotalCapacity'];\n",
    "    df['non_primary_drive_MB'] = df['non_primary_drive_MB'].astype('float32')\n",
    "    \n",
    "    df['aspect_ratio'] = df['Census_InternalPrimaryDisplayResolutionHorizontal']/ df['Census_InternalPrimaryDisplayResolutionVertical'];\n",
    "    df['aspect_ratio'] = df['aspect_ratio'].astype('float16')\n",
    "\n",
    "    df['dpi'] = ((df['Census_InternalPrimaryDisplayResolutionHorizontal'].astype('float32')**2 + df['Census_InternalPrimaryDisplayResolutionVertical'].astype('float32')**2)**.5)/(df['Census_InternalPrimaryDiagonalDisplaySizeInInches'].astype('float32'));\n",
    "    df['dpi']=df['dpi'].astype('float32')\n",
    "\n",
    "    df['Screen_Area'] = (df['aspect_ratio']* (df['Census_InternalPrimaryDiagonalDisplaySizeInInches']**2))/(df['aspect_ratio']**2 + 1);\n",
    "    df['Screen_Area'] = df['Screen_Area'].astype('float32')\n",
    "\n",
    "    df['AVProductsInstalled_slim']= df['AVProductsInstalled']\n",
    "    df.loc[df['AVProductsInstalled'].isin([1, 2]) == False, 'AVProductsInstalled_slim'] = 3\n",
    "\n",
    "\n",
    "    top_15 = df['AVProductStatesIdentifier'].value_counts(dropna=False, normalize=True).cumsum().index[:15]\n",
    "    df['magic_4'] = 0\n",
    "    df.loc[df['AVProductStatesIdentifier'].isin(top_15) == True, 'magic_4'] = 1\n",
    "    \n",
    "    df['Census_OSEdition'] = df['Census_OSEdition'].astype(str)\n",
    "    df['Census_OSEdition'] = df['Census_OSEdition'].apply(rename_edition)\n",
    "    df['Census_OSEdition'] = df['Census_OSEdition'].astype('category')\n",
    "\n",
    "    return df"
   ]
  },
  {
   "cell_type": "code",
   "execution_count": 11,
   "id": "e13a2137-8ec7-4952-8232-43a991696ec3",
   "metadata": {},
   "outputs": [
    {
     "name": "stderr",
     "output_type": "stream",
     "text": [
      "/var/folders/pc/fpkzlwx11y3fw3l831gdm3h40000gn/T/ipykernel_73570/932692738.py:1: FutureWarning: A value is trying to be set on a copy of a DataFrame or Series through chained assignment using an inplace method.\n",
      "The behavior will change in pandas 3.0. This inplace method will never work because the intermediate object on which we are setting values always behaves as a copy.\n",
      "\n",
      "For example, when doing 'df[col].method(value, inplace=True)', try using 'df.method({col: value}, inplace=True)' or df[col] = df[col].method(value) instead, to perform the operation inplace on the original object.\n",
      "\n",
      "\n",
      "  test['SmartScreen'].replace({ '0':'off', '00000000':'off','BLOCK':'Block', 'off':'Off',\n",
      "/var/folders/pc/fpkzlwx11y3fw3l831gdm3h40000gn/T/ipykernel_73570/932692738.py:1: FutureWarning: The behavior of Series.replace (and DataFrame.replace) with CategoricalDtype is deprecated. In a future version, replace will only be used for cases that preserve the categories. To change the categories, use ser.cat.rename_categories instead.\n",
      "  test['SmartScreen'].replace({ '0':'off', '00000000':'off','BLOCK':'Block', 'off':'Off',\n"
     ]
    },
    {
     "name": "stdout",
     "output_type": "stream",
     "text": [
      "Training length: 7853253\n"
     ]
    },
    {
     "name": "stderr",
     "output_type": "stream",
     "text": [
      " 10%|████████▋                                                                              | 3/30 [00:00<00:01, 23.38it/s]"
     ]
    },
    {
     "name": "stdout",
     "output_type": "stream",
     "text": [
      "EngineVersion encoded. Train shape: (7853253, 66)\n"
     ]
    },
    {
     "name": "stderr",
     "output_type": "stream",
     "text": [
      " 20%|█████████████████▍                                                                     | 6/30 [00:00<00:01, 21.52it/s]"
     ]
    },
    {
     "name": "stdout",
     "output_type": "stream",
     "text": [
      "AppVersion encoded. Train shape: (7853253, 66)\n",
      "AvSigVersion encoded. Train shape: (7853253, 66)\n",
      "Processor encoded. Train shape: (7853253, 66)\n"
     ]
    },
    {
     "name": "stderr",
     "output_type": "stream",
     "text": [
      " 30%|██████████████████████████                                                             | 9/30 [00:00<00:01, 20.16it/s]"
     ]
    },
    {
     "name": "stdout",
     "output_type": "stream",
     "text": [
      "OsPlatformSubRelease encoded. Train shape: (7853253, 66)\n",
      "OsBuildLab encoded. Train shape: (7853253, 66)\n"
     ]
    },
    {
     "name": "stderr",
     "output_type": "stream",
     "text": [
      " 40%|██████████████████████████████████▍                                                   | 12/30 [00:00<00:00, 20.67it/s]"
     ]
    },
    {
     "name": "stdout",
     "output_type": "stream",
     "text": [
      "SkuEdition encoded. Train shape: (7853253, 66)\n"
     ]
    },
    {
     "name": "stderr",
     "output_type": "stream",
     "text": [
      " 50%|███████████████████████████████████████████                                           | 15/30 [00:00<00:00, 18.31it/s]"
     ]
    },
    {
     "name": "stdout",
     "output_type": "stream",
     "text": [
      "SmartScreen encoded. Train shape: (7853253, 66)\n",
      "Census_MDC2FormFactor encoded. Train shape: (7853253, 66)\n",
      "Census_PrimaryDiskTypeName encoded. Train shape: (7853253, 66)\n"
     ]
    },
    {
     "name": "stderr",
     "output_type": "stream",
     "text": [
      " 60%|███████████████████████████████████████████████████▌                                  | 18/30 [00:00<00:00, 19.14it/s]"
     ]
    },
    {
     "name": "stdout",
     "output_type": "stream",
     "text": [
      "Census_ChassisTypeName encoded. Train shape: (7853253, 66)\n",
      "Census_PowerPlatformRoleName encoded. Train shape: (7853253, 66)\n"
     ]
    },
    {
     "name": "stderr",
     "output_type": "stream",
     "text": [
      " 70%|████████████████████████████████████████████████████████████▏                         | 21/30 [00:01<00:00, 19.70it/s]"
     ]
    },
    {
     "name": "stdout",
     "output_type": "stream",
     "text": [
      "Census_OSVersion encoded. Train shape: (7853253, 66)\n"
     ]
    },
    {
     "name": "stderr",
     "output_type": "stream",
     "text": [
      " 80%|████████████████████████████████████████████████████████████████████▊                 | 24/30 [00:01<00:00, 19.85it/s]"
     ]
    },
    {
     "name": "stdout",
     "output_type": "stream",
     "text": [
      "Census_OSBranch encoded. Train shape: (7853253, 66)\n",
      "Census_OSEdition encoded. Train shape: (7853253, 66)\n",
      "Census_OSSkuName encoded. Train shape: (7853253, 66)\n"
     ]
    },
    {
     "name": "stderr",
     "output_type": "stream",
     "text": [
      " 90%|█████████████████████████████████████████████████████████████████████████████▍        | 27/30 [00:01<00:00, 17.50it/s]"
     ]
    },
    {
     "name": "stdout",
     "output_type": "stream",
     "text": [
      "Census_OSInstallTypeName encoded. Train shape: (7853253, 66)\n",
      "Census_OSWUAutoUpdateOptionsName encoded. Train shape: (7853253, 66)\n",
      "Census_GenuineStateName encoded. Train shape: (7853253, 66)\n"
     ]
    },
    {
     "name": "stderr",
     "output_type": "stream",
     "text": [
      "100%|██████████████████████████████████████████████████████████████████████████████████████| 30/30 [00:01<00:00, 18.33it/s]"
     ]
    },
    {
     "name": "stdout",
     "output_type": "stream",
     "text": [
      "Census_ActivationChannel encoded. Train shape: (7853253, 66)\n",
      "Census_FlightRing encoded. Train shape: (7853253, 66)\n"
     ]
    },
    {
     "name": "stderr",
     "output_type": "stream",
     "text": [
      "\n"
     ]
    },
    {
     "name": "stdout",
     "output_type": "stream",
     "text": [
      "Mem. usage decreased to 1950.61 Mb (20.5% reduction)\n"
     ]
    }
   ],
   "source": [
    "test['SmartScreen'].replace({ '0':'off', '00000000':'off','BLOCK':'Block', 'off':'Off', \n",
    "                              'on':'On', 'requireadmin' : 'RequireAdmin', 'Enabled' : 'on', \n",
    "                              'OFF' : 'Off', 'Promt' : 'Prompt', 'prompt' : 'Prompt', 'on' : 'On', \n",
    "                              'off' : 'Off', 'warn' : 'RequireAdmin', 'requireAdmin' : 'RequireAdmin', '&#x03;' : '&#x01;'}, inplace=True)\n",
    "\n",
    "\n",
    "test.head()\n",
    "gc.collect()\n",
    "test=add_features(test)\n",
    "test,category_map= encode_categorical_columns(test,  categorical_columns,to_drop=toDrop)\n",
    "test = reduce_mem_usage(test)\n"
   ]
  },
  {
   "cell_type": "code",
   "execution_count": 12,
   "id": "c212e06b-20c7-4774-84e7-e69d2401df4a",
   "metadata": {},
   "outputs": [],
   "source": [
    "# Replace NaNs in other columns\n",
    "for col in test.columns:\n",
    "    if test[col].dtype == 'object':\n",
    "        test[col] = test[col].fillna('NA')\n",
    "    elif test[col].dtype == 'category':\n",
    "        test[col] = test[col].cat.add_categories('NA').fillna('NA')\n",
    "    else:\n",
    "        test[col] = test[col].fillna(-1)"
   ]
  },
  {
   "cell_type": "code",
   "execution_count": 13,
   "id": "00573cf3-0185-49e2-b3a1-330bdc8c0875",
   "metadata": {},
   "outputs": [],
   "source": [
    "columns_to_freq_encode = ['AppVersion','AvSigVersion','Census_OSVersion','EngineVersion','OsBuildLab']\n",
    "\n",
    "with open('/Users/dragonfruit/cs6140-ml-workspace/ML-project/Encoder pickle Files/Kaggle Encodings/freq_encoder_kaggle.pkl', 'rb') as f:\n",
    "    freq_encoder = pickle.load(f)\n",
    "\n",
    "# Then apply to test data\n",
    "test[columns_to_freq_encode] = freq_encoder.transform(test[columns_to_freq_encode])"
   ]
  },
  {
   "cell_type": "code",
   "execution_count": 14,
   "id": "895224cd-d600-4fa8-936c-e5d0ac4a3d59",
   "metadata": {},
   "outputs": [
    {
     "name": "stderr",
     "output_type": "stream",
     "text": [
      "Encoding columns:   0%|                                                                             | 0/28 [00:00<?, ?it/s]"
     ]
    },
    {
     "name": "stdout",
     "output_type": "stream",
     "text": [
      "Column RtpStateBitfield: Processing 9 unique values instead of 7853253 total values\n"
     ]
    },
    {
     "name": "stderr",
     "output_type": "stream",
     "text": [
      "\n",
      "Mapping RtpStateBitfield values: 100%|█████████████████████████████████████████████████████| 9/9 [00:00<00:00, 4147.30it/s]\u001b[A\n",
      "Encoding columns:   7%|████▉                                                                | 2/28 [00:00<00:04,  5.59it/s]"
     ]
    },
    {
     "name": "stdout",
     "output_type": "stream",
     "text": [
      "Column Processor: Processing 3 unique values instead of 7853253 total values\n"
     ]
    },
    {
     "name": "stderr",
     "output_type": "stream",
     "text": [
      "\n",
      "Mapping Processor values: 100%|████████████████████████████████████████████████████████████| 3/3 [00:00<00:00, 3605.42it/s]\u001b[A\n"
     ]
    },
    {
     "name": "stdout",
     "output_type": "stream",
     "text": [
      "Column OsBuild: Processing 78 unique values instead of 7853253 total values\n"
     ]
    },
    {
     "name": "stderr",
     "output_type": "stream",
     "text": [
      "\n",
      "Mapping OsBuild values: 100%|████████████████████████████████████████████████████████████| 78/78 [00:00<00:00, 7917.99it/s]\u001b[A\n",
      "Encoding columns:  21%|██████████████▊                                                      | 6/28 [00:00<00:02,  8.70it/s]"
     ]
    },
    {
     "name": "stdout",
     "output_type": "stream",
     "text": [
      "Column OsSuite: Processing 13 unique values instead of 7853253 total values\n"
     ]
    },
    {
     "name": "stderr",
     "output_type": "stream",
     "text": [
      "\n",
      "Mapping OsSuite values: 100%|████████████████████████████████████████████████████████████| 13/13 [00:00<00:00, 4973.18it/s]\u001b[A\n",
      "Encoding columns:  25%|█████████████████▎                                                   | 7/28 [00:00<00:02,  8.19it/s]"
     ]
    },
    {
     "name": "stdout",
     "output_type": "stream",
     "text": [
      "Column OsPlatformSubRelease: Processing 9 unique values instead of 7853253 total values\n"
     ]
    },
    {
     "name": "stderr",
     "output_type": "stream",
     "text": [
      "\n",
      "Mapping OsPlatformSubRelease values: 100%|█████████████████████████████████████████████████| 9/9 [00:00<00:00, 4235.24it/s]\u001b[A\n",
      "Encoding columns:  29%|███████████████████▋                                                 | 8/28 [00:01<00:02,  7.39it/s]"
     ]
    },
    {
     "name": "stdout",
     "output_type": "stream",
     "text": [
      "Column OsBuildLab: Processing 371 unique values instead of 7853253 total values\n"
     ]
    },
    {
     "name": "stderr",
     "output_type": "stream",
     "text": [
      "\n",
      "Mapping OsBuildLab values: 100%|███████████████████████████████████████████████████████| 371/371 [00:00<00:00, 5961.29it/s]\u001b[A\n",
      "Encoding columns:  32%|██████████████████████▏                                              | 9/28 [00:02<00:08,  2.25it/s]"
     ]
    },
    {
     "name": "stdout",
     "output_type": "stream",
     "text": [
      "Column SkuEdition: Processing 8 unique values instead of 7853253 total values\n"
     ]
    },
    {
     "name": "stderr",
     "output_type": "stream",
     "text": [
      "\n",
      "Mapping SkuEdition values: 100%|███████████████████████████████████████████████████████████| 8/8 [00:00<00:00, 3809.54it/s]\u001b[A\n",
      "Encoding columns:  36%|████████████████████████▎                                           | 10/28 [00:02<00:06,  2.74it/s]"
     ]
    },
    {
     "name": "stdout",
     "output_type": "stream",
     "text": [
      "Column SmartScreen: Processing 16 unique values instead of 7853253 total values\n"
     ]
    },
    {
     "name": "stderr",
     "output_type": "stream",
     "text": [
      "\n",
      "Mapping SmartScreen values: 100%|████████████████████████████████████████████████████████| 16/16 [00:00<00:00, 4479.30it/s]\u001b[A\n",
      "Encoding columns:  43%|█████████████████████████████▏                                      | 12/28 [00:02<00:03,  4.07it/s]"
     ]
    },
    {
     "name": "stdout",
     "output_type": "stream",
     "text": [
      "Column Census_MDC2FormFactor: Processing 14 unique values instead of 7853253 total values\n"
     ]
    },
    {
     "name": "stderr",
     "output_type": "stream",
     "text": [
      "\n",
      "Mapping Census_MDC2FormFactor values: 100%|██████████████████████████████████████████████| 14/14 [00:00<00:00, 5884.97it/s]\u001b[A\n",
      "Encoding columns:  46%|███████████████████████████████▌                                    | 13/28 [00:02<00:03,  4.41it/s]"
     ]
    },
    {
     "name": "stdout",
     "output_type": "stream",
     "text": [
      "Column Census_PrimaryDiskTypeName: Processing 5 unique values instead of 7853253 total values\n"
     ]
    },
    {
     "name": "stderr",
     "output_type": "stream",
     "text": [
      "\n",
      "Mapping Census_PrimaryDiskTypeName values: 100%|███████████████████████████████████████████| 5/5 [00:00<00:00, 3066.01it/s]\u001b[A\n",
      "Encoding columns:  57%|██████████████████████████████████████▊                             | 16/28 [00:03<00:01,  7.27it/s]"
     ]
    },
    {
     "name": "stdout",
     "output_type": "stream",
     "text": [
      "Column Census_ChassisTypeName: Processing 49 unique values instead of 7853253 total values\n"
     ]
    },
    {
     "name": "stderr",
     "output_type": "stream",
     "text": [
      "\n",
      "Mapping Census_ChassisTypeName values: 100%|█████████████████████████████████████████████| 49/49 [00:00<00:00, 5418.57it/s]\u001b[A\n"
     ]
    },
    {
     "name": "stdout",
     "output_type": "stream",
     "text": [
      "Column Census_PowerPlatformRoleName: Processing 11 unique values instead of 7853253 total values\n"
     ]
    },
    {
     "name": "stderr",
     "output_type": "stream",
     "text": [
      "\n",
      "Mapping Census_PowerPlatformRoleName values: 100%|███████████████████████████████████████| 11/11 [00:00<00:00, 3442.06it/s]\u001b[A\n",
      "Encoding columns:  64%|███████████████████████████████████████████▋                        | 18/28 [00:03<00:01,  6.20it/s]"
     ]
    },
    {
     "name": "stdout",
     "output_type": "stream",
     "text": [
      "Column Census_OSBranch: Processing 29 unique values instead of 7853253 total values\n"
     ]
    },
    {
     "name": "stderr",
     "output_type": "stream",
     "text": [
      "\n",
      "Mapping Census_OSBranch values: 100%|████████████████████████████████████████████████████| 29/29 [00:00<00:00, 4231.07it/s]\u001b[A\n",
      "Encoding columns:  75%|███████████████████████████████████████████████████                 | 21/28 [00:03<00:00,  7.97it/s]"
     ]
    },
    {
     "name": "stdout",
     "output_type": "stream",
     "text": [
      "Column Census_OSEdition: Processing 11 unique values instead of 7853253 total values\n"
     ]
    },
    {
     "name": "stderr",
     "output_type": "stream",
     "text": [
      "\n",
      "Mapping Census_OSEdition values: 100%|███████████████████████████████████████████████████| 11/11 [00:00<00:00, 4144.57it/s]\u001b[A\n"
     ]
    },
    {
     "name": "stdout",
     "output_type": "stream",
     "text": [
      "Column Census_OSSkuName: Processing 31 unique values instead of 7853253 total values\n"
     ]
    },
    {
     "name": "stderr",
     "output_type": "stream",
     "text": [
      "\n",
      "Mapping Census_OSSkuName values: 100%|███████████████████████████████████████████████████| 31/31 [00:00<00:00, 5181.45it/s]\u001b[A\n",
      "Encoding columns:  82%|███████████████████████████████████████████████████████▊            | 23/28 [00:04<00:00,  7.03it/s]"
     ]
    },
    {
     "name": "stdout",
     "output_type": "stream",
     "text": [
      "Column Census_OSInstallTypeName: Processing 9 unique values instead of 7853253 total values\n"
     ]
    },
    {
     "name": "stderr",
     "output_type": "stream",
     "text": [
      "\n",
      "Mapping Census_OSInstallTypeName values: 100%|█████████████████████████████████████████████| 9/9 [00:00<00:00, 3413.40it/s]\u001b[A\n",
      "Encoding columns:  86%|██████████████████████████████████████████████████████████▎         | 24/28 [00:04<00:00,  6.59it/s]"
     ]
    },
    {
     "name": "stdout",
     "output_type": "stream",
     "text": [
      "Column Census_OSWUAutoUpdateOptionsName: Processing 6 unique values instead of 7853253 total values\n"
     ]
    },
    {
     "name": "stderr",
     "output_type": "stream",
     "text": [
      "\n",
      "Mapping Census_OSWUAutoUpdateOptionsName values: 100%|█████████████████████████████████████| 6/6 [00:00<00:00, 5058.46it/s]\u001b[A\n",
      "Encoding columns:  89%|████████████████████████████████████████████████████████████▋       | 25/28 [00:04<00:00,  6.50it/s]"
     ]
    },
    {
     "name": "stdout",
     "output_type": "stream",
     "text": [
      "Column Census_GenuineStateName: Processing 6 unique values instead of 7853253 total values\n"
     ]
    },
    {
     "name": "stderr",
     "output_type": "stream",
     "text": [
      "\n",
      "Mapping Census_GenuineStateName values: 100%|██████████████████████████████████████████████| 6/6 [00:00<00:00, 4958.78it/s]\u001b[A\n",
      "Encoding columns:  93%|███████████████████████████████████████████████████████████████▏    | 26/28 [00:04<00:00,  6.98it/s]"
     ]
    },
    {
     "name": "stdout",
     "output_type": "stream",
     "text": [
      "Column Census_ActivationChannel: Processing 6 unique values instead of 7853253 total values\n"
     ]
    },
    {
     "name": "stderr",
     "output_type": "stream",
     "text": [
      "\n",
      "Mapping Census_ActivationChannel values: 100%|█████████████████████████████████████████████| 6/6 [00:00<00:00, 5263.72it/s]\u001b[A\n",
      "Encoding columns:  96%|█████████████████████████████████████████████████████████████████▌  | 27/28 [00:04<00:00,  6.81it/s]"
     ]
    },
    {
     "name": "stdout",
     "output_type": "stream",
     "text": [
      "Column Census_FlightRing: Processing 11 unique values instead of 7853253 total values\n"
     ]
    },
    {
     "name": "stderr",
     "output_type": "stream",
     "text": [
      "\n",
      "Mapping Census_FlightRing values: 100%|██████████████████████████████████████████████████| 11/11 [00:00<00:00, 5854.99it/s]\u001b[A\n",
      "Encoding columns: 100%|████████████████████████████████████████████████████████████████████| 28/28 [00:04<00:00,  5.84it/s]\n"
     ]
    }
   ],
   "source": [
    "from tqdm import tqdm\n",
    "import pickle\n",
    "import numpy as np\n",
    "import pandas as pd\n",
    "\n",
    "columns_for_LE = ['ProductName','RtpStateBitfield','Platform','Processor','OsVer','OsBuild','OsSuite',\n",
    "                   'OsPlatformSubRelease','OsBuildLab','SkuEdition','PuaMode','SmartScreen','Census_MDC2FormFactor',\n",
    "                  'Census_DeviceFamily','Census_ProcessorClass','Census_PrimaryDiskTypeName','Census_ChassisTypeName',\n",
    "                  'Census_PowerPlatformRoleName','Census_InternalBatteryType','Census_OSArchitecture',\n",
    "                  'Census_OSBranch','Census_OSEdition','Census_OSSkuName','Census_OSInstallTypeName',\n",
    "                  'Census_OSWUAutoUpdateOptionsName','Census_GenuineStateName','Census_ActivationChannel',\n",
    "                  'Census_FlightRing']\n",
    "\n",
    "with open('/Users/dragonfruit/cs6140-ml-workspace/ML-project/Encoder pickle Files/Kaggle Encodings/label_encoders_kaggle.pkl', 'rb') as f:\n",
    "    label_encoders = pickle.load(f)\n",
    "\n",
    "# Process each column\n",
    "for col in tqdm(columns_for_LE, desc=\"Encoding columns\"):\n",
    "    if col not in test.columns:\n",
    "        continue\n",
    "    \n",
    "    le = label_encoders[col]\n",
    "    \n",
    "    # Process in batches for memory efficiency\n",
    "    # First, get unique values (dramatically reduces processing time)\n",
    "    unique_vals = test[col].unique()\n",
    "    print(f\"Column {col}: Processing {len(unique_vals)} unique values instead of {len(test[col])} total values\")\n",
    "    \n",
    "    # Create mapping dictionary for unique values\n",
    "    mapping = {}\n",
    "    for val in tqdm(unique_vals, desc=f\"Mapping {col} values\"):\n",
    "        try:\n",
    "            mapping[val] = le.transform([val])[0]\n",
    "        except ValueError:\n",
    "            mapping[val] = -1\n",
    "    \n",
    "    # Create a new array filled with default values\n",
    "    result = np.full(len(test), -1, dtype=np.int32)\n",
    "    \n",
    "    # Apply mapping using numpy for speed\n",
    "    for key, encoded_val in mapping.items():\n",
    "        # Find all instances of this value and set them at once\n",
    "        result[test[col] == key] = encoded_val\n",
    "    \n",
    "    # Assign processed values back to dataframe\n",
    "    test[col] = result"
   ]
  },
  {
   "cell_type": "code",
   "execution_count": 15,
   "id": "ec5e8b02-bfd8-4370-b141-4113cf07c673",
   "metadata": {},
   "outputs": [],
   "source": [
    "# Convert float64 and object columns to float32\n",
    "for col in test.columns:\n",
    "    if test[col].dtype == 'float64':\n",
    "        test[col] = test[col].astype('float32')\n",
    "    elif test[col].dtype == 'object':\n",
    "        test[col] = test[col].astype('float32')"
   ]
  },
  {
   "cell_type": "code",
   "execution_count": 16,
   "id": "dacae816-7bee-44d2-a1cd-9e4461824677",
   "metadata": {},
   "outputs": [],
   "source": [
    "# Load the scaler from the pickle file\n",
    "with open('/Users/dragonfruit/cs6140-ml-workspace/ML-project/Encoder pickle Files/Kaggle Encodings/scaler_kaggle.pkl', 'rb') as f:\n",
    "    scaler = pickle.load(f)\n",
    "\n",
    "y = test['MachineIdentifier']\n",
    "test = test.drop(columns=['MachineIdentifier'])\n",
    "\n",
    "test.replace([np.inf, -np.inf], -1, inplace=True)\n",
    "scaled_test = scaler.transform(test)"
   ]
  },
  {
   "cell_type": "code",
   "execution_count": 17,
   "id": "7d9fa6c7-ee7a-4b1b-9adb-46af6d0c5f3a",
   "metadata": {},
   "outputs": [
    {
     "name": "stdout",
     "output_type": "stream",
     "text": [
      "Memory usage after optimization: 2901.77 MB\n"
     ]
    }
   ],
   "source": [
    "test_data = pd.DataFrame(scaled_test, columns=test.columns)\n",
    "\n",
    "\n",
    "def optimize_dataframe(df):\n",
    "    for col in df.columns:\n",
    "        col_data = df[col]\n",
    "        \n",
    "        # Skip non-numeric columns\n",
    "        if not np.issubdtype(col_data.dtype, np.number):\n",
    "            continue\n",
    "\n",
    "        # Check if all values are integers (i.e., no decimal part)\n",
    "        if np.all(col_data.dropna() == col_data.dropna().astype(int)):\n",
    "            df[col] = pd.to_numeric(col_data, downcast=\"integer\")\n",
    "        else:\n",
    "            df[col] = pd.to_numeric(col_data, downcast=\"float\")\n",
    "    \n",
    "    return df\n",
    "\n",
    "# Apply optimization\n",
    "test_data = optimize_dataframe(test_data)\n",
    "\n",
    "# Add Machine Identifier back\n",
    "test_data['MachineIdentifier'] = y\n",
    "\n",
    "# Check memory usage before and after\n",
    "print(f\"Memory usage after optimization: {test_data.memory_usage(deep=True).sum() / 1024**2:.2f} MB\")"
   ]
  },
  {
   "cell_type": "code",
   "execution_count": 18,
   "id": "5452ecee-9adb-40b7-ad26-6d6c4da61893",
   "metadata": {},
   "outputs": [],
   "source": [
    "#test loader on X\n",
    "import torch\n",
    "import torch.nn as nn\n",
    "import torch.optim as optim\n",
    "from torch.utils.data import DataLoader, TensorDataset\n",
    "\n",
    "X=test_data.drop(columns=['MachineIdentifier'])\n",
    "y = test_data['MachineIdentifier']\n",
    "\n",
    "X_test_tensor = torch.tensor(X.values, dtype=torch.float32)\n",
    "test_dataset = TensorDataset(X_test_tensor)\n",
    "batch_size = 2048\n",
    "test_loader = DataLoader(test_dataset, batch_size=batch_size, shuffle=False)"
   ]
  },
  {
   "cell_type": "code",
   "execution_count": 19,
   "id": "03365c55-ba6f-47e4-947d-eac7b7d3d77d",
   "metadata": {},
   "outputs": [],
   "source": [
    "class MLP(nn.Module):\n",
    "    def __init__(self, input_size):\n",
    "        super(MLP, self).__init__()\n",
    "        \n",
    "        self.model = nn.Sequential(\n",
    "            nn.Linear(input_size, 256), \n",
    "            nn.BatchNorm1d(256),\n",
    "            nn.ReLU(),\n",
    "            nn.Dropout(0.3),                            \n",
    "            \n",
    "            nn.Linear(256, 128),\n",
    "            nn.BatchNorm1d(128),\n",
    "            nn.ReLU(),\n",
    "            nn.Dropout(0.3),\n",
    "\n",
    "            nn.Linear(128, 64),\n",
    "            nn.BatchNorm1d(64),\n",
    "            nn.ReLU(),\n",
    "            nn.Dropout(0.3),\n",
    "\n",
    "            nn.Linear(64, 1) \n",
    "        )\n",
    "\n",
    "    def forward(self, x):\n",
    "        return self.model(x)"
   ]
  },
  {
   "cell_type": "code",
   "execution_count": 20,
   "id": "b4b55137-3cc8-4462-af5f-d96258469844",
   "metadata": {},
   "outputs": [],
   "source": [
    "model_dir = \"/Users/dragonfruit/cs6140-ml-workspace/ML-project/Saved Models/simplenn_kaggle_encodings.pth\"\n",
    "model = MLP(X_test_tensor.shape[1])\n",
    "\n",
    "# Add map_location parameter to handle CUDA-saved model\n",
    "model.load_state_dict(torch.load(model_dir, map_location=torch.device('cpu')))\n",
    "\n",
    "# Check if MPS is available\n",
    "if torch.backends.mps.is_available():\n",
    "    device = torch.device(\"mps\")\n",
    "    model = model.to(device)\n",
    "    # Make sure your input data is also on the same device\n",
    "    X_test_tensor = X_test_tensor.to(device)\n",
    "else:\n",
    "    device = torch.device(\"cpu\")\n",
    "    model = model.to(device)"
   ]
  },
  {
   "cell_type": "code",
   "execution_count": 21,
   "id": "5605a926-08aa-44fc-873e-74c3fd9eac4c",
   "metadata": {},
   "outputs": [
    {
     "name": "stderr",
     "output_type": "stream",
     "text": [
      "100%|██████████████████████████████████████████████████████████████████████████████████| 3835/3835 [00:49<00:00, 77.89it/s]\n"
     ]
    }
   ],
   "source": [
    "model.eval()\n",
    "\n",
    "predictions = []\n",
    "with torch.no_grad():\n",
    "    for data in tqdm(test_loader):\n",
    "        # Move inputs to MPS device\n",
    "        inputs = data[0].to(device)\n",
    "        \n",
    "        # Run inference on MPS\n",
    "        outputs = model(inputs)\n",
    "        \n",
    "        # Apply sigmoid to convert logits to probabilities\n",
    "        probs = torch.sigmoid(outputs)\n",
    "        \n",
    "        # Move probabilities back to CPU and convert to numpy\n",
    "        predictions.append(probs.cpu().numpy())\n",
    "\n",
    "predictions = np.concatenate(predictions)\n",
    "probs = predictions.flatten()"
   ]
  },
  {
   "cell_type": "code",
   "execution_count": 23,
   "id": "0a11f951-db36-4723-97e5-c85f32557f7d",
   "metadata": {},
   "outputs": [],
   "source": [
    "submission = pd.DataFrame(\n",
    "    {'MachineIdentifier': y, 'HasDetections': probs})\n",
    "submission.to_csv('./submissions/hl_2_advanced_encodings_submission.csv', index=False)"
   ]
  },
  {
   "cell_type": "code",
   "execution_count": 24,
   "id": "ab61caa4-5c32-4079-bfab-7d8bd716a2bf",
   "metadata": {},
   "outputs": [],
   "source": [
    "pca_features=['Census_OSInstallLanguageIdentifier', 'OsPlatformSubRelease', 'Census_InternalPrimaryDisplayResolutionHorizontal', 'dpi', 'Census_InternalPrimaryDisplayResolutionVertical', 'CountryIdentifier', 'IsSxsPassiveMode', 'RtpStateBitfield', 'OrganizationIdentifier', 'CityIdentifier', 'GeoNameIdentifier', 'Census_InternalBatteryNumberOfCharges', 'AvSigVersion', 'Census_HasOpticalDiskDrive', 'Census_ChassisTypeName', 'Census_OSBranch', 'Screen_Area', 'Census_GenuineStateName', 'Census_OSBuildRevision', 'Census_IsVirtualDevice', 'magic_4', 'LocaleEnglishNameIdentifier', 'Census_FirmwareVersionIdentifier', 'Census_OEMModelIdentifier', 'Census_MDC2FormFactor', 'Census_OSWUAutoUpdateOptionsName', 'Wdft_RegionIdentifier', 'AppVersion', 'Wdft_IsGamer', 'Firewall', 'Census_ProcessorModelIdentifier', 'Census_TotalPhysicalRAM', 'Census_FlightRing', 'IeVerIdentifier', 'Census_OEMNameIdentifier', 'DefaultBrowsersIdentifier', 'primary_drive_c_ratio', 'Census_PowerPlatformRoleName', 'Census_ProcessorCoreCount', 'Census_FirmwareManufacturerIdentifier', 'AVProductStatesIdentifier', 'SmartScreen', 'Census_OSInstallTypeName', 'Census_OSVersion', 'EngineVersion', 'aspect_ratio', 'IsProtected', 'AVProductsEnabled', 'Census_IsSecureBootEnabled', 'OsBuildLab', 'Processor', 'Census_ActivationChannel', 'OsBuild', 'Census_SystemVolumeTotalCapacity', 'Census_PrimaryDiskTypeName']\n",
    "\n",
    "X_test_tensor = torch.tensor(X[pca_features].values, dtype=torch.float32)\n",
    "test_dataset = TensorDataset(X_test_tensor)\n",
    "batch_size = 2048\n",
    "test_loader = DataLoader(test_dataset, batch_size=batch_size, shuffle=False)\n",
    "\n",
    "model_dir = \"/Users/dragonfruit/cs6140-ml-workspace/ML-project/Saved Models/simplenn_kaggle_encodings_pca.pth\"\n",
    "model = MLP(X_test_tensor.shape[1])\n",
    "\n",
    "# Add map_location parameter to handle CUDA-saved model\n",
    "model.load_state_dict(torch.load(model_dir, map_location=torch.device('cpu')))\n",
    "\n",
    "# Check if MPS is available\n",
    "if torch.backends.mps.is_available():\n",
    "    device = torch.device(\"mps\")\n",
    "    model = model.to(device)\n",
    "    # Make sure your input data is also on the same device\n",
    "    X_test_tensor = X_test_tensor.to(device)\n",
    "else:\n",
    "    device = torch.device(\"cpu\")\n",
    "    model = model.to(device)"
   ]
  },
  {
   "cell_type": "code",
   "execution_count": 25,
   "id": "7845b78e-a77c-4b44-b8dc-ca451b98eeea",
   "metadata": {},
   "outputs": [
    {
     "name": "stderr",
     "output_type": "stream",
     "text": [
      "100%|██████████████████████████████████████████████████████████████████████████████████| 3835/3835 [00:47<00:00, 79.98it/s]\n"
     ]
    }
   ],
   "source": [
    "model.eval()\n",
    "\n",
    "predictions = []\n",
    "with torch.no_grad():\n",
    "    for data in tqdm(test_loader):\n",
    "        # Move inputs to MPS device\n",
    "        inputs = data[0].to(device)\n",
    "        \n",
    "        # Run inference on MPS\n",
    "        outputs = model(inputs)\n",
    "        \n",
    "        # Apply sigmoid to convert logits to probabilities\n",
    "        probs = torch.sigmoid(outputs)\n",
    "        \n",
    "        # Move probabilities back to CPU and convert to numpy\n",
    "        predictions.append(probs.cpu().numpy())\n",
    "\n",
    "predictions = np.concatenate(predictions)\n",
    "probs = predictions.flatten()"
   ]
  },
  {
   "cell_type": "code",
   "execution_count": 26,
   "id": "d1cedbbc-23f5-4bae-aad1-e1a9b7c5b4da",
   "metadata": {},
   "outputs": [],
   "source": [
    "submission = pd.DataFrame(\n",
    "    {'MachineIdentifier': y, 'HasDetections': probs})\n",
    "submission.to_csv('./submissions/hl_2_advanced_encodings_pca_submission.csv', index=False)"
   ]
  },
  {
   "cell_type": "code",
   "execution_count": 27,
   "id": "f7ecf22b-1471-4841-acd4-f3035a09dcc7",
   "metadata": {},
   "outputs": [],
   "source": [
    "lda_features=[\n",
    "    'Firewall', 'Census_OEMModelIdentifier', 'Census_FirmwareManufacturerIdentifier', 'Census_OEMNameIdentifier',\n",
    "    'IeVerIdentifier', 'Census_PrimaryDiskTypeName', 'IsSxsPassiveMode', 'OsBuildLab', 'AVProductsEnabled',\n",
    "    'Census_InternalPrimaryDisplayResolutionVertical', 'Screen_Area', 'Census_MDC2FormFactor',\n",
    "    'Wdft_RegionIdentifier', 'AppVersion', 'AvSigVersion', 'Census_ProcessorModelIdentifier',\n",
    "    'Census_ProcessorCoreCount', 'Census_FlightRing', 'Census_ActivationChannel', 'Census_SystemVolumeTotalCapacity',\n",
    "    'Census_OSInstallLanguageIdentifier', 'aspect_ratio', 'RtpStateBitfield', 'Census_IsSecureBootEnabled',\n",
    "    'Census_GenuineStateName', 'OsSuite', 'LocaleEnglishNameIdentifier', 'OsPlatformSubRelease',\n",
    "    'Census_TotalPhysicalRAM', 'Census_PowerPlatformRoleName', 'magic_4', 'Census_OSUILocaleIdentifier',\n",
    "    'Census_HasOpticalDiskDrive', 'DefaultBrowsersIdentifier', 'Census_InternalPrimaryDiagonalDisplaySizeInInches',\n",
    "    'Census_OSBranch', 'Census_OSVersion', 'AVProductsInstalled_slim', 'OsBuild',\n",
    "    'Census_InternalBatteryNumberOfCharges', 'Wdft_IsGamer', 'Census_OSInstallTypeName', 'SkuEdition',\n",
    "    'IsProtected', 'Census_IsVirtualDevice', 'primary_drive_c_ratio', 'Processor',\n",
    "    'Census_InternalPrimaryDisplayResolutionHorizontal', 'SmartScreen', 'AVProductStatesIdentifier',\n",
    "    'EngineVersion', 'dpi', 'AVProductsInstalled', 'Census_OSSkuName', 'Census_OSEdition'\n",
    "]\n",
    "\n",
    "X_test_tensor = torch.tensor(X[lda_features].values, dtype=torch.float32)\n",
    "test_dataset = TensorDataset(X_test_tensor)\n",
    "batch_size = 2048\n",
    "test_loader = DataLoader(test_dataset, batch_size=batch_size, shuffle=False)\n",
    "\n",
    "model_dir = \"/Users/dragonfruit/cs6140-ml-workspace/ML-project/Saved Models/lda_fs_model.pth\"\n",
    "model = MLP(X_test_tensor.shape[1])\n",
    "\n",
    "# Add map_location parameter to handle CUDA-saved model\n",
    "model.load_state_dict(torch.load(model_dir, map_location=torch.device('cpu')))\n",
    "\n",
    "# Check if MPS is available\n",
    "if torch.backends.mps.is_available():\n",
    "    device = torch.device(\"mps\")\n",
    "    model = model.to(device)\n",
    "    # Make sure your input data is also on the same device\n",
    "    X_test_tensor = X_test_tensor.to(device)\n",
    "else:\n",
    "    device = torch.device(\"cpu\")\n",
    "    model = model.to(device)"
   ]
  },
  {
   "cell_type": "code",
   "execution_count": 28,
   "id": "e9645896-7f88-4f53-848a-460122e606ce",
   "metadata": {},
   "outputs": [
    {
     "name": "stderr",
     "output_type": "stream",
     "text": [
      "100%|██████████████████████████████████████████████████████████████████████████████████| 3835/3835 [00:46<00:00, 82.72it/s]\n"
     ]
    }
   ],
   "source": [
    "model.eval()\n",
    "\n",
    "predictions = []\n",
    "with torch.no_grad():\n",
    "    for data in tqdm(test_loader):\n",
    "        # Move inputs to MPS device\n",
    "        inputs = data[0].to(device)\n",
    "        \n",
    "        # Run inference on MPS\n",
    "        outputs = model(inputs)\n",
    "        \n",
    "        # Apply sigmoid to convert logits to probabilities\n",
    "        probs = torch.sigmoid(outputs)\n",
    "        \n",
    "        # Move probabilities back to CPU and convert to numpy\n",
    "        predictions.append(probs.cpu().numpy())\n",
    "\n",
    "predictions = np.concatenate(predictions)\n",
    "probs = predictions.flatten()"
   ]
  },
  {
   "cell_type": "code",
   "execution_count": 29,
   "id": "a55d161e-8643-43d9-be13-cdda15034230",
   "metadata": {},
   "outputs": [],
   "source": [
    "submission = pd.DataFrame(\n",
    "    {'MachineIdentifier': y, 'HasDetections': probs})\n",
    "submission.to_csv('./submissions/hl_2_advanced_encodings_lda_submission.csv', index=False)"
   ]
  },
  {
   "cell_type": "code",
   "execution_count": 30,
   "id": "7e0aaf5d-e16e-424e-90db-5810b66e55ec",
   "metadata": {},
   "outputs": [],
   "source": [
    "# Define model architecture (same as yours)\n",
    "class BinaryClassifier(nn.Module):\n",
    "    def __init__(self, input_dim):\n",
    "        super(BinaryClassifier, self).__init__()\n",
    "        self.layers = nn.Sequential(\n",
    "            nn.Linear(input_dim, 512),\n",
    "            nn.ReLU(),\n",
    "            nn.BatchNorm1d(512),\n",
    "            nn.Dropout(0.3),\n",
    "\n",
    "            nn.Linear(512, 256),\n",
    "            nn.ReLU(),\n",
    "            nn.BatchNorm1d(256),\n",
    "            nn.Dropout(0.3),\n",
    "\n",
    "            nn.Linear(256, 128),\n",
    "            nn.ReLU(),\n",
    "            nn.BatchNorm1d(128),\n",
    "            nn.Dropout(0.4),\n",
    "\n",
    "            nn.Linear(128, 64),\n",
    "            nn.ReLU(),\n",
    "            nn.BatchNorm1d(64),\n",
    "            nn.Dropout(0.4),\n",
    "\n",
    "            nn.Linear(64, 1)\n",
    "        )\n",
    "\n",
    "    def forward(self, x):\n",
    "        return self.layers(x)"
   ]
  },
  {
   "cell_type": "code",
   "execution_count": 31,
   "id": "ec80833e-ef54-426a-a73e-71cf099c4283",
   "metadata": {},
   "outputs": [],
   "source": [
    "X_test_tensor = torch.tensor(X.values, dtype=torch.float32)\n",
    "test_dataset = TensorDataset(X_test_tensor)\n",
    "batch_size = 2048\n",
    "test_loader = DataLoader(test_dataset, batch_size=batch_size, shuffle=False)\n",
    "\n",
    "model_dir = \"/Users/dragonfruit/cs6140-ml-workspace/ML-project/pytorch-models/deepernn_kaggle_encodings.pth\"\n",
    "model = BinaryClassifier(X_test_tensor.shape[1])\n",
    "\n",
    "# Add map_location parameter to handle CUDA-saved model\n",
    "model.load_state_dict(torch.load(model_dir, map_location=torch.device('cpu')))\n",
    "\n",
    "# Check if MPS is available\n",
    "if torch.backends.mps.is_available():\n",
    "    device = torch.device(\"mps\")\n",
    "    model = model.to(device)\n",
    "    # Make sure your input data is also on the same device\n",
    "    X_test_tensor = X_test_tensor.to(device)\n",
    "else:\n",
    "    device = torch.device(\"cpu\")\n",
    "    model = model.to(device)"
   ]
  },
  {
   "cell_type": "code",
   "execution_count": 32,
   "id": "ab79d9e1-fdcb-4a75-b9f5-113b82944ffb",
   "metadata": {},
   "outputs": [
    {
     "name": "stderr",
     "output_type": "stream",
     "text": [
      "100%|██████████████████████████████████████████████████████████████████████████████████| 3835/3835 [00:50<00:00, 76.02it/s]\n"
     ]
    }
   ],
   "source": [
    "model.eval()\n",
    "\n",
    "predictions = []\n",
    "with torch.no_grad():\n",
    "    for data in tqdm(test_loader):\n",
    "        # Move inputs to MPS device\n",
    "        inputs = data[0].to(device)\n",
    "        \n",
    "        # Run inference on MPS\n",
    "        outputs = model(inputs)\n",
    "        \n",
    "        # Apply sigmoid to convert logits to probabilities\n",
    "        probs = torch.sigmoid(outputs)\n",
    "        \n",
    "        # Move probabilities back to CPU and convert to numpy\n",
    "        predictions.append(probs.cpu().numpy())\n",
    "\n",
    "predictions = np.concatenate(predictions)\n",
    "probs = predictions.flatten()"
   ]
  },
  {
   "cell_type": "code",
   "execution_count": 33,
   "id": "c5ae73d7-5110-44af-9a51-3a4e880aabf0",
   "metadata": {},
   "outputs": [],
   "source": [
    "submission = pd.DataFrame(\n",
    "    {'MachineIdentifier': y, 'HasDetections': probs})\n",
    "submission.to_csv('./submissions/hl_3_advanced_encodings_submission.csv', index=False)"
   ]
  },
  {
   "cell_type": "code",
   "execution_count": 35,
   "id": "7b6abdd0-0860-468d-9b2f-67f897c21217",
   "metadata": {},
   "outputs": [],
   "source": [
    "pca_features = [\n",
    "    'Census_OSInstallLanguageIdentifier', \n",
    "    'OsPlatformSubRelease', \n",
    "    'Census_InternalPrimaryDisplayResolutionHorizontal', \n",
    "    'dpi', \n",
    "    'Census_InternalPrimaryDisplayResolutionVertical', \n",
    "    'CountryIdentifier', \n",
    "    'IsSxsPassiveMode', \n",
    "    'RtpStateBitfield', \n",
    "    'OrganizationIdentifier', \n",
    "    'CityIdentifier', \n",
    "    'GeoNameIdentifier', \n",
    "    'Census_InternalBatteryNumberOfCharges', \n",
    "    'AvSigVersion', \n",
    "    'Census_HasOpticalDiskDrive', \n",
    "    'Census_ChassisTypeName', \n",
    "    'Census_OSBranch', \n",
    "    'Screen_Area', \n",
    "    'Census_GenuineStateName', \n",
    "    'Census_OSBuildRevision', \n",
    "    'Census_IsVirtualDevice', \n",
    "    'magic_4', \n",
    "    'LocaleEnglishNameIdentifier', \n",
    "    'Census_FirmwareVersionIdentifier', \n",
    "    'Census_OEMModelIdentifier', \n",
    "    'Census_MDC2FormFactor', \n",
    "    'Census_OSWUAutoUpdateOptionsName', \n",
    "    'Wdft_RegionIdentifier', \n",
    "    'AppVersion', \n",
    "    'Wdft_IsGamer', \n",
    "    'Firewall', \n",
    "    'Census_ProcessorModelIdentifier', \n",
    "    'Census_TotalPhysicalRAM', \n",
    "    'Census_FlightRing', \n",
    "    'IeVerIdentifier', \n",
    "    'Census_OEMNameIdentifier', \n",
    "    'DefaultBrowsersIdentifier', \n",
    "    'primary_drive_c_ratio', \n",
    "    'Census_PowerPlatformRoleName', \n",
    "    'Census_ProcessorCoreCount', \n",
    "    'Census_FirmwareManufacturerIdentifier', \n",
    "    'AVProductStatesIdentifier', \n",
    "    'SmartScreen', \n",
    "    'Census_OSInstallTypeName',\n",
    "    'Census_OSVersion', \n",
    "    'EngineVersion', \n",
    "    'aspect_ratio', \n",
    "    'IsProtected', \n",
    "    'AVProductsEnabled', \n",
    "    'Census_IsSecureBootEnabled', \n",
    "    'OsBuildLab', \n",
    "    'Processor', \n",
    "    'Census_ActivationChannel', \n",
    "    'OsBuild', \n",
    "    'Census_SystemVolumeTotalCapacity', \n",
    "    'Census_PrimaryDiskTypeName'\n",
    "]\n",
    "\n",
    "X_test_tensor = torch.tensor(X[pca_features].values, dtype=torch.float32)\n",
    "test_dataset = TensorDataset(X_test_tensor)\n",
    "batch_size = 2048\n",
    "test_loader = DataLoader(test_dataset, batch_size=batch_size, shuffle=False)\n",
    "\n",
    "model_dir = \"/Users/dragonfruit/cs6140-ml-workspace/ML-project/pytorch-models/deepernn_kaggle_encodings_pca.pth\"\n",
    "model = BinaryClassifier(X_test_tensor.shape[1])\n",
    "\n",
    "# Add map_location parameter to handle CUDA-saved model\n",
    "model.load_state_dict(torch.load(model_dir, map_location=torch.device('cpu')))\n",
    "\n",
    "# Check if MPS is available\n",
    "if torch.backends.mps.is_available():\n",
    "    device = torch.device(\"mps\")\n",
    "    model = model.to(device)\n",
    "    # Make sure your input data is also on the same device\n",
    "    X_test_tensor = X_test_tensor.to(device)\n",
    "else:\n",
    "    device = torch.device(\"cpu\")\n",
    "    model = model.to(device)"
   ]
  },
  {
   "cell_type": "code",
   "execution_count": 36,
   "id": "7430b0f2-e1e8-4f02-a010-3d6a047caeb5",
   "metadata": {},
   "outputs": [
    {
     "name": "stderr",
     "output_type": "stream",
     "text": [
      "100%|██████████████████████████████████████████████████████████████████████████████████| 3835/3835 [00:48<00:00, 79.30it/s]\n"
     ]
    }
   ],
   "source": [
    "model.eval()\n",
    "\n",
    "predictions = []\n",
    "with torch.no_grad():\n",
    "    for data in tqdm(test_loader):\n",
    "        # Move inputs to MPS device\n",
    "        inputs = data[0].to(device)\n",
    "        \n",
    "        # Run inference on MPS\n",
    "        outputs = model(inputs)\n",
    "        \n",
    "        # Apply sigmoid to convert logits to probabilities\n",
    "        probs = torch.sigmoid(outputs)\n",
    "        \n",
    "        # Move probabilities back to CPU and convert to numpy\n",
    "        predictions.append(probs.cpu().numpy())\n",
    "\n",
    "predictions = np.concatenate(predictions)\n",
    "probs = predictions.flatten()"
   ]
  },
  {
   "cell_type": "code",
   "execution_count": 37,
   "id": "32770461-1e85-42fa-84c8-151bad262f05",
   "metadata": {},
   "outputs": [],
   "source": [
    "submission = pd.DataFrame(\n",
    "    {'MachineIdentifier': y, 'HasDetections': probs})\n",
    "submission.to_csv('./submissions/hl_3_advanced_encodings_pca_submission.csv', index=False)"
   ]
  },
  {
   "cell_type": "code",
   "execution_count": 38,
   "id": "039c8469-b0f5-44ff-a9b6-79a5da44964b",
   "metadata": {},
   "outputs": [],
   "source": [
    "lda_features = [\n",
    "    'Firewall', \n",
    "    'Census_OEMModelIdentifier', \n",
    "    'Census_FirmwareManufacturerIdentifier', \n",
    "    'Census_OEMNameIdentifier', \n",
    "    'IeVerIdentifier', \n",
    "    'Census_PrimaryDiskTypeName', \n",
    "    'IsSxsPassiveMode', \n",
    "    'OsBuildLab', \n",
    "    'AVProductsEnabled', \n",
    "    'Census_InternalPrimaryDisplayResolutionVertical', \n",
    "    'Screen_Area', \n",
    "    'Census_MDC2FormFactor', \n",
    "    'Wdft_RegionIdentifier', \n",
    "    'AppVersion', \n",
    "    'AvSigVersion', \n",
    "    'Census_ProcessorModelIdentifier', \n",
    "    'Census_ProcessorCoreCount', \n",
    "    'Census_FlightRing', \n",
    "    'Census_ActivationChannel', \n",
    "    'Census_SystemVolumeTotalCapacity', \n",
    "    'Census_OSInstallLanguageIdentifier', \n",
    "    'aspect_ratio', \n",
    "    'RtpStateBitfield', \n",
    "    'Census_IsSecureBootEnabled', \n",
    "    'Census_GenuineStateName', \n",
    "    'OsSuite', \n",
    "    'LocaleEnglishNameIdentifier', \n",
    "    'OsPlatformSubRelease', \n",
    "    'Census_TotalPhysicalRAM', \n",
    "    'Census_PowerPlatformRoleName', \n",
    "    'magic_4', \n",
    "    'Census_OSUILocaleIdentifier', \n",
    "    'Census_HasOpticalDiskDrive', \n",
    "    'DefaultBrowsersIdentifier', \n",
    "    'Census_InternalPrimaryDiagonalDisplaySizeInInches', \n",
    "    'Census_OSBranch', \n",
    "    'Census_OSVersion', \n",
    "    'AVProductsInstalled_slim', \n",
    "    'OsBuild', \n",
    "    'Census_InternalBatteryNumberOfCharges', \n",
    "    'Wdft_IsGamer', \n",
    "    'Census_OSInstallTypeName', \n",
    "    'SkuEdition', \n",
    "    'IsProtected', \n",
    "    'Census_IsVirtualDevice', \n",
    "    'primary_drive_c_ratio', \n",
    "    'Processor', \n",
    "    'Census_InternalPrimaryDisplayResolutionHorizontal', \n",
    "    'SmartScreen', \n",
    "    'AVProductStatesIdentifier', \n",
    "    'EngineVersion', \n",
    "    'dpi', \n",
    "    'AVProductsInstalled', \n",
    "    'Census_OSSkuName', \n",
    "    'Census_OSEdition'\n",
    "]\n",
    "\n",
    "X_test_tensor = torch.tensor(X[lda_features].values, dtype=torch.float32)\n",
    "test_dataset = TensorDataset(X_test_tensor)\n",
    "batch_size = 2048\n",
    "test_loader = DataLoader(test_dataset, batch_size=batch_size, shuffle=False)\n",
    "\n",
    "model_dir = \"/Users/dragonfruit/cs6140-ml-workspace/ML-project/pytorch-models/deepernn_kaggle_encodings_lda.pth\"\n",
    "model = BinaryClassifier(X_test_tensor.shape[1])\n",
    "\n",
    "# Add map_location parameter to handle CUDA-saved model\n",
    "model.load_state_dict(torch.load(model_dir, map_location=torch.device('cpu')))\n",
    "\n",
    "# Check if MPS is available\n",
    "if torch.backends.mps.is_available():\n",
    "    device = torch.device(\"mps\")\n",
    "    model = model.to(device)\n",
    "    # Make sure your input data is also on the same device\n",
    "    X_test_tensor = X_test_tensor.to(device)\n",
    "else:\n",
    "    device = torch.device(\"cpu\")\n",
    "    model = model.to(device)"
   ]
  },
  {
   "cell_type": "code",
   "execution_count": 39,
   "id": "6ab0dbb1-0ed3-443f-9a82-ba94f8b67290",
   "metadata": {},
   "outputs": [
    {
     "name": "stderr",
     "output_type": "stream",
     "text": [
      "100%|██████████████████████████████████████████████████████████████████████████████████| 3835/3835 [00:52<00:00, 72.85it/s]\n"
     ]
    }
   ],
   "source": [
    "model.eval()\n",
    "\n",
    "predictions = []\n",
    "with torch.no_grad():\n",
    "    for data in tqdm(test_loader):\n",
    "        # Move inputs to MPS device\n",
    "        inputs = data[0].to(device)\n",
    "        \n",
    "        # Run inference on MPS\n",
    "        outputs = model(inputs)\n",
    "        \n",
    "        # Apply sigmoid to convert logits to probabilities\n",
    "        probs = torch.sigmoid(outputs)\n",
    "        \n",
    "        # Move probabilities back to CPU and convert to numpy\n",
    "        predictions.append(probs.cpu().numpy())\n",
    "\n",
    "predictions = np.concatenate(predictions)\n",
    "probs = predictions.flatten()"
   ]
  },
  {
   "cell_type": "code",
   "execution_count": 40,
   "id": "3ad02963-098a-4051-9c9f-743a418af479",
   "metadata": {},
   "outputs": [],
   "source": [
    "submission = pd.DataFrame(\n",
    "    {'MachineIdentifier': y, 'HasDetections': probs})\n",
    "submission.to_csv('./submissions/hl_3_advanced_encodings_lda_submission.csv', index=False)"
   ]
  },
  {
   "cell_type": "code",
   "execution_count": 43,
   "id": "01348fab-dcb8-45bb-aff6-3bdd876c68b2",
   "metadata": {},
   "outputs": [],
   "source": [
    "# Define complex model\n",
    "class EnhancedBinaryClassifier(nn.Module):\n",
    "    def __init__(self, input_size):\n",
    "        super(EnhancedBinaryClassifier, self).__init__()\n",
    "        self.layers = nn.Sequential(\n",
    "            nn.Linear(input_size, 512),\n",
    "            nn.ReLU(),\n",
    "            nn.BatchNorm1d(512),\n",
    "            nn.Dropout(0.3),\n",
    "\n",
    "            nn.Linear(512, 512),\n",
    "            nn.ReLU(),\n",
    "            nn.BatchNorm1d(512),\n",
    "            nn.Dropout(0.3),\n",
    "\n",
    "            nn.Linear(512, 256),\n",
    "            nn.ReLU(),\n",
    "            nn.BatchNorm1d(256),\n",
    "            nn.Dropout(0.3),\n",
    "            \n",
    "            nn.Linear(256, 128),\n",
    "            nn.ReLU(),\n",
    "            nn.BatchNorm1d(128),\n",
    "            nn.Dropout(0.4),\n",
    "\n",
    "            nn.Linear(128, 64),\n",
    "            nn.ReLU(),\n",
    "            nn.BatchNorm1d(64),\n",
    "            nn.Dropout(0.4),\n",
    "\n",
    "            nn.Linear(64, 1)\n",
    "        )\n",
    "\n",
    "    def forward(self, x):\n",
    "        return self.layers(x)"
   ]
  },
  {
   "cell_type": "code",
   "execution_count": 44,
   "id": "5dd530bb-72e5-46b3-84aa-5e569c5526a2",
   "metadata": {},
   "outputs": [],
   "source": [
    "X_test_tensor = torch.tensor(X.values, dtype=torch.float32)\n",
    "test_dataset = TensorDataset(X_test_tensor)\n",
    "batch_size = 2048\n",
    "test_loader = DataLoader(test_dataset, batch_size=batch_size, shuffle=False)\n",
    "\n",
    "model_dir = \"/Users/dragonfruit/cs6140-ml-workspace/ML-project/pytorch-models/enhanced_deepernn_kaggle_encodings.pth\"\n",
    "model = EnhancedBinaryClassifier(X_test_tensor.shape[1])\n",
    "\n",
    "# Add map_location parameter to handle CUDA-saved model\n",
    "model.load_state_dict(torch.load(model_dir, map_location=torch.device('cpu')))\n",
    "\n",
    "# Check if MPS is available\n",
    "if torch.backends.mps.is_available():\n",
    "    device = torch.device(\"mps\")\n",
    "    model = model.to(device)\n",
    "    # Make sure your input data is also on the same device\n",
    "    X_test_tensor = X_test_tensor.to(device)\n",
    "else:\n",
    "    device = torch.device(\"cpu\")\n",
    "    model = model.to(device)"
   ]
  },
  {
   "cell_type": "code",
   "execution_count": 45,
   "id": "07c62e3e-52e8-4207-95ef-bd743b267d70",
   "metadata": {},
   "outputs": [
    {
     "name": "stderr",
     "output_type": "stream",
     "text": [
      "100%|██████████████████████████████████████████████████████████████████████████████████| 3835/3835 [01:01<00:00, 61.89it/s]\n"
     ]
    }
   ],
   "source": [
    "model.eval()\n",
    "\n",
    "predictions = []\n",
    "with torch.no_grad():\n",
    "    for data in tqdm(test_loader):\n",
    "        # Move inputs to MPS device\n",
    "        inputs = data[0].to(device)\n",
    "        \n",
    "        # Run inference on MPS\n",
    "        outputs = model(inputs)\n",
    "        \n",
    "        # Apply sigmoid to convert logits to probabilities\n",
    "        probs = torch.sigmoid(outputs)\n",
    "        \n",
    "        # Move probabilities back to CPU and convert to numpy\n",
    "        predictions.append(probs.cpu().numpy())\n",
    "\n",
    "predictions = np.concatenate(predictions)\n",
    "probs = predictions.flatten()"
   ]
  },
  {
   "cell_type": "code",
   "execution_count": 46,
   "id": "fef134a6-1d03-479f-8cf2-86c04fd39346",
   "metadata": {},
   "outputs": [],
   "source": [
    "submission = pd.DataFrame(\n",
    "    {'MachineIdentifier': y, 'HasDetections': probs})\n",
    "submission.to_csv('./submissions/hl_4_advanced_encodings_submission.csv', index=False)"
   ]
  }
 ],
 "metadata": {
  "kernelspec": {
   "display_name": "Python 3 (ipykernel)",
   "language": "python",
   "name": "python3"
  },
  "language_info": {
   "codemirror_mode": {
    "name": "ipython",
    "version": 3
   },
   "file_extension": ".py",
   "mimetype": "text/x-python",
   "name": "python",
   "nbconvert_exporter": "python",
   "pygments_lexer": "ipython3",
   "version": "3.11.11"
  }
 },
 "nbformat": 4,
 "nbformat_minor": 5
}
