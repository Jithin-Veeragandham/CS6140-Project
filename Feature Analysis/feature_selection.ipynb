{
 "cells": [
  {
   "cell_type": "code",
   "execution_count": 1,
   "id": "58b1f806",
   "metadata": {},
   "outputs": [],
   "source": [
    "import pandas as pd"
   ]
  },
  {
   "cell_type": "code",
   "execution_count": 2,
   "id": "ecf181b0",
   "metadata": {},
   "outputs": [],
   "source": [
    "dtypes = {\n",
    "    'ProductName': 'float32', 'EngineVersion': 'float32', 'AppVersion': 'float32', 'AvSigVersion': 'float32', 'IsBeta': 'float32', 'RtpStateBitfield': 'float32', 'IsSxsPassiveMode': 'float32', 'DefaultBrowsersIdentifier': 'float32', 'AVProductStatesIdentifier': 'float32', 'AVProductsInstalled': 'float32', 'AVProductsEnabled': 'float32', 'HasTpm': 'float32', 'CountryIdentifier': 'float32', 'CityIdentifier': 'float32', 'OrganizationIdentifier': 'float32', 'GeoNameIdentifier': 'float32', 'LocaleEnglishNameIdentifier': 'float32', 'Platform': 'float32', 'Processor': 'float32', 'OsVer': 'float32', 'OsBuild': 'float32', 'OsSuite': 'float32', 'OsPlatformSubRelease': 'float32', 'OsBuildLab': 'float32', 'SkuEdition': 'float32', 'IsProtected': 'float32', 'AutoSampleOptIn': 'float32', 'PuaMode': 'float32', 'SMode': 'float32', 'IeVerIdentifier': 'float32', 'SmartScreen': 'float32', 'Firewall': 'float32', 'UacLuaenable': 'float32', 'Census_MDC2FormFactor': 'float32', 'Census_DeviceFamily': 'float32', 'Census_OEMNameIdentifier': 'float32', 'Census_OEMModelIdentifier': 'float32', 'Census_ProcessorCoreCount': 'float32', 'Census_ProcessorManufacturerIdentifier': 'float32', 'Census_ProcessorModelIdentifier': 'float32', 'Census_ProcessorClass': 'float32', 'Census_PrimaryDiskTotalCapacity': 'float32', 'Census_PrimaryDiskTypeName': 'float32', 'Census_SystemVolumeTotalCapacity': 'float32', 'Census_HasOpticalDiskDrive': 'float32', 'Census_TotalPhysicalRAM': 'float32', 'Census_ChassisTypeName': 'float32', 'Census_InternalPrimaryDiagonalDisplaySizeInInches': 'float32', 'Census_InternalPrimaryDisplayResolutionHorizontal': 'float32', 'Census_InternalPrimaryDisplayResolutionVertical': 'float32', 'Census_PowerPlatformRoleName': 'float32', 'Census_InternalBatteryType': 'float32', 'Census_InternalBatteryNumberOfCharges': 'float32', 'Census_OSVersion': 'float32', 'Census_OSArchitecture': 'float32', 'Census_OSBranch': 'float32', 'Census_OSBuildNumber': 'float32', 'Census_OSBuildRevision': 'float32', 'Census_OSEdition': 'float32', 'Census_OSSkuName': 'float32', 'Census_OSInstallTypeName': 'float32', 'Census_OSInstallLanguageIdentifier': 'float32', 'Census_OSUILocaleIdentifier': 'float32', 'Census_OSWUAutoUpdateOptionsName': 'float32', 'Census_IsPortableOperatingSystem': 'float32', 'Census_GenuineStateName': 'float32', 'Census_ActivationChannel': 'float32', 'Census_IsFlightingInternal': 'float32', 'Census_IsFlightsDisabled': 'float32', 'Census_FlightRing': 'float32', 'Census_ThresholdOptIn': 'float32', 'Census_FirmwareManufacturerIdentifier': 'float32', 'Census_FirmwareVersionIdentifier': 'float32', 'Census_IsSecureBootEnabled': 'float32', 'Census_IsWIMBootEnabled': 'float32', 'Census_IsVirtualDevice': 'float32', 'Census_IsTouchEnabled': 'float32', 'Census_IsPenCapable': 'float32', 'Census_IsAlwaysOnAlwaysConnectedCapable': 'float32', 'Wdft_IsGamer': 'float32', 'Wdft_RegionIdentifier': 'float32', 'HasDetections': 'int8'}"
   ]
  },
  {
   "cell_type": "code",
   "execution_count": 4,
   "id": "a16676b0",
   "metadata": {},
   "outputs": [
    {
     "data": {
      "text/plain": [
       "<module 'helper_functions' from '/Users/rishis/Desktop/School/ML/Project/refact/ML-project/helper_functions.py'>"
      ]
     },
     "execution_count": 4,
     "metadata": {},
     "output_type": "execute_result"
    }
   ],
   "source": [
    "import helper_functions\n",
    "import importlib\n",
    "importlib.reload(helper_functions)"
   ]
  },
  {
   "cell_type": "code",
   "execution_count": 3,
   "id": "d5053275",
   "metadata": {},
   "outputs": [],
   "source": [
    "train = pd.read_csv('/Users/rishis/Desktop/School/ML/Project/refact/ML-project/dataset/train_data_kaggle_processed.csv', dtype=dtypes)\n",
    "test = pd.read_csv('/Users/rishis/Desktop/School/ML/Project/refact/ML-project/dataset/validation_data_kaggle_processed.csv', dtype=dtypes)"
   ]
  },
  {
   "cell_type": "code",
   "execution_count": 6,
   "id": "3f3383e7",
   "metadata": {},
   "outputs": [
    {
     "name": "stdout",
     "output_type": "stream",
     "text": [
      "Memory usage before optimization: 1967.09 MB\n",
      "Memory usage before optimization: 491.77 MB\n",
      "Mem. usage decreased to 891.66 Mb (54.7% reduction)\n",
      "Mem. usage decreased to 222.91 Mb (54.7% reduction)\n",
      "Memory usage after optimization: 891.66 MB\n",
      "Memory usage after optimization: 222.91 MB\n"
     ]
    }
   ],
   "source": [
    "\n",
    "# Check memory usage before and after\n",
    "print(f\"Memory usage before optimization: {train.memory_usage(deep=True).sum() / 1024**2:.2f} MB\")\n",
    "print(f\"Memory usage before optimization: {test.memory_usage(deep=True).sum() / 1024**2:.2f} MB\")\n",
    "\n",
    "# Apply optimization\n",
    "train = helper_functions.reduce_mem_usage(train)\n",
    "test = helper_functions.reduce_mem_usage(test)\n",
    "\n",
    "# Check memory usage before and after\n",
    "print(f\"Memory usage after optimization: {train.memory_usage(deep=True).sum() / 1024**2:.2f} MB\")\n",
    "print(f\"Memory usage after optimization: {test.memory_usage(deep=True).sum() / 1024**2:.2f} MB\")"
   ]
  },
  {
   "cell_type": "code",
   "execution_count": 7,
   "id": "20f8a392",
   "metadata": {},
   "outputs": [],
   "source": [
    "y_train = train['HasDetections']\n",
    "X_train = train.drop(columns=['HasDetections'])\n",
    "del train\n",
    "\n",
    "y_val = test['HasDetections']\n",
    "X_val = test.drop(columns=['HasDetections'])\n",
    "del test"
   ]
  },
  {
   "cell_type": "code",
   "execution_count": 8,
   "id": "f11b4eec",
   "metadata": {},
   "outputs": [],
   "source": [
    "from sklearn.metrics import accuracy_score\n",
    "from xgboost import XGBClassifier"
   ]
  },
  {
   "cell_type": "code",
   "execution_count": null,
   "id": "dfaf6c73",
   "metadata": {},
   "outputs": [],
   "source": [
    "model_xgb = XGBClassifier(n_estimators=200, random_state=42, use_label_encoder=False, eval_metric='logloss', enable_categorical=True)\n",
    "model_xgb.fit(X_train, y_train)"
   ]
  },
  {
   "cell_type": "code",
   "execution_count": null,
   "id": "2b133f43",
   "metadata": {},
   "outputs": [],
   "source": [
    "pd.set_option('display.max_colwidth', None)\n",
    "pd.set_option('display.max_columns', None)  "
   ]
  },
  {
   "cell_type": "code",
   "execution_count": null,
   "id": "a38d06b0",
   "metadata": {},
   "outputs": [],
   "source": [
    "pd.set_option('display.max_rows', None)\n",
    "# Retrieve feature importances\n",
    "importances_xgb = model_xgb.feature_importances_\n",
    "feat_importances_xgb = pd.Series(importances_xgb, index=X_train.columns).sort_values(ascending=False)\n",
    "\n",
    "# Display top 10 feature importances\n",
    "print(feat_importances_xgb.sort_values(ascending=False))\n",
    "print(sum(feat_importances_xgb))"
   ]
  },
  {
   "cell_type": "code",
   "execution_count": null,
   "id": "a6ffc33f",
   "metadata": {},
   "outputs": [],
   "source": [
    "model_xgb.fit(X_train, y_train)\n",
    "labels = model_xgb.predict(X_train)\n",
    "print(\"Training Accuracy: \", accuracy_score(y_train, labels))\n",
    "val_labels = model_xgb.predict(X_val)\n",
    "print(\"Val Accuracy: \", accuracy_score(y_val, val_labels))"
   ]
  },
  {
   "cell_type": "code",
   "execution_count": 9,
   "id": "8ba29dc5",
   "metadata": {},
   "outputs": [],
   "source": [
    "X_train = X_train.fillna(-1)\n",
    "X_val = X_val.fillna(-1)"
   ]
  },
  {
   "cell_type": "code",
   "execution_count": 10,
   "id": "606d4217",
   "metadata": {},
   "outputs": [],
   "source": [
    "import torch\n",
    "import torch.nn as nn\n",
    "import torch.optim as optim\n",
    "import numpy as np\n",
    "import pandas as pd\n",
    "from tqdm import tqdm\n",
    "from torch.utils.data import DataLoader, TensorDataset"
   ]
  },
  {
   "cell_type": "code",
   "execution_count": 11,
   "id": "e9fb1c2e",
   "metadata": {},
   "outputs": [],
   "source": [
    "\n",
    "\n",
    "# Convert to PyTorch tensors\n",
    "# X_train_tensor = torch.tensor(X_train.values, dtype=torch.float32)\n",
    "# y_train_tensor = torch.tensor(y_train.values, dtype=torch.float32).view(-1, 1)\n",
    "# X_test_tensor = torch.tensor(X_val.values, dtype=torch.float32)\n",
    "# y_test_tensor = torch.tensor(y_val.values, dtype=torch.float32).view(-1, 1)\n",
    "\n",
    "# X_train_tensor = torch.tensor(X_train.values, dtype=torch.float32)\n",
    "# X_test_tensor = torch.tensor(X_val.values, dtype=torch.float32)\n",
    "y_train_tensor = torch.tensor(y_train.values, dtype=torch.float32).view(-1, 1)\n",
    "y_test_tensor = torch.tensor(y_val.values, dtype=torch.float32).view(-1, 1)\n",
    "\n",
    "# # Create datasets and data loaders\n",
    "# train_dataset = TensorDataset(X_train_tensor, y_train_tensor)\n",
    "# test_dataset = TensorDataset(X_test_tensor, y_test_tensor)\n",
    "\n",
    "# train_loader = DataLoader(train_dataset, batch_size=4096, shuffle=True)\n",
    "# test_loader = DataLoader(test_dataset, batch_size=4096, shuffle=False)"
   ]
  },
  {
   "cell_type": "code",
   "execution_count": 12,
   "id": "7b287e08",
   "metadata": {},
   "outputs": [],
   "source": [
    "\n",
    "def create_model(input_dim):\n",
    "    class MLP(nn.Module):\n",
    "        def __init__(self, input_dim):\n",
    "            super(MLP, self).__init__()\n",
    "            \n",
    "            self.model = nn.Sequential(\n",
    "                nn.Linear(input_dim, 256), \n",
    "                nn.BatchNorm1d(256),\n",
    "                nn.ReLU(),\n",
    "                nn.Dropout(0.3),                            \n",
    "                \n",
    "                nn.Linear(256, 128),\n",
    "                nn.BatchNorm1d(128),\n",
    "                nn.ReLU(),\n",
    "                nn.Dropout(0.3),\n",
    "\n",
    "                nn.Linear(128, 64),\n",
    "                nn.BatchNorm1d(64),\n",
    "                nn.ReLU(),\n",
    "                nn.Dropout(0.3),\n",
    "\n",
    "                nn.Linear(64, 1) \n",
    "            )\n",
    "\n",
    "        def forward(self, x):\n",
    "            return self.model(x)\n",
    "\n",
    "    simple_model = MLP(input_dim)\n",
    "    criterion = nn.BCEWithLogitsLoss()\n",
    "    optimizer = optim.Adam(simple_model.parameters(), weight_decay=1e-4,lr=0.0001)  \n",
    "    scheduler = optim.lr_scheduler.ReduceLROnPlateau(optimizer, mode='min', factor=0.5, patience=2)\n",
    "\n",
    "    return simple_model, criterion, optimizer, scheduler  \n"
   ]
  },
  {
   "cell_type": "code",
   "execution_count": 13,
   "id": "3b33ba5d",
   "metadata": {},
   "outputs": [],
   "source": [
    "import numpy as np\n",
    "from sklearn.decomposition import PCA\n",
    "from sklearn.discriminant_analysis import LinearDiscriminantAnalysis as LDA"
   ]
  },
  {
   "cell_type": "code",
   "execution_count": null,
   "id": "cfd28b64",
   "metadata": {},
   "outputs": [],
   "source": [
    "# Define PCA retention ratios\n",
    "ratios = [1, 0.95, 0.90, 0.85, 0.80, 0.75, 0.7, 0.6, 0.5]\n",
    "\n",
    "# Dictionary to store results\n",
    "results = {\n",
    "    'ratio': [],\n",
    "    'num_features': [],\n",
    "    'train_acc_pca': [],\n",
    "    'test_acc_pca': [],\n",
    "    'train_acc_lda': [],\n",
    "    'test_acc_lda': []\n",
    "}\n",
    "\n",
    "total_features = X_train.shape[1]\n",
    "\n",
    "# For each PCA ratio\n",
    "for ratio in ratios:\n",
    "    # Fit PCA\n",
    "    num_features = int(total_features * ratio)\n",
    "    pca = PCA(n_components=num_features)\n",
    "    pca.fit(X_train)\n",
    "    \n",
    "    # Store number of components for this ratio\n",
    "    results['ratio'].append(ratio)\n",
    "    results['num_features'].append(num_features)\n",
    "    \n",
    "    # Get PCA feature importance\n",
    "    pca_importance = np.sum(np.abs(pca.components_), axis=0)\n",
    "    pca_features = X_train.columns[np.argsort(pca_importance)[-num_features:]]\n",
    "    \n",
    "    # Fit LDA and get feature importance\n",
    "    lda = LDA()\n",
    "    lda.fit(X_train, y_train)\n",
    "    lda_importance = np.abs(lda.coef_[0])\n",
    "    lda_features = X_train.columns[np.argsort(lda_importance)[-num_features:]]\n",
    "\n",
    "    simple_model, criterion, optimizer, scheduler = create_model(num_features)\n",
    "    \n",
    "    # Train and evaluate using PCA-selected features\n",
    "    # Create datasets and data loaders\n",
    "    X_train_pca = X_train[pca_features]            # DataFrame of shape (N, m)\n",
    "    X_val_pca  = X_val[pca_features]\n",
    "    X_train_tensor_pca = torch.tensor(X_train_pca.values, dtype=torch.float32)\n",
    "    X_val_tensor_pca = torch.tensor(X_val_pca.values, dtype=torch.float32)\n",
    "    train_dataset_pca = TensorDataset(X_train_tensor_pca, y_train_tensor)\n",
    "    test_dataset_pca = TensorDataset(X_val_tensor_pca, y_test_tensor)\n",
    "    train_loader = DataLoader(train_dataset_pca, batch_size=4096, shuffle=True)\n",
    "    test_loader = DataLoader(test_dataset_pca, batch_size=4096, shuffle=False)\n",
    "    model_weights_pca, train_loss_pca, test_loss_pca, train_accuracy_pca, test_accuracy_pca, lrs_pca = helper_functions.train_and_evaluate_model(simple_model, criterion, optimizer, scheduler, train_loader, test_loader, 5)\n",
    "    \n",
    "    results['train_acc_pca'].append(train_accuracy_pca[-1])\n",
    "    results['test_acc_pca'].append(test_accuracy_pca[-1])\n",
    "    \n",
    "    # Train and evaluate using LDA-selected features\n",
    "    X_train_lda = X_train[lda_features]            # DataFrame of shape (N, m)\n",
    "    X_val_lda  = X_val[lda_features]\n",
    "    X_train_tensor_lda = torch.tensor(X_train_lda.values, dtype=torch.float32)\n",
    "    X_val_tensor_lda = torch.tensor(X_val_lda.values, dtype=torch.float32)\n",
    "    train_dataset_lda = TensorDataset(X_train_tensor_lda, y_train_tensor)\n",
    "    test_dataset_lda = TensorDataset(X_val_tensor_lda, y_test_tensor)\n",
    "    train_loader = DataLoader(train_dataset_lda, batch_size=4096, shuffle=True)\n",
    "    test_loader = DataLoader(test_dataset_lda, batch_size=4096, shuffle=False)\n",
    "    model_weights_lda, train_loss_lda, test_loss_lda, train_accuracy_lda, test_accuracy_lda, lrs_lda = helper_functions.train_and_evaluate_model(simple_model, criterion, optimizer, scheduler, train_loader, test_loader, 5)\n",
    "    \n",
    "    results['train_acc_lda'].append(train_accuracy_lda[-1])\n",
    "    results['test_acc_lda'].append(test_accuracy_lda[-1])\n",
    "    \n",
    "    print(f\"\\nPCA Ratio: {ratio:.2f} (Top {num_features} features)\")\n",
    "    print(f\"PCA - Train Accuracy: {results['train_acc_pca'][-1]:.4f}\")\n",
    "    print(f\"PCA - Validation Accuracy: {results['test_acc_pca'][-1]:.4f}\")\n",
    "    print(f\"LDA - Train Accuracy: {results['train_acc_lda'][-1]:.4f}\")\n",
    "    print(f\"LDA - Validation Accuracy: {results['test_acc_lda'][-1]:.4f}\")"
   ]
  },
  {
   "cell_type": "code",
   "execution_count": 23,
   "id": "a1ec3a5e",
   "metadata": {},
   "outputs": [
    {
     "name": "stderr",
     "output_type": "stream",
     "text": [
      "Epoch 1/5 - LR: 0.000100: 100%|██████████| 1743/1743 [00:49<00:00, 34.91it/s, acc=59.47%, loss=0.6664]\n"
     ]
    },
    {
     "name": "stdout",
     "output_type": "stream",
     "text": [
      "Epoch 1 Loss: 0.6693, Train Accuracy: 59.03%\n",
      "Test Loss: 0.6521, Test Accuracy: 61.35%\n"
     ]
    },
    {
     "name": "stderr",
     "output_type": "stream",
     "text": [
      "Epoch 2/5 - LR: 0.000100: 100%|██████████| 1743/1743 [00:49<00:00, 34.90it/s, acc=61.57%, loss=0.6557]\n"
     ]
    },
    {
     "name": "stdout",
     "output_type": "stream",
     "text": [
      "Epoch 2 Loss: 0.6516, Train Accuracy: 61.04%\n",
      "Test Loss: 0.6384, Test Accuracy: 62.70%\n"
     ]
    },
    {
     "name": "stderr",
     "output_type": "stream",
     "text": [
      "Epoch 3/5 - LR: 0.000100: 100%|██████████| 1743/1743 [00:48<00:00, 36.26it/s, acc=62.90%, loss=0.6278]\n"
     ]
    },
    {
     "name": "stdout",
     "output_type": "stream",
     "text": [
      "Epoch 3 Loss: 0.6420, Train Accuracy: 62.09%\n",
      "Test Loss: 0.6339, Test Accuracy: 63.05%\n"
     ]
    },
    {
     "name": "stderr",
     "output_type": "stream",
     "text": [
      "Epoch 4/5 - LR: 0.000100: 100%|██████████| 1743/1743 [00:49<00:00, 35.07it/s, acc=63.01%, loss=0.6330]\n"
     ]
    },
    {
     "name": "stdout",
     "output_type": "stream",
     "text": [
      "Epoch 4 Loss: 0.6374, Train Accuracy: 62.62%\n",
      "Test Loss: 0.6313, Test Accuracy: 63.30%\n"
     ]
    },
    {
     "name": "stderr",
     "output_type": "stream",
     "text": [
      "Epoch 5/5 - LR: 0.000100: 100%|██████████| 1743/1743 [00:48<00:00, 36.15it/s, acc=64.14%, loss=0.6244]\n"
     ]
    },
    {
     "name": "stdout",
     "output_type": "stream",
     "text": [
      "Epoch 5 Loss: 0.6349, Train Accuracy: 62.90%\n",
      "Test Loss: 0.6298, Test Accuracy: 63.45%\n"
     ]
    },
    {
     "name": "stderr",
     "output_type": "stream",
     "text": [
      "Epoch 1/5 - LR: 0.000100: 100%|██████████| 1743/1743 [00:49<00:00, 35.55it/s, acc=62.39%, loss=0.6334]\n"
     ]
    },
    {
     "name": "stdout",
     "output_type": "stream",
     "text": [
      "Epoch 1 Loss: 0.6546, Train Accuracy: 60.90%\n",
      "Test Loss: 0.6341, Test Accuracy: 62.99%\n"
     ]
    },
    {
     "name": "stderr",
     "output_type": "stream",
     "text": [
      "Epoch 2/5 - LR: 0.000100: 100%|██████████| 1743/1743 [00:49<00:00, 35.18it/s, acc=62.85%, loss=0.6321]\n"
     ]
    },
    {
     "name": "stdout",
     "output_type": "stream",
     "text": [
      "Epoch 2 Loss: 0.6361, Train Accuracy: 62.83%\n",
      "Test Loss: 0.6294, Test Accuracy: 63.51%\n"
     ]
    },
    {
     "name": "stderr",
     "output_type": "stream",
     "text": [
      "Epoch 3/5 - LR: 0.000100: 100%|██████████| 1743/1743 [00:48<00:00, 35.75it/s, acc=62.03%, loss=0.6407]\n"
     ]
    },
    {
     "name": "stdout",
     "output_type": "stream",
     "text": [
      "Epoch 3 Loss: 0.6326, Train Accuracy: 63.21%\n",
      "Test Loss: 0.6273, Test Accuracy: 63.73%\n"
     ]
    },
    {
     "name": "stderr",
     "output_type": "stream",
     "text": [
      "Epoch 4/5 - LR: 0.000100: 100%|██████████| 1743/1743 [00:49<00:00, 35.51it/s, acc=62.54%, loss=0.6368]\n"
     ]
    },
    {
     "name": "stdout",
     "output_type": "stream",
     "text": [
      "Epoch 4 Loss: 0.6309, Train Accuracy: 63.41%\n",
      "Test Loss: 0.6261, Test Accuracy: 63.87%\n"
     ]
    },
    {
     "name": "stderr",
     "output_type": "stream",
     "text": [
      "Epoch 5/5 - LR: 0.000100: 100%|██████████| 1743/1743 [00:48<00:00, 35.69it/s, acc=65.78%, loss=0.6204]\n"
     ]
    },
    {
     "name": "stdout",
     "output_type": "stream",
     "text": [
      "Epoch 5 Loss: 0.6298, Train Accuracy: 63.54%\n",
      "Test Loss: 0.6253, Test Accuracy: 63.97%\n",
      "\n",
      "PCA Ratio: 0.70 (Top 45 features)\n",
      "PCA - Train Accuracy: 0.6290\n",
      "PCA - Validation Accuracy: 0.6345\n",
      "LDA - Train Accuracy: 0.6354\n",
      "LDA - Validation Accuracy: 0.6397\n"
     ]
    },
    {
     "name": "stderr",
     "output_type": "stream",
     "text": [
      "Epoch 1/5 - LR: 0.000100: 100%|██████████| 1743/1743 [00:49<00:00, 35.30it/s, acc=60.70%, loss=0.6547]\n"
     ]
    },
    {
     "name": "stdout",
     "output_type": "stream",
     "text": [
      "Epoch 1 Loss: 0.6680, Train Accuracy: 59.22%\n",
      "Test Loss: 0.6508, Test Accuracy: 61.53%\n"
     ]
    },
    {
     "name": "stderr",
     "output_type": "stream",
     "text": [
      "Epoch 2/5 - LR: 0.000100: 100%|██████████| 1743/1743 [00:48<00:00, 36.27it/s, acc=63.42%, loss=0.6298]\n"
     ]
    },
    {
     "name": "stdout",
     "output_type": "stream",
     "text": [
      "Epoch 2 Loss: 0.6504, Train Accuracy: 61.21%\n",
      "Test Loss: 0.6376, Test Accuracy: 62.78%\n"
     ]
    },
    {
     "name": "stderr",
     "output_type": "stream",
     "text": [
      "Epoch 3/5 - LR: 0.000100: 100%|██████████| 1743/1743 [00:49<00:00, 35.35it/s, acc=62.60%, loss=0.6392]\n"
     ]
    },
    {
     "name": "stdout",
     "output_type": "stream",
     "text": [
      "Epoch 3 Loss: 0.6412, Train Accuracy: 62.16%\n",
      "Test Loss: 0.6335, Test Accuracy: 63.06%\n"
     ]
    },
    {
     "name": "stderr",
     "output_type": "stream",
     "text": [
      "Epoch 4/5 - LR: 0.000100: 100%|██████████| 1743/1743 [00:48<00:00, 35.94it/s, acc=61.11%, loss=0.6408]\n"
     ]
    },
    {
     "name": "stdout",
     "output_type": "stream",
     "text": [
      "Epoch 4 Loss: 0.6371, Train Accuracy: 62.61%\n",
      "Test Loss: 0.6313, Test Accuracy: 63.28%\n"
     ]
    },
    {
     "name": "stderr",
     "output_type": "stream",
     "text": [
      "Epoch 5/5 - LR: 0.000100: 100%|██████████| 1743/1743 [00:48<00:00, 36.07it/s, acc=61.88%, loss=0.6405]\n"
     ]
    },
    {
     "name": "stdout",
     "output_type": "stream",
     "text": [
      "Epoch 5 Loss: 0.6348, Train Accuracy: 62.88%\n",
      "Test Loss: 0.6299, Test Accuracy: 63.44%\n"
     ]
    },
    {
     "name": "stderr",
     "output_type": "stream",
     "text": [
      "Epoch 1/5 - LR: 0.000100: 100%|██████████| 1743/1743 [00:47<00:00, 36.39it/s, acc=61.26%, loss=0.6433]\n"
     ]
    },
    {
     "name": "stdout",
     "output_type": "stream",
     "text": [
      "Epoch 1 Loss: 0.6550, Train Accuracy: 60.85%\n",
      "Test Loss: 0.6357, Test Accuracy: 63.02%\n"
     ]
    },
    {
     "name": "stderr",
     "output_type": "stream",
     "text": [
      "Epoch 2/5 - LR: 0.000100: 100%|██████████| 1743/1743 [00:47<00:00, 36.53it/s, acc=62.19%, loss=0.6504]\n"
     ]
    },
    {
     "name": "stdout",
     "output_type": "stream",
     "text": [
      "Epoch 2 Loss: 0.6375, Train Accuracy: 62.76%\n",
      "Test Loss: 0.6302, Test Accuracy: 63.48%\n"
     ]
    },
    {
     "name": "stderr",
     "output_type": "stream",
     "text": [
      "Epoch 3/5 - LR: 0.000100: 100%|██████████| 1743/1743 [00:47<00:00, 36.33it/s, acc=62.39%, loss=0.6388]\n"
     ]
    },
    {
     "name": "stdout",
     "output_type": "stream",
     "text": [
      "Epoch 3 Loss: 0.6332, Train Accuracy: 63.19%\n",
      "Test Loss: 0.6274, Test Accuracy: 63.71%\n"
     ]
    },
    {
     "name": "stderr",
     "output_type": "stream",
     "text": [
      "Epoch 4/5 - LR: 0.000100: 100%|██████████| 1743/1743 [00:48<00:00, 36.09it/s, acc=60.13%, loss=0.6505]\n"
     ]
    },
    {
     "name": "stdout",
     "output_type": "stream",
     "text": [
      "Epoch 4 Loss: 0.6310, Train Accuracy: 63.40%\n",
      "Test Loss: 0.6261, Test Accuracy: 63.89%\n"
     ]
    },
    {
     "name": "stderr",
     "output_type": "stream",
     "text": [
      "Epoch 5/5 - LR: 0.000100: 100%|██████████| 1743/1743 [00:47<00:00, 36.34it/s, acc=64.19%, loss=0.6290]\n"
     ]
    },
    {
     "name": "stdout",
     "output_type": "stream",
     "text": [
      "Epoch 5 Loss: 0.6296, Train Accuracy: 63.55%\n",
      "Test Loss: 0.6252, Test Accuracy: 63.99%\n",
      "\n",
      "PCA Ratio: 0.65 (Top 42 features)\n",
      "PCA - Train Accuracy: 0.6288\n",
      "PCA - Validation Accuracy: 0.6344\n",
      "LDA - Train Accuracy: 0.6355\n",
      "LDA - Validation Accuracy: 0.6399\n"
     ]
    },
    {
     "name": "stderr",
     "output_type": "stream",
     "text": [
      "Epoch 1/5 - LR: 0.000100: 100%|██████████| 1743/1743 [00:48<00:00, 35.65it/s, acc=62.60%, loss=0.6566]\n"
     ]
    },
    {
     "name": "stdout",
     "output_type": "stream",
     "text": [
      "Epoch 1 Loss: 0.6713, Train Accuracy: 58.57%\n",
      "Test Loss: 0.6535, Test Accuracy: 60.86%\n"
     ]
    },
    {
     "name": "stderr",
     "output_type": "stream",
     "text": [
      "Epoch 2/5 - LR: 0.000100: 100%|██████████| 1743/1743 [00:47<00:00, 36.87it/s, acc=61.93%, loss=0.6386]\n"
     ]
    },
    {
     "name": "stdout",
     "output_type": "stream",
     "text": [
      "Epoch 2 Loss: 0.6539, Train Accuracy: 60.44%\n",
      "Test Loss: 0.6417, Test Accuracy: 61.96%\n"
     ]
    },
    {
     "name": "stderr",
     "output_type": "stream",
     "text": [
      "Epoch 3/5 - LR: 0.000100: 100%|██████████| 1743/1743 [00:48<00:00, 35.87it/s, acc=61.57%, loss=0.6431]\n"
     ]
    },
    {
     "name": "stdout",
     "output_type": "stream",
     "text": [
      "Epoch 3 Loss: 0.6451, Train Accuracy: 61.41%\n",
      "Test Loss: 0.6378, Test Accuracy: 62.32%\n"
     ]
    },
    {
     "name": "stderr",
     "output_type": "stream",
     "text": [
      "Epoch 4/5 - LR: 0.000100: 100%|██████████| 1743/1743 [00:49<00:00, 34.91it/s, acc=61.52%, loss=0.6440]\n"
     ]
    },
    {
     "name": "stdout",
     "output_type": "stream",
     "text": [
      "Epoch 4 Loss: 0.6410, Train Accuracy: 61.90%\n",
      "Test Loss: 0.6354, Test Accuracy: 62.58%\n"
     ]
    },
    {
     "name": "stderr",
     "output_type": "stream",
     "text": [
      "Epoch 5/5 - LR: 0.000100: 100%|██████████| 1743/1743 [00:49<00:00, 35.29it/s, acc=63.31%, loss=0.6327]\n"
     ]
    },
    {
     "name": "stdout",
     "output_type": "stream",
     "text": [
      "Epoch 5 Loss: 0.6386, Train Accuracy: 62.19%\n",
      "Test Loss: 0.6336, Test Accuracy: 62.78%\n"
     ]
    },
    {
     "name": "stderr",
     "output_type": "stream",
     "text": [
      "Epoch 1/5 - LR: 0.000100: 100%|██████████| 1743/1743 [00:49<00:00, 35.51it/s, acc=62.13%, loss=0.6437]\n"
     ]
    },
    {
     "name": "stdout",
     "output_type": "stream",
     "text": [
      "Epoch 1 Loss: 0.6578, Train Accuracy: 60.60%\n",
      "Test Loss: 0.6395, Test Accuracy: 62.66%\n"
     ]
    },
    {
     "name": "stderr",
     "output_type": "stream",
     "text": [
      "Epoch 2/5 - LR: 0.000100: 100%|██████████| 1743/1743 [00:49<00:00, 35.53it/s, acc=62.24%, loss=0.6396]\n"
     ]
    },
    {
     "name": "stdout",
     "output_type": "stream",
     "text": [
      "Epoch 2 Loss: 0.6410, Train Accuracy: 62.39%\n",
      "Test Loss: 0.6330, Test Accuracy: 63.24%\n"
     ]
    },
    {
     "name": "stderr",
     "output_type": "stream",
     "text": [
      "Epoch 3/5 - LR: 0.000100: 100%|██████████| 1743/1743 [00:49<00:00, 35.54it/s, acc=62.80%, loss=0.6297]\n"
     ]
    },
    {
     "name": "stdout",
     "output_type": "stream",
     "text": [
      "Epoch 3 Loss: 0.6359, Train Accuracy: 62.90%\n",
      "Test Loss: 0.6298, Test Accuracy: 63.45%\n"
     ]
    },
    {
     "name": "stderr",
     "output_type": "stream",
     "text": [
      "Epoch 4/5 - LR: 0.000100: 100%|██████████| 1743/1743 [00:49<00:00, 35.43it/s, acc=64.24%, loss=0.6276]\n"
     ]
    },
    {
     "name": "stdout",
     "output_type": "stream",
     "text": [
      "Epoch 4 Loss: 0.6333, Train Accuracy: 63.14%\n",
      "Test Loss: 0.6281, Test Accuracy: 63.63%\n"
     ]
    },
    {
     "name": "stderr",
     "output_type": "stream",
     "text": [
      "Epoch 5/5 - LR: 0.000100: 100%|██████████| 1743/1743 [00:49<00:00, 35.41it/s, acc=65.98%, loss=0.6090]\n"
     ]
    },
    {
     "name": "stdout",
     "output_type": "stream",
     "text": [
      "Epoch 5 Loss: 0.6316, Train Accuracy: 63.31%\n",
      "Test Loss: 0.6270, Test Accuracy: 63.76%\n",
      "\n",
      "PCA Ratio: 0.60 (Top 39 features)\n",
      "PCA - Train Accuracy: 0.6219\n",
      "PCA - Validation Accuracy: 0.6278\n",
      "LDA - Train Accuracy: 0.6331\n",
      "LDA - Validation Accuracy: 0.6376\n"
     ]
    },
    {
     "name": "stderr",
     "output_type": "stream",
     "text": [
      "Epoch 1/5 - LR: 0.000100: 100%|██████████| 1743/1743 [00:49<00:00, 35.24it/s, acc=58.90%, loss=0.6688]\n"
     ]
    },
    {
     "name": "stdout",
     "output_type": "stream",
     "text": [
      "Epoch 1 Loss: 0.6719, Train Accuracy: 58.34%\n",
      "Test Loss: 0.6546, Test Accuracy: 60.78%\n"
     ]
    },
    {
     "name": "stderr",
     "output_type": "stream",
     "text": [
      "Epoch 2/5 - LR: 0.000100: 100%|██████████| 1743/1743 [00:48<00:00, 36.17it/s, acc=61.31%, loss=0.6458]\n"
     ]
    },
    {
     "name": "stdout",
     "output_type": "stream",
     "text": [
      "Epoch 2 Loss: 0.6552, Train Accuracy: 60.23%\n",
      "Test Loss: 0.6437, Test Accuracy: 61.70%\n"
     ]
    },
    {
     "name": "stderr",
     "output_type": "stream",
     "text": [
      "Epoch 3/5 - LR: 0.000100: 100%|██████████| 1743/1743 [00:48<00:00, 36.04it/s, acc=61.57%, loss=0.6474]\n"
     ]
    },
    {
     "name": "stdout",
     "output_type": "stream",
     "text": [
      "Epoch 3 Loss: 0.6469, Train Accuracy: 61.12%\n",
      "Test Loss: 0.6399, Test Accuracy: 62.02%\n"
     ]
    },
    {
     "name": "stderr",
     "output_type": "stream",
     "text": [
      "Epoch 4/5 - LR: 0.000100: 100%|██████████| 1743/1743 [00:48<00:00, 35.90it/s, acc=61.57%, loss=0.6359]\n"
     ]
    },
    {
     "name": "stdout",
     "output_type": "stream",
     "text": [
      "Epoch 4 Loss: 0.6430, Train Accuracy: 61.57%\n",
      "Test Loss: 0.6377, Test Accuracy: 62.26%\n"
     ]
    },
    {
     "name": "stderr",
     "output_type": "stream",
     "text": [
      "Epoch 5/5 - LR: 0.000100: 100%|██████████| 1743/1743 [00:47<00:00, 36.48it/s, acc=61.26%, loss=0.6461]\n"
     ]
    },
    {
     "name": "stdout",
     "output_type": "stream",
     "text": [
      "Epoch 5 Loss: 0.6409, Train Accuracy: 61.84%\n",
      "Test Loss: 0.6364, Test Accuracy: 62.43%\n"
     ]
    },
    {
     "name": "stderr",
     "output_type": "stream",
     "text": [
      "Epoch 1/5 - LR: 0.000100: 100%|██████████| 1743/1743 [00:47<00:00, 36.62it/s, acc=62.19%, loss=0.6471]\n"
     ]
    },
    {
     "name": "stdout",
     "output_type": "stream",
     "text": [
      "Epoch 1 Loss: 0.6566, Train Accuracy: 60.64%\n",
      "Test Loss: 0.6389, Test Accuracy: 62.52%\n"
     ]
    },
    {
     "name": "stderr",
     "output_type": "stream",
     "text": [
      "Epoch 2/5 - LR: 0.000100: 100%|██████████| 1743/1743 [00:48<00:00, 36.05it/s, acc=64.96%, loss=0.6234]\n"
     ]
    },
    {
     "name": "stdout",
     "output_type": "stream",
     "text": [
      "Epoch 2 Loss: 0.6400, Train Accuracy: 62.38%\n",
      "Test Loss: 0.6329, Test Accuracy: 63.05%\n"
     ]
    },
    {
     "name": "stderr",
     "output_type": "stream",
     "text": [
      "Epoch 3/5 - LR: 0.000100: 100%|██████████| 1743/1743 [00:49<00:00, 35.55it/s, acc=63.11%, loss=0.6338]\n"
     ]
    },
    {
     "name": "stdout",
     "output_type": "stream",
     "text": [
      "Epoch 3 Loss: 0.6355, Train Accuracy: 62.82%\n",
      "Test Loss: 0.6303, Test Accuracy: 63.35%\n"
     ]
    },
    {
     "name": "stderr",
     "output_type": "stream",
     "text": [
      "Epoch 4/5 - LR: 0.000100: 100%|██████████| 1743/1743 [00:48<00:00, 35.65it/s, acc=62.39%, loss=0.6346]\n"
     ]
    },
    {
     "name": "stdout",
     "output_type": "stream",
     "text": [
      "Epoch 4 Loss: 0.6334, Train Accuracy: 63.06%\n",
      "Test Loss: 0.6291, Test Accuracy: 63.50%\n"
     ]
    },
    {
     "name": "stderr",
     "output_type": "stream",
     "text": [
      "Epoch 5/5 - LR: 0.000100: 100%|██████████| 1743/1743 [00:48<00:00, 35.69it/s, acc=62.65%, loss=0.6428]\n"
     ]
    },
    {
     "name": "stdout",
     "output_type": "stream",
     "text": [
      "Epoch 5 Loss: 0.6321, Train Accuracy: 63.23%\n",
      "Test Loss: 0.6281, Test Accuracy: 63.61%\n",
      "\n",
      "PCA Ratio: 0.55 (Top 35 features)\n",
      "PCA - Train Accuracy: 0.6184\n",
      "PCA - Validation Accuracy: 0.6243\n",
      "LDA - Train Accuracy: 0.6323\n",
      "LDA - Validation Accuracy: 0.6361\n"
     ]
    },
    {
     "name": "stderr",
     "output_type": "stream",
     "text": [
      "Epoch 1/5 - LR: 0.000100: 100%|██████████| 1743/1743 [00:49<00:00, 34.96it/s, acc=58.49%, loss=0.6646]\n"
     ]
    },
    {
     "name": "stdout",
     "output_type": "stream",
     "text": [
      "Epoch 1 Loss: 0.6737, Train Accuracy: 58.05%\n",
      "Test Loss: 0.6531, Test Accuracy: 60.71%\n"
     ]
    },
    {
     "name": "stderr",
     "output_type": "stream",
     "text": [
      "Epoch 2/5 - LR: 0.000100: 100%|██████████| 1743/1743 [00:50<00:00, 34.83it/s, acc=61.06%, loss=0.6555]\n"
     ]
    },
    {
     "name": "stdout",
     "output_type": "stream",
     "text": [
      "Epoch 2 Loss: 0.6556, Train Accuracy: 60.03%\n",
      "Test Loss: 0.6448, Test Accuracy: 61.39%\n"
     ]
    },
    {
     "name": "stderr",
     "output_type": "stream",
     "text": [
      "Epoch 3/5 - LR: 0.000100: 100%|██████████| 1743/1743 [00:48<00:00, 35.65it/s, acc=61.83%, loss=0.6396]\n"
     ]
    },
    {
     "name": "stdout",
     "output_type": "stream",
     "text": [
      "Epoch 3 Loss: 0.6479, Train Accuracy: 60.88%\n",
      "Test Loss: 0.6410, Test Accuracy: 61.76%\n"
     ]
    },
    {
     "name": "stderr",
     "output_type": "stream",
     "text": [
      "Epoch 4/5 - LR: 0.000100: 100%|██████████| 1743/1743 [00:48<00:00, 36.02it/s, acc=60.70%, loss=0.6400]\n"
     ]
    },
    {
     "name": "stdout",
     "output_type": "stream",
     "text": [
      "Epoch 4 Loss: 0.6441, Train Accuracy: 61.38%\n",
      "Test Loss: 0.6386, Test Accuracy: 62.09%\n"
     ]
    },
    {
     "name": "stderr",
     "output_type": "stream",
     "text": [
      "Epoch 5/5 - LR: 0.000100: 100%|██████████| 1743/1743 [00:49<00:00, 35.40it/s, acc=60.75%, loss=0.6408]\n"
     ]
    },
    {
     "name": "stdout",
     "output_type": "stream",
     "text": [
      "Epoch 5 Loss: 0.6417, Train Accuracy: 61.74%\n",
      "Test Loss: 0.6371, Test Accuracy: 62.34%\n"
     ]
    },
    {
     "name": "stderr",
     "output_type": "stream",
     "text": [
      "Epoch 1/5 - LR: 0.000100: 100%|██████████| 1743/1743 [00:48<00:00, 35.70it/s, acc=60.75%, loss=0.6540]\n"
     ]
    },
    {
     "name": "stdout",
     "output_type": "stream",
     "text": [
      "Epoch 1 Loss: 0.6588, Train Accuracy: 60.39%\n",
      "Test Loss: 0.6404, Test Accuracy: 62.49%\n"
     ]
    },
    {
     "name": "stderr",
     "output_type": "stream",
     "text": [
      "Epoch 2/5 - LR: 0.000100: 100%|██████████| 1743/1743 [00:49<00:00, 35.28it/s, acc=63.21%, loss=0.6374]\n"
     ]
    },
    {
     "name": "stdout",
     "output_type": "stream",
     "text": [
      "Epoch 2 Loss: 0.6408, Train Accuracy: 62.34%\n",
      "Test Loss: 0.6331, Test Accuracy: 63.10%\n"
     ]
    },
    {
     "name": "stderr",
     "output_type": "stream",
     "text": [
      "Epoch 3/5 - LR: 0.000100: 100%|██████████| 1743/1743 [00:47<00:00, 36.46it/s, acc=62.70%, loss=0.6352]\n"
     ]
    },
    {
     "name": "stdout",
     "output_type": "stream",
     "text": [
      "Epoch 3 Loss: 0.6359, Train Accuracy: 62.81%\n",
      "Test Loss: 0.6303, Test Accuracy: 63.35%\n"
     ]
    },
    {
     "name": "stderr",
     "output_type": "stream",
     "text": [
      "Epoch 4/5 - LR: 0.000100: 100%|██████████| 1743/1743 [00:48<00:00, 35.78it/s, acc=65.62%, loss=0.6207]\n"
     ]
    },
    {
     "name": "stdout",
     "output_type": "stream",
     "text": [
      "Epoch 4 Loss: 0.6337, Train Accuracy: 63.04%\n",
      "Test Loss: 0.6290, Test Accuracy: 63.48%\n"
     ]
    },
    {
     "name": "stderr",
     "output_type": "stream",
     "text": [
      "Epoch 5/5 - LR: 0.000100: 100%|██████████| 1743/1743 [00:48<00:00, 36.16it/s, acc=62.34%, loss=0.6344]\n"
     ]
    },
    {
     "name": "stdout",
     "output_type": "stream",
     "text": [
      "Epoch 5 Loss: 0.6325, Train Accuracy: 63.19%\n",
      "Test Loss: 0.6282, Test Accuracy: 63.61%\n",
      "\n",
      "PCA Ratio: 0.50 (Top 32 features)\n",
      "PCA - Train Accuracy: 0.6174\n",
      "PCA - Validation Accuracy: 0.6234\n",
      "LDA - Train Accuracy: 0.6319\n",
      "LDA - Validation Accuracy: 0.6361\n"
     ]
    },
    {
     "name": "stderr",
     "output_type": "stream",
     "text": [
      "Epoch 1/5 - LR: 0.000100: 100%|██████████| 1743/1743 [00:48<00:00, 35.76it/s, acc=59.98%, loss=0.6525]\n"
     ]
    },
    {
     "name": "stdout",
     "output_type": "stream",
     "text": [
      "Epoch 1 Loss: 0.6702, Train Accuracy: 58.58%\n",
      "Test Loss: 0.6500, Test Accuracy: 61.02%\n"
     ]
    },
    {
     "name": "stderr",
     "output_type": "stream",
     "text": [
      "Epoch 2/5 - LR: 0.000100: 100%|██████████| 1743/1743 [00:47<00:00, 36.60it/s, acc=60.95%, loss=0.6498]\n"
     ]
    },
    {
     "name": "stdout",
     "output_type": "stream",
     "text": [
      "Epoch 2 Loss: 0.6526, Train Accuracy: 60.40%\n",
      "Test Loss: 0.6427, Test Accuracy: 61.67%\n"
     ]
    },
    {
     "name": "stderr",
     "output_type": "stream",
     "text": [
      "Epoch 3/5 - LR: 0.000100: 100%|██████████| 1743/1743 [00:48<00:00, 35.75it/s, acc=62.70%, loss=0.6323]\n"
     ]
    },
    {
     "name": "stdout",
     "output_type": "stream",
     "text": [
      "Epoch 3 Loss: 0.6455, Train Accuracy: 61.25%\n",
      "Test Loss: 0.6395, Test Accuracy: 61.95%\n"
     ]
    },
    {
     "name": "stderr",
     "output_type": "stream",
     "text": [
      "Epoch 4/5 - LR: 0.000100: 100%|██████████| 1743/1743 [00:48<00:00, 35.81it/s, acc=62.08%, loss=0.6408]\n"
     ]
    },
    {
     "name": "stdout",
     "output_type": "stream",
     "text": [
      "Epoch 4 Loss: 0.6423, Train Accuracy: 61.66%\n",
      "Test Loss: 0.6377, Test Accuracy: 62.23%\n"
     ]
    },
    {
     "name": "stderr",
     "output_type": "stream",
     "text": [
      "Epoch 5/5 - LR: 0.000100: 100%|██████████| 1743/1743 [00:47<00:00, 36.41it/s, acc=62.03%, loss=0.6468]\n"
     ]
    },
    {
     "name": "stdout",
     "output_type": "stream",
     "text": [
      "Epoch 5 Loss: 0.6403, Train Accuracy: 61.95%\n",
      "Test Loss: 0.6363, Test Accuracy: 62.47%\n"
     ]
    },
    {
     "name": "stderr",
     "output_type": "stream",
     "text": [
      "Epoch 1/5 - LR: 0.000100: 100%|██████████| 1743/1743 [00:49<00:00, 35.26it/s, acc=61.52%, loss=0.6408]\n"
     ]
    },
    {
     "name": "stdout",
     "output_type": "stream",
     "text": [
      "Epoch 1 Loss: 0.6516, Train Accuracy: 61.05%\n",
      "Test Loss: 0.6371, Test Accuracy: 62.57%\n"
     ]
    },
    {
     "name": "stderr",
     "output_type": "stream",
     "text": [
      "Epoch 2/5 - LR: 0.000100: 100%|██████████| 1743/1743 [00:48<00:00, 36.19it/s, acc=64.49%, loss=0.6285]\n"
     ]
    },
    {
     "name": "stdout",
     "output_type": "stream",
     "text": [
      "Epoch 2 Loss: 0.6386, Train Accuracy: 62.41%\n",
      "Test Loss: 0.6330, Test Accuracy: 63.01%\n"
     ]
    },
    {
     "name": "stderr",
     "output_type": "stream",
     "text": [
      "Epoch 3/5 - LR: 0.000100: 100%|██████████| 1743/1743 [00:48<00:00, 35.93it/s, acc=61.83%, loss=0.6391]\n"
     ]
    },
    {
     "name": "stdout",
     "output_type": "stream",
     "text": [
      "Epoch 3 Loss: 0.6356, Train Accuracy: 62.75%\n",
      "Test Loss: 0.6314, Test Accuracy: 63.22%\n"
     ]
    },
    {
     "name": "stderr",
     "output_type": "stream",
     "text": [
      "Epoch 4/5 - LR: 0.000100: 100%|██████████| 1743/1743 [00:47<00:00, 36.96it/s, acc=61.78%, loss=0.6379]\n"
     ]
    },
    {
     "name": "stdout",
     "output_type": "stream",
     "text": [
      "Epoch 4 Loss: 0.6342, Train Accuracy: 62.93%\n",
      "Test Loss: 0.6301, Test Accuracy: 63.37%\n"
     ]
    },
    {
     "name": "stderr",
     "output_type": "stream",
     "text": [
      "Epoch 5/5 - LR: 0.000100: 100%|██████████| 1743/1743 [00:48<00:00, 35.92it/s, acc=62.75%, loss=0.6292]\n"
     ]
    },
    {
     "name": "stdout",
     "output_type": "stream",
     "text": [
      "Epoch 5 Loss: 0.6331, Train Accuracy: 63.06%\n",
      "Test Loss: 0.6292, Test Accuracy: 63.47%\n",
      "\n",
      "PCA Ratio: 0.45 (Top 29 features)\n",
      "PCA - Train Accuracy: 0.6195\n",
      "PCA - Validation Accuracy: 0.6247\n",
      "LDA - Train Accuracy: 0.6306\n",
      "LDA - Validation Accuracy: 0.6347\n"
     ]
    },
    {
     "name": "stderr",
     "output_type": "stream",
     "text": [
      "Epoch 1/5 - LR: 0.000100: 100%|██████████| 1743/1743 [00:50<00:00, 34.80it/s, acc=60.49%, loss=0.6548]\n"
     ]
    },
    {
     "name": "stdout",
     "output_type": "stream",
     "text": [
      "Epoch 1 Loss: 0.6739, Train Accuracy: 57.49%\n",
      "Test Loss: 0.6550, Test Accuracy: 59.94%\n"
     ]
    },
    {
     "name": "stderr",
     "output_type": "stream",
     "text": [
      "Epoch 2/5 - LR: 0.000100: 100%|██████████| 1743/1743 [00:49<00:00, 35.49it/s, acc=58.59%, loss=0.6561]\n"
     ]
    },
    {
     "name": "stdout",
     "output_type": "stream",
     "text": [
      "Epoch 2 Loss: 0.6582, Train Accuracy: 59.14%\n",
      "Test Loss: 0.6499, Test Accuracy: 60.36%\n"
     ]
    },
    {
     "name": "stderr",
     "output_type": "stream",
     "text": [
      "Epoch 3/5 - LR: 0.000100: 100%|██████████| 1743/1743 [00:48<00:00, 36.29it/s, acc=60.90%, loss=0.6400]\n"
     ]
    },
    {
     "name": "stdout",
     "output_type": "stream",
     "text": [
      "Epoch 3 Loss: 0.6527, Train Accuracy: 59.80%\n",
      "Test Loss: 0.6475, Test Accuracy: 60.53%\n"
     ]
    },
    {
     "name": "stderr",
     "output_type": "stream",
     "text": [
      "Epoch 4/5 - LR: 0.000100: 100%|██████████| 1743/1743 [00:47<00:00, 36.56it/s, acc=60.34%, loss=0.6416]\n"
     ]
    },
    {
     "name": "stdout",
     "output_type": "stream",
     "text": [
      "Epoch 4 Loss: 0.6502, Train Accuracy: 60.12%\n",
      "Test Loss: 0.6466, Test Accuracy: 60.67%\n"
     ]
    },
    {
     "name": "stderr",
     "output_type": "stream",
     "text": [
      "Epoch 5/5 - LR: 0.000100: 100%|██████████| 1743/1743 [00:47<00:00, 36.74it/s, acc=61.52%, loss=0.6443]\n"
     ]
    },
    {
     "name": "stdout",
     "output_type": "stream",
     "text": [
      "Epoch 5 Loss: 0.6490, Train Accuracy: 60.31%\n",
      "Test Loss: 0.6460, Test Accuracy: 60.75%\n"
     ]
    },
    {
     "name": "stderr",
     "output_type": "stream",
     "text": [
      "Epoch 1/5 - LR: 0.000100: 100%|██████████| 1743/1743 [00:48<00:00, 35.96it/s, acc=62.65%, loss=0.6391]\n"
     ]
    },
    {
     "name": "stdout",
     "output_type": "stream",
     "text": [
      "Epoch 1 Loss: 0.6528, Train Accuracy: 60.87%\n",
      "Test Loss: 0.6383, Test Accuracy: 62.36%\n"
     ]
    },
    {
     "name": "stderr",
     "output_type": "stream",
     "text": [
      "Epoch 2/5 - LR: 0.000100: 100%|██████████| 1743/1743 [00:50<00:00, 34.80it/s, acc=61.98%, loss=0.6444]\n"
     ]
    },
    {
     "name": "stdout",
     "output_type": "stream",
     "text": [
      "Epoch 2 Loss: 0.6396, Train Accuracy: 62.21%\n",
      "Test Loss: 0.6338, Test Accuracy: 62.83%\n"
     ]
    },
    {
     "name": "stderr",
     "output_type": "stream",
     "text": [
      "Epoch 3/5 - LR: 0.000100: 100%|██████████| 1743/1743 [00:49<00:00, 35.39it/s, acc=63.62%, loss=0.6282]\n"
     ]
    },
    {
     "name": "stdout",
     "output_type": "stream",
     "text": [
      "Epoch 3 Loss: 0.6365, Train Accuracy: 62.56%\n",
      "Test Loss: 0.6324, Test Accuracy: 63.03%\n"
     ]
    },
    {
     "name": "stderr",
     "output_type": "stream",
     "text": [
      "Epoch 4/5 - LR: 0.000100: 100%|██████████| 1743/1743 [00:47<00:00, 36.76it/s, acc=61.31%, loss=0.6391]\n"
     ]
    },
    {
     "name": "stdout",
     "output_type": "stream",
     "text": [
      "Epoch 4 Loss: 0.6350, Train Accuracy: 62.76%\n",
      "Test Loss: 0.6315, Test Accuracy: 63.12%\n"
     ]
    },
    {
     "name": "stderr",
     "output_type": "stream",
     "text": [
      "Epoch 5/5 - LR: 0.000100: 100%|██████████| 1743/1743 [00:47<00:00, 36.64it/s, acc=61.88%, loss=0.6459]\n"
     ]
    },
    {
     "name": "stdout",
     "output_type": "stream",
     "text": [
      "Epoch 5 Loss: 0.6341, Train Accuracy: 62.89%\n",
      "Test Loss: 0.6307, Test Accuracy: 63.20%\n",
      "\n",
      "PCA Ratio: 0.40 (Top 26 features)\n",
      "PCA - Train Accuracy: 0.6031\n",
      "PCA - Validation Accuracy: 0.6075\n",
      "LDA - Train Accuracy: 0.6289\n",
      "LDA - Validation Accuracy: 0.6320\n"
     ]
    },
    {
     "name": "stderr",
     "output_type": "stream",
     "text": [
      "Epoch 1/5 - LR: 0.000100: 100%|██████████| 1743/1743 [00:47<00:00, 36.88it/s, acc=59.31%, loss=0.6591]\n"
     ]
    },
    {
     "name": "stdout",
     "output_type": "stream",
     "text": [
      "Epoch 1 Loss: 0.6767, Train Accuracy: 57.18%\n",
      "Test Loss: 0.6560, Test Accuracy: 59.58%\n"
     ]
    },
    {
     "name": "stderr",
     "output_type": "stream",
     "text": [
      "Epoch 2/5 - LR: 0.000100: 100%|██████████| 1743/1743 [00:46<00:00, 37.48it/s, acc=57.77%, loss=0.6656]\n"
     ]
    },
    {
     "name": "stdout",
     "output_type": "stream",
     "text": [
      "Epoch 2 Loss: 0.6598, Train Accuracy: 58.74%\n",
      "Test Loss: 0.6511, Test Accuracy: 60.03%\n"
     ]
    },
    {
     "name": "stderr",
     "output_type": "stream",
     "text": [
      "Epoch 3/5 - LR: 0.000100: 100%|██████████| 1743/1743 [00:47<00:00, 36.34it/s, acc=57.57%, loss=0.6626]\n"
     ]
    },
    {
     "name": "stdout",
     "output_type": "stream",
     "text": [
      "Epoch 3 Loss: 0.6542, Train Accuracy: 59.39%\n",
      "Test Loss: 0.6484, Test Accuracy: 60.21%\n"
     ]
    },
    {
     "name": "stderr",
     "output_type": "stream",
     "text": [
      "Epoch 4/5 - LR: 0.000100: 100%|██████████| 1743/1743 [00:48<00:00, 36.18it/s, acc=59.31%, loss=0.6627]\n"
     ]
    },
    {
     "name": "stdout",
     "output_type": "stream",
     "text": [
      "Epoch 4 Loss: 0.6514, Train Accuracy: 59.77%\n",
      "Test Loss: 0.6471, Test Accuracy: 60.36%\n"
     ]
    },
    {
     "name": "stderr",
     "output_type": "stream",
     "text": [
      "Epoch 5/5 - LR: 0.000100: 100%|██████████| 1743/1743 [00:47<00:00, 36.47it/s, acc=59.47%, loss=0.6521]\n"
     ]
    },
    {
     "name": "stdout",
     "output_type": "stream",
     "text": [
      "Epoch 5 Loss: 0.6498, Train Accuracy: 60.01%\n",
      "Test Loss: 0.6463, Test Accuracy: 60.47%\n"
     ]
    },
    {
     "name": "stderr",
     "output_type": "stream",
     "text": [
      "Epoch 1/5 - LR: 0.000100: 100%|██████████| 1743/1743 [00:49<00:00, 35.25it/s, acc=65.37%, loss=0.6306]\n"
     ]
    },
    {
     "name": "stdout",
     "output_type": "stream",
     "text": [
      "Epoch 1 Loss: 0.6503, Train Accuracy: 61.04%\n",
      "Test Loss: 0.6363, Test Accuracy: 62.46%\n"
     ]
    },
    {
     "name": "stderr",
     "output_type": "stream",
     "text": [
      "Epoch 2/5 - LR: 0.000100: 100%|██████████| 1743/1743 [00:49<00:00, 35.53it/s, acc=61.88%, loss=0.6372]\n"
     ]
    },
    {
     "name": "stdout",
     "output_type": "stream",
     "text": [
      "Epoch 2 Loss: 0.6387, Train Accuracy: 62.26%\n",
      "Test Loss: 0.6343, Test Accuracy: 62.77%\n"
     ]
    },
    {
     "name": "stderr",
     "output_type": "stream",
     "text": [
      "Epoch 3/5 - LR: 0.000100: 100%|██████████| 1743/1743 [00:48<00:00, 36.19it/s, acc=61.98%, loss=0.6459]\n"
     ]
    },
    {
     "name": "stdout",
     "output_type": "stream",
     "text": [
      "Epoch 3 Loss: 0.6369, Train Accuracy: 62.49%\n",
      "Test Loss: 0.6331, Test Accuracy: 62.90%\n"
     ]
    },
    {
     "name": "stderr",
     "output_type": "stream",
     "text": [
      "Epoch 4/5 - LR: 0.000100: 100%|██████████| 1743/1743 [00:47<00:00, 36.94it/s, acc=62.19%, loss=0.6366]\n"
     ]
    },
    {
     "name": "stdout",
     "output_type": "stream",
     "text": [
      "Epoch 4 Loss: 0.6357, Train Accuracy: 62.65%\n",
      "Test Loss: 0.6324, Test Accuracy: 63.01%\n"
     ]
    },
    {
     "name": "stderr",
     "output_type": "stream",
     "text": [
      "Epoch 5/5 - LR: 0.000100: 100%|██████████| 1743/1743 [00:50<00:00, 34.75it/s, acc=62.19%, loss=0.6346]\n"
     ]
    },
    {
     "name": "stdout",
     "output_type": "stream",
     "text": [
      "Epoch 5 Loss: 0.6349, Train Accuracy: 62.78%\n",
      "Test Loss: 0.6314, Test Accuracy: 63.18%\n",
      "\n",
      "PCA Ratio: 0.35 (Top 22 features)\n",
      "PCA - Train Accuracy: 0.6001\n",
      "PCA - Validation Accuracy: 0.6047\n",
      "LDA - Train Accuracy: 0.6278\n",
      "LDA - Validation Accuracy: 0.6318\n"
     ]
    },
    {
     "name": "stderr",
     "output_type": "stream",
     "text": [
      "Epoch 1/5 - LR: 0.000100: 100%|██████████| 1743/1743 [00:50<00:00, 34.77it/s, acc=58.18%, loss=0.6641]\n"
     ]
    },
    {
     "name": "stdout",
     "output_type": "stream",
     "text": [
      "Epoch 1 Loss: 0.6740, Train Accuracy: 57.34%\n",
      "Test Loss: 0.6564, Test Accuracy: 59.54%\n"
     ]
    },
    {
     "name": "stderr",
     "output_type": "stream",
     "text": [
      "Epoch 2/5 - LR: 0.000100: 100%|██████████| 1743/1743 [00:48<00:00, 35.79it/s, acc=60.95%, loss=0.6496]\n"
     ]
    },
    {
     "name": "stdout",
     "output_type": "stream",
     "text": [
      "Epoch 2 Loss: 0.6592, Train Accuracy: 58.86%\n",
      "Test Loss: 0.6514, Test Accuracy: 59.94%\n"
     ]
    },
    {
     "name": "stderr",
     "output_type": "stream",
     "text": [
      "Epoch 3/5 - LR: 0.000100: 100%|██████████| 1743/1743 [00:49<00:00, 35.47it/s, acc=60.65%, loss=0.6520]\n"
     ]
    },
    {
     "name": "stdout",
     "output_type": "stream",
     "text": [
      "Epoch 3 Loss: 0.6542, Train Accuracy: 59.46%\n",
      "Test Loss: 0.6492, Test Accuracy: 60.13%\n"
     ]
    },
    {
     "name": "stderr",
     "output_type": "stream",
     "text": [
      "Epoch 4/5 - LR: 0.000100: 100%|██████████| 1743/1743 [00:48<00:00, 35.92it/s, acc=58.39%, loss=0.6512]\n"
     ]
    },
    {
     "name": "stdout",
     "output_type": "stream",
     "text": [
      "Epoch 4 Loss: 0.6519, Train Accuracy: 59.72%\n",
      "Test Loss: 0.6480, Test Accuracy: 60.28%\n"
     ]
    },
    {
     "name": "stderr",
     "output_type": "stream",
     "text": [
      "Epoch 5/5 - LR: 0.000100: 100%|██████████| 1743/1743 [00:49<00:00, 35.47it/s, acc=59.21%, loss=0.6512]\n"
     ]
    },
    {
     "name": "stdout",
     "output_type": "stream",
     "text": [
      "Epoch 5 Loss: 0.6505, Train Accuracy: 59.91%\n",
      "Test Loss: 0.6473, Test Accuracy: 60.43%\n"
     ]
    },
    {
     "name": "stderr",
     "output_type": "stream",
     "text": [
      "Epoch 1/5 - LR: 0.000100: 100%|██████████| 1743/1743 [00:48<00:00, 36.04it/s, acc=63.57%, loss=0.6374]\n"
     ]
    },
    {
     "name": "stdout",
     "output_type": "stream",
     "text": [
      "Epoch 1 Loss: 0.6518, Train Accuracy: 60.88%\n",
      "Test Loss: 0.6381, Test Accuracy: 62.30%\n"
     ]
    },
    {
     "name": "stderr",
     "output_type": "stream",
     "text": [
      "Epoch 2/5 - LR: 0.000100: 100%|██████████| 1743/1743 [00:48<00:00, 35.91it/s, acc=62.29%, loss=0.6408]\n"
     ]
    },
    {
     "name": "stdout",
     "output_type": "stream",
     "text": [
      "Epoch 2 Loss: 0.6398, Train Accuracy: 62.16%\n",
      "Test Loss: 0.6354, Test Accuracy: 62.56%\n"
     ]
    },
    {
     "name": "stderr",
     "output_type": "stream",
     "text": [
      "Epoch 3/5 - LR: 0.000100: 100%|██████████| 1743/1743 [00:48<00:00, 35.99it/s, acc=64.19%, loss=0.6316]\n"
     ]
    },
    {
     "name": "stdout",
     "output_type": "stream",
     "text": [
      "Epoch 3 Loss: 0.6376, Train Accuracy: 62.41%\n",
      "Test Loss: 0.6341, Test Accuracy: 62.73%\n"
     ]
    },
    {
     "name": "stderr",
     "output_type": "stream",
     "text": [
      "Epoch 4/5 - LR: 0.000100: 100%|██████████| 1743/1743 [00:49<00:00, 35.46it/s, acc=63.52%, loss=0.6333]\n"
     ]
    },
    {
     "name": "stdout",
     "output_type": "stream",
     "text": [
      "Epoch 4 Loss: 0.6366, Train Accuracy: 62.56%\n",
      "Test Loss: 0.6333, Test Accuracy: 62.84%\n"
     ]
    },
    {
     "name": "stderr",
     "output_type": "stream",
     "text": [
      "Epoch 5/5 - LR: 0.000100: 100%|██████████| 1743/1743 [00:48<00:00, 35.84it/s, acc=62.19%, loss=0.6327]\n"
     ]
    },
    {
     "name": "stdout",
     "output_type": "stream",
     "text": [
      "Epoch 5 Loss: 0.6358, Train Accuracy: 62.67%\n",
      "Test Loss: 0.6326, Test Accuracy: 62.96%\n",
      "\n",
      "PCA Ratio: 0.30 (Top 19 features)\n",
      "PCA - Train Accuracy: 0.5991\n",
      "PCA - Validation Accuracy: 0.6043\n",
      "LDA - Train Accuracy: 0.6267\n",
      "LDA - Validation Accuracy: 0.6296\n"
     ]
    },
    {
     "name": "stderr",
     "output_type": "stream",
     "text": [
      "Epoch 1/5 - LR: 0.000100: 100%|██████████| 1743/1743 [00:48<00:00, 35.63it/s, acc=56.85%, loss=0.6774]\n"
     ]
    },
    {
     "name": "stdout",
     "output_type": "stream",
     "text": [
      "Epoch 1 Loss: 0.6797, Train Accuracy: 57.72%\n",
      "Test Loss: 0.6729, Test Accuracy: 58.75%\n"
     ]
    },
    {
     "name": "stderr",
     "output_type": "stream",
     "text": [
      "Epoch 2/5 - LR: 0.000100: 100%|██████████| 1743/1743 [00:47<00:00, 36.88it/s, acc=58.44%, loss=0.6709]\n"
     ]
    },
    {
     "name": "stdout",
     "output_type": "stream",
     "text": [
      "Epoch 2 Loss: 0.6743, Train Accuracy: 58.66%\n",
      "Test Loss: 0.6720, Test Accuracy: 58.89%\n"
     ]
    },
    {
     "name": "stderr",
     "output_type": "stream",
     "text": [
      "Epoch 3/5 - LR: 0.000100: 100%|██████████| 1743/1743 [00:47<00:00, 36.36it/s, acc=56.90%, loss=0.6824]\n"
     ]
    },
    {
     "name": "stdout",
     "output_type": "stream",
     "text": [
      "Epoch 3 Loss: 0.6731, Train Accuracy: 58.82%\n",
      "Test Loss: 0.6712, Test Accuracy: 59.01%\n"
     ]
    },
    {
     "name": "stderr",
     "output_type": "stream",
     "text": [
      "Epoch 4/5 - LR: 0.000100: 100%|██████████| 1743/1743 [00:48<00:00, 35.68it/s, acc=61.01%, loss=0.6633]\n"
     ]
    },
    {
     "name": "stdout",
     "output_type": "stream",
     "text": [
      "Epoch 4 Loss: 0.6723, Train Accuracy: 58.91%\n",
      "Test Loss: 0.6705, Test Accuracy: 59.09%\n"
     ]
    },
    {
     "name": "stderr",
     "output_type": "stream",
     "text": [
      "Epoch 5/5 - LR: 0.000100: 100%|██████████| 1743/1743 [00:48<00:00, 36.31it/s, acc=60.75%, loss=0.6662]\n"
     ]
    },
    {
     "name": "stdout",
     "output_type": "stream",
     "text": [
      "Epoch 5 Loss: 0.6717, Train Accuracy: 58.98%\n",
      "Test Loss: 0.6699, Test Accuracy: 59.09%\n"
     ]
    },
    {
     "name": "stderr",
     "output_type": "stream",
     "text": [
      "Epoch 1/5 - LR: 0.000100: 100%|██████████| 1743/1743 [00:48<00:00, 36.13it/s, acc=62.08%, loss=0.6434]\n"
     ]
    },
    {
     "name": "stdout",
     "output_type": "stream",
     "text": [
      "Epoch 1 Loss: 0.6493, Train Accuracy: 61.11%\n",
      "Test Loss: 0.6380, Test Accuracy: 62.37%\n"
     ]
    },
    {
     "name": "stderr",
     "output_type": "stream",
     "text": [
      "Epoch 2/5 - LR: 0.000100: 100%|██████████| 1743/1743 [00:48<00:00, 36.11it/s, acc=61.16%, loss=0.6434]\n"
     ]
    },
    {
     "name": "stdout",
     "output_type": "stream",
     "text": [
      "Epoch 2 Loss: 0.6406, Train Accuracy: 62.14%\n",
      "Test Loss: 0.6363, Test Accuracy: 62.51%\n"
     ]
    },
    {
     "name": "stderr",
     "output_type": "stream",
     "text": [
      "Epoch 3/5 - LR: 0.000100: 100%|██████████| 1743/1743 [00:48<00:00, 36.14it/s, acc=61.06%, loss=0.6412]\n"
     ]
    },
    {
     "name": "stdout",
     "output_type": "stream",
     "text": [
      "Epoch 3 Loss: 0.6388, Train Accuracy: 62.34%\n",
      "Test Loss: 0.6354, Test Accuracy: 62.67%\n"
     ]
    },
    {
     "name": "stderr",
     "output_type": "stream",
     "text": [
      "Epoch 4/5 - LR: 0.000100: 100%|██████████| 1743/1743 [00:47<00:00, 36.97it/s, acc=62.03%, loss=0.6294]\n"
     ]
    },
    {
     "name": "stdout",
     "output_type": "stream",
     "text": [
      "Epoch 4 Loss: 0.6377, Train Accuracy: 62.48%\n",
      "Test Loss: 0.6345, Test Accuracy: 62.80%\n"
     ]
    },
    {
     "name": "stderr",
     "output_type": "stream",
     "text": [
      "Epoch 5/5 - LR: 0.000100: 100%|██████████| 1743/1743 [00:48<00:00, 35.97it/s, acc=62.54%, loss=0.6383]\n"
     ]
    },
    {
     "name": "stdout",
     "output_type": "stream",
     "text": [
      "Epoch 5 Loss: 0.6370, Train Accuracy: 62.57%\n",
      "Test Loss: 0.6339, Test Accuracy: 62.89%\n",
      "\n",
      "PCA Ratio: 0.25 (Top 16 features)\n",
      "PCA - Train Accuracy: 0.5898\n",
      "PCA - Validation Accuracy: 0.5909\n",
      "LDA - Train Accuracy: 0.6257\n",
      "LDA - Validation Accuracy: 0.6289\n"
     ]
    },
    {
     "name": "stderr",
     "output_type": "stream",
     "text": [
      "Epoch 1/5 - LR: 0.000100: 100%|██████████| 1743/1743 [00:49<00:00, 35.25it/s, acc=57.21%, loss=0.6767]\n"
     ]
    },
    {
     "name": "stdout",
     "output_type": "stream",
     "text": [
      "Epoch 1 Loss: 0.6787, Train Accuracy: 57.44%\n",
      "Test Loss: 0.6725, Test Accuracy: 58.48%\n"
     ]
    },
    {
     "name": "stderr",
     "output_type": "stream",
     "text": [
      "Epoch 2/5 - LR: 0.000100: 100%|██████████| 1743/1743 [00:49<00:00, 34.98it/s, acc=59.00%, loss=0.6738]\n"
     ]
    },
    {
     "name": "stdout",
     "output_type": "stream",
     "text": [
      "Epoch 2 Loss: 0.6738, Train Accuracy: 58.31%\n",
      "Test Loss: 0.6714, Test Accuracy: 58.57%\n"
     ]
    },
    {
     "name": "stderr",
     "output_type": "stream",
     "text": [
      "Epoch 3/5 - LR: 0.000100: 100%|██████████| 1743/1743 [00:50<00:00, 34.82it/s, acc=60.08%, loss=0.6634]\n"
     ]
    },
    {
     "name": "stdout",
     "output_type": "stream",
     "text": [
      "Epoch 3 Loss: 0.6726, Train Accuracy: 58.48%\n",
      "Test Loss: 0.6708, Test Accuracy: 58.70%\n"
     ]
    },
    {
     "name": "stderr",
     "output_type": "stream",
     "text": [
      "Epoch 4/5 - LR: 0.000100: 100%|██████████| 1743/1743 [00:50<00:00, 34.81it/s, acc=57.21%, loss=0.6773]\n"
     ]
    },
    {
     "name": "stdout",
     "output_type": "stream",
     "text": [
      "Epoch 4 Loss: 0.6719, Train Accuracy: 58.57%\n",
      "Test Loss: 0.6701, Test Accuracy: 58.74%\n"
     ]
    },
    {
     "name": "stderr",
     "output_type": "stream",
     "text": [
      "Epoch 5/5 - LR: 0.000100: 100%|██████████| 1743/1743 [00:48<00:00, 36.06it/s, acc=59.31%, loss=0.6662]\n"
     ]
    },
    {
     "name": "stdout",
     "output_type": "stream",
     "text": [
      "Epoch 5 Loss: 0.6713, Train Accuracy: 58.64%\n",
      "Test Loss: 0.6695, Test Accuracy: 58.77%\n"
     ]
    },
    {
     "name": "stderr",
     "output_type": "stream",
     "text": [
      "Epoch 1/5 - LR: 0.000100: 100%|██████████| 1743/1743 [00:49<00:00, 34.98it/s, acc=62.08%, loss=0.6410]\n"
     ]
    },
    {
     "name": "stdout",
     "output_type": "stream",
     "text": [
      "Epoch 1 Loss: 0.6514, Train Accuracy: 60.86%\n",
      "Test Loss: 0.6410, Test Accuracy: 61.87%\n"
     ]
    },
    {
     "name": "stderr",
     "output_type": "stream",
     "text": [
      "Epoch 2/5 - LR: 0.000100: 100%|██████████| 1743/1743 [00:48<00:00, 36.15it/s, acc=60.60%, loss=0.6500]\n"
     ]
    },
    {
     "name": "stdout",
     "output_type": "stream",
     "text": [
      "Epoch 2 Loss: 0.6426, Train Accuracy: 61.82%\n",
      "Test Loss: 0.6392, Test Accuracy: 62.02%\n"
     ]
    },
    {
     "name": "stderr",
     "output_type": "stream",
     "text": [
      "Epoch 3/5 - LR: 0.000100: 100%|██████████| 1743/1743 [00:48<00:00, 36.18it/s, acc=63.88%, loss=0.6282]\n"
     ]
    },
    {
     "name": "stdout",
     "output_type": "stream",
     "text": [
      "Epoch 3 Loss: 0.6410, Train Accuracy: 61.98%\n",
      "Test Loss: 0.6384, Test Accuracy: 62.13%\n"
     ]
    },
    {
     "name": "stderr",
     "output_type": "stream",
     "text": [
      "Epoch 4/5 - LR: 0.000100: 100%|██████████| 1743/1743 [00:48<00:00, 35.94it/s, acc=60.85%, loss=0.6477]\n"
     ]
    },
    {
     "name": "stdout",
     "output_type": "stream",
     "text": [
      "Epoch 4 Loss: 0.6401, Train Accuracy: 62.07%\n",
      "Test Loss: 0.6376, Test Accuracy: 62.23%\n"
     ]
    },
    {
     "name": "stderr",
     "output_type": "stream",
     "text": [
      "Epoch 5/5 - LR: 0.000100: 100%|██████████| 1743/1743 [00:47<00:00, 36.44it/s, acc=61.88%, loss=0.6357]\n"
     ]
    },
    {
     "name": "stdout",
     "output_type": "stream",
     "text": [
      "Epoch 5 Loss: 0.6394, Train Accuracy: 62.16%\n",
      "Test Loss: 0.6370, Test Accuracy: 62.41%\n",
      "\n",
      "PCA Ratio: 0.20 (Top 13 features)\n",
      "PCA - Train Accuracy: 0.5864\n",
      "PCA - Validation Accuracy: 0.5877\n",
      "LDA - Train Accuracy: 0.6216\n",
      "LDA - Validation Accuracy: 0.6241\n"
     ]
    },
    {
     "name": "stderr",
     "output_type": "stream",
     "text": [
      "Epoch 1/5 - LR: 0.000100: 100%|██████████| 1743/1743 [00:49<00:00, 35.10it/s, acc=52.39%, loss=0.6898]\n"
     ]
    },
    {
     "name": "stdout",
     "output_type": "stream",
     "text": [
      "Epoch 1 Loss: 0.6924, Train Accuracy: 52.47%\n",
      "Test Loss: 0.6880, Test Accuracy: 53.35%\n"
     ]
    },
    {
     "name": "stderr",
     "output_type": "stream",
     "text": [
      "Epoch 2/5 - LR: 0.000100: 100%|██████████| 1743/1743 [00:49<00:00, 35.42it/s, acc=54.54%, loss=0.6879]\n"
     ]
    },
    {
     "name": "stdout",
     "output_type": "stream",
     "text": [
      "Epoch 2 Loss: 0.6887, Train Accuracy: 53.26%\n",
      "Test Loss: 0.6876, Test Accuracy: 53.56%\n"
     ]
    },
    {
     "name": "stderr",
     "output_type": "stream",
     "text": [
      "Epoch 3/5 - LR: 0.000100: 100%|██████████| 1743/1743 [00:49<00:00, 35.41it/s, acc=55.11%, loss=0.6869]\n"
     ]
    },
    {
     "name": "stdout",
     "output_type": "stream",
     "text": [
      "Epoch 3 Loss: 0.6882, Train Accuracy: 53.49%\n",
      "Test Loss: 0.6873, Test Accuracy: 53.69%\n"
     ]
    },
    {
     "name": "stderr",
     "output_type": "stream",
     "text": [
      "Epoch 4/5 - LR: 0.000100: 100%|██████████| 1743/1743 [00:49<00:00, 35.33it/s, acc=56.13%, loss=0.6857]\n"
     ]
    },
    {
     "name": "stdout",
     "output_type": "stream",
     "text": [
      "Epoch 4 Loss: 0.6878, Train Accuracy: 53.65%\n",
      "Test Loss: 0.6869, Test Accuracy: 53.84%\n"
     ]
    },
    {
     "name": "stderr",
     "output_type": "stream",
     "text": [
      "Epoch 5/5 - LR: 0.000100: 100%|██████████| 1743/1743 [00:49<00:00, 35.33it/s, acc=52.95%, loss=0.6887]\n"
     ]
    },
    {
     "name": "stdout",
     "output_type": "stream",
     "text": [
      "Epoch 5 Loss: 0.6875, Train Accuracy: 53.75%\n",
      "Test Loss: 0.6867, Test Accuracy: 53.98%\n"
     ]
    },
    {
     "name": "stderr",
     "output_type": "stream",
     "text": [
      "Epoch 1/5 - LR: 0.000100: 100%|██████████| 1743/1743 [00:49<00:00, 35.35it/s, acc=62.19%, loss=0.6441]\n"
     ]
    },
    {
     "name": "stdout",
     "output_type": "stream",
     "text": [
      "Epoch 1 Loss: 0.6503, Train Accuracy: 60.69%\n",
      "Test Loss: 0.6422, Test Accuracy: 61.50%\n"
     ]
    },
    {
     "name": "stderr",
     "output_type": "stream",
     "text": [
      "Epoch 2/5 - LR: 0.000100: 100%|██████████| 1743/1743 [00:48<00:00, 35.61it/s, acc=60.90%, loss=0.6471]\n"
     ]
    },
    {
     "name": "stdout",
     "output_type": "stream",
     "text": [
      "Epoch 2 Loss: 0.6439, Train Accuracy: 61.45%\n",
      "Test Loss: 0.6409, Test Accuracy: 61.63%\n"
     ]
    },
    {
     "name": "stderr",
     "output_type": "stream",
     "text": [
      "Epoch 3/5 - LR: 0.000100: 100%|██████████| 1743/1743 [00:48<00:00, 35.59it/s, acc=61.62%, loss=0.6440]\n"
     ]
    },
    {
     "name": "stdout",
     "output_type": "stream",
     "text": [
      "Epoch 3 Loss: 0.6425, Train Accuracy: 61.60%\n",
      "Test Loss: 0.6400, Test Accuracy: 61.76%\n"
     ]
    },
    {
     "name": "stderr",
     "output_type": "stream",
     "text": [
      "Epoch 4/5 - LR: 0.000100: 100%|██████████| 1743/1743 [00:48<00:00, 35.68it/s, acc=60.95%, loss=0.6441]\n"
     ]
    },
    {
     "name": "stdout",
     "output_type": "stream",
     "text": [
      "Epoch 4 Loss: 0.6417, Train Accuracy: 61.70%\n",
      "Test Loss: 0.6394, Test Accuracy: 61.86%\n"
     ]
    },
    {
     "name": "stderr",
     "output_type": "stream",
     "text": [
      "Epoch 5/5 - LR: 0.000100: 100%|██████████| 1743/1743 [00:48<00:00, 35.60it/s, acc=59.52%, loss=0.6555]\n"
     ]
    },
    {
     "name": "stdout",
     "output_type": "stream",
     "text": [
      "Epoch 5 Loss: 0.6413, Train Accuracy: 61.76%\n",
      "Test Loss: 0.6392, Test Accuracy: 61.88%\n",
      "\n",
      "PCA Ratio: 0.15 (Top 9 features)\n",
      "PCA - Train Accuracy: 0.5375\n",
      "PCA - Validation Accuracy: 0.5398\n",
      "LDA - Train Accuracy: 0.6176\n",
      "LDA - Validation Accuracy: 0.6188\n"
     ]
    },
    {
     "name": "stderr",
     "output_type": "stream",
     "text": [
      "Epoch 1/5 - LR: 0.000100: 100%|██████████| 1743/1743 [00:50<00:00, 34.51it/s, acc=59.36%, loss=0.6723]\n"
     ]
    },
    {
     "name": "stdout",
     "output_type": "stream",
     "text": [
      "Epoch 1 Loss: 0.6802, Train Accuracy: 57.59%\n",
      "Test Loss: 0.6761, Test Accuracy: 58.04%\n"
     ]
    },
    {
     "name": "stderr",
     "output_type": "stream",
     "text": [
      "Epoch 2/5 - LR: 0.000100: 100%|██████████| 1743/1743 [00:48<00:00, 36.31it/s, acc=58.49%, loss=0.6720]\n"
     ]
    },
    {
     "name": "stdout",
     "output_type": "stream",
     "text": [
      "Epoch 2 Loss: 0.6767, Train Accuracy: 58.08%\n",
      "Test Loss: 0.6756, Test Accuracy: 58.14%\n"
     ]
    },
    {
     "name": "stderr",
     "output_type": "stream",
     "text": [
      "Epoch 3/5 - LR: 0.000100: 100%|██████████| 1743/1743 [00:46<00:00, 37.18it/s, acc=57.72%, loss=0.6780]\n"
     ]
    },
    {
     "name": "stdout",
     "output_type": "stream",
     "text": [
      "Epoch 3 Loss: 0.6761, Train Accuracy: 58.20%\n",
      "Test Loss: 0.6752, Test Accuracy: 58.27%\n"
     ]
    },
    {
     "name": "stderr",
     "output_type": "stream",
     "text": [
      "Epoch 4/5 - LR: 0.000100: 100%|██████████| 1743/1743 [00:47<00:00, 37.05it/s, acc=56.75%, loss=0.6805]\n"
     ]
    },
    {
     "name": "stdout",
     "output_type": "stream",
     "text": [
      "Epoch 4 Loss: 0.6757, Train Accuracy: 58.29%\n",
      "Test Loss: 0.6752, Test Accuracy: 58.29%\n"
     ]
    },
    {
     "name": "stderr",
     "output_type": "stream",
     "text": [
      "Epoch 5/5 - LR: 0.000100: 100%|██████████| 1743/1743 [00:47<00:00, 36.87it/s, acc=59.06%, loss=0.6706]\n"
     ]
    },
    {
     "name": "stdout",
     "output_type": "stream",
     "text": [
      "Epoch 5 Loss: 0.6755, Train Accuracy: 58.33%\n",
      "Test Loss: 0.6750, Test Accuracy: 58.33%\n"
     ]
    },
    {
     "name": "stderr",
     "output_type": "stream",
     "text": [
      "Epoch 1/5 - LR: 0.000100: 100%|██████████| 1743/1743 [00:48<00:00, 35.72it/s, acc=56.34%, loss=0.6816]\n"
     ]
    },
    {
     "name": "stdout",
     "output_type": "stream",
     "text": [
      "Epoch 1 Loss: 0.6743, Train Accuracy: 58.48%\n",
      "Test Loss: 0.6722, Test Accuracy: 58.61%\n"
     ]
    },
    {
     "name": "stderr",
     "output_type": "stream",
     "text": [
      "Epoch 2/5 - LR: 0.000100: 100%|██████████| 1743/1743 [00:47<00:00, 36.84it/s, acc=59.72%, loss=0.6667]\n"
     ]
    },
    {
     "name": "stdout",
     "output_type": "stream",
     "text": [
      "Epoch 2 Loss: 0.6729, Train Accuracy: 58.62%\n",
      "Test Loss: 0.6717, Test Accuracy: 58.61%\n"
     ]
    },
    {
     "name": "stderr",
     "output_type": "stream",
     "text": [
      "Epoch 3/5 - LR: 0.000100: 100%|██████████| 1743/1743 [00:46<00:00, 37.14it/s, acc=56.70%, loss=0.6782]\n"
     ]
    },
    {
     "name": "stdout",
     "output_type": "stream",
     "text": [
      "Epoch 3 Loss: 0.6722, Train Accuracy: 58.69%\n",
      "Test Loss: 0.6712, Test Accuracy: 58.79%\n"
     ]
    },
    {
     "name": "stderr",
     "output_type": "stream",
     "text": [
      "Epoch 4/5 - LR: 0.000100: 100%|██████████| 1743/1743 [00:45<00:00, 37.96it/s, acc=58.34%, loss=0.6720]\n"
     ]
    },
    {
     "name": "stdout",
     "output_type": "stream",
     "text": [
      "Epoch 4 Loss: 0.6718, Train Accuracy: 58.75%\n",
      "Test Loss: 0.6708, Test Accuracy: 58.83%\n"
     ]
    },
    {
     "name": "stderr",
     "output_type": "stream",
     "text": [
      "Epoch 5/5 - LR: 0.000100: 100%|██████████| 1743/1743 [00:46<00:00, 37.71it/s, acc=59.72%, loss=0.6671]\n"
     ]
    },
    {
     "name": "stdout",
     "output_type": "stream",
     "text": [
      "Epoch 5 Loss: 0.6715, Train Accuracy: 58.81%\n",
      "Test Loss: 0.6704, Test Accuracy: 58.91%\n",
      "\n",
      "PCA Ratio: 0.10 (Top 6 features)\n",
      "PCA - Train Accuracy: 0.5833\n",
      "PCA - Validation Accuracy: 0.5833\n",
      "LDA - Train Accuracy: 0.5881\n",
      "LDA - Validation Accuracy: 0.5891\n"
     ]
    }
   ],
   "source": [
    "ratios = [0.7, 0.65, 0.6, 0.55, 0.5, 0.45, 0.4, 0.35, 0.3, 0.25, 0.2, 0.15, 0.1]\n",
    "for ratio in ratios:\n",
    "    # Fit PCA\n",
    "    num_features = int(total_features * ratio)\n",
    "    pca = PCA(n_components=num_features)\n",
    "    pca.fit(X_train)\n",
    "    \n",
    "    # Store number of components for this ratio\n",
    "    results['ratio'].append(ratio)\n",
    "    results['num_features'].append(num_features)\n",
    "    \n",
    "    # Get PCA feature importance\n",
    "    pca_importance = np.sum(np.abs(pca.components_), axis=0)\n",
    "    pca_features = X_train.columns[np.argsort(pca_importance)[-num_features:]]\n",
    "    \n",
    "    # Fit LDA and get feature importance\n",
    "    lda = LDA()\n",
    "    lda.fit(X_train, y_train)\n",
    "    lda_importance = np.abs(lda.coef_[0])\n",
    "    lda_features = X_train.columns[np.argsort(lda_importance)[-num_features:]]\n",
    "\n",
    "    simple_model, criterion, optimizer, scheduler = create_model(num_features)\n",
    "    \n",
    "    # Train and evaluate using PCA-selected features\n",
    "    # Create datasets and data loaders\n",
    "    X_train_pca = X_train[pca_features]            # DataFrame of shape (N, m)\n",
    "    X_val_pca  = X_val[pca_features]\n",
    "    X_train_tensor_pca = torch.tensor(X_train_pca.values, dtype=torch.float32)\n",
    "    X_val_tensor_pca = torch.tensor(X_val_pca.values, dtype=torch.float32)\n",
    "    train_dataset_pca = TensorDataset(X_train_tensor_pca, y_train_tensor)\n",
    "    test_dataset_pca = TensorDataset(X_val_tensor_pca, y_test_tensor)\n",
    "    train_loader = DataLoader(train_dataset_pca, batch_size=4096, shuffle=True)\n",
    "    test_loader = DataLoader(test_dataset_pca, batch_size=4096, shuffle=False)\n",
    "    model_weights_pca, train_loss_pca, test_loss_pca, train_accuracy_pca, test_accuracy_pca, lrs_pca = helper_functions.train_and_evaluate_model(simple_model, criterion, optimizer, scheduler, train_loader, test_loader, 5)\n",
    "    \n",
    "    results['train_acc_pca'].append(train_accuracy_pca[-1])\n",
    "    results['test_acc_pca'].append(test_accuracy_pca[-1])\n",
    "    \n",
    "    # Train and evaluate using LDA-selected features\n",
    "    X_train_lda = X_train[lda_features]            # DataFrame of shape (N, m)\n",
    "    X_val_lda  = X_val[lda_features]\n",
    "    X_train_tensor_lda = torch.tensor(X_train_lda.values, dtype=torch.float32)\n",
    "    X_val_tensor_lda = torch.tensor(X_val_lda.values, dtype=torch.float32)\n",
    "    train_dataset_lda = TensorDataset(X_train_tensor_lda, y_train_tensor)\n",
    "    test_dataset_lda = TensorDataset(X_val_tensor_lda, y_test_tensor)\n",
    "    train_loader = DataLoader(train_dataset_lda, batch_size=4096, shuffle=True)\n",
    "    test_loader = DataLoader(test_dataset_lda, batch_size=4096, shuffle=False)\n",
    "    model_weights_lda, train_loss_lda, test_loss_lda, train_accuracy_lda, test_accuracy_lda, lrs_lda = helper_functions.train_and_evaluate_model(simple_model, criterion, optimizer, scheduler, train_loader, test_loader, 5)\n",
    "    \n",
    "    results['train_acc_lda'].append(train_accuracy_lda[-1])\n",
    "    results['test_acc_lda'].append(test_accuracy_lda[-1])\n",
    "    \n",
    "    print(f\"\\nPCA Ratio: {ratio:.2f} (Top {num_features} features)\")\n",
    "    print(f\"PCA - Train Accuracy: {results['train_acc_pca'][-1]:.4f}\")\n",
    "    print(f\"PCA - Validation Accuracy: {results['test_acc_pca'][-1]:.4f}\")\n",
    "    print(f\"LDA - Train Accuracy: {results['train_acc_lda'][-1]:.4f}\")\n",
    "    print(f\"LDA - Validation Accuracy: {results['test_acc_lda'][-1]:.4f}\")"
   ]
  },
  {
   "cell_type": "code",
   "execution_count": 24,
   "id": "dcc3a1ad",
   "metadata": {},
   "outputs": [],
   "source": [
    "import matplotlib.pyplot as plt"
   ]
  },
  {
   "cell_type": "code",
   "execution_count": 51,
   "id": "da83ad50",
   "metadata": {},
   "outputs": [
    {
     "data": {
      "image/png": "[encoded data removed]",
      "text/plain": [
       "<Figure size 1200x600 with 2 Axes>"
      ]
     },
     "metadata": {},
     "output_type": "display_data"
    }
   ],
   "source": [
    "plt.figure(figsize=(12, 6))\n",
    "\n",
    "plt.subplot(1, 2, 1)\n",
    "plt.plot(results['num_features'], results['train_acc_pca'], marker='o', label='PCA Train')\n",
    "plt.plot(results['num_features'], results['test_acc_pca'], marker='s', label='PCA Validation')\n",
    "plt.xlabel('Number of Features')\n",
    "plt.ylabel('Accuracy')\n",
    "plt.title('PCA Feature Selection Performance')\n",
    "plt.legend()\n",
    "plt.grid(True)\n",
    "\n",
    "plt.subplot(1, 2, 2)\n",
    "plt.plot(results['num_features'], results['train_acc_lda'], marker='o', label='LDA Train')\n",
    "plt.plot(results['num_features'], results['test_acc_lda'], marker='s', label='LDA Validation')\n",
    "plt.xlabel('Number of Features')\n",
    "plt.ylabel('Accuracy')\n",
    "plt.title('LDA Feature Selection Performance')\n",
    "plt.legend()\n",
    "plt.grid(True)\n",
    "\n",
    "plt.tight_layout()\n",
    "plt.show()"
   ]
  },
  {
   "cell_type": "code",
   "execution_count": 54,
   "id": "f3269a31",
   "metadata": {},
   "outputs": [
    {
     "name": "stdout",
     "output_type": "stream",
     "text": [
      "PCA - Top 28 features: ['Census_FirmwareManufacturerIdentifier', 'EngineVersion', 'Census_InternalPrimaryDiagonalDisplaySizeInInches', 'Census_TotalPhysicalRAM', 'aspect_ratio', 'Firewall', 'Census_OSInstallTypeName', 'Census_GenuineStateName', 'Census_ProcessorCoreCount', 'Census_PrimaryDiskTypeName', 'primary_drive_c_ratio', 'Processor', 'Census_SystemVolumeTotalCapacity', 'Census_IsVirtualDevice', 'Screen_Area', 'SmartScreen', 'Census_OEMNameIdentifier', 'Census_OEMModelIdentifier', 'Wdft_IsGamer', 'OrganizationIdentifier', 'IsProtected', 'AvSigVersion', 'Wdft_RegionIdentifier', 'AVProductsEnabled', 'DefaultBrowsersIdentifier', 'CityIdentifier', 'Census_ProcessorModelIdentifier', 'Census_HasOpticalDiskDrive']\n",
      "LDA - Top 28 features: ['OsPlatformSubRelease', 'Census_TotalPhysicalRAM', 'Census_PowerPlatformRoleName', 'magic_4', 'Census_OSUILocaleIdentifier', 'Census_HasOpticalDiskDrive', 'DefaultBrowsersIdentifier', 'Census_InternalPrimaryDiagonalDisplaySizeInInches', 'Census_OSBranch', 'Census_OSVersion', 'AVProductsInstalled_slim', 'OsBuild', 'Census_InternalBatteryNumberOfCharges', 'Wdft_IsGamer', 'Census_OSInstallTypeName', 'SkuEdition', 'IsProtected', 'Census_IsVirtualDevice', 'primary_drive_c_ratio', 'Processor', 'Census_InternalPrimaryDisplayResolutionHorizontal', 'SmartScreen', 'AVProductStatesIdentifier', 'EngineVersion', 'dpi', 'AVProductsInstalled', 'Census_OSSkuName', 'Census_OSEdition']\n"
     ]
    }
   ],
   "source": [
    "num_features = 28\n",
    "pca = PCA(n_components=num_features)\n",
    "pca.fit(X_train)\n",
    "\n",
    "# Store number of components for this ratio\n",
    "results['ratio'].append(ratio)\n",
    "results['num_features'].append(num_features)\n",
    "\n",
    "# Get PCA feature importance\n",
    "pca_importance = np.sum(np.abs(pca.components_), axis=0)\n",
    "pca_features = X_train.columns[np.argsort(pca_importance)[-num_features:]]\n",
    "print(f\"PCA - Top {num_features} features: {pca_features.tolist()}\")\n",
    "\n",
    "# Fit LDA and get feature importance\n",
    "lda = LDA()\n",
    "lda.fit(X_train, y_train)\n",
    "lda_importance = np.abs(lda.coef_[0])\n",
    "lda_features = X_train.columns[np.argsort(lda_importance)[-num_features:]]\n",
    "print(f\"LDA - Top {num_features} features: {lda_features.tolist()}\")"
   ]
  }
 ],
 "metadata": {
  "kernelspec": {
   "display_name": "Python 3",
   "language": "python",
   "name": "python3"
  },
  "language_info": {
   "codemirror_mode": {
    "name": "ipython",
    "version": 3
   },
   "file_extension": ".py",
   "mimetype": "text/x-python",
   "name": "python",
   "nbconvert_exporter": "python",
   "pygments_lexer": "ipython3",
   "version": "3.11.11"
  }
 },
 "nbformat": 4,
 "nbformat_minor": 5
}
