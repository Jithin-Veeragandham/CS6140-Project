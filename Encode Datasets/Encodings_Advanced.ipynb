{
 "cells": [
  {
   "cell_type": "code",
   "execution_count": null,
   "id": "5993559d",
   "metadata": {},
   "outputs": [],
   "source": [
    "import pandas as pd\n",
    "import numpy as np\n",
    "from sklearn.preprocessing import OrdinalEncoder\n",
    "from sklearn.model_selection import train_test_split\n",
    "from sklearn.preprocessing import StandardScaler\n",
    "import pickle\n",
    "from helper_functions import reduce_mem_usage\n",
    "import numpy as np \n",
    "import pandas as pd \n",
    "from datetime import datetime as dt\n",
    "import os\n",
    "import seaborn as sns \n",
    "import matplotlib.pyplot as plt\n",
    "%matplotlib inline\n",
    "plt.style.use('ggplot')\n",
    "import lightgbm as lgb\n",
    "import xgboost as xgb\n",
    "import time\n",
    "import datetime\n",
    "from tqdm import tqdm_notebook as tqdm\n",
    "from sklearn.preprocessing import LabelEncoder\n",
    "from sklearn.model_selection import StratifiedKFold, KFold, TimeSeriesSplit\n",
    "from sklearn.metrics import mean_squared_error, roc_auc_score\n",
    "from sklearn.linear_model import LogisticRegression, LogisticRegressionCV\n",
    "from sklearn import metrics\n",
    "import gc\n",
    "from tqdm import tqdm_notebook\n",
    "import plotly.offline as py\n",
    "py.init_notebook_mode(connected=True)\n",
    "import plotly.graph_objs as go\n",
    "import plotly.tools as tls\n"
   ]
  },
  {
   "cell_type": "code",
   "execution_count": 2,
   "id": "f506873d",
   "metadata": {},
   "outputs": [],
   "source": [
    "dtypes = {\n",
    "        'MachineIdentifier':                                    'category',\n",
    "        'ProductName':                                          'category',\n",
    "        'EngineVersion':                                        'category',\n",
    "        'AppVersion':                                           'category',\n",
    "        'AvSigVersion':                                         'category',\n",
    "        'IsBeta':                                               'int8',\n",
    "        'RtpStateBitfield':                                     'float32',\n",
    "        'IsSxsPassiveMode':                                     'int8',\n",
    "        'DefaultBrowsersIdentifier':                            'float32',\n",
    "        'AVProductStatesIdentifier':                            'float32',\n",
    "        'AVProductsInstalled':                                  'float32',\n",
    "        'AVProductsEnabled':                                    'float32',\n",
    "        'HasTpm':                                               'int8',\n",
    "        'CountryIdentifier':                                    'int16',\n",
    "        'CityIdentifier':                                       'float32',\n",
    "        'OrganizationIdentifier':                               'float32',\n",
    "        'GeoNameIdentifier':                                    'float32',\n",
    "        'LocaleEnglishNameIdentifier':                          'int8',\n",
    "        'Platform':                                             'category',\n",
    "        'Processor':                                            'category',\n",
    "        'OsVer':                                                'category',\n",
    "        'OsBuild':                                              'int16',\n",
    "        'OsSuite':                                              'int16',\n",
    "        'OsPlatformSubRelease':                                 'category',\n",
    "        'OsBuildLab':                                           'category',\n",
    "        'SkuEdition':                                           'category',\n",
    "        'IsProtected':                                          'float32',\n",
    "        'AutoSampleOptIn':                                      'int8',\n",
    "        'PuaMode':                                              'category',\n",
    "        'SMode':                                                'float32',\n",
    "        'IeVerIdentifier':                                      'float32',\n",
    "        'SmartScreen':                                          'category',\n",
    "        'Firewall':                                             'float32',\n",
    "        'UacLuaenable':                                         'float32',\n",
    "        'Census_MDC2FormFactor':                                'category',\n",
    "        'Census_DeviceFamily':                                  'category',\n",
    "        'Census_OEMNameIdentifier':                             'float32',\n",
    "        'Census_OEMModelIdentifier':                            'float32',\n",
    "        'Census_ProcessorCoreCount':                            'float32',\n",
    "        'Census_ProcessorManufacturerIdentifier':               'float32',\n",
    "        'Census_ProcessorModelIdentifier':                      'float32',\n",
    "        'Census_ProcessorClass':                                'category',\n",
    "        'Census_PrimaryDiskTotalCapacity':                      'float32',\n",
    "        'Census_PrimaryDiskTypeName':                           'category',\n",
    "        'Census_SystemVolumeTotalCapacity':                     'float32',\n",
    "        'Census_HasOpticalDiskDrive':                           'int8',\n",
    "        'Census_TotalPhysicalRAM':                              'float32',\n",
    "        'Census_ChassisTypeName':                               'category',\n",
    "        'Census_InternalPrimaryDiagonalDisplaySizeInInches':    'float32',\n",
    "        'Census_InternalPrimaryDisplayResolutionHorizontal':    'float32',\n",
    "        'Census_InternalPrimaryDisplayResolutionVertical':      'float32',\n",
    "        'Census_PowerPlatformRoleName':                         'category',\n",
    "        'Census_InternalBatteryType':                           'category',\n",
    "        'Census_InternalBatteryNumberOfCharges':                'float32',\n",
    "        'Census_OSVersion':                                     'category',\n",
    "        'Census_OSArchitecture':                                'category',\n",
    "        'Census_OSBranch':                                      'category',\n",
    "        'Census_OSBuildNumber':                                 'int16',\n",
    "        'Census_OSBuildRevision':                               'int32',\n",
    "        'Census_OSEdition':                                     'category',\n",
    "        'Census_OSSkuName':                                     'category',\n",
    "        'Census_OSInstallTypeName':                             'category',\n",
    "        'Census_OSInstallLanguageIdentifier':                   'float32',\n",
    "        'Census_OSUILocaleIdentifier':                          'int16',\n",
    "        'Census_OSWUAutoUpdateOptionsName':                     'category',\n",
    "        'Census_IsPortableOperatingSystem':                     'int8',\n",
    "        'Census_GenuineStateName':                              'category',\n",
    "        'Census_ActivationChannel':                             'category',\n",
    "        'Census_IsFlightingInternal':                           'float32',\n",
    "        'Census_IsFlightsDisabled':                             'float32',\n",
    "        'Census_FlightRing':                                    'category',\n",
    "        'Census_ThresholdOptIn':                                'float32',\n",
    "        'Census_FirmwareManufacturerIdentifier':                'float32',\n",
    "        'Census_FirmwareVersionIdentifier':                     'float32',\n",
    "        'Census_IsSecureBootEnabled':                           'int8',\n",
    "        'Census_IsWIMBootEnabled':                              'float32',\n",
    "        'Census_IsVirtualDevice':                               'float32',\n",
    "        'Census_IsTouchEnabled':                                'int8',\n",
    "        'Census_IsPenCapable':                                  'int8',\n",
    "        'Census_IsAlwaysOnAlwaysConnectedCapable':              'float32',\n",
    "        'Wdft_IsGamer':                                         'float32',\n",
    "        'Wdft_RegionIdentifier':                                'float32',\n",
    "        'HasDetections':                                        'int8'\n",
    "        }"
   ]
  },
  {
   "cell_type": "code",
   "execution_count": 3,
   "id": "9620ba5c",
   "metadata": {},
   "outputs": [],
   "source": [
    "train = pd.read_csv(r'C:\\Users\\jithi\\OneDrive\\Desktop\\ML project\\microsoft-malware-prediction\\train.csv',dtype=dtypes)"
   ]
  },
  {
   "cell_type": "code",
   "execution_count": 4,
   "id": "4bb6021a",
   "metadata": {},
   "outputs": [
    {
     "name": "stdout",
     "output_type": "stream",
     "text": [
      "MachineIdentifier: category, ['7ac5958f30ae9aa155d829b3698b677c', 'f2f678206e129fafa51f37f0a0271195']\n",
      "Categories (8921483, object): ['0000028988387b115f69f31a3bf04f09', '000007535c3f730efa9ea0b7ef1bd645', '000007905a28d863f6d0d597892cd692', '00000b11598a75ea8ba1beea8459149f', ..., 'ffffef606490b2970873ec0a27ebd24b', 'fffff8a40070d2d8379bb7fa2ed2fa66', 'fffffbbaaf5969ae4b93e7f3f6d7132f', 'ffffff75ba4f33d938ccfdb148b8ea16']\n",
      "ProductName: category, ['win8defender', 'win8defender']\n",
      "Categories (6, object): ['mse', 'win8defender', 'mseprerelease', 'windowsintune', 'fep', 'scep']\n",
      "EngineVersion: category, ['1.1.15100.1', '1.1.15200.1']\n",
      "Categories (70, object): ['1.1.12805.0', '1.1.12902.0', '1.1.13000.0', '1.1.13103.0', ..., '1.1.11202.0', '1.1.11104.0', '1.1.12802.0', '1.1.10701.0']\n",
      "AppVersion: category, ['4.18.1807.18075', '4.14.17639.18041']\n",
      "Categories (110, object): ['4.10.14393.0', '4.10.14393.1066', '4.10.14393.1198', '4.10.14393.1593', ..., '4.13.17618.1000', '4.12.16299.0', '4.8.10240.17943', '4.13.17604.1000']\n",
      "AvSigVersion: category, ['1.273.1568.0', '1.275.1382.0']\n",
      "Categories (8531, object): ['1.221.14.0', '1.225.1459.0', '1.225.1590.0', '1.225.191.0', ..., '1.217.500.0', '1.203.1966.0', '1.213.1918.0', '1.223.1075.0']\n",
      "IsBeta: int8, [0 0]\n",
      "RtpStateBitfield: float32, [7. 8.]\n",
      "IsSxsPassiveMode: int8, [0 0]\n",
      "DefaultBrowsersIdentifier: float32, [ nan 510.]\n",
      "AVProductStatesIdentifier: float32, [53447. 43761.]\n",
      "AVProductsInstalled: float32, [1. 2.]\n",
      "AVProductsEnabled: float32, [1. 1.]\n",
      "HasTpm: int8, [1 1]\n",
      "CountryIdentifier: int16, [ 9 45]\n",
      "CityIdentifier: float32, [75123. 91549.]\n",
      "OrganizationIdentifier: float32, [27. nan]\n",
      "GeoNameIdentifier: float32, [224. 277.]\n",
      "LocaleEnglishNameIdentifier: int8, [101  81]\n",
      "Platform: category, ['windows10', 'windows10']\n",
      "Categories (4, object): ['windows10', 'windows2016', 'windows7', 'windows8']\n",
      "Processor: category, ['x64', 'x64']\n",
      "Categories (3, object): ['arm64', 'x64', 'x86']\n",
      "OsVer: category, ['10.0.0.0', '10.0.0.0']\n",
      "Categories (58, object): ['10.0.0.0', '6.1.1.0', '6.3.0.0', '10.0.1.44', ..., '10.0.0.2', '6.3.0.112', '10.0.0.80', '6.3.7.0']\n",
      "OsBuild: int16, [16299 17134]\n",
      "OsSuite: int16, [768 768]\n",
      "OsPlatformSubRelease: category, ['rs4', 'rs4']\n",
      "Categories (9, object): ['prers5', 'rs1', 'rs2', 'rs3', ..., 'th1', 'th2', 'windows7', 'windows8.1']\n",
      "OsBuildLab: category, ['16299.431.amd64fre.rs3_release_svc_escrow.180..., '14393.2007.x86fre.rs1_release.171231-1800']\n",
      "Categories (663, object): ['10240.16384.amd64fre.th1.150709-1700', '10240.16384.x86fre.th1.150709-1700', '10240.16393.amd64fre.th1_st1.150717-1719', '10240.16393.x86fre.th1_st1.150717-1719', ..., '18236.1001.amd64fre.rs_xbox.180906-1100', '17744.1000.amd64fre.rs5_release.180817-1423', '14466.1944.amd64fre.rs1_release.171244-2100', '17750.1000.amd64fre.rs5_release.180827-1459']\n",
      "SkuEdition: category, ['Home', 'Home']\n",
      "Categories (8, object): ['Cloud', 'Education', 'Enterprise', 'Enterprise LTSB', 'Home', 'Invalid', 'Pro', 'Server']\n",
      "IsProtected: float32, [1. 1.]\n",
      "AutoSampleOptIn: int8, [0 0]\n",
      "PuaMode: category, [NaN, NaN]\n",
      "Categories (2, object): ['on', 'audit']\n",
      "SMode: float32, [0. 0.]\n",
      "IeVerIdentifier: float32, [137. 117.]\n",
      "SmartScreen: category, ['RequireAdmin', NaN]\n",
      "Categories (21, object): ['Block', 'ExistsNotSet', 'Off', 'On', ..., 'warn', '00000000', 'requireAdmin', '&#x03;']\n",
      "Firewall: float32, [1. 1.]\n",
      "UacLuaenable: float32, [1. 1.]\n",
      "Census_MDC2FormFactor: category, ['Desktop', 'Notebook']\n",
      "Categories (13, object): ['AllInOne', 'Convertible', 'Desktop', 'Detachable', ..., 'SmallServer', 'SmallTablet', 'ServerOther', 'IoTOther']\n",
      "Census_DeviceFamily: category, ['Windows.Desktop', 'Windows.Desktop']\n",
      "Categories (3, object): ['Windows.Desktop', 'Windows.Server', 'Windows']\n",
      "Census_OEMNameIdentifier: float32, [1443. 4730.]\n",
      "Census_OEMModelIdentifier: float32, [189521. 189491.]\n",
      "Census_ProcessorCoreCount: float32, [2. 2.]\n",
      "Census_ProcessorManufacturerIdentifier: float32, [5. 5.]\n",
      "Census_ProcessorModelIdentifier: float32, [2840. 1985.]\n",
      "Census_ProcessorClass: category, [NaN, NaN]\n",
      "Categories (3, object): ['high', 'low', 'mid']\n",
      "Census_PrimaryDiskTotalCapacity: float32, [122104. 953869.]\n",
      "Census_PrimaryDiskTypeName: category, ['SSD', 'HDD']\n",
      "Categories (4, object): ['HDD', 'SSD', 'UNKNOWN', 'Unspecified']\n",
      "Census_SystemVolumeTotalCapacity: float32, [237797. 113971.]\n",
      "Census_HasOpticalDiskDrive: int8, [0 0]\n",
      "Census_TotalPhysicalRAM: float32, [4096. 4096.]\n",
      "Census_ChassisTypeName: category, ['Desktop', 'Notebook']\n",
      "Categories (52, object): ['30', 'AllinOne', 'Convertible', 'Desktop', ..., 'BladeEnclosure', '81', 'EmbeddedPC', '39']\n",
      "Census_InternalPrimaryDiagonalDisplaySizeInInches: float32, [13.9 13.3]\n",
      "Census_InternalPrimaryDisplayResolutionHorizontal: float32, [1920. 3200.]\n",
      "Census_InternalPrimaryDisplayResolutionVertical: float32, [768. 768.]\n",
      "Census_PowerPlatformRoleName: category, ['Mobile', 'Mobile']\n",
      "Categories (10, object): ['AppliancePC', 'Desktop', 'EnterpriseServer', 'Mobile', ..., 'UNKNOWN', 'Workstation', 'PerformanceServer', 'Unspecified']\n",
      "Census_InternalBatteryType: category, [NaN, 'lion']\n",
      "Categories (78, object): ['#', 'bq20', 'li', 'li p', ..., '#TAB#', 'l\u0006&#TAB#', 'liÿÿ', 'lÿÿÿ']\n",
      "Census_InternalBatteryNumberOfCharges: float32, [4.2949673e+09 0.0000000e+00]\n",
      "Census_OSVersion: category, ['10.0.17134.228', '10.0.16299.431']\n",
      "Categories (469, object): ['10.0.10240.16384', '10.0.10240.16397', '10.0.10240.16405', '10.0.10240.16413', ..., '6.2.9200.21703', '10.0.14466.228', '10.0.16299.183', '10.0.17750.1000']\n",
      "Census_OSArchitecture: category, ['amd64', 'amd64']\n",
      "Categories (3, object): ['amd64', 'arm64', 'x86']\n",
      "Census_OSBranch: category, ['rs4_release', 'rs4_release']\n",
      "Categories (32, object): ['rs1_release', 'rs2_release', 'rs3_release', 'rs3_release_svc_escrow', ..., 'rs1_release_svc', 'rs_xbox', 'rs5_release_sign', 'win8_ldr']\n",
      "Census_OSBuildNumber: int16, [10586 16299]\n",
      "Census_OSBuildRevision: int32, [165 104]\n",
      "Census_OSEdition: category, ['Professional', 'Professional']\n",
      "Categories (33, object): ['Cloud', 'Core', 'CoreCountrySpecific', 'CoreN', ..., 'Pro', 'Enterprise 2015 LTSB', 'Home', 'professional']\n",
      "Census_OSSkuName: category, ['CORE_SINGLELANGUAGE', 'PROFESSIONAL']\n",
      "Categories (30, object): ['CLOUD', 'CORE', 'CORE_COUNTRYSPECIFIC', 'CORE_N', ..., 'STARTER', 'PRO_FOR_EDUCATION', 'PRO_SINGLE_LANGUAGE', 'UNDEFINED']\n",
      "Census_OSInstallTypeName: category, ['Upgrade', 'Update']\n",
      "Categories (9, object): ['Clean', 'CleanPCRefresh', 'IBSClean', 'Other', ..., 'Reset', 'UUPUpgrade', 'Update', 'Upgrade']\n",
      "Census_OSInstallLanguageIdentifier: float32, [14.  8.]\n",
      "Census_OSUILocaleIdentifier: int16, [31 31]\n",
      "Census_OSWUAutoUpdateOptionsName: category, ['FullAuto', 'FullAuto']\n",
      "Categories (6, object): ['AutoInstallAndRebootAtMaintenanceTime', 'DownloadNotify', 'FullAuto', 'Notify', 'Off', 'UNKNOWN']\n",
      "Census_IsPortableOperatingSystem: int8, [0 0]\n",
      "Census_GenuineStateName: category, ['IS_GENUINE', 'IS_GENUINE']\n",
      "Categories (5, object): ['INVALID_LICENSE', 'IS_GENUINE', 'OFFLINE', 'UNKNOWN', 'TAMPERED']\n",
      "Census_ActivationChannel: category, ['Retail', 'Retail']\n",
      "Categories (6, object): ['OEM:DM', 'OEM:NONSLP', 'Retail', 'Retail:TB:Eval', 'Volume:GVLK', 'Volume:MAK']\n",
      "Census_IsFlightingInternal: float32, [nan nan]\n",
      "Census_IsFlightsDisabled: float32, [0. 0.]\n",
      "Census_FlightRing: category, ['Retail', 'Retail']\n",
      "Categories (10, object): ['Disabled', 'NOT_SET', 'RP', 'Retail', ..., 'WIS', 'OSG', 'Canary', 'Invalid']\n",
      "Census_ThresholdOptIn: float32, [nan nan]\n",
      "Census_FirmwareManufacturerIdentifier: float32, [556. 142.]\n",
      "Census_FirmwareVersionIdentifier: float32, [33006. 59563.]\n",
      "Census_IsSecureBootEnabled: int8, [0 1]\n",
      "Census_IsWIMBootEnabled: float32, [ 0. nan]\n",
      "Census_IsVirtualDevice: float32, [0. 0.]\n",
      "Census_IsTouchEnabled: int8, [0 1]\n",
      "Census_IsPenCapable: int8, [0 0]\n",
      "Census_IsAlwaysOnAlwaysConnectedCapable: float32, [0. 0.]\n",
      "Wdft_IsGamer: float32, [1. 0.]\n",
      "Wdft_RegionIdentifier: float32, [10.  2.]\n",
      "HasDetections: int8, [1 0]\n"
     ]
    }
   ],
   "source": [
    "#for each column print data type and 2 sample values\n",
    "for col in train.columns:\n",
    "    print(f\"{col}: {train[col].dtype}, {train[col].sample(2).values}\")"
   ]
  },
  {
   "cell_type": "code",
   "execution_count": null,
   "id": "7a44e9fe",
   "metadata": {},
   "outputs": [
    {
     "name": "stdout",
     "output_type": "stream",
     "text": [
      "Mem. usage decreased to 2300.96 Mb (16.6% reduction)\n"
     ]
    }
   ],
   "source": [
    "numerics = ['int8', 'int16', 'int32', 'int64', 'float16', 'float32', 'float64']\n",
    "numerical_columns = [c for c,v in dtypes.items() if v in numerics]\n",
    "categorical_columns = [c for c,v in dtypes.items() if v not in numerics]\n",
    "\n",
    "train_y = train['HasDetections']\n",
    "\n",
    "train = reduce_mem_usage(train)"
   ]
  },
  {
   "cell_type": "code",
   "execution_count": null,
   "id": "b95e91f2",
   "metadata": {},
   "outputs": [],
   "source": [
    "toDrop=['IsBeta','AutoSampleOptIn','Census_DeviceFamily',\n",
    "        'Census_ProcessorManufacturerIdentifier','ProductName',\n",
    "        'Census_IsPortableOperatingSystem','OsVer','Census_IsWIMBootEnabled',\n",
    "        'Platform', 'PuaMode', 'Census_IsPenCapable', 'Census_IsFlightsDisabled',\n",
    "        'Census_ProcessorClass', 'Census_IsFlightingInternal', 'Census_InternalBatteryType',\n",
    "        'Census_IsAlwaysOnAlwaysConnectedCapable', 'UacLuaenable', 'Census_OSBuildNumber',\n",
    "        'Census_OSArchitecture', 'Census_IsTouchEnabled', 'Census_ThresholdOptIn', 'Census_ThresholdOptIn', 'SMode',\n",
    "        'HasTpm'\n",
    "       ]\n",
    "train.drop(toDrop, axis=1, inplace=True)\n",
    "\n",
    "def rename_edition(x):\n",
    "    x = x.lower()\n",
    "    if 'core' in x:\n",
    "        return 'Core'\n",
    "    elif 'pro' in x:\n",
    "        return 'pro'\n",
    "    elif 'enterprise' in x:\n",
    "        return 'Enterprise'\n",
    "    elif 'server' in x:\n",
    "        return 'Server'\n",
    "    elif 'home' in x:\n",
    "        return 'Home'\n",
    "    elif 'education' in x:\n",
    "        return 'Education'\n",
    "    elif 'cloud' in x:\n",
    "        return 'Cloud'\n",
    "    else:\n",
    "        return x\n",
    "    \n",
    "def encode_categorical_columns(x_train, columns, to_drop=None, sort=True):\n",
    "    from tqdm import tqdm\n",
    "    import pandas as pd\n",
    "\n",
    "    to_drop = to_drop if to_drop is not None else []\n",
    "\n",
    "    print(\"Training length:\", x_train.shape[0])\n",
    "\n",
    "    for col in tqdm(columns):\n",
    "        if col in to_drop or col in ['MachineIdentifier', 'HasDetections']:\n",
    "            continue\n",
    "\n",
    "        # Factorize only on train data\n",
    "        x_train[col], uniques = pd.factorize(x_train[col], sort=sort)\n",
    "        x_train[col] = x_train[col].astype('int32')\n",
    "\n",
    "        # Create a mapping dictionary from unique values\n",
    "        category_map = {cat: idx for idx, cat in enumerate(uniques)}\n",
    "\n",
    "        # Map test data using the train-derived mapping\n",
    "\n",
    "        # Optional: replace missing (unseen categories in test) with -1 or 0\n",
    "        print(f\"{col} encoded. Train shape: {x_train.shape}\")\n",
    "\n",
    "    return x_train,category_map\n",
    "def encode_categorical_columns_test(x_test, columns, category_map):\n",
    "    from tqdm import tqdm\n",
    "    import pandas as pd\n",
    "\n",
    "    for col in tqdm(columns):\n",
    "        if col in ['MachineIdentifier']:\n",
    "            continue\n",
    "\n",
    "        # Map test data using the train-derived mapping\n",
    "        x_test[col] = x_test[col].map(category_map)\n",
    "    return x_test\n",
    "\n",
    "\n",
    "one_hot = {}\n",
    "def add_features(df):\n",
    "    global one_hot\n",
    "    df['primary_drive_c_ratio'] = df['Census_SystemVolumeTotalCapacity']/ df['Census_PrimaryDiskTotalCapacity'];\n",
    "    df['primary_drive_c_ratio'] = df['primary_drive_c_ratio'].astype('float32')\n",
    "    \n",
    "    df['non_primary_drive_MB'] = df['Census_PrimaryDiskTotalCapacity'] - df['Census_SystemVolumeTotalCapacity'];\n",
    "    df['non_primary_drive_MB'] = df['non_primary_drive_MB'].astype('float32')\n",
    "    \n",
    "    df['aspect_ratio'] = df['Census_InternalPrimaryDisplayResolutionHorizontal']/ df['Census_InternalPrimaryDisplayResolutionVertical'];\n",
    "    df['aspect_ratio'] = df['aspect_ratio'].astype('float16')\n",
    "\n",
    "    df['dpi'] = ((df['Census_InternalPrimaryDisplayResolutionHorizontal'].astype('float32')**2 + df['Census_InternalPrimaryDisplayResolutionVertical'].astype('float32')**2)**.5)/(df['Census_InternalPrimaryDiagonalDisplaySizeInInches'].astype('float32'));\n",
    "    df['dpi']=df['dpi'].astype('float32')\n",
    "\n",
    "    df['Screen_Area'] = (df['aspect_ratio']* (df['Census_InternalPrimaryDiagonalDisplaySizeInInches']**2))/(df['aspect_ratio']**2 + 1);\n",
    "    df['Screen_Area'] = df['Screen_Area'].astype('float32')\n",
    "\n",
    "    df['AVProductsInstalled_slim']= df['AVProductsInstalled']\n",
    "    df.loc[df['AVProductsInstalled'].isin([1, 2]) == False, 'AVProductsInstalled_slim'] = 3\n",
    "\n",
    "\n",
    "    top_15 = df['AVProductStatesIdentifier'].value_counts(dropna=False, normalize=True).cumsum().index[:15]\n",
    "    df['magic_4'] = 0\n",
    "    df.loc[df['AVProductStatesIdentifier'].isin(top_15) == True, 'magic_4'] = 1\n",
    "    \n",
    "    df['Census_OSEdition'] = df['Census_OSEdition'].astype(str)\n",
    "    df['Census_OSEdition'] = df['Census_OSEdition'].apply(rename_edition)\n",
    "    df['Census_OSEdition'] = df['Census_OSEdition'].astype('category')\n",
    "\n",
    "    return df"
   ]
  },
  {
   "cell_type": "code",
   "execution_count": null,
   "id": "d61ac695",
   "metadata": {},
   "outputs": [
    {
     "name": "stderr",
     "output_type": "stream",
     "text": [
      "C:\\Users\\jithi\\AppData\\Local\\Temp\\ipykernel_540\\3393876572.py:1: FutureWarning:\n",
      "\n",
      "A value is trying to be set on a copy of a DataFrame or Series through chained assignment using an inplace method.\n",
      "The behavior will change in pandas 3.0. This inplace method will never work because the intermediate object on which we are setting values always behaves as a copy.\n",
      "\n",
      "For example, when doing 'df[col].method(value, inplace=True)', try using 'df.method({col: value}, inplace=True)' or df[col] = df[col].method(value) instead, to perform the operation inplace on the original object.\n",
      "\n",
      "\n",
      "\n",
      "C:\\Users\\jithi\\AppData\\Local\\Temp\\ipykernel_540\\3393876572.py:1: FutureWarning:\n",
      "\n",
      "The behavior of Series.replace (and DataFrame.replace) with CategoricalDtype is deprecated. In a future version, replace will only be used for cases that preserve the categories. To change the categories, use ser.cat.rename_categories instead.\n",
      "\n"
     ]
    },
    {
     "name": "stdout",
     "output_type": "stream",
     "text": [
      "Training length: 8921483\n"
     ]
    },
    {
     "name": "stderr",
     "output_type": "stream",
     "text": [
      " 10%|█         | 3/30 [00:00<00:01, 20.98it/s]"
     ]
    },
    {
     "name": "stdout",
     "output_type": "stream",
     "text": [
      "EngineVersion encoded. Train shape: (8921483, 67)\n",
      "AppVersion encoded. Train shape: (8921483, 67)\n"
     ]
    },
    {
     "name": "stderr",
     "output_type": "stream",
     "text": [
      " 20%|██        | 6/30 [00:00<00:01, 12.32it/s]"
     ]
    },
    {
     "name": "stdout",
     "output_type": "stream",
     "text": [
      "AvSigVersion encoded. Train shape: (8921483, 67)\n"
     ]
    },
    {
     "name": "stderr",
     "output_type": "stream",
     "text": [
      " 27%|██▋       | 8/30 [00:00<00:01, 13.26it/s]"
     ]
    },
    {
     "name": "stdout",
     "output_type": "stream",
     "text": [
      "Processor encoded. Train shape: (8921483, 67)\n",
      "OsPlatformSubRelease encoded. Train shape: (8921483, 67)\n"
     ]
    },
    {
     "name": "stderr",
     "output_type": "stream",
     "text": [
      " 33%|███▎      | 10/30 [00:00<00:01, 10.34it/s]"
     ]
    },
    {
     "name": "stdout",
     "output_type": "stream",
     "text": [
      "OsBuildLab encoded. Train shape: (8921483, 67)\n"
     ]
    },
    {
     "name": "stderr",
     "output_type": "stream",
     "text": [
      " 40%|████      | 12/30 [00:00<00:01, 11.52it/s]"
     ]
    },
    {
     "name": "stdout",
     "output_type": "stream",
     "text": [
      "SkuEdition encoded. Train shape: (8921483, 67)\n",
      "SmartScreen encoded. Train shape: (8921483, 67)\n"
     ]
    },
    {
     "name": "stderr",
     "output_type": "stream",
     "text": [
      " 47%|████▋     | 14/30 [00:01<00:01,  9.15it/s]"
     ]
    },
    {
     "name": "stdout",
     "output_type": "stream",
     "text": [
      "Census_MDC2FormFactor encoded. Train shape: (8921483, 67)\n"
     ]
    },
    {
     "name": "stderr",
     "output_type": "stream",
     "text": [
      " 57%|█████▋    | 17/30 [00:01<00:01, 12.00it/s]"
     ]
    },
    {
     "name": "stdout",
     "output_type": "stream",
     "text": [
      "Census_PrimaryDiskTypeName encoded. Train shape: (8921483, 67)\n",
      "Census_ChassisTypeName encoded. Train shape: (8921483, 67)\n"
     ]
    },
    {
     "name": "stderr",
     "output_type": "stream",
     "text": [
      " 63%|██████▎   | 19/30 [00:01<00:01, 10.10it/s]"
     ]
    },
    {
     "name": "stdout",
     "output_type": "stream",
     "text": [
      "Census_PowerPlatformRoleName encoded. Train shape: (8921483, 67)\n"
     ]
    },
    {
     "name": "stderr",
     "output_type": "stream",
     "text": [
      " 70%|███████   | 21/30 [00:01<00:00, 10.91it/s]"
     ]
    },
    {
     "name": "stdout",
     "output_type": "stream",
     "text": [
      "Census_OSVersion encoded. Train shape: (8921483, 67)\n"
     ]
    },
    {
     "name": "stderr",
     "output_type": "stream",
     "text": [
      " 77%|███████▋  | 23/30 [00:02<00:00, 11.58it/s]"
     ]
    },
    {
     "name": "stdout",
     "output_type": "stream",
     "text": [
      "Census_OSBranch encoded. Train shape: (8921483, 67)\n",
      "Census_OSEdition encoded. Train shape: (8921483, 67)\n"
     ]
    },
    {
     "name": "stderr",
     "output_type": "stream",
     "text": [
      " 83%|████████▎ | 25/30 [00:02<00:00, 10.06it/s]"
     ]
    },
    {
     "name": "stdout",
     "output_type": "stream",
     "text": [
      "Census_OSSkuName encoded. Train shape: (8921483, 67)\n",
      "Census_OSInstallTypeName encoded. Train shape: (8921483, 67)\n"
     ]
    },
    {
     "name": "stderr",
     "output_type": "stream",
     "text": [
      " 90%|█████████ | 27/30 [00:02<00:00,  9.09it/s]"
     ]
    },
    {
     "name": "stdout",
     "output_type": "stream",
     "text": [
      "Census_OSWUAutoUpdateOptionsName encoded. Train shape: (8921483, 67)\n",
      "Census_GenuineStateName encoded. Train shape: (8921483, 67)\n"
     ]
    },
    {
     "name": "stderr",
     "output_type": "stream",
     "text": [
      " 97%|█████████▋| 29/30 [00:02<00:00,  8.22it/s]"
     ]
    },
    {
     "name": "stdout",
     "output_type": "stream",
     "text": [
      "Census_ActivationChannel encoded. Train shape: (8921483, 67)\n"
     ]
    },
    {
     "name": "stderr",
     "output_type": "stream",
     "text": [
      "100%|██████████| 30/30 [00:03<00:00, 10.00it/s]"
     ]
    },
    {
     "name": "stdout",
     "output_type": "stream",
     "text": [
      "Census_FlightRing encoded. Train shape: (8921483, 67)\n"
     ]
    },
    {
     "name": "stderr",
     "output_type": "stream",
     "text": [
      "\n"
     ]
    },
    {
     "name": "stdout",
     "output_type": "stream",
     "text": [
      "Mem. usage decreased to 2189.36 Mb (20.7% reduction)\n"
     ]
    }
   ],
   "source": [
    "train['SmartScreen'].replace({ '0':'off', '00000000':'off','BLOCK':'Block', 'off':'Off', \n",
    "                              'on':'On', 'requireadmin' : 'RequireAdmin', 'Enabled' : 'on', \n",
    "                              'OFF' : 'Off', 'Promt' : 'Prompt', 'prompt' : 'Prompt', 'on' : 'On', \n",
    "                              'off' : 'Off', 'warn' : 'RequireAdmin', 'requireAdmin' : 'RequireAdmin', '&#x03;' : '&#x01;'}, inplace=True)\n",
    "\n",
    "\n",
    "train.head()\n",
    "train=add_features(train)\n",
    "train,category_map= encode_categorical_columns(train,  categorical_columns,to_drop=toDrop)\n",
    "train = reduce_mem_usage(train)\n",
    "with open('category_map.pkl', 'wb') as f:\n",
    "    pickle.dump(category_map, f)\n"
   ]
  },
  {
   "cell_type": "code",
   "execution_count": null,
   "id": "29fb2301",
   "metadata": {},
   "outputs": [],
   "source": [
    "#save train and test as kaggle_encoded_csv\n",
    "train.to_csv('kaggle_encoded_train.csv', index=False)\n"
   ]
  },
  {
   "cell_type": "markdown",
   "id": "798a95e0",
   "metadata": {},
   "source": [
    "# Saving a scaled version without NAN's for Neural Networks\n"
   ]
  },
  {
   "cell_type": "code",
   "execution_count": null,
   "id": "0a8d67f2",
   "metadata": {},
   "outputs": [],
   "source": [
    "#kaggle encodings\n",
    "import pandas as pd\n",
    "import numpy as np\n",
    "\n",
    "dtypes = {\n",
    "    'MachineIdentifier': 'category',\n",
    "    'EngineVersion': 'float64',\n",
    "    'AppVersion': 'float64',\n",
    "    'AvSigVersion': 'float64',\n",
    "    'RtpStateBitfield': np.float16,\n",
    "    'IsSxsPassiveMode': np.int8,\n",
    "    'DefaultBrowsersIdentifier': np.float16,\n",
    "    'AVProductStatesIdentifier': np.float32,\n",
    "    'AVProductsInstalled': np.float16,\n",
    "    'AVProductsEnabled': np.float16,\n",
    "    'CountryIdentifier': np.int16,\n",
    "    'CityIdentifier': np.float32,\n",
    "    'OrganizationIdentifier': np.float16,\n",
    "    'GeoNameIdentifier': np.float16,\n",
    "    'LocaleEnglishNameIdentifier': np.int8,\n",
    "    'Processor': np.int8,\n",
    "    'OsBuild': np.int16,\n",
    "    'OsSuite': np.int16,\n",
    "    'OsPlatformSubRelease': np.int8,\n",
    "    'OsBuildLab': np.int16,\n",
    "    'SkuEdition': np.int8,\n",
    "    'IsProtected': np.float16,\n",
    "    'IeVerIdentifier': np.float16,\n",
    "    'SmartScreen': np.int8,\n",
    "    'Firewall': np.float16,\n",
    "    'Census_MDC2FormFactor': np.int8,\n",
    "    'Census_OEMNameIdentifier': np.float16,\n",
    "    'Census_OEMModelIdentifier': np.float32,\n",
    "    'Census_ProcessorCoreCount': np.float16,\n",
    "    'Census_ProcessorModelIdentifier': np.float16,\n",
    "    'Census_PrimaryDiskTotalCapacity': np.float32,\n",
    "    'Census_PrimaryDiskTypeName': np.int8,\n",
    "    'Census_SystemVolumeTotalCapacity': np.float32,\n",
    "    'Census_HasOpticalDiskDrive': np.int8,\n",
    "    'Census_TotalPhysicalRAM': np.float32,\n",
    "    'Census_ChassisTypeName': np.int8,\n",
    "    'Census_InternalPrimaryDiagonalDisplaySizeInInches': np.float16,\n",
    "    'Census_InternalPrimaryDisplayResolutionHorizontal': np.float16,\n",
    "    'Census_InternalPrimaryDisplayResolutionVertical': np.float16,\n",
    "    'Census_PowerPlatformRoleName': np.int8,\n",
    "    'Census_InternalBatteryNumberOfCharges': np.float32,\n",
    "    'Census_OSVersion': np.float64,\n",
    "    'Census_OSBranch': np.int8,\n",
    "    'Census_OSBuildRevision': np.int32,\n",
    "    'Census_OSEdition': np.int8,\n",
    "    'Census_OSSkuName': np.int8,\n",
    "    'Census_OSInstallTypeName': np.int8,\n",
    "    'Census_OSInstallLanguageIdentifier': np.float16,\n",
    "    'Census_OSUILocaleIdentifier': np.int16,\n",
    "    'Census_OSWUAutoUpdateOptionsName': np.int8,\n",
    "    'Census_GenuineStateName': np.int8,\n",
    "    'Census_ActivationChannel': np.int8,\n",
    "    'Census_FlightRing': np.int8,\n",
    "    'Census_FirmwareManufacturerIdentifier': np.float16,\n",
    "    'Census_FirmwareVersionIdentifier': np.float32,\n",
    "    'Census_IsSecureBootEnabled': np.int8,\n",
    "    'Census_IsVirtualDevice': np.float16,\n",
    "    'Wdft_IsGamer': np.float16,\n",
    "    'Wdft_RegionIdentifier': np.float16,\n",
    "    'HasDetections': np.int8,\n",
    "    'primary_drive_c_ratio': np.float16,\n",
    "    'non_primary_drive_MB': np.float32,\n",
    "    'aspect_ratio': np.float16,\n",
    "    'dpi': np.float16,\n",
    "    'Screen_Area': np.float64,\n",
    "    'AVProductsInstalled_slim': np.float16,\n",
    "    'magic_4': np.int8\n",
    "}\n",
    "\n",
    "\n",
    "# Load the file quickly without dtype constraints\n",
    "train = pd.read_csv(r'kaggle_encoded_train.csv')\n",
    "\n",
    "# Then cast types only for the columns that exist\n",
    "for col, dtype in dtypes.items():\n",
    "    if col in train.columns:\n",
    "        try:\n",
    "            train[col] = train[col].astype(dtype)\n",
    "        except Exception as e:\n",
    "            print(f\"Could not cast column {col} to {dtype}: {e}\")\n",
    "\n"
   ]
  },
  {
   "cell_type": "code",
   "execution_count": null,
   "id": "8e2dd0d3",
   "metadata": {},
   "outputs": [],
   "source": [
    "import pandas as pd\n",
    "import numpy as np\n",
    "from sklearn.model_selection import train_test_split\n",
    "from sklearn.preprocessing import StandardScaler\n",
    "import pickle\n",
    "import category_encoders as ce\n",
    "from sklearn.preprocessing import LabelEncoder\n",
    "\n",
    "# Assuming train is already defined\n",
    "\n",
    "columns_to_drop = ['MachineIdentifier']\n",
    "columns_to_freq_encode = ['AppVersion','AvSigVersion','Census_OSVersion','EngineVersion','OsBuildLab']\n",
    "columns_for_LE = ['ProductName','RtpStateBitfield','Platform','Processor','OsVer','OsBuild','OsSuite',\n",
    "                   'OsPlatformSubRelease','OsBuildLab','SkuEdition','PuaMode','SmartScreen','Census_MDC2FormFactor',\n",
    "                  'Census_DeviceFamily','Census_ProcessorClass','Census_PrimaryDiskTypeName','Census_ChassisTypeName',\n",
    "                  'Census_PowerPlatformRoleName','Census_InternalBatteryType','Census_OSArchitecture',\n",
    "                  'Census_OSBranch','Census_OSEdition','Census_OSSkuName','Census_OSInstallTypeName',\n",
    "                  'Census_OSWUAutoUpdateOptionsName','Census_GenuineStateName','Census_ActivationChannel',\n",
    "                  'Census_FlightRing']\n",
    "columns_with_strings = ['ProductName','Platform','Processor','OsPlatformSubRelease','OsBuildLab','SkuEdition',\n",
    "                        'PuaMode','SmartScreen','Census_MDC2FormFactor','Census_DeviceFamily','Census_PrimaryDiskTypeName',\n",
    "                        'Census_ChassisTypeName','Census_PowerPlatformRoleName','Census_InternalBatteryType',\n",
    "                        'Census_OSArchitecture','Census_OSBranch','Census_OSEdition','Census_OSSkuName','Census_OSInstallTypeName',\n",
    "                        'Census_OSWUAutoUpdateOptionsName','Census_GenuineStateName','Census_ActivationChannel',\n",
    "                        'Census_FlightRing']\n",
    "\n",
    "# Drop unwanted columns\n",
    "def frequency_encoding(df, feature):\n",
    "    t = df[feature].value_counts().reset_index()\n",
    "    t = t.reset_index()\n",
    "    t.loc[t[feature] == 1, 'level_0'] = np.nan\n",
    "    t.set_index('index', inplace=True)\n",
    "    max_label = t['level_0'].max() + 1\n",
    "    t.fillna(max_label, inplace=True)\n",
    "    return t.to_dict()['level_0']\n",
    "\n",
    "for col in columns_to_drop:\n",
    "    train.drop(columns=[col], inplace=True)\n",
    "\n",
    "# Convert string columns to lowercase\n",
    "\n",
    "# Use category_encoders' CountEncoder for frequency encoding\n",
    "encoder = ce.CountEncoder(cols=columns_to_freq_encode)\n",
    "\n",
    "# Apply frequency encoding\n",
    "train[columns_to_freq_encode] = encoder.fit_transform(train[columns_to_freq_encode])\n",
    "\n",
    "# Save the encoder for later use on the test set\n",
    "with open('freq_encoder_kaggle.pkl', 'wb') as f:\n",
    "    pickle.dump(encoder, f)\n",
    "\n",
    "# Replace NaNs in other columns\n",
    "for col in train.columns:\n",
    "    if train[col].dtype == 'object':\n",
    "        train[col] = train[col].fillna('NA')\n",
    "    elif train[col].dtype == 'category':\n",
    "        train[col] = train[col].cat.add_categories('NA').fillna('NA')\n",
    "    else:\n",
    "        train[col] = train[col].fillna(-1)\n",
    "\n",
    "# Label Encoding for specific columns\n",
    "label_encoders = {}\n",
    "for col in columns_for_LE:\n",
    "    if col not in train.columns:\n",
    "        continue\n",
    "    le = LabelEncoder()\n",
    "    train[col] = le.fit_transform(train[col])\n",
    "    label_encoders[col] = le\n",
    "\n",
    "# Save the label encoders for later use\n",
    "with open('label_encoders_kaggle.pkl', 'wb') as f:\n",
    "    pickle.dump(label_encoders, f)\n",
    "\n",
    "# Drop a specific row\n",
    "train.drop(index=5244810, inplace=True)\n",
    "\n",
    "# Convert float64 and object columns to float32\n",
    "for col in train.columns:\n",
    "    if train[col].dtype == 'float64':\n",
    "        train[col] = train[col].astype('float32')\n",
    "    elif train[col].dtype == 'object':\n",
    "        train[col] = train[col].astype('float32')\n",
    "\n",
    "# Prepare the target and features\n",
    "y = train['HasDetections']\n",
    "X = train.drop(columns=['HasDetections'])\n",
    "\n",
    "# Split data into train and test sets\n",
    "\n"
   ]
  },
  {
   "cell_type": "code",
   "execution_count": null,
   "id": "0a57f93b",
   "metadata": {},
   "outputs": [],
   "source": [
    "X_train, X_test, y_train, y_test = train_test_split(X, y, test_size=0.2, random_state=42, stratify=y)\n",
    "\n",
    "# Scale the features\n",
    "\n",
    "import numpy as np\n",
    "\n",
    "# Replace inf/-inf with NaN\n",
    "X_train.replace([np.inf, -np.inf], np.nan, inplace=True)\n",
    "\n",
    "# Drop rows with NaN and keep track of the remaining indices\n",
    "valid_idx_train = X_train.dropna().index\n",
    "\n",
    "# Filter both X_train and y_train\n",
    "X_train = X_train.loc[valid_idx_train]\n",
    "y_train = y_train.loc[valid_idx_train]\n",
    "\n",
    "X_test.replace([np.inf, -np.inf], np.nan, inplace=True)\n",
    "valid_idx_test = X_test.dropna().index\n",
    "X_test = X_test.loc[valid_idx_test]\n",
    "y_test = y_test.loc[valid_idx_test]\n",
    "scaler = StandardScaler()\n",
    "X_train = scaler.fit_transform(X_train)\n",
    "X_test = scaler.transform(X_test)\n",
    "\n",
    "# Save the scaler for later use\n",
    "with open('scaler_kaggle.pkl', 'wb') as f:\n",
    "    pickle.dump(scaler, f)"
   ]
  },
  {
   "cell_type": "code",
   "execution_count": null,
   "id": "cee4dc26",
   "metadata": {},
   "outputs": [],
   "source": [
    "train_data = pd.DataFrame(X_train, columns=X.columns)\n",
    "train_data['HasDetections'] = y_train.values\n",
    "\n",
    "test_data = pd.DataFrame(X_test, columns=X.columns)\n",
    "test_data['HasDetections'] = y_test.values\n",
    "\n",
    "import pandas as pd\n",
    "import numpy as np\n",
    "\n",
    "def optimize_dataframe(df):\n",
    "    for col in df.columns:\n",
    "        col_data = df[col]\n",
    "        \n",
    "        # Skip non-numeric columns\n",
    "        if not np.issubdtype(col_data.dtype, np.number):\n",
    "            continue\n",
    "\n",
    "        # Check if all values are integers (i.e., no decimal part)\n",
    "        if np.all(col_data.dropna() == col_data.dropna().astype(int)):\n",
    "            df[col] = pd.to_numeric(col_data, downcast=\"integer\")\n",
    "        else:\n",
    "            df[col] = pd.to_numeric(col_data, downcast=\"float\")\n",
    "    \n",
    "    return df\n",
    "\n",
    "# Apply optimization\n",
    "train_data = optimize_dataframe(train_data)\n",
    "test_data = optimize_dataframe(test_data)\n",
    "\n",
    "# Check memory usage before and after\n",
    "print(f\"Memory usage after optimization: {train_data.memory_usage(deep=True).sum() / 1024**2:.2f} MB\")\n",
    "print(f\"Memory usage after optimization: {test_data.memory_usage(deep=True).sum() / 1024**2:.2f} MB\")"
   ]
  },
  {
   "cell_type": "code",
   "execution_count": null,
   "id": "ea25ee16",
   "metadata": {},
   "outputs": [],
   "source": [
    "\n",
    "train_data.to_csv('train_data_kaggle_processed.csv', index=False)\n",
    "test_data.to_csv('validation_data_kaggle_processed.csv', index=False)"
   ]
  },
  {
   "cell_type": "code",
   "execution_count": null,
   "id": "747fb8f3",
   "metadata": {},
   "outputs": [],
   "source": [
    "import pandas as pd\n",
    "import numpy as np\n",
    "\n",
    "# Define dtype mappings\n",
    "train_dtypes = {\n",
    "    'EngineVersion': np.float32, 'AppVersion': np.float32, 'AvSigVersion': np.float32, \n",
    "    'RtpStateBitfield': np.float32, 'IsSxsPassiveMode': np.float32, \n",
    "    'DefaultBrowsersIdentifier': np.float32, 'AVProductStatesIdentifier': np.float32, \n",
    "    'AVProductsInstalled': np.float32, 'AVProductsEnabled': np.float32, \n",
    "    'CountryIdentifier': np.float32, 'CityIdentifier': np.float32, \n",
    "    'OrganizationIdentifier': np.float32, 'GeoNameIdentifier': np.float32, \n",
    "    'LocaleEnglishNameIdentifier': np.float32, 'Processor': np.float32, \n",
    "    'OsBuild': np.float32, 'OsSuite': np.float32, 'OsPlatformSubRelease': np.float32, \n",
    "    'OsBuildLab': np.float32, 'SkuEdition': np.float32, 'IsProtected': np.float32, \n",
    "    'IeVerIdentifier': np.float32, 'SmartScreen': np.float32, 'Firewall': np.float32, \n",
    "    'Census_MDC2FormFactor': np.float32, 'Census_OEMNameIdentifier': np.float32, \n",
    "    'Census_OEMModelIdentifier': np.float32, 'Census_ProcessorCoreCount': np.float32, \n",
    "    'Census_ProcessorModelIdentifier': np.float32, 'Census_PrimaryDiskTotalCapacity': np.float32, \n",
    "    'Census_PrimaryDiskTypeName': np.float32, 'Census_SystemVolumeTotalCapacity': np.float32, \n",
    "    'Census_HasOpticalDiskDrive': np.float32, 'Census_TotalPhysicalRAM': np.float32, \n",
    "    'Census_ChassisTypeName': np.float32, 'Census_InternalPrimaryDiagonalDisplaySizeInInches': np.float32, \n",
    "    'Census_InternalPrimaryDisplayResolutionHorizontal': np.float32, \n",
    "    'Census_InternalPrimaryDisplayResolutionVertical': np.float32, \n",
    "    'Census_PowerPlatformRoleName': np.float32, 'Census_InternalBatteryNumberOfCharges': np.float32, \n",
    "    'Census_OSVersion': np.float32, 'Census_OSBranch': np.float32, 'Census_OSBuildRevision': np.float32, \n",
    "    'Census_OSEdition': np.float32, 'Census_OSSkuName': np.float32, 'Census_OSInstallTypeName': np.float32, \n",
    "    'Census_OSInstallLanguageIdentifier': np.float32, 'Census_OSUILocaleIdentifier': np.float32, \n",
    "    'Census_OSWUAutoUpdateOptionsName': np.float32, 'Census_GenuineStateName': np.float32, \n",
    "    'Census_ActivationChannel': np.float32, 'Census_FlightRing': np.float32, \n",
    "    'Census_FirmwareManufacturerIdentifier': np.float32, 'Census_FirmwareVersionIdentifier': np.float32, \n",
    "    'Census_IsSecureBootEnabled': np.float32, 'Census_IsVirtualDevice': np.float32, \n",
    "    'Wdft_IsGamer': np.float32, 'Wdft_RegionIdentifier': np.float32, \n",
    "    'primary_drive_c_ratio': np.float32, 'non_primary_drive_MB': np.float32, \n",
    "    'aspect_ratio': np.float32, 'dpi': np.float32, 'Screen_Area': np.float32, \n",
    "    'AVProductsInstalled_slim': np.float32, 'magic_4': np.float32, \n",
    "    'HasDetections': np.int8\n",
    "}\n",
    "\n",
    "validate_dtypes = {\n",
    "    'EngineVersion': np.float32, 'AppVersion': np.float32, 'AvSigVersion': np.float32, \n",
    "    'RtpStateBitfield': np.float32, 'IsSxsPassiveMode': np.float32, \n",
    "    'DefaultBrowsersIdentifier': np.float32, 'AVProductStatesIdentifier': np.float32, \n",
    "    'AVProductsInstalled': np.float32, 'AVProductsEnabled': np.float32, \n",
    "    'CountryIdentifier': np.float32, 'CityIdentifier': np.float32, \n",
    "    'OrganizationIdentifier': np.float32, 'GeoNameIdentifier': np.float32, \n",
    "    'LocaleEnglishNameIdentifier': np.float32, 'Processor': np.float32, \n",
    "    'OsBuild': np.float32, 'OsSuite': np.float32, 'OsPlatformSubRelease': np.float32, \n",
    "    'OsBuildLab': np.float32, 'SkuEdition': np.float32, 'IsProtected': np.float32, \n",
    "    'IeVerIdentifier': np.float32, 'SmartScreen': np.float32, 'Firewall': np.float32, \n",
    "    'Census_MDC2FormFactor': np.float32, 'Census_OEMNameIdentifier': np.float32, \n",
    "    'Census_OEMModelIdentifier': np.float32, 'Census_ProcessorCoreCount': np.float32, \n",
    "    'Census_ProcessorModelIdentifier': np.float32, 'Census_PrimaryDiskTotalCapacity': np.float32, \n",
    "    'Census_PrimaryDiskTypeName': np.float32, 'Census_SystemVolumeTotalCapacity': np.float32, \n",
    "    'Census_HasOpticalDiskDrive': np.float32, 'Census_TotalPhysicalRAM': np.float32, \n",
    "    'Census_ChassisTypeName': np.float32, 'Census_InternalPrimaryDiagonalDisplaySizeInInches': np.float32, \n",
    "    'Census_InternalPrimaryDisplayResolutionHorizontal': np.float32, \n",
    "    'Census_InternalPrimaryDisplayResolutionVertical': np.float32, \n",
    "    'Census_PowerPlatformRoleName': np.float32, 'Census_InternalBatteryNumberOfCharges': np.float32, \n",
    "    'Census_OSVersion': np.float32, 'Census_OSBranch': np.float32, 'Census_OSBuildRevision': np.float32, \n",
    "    'Census_OSEdition': np.float32, 'Census_OSSkuName': np.float32, 'Census_OSInstallTypeName': np.float32, \n",
    "    'Census_OSInstallLanguageIdentifier': np.float32, 'Census_OSUILocaleIdentifier': np.float32, \n",
    "    'Census_OSWUAutoUpdateOptionsName': np.float32, 'Census_GenuineStateName': np.float32, \n",
    "    'Census_ActivationChannel': np.float32, 'Census_FlightRing': np.float32, \n",
    "    'Census_FirmwareManufacturerIdentifier': np.float32, 'Census_FirmwareVersionIdentifier': np.float32, \n",
    "    'Census_IsSecureBootEnabled': np.float32, 'Census_IsVirtualDevice': np.float32, \n",
    "    'Wdft_IsGamer': np.float32, 'Wdft_RegionIdentifier': np.float32, \n",
    "    'primary_drive_c_ratio': np.float32, 'non_primary_drive_MB': np.float32, \n",
    "    'aspect_ratio': np.float32, 'dpi': np.float32, 'Screen_Area': np.float32, \n",
    "    'AVProductsInstalled_slim': np.float32, 'magic_4': np.float32, \n",
    "    'HasDetections': np.int8\n",
    "}\n",
    "\n",
    "train_data = pd.read_csv(r'C:\\Users\\jithi\\OneDrive\\Desktop\\ML project\\Processed Datasets\\kaggle_encoded_train.csv', dtype=train_dtypes)\n",
    "validate_data = pd.read_csv(r'C:\\Users\\jithi\\OneDrive\\Desktop\\ML project\\Processed Datasets\\kaggle_encoded_test.csv', dtype=validate_dtypes)\n"
   ]
  },
  {
   "cell_type": "code",
   "execution_count": 15,
   "id": "afde3822",
   "metadata": {},
   "outputs": [],
   "source": [
    "for col in ['EngineVersion','Census_OSVersion','AppVersion','AvSigVersion',\n",
    "            ]:\n",
    "    train[col]=train[col]-train[col][0:500000].median()\n"
   ]
  },
  {
   "cell_type": "code",
   "execution_count": 26,
   "id": "b5dbe01f",
   "metadata": {},
   "outputs": [],
   "source": [
    "def encode_categorical_columns_test(x_test, columns, category_map):\n",
    "    from tqdm import tqdm\n",
    "    import pandas as pd\n",
    "\n",
    "    for col in tqdm(columns):\n",
    "        if col in ['MachineIdentifier'] or col in toDrop:\n",
    "            continue\n",
    "        x_test[col] = x_test[col].map(category_map.get(col, {}))\n",
    "    return x_test\n"
   ]
  },
  {
   "cell_type": "code",
   "execution_count": null,
   "id": "389bd93b",
   "metadata": {},
   "outputs": [],
   "source": [
    "test_dir=r'C:\\Users\\jithi\\OneDrive\\Desktop\\ML project\\microsoft-malware-prediction\\test.csv'\n",
    "test = pd.read_csv(test_dir, dtype=dtypes)\n",
    "test = reduce_mem_usage(test)\n",
    "test = test.drop(toDrop, axis=1)\n",
    "test = add_features(test)\n",
    "test= encode_categorical_columns_test(test,  categorical_columns,category_map  )\n",
    "test = reduce_mem_usage(test)\n",
    "test['SmartScreen'].replace({ '0':'off', '00000000':'off','BLOCK':'Block', 'off':'Off', \n",
    "                              'on':'On', 'requireadmin' : 'RequireAdmin', 'Enabled' : 'on', \n",
    "                              'OFF' : 'Off', 'Promt' : 'Prompt', 'prompt' : 'Prompt', 'on' : 'On', \n",
    "                              'off' : 'Off', 'warn' : 'RequireAdmin', 'requireAdmin' : 'RequireAdmin', '&#x03;' : '&#x01;'}, inplace=True)\n",
    "\n",
    "for col in ['EngineVersion','Census_OSVersion','AppVersion','AvSigVersion',\n",
    "            ]:\n",
    "    test[col]=test[col]-train[col][0:500000].median()\n",
    "\n",
    "machine_identifier = test['MachineIdentifier']\n",
    "test.drop(['MachineIdentifier'], axis=1, inplace=True)\n",
    "\n"
   ]
  },
  {
   "cell_type": "code",
   "execution_count": 30,
   "id": "d70dc05f",
   "metadata": {},
   "outputs": [
    {
     "name": "stdout",
     "output_type": "stream",
     "text": [
      "{'MachineIdentifier': 'category', 'EngineVersion': 'float64', 'AppVersion': 'float64', 'AvSigVersion': 'float64', 'RtpStateBitfield': 'float16', 'IsSxsPassiveMode': 'int8', 'DefaultBrowsersIdentifier': 'float16', 'AVProductStatesIdentifier': 'float32', 'AVProductsInstalled': 'float16', 'AVProductsEnabled': 'float16', 'CountryIdentifier': 'int16', 'CityIdentifier': 'float32', 'OrganizationIdentifier': 'float16', 'GeoNameIdentifier': 'float16', 'LocaleEnglishNameIdentifier': 'int8', 'Processor': 'int8', 'OsBuild': 'int16', 'OsSuite': 'int16', 'OsPlatformSubRelease': 'int8', 'OsBuildLab': 'int16', 'SkuEdition': 'int8', 'IsProtected': 'float16', 'IeVerIdentifier': 'float16', 'SmartScreen': 'int8', 'Firewall': 'float16', 'Census_MDC2FormFactor': 'int8', 'Census_OEMNameIdentifier': 'float16', 'Census_OEMModelIdentifier': 'float32', 'Census_ProcessorCoreCount': 'float16', 'Census_ProcessorModelIdentifier': 'float16', 'Census_PrimaryDiskTotalCapacity': 'float32', 'Census_PrimaryDiskTypeName': 'int8', 'Census_SystemVolumeTotalCapacity': 'float32', 'Census_HasOpticalDiskDrive': 'int8', 'Census_TotalPhysicalRAM': 'float32', 'Census_ChassisTypeName': 'int8', 'Census_InternalPrimaryDiagonalDisplaySizeInInches': 'float16', 'Census_InternalPrimaryDisplayResolutionHorizontal': 'float16', 'Census_InternalPrimaryDisplayResolutionVertical': 'float16', 'Census_PowerPlatformRoleName': 'int8', 'Census_InternalBatteryNumberOfCharges': 'float32', 'Census_OSVersion': 'float64', 'Census_OSBranch': 'int8', 'Census_OSBuildRevision': 'int32', 'Census_OSEdition': 'int8', 'Census_OSSkuName': 'int8', 'Census_OSInstallTypeName': 'int8', 'Census_OSInstallLanguageIdentifier': 'float16', 'Census_OSUILocaleIdentifier': 'int16', 'Census_OSWUAutoUpdateOptionsName': 'int8', 'Census_GenuineStateName': 'int8', 'Census_ActivationChannel': 'int8', 'Census_FlightRing': 'int8', 'Census_FirmwareManufacturerIdentifier': 'float16', 'Census_FirmwareVersionIdentifier': 'float32', 'Census_IsSecureBootEnabled': 'int8', 'Census_IsVirtualDevice': 'float16', 'Wdft_IsGamer': 'float16', 'Wdft_RegionIdentifier': 'float16', 'HasDetections': 'int8', 'primary_drive_c_ratio': 'float16', 'non_primary_drive_MB': 'float32', 'aspect_ratio': 'float16', 'dpi': 'float16', 'Screen_Area': 'float64', 'AVProductsInstalled_slim': 'float16', 'magic_4': 'int8'}\n",
      "{'EngineVersion': 'float64', 'AppVersion': 'float64', 'AvSigVersion': 'float64', 'RtpStateBitfield': 'float16', 'IsSxsPassiveMode': 'int8', 'DefaultBrowsersIdentifier': 'float16', 'AVProductStatesIdentifier': 'float32', 'AVProductsInstalled': 'float16', 'AVProductsEnabled': 'float16', 'CountryIdentifier': 'int16', 'CityIdentifier': 'float32', 'OrganizationIdentifier': 'float16', 'GeoNameIdentifier': 'float16', 'LocaleEnglishNameIdentifier': 'int8', 'Processor': 'float64', 'OsBuild': 'int16', 'OsSuite': 'int16', 'OsPlatformSubRelease': 'float64', 'OsBuildLab': 'float64', 'SkuEdition': 'float64', 'IsProtected': 'float16', 'IeVerIdentifier': 'float16', 'SmartScreen': 'float64', 'Firewall': 'float16', 'Census_MDC2FormFactor': 'float64', 'Census_OEMNameIdentifier': 'float16', 'Census_OEMModelIdentifier': 'float32', 'Census_ProcessorCoreCount': 'float16', 'Census_ProcessorModelIdentifier': 'float16', 'Census_PrimaryDiskTotalCapacity': 'float32', 'Census_PrimaryDiskTypeName': 'float64', 'Census_SystemVolumeTotalCapacity': 'float32', 'Census_HasOpticalDiskDrive': 'int8', 'Census_TotalPhysicalRAM': 'float32', 'Census_ChassisTypeName': 'float64', 'Census_InternalPrimaryDiagonalDisplaySizeInInches': 'float16', 'Census_InternalPrimaryDisplayResolutionHorizontal': 'float16', 'Census_InternalPrimaryDisplayResolutionVertical': 'float16', 'Census_PowerPlatformRoleName': 'float64', 'Census_InternalBatteryNumberOfCharges': 'float32', 'Census_OSVersion': 'float64', 'Census_OSBranch': 'float64', 'Census_OSBuildRevision': 'int32', 'Census_OSEdition': 'float64', 'Census_OSSkuName': 'float64', 'Census_OSInstallTypeName': 'float64', 'Census_OSInstallLanguageIdentifier': 'float16', 'Census_OSUILocaleIdentifier': 'int16', 'Census_OSWUAutoUpdateOptionsName': 'float64', 'Census_GenuineStateName': 'float64', 'Census_ActivationChannel': 'float64', 'Census_FlightRing': 'float64', 'Census_FirmwareManufacturerIdentifier': 'float16', 'Census_FirmwareVersionIdentifier': 'float32', 'Census_IsSecureBootEnabled': 'int8', 'Census_IsVirtualDevice': 'float16', 'Wdft_IsGamer': 'float16', 'Wdft_RegionIdentifier': 'float16', 'primary_drive_c_ratio': 'float16', 'non_primary_drive_MB': 'float32', 'aspect_ratio': 'float16', 'dpi': 'float16', 'Screen_Area': 'float64', 'AVProductsInstalled_slim': 'float16', 'magic_4': 'int8'}\n"
     ]
    }
   ],
   "source": [
    "#print dtypes of train and test as dicts\n",
    "train_dtypes = {col: str(train[col].dtype) for col in train.columns}\n",
    "test_dtypes = {col: str(test[col].dtype) for col in test.columns}\n",
    "print(train_dtypes)\n",
    "print(test_dtypes)"
   ]
  }
 ],
 "metadata": {
  "kernelspec": {
   "display_name": "fai_labs_3.10",
   "language": "python",
   "name": "python3"
  },
  "language_info": {
   "codemirror_mode": {
    "name": "ipython",
    "version": 3
   },
   "file_extension": ".py",
   "mimetype": "text/x-python",
   "name": "python",
   "nbconvert_exporter": "python",
   "pygments_lexer": "ipython3",
   "version": "3.10.14"
  }
 },
 "nbformat": 4,
 "nbformat_minor": 5
}
