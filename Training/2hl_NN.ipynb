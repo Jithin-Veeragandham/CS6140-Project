{
 "cells": [
  {
   "cell_type": "markdown",
   "metadata": {},
   "source": [
    "# Initial Encodings"
   ]
  },
  {
   "cell_type": "code",
   "execution_count": null,
   "metadata": {},
   "outputs": [],
   "source": [
    "dtypes={'ProductName': 'float32', 'EngineVersion': 'float32', 'AppVersion': 'float32', 'AvSigVersion': 'float32', 'IsBeta': 'float32', 'RtpStateBitfield': 'float32', 'IsSxsPassiveMode': 'float32', 'DefaultBrowsersIdentifier': 'float32', 'AVProductStatesIdentifier': 'float32', 'AVProductsInstalled': 'float32', 'AVProductsEnabled': 'float32', 'HasTpm': 'float32', 'CountryIdentifier': 'float32', 'CityIdentifier': 'float32', 'OrganizationIdentifier': 'float32', 'GeoNameIdentifier': 'float32', 'LocaleEnglishNameIdentifier': 'float32', 'Platform': 'float32', 'Processor': 'float32', 'OsVer': 'float32', 'OsBuild': 'float32', 'OsSuite': 'float32', 'OsPlatformSubRelease': 'float32', 'OsBuildLab': 'float32', 'SkuEdition': 'float32', 'IsProtected': 'float32', 'AutoSampleOptIn': 'float32', 'PuaMode': 'float32', 'SMode': 'float32', 'IeVerIdentifier': 'float32', 'SmartScreen': 'float32', 'Firewall': 'float32', 'UacLuaenable': 'float32', 'Census_MDC2FormFactor': 'float32', 'Census_DeviceFamily': 'float32', 'Census_OEMNameIdentifier': 'float32', 'Census_OEMModelIdentifier': 'float32', 'Census_ProcessorCoreCount': 'float32', 'Census_ProcessorManufacturerIdentifier': 'float32', 'Census_ProcessorModelIdentifier': 'float32', 'Census_ProcessorClass': 'float32', 'Census_PrimaryDiskTotalCapacity': 'float32', 'Census_PrimaryDiskTypeName': 'float32', 'Census_SystemVolumeTotalCapacity': 'float32', 'Census_HasOpticalDiskDrive': 'float32', 'Census_TotalPhysicalRAM': 'float32', 'Census_ChassisTypeName': 'float32', 'Census_InternalPrimaryDiagonalDisplaySizeInInches': 'float32', 'Census_InternalPrimaryDisplayResolutionHorizontal': 'float32', 'Census_InternalPrimaryDisplayResolutionVertical': 'float32', 'Census_PowerPlatformRoleName': 'float32', 'Census_InternalBatteryType': 'float32', 'Census_InternalBatteryNumberOfCharges': 'float32', 'Census_OSVersion': 'float32', 'Census_OSArchitecture': 'float32', 'Census_OSBranch': 'float32', 'Census_OSBuildNumber': 'float32', 'Census_OSBuildRevision': 'float32', 'Census_OSEdition': 'float32', 'Census_OSSkuName': 'float32', 'Census_OSInstallTypeName': 'float32', 'Census_OSInstallLanguageIdentifier': 'float32', 'Census_OSUILocaleIdentifier': 'float32', 'Census_OSWUAutoUpdateOptionsName': 'float32', 'Census_IsPortableOperatingSystem': 'float32', 'Census_GenuineStateName': 'float32', 'Census_ActivationChannel': 'float32', 'Census_IsFlightingInternal': 'float32', 'Census_IsFlightsDisabled': 'float32', 'Census_FlightRing': 'float32', 'Census_ThresholdOptIn': 'float32', 'Census_FirmwareManufacturerIdentifier': 'float32', 'Census_FirmwareVersionIdentifier': 'float32', 'Census_IsSecureBootEnabled': 'float32', 'Census_IsWIMBootEnabled': 'float32', 'Census_IsVirtualDevice': 'float32', 'Census_IsTouchEnabled': 'float32', 'Census_IsPenCapable': 'float32', 'Census_IsAlwaysOnAlwaysConnectedCapable': 'float32', 'Wdft_IsGamer': 'float32', 'Wdft_RegionIdentifier': 'float32', 'HasDetections': 'int8'}\n",
    "\n",
    "#local copy of the processed dataset made using Encode Datasets\\Encoder pickle Files\\Initial Encodings\n",
    "train_dir=r\"C:\\Users\\jithi\\OneDrive\\Desktop\\ML project\\Processed Datasets\\train_data_scaled_encoded_shrunk.csv\"\n",
    "valid_dir=r'C:\\Users\\jithi\\OneDrive\\Desktop\\ML project\\Processed Datasets\\validation_data_scaled_encoded_shrunk.csv'"
   ]
  },
  {
   "cell_type": "code",
   "execution_count": 2,
   "metadata": {},
   "outputs": [],
   "source": [
    "import pandas as pd\n",
    "train = pd.read_csv(train_dir, dtype=dtypes)\n",
    "valid = pd.read_csv(valid_dir, dtype=dtypes)\n",
    "\n",
    "X_train = train.drop(columns=['HasDetections'])\n",
    "y_train = train['HasDetections']\n",
    "X_valid = valid.drop(columns=['HasDetections'])\n",
    "y_valid = valid['HasDetections']\n"
   ]
  },
  {
   "cell_type": "code",
   "execution_count": 11,
   "metadata": {},
   "outputs": [],
   "source": [
    "import torch\n",
    "import torch.nn as nn\n",
    "import torch.optim as optim\n",
    "import numpy as np\n",
    "import pandas as pd\n",
    "from tqdm import tqdm\n",
    "from torch.utils.data import DataLoader, TensorDataset\n",
    "import helper_functions\n",
    "import importlib\n",
    "import os\n",
    "\n",
    "importlib.reload(helper_functions)\n",
    "X_train_tensor = torch.tensor(X_train.values, dtype=torch.float32)\n",
    "y_train_tensor = torch.tensor(y_train.values, dtype=torch.float32).view(-1, 1)\n",
    "X_test_tensor = torch.tensor(X_valid.values, dtype=torch.float32)\n",
    "y_test_tensor = torch.tensor(y_valid.values, dtype=torch.float32).view(-1, 1)\n",
    "\n",
    "#to gpu\n",
    "if torch.cuda.is_available():\n",
    "    device = torch.device(\"cuda\")\n",
    "    X_train_tensor = X_train_tensor.to(device)\n",
    "    y_train_tensor = y_train_tensor.to(device)\n",
    "    X_test_tensor = X_test_tensor.to(device)\n",
    "    y_test_tensor = y_test_tensor.to(device)\n",
    "\n",
    "\n",
    "class MLP(nn.Module):\n",
    "    def __init__(self):\n",
    "        super(MLP, self).__init__()\n",
    "        \n",
    "        self.model = nn.Sequential(\n",
    "            nn.Linear(X_train_tensor.shape[1], 256), \n",
    "            nn.BatchNorm1d(256),\n",
    "            nn.ReLU(),\n",
    "            nn.Dropout(0.3),                            \n",
    "            \n",
    "            nn.Linear(256, 128),\n",
    "            nn.BatchNorm1d(128),\n",
    "            nn.ReLU(),\n",
    "            nn.Dropout(0.3),\n",
    "\n",
    "            nn.Linear(128, 64),\n",
    "            nn.BatchNorm1d(64),\n",
    "            nn.ReLU(),\n",
    "            nn.Dropout(0.3),\n",
    "\n",
    "            nn.Linear(64, 1) \n",
    "        )\n",
    "\n",
    "    def forward(self, x):\n",
    "        return self.model(x)\n",
    "\n",
    "model = MLP()\n",
    "\n",
    "criterion = nn.BCEWithLogitsLoss()\n",
    "optimizer = optim.Adam(model.parameters(), weight_decay=1e-4,lr=0.0001)  \n",
    "\n",
    "train_dataset = TensorDataset(X_train_tensor, y_train_tensor)\n",
    "test_dataset = TensorDataset(X_test_tensor, y_test_tensor)\n",
    "batch_size = 2048\n",
    "train_loader = DataLoader(train_dataset, batch_size=batch_size, shuffle=True)\n",
    "test_loader = DataLoader(test_dataset, batch_size=batch_size, shuffle=False)\n",
    "\n",
    "scheduler = optim.lr_scheduler.ReduceLROnPlateau(optimizer, mode='min', factor=0.5, patience=2)  \n"
   ]
  },
  {
   "cell_type": "markdown",
   "metadata": {},
   "source": [
    "### Without Feature Selection"
   ]
  },
  {
   "cell_type": "code",
   "execution_count": null,
   "metadata": {},
   "outputs": [
    {
     "name": "stderr",
     "output_type": "stream",
     "text": [
      "Epoch 1/100 - LR: 0.000100: 100%|██████████| 3485/3485 [02:18<00:00, 25.15it/s, acc=62.47%, loss=0.6416]\n"
     ]
    },
    {
     "name": "stdout",
     "output_type": "stream",
     "text": [
      "Epoch 1 Loss: 0.6568, Train Accuracy: 60.64%\n",
      "Test Loss: 0.6433, Test Accuracy: 62.08%\n"
     ]
    },
    {
     "name": "stderr",
     "output_type": "stream",
     "text": [
      "Epoch 2/100 - LR: 0.000100: 100%|██████████| 3485/3485 [02:45<00:00, 21.07it/s, acc=62.26%, loss=0.6314]\n"
     ]
    },
    {
     "name": "stdout",
     "output_type": "stream",
     "text": [
      "Epoch 2 Loss: 0.6402, Train Accuracy: 62.40%\n",
      "Test Loss: 0.6370, Test Accuracy: 62.67%\n"
     ]
    },
    {
     "name": "stderr",
     "output_type": "stream",
     "text": [
      "Epoch 3/100 - LR: 0.000100: 100%|██████████| 3485/3485 [02:49<00:00, 20.52it/s, acc=63.65%, loss=0.6317]\n"
     ]
    },
    {
     "name": "stdout",
     "output_type": "stream",
     "text": [
      "Epoch 3 Loss: 0.6346, Train Accuracy: 62.98%\n",
      "Test Loss: 0.6343, Test Accuracy: 62.81%\n"
     ]
    },
    {
     "name": "stderr",
     "output_type": "stream",
     "text": [
      "Epoch 4/100 - LR: 0.000100: 100%|██████████| 3485/3485 [02:51<00:00, 20.27it/s, acc=65.28%, loss=0.6290]\n"
     ]
    },
    {
     "name": "stdout",
     "output_type": "stream",
     "text": [
      "Epoch 4 Loss: 0.6317, Train Accuracy: 63.29%\n",
      "Test Loss: 0.6325, Test Accuracy: 62.95%\n"
     ]
    },
    {
     "name": "stderr",
     "output_type": "stream",
     "text": [
      "Epoch 5/100 - LR: 0.000100: 100%|██████████| 3485/3485 [03:00<00:00, 19.29it/s, acc=65.44%, loss=0.6194]\n"
     ]
    },
    {
     "name": "stdout",
     "output_type": "stream",
     "text": [
      "Epoch 5 Loss: 0.6300, Train Accuracy: 63.51%\n",
      "Test Loss: 0.6319, Test Accuracy: 62.90%\n"
     ]
    },
    {
     "name": "stderr",
     "output_type": "stream",
     "text": [
      "Epoch 6/100 - LR: 0.000100: 100%|██████████| 3485/3485 [02:46<00:00, 20.88it/s, acc=62.98%, loss=0.6365]\n"
     ]
    },
    {
     "name": "stdout",
     "output_type": "stream",
     "text": [
      "Epoch 6 Loss: 0.6286, Train Accuracy: 63.65%\n",
      "Test Loss: 0.6316, Test Accuracy: 62.84%\n"
     ]
    },
    {
     "name": "stderr",
     "output_type": "stream",
     "text": [
      "Epoch 7/100 - LR: 0.000100: 100%|██████████| 3485/3485 [02:48<00:00, 20.64it/s, acc=64.16%, loss=0.6209]\n"
     ]
    },
    {
     "name": "stdout",
     "output_type": "stream",
     "text": [
      "Epoch 7 Loss: 0.6275, Train Accuracy: 63.80%\n",
      "Test Loss: 0.6318, Test Accuracy: 62.81%\n"
     ]
    },
    {
     "name": "stderr",
     "output_type": "stream",
     "text": [
      "Epoch 8/100 - LR: 0.000100: 100%|██████████| 3485/3485 [02:46<00:00, 20.89it/s, acc=64.31%, loss=0.6174]\n"
     ]
    },
    {
     "name": "stdout",
     "output_type": "stream",
     "text": [
      "Epoch 8 Loss: 0.6265, Train Accuracy: 63.91%\n",
      "Test Loss: 0.6327, Test Accuracy: 62.56%\n"
     ]
    },
    {
     "name": "stderr",
     "output_type": "stream",
     "text": [
      "Epoch 9/100 - LR: 0.000100: 100%|██████████| 3485/3485 [02:45<00:00, 21.00it/s, acc=63.49%, loss=0.6249]\n"
     ]
    },
    {
     "name": "stdout",
     "output_type": "stream",
     "text": [
      "Epoch 9 Loss: 0.6256, Train Accuracy: 64.04%\n",
      "Test Loss: 0.6335, Test Accuracy: 62.41%\n",
      "Learning rate changed from 0.000100 to 0.000050\n"
     ]
    },
    {
     "name": "stderr",
     "output_type": "stream",
     "text": [
      "Epoch 10/100 - LR: 0.000050: 100%|██████████| 3485/3485 [02:47<00:00, 20.77it/s, acc=65.08%, loss=0.6224]\n"
     ]
    },
    {
     "name": "stdout",
     "output_type": "stream",
     "text": [
      "Epoch 10 Loss: 0.6246, Train Accuracy: 64.16%\n",
      "Test Loss: 0.6347, Test Accuracy: 62.23%\n"
     ]
    },
    {
     "name": "stderr",
     "output_type": "stream",
     "text": [
      "Epoch 11/100 - LR: 0.000050: 100%|██████████| 3485/3485 [02:47<00:00, 20.79it/s, acc=67.84%, loss=0.6010]\n"
     ]
    },
    {
     "name": "stdout",
     "output_type": "stream",
     "text": [
      "Epoch 11 Loss: 0.6242, Train Accuracy: 64.22%\n",
      "Test Loss: 0.6348, Test Accuracy: 62.16%\n"
     ]
    },
    {
     "name": "stderr",
     "output_type": "stream",
     "text": [
      "Epoch 12/100 - LR: 0.000050: 100%|██████████| 3485/3485 [02:44<00:00, 21.16it/s, acc=64.77%, loss=0.6192]\n"
     ]
    },
    {
     "name": "stdout",
     "output_type": "stream",
     "text": [
      "Epoch 12 Loss: 0.6238, Train Accuracy: 64.28%\n",
      "Test Loss: 0.6351, Test Accuracy: 62.14%\n",
      "Learning rate changed from 0.000050 to 0.000025\n"
     ]
    },
    {
     "name": "stderr",
     "output_type": "stream",
     "text": [
      "Epoch 13/100 - LR: 0.000025: 100%|██████████| 3485/3485 [02:52<00:00, 20.18it/s, acc=64.72%, loss=0.6169]\n"
     ]
    },
    {
     "name": "stdout",
     "output_type": "stream",
     "text": [
      "Epoch 13 Loss: 0.6234, Train Accuracy: 64.33%\n",
      "Test Loss: 0.6351, Test Accuracy: 62.11%\n"
     ]
    },
    {
     "name": "stderr",
     "output_type": "stream",
     "text": [
      "Epoch 14/100 - LR: 0.000025: 100%|██████████| 3485/3485 [02:22<00:00, 24.53it/s, acc=64.06%, loss=0.6262]\n"
     ]
    },
    {
     "name": "stdout",
     "output_type": "stream",
     "text": [
      "Epoch 14 Loss: 0.6231, Train Accuracy: 64.35%\n",
      "Test Loss: 0.6350, Test Accuracy: 62.15%\n"
     ]
    },
    {
     "name": "stderr",
     "output_type": "stream",
     "text": [
      "Epoch 15/100 - LR: 0.000025: 100%|██████████| 3485/3485 [02:56<00:00, 19.77it/s, acc=64.21%, loss=0.6258]\n"
     ]
    },
    {
     "name": "stdout",
     "output_type": "stream",
     "text": [
      "Epoch 15 Loss: 0.6229, Train Accuracy: 64.39%\n",
      "Test Loss: 0.6345, Test Accuracy: 62.18%\n",
      "Learning rate changed from 0.000025 to 0.000013\n",
      "Early stopping triggered at epoch 15. Best model was from epoch 4.\n"
     ]
    }
   ],
   "source": [
    "num_epochs = 100\n",
    "best_model_weights, train_loss, test_loss, train_accuracy, test_accuracy, lrs = helper_functions.train_and_evaluate_model(model, criterion, optimizer, scheduler, train_loader, test_loader, num_epochs)\n",
    "torch.save(model.state_dict(), '2hl_initial_encodings.pth')"
   ]
  },
  {
   "cell_type": "markdown",
   "metadata": {},
   "source": [
    "### Using PCA for feature selection"
   ]
  },
  {
   "cell_type": "code",
   "execution_count": 3,
   "metadata": {},
   "outputs": [
    {
     "name": "stderr",
     "output_type": "stream",
     "text": [
      "Epoch 1/100 - LR: 0.000100: 100%|██████████| 3485/3485 [02:35<00:00, 22.40it/s, acc=62.26%, loss=0.6380]\n"
     ]
    },
    {
     "name": "stdout",
     "output_type": "stream",
     "text": [
      "Epoch 1 Loss: 0.6624, Train Accuracy: 59.86%\n",
      "Test Loss: 0.6466, Test Accuracy: 61.79%\n"
     ]
    },
    {
     "name": "stderr",
     "output_type": "stream",
     "text": [
      "Epoch 2/100 - LR: 0.000100: 100%|██████████| 3485/3485 [02:43<00:00, 21.31it/s, acc=61.70%, loss=0.6439]\n"
     ]
    },
    {
     "name": "stdout",
     "output_type": "stream",
     "text": [
      "Epoch 2 Loss: 0.6440, Train Accuracy: 61.93%\n",
      "Test Loss: 0.6405, Test Accuracy: 62.12%\n"
     ]
    },
    {
     "name": "stderr",
     "output_type": "stream",
     "text": [
      "Epoch 3/100 - LR: 0.000100: 100%|██████████| 3485/3485 [02:48<00:00, 20.68it/s, acc=62.93%, loss=0.6342]\n"
     ]
    },
    {
     "name": "stdout",
     "output_type": "stream",
     "text": [
      "Epoch 3 Loss: 0.6379, Train Accuracy: 62.61%\n",
      "Test Loss: 0.6384, Test Accuracy: 62.20%\n"
     ]
    },
    {
     "name": "stderr",
     "output_type": "stream",
     "text": [
      "Epoch 4/100 - LR: 0.000100: 100%|██████████| 3485/3485 [02:51<00:00, 20.33it/s, acc=63.18%, loss=0.6295]\n"
     ]
    },
    {
     "name": "stdout",
     "output_type": "stream",
     "text": [
      "Epoch 4 Loss: 0.6350, Train Accuracy: 62.90%\n",
      "Test Loss: 0.6373, Test Accuracy: 62.16%\n"
     ]
    },
    {
     "name": "stderr",
     "output_type": "stream",
     "text": [
      "Epoch 5/100 - LR: 0.000100: 100%|██████████| 3485/3485 [02:52<00:00, 20.25it/s, acc=64.16%, loss=0.6285]\n"
     ]
    },
    {
     "name": "stdout",
     "output_type": "stream",
     "text": [
      "Epoch 5 Loss: 0.6333, Train Accuracy: 63.09%\n",
      "Test Loss: 0.6370, Test Accuracy: 62.12%\n"
     ]
    },
    {
     "name": "stderr",
     "output_type": "stream",
     "text": [
      "Epoch 6/100 - LR: 0.000100: 100%|██████████| 3485/3485 [02:59<00:00, 19.47it/s, acc=64.67%, loss=0.6268]\n"
     ]
    },
    {
     "name": "stdout",
     "output_type": "stream",
     "text": [
      "Epoch 6 Loss: 0.6320, Train Accuracy: 63.26%\n",
      "Test Loss: 0.6375, Test Accuracy: 61.93%\n"
     ]
    },
    {
     "name": "stderr",
     "output_type": "stream",
     "text": [
      "Epoch 7/100 - LR: 0.000100: 100%|██████████| 3485/3485 [03:02<00:00, 19.09it/s, acc=61.50%, loss=0.6422]\n"
     ]
    },
    {
     "name": "stdout",
     "output_type": "stream",
     "text": [
      "Epoch 7 Loss: 0.6310, Train Accuracy: 63.38%\n",
      "Test Loss: 0.6386, Test Accuracy: 61.62%\n"
     ]
    },
    {
     "name": "stderr",
     "output_type": "stream",
     "text": [
      "Epoch 8/100 - LR: 0.000100: 100%|██████████| 3485/3485 [03:01<00:00, 19.16it/s, acc=64.00%, loss=0.6347]\n"
     ]
    },
    {
     "name": "stdout",
     "output_type": "stream",
     "text": [
      "Epoch 8 Loss: 0.6302, Train Accuracy: 63.50%\n",
      "Test Loss: 0.6409, Test Accuracy: 61.38%\n",
      "Learning rate changed from 0.000100 to 0.000050\n"
     ]
    },
    {
     "name": "stderr",
     "output_type": "stream",
     "text": [
      "Epoch 9/100 - LR: 0.000050: 100%|██████████| 3485/3485 [03:08<00:00, 18.46it/s, acc=64.26%, loss=0.6195]\n"
     ]
    },
    {
     "name": "stdout",
     "output_type": "stream",
     "text": [
      "Epoch 9 Loss: 0.6293, Train Accuracy: 63.61%\n",
      "Test Loss: 0.6434, Test Accuracy: 61.03%\n"
     ]
    },
    {
     "name": "stderr",
     "output_type": "stream",
     "text": [
      "Epoch 10/100 - LR: 0.000050: 100%|██████████| 3485/3485 [02:44<00:00, 21.24it/s, acc=64.26%, loss=0.6251]\n"
     ]
    },
    {
     "name": "stdout",
     "output_type": "stream",
     "text": [
      "Epoch 10 Loss: 0.6288, Train Accuracy: 63.68%\n",
      "Test Loss: 0.6436, Test Accuracy: 61.00%\n"
     ]
    },
    {
     "name": "stderr",
     "output_type": "stream",
     "text": [
      "Epoch 11/100 - LR: 0.000050: 100%|██████████| 3485/3485 [03:07<00:00, 18.62it/s, acc=64.77%, loss=0.6248]\n"
     ]
    },
    {
     "name": "stdout",
     "output_type": "stream",
     "text": [
      "Epoch 11 Loss: 0.6284, Train Accuracy: 63.74%\n",
      "Test Loss: 0.6450, Test Accuracy: 60.82%\n",
      "Learning rate changed from 0.000050 to 0.000025\n"
     ]
    },
    {
     "name": "stderr",
     "output_type": "stream",
     "text": [
      "Epoch 12/100 - LR: 0.000025: 100%|██████████| 3485/3485 [03:05<00:00, 18.74it/s, acc=63.54%, loss=0.6381]\n"
     ]
    },
    {
     "name": "stdout",
     "output_type": "stream",
     "text": [
      "Epoch 12 Loss: 0.6279, Train Accuracy: 63.81%\n",
      "Test Loss: 0.6451, Test Accuracy: 60.83%\n"
     ]
    },
    {
     "name": "stderr",
     "output_type": "stream",
     "text": [
      "Epoch 13/100 - LR: 0.000025: 100%|██████████| 3485/3485 [03:02<00:00, 19.06it/s, acc=64.36%, loss=0.6192]\n"
     ]
    },
    {
     "name": "stdout",
     "output_type": "stream",
     "text": [
      "Epoch 13 Loss: 0.6277, Train Accuracy: 63.83%\n",
      "Test Loss: 0.6453, Test Accuracy: 60.82%\n"
     ]
    },
    {
     "name": "stderr",
     "output_type": "stream",
     "text": [
      "Epoch 14/100 - LR: 0.000025: 100%|██████████| 3485/3485 [02:54<00:00, 19.91it/s, acc=64.31%, loss=0.6269]\n"
     ]
    },
    {
     "name": "stdout",
     "output_type": "stream",
     "text": [
      "Epoch 14 Loss: 0.6275, Train Accuracy: 63.86%\n",
      "Test Loss: 0.6456, Test Accuracy: 60.78%\n",
      "Learning rate changed from 0.000025 to 0.000013\n",
      "Early stopping triggered at epoch 14. Best model was from epoch 3.\n"
     ]
    }
   ],
   "source": [
    "import torch\n",
    "import torch.nn as nn\n",
    "import torch.optim as optim\n",
    "import numpy as np\n",
    "import pandas as pd\n",
    "from tqdm import tqdm\n",
    "from torch.utils.data import DataLoader, TensorDataset\n",
    "import helper_functions\n",
    "import importlib\n",
    "import os\n",
    "\n",
    "pca_features = [\n",
    "    \"Census_OSBuildNumber\",\n",
    "    \"OsBuild\",\n",
    "    \"Census_InternalBatteryType\",\n",
    "    \"Census_InternalBatteryNumberOfCharges\",\n",
    "    \"Census_IsWIMBootEnabled\",\n",
    "    \"Census_ThresholdOptIn\",\n",
    "    \"OsVer\",\n",
    "    \"Platform\",\n",
    "    \"Census_ChassisTypeName\",\n",
    "    \"Census_MDC2FormFactor\",\n",
    "    \"Census_InternalPrimaryDisplayResolutionVertical\",\n",
    "    \"Census_OSSkuName\",\n",
    "    \"AppVersion\",\n",
    "    \"Census_OSEdition\",\n",
    "    \"OsSuite\",\n",
    "    \"Census_InternalPrimaryDisplayResolutionHorizontal\",\n",
    "    \"Census_InternalPrimaryDiagonalDisplaySizeInInches\",\n",
    "    \"SkuEdition\",\n",
    "    \"OsBuildLab\",\n",
    "    \"Census_OSVersion\",\n",
    "    \"SmartScreen\",\n",
    "    \"Census_TotalPhysicalRAM\",\n",
    "    \"Census_OSBranch\",\n",
    "    \"Census_PowerPlatformRoleName\",\n",
    "    \"ProductName\",\n",
    "    \"Census_IsFlightingInternal\",\n",
    "    \"HasTpm\",\n",
    "    \"Census_ProcessorCoreCount\",\n",
    "    \"Census_OSBuildRevision\",\n",
    "    \"OsPlatformSubRelease\",\n",
    "    \"Census_IsFlightsDisabled\",\n",
    "    \"Census_FirmwareManufacturerIdentifier\",\n",
    "    \"Census_IsSecureBootEnabled\",\n",
    "    \"Firewall\",\n",
    "    \"Census_FlightRing\",\n",
    "    \"Census_PrimaryDiskTypeName\",\n",
    "    \"EngineVersion\",\n",
    "    \"IeVerIdentifier\",\n",
    "    \"Census_ProcessorModelIdentifier\",\n",
    "    \"Census_FirmwareVersionIdentifier\",\n",
    "    \"Census_ProcessorClass\",\n",
    "    \"AVProductsInstalled\",\n",
    "    \"Wdft_IsGamer\",\n",
    "    \"Census_OEMNameIdentifier\",\n",
    "    \"IsProtected\",\n",
    "    \"Processor\",\n",
    "    \"Census_OSArchitecture\",\n",
    "    \"AVProductStatesIdentifier\",\n",
    "    \"SMode\",\n",
    "    \"Census_OEMModelIdentifier\",\n",
    "    \"Wdft_RegionIdentifier\",\n",
    "    \"Census_OSInstallLanguageIdentifier\",\n",
    "    \"DefaultBrowsersIdentifier\",\n",
    "    \"AVProductsEnabled\",\n",
    "    \"Census_GenuineStateName\",\n",
    "    \"AvSigVersion\",\n",
    "    \"Census_OSWUAutoUpdateOptionsName\"\n",
    "]\n",
    "# Make sure these exist\n",
    "assert 'X_train' in locals() and 'y_train' in locals()\n",
    "\n",
    "# Convert tensors and push to device\n",
    "device = torch.device(\"cuda\" if torch.cuda.is_available() else \"cpu\")\n",
    "\n",
    "X_train_pca_tensor = torch.tensor(X_train[pca_features].values, dtype=torch.float32).to(device)\n",
    "X_valid_pca_tensor = torch.tensor(X_valid[pca_features].values, dtype=torch.float32).to(device)\n",
    "y_train_tensor = torch.tensor(y_train.values, dtype=torch.float32).view(-1, 1).to(device)\n",
    "y_test_tensor = torch.tensor(y_valid.values, dtype=torch.float32).view(-1, 1).to(device)\n",
    "\n",
    "# DataLoader\n",
    "train_dataset_pca = TensorDataset(X_train_pca_tensor, y_train_tensor)\n",
    "valid_dataset_pca = TensorDataset(X_valid_pca_tensor, y_test_tensor)\n",
    "train_loader_pca = DataLoader(train_dataset_pca, batch_size=2048, shuffle=True)\n",
    "test_loader_pca = DataLoader(valid_dataset_pca, batch_size=2048, shuffle=False)\n",
    "\n",
    "# Model\n",
    "class MLP(nn.Module):\n",
    "    def __init__(self):\n",
    "        super(MLP, self).__init__()\n",
    "        self.model = nn.Sequential(\n",
    "            nn.Linear(X_train_pca_tensor.shape[1], 256),\n",
    "            nn.BatchNorm1d(256),\n",
    "            nn.ReLU(),\n",
    "            nn.Dropout(0.3),\n",
    "            nn.Linear(256, 128),\n",
    "            nn.BatchNorm1d(128),\n",
    "            nn.ReLU(),\n",
    "            nn.Dropout(0.3),\n",
    "            nn.Linear(128, 64),\n",
    "            nn.BatchNorm1d(64),\n",
    "            nn.ReLU(),\n",
    "            nn.Dropout(0.3),\n",
    "            nn.Linear(64, 1),\n",
    "              # Add this only if using BCELoss\n",
    "        )\n",
    "\n",
    "    def forward(self, x):\n",
    "        return self.model(x)\n",
    "\n",
    "\n",
    "\n",
    "model_pca = MLP().to(device)\n",
    "\n",
    "criterion = nn.BCEWithLogitsLoss()  # or use nn.BCEWithLogitsLoss and remove sigmoid\n",
    "optimizer = optim.Adam(model_pca.parameters(), weight_decay=1e-4, lr=0.0001)\n",
    "scheduler = optim.lr_scheduler.ReduceLROnPlateau(optimizer, mode='min', factor=0.5, patience=2)\n",
    "\n",
    "# Train\n",
    "best_model_weights_pca, train_loss_pca, test_loss_pca, train_accuracy_pca, test_accuracy_pca, lrs_pca = helper_functions.train_and_evaluate_model(\n",
    "    model_pca, criterion, optimizer, scheduler, train_loader_pca, test_loader_pca, epochs=100\n",
    ")\n",
    "\n",
    "\n"
   ]
  },
  {
   "cell_type": "markdown",
   "metadata": {},
   "source": [
    "### Using LDA for feature selection"
   ]
  },
  {
   "cell_type": "code",
   "execution_count": 19,
   "metadata": {},
   "outputs": [],
   "source": [
    "import torch\n",
    "torch.cuda.empty_cache()\n"
   ]
  },
  {
   "cell_type": "code",
   "execution_count": null,
   "metadata": {},
   "outputs": [
    {
     "name": "stderr",
     "output_type": "stream",
     "text": [
      "Epoch 1/100 - LR: 0.000100: 100%|██████████| 3485/3485 [02:17<00:00, 25.41it/s, acc=61.44%, loss=0.6501]\n"
     ]
    },
    {
     "name": "stdout",
     "output_type": "stream",
     "text": [
      "Epoch 1 Loss: 0.6605, Train Accuracy: 60.11%\n",
      "Test Loss: 0.6449, Test Accuracy: 61.83%\n"
     ]
    },
    {
     "name": "stderr",
     "output_type": "stream",
     "text": [
      "Epoch 2/100 - LR: 0.000100: 100%|██████████| 3485/3485 [02:15<00:00, 25.67it/s, acc=64.11%, loss=0.6319]\n"
     ]
    },
    {
     "name": "stdout",
     "output_type": "stream",
     "text": [
      "Epoch 2 Loss: 0.6412, Train Accuracy: 62.27%\n",
      "Test Loss: 0.6379, Test Accuracy: 62.55%\n"
     ]
    },
    {
     "name": "stderr",
     "output_type": "stream",
     "text": [
      "Epoch 3/100 - LR: 0.000100: 100%|██████████| 3485/3485 [02:15<00:00, 25.66it/s, acc=61.29%, loss=0.6436]\n"
     ]
    },
    {
     "name": "stdout",
     "output_type": "stream",
     "text": [
      "Epoch 3 Loss: 0.6349, Train Accuracy: 62.97%\n",
      "Test Loss: 0.6346, Test Accuracy: 62.83%\n"
     ]
    },
    {
     "name": "stderr",
     "output_type": "stream",
     "text": [
      "Epoch 4/100 - LR: 0.000100: 100%|██████████| 3485/3485 [02:14<00:00, 25.83it/s, acc=62.06%, loss=0.6432]\n"
     ]
    },
    {
     "name": "stdout",
     "output_type": "stream",
     "text": [
      "Epoch 4 Loss: 0.6318, Train Accuracy: 63.29%\n",
      "Test Loss: 0.6329, Test Accuracy: 62.94%\n"
     ]
    },
    {
     "name": "stderr",
     "output_type": "stream",
     "text": [
      "Epoch 5/100 - LR: 0.000100: 100%|██████████| 3485/3485 [02:15<00:00, 25.64it/s, acc=62.67%, loss=0.6339]\n"
     ]
    },
    {
     "name": "stdout",
     "output_type": "stream",
     "text": [
      "Epoch 5 Loss: 0.6300, Train Accuracy: 63.49%\n",
      "Test Loss: 0.6320, Test Accuracy: 62.90%\n"
     ]
    },
    {
     "name": "stderr",
     "output_type": "stream",
     "text": [
      "Epoch 6/100 - LR: 0.000100: 100%|██████████| 3485/3485 [02:15<00:00, 25.74it/s, acc=63.75%, loss=0.6261]\n"
     ]
    },
    {
     "name": "stdout",
     "output_type": "stream",
     "text": [
      "Epoch 6 Loss: 0.6286, Train Accuracy: 63.66%\n",
      "Test Loss: 0.6320, Test Accuracy: 62.73%\n"
     ]
    },
    {
     "name": "stderr",
     "output_type": "stream",
     "text": [
      "Epoch 7/100 - LR: 0.000100: 100%|██████████| 3485/3485 [02:14<00:00, 25.92it/s, acc=63.18%, loss=0.6276]\n"
     ]
    },
    {
     "name": "stdout",
     "output_type": "stream",
     "text": [
      "Epoch 7 Loss: 0.6275, Train Accuracy: 63.79%\n",
      "Test Loss: 0.6326, Test Accuracy: 62.57%\n"
     ]
    },
    {
     "name": "stderr",
     "output_type": "stream",
     "text": [
      "Epoch 8/100 - LR: 0.000100: 100%|██████████| 3485/3485 [02:14<00:00, 25.83it/s, acc=62.98%, loss=0.6373]\n"
     ]
    },
    {
     "name": "stdout",
     "output_type": "stream",
     "text": [
      "Epoch 8 Loss: 0.6266, Train Accuracy: 63.92%\n",
      "Test Loss: 0.6339, Test Accuracy: 62.30%\n",
      "Learning rate changed from 0.000100 to 0.000050\n"
     ]
    },
    {
     "name": "stderr",
     "output_type": "stream",
     "text": [
      "Epoch 9/100 - LR: 0.000050: 100%|██████████| 3485/3485 [02:15<00:00, 25.72it/s, acc=63.49%, loss=0.6241]\n"
     ]
    },
    {
     "name": "stdout",
     "output_type": "stream",
     "text": [
      "Epoch 9 Loss: 0.6255, Train Accuracy: 64.06%\n",
      "Test Loss: 0.6345, Test Accuracy: 62.19%\n"
     ]
    },
    {
     "name": "stderr",
     "output_type": "stream",
     "text": [
      "Epoch 10/100 - LR: 0.000050: 100%|██████████| 3485/3485 [02:15<00:00, 25.69it/s, acc=65.13%, loss=0.6176]\n"
     ]
    },
    {
     "name": "stdout",
     "output_type": "stream",
     "text": [
      "Epoch 10 Loss: 0.6250, Train Accuracy: 64.11%\n",
      "Test Loss: 0.6359, Test Accuracy: 62.02%\n"
     ]
    },
    {
     "name": "stderr",
     "output_type": "stream",
     "text": [
      "Epoch 11/100 - LR: 0.000050: 100%|██████████| 3485/3485 [02:15<00:00, 25.68it/s, acc=63.70%, loss=0.6271]\n"
     ]
    },
    {
     "name": "stdout",
     "output_type": "stream",
     "text": [
      "Epoch 11 Loss: 0.6245, Train Accuracy: 64.18%\n",
      "Test Loss: 0.6363, Test Accuracy: 61.93%\n",
      "Learning rate changed from 0.000050 to 0.000025\n"
     ]
    },
    {
     "name": "stderr",
     "output_type": "stream",
     "text": [
      "Epoch 12/100 - LR: 0.000025: 100%|██████████| 3485/3485 [02:15<00:00, 25.74it/s, acc=65.18%, loss=0.6170]\n"
     ]
    },
    {
     "name": "stdout",
     "output_type": "stream",
     "text": [
      "Epoch 12 Loss: 0.6240, Train Accuracy: 64.24%\n",
      "Test Loss: 0.6356, Test Accuracy: 62.04%\n"
     ]
    },
    {
     "name": "stderr",
     "output_type": "stream",
     "text": [
      "Epoch 13/100 - LR: 0.000025: 100%|██████████| 3485/3485 [02:16<00:00, 25.59it/s, acc=65.03%, loss=0.6256]\n"
     ]
    },
    {
     "name": "stdout",
     "output_type": "stream",
     "text": [
      "Epoch 13 Loss: 0.6238, Train Accuracy: 64.28%\n",
      "Test Loss: 0.6359, Test Accuracy: 62.01%\n"
     ]
    },
    {
     "name": "stderr",
     "output_type": "stream",
     "text": [
      "Epoch 14/100 - LR: 0.000025: 100%|██████████| 3485/3485 [02:14<00:00, 25.85it/s, acc=65.64%, loss=0.6207]\n"
     ]
    },
    {
     "name": "stdout",
     "output_type": "stream",
     "text": [
      "Epoch 14 Loss: 0.6235, Train Accuracy: 64.30%\n",
      "Test Loss: 0.6355, Test Accuracy: 62.04%\n",
      "Learning rate changed from 0.000025 to 0.000013\n",
      "Early stopping triggered at epoch 14. Best model was from epoch 4.\n"
     ]
    }
   ],
   "source": [
    "import torch\n",
    "import torch.nn as nn\n",
    "import torch.optim as optim\n",
    "import numpy as np\n",
    "import pandas as pd\n",
    "from tqdm import tqdm\n",
    "from torch.utils.data import DataLoader, TensorDataset\n",
    "import helper_functions\n",
    "import os\n",
    "\n",
    "# Use CUDA blocking for better traceback during errors\n",
    "\n",
    "lda_features = [\n",
    "    'Census_OSEdition', 'Census_OSSkuName', 'AVProductsInstalled', 'EngineVersion', 'SmartScreen',\n",
    "    'AVProductStatesIdentifier', 'Census_ThresholdOptIn', 'IsProtected', 'Census_OSInstallTypeName',\n",
    "    'Census_IsVirtualDevice', 'Census_InternalPrimaryDisplayResolutionVertical', 'OsSuite',\n",
    "    'Census_InternalPrimaryDisplayResolutionHorizontal', 'Processor',\n",
    "    'Census_IsAlwaysOnAlwaysConnectedCapable', 'Wdft_IsGamer', 'Census_OSVersion',\n",
    "    'Census_OSUILocaleIdentifier', 'Census_InternalBatteryNumberOfCharges', 'Census_IsTouchEnabled',\n",
    "    'Census_OSBuildNumber', 'HasTpm', 'SMode', 'Census_MDC2FormFactor',\n",
    "    'Census_OSInstallLanguageIdentifier', 'Census_DeviceFamily', 'Census_HasOpticalDiskDrive',\n",
    "    'Census_TotalPhysicalRAM', 'Census_InternalBatteryType', 'Census_PrimaryDiskTypeName',\n",
    "    'LocaleEnglishNameIdentifier', 'ProductName', 'Census_ProcessorCoreCount', 'Wdft_RegionIdentifier',\n",
    "    'DefaultBrowsersIdentifier', 'Census_IsSecureBootEnabled', 'Census_GenuineStateName',\n",
    "    'RtpStateBitfield', 'OsBuild', 'SkuEdition', 'OsPlatformSubRelease', 'Census_IsFlightingInternal',\n",
    "    'Census_FlightRing', 'OsVer', 'Census_ProcessorModelIdentifier', 'Census_ActivationChannel',\n",
    "    'IeVerIdentifier', 'Census_OSBuildRevision', 'AvSigVersion', 'AppVersion',\n",
    "    'Census_OSWUAutoUpdateOptionsName', 'Census_OEMNameIdentifier', 'Census_OSArchitecture',\n",
    "    'Census_ChassisTypeName', 'Census_PowerPlatformRoleName', 'PuaMode', 'Census_OEMModelIdentifier',\n",
    "    'Census_ProcessorClass', 'Census_ProcessorManufacturerIdentifier', 'Census_IsFlightsDisabled',\n",
    "    'Census_OSBranch', 'AVProductsEnabled', 'Census_SystemVolumeTotalCapacity', 'CityIdentifier',\n",
    "    'Census_IsPortableOperatingSystem', 'IsSxsPassiveMode', 'Census_FirmwareManufacturerIdentifier',\n",
    "    'OrganizationIdentifier', 'Census_InternalPrimaryDiagonalDisplaySizeInInches', 'AutoSampleOptIn',\n",
    "    'OsBuildLab', 'Census_FirmwareVersionIdentifier', 'CountryIdentifier', 'UacLuaenable', 'IsBeta',\n",
    "    'Firewall', 'Census_IsPenCapable', 'Census_PrimaryDiskTotalCapacity', 'Platform',\n",
    "    'Census_IsWIMBootEnabled', 'GeoNameIdentifier'\n",
    "]\n",
    "\n",
    "# Device setup\n",
    "device = torch.device(\"cuda\" if torch.cuda.is_available() else \"cpu\")\n",
    "\n",
    "# Convert tensors\n",
    "X_train_lda_tensor = torch.tensor(X_train[lda_features].values, dtype=torch.float32).to(device)\n",
    "X_valid_lda_tensor = torch.tensor(X_valid[lda_features].values, dtype=torch.float32).to(device)\n",
    "y_train_tensor = torch.tensor(y_train.values, dtype=torch.float32).view(-1, 1).to(device)\n",
    "y_test_tensor = torch.tensor(y_valid.values, dtype=torch.float32).view(-1, 1).to(device)\n",
    "\n",
    "# Datasets & Loaders\n",
    "train_dataset_lda = TensorDataset(X_train_lda_tensor, y_train_tensor)\n",
    "valid_dataset_lda = TensorDataset(X_valid_lda_tensor, y_test_tensor)\n",
    "\n",
    "batch_size = 2048\n",
    "train_loader_lda = DataLoader(train_dataset_lda, batch_size=batch_size, shuffle=True)\n",
    "test_loader_lda = DataLoader(valid_dataset_lda, batch_size=batch_size, shuffle=False)\n",
    "\n",
    "# MLP model\n",
    "class MLP(nn.Module):\n",
    "    def __init__(self):\n",
    "        super(MLP, self).__init__()\n",
    "        self.model = nn.Sequential(\n",
    "            nn.Linear(X_train_lda_tensor.shape[1], 256),\n",
    "            nn.BatchNorm1d(256),\n",
    "            nn.ReLU(),\n",
    "            nn.Dropout(0.3),\n",
    "            nn.Linear(256, 128),\n",
    "            nn.BatchNorm1d(128),\n",
    "            nn.ReLU(),\n",
    "            nn.Dropout(0.3),\n",
    "            nn.Linear(128, 64),\n",
    "            nn.BatchNorm1d(64),\n",
    "            nn.ReLU(),\n",
    "            nn.Dropout(0.3),\n",
    "            nn.Linear(64, 1)  # Do not add sigmoid if using BCEWithLogitsLoss\n",
    "        )\n",
    "\n",
    "    def forward(self, x):\n",
    "        return self.model(x)\n",
    "\n",
    "# Training setup\n",
    "model_lda = MLP().to(device)\n",
    "criterion = nn.BCEWithLogitsLoss()\n",
    "optimizer = optim.Adam(model_lda.parameters(), weight_decay=1e-4, lr=0.0001)\n",
    "scheduler = optim.lr_scheduler.ReduceLROnPlateau(optimizer, mode='min', factor=0.5, patience=2)\n",
    "\n",
    "# Train & evaluate\n",
    "num_epochs = 100\n",
    "best_model_weights_lda, train_loss_lda, test_loss_lda, train_accuracy_lda, test_accuracy_lda, lrs_lda = helper_functions.train_and_evaluate_model(\n",
    "    model_lda, criterion, optimizer, scheduler, train_loader_lda, test_loader_lda, num_epochs\n",
    ")\n",
    "\n",
    "# Save model\n",
    "torch.save(model_lda.state_dict(), '2hl_initial_encodings_lda.pth')\n"
   ]
  },
  {
   "cell_type": "code",
   "execution_count": 9,
   "metadata": {},
   "outputs": [
    {
     "data": {
      "image/png": "[encoded data removed]",
      "text/plain": [
       "<Figure size 1200x600 with 1 Axes>"
      ]
     },
     "metadata": {},
     "output_type": "display_data"
    },
    {
     "data": {
      "image/png": "[encoded data removed]",
      "text/plain": [
       "<Figure size 1200x600 with 1 Axes>"
      ]
     },
     "metadata": {},
     "output_type": "display_data"
    }
   ],
   "source": [
    "import matplotlib.pyplot as plt\n",
    "import numpy as np\n",
    "\n",
    "\n",
    "# Plotting function\n",
    "plt.figure(figsize=(12, 6))\n",
    "plt.plot(np.arange(1, len(train_loss_pca) + 1), train_loss_pca, label='Train Loss PCA', color='blue')\n",
    "plt.plot(np.arange(1, len(test_loss_pca) + 1), test_loss_pca, label='Test Loss PCA', color='orange')\n",
    "plt.plot(np.arange(1, len(train_loss_lda) + 1), train_loss_lda, label='Train Loss LDA', color='green')\n",
    "plt.plot(np.arange(1, len(test_loss_lda) + 1), test_loss_lda, label='Test Loss LDA', color='red')\n",
    "plt.xlabel('Epochs')\n",
    "plt.ylabel('Loss')\n",
    "plt.title('Loss vs. Epochs')\n",
    "plt.legend()\n",
    "plt.show()\n",
    "\n",
    "# Plotting function for accuracy\n",
    "plt.figure(figsize=(12, 6))\n",
    "plt.plot(np.arange(1, len(train_accuracy_pca) + 1), train_accuracy_pca, label='Train Accuracy PCA', color='blue')   \n",
    "plt.plot(np.arange(1, len(test_accuracy_pca) + 1), test_accuracy_pca, label='Test Accuracy PCA', color='orange')\n",
    "plt.plot(np.arange(1, len(train_accuracy_lda) + 1), train_accuracy_lda, label='Train Accuracy LDA', color='green')\n",
    "plt.plot(np.arange(1, len(test_accuracy_lda) + 1), test_accuracy_lda, label='Test Accuracy LDA', color='red')\n",
    "plt.xlabel('Epochs')\n",
    "plt.ylabel('Accuracy')\n",
    "plt.title('Accuracy vs. Epochs')\n",
    "plt.legend()\n",
    "plt.show()"
   ]
  },
  {
   "cell_type": "markdown",
   "metadata": {},
   "source": []
  },
  {
   "cell_type": "markdown",
   "metadata": {},
   "source": [
    "# With Advanced Encodings"
   ]
  },
  {
   "cell_type": "code",
   "execution_count": null,
   "metadata": {},
   "outputs": [],
   "source": [
    "import torch\n",
    "import torch.nn as nn\n",
    "import torch.optim as optim\n",
    "import numpy as np\n",
    "import pandas as pd\n",
    "from tqdm import tqdm\n",
    "from torch.utils.data import DataLoader, TensorDataset\n",
    "train_dtypes=test_dtypes=dtypes = {\n",
    "    'ProductName':                                                  'float32',\n",
    "    'IsBeta':                                                       'float32',\n",
    "    'RtpStateBitfield':                                             'float32',\n",
    "    'IsSxsPassiveMode':                                             'float32',\n",
    "    'DefaultBrowsersIdentifier':                                    'float32',\n",
    "    'AVProductStatesIdentifier':                                    'float32',\n",
    "    'AVProductsInstalled':                                          'float32',\n",
    "    'AVProductsEnabled':                                            'float32',\n",
    "    'HasTpm':                                                       'float32',\n",
    "    'CountryIdentifier':                                            'float32',\n",
    "    'CityIdentifier':                                               'float32',\n",
    "    'OrganizationIdentifier':                                       'float32',\n",
    "    'GeoNameIdentifier':                                            'float32',\n",
    "    'LocaleEnglishNameIdentifier':                                  'float32',\n",
    "    'Platform':                                                     'float32',\n",
    "    'Processor':                                                    'float32',\n",
    "    'OsVer':                                                        'float32',\n",
    "    'OsBuild':                                                      'float32',\n",
    "    'OsSuite':                                                      'float32',\n",
    "    'OsPlatformSubRelease':                                         'float32',\n",
    "    'OsBuildLab':                                                   'float32',\n",
    "    'SkuEdition':                                                   'float32',\n",
    "    'IsProtected':                                                  'float32',\n",
    "    'AutoSampleOptIn':                                              'float32',\n",
    "    'PuaMode':                                                      'float32',\n",
    "    'SMode':                                                        'float32',\n",
    "    'IeVerIdentifier':                                              'float32',\n",
    "    'SmartScreen':                                                  'float32',\n",
    "    'Firewall':                                                     'float32',\n",
    "    'UacLuaenable':                                                 'float32',\n",
    "    'Census_MDC2FormFactor':                                        'float32',\n",
    "    'Census_DeviceFamily':                                          'float32',\n",
    "    'Census_OEMNameIdentifier':                                     'float32',\n",
    "    'Census_OEMModelIdentifier':                                    'float32',\n",
    "    'Census_ProcessorCoreCount':                                    'float32',\n",
    "    'Census_ProcessorManufacturerIdentifier':                       'float32',\n",
    "    'Census_ProcessorModelIdentifier':                              'float32',\n",
    "    'Census_ProcessorClass':                                        'float32',\n",
    "    'Census_PrimaryDiskTotalCapacity':                              'float32',\n",
    "    'Census_PrimaryDiskTypeName':                                   'float32',\n",
    "    'Census_SystemVolumeTotalCapacity':                             'float32',\n",
    "    'Census_HasOpticalDiskDrive':                                   'float32',\n",
    "    'Census_TotalPhysicalRAM':                                      'float32',\n",
    "    'Census_ChassisTypeName':                                       'float32',\n",
    "    'Census_InternalPrimaryDiagonalDisplaySizeInInches':            'float32',\n",
    "    'Census_InternalPrimaryDisplayResolutionHorizontal':            'float32',\n",
    "    'Census_InternalPrimaryDisplayResolutionVertical':              'float32',\n",
    "    'Census_PowerPlatformRoleName':                                 'float32',\n",
    "    'Census_InternalBatteryType':                                   'float32',\n",
    "    'Census_InternalBatteryNumberOfCharges':                        'float32',\n",
    "    'Census_OSArchitecture':                                        'float32',\n",
    "    'Census_OSBranch':                                              'float32',\n",
    "    'Census_OSBuildNumber':                                         'float32',\n",
    "    'Census_OSBuildRevision':                                       'float32',\n",
    "    'Census_OSEdition':                                             'float32',\n",
    "    'Census_OSSkuName':                                             'float32',\n",
    "    'Census_OSInstallTypeName':                                     'float32',\n",
    "    'Census_OSInstallLanguageIdentifier':                           'float32',\n",
    "    'Census_OSUILocaleIdentifier':                                  'float32',\n",
    "    'Census_OSWUAutoUpdateOptionsName':                             'float32',\n",
    "    'Census_IsPortableOperatingSystem':                             'float32',\n",
    "    'Census_GenuineStateName':                                      'float32',\n",
    "    'Census_ActivationChannel':                                     'float32',\n",
    "    'Census_IsFlightingInternal':                                   'float32',\n",
    "    'Census_IsFlightsDisabled':                                     'float32',\n",
    "    'Census_FlightRing':                                            'float32',\n",
    "    'Census_ThresholdOptIn':                                        'float32',\n",
    "    'Census_FirmwareManufacturerIdentifier':                        'float32',\n",
    "    'Census_FirmwareVersionIdentifier':                             'float32',\n",
    "    'Census_IsSecureBootEnabled':                                   'float32',\n",
    "    'Census_IsWIMBootEnabled':                                      'float32',\n",
    "    'Census_IsVirtualDevice':                                       'float32',\n",
    "    'Census_IsTouchEnabled':                                        'float32',\n",
    "    'Census_IsPenCapable':                                          'float32',\n",
    "    'Census_IsAlwaysOnAlwaysConnectedCapable':                      'float32',\n",
    "    'Wdft_IsGamer':                                                 'float32',\n",
    "    'Wdft_RegionIdentifier':                                        'float32',\n",
    "    'EngineVersion_1':                                              'int8',\n",
    "    'EngineVersion_2':                                              'int8',\n",
    "    'EngineVersion_3':                                              'float32',\n",
    "    'EngineVersion_4':                                              'float32',\n",
    "    'AppVersion_1':                                                 'int8',\n",
    "    'AppVersion_2':                                                 'float32',\n",
    "    'AppVersion_3':                                                 'float32',\n",
    "    'AppVersion_4':                                                 'float32',\n",
    "    'AvSigVersion_1':                                               'float32',\n",
    "    'AvSigVersion_2':                                               'float32',\n",
    "    'AvSigVersion_3':                                               'float32',\n",
    "    'AvSigVersion_4':                                               'int8',\n",
    "    'Census_OSVersion_1':                                           'float32',\n",
    "    'Census_OSVersion_2':                                           'float32',\n",
    "    'Census_OSVersion_3':                                           'float32',\n",
    "    'Census_OSVersion_4':                                           'float32',\n",
    "    'HasDetections':                                                'int8',\n",
    "}\n",
    "\n",
    "\n",
    "train_data = pd.read_csv(r'C:\\Users\\jithi\\OneDrive\\Desktop\\ML project\\Processed Datasets\\train_data_advanced_processed.csv',dtype=train_dtypes)\n",
    "test_data = pd.read_csv(r'C:\\Users\\jithi\\OneDrive\\Desktop\\ML project\\Processed Datasets\\validation_data_advanced_processed.csv',dtype=test_dtypes)\n",
    "\n",
    "X_train = train_data.drop('HasDetections', axis=1)\n",
    "y_train = train_data['HasDetections']\n",
    "X_valid = test_data.drop('HasDetections', axis=1)\n",
    "y_valid = test_data['HasDetections']\n",
    "\n",
    "del train_data, test_data\n",
    "X_train_tensor = torch.tensor(X_train.values, dtype=torch.float32)\n",
    "y_train_tensor = torch.tensor(y_train.values, dtype=torch.float32).view(-1, 1)\n",
    "X_test_tensor = torch.tensor(X_valid.values, dtype=torch.float32)\n",
    "y_test_tensor = torch.tensor(y_valid.values, dtype=torch.float32).view(-1, 1)\n",
    "\n",
    " "
   ]
  },
  {
   "cell_type": "markdown",
   "metadata": {},
   "source": [
    "### Without Feature Selection"
   ]
  },
  {
   "cell_type": "code",
   "execution_count": null,
   "metadata": {},
   "outputs": [
    {
     "name": "stderr",
     "output_type": "stream",
     "text": [
      "Epoch 1/100 - LR: 0.001000:   0%|          | 0/1743 [00:00<?, ?it/s]"
     ]
    },
    {
     "name": "stderr",
     "output_type": "stream",
     "text": [
      "Epoch 1/100 - LR: 0.001000: 100%|██████████| 1743/1743 [03:09<00:00,  9.20it/s, acc=63.88%, loss=0.6292]\n"
     ]
    },
    {
     "name": "stdout",
     "output_type": "stream",
     "text": [
      "Epoch 1 Loss: 0.6393, Train Accuracy: 62.57%\n",
      "Test Loss: 0.6263, Test Accuracy: 63.85%\n"
     ]
    },
    {
     "name": "stderr",
     "output_type": "stream",
     "text": [
      "Epoch 2/100 - LR: 0.001000: 100%|██████████| 1743/1743 [03:12<00:00,  9.04it/s, acc=65.67%, loss=0.6203]\n"
     ]
    },
    {
     "name": "stdout",
     "output_type": "stream",
     "text": [
      "Epoch 2 Loss: 0.6284, Train Accuracy: 63.77%\n",
      "Test Loss: 0.6234, Test Accuracy: 64.27%\n"
     ]
    },
    {
     "name": "stderr",
     "output_type": "stream",
     "text": [
      "Epoch 3/100 - LR: 0.001000: 100%|██████████| 1743/1743 [03:02<00:00,  9.54it/s, acc=63.31%, loss=0.6250]\n"
     ]
    },
    {
     "name": "stdout",
     "output_type": "stream",
     "text": [
      "Epoch 3 Loss: 0.6263, Train Accuracy: 64.05%\n",
      "Test Loss: 0.6214, Test Accuracy: 64.48%\n"
     ]
    },
    {
     "name": "stderr",
     "output_type": "stream",
     "text": [
      "Epoch 4/100 - LR: 0.001000: 100%|██████████| 1743/1743 [03:32<00:00,  8.21it/s, acc=64.70%, loss=0.6170]\n"
     ]
    },
    {
     "name": "stdout",
     "output_type": "stream",
     "text": [
      "Epoch 4 Loss: 0.6253, Train Accuracy: 64.16%\n",
      "Test Loss: 0.6206, Test Accuracy: 64.61%\n"
     ]
    },
    {
     "name": "stderr",
     "output_type": "stream",
     "text": [
      "Epoch 5/100 - LR: 0.001000: 100%|██████████| 1743/1743 [03:40<00:00,  7.90it/s, acc=64.75%, loss=0.6181]\n"
     ]
    },
    {
     "name": "stdout",
     "output_type": "stream",
     "text": [
      "Epoch 5 Loss: 0.6246, Train Accuracy: 64.26%\n",
      "Test Loss: 0.6201, Test Accuracy: 64.66%\n"
     ]
    },
    {
     "name": "stderr",
     "output_type": "stream",
     "text": [
      "Epoch 6/100 - LR: 0.001000: 100%|██████████| 1743/1743 [03:09<00:00,  9.22it/s, acc=62.75%, loss=0.6338]\n"
     ]
    },
    {
     "name": "stdout",
     "output_type": "stream",
     "text": [
      "Epoch 6 Loss: 0.6242, Train Accuracy: 64.32%\n",
      "Test Loss: 0.6199, Test Accuracy: 64.70%\n"
     ]
    },
    {
     "name": "stderr",
     "output_type": "stream",
     "text": [
      "Epoch 7/100 - LR: 0.001000: 100%|██████████| 1743/1743 [03:15<00:00,  8.93it/s, acc=63.37%, loss=0.6324]\n"
     ]
    },
    {
     "name": "stdout",
     "output_type": "stream",
     "text": [
      "Epoch 7 Loss: 0.6240, Train Accuracy: 64.32%\n",
      "Test Loss: 0.6195, Test Accuracy: 64.71%\n"
     ]
    },
    {
     "name": "stderr",
     "output_type": "stream",
     "text": [
      "Epoch 8/100 - LR: 0.001000: 100%|██████████| 1743/1743 [03:15<00:00,  8.92it/s, acc=63.83%, loss=0.6250]\n"
     ]
    },
    {
     "name": "stdout",
     "output_type": "stream",
     "text": [
      "Epoch 8 Loss: 0.6238, Train Accuracy: 64.35%\n",
      "Test Loss: 0.6194, Test Accuracy: 64.77%\n"
     ]
    },
    {
     "name": "stderr",
     "output_type": "stream",
     "text": [
      "Epoch 9/100 - LR: 0.001000: 100%|██████████| 1743/1743 [03:20<00:00,  8.68it/s, acc=64.75%, loss=0.6162]\n"
     ]
    },
    {
     "name": "stdout",
     "output_type": "stream",
     "text": [
      "Epoch 9 Loss: 0.6237, Train Accuracy: 64.38%\n",
      "Test Loss: 0.6193, Test Accuracy: 64.73%\n"
     ]
    },
    {
     "name": "stderr",
     "output_type": "stream",
     "text": [
      "Epoch 10/100 - LR: 0.001000: 100%|██████████| 1743/1743 [03:10<00:00,  9.13it/s, acc=64.70%, loss=0.6135]\n"
     ]
    },
    {
     "name": "stdout",
     "output_type": "stream",
     "text": [
      "Epoch 10 Loss: 0.6236, Train Accuracy: 64.37%\n",
      "Test Loss: 0.6192, Test Accuracy: 64.79%\n"
     ]
    },
    {
     "name": "stderr",
     "output_type": "stream",
     "text": [
      "Epoch 11/100 - LR: 0.001000: 100%|██████████| 1743/1743 [02:55<00:00,  9.92it/s, acc=63.57%, loss=0.6327]\n"
     ]
    },
    {
     "name": "stdout",
     "output_type": "stream",
     "text": [
      "Epoch 11 Loss: 0.6235, Train Accuracy: 64.38%\n",
      "Test Loss: 0.6188, Test Accuracy: 64.81%\n"
     ]
    },
    {
     "name": "stderr",
     "output_type": "stream",
     "text": [
      "Epoch 12/100 - LR: 0.001000: 100%|██████████| 1743/1743 [03:05<00:00,  9.41it/s, acc=63.21%, loss=0.6300]\n"
     ]
    },
    {
     "name": "stdout",
     "output_type": "stream",
     "text": [
      "Epoch 12 Loss: 0.6235, Train Accuracy: 64.41%\n",
      "Test Loss: 0.6187, Test Accuracy: 64.82%\n"
     ]
    },
    {
     "name": "stderr",
     "output_type": "stream",
     "text": [
      "Epoch 13/100 - LR: 0.001000: 100%|██████████| 1743/1743 [02:46<00:00, 10.46it/s, acc=64.44%, loss=0.6196]\n"
     ]
    },
    {
     "name": "stdout",
     "output_type": "stream",
     "text": [
      "Epoch 13 Loss: 0.6234, Train Accuracy: 64.41%\n",
      "Test Loss: 0.6187, Test Accuracy: 64.81%\n"
     ]
    },
    {
     "name": "stderr",
     "output_type": "stream",
     "text": [
      "Epoch 14/100 - LR: 0.001000: 100%|██████████| 1743/1743 [02:45<00:00, 10.53it/s, acc=63.93%, loss=0.6273]\n"
     ]
    },
    {
     "name": "stdout",
     "output_type": "stream",
     "text": [
      "Epoch 14 Loss: 0.6233, Train Accuracy: 64.43%\n",
      "Test Loss: 0.6185, Test Accuracy: 64.88%\n"
     ]
    },
    {
     "name": "stderr",
     "output_type": "stream",
     "text": [
      "Epoch 15/100 - LR: 0.001000: 100%|██████████| 1743/1743 [02:39<00:00, 10.91it/s, acc=63.47%, loss=0.6221]\n"
     ]
    },
    {
     "name": "stdout",
     "output_type": "stream",
     "text": [
      "Epoch 15 Loss: 0.6233, Train Accuracy: 64.43%\n",
      "Test Loss: 0.6187, Test Accuracy: 64.91%\n"
     ]
    },
    {
     "name": "stderr",
     "output_type": "stream",
     "text": [
      "Epoch 16/100 - LR: 0.001000: 100%|██████████| 1743/1743 [02:36<00:00, 11.14it/s, acc=66.65%, loss=0.6100]\n"
     ]
    },
    {
     "name": "stdout",
     "output_type": "stream",
     "text": [
      "Epoch 16 Loss: 0.6232, Train Accuracy: 64.44%\n",
      "Test Loss: 0.6185, Test Accuracy: 64.87%\n"
     ]
    },
    {
     "name": "stderr",
     "output_type": "stream",
     "text": [
      "Epoch 17/100 - LR: 0.001000: 100%|██████████| 1743/1743 [02:34<00:00, 11.28it/s, acc=63.01%, loss=0.6335]\n"
     ]
    },
    {
     "name": "stdout",
     "output_type": "stream",
     "text": [
      "Epoch 17 Loss: 0.6232, Train Accuracy: 64.43%\n",
      "Test Loss: 0.6188, Test Accuracy: 64.84%\n",
      "Learning rate changed from 0.001000 to 0.000500\n"
     ]
    },
    {
     "name": "stderr",
     "output_type": "stream",
     "text": [
      "Epoch 18/100 - LR: 0.000500: 100%|██████████| 1743/1743 [02:34<00:00, 11.26it/s, acc=65.62%, loss=0.6182]\n"
     ]
    },
    {
     "name": "stdout",
     "output_type": "stream",
     "text": [
      "Epoch 18 Loss: 0.6212, Train Accuracy: 64.66%\n",
      "Test Loss: 0.6165, Test Accuracy: 65.07%\n"
     ]
    },
    {
     "name": "stderr",
     "output_type": "stream",
     "text": [
      "Epoch 19/100 - LR: 0.000500: 100%|██████████| 1743/1743 [02:33<00:00, 11.33it/s, acc=65.98%, loss=0.6127]\n"
     ]
    },
    {
     "name": "stdout",
     "output_type": "stream",
     "text": [
      "Epoch 19 Loss: 0.6209, Train Accuracy: 64.69%\n",
      "Test Loss: 0.6161, Test Accuracy: 65.14%\n"
     ]
    },
    {
     "name": "stderr",
     "output_type": "stream",
     "text": [
      "Epoch 20/100 - LR: 0.000500: 100%|██████████| 1743/1743 [02:34<00:00, 11.31it/s, acc=63.98%, loss=0.6285]\n"
     ]
    },
    {
     "name": "stdout",
     "output_type": "stream",
     "text": [
      "Epoch 20 Loss: 0.6207, Train Accuracy: 64.72%\n",
      "Test Loss: 0.6161, Test Accuracy: 65.15%\n"
     ]
    },
    {
     "name": "stderr",
     "output_type": "stream",
     "text": [
      "Epoch 21/100 - LR: 0.000500: 100%|██████████| 1743/1743 [02:35<00:00, 11.23it/s, acc=65.67%, loss=0.6190]\n"
     ]
    },
    {
     "name": "stdout",
     "output_type": "stream",
     "text": [
      "Epoch 21 Loss: 0.6206, Train Accuracy: 64.72%\n",
      "Test Loss: 0.6160, Test Accuracy: 65.14%\n"
     ]
    },
    {
     "name": "stderr",
     "output_type": "stream",
     "text": [
      "Epoch 22/100 - LR: 0.000500: 100%|██████████| 1743/1743 [03:12<00:00,  9.07it/s, acc=64.39%, loss=0.6243]\n"
     ]
    },
    {
     "name": "stdout",
     "output_type": "stream",
     "text": [
      "Epoch 22 Loss: 0.6206, Train Accuracy: 64.73%\n",
      "Test Loss: 0.6157, Test Accuracy: 65.14%\n"
     ]
    },
    {
     "name": "stderr",
     "output_type": "stream",
     "text": [
      "Epoch 23/100 - LR: 0.000500: 100%|██████████| 1743/1743 [02:55<00:00,  9.92it/s, acc=63.52%, loss=0.6242]\n"
     ]
    },
    {
     "name": "stdout",
     "output_type": "stream",
     "text": [
      "Epoch 23 Loss: 0.6205, Train Accuracy: 64.74%\n",
      "Test Loss: 0.6161, Test Accuracy: 65.13%\n"
     ]
    },
    {
     "name": "stderr",
     "output_type": "stream",
     "text": [
      "Epoch 24/100 - LR: 0.000500: 100%|██████████| 1743/1743 [02:38<00:00, 10.98it/s, acc=65.47%, loss=0.6136]\n"
     ]
    },
    {
     "name": "stdout",
     "output_type": "stream",
     "text": [
      "Epoch 24 Loss: 0.6204, Train Accuracy: 64.74%\n",
      "Test Loss: 0.6159, Test Accuracy: 65.15%\n"
     ]
    },
    {
     "name": "stderr",
     "output_type": "stream",
     "text": [
      "Epoch 25/100 - LR: 0.000500: 100%|██████████| 1743/1743 [02:43<00:00, 10.66it/s, acc=65.21%, loss=0.6223]\n"
     ]
    },
    {
     "name": "stdout",
     "output_type": "stream",
     "text": [
      "Epoch 25 Loss: 0.6203, Train Accuracy: 64.76%\n",
      "Test Loss: 0.6156, Test Accuracy: 65.17%\n"
     ]
    },
    {
     "name": "stderr",
     "output_type": "stream",
     "text": [
      "Epoch 26/100 - LR: 0.000500: 100%|██████████| 1743/1743 [02:43<00:00, 10.65it/s, acc=64.75%, loss=0.6202]\n"
     ]
    },
    {
     "name": "stdout",
     "output_type": "stream",
     "text": [
      "Epoch 26 Loss: 0.6204, Train Accuracy: 64.74%\n",
      "Test Loss: 0.6154, Test Accuracy: 65.18%\n"
     ]
    },
    {
     "name": "stderr",
     "output_type": "stream",
     "text": [
      "Epoch 27/100 - LR: 0.000500: 100%|██████████| 1743/1743 [02:44<00:00, 10.58it/s, acc=65.93%, loss=0.6195]\n"
     ]
    },
    {
     "name": "stdout",
     "output_type": "stream",
     "text": [
      "Epoch 27 Loss: 0.6203, Train Accuracy: 64.76%\n",
      "Test Loss: 0.6152, Test Accuracy: 65.22%\n"
     ]
    },
    {
     "name": "stderr",
     "output_type": "stream",
     "text": [
      "Epoch 28/100 - LR: 0.000500: 100%|██████████| 1743/1743 [02:43<00:00, 10.64it/s, acc=65.88%, loss=0.6187]\n"
     ]
    },
    {
     "name": "stdout",
     "output_type": "stream",
     "text": [
      "Epoch 28 Loss: 0.6202, Train Accuracy: 64.77%\n",
      "Test Loss: 0.6155, Test Accuracy: 65.18%\n"
     ]
    },
    {
     "name": "stderr",
     "output_type": "stream",
     "text": [
      "Epoch 29/100 - LR: 0.000500: 100%|██████████| 1743/1743 [02:43<00:00, 10.64it/s, acc=62.13%, loss=0.6341]\n"
     ]
    },
    {
     "name": "stdout",
     "output_type": "stream",
     "text": [
      "Epoch 29 Loss: 0.6203, Train Accuracy: 64.75%\n",
      "Test Loss: 0.6153, Test Accuracy: 65.17%\n"
     ]
    },
    {
     "name": "stderr",
     "output_type": "stream",
     "text": [
      "Epoch 30/100 - LR: 0.000500: 100%|██████████| 1743/1743 [02:46<00:00, 10.46it/s, acc=64.65%, loss=0.6157]\n"
     ]
    },
    {
     "name": "stdout",
     "output_type": "stream",
     "text": [
      "Epoch 30 Loss: 0.6203, Train Accuracy: 64.74%\n",
      "Test Loss: 0.6153, Test Accuracy: 65.23%\n",
      "Learning rate changed from 0.000500 to 0.000250\n"
     ]
    },
    {
     "name": "stderr",
     "output_type": "stream",
     "text": [
      "Epoch 31/100 - LR: 0.000250: 100%|██████████| 1743/1743 [02:42<00:00, 10.72it/s, acc=64.75%, loss=0.6234]\n"
     ]
    },
    {
     "name": "stdout",
     "output_type": "stream",
     "text": [
      "Epoch 31 Loss: 0.6188, Train Accuracy: 64.90%\n",
      "Test Loss: 0.6139, Test Accuracy: 65.36%\n"
     ]
    },
    {
     "name": "stderr",
     "output_type": "stream",
     "text": [
      "Epoch 32/100 - LR: 0.000250: 100%|██████████| 1743/1743 [02:45<00:00, 10.56it/s, acc=66.39%, loss=0.6097]\n"
     ]
    },
    {
     "name": "stdout",
     "output_type": "stream",
     "text": [
      "Epoch 32 Loss: 0.6186, Train Accuracy: 64.94%\n",
      "Test Loss: 0.6138, Test Accuracy: 65.38%\n"
     ]
    },
    {
     "name": "stderr",
     "output_type": "stream",
     "text": [
      "Epoch 33/100 - LR: 0.000250: 100%|██████████| 1743/1743 [02:44<00:00, 10.62it/s, acc=65.52%, loss=0.6163]\n"
     ]
    },
    {
     "name": "stdout",
     "output_type": "stream",
     "text": [
      "Epoch 33 Loss: 0.6184, Train Accuracy: 64.97%\n",
      "Test Loss: 0.6144, Test Accuracy: 65.33%\n"
     ]
    },
    {
     "name": "stderr",
     "output_type": "stream",
     "text": [
      "Epoch 34/100 - LR: 0.000250: 100%|██████████| 1743/1743 [02:45<00:00, 10.53it/s, acc=66.70%, loss=0.6017]\n"
     ]
    },
    {
     "name": "stdout",
     "output_type": "stream",
     "text": [
      "Epoch 34 Loss: 0.6183, Train Accuracy: 64.98%\n",
      "Test Loss: 0.6137, Test Accuracy: 65.36%\n"
     ]
    },
    {
     "name": "stderr",
     "output_type": "stream",
     "text": [
      "Epoch 35/100 - LR: 0.000250: 100%|██████████| 1743/1743 [02:46<00:00, 10.48it/s, acc=66.24%, loss=0.6122]\n"
     ]
    },
    {
     "name": "stdout",
     "output_type": "stream",
     "text": [
      "Epoch 35 Loss: 0.6183, Train Accuracy: 64.97%\n",
      "Test Loss: 0.6138, Test Accuracy: 65.35%\n"
     ]
    },
    {
     "name": "stderr",
     "output_type": "stream",
     "text": [
      "Epoch 36/100 - LR: 0.000250: 100%|██████████| 1743/1743 [02:45<00:00, 10.50it/s, acc=65.42%, loss=0.6211]\n"
     ]
    },
    {
     "name": "stdout",
     "output_type": "stream",
     "text": [
      "Epoch 36 Loss: 0.6183, Train Accuracy: 64.99%\n",
      "Test Loss: 0.6135, Test Accuracy: 65.38%\n"
     ]
    },
    {
     "name": "stderr",
     "output_type": "stream",
     "text": [
      "Epoch 37/100 - LR: 0.000250: 100%|██████████| 1743/1743 [02:43<00:00, 10.65it/s, acc=65.06%, loss=0.6250]\n"
     ]
    },
    {
     "name": "stdout",
     "output_type": "stream",
     "text": [
      "Epoch 37 Loss: 0.6182, Train Accuracy: 64.98%\n",
      "Test Loss: 0.6137, Test Accuracy: 65.38%\n"
     ]
    },
    {
     "name": "stderr",
     "output_type": "stream",
     "text": [
      "Epoch 38/100 - LR: 0.000250: 100%|██████████| 1743/1743 [02:43<00:00, 10.66it/s, acc=66.70%, loss=0.6084]\n"
     ]
    },
    {
     "name": "stdout",
     "output_type": "stream",
     "text": [
      "Epoch 38 Loss: 0.6182, Train Accuracy: 64.99%\n",
      "Test Loss: 0.6135, Test Accuracy: 65.40%\n"
     ]
    },
    {
     "name": "stderr",
     "output_type": "stream",
     "text": [
      "Epoch 39/100 - LR: 0.000250: 100%|██████████| 1743/1743 [02:45<00:00, 10.51it/s, acc=65.83%, loss=0.6119]\n"
     ]
    },
    {
     "name": "stdout",
     "output_type": "stream",
     "text": [
      "Epoch 39 Loss: 0.6181, Train Accuracy: 64.98%\n",
      "Test Loss: 0.6135, Test Accuracy: 65.41%\n",
      "Learning rate changed from 0.000250 to 0.000125\n"
     ]
    },
    {
     "name": "stderr",
     "output_type": "stream",
     "text": [
      "Epoch 40/100 - LR: 0.000125: 100%|██████████| 1743/1743 [02:46<00:00, 10.45it/s, acc=64.44%, loss=0.6183]\n"
     ]
    },
    {
     "name": "stdout",
     "output_type": "stream",
     "text": [
      "Epoch 40 Loss: 0.6172, Train Accuracy: 65.09%\n",
      "Test Loss: 0.6130, Test Accuracy: 65.46%\n"
     ]
    },
    {
     "name": "stderr",
     "output_type": "stream",
     "text": [
      "Epoch 41/100 - LR: 0.000125: 100%|██████████| 1743/1743 [02:45<00:00, 10.52it/s, acc=64.80%, loss=0.6174]\n"
     ]
    },
    {
     "name": "stdout",
     "output_type": "stream",
     "text": [
      "Epoch 41 Loss: 0.6170, Train Accuracy: 65.11%\n",
      "Test Loss: 0.6126, Test Accuracy: 65.48%\n"
     ]
    },
    {
     "name": "stderr",
     "output_type": "stream",
     "text": [
      "Epoch 42/100 - LR: 0.000125: 100%|██████████| 1743/1743 [02:44<00:00, 10.58it/s, acc=64.70%, loss=0.6128]\n"
     ]
    },
    {
     "name": "stdout",
     "output_type": "stream",
     "text": [
      "Epoch 42 Loss: 0.6168, Train Accuracy: 65.12%\n",
      "Test Loss: 0.6125, Test Accuracy: 65.48%\n"
     ]
    },
    {
     "name": "stderr",
     "output_type": "stream",
     "text": [
      "Epoch 43/100 - LR: 0.000125: 100%|██████████| 1743/1743 [02:45<00:00, 10.51it/s, acc=66.96%, loss=0.6086]\n"
     ]
    },
    {
     "name": "stdout",
     "output_type": "stream",
     "text": [
      "Epoch 43 Loss: 0.6168, Train Accuracy: 65.11%\n",
      "Test Loss: 0.6122, Test Accuracy: 65.50%\n"
     ]
    },
    {
     "name": "stderr",
     "output_type": "stream",
     "text": [
      "Epoch 44/100 - LR: 0.000125: 100%|██████████| 1743/1743 [02:43<00:00, 10.65it/s, acc=64.55%, loss=0.6213]\n"
     ]
    },
    {
     "name": "stdout",
     "output_type": "stream",
     "text": [
      "Epoch 44 Loss: 0.6168, Train Accuracy: 65.12%\n",
      "Test Loss: 0.6125, Test Accuracy: 65.51%\n"
     ]
    },
    {
     "name": "stderr",
     "output_type": "stream",
     "text": [
      "Epoch 45/100 - LR: 0.000125: 100%|██████████| 1743/1743 [02:45<00:00, 10.52it/s, acc=65.06%, loss=0.6125]\n"
     ]
    },
    {
     "name": "stdout",
     "output_type": "stream",
     "text": [
      "Epoch 45 Loss: 0.6167, Train Accuracy: 65.13%\n",
      "Test Loss: 0.6123, Test Accuracy: 65.52%\n"
     ]
    },
    {
     "name": "stderr",
     "output_type": "stream",
     "text": [
      "Epoch 46/100 - LR: 0.000125: 100%|██████████| 1743/1743 [02:45<00:00, 10.56it/s, acc=63.67%, loss=0.6193]\n"
     ]
    },
    {
     "name": "stdout",
     "output_type": "stream",
     "text": [
      "Epoch 46 Loss: 0.6167, Train Accuracy: 65.10%\n",
      "Test Loss: 0.6124, Test Accuracy: 65.50%\n",
      "Learning rate changed from 0.000125 to 0.000063\n"
     ]
    },
    {
     "name": "stderr",
     "output_type": "stream",
     "text": [
      "Epoch 47/100 - LR: 0.000063: 100%|██████████| 1743/1743 [02:45<00:00, 10.50it/s, acc=63.52%, loss=0.6298]\n"
     ]
    },
    {
     "name": "stdout",
     "output_type": "stream",
     "text": [
      "Epoch 47 Loss: 0.6161, Train Accuracy: 65.19%\n",
      "Test Loss: 0.6119, Test Accuracy: 65.56%\n"
     ]
    },
    {
     "name": "stderr",
     "output_type": "stream",
     "text": [
      "Epoch 48/100 - LR: 0.000063: 100%|██████████| 1743/1743 [02:44<00:00, 10.58it/s, acc=67.01%, loss=0.6083]\n"
     ]
    },
    {
     "name": "stdout",
     "output_type": "stream",
     "text": [
      "Epoch 48 Loss: 0.6159, Train Accuracy: 65.22%\n",
      "Test Loss: 0.6117, Test Accuracy: 65.56%\n"
     ]
    },
    {
     "name": "stderr",
     "output_type": "stream",
     "text": [
      "Epoch 49/100 - LR: 0.000063: 100%|██████████| 1743/1743 [02:45<00:00, 10.53it/s, acc=66.55%, loss=0.6092]\n"
     ]
    },
    {
     "name": "stdout",
     "output_type": "stream",
     "text": [
      "Epoch 49 Loss: 0.6159, Train Accuracy: 65.22%\n",
      "Test Loss: 0.6116, Test Accuracy: 65.58%\n"
     ]
    },
    {
     "name": "stderr",
     "output_type": "stream",
     "text": [
      "Epoch 50/100 - LR: 0.000063: 100%|██████████| 1743/1743 [02:44<00:00, 10.59it/s, acc=64.19%, loss=0.6237]\n"
     ]
    },
    {
     "name": "stdout",
     "output_type": "stream",
     "text": [
      "Epoch 50 Loss: 0.6157, Train Accuracy: 65.23%\n",
      "Test Loss: 0.6118, Test Accuracy: 65.56%\n"
     ]
    },
    {
     "name": "stderr",
     "output_type": "stream",
     "text": [
      "Epoch 51/100 - LR: 0.000063: 100%|██████████| 1743/1743 [02:44<00:00, 10.60it/s, acc=63.62%, loss=0.6200]\n"
     ]
    },
    {
     "name": "stdout",
     "output_type": "stream",
     "text": [
      "Epoch 51 Loss: 0.6157, Train Accuracy: 65.22%\n",
      "Test Loss: 0.6134, Test Accuracy: 65.52%\n"
     ]
    },
    {
     "name": "stderr",
     "output_type": "stream",
     "text": [
      "Epoch 52/100 - LR: 0.000063: 100%|██████████| 1743/1743 [02:47<00:00, 10.41it/s, acc=64.49%, loss=0.6250]\n"
     ]
    },
    {
     "name": "stdout",
     "output_type": "stream",
     "text": [
      "Epoch 52 Loss: 0.6157, Train Accuracy: 65.23%\n",
      "Test Loss: 0.6116, Test Accuracy: 65.59%\n",
      "Learning rate changed from 0.000063 to 0.000031\n"
     ]
    },
    {
     "name": "stderr",
     "output_type": "stream",
     "text": [
      "Epoch 53/100 - LR: 0.000031: 100%|██████████| 1743/1743 [02:44<00:00, 10.59it/s, acc=67.27%, loss=0.6104]\n"
     ]
    },
    {
     "name": "stdout",
     "output_type": "stream",
     "text": [
      "Epoch 53 Loss: 0.6154, Train Accuracy: 65.26%\n",
      "Test Loss: 0.6114, Test Accuracy: 65.62%\n"
     ]
    },
    {
     "name": "stderr",
     "output_type": "stream",
     "text": [
      "Epoch 54/100 - LR: 0.000031: 100%|██████████| 1743/1743 [02:45<00:00, 10.50it/s, acc=64.49%, loss=0.6106]\n"
     ]
    },
    {
     "name": "stdout",
     "output_type": "stream",
     "text": [
      "Epoch 54 Loss: 0.6153, Train Accuracy: 65.27%\n",
      "Test Loss: 0.6113, Test Accuracy: 65.61%\n"
     ]
    },
    {
     "name": "stderr",
     "output_type": "stream",
     "text": [
      "Epoch 55/100 - LR: 0.000031: 100%|██████████| 1743/1743 [02:46<00:00, 10.48it/s, acc=67.73%, loss=0.5978]\n"
     ]
    },
    {
     "name": "stdout",
     "output_type": "stream",
     "text": [
      "Epoch 55 Loss: 0.6152, Train Accuracy: 65.28%\n",
      "Test Loss: 0.6113, Test Accuracy: 65.62%\n"
     ]
    },
    {
     "name": "stderr",
     "output_type": "stream",
     "text": [
      "Epoch 56/100 - LR: 0.000031: 100%|██████████| 1743/1743 [02:43<00:00, 10.66it/s, acc=65.52%, loss=0.6125]\n"
     ]
    },
    {
     "name": "stdout",
     "output_type": "stream",
     "text": [
      "Epoch 56 Loss: 0.6151, Train Accuracy: 65.31%\n",
      "Test Loss: 0.6112, Test Accuracy: 65.62%\n"
     ]
    },
    {
     "name": "stderr",
     "output_type": "stream",
     "text": [
      "Epoch 57/100 - LR: 0.000031: 100%|██████████| 1743/1743 [02:44<00:00, 10.58it/s, acc=63.88%, loss=0.6222]\n"
     ]
    },
    {
     "name": "stdout",
     "output_type": "stream",
     "text": [
      "Epoch 57 Loss: 0.6151, Train Accuracy: 65.28%\n",
      "Test Loss: 0.6115, Test Accuracy: 65.62%\n"
     ]
    },
    {
     "name": "stderr",
     "output_type": "stream",
     "text": [
      "Epoch 58/100 - LR: 0.000031: 100%|██████████| 1743/1743 [02:43<00:00, 10.68it/s, acc=64.03%, loss=0.6218]\n"
     ]
    },
    {
     "name": "stdout",
     "output_type": "stream",
     "text": [
      "Epoch 58 Loss: 0.6150, Train Accuracy: 65.31%\n",
      "Test Loss: 0.6111, Test Accuracy: 65.64%\n"
     ]
    },
    {
     "name": "stderr",
     "output_type": "stream",
     "text": [
      "Epoch 59/100 - LR: 0.000031: 100%|██████████| 1743/1743 [02:46<00:00, 10.45it/s, acc=65.52%, loss=0.6201]\n"
     ]
    },
    {
     "name": "stdout",
     "output_type": "stream",
     "text": [
      "Epoch 59 Loss: 0.6151, Train Accuracy: 65.30%\n",
      "Test Loss: 0.6111, Test Accuracy: 65.64%\n"
     ]
    },
    {
     "name": "stderr",
     "output_type": "stream",
     "text": [
      "Epoch 60/100 - LR: 0.000031: 100%|██████████| 1743/1743 [03:27<00:00,  8.40it/s, acc=64.03%, loss=0.6327]\n"
     ]
    },
    {
     "name": "stdout",
     "output_type": "stream",
     "text": [
      "Epoch 60 Loss: 0.6151, Train Accuracy: 65.30%\n",
      "Test Loss: 0.6111, Test Accuracy: 65.63%\n"
     ]
    },
    {
     "name": "stderr",
     "output_type": "stream",
     "text": [
      "Epoch 61/100 - LR: 0.000031: 100%|██████████| 1743/1743 [03:22<00:00,  8.62it/s, acc=67.21%, loss=0.6075]\n"
     ]
    },
    {
     "name": "stdout",
     "output_type": "stream",
     "text": [
      "Epoch 61 Loss: 0.6150, Train Accuracy: 65.31%\n",
      "Test Loss: 0.6111, Test Accuracy: 65.65%\n",
      "Learning rate changed from 0.000031 to 0.000016\n"
     ]
    },
    {
     "name": "stderr",
     "output_type": "stream",
     "text": [
      "Epoch 62/100 - LR: 0.000016: 100%|██████████| 1743/1743 [03:02<00:00,  9.56it/s, acc=65.01%, loss=0.6115]\n"
     ]
    },
    {
     "name": "stdout",
     "output_type": "stream",
     "text": [
      "Epoch 62 Loss: 0.6149, Train Accuracy: 65.32%\n",
      "Test Loss: 0.6112, Test Accuracy: 65.64%\n"
     ]
    },
    {
     "name": "stderr",
     "output_type": "stream",
     "text": [
      "Epoch 63/100 - LR: 0.000016: 100%|██████████| 1743/1743 [03:19<00:00,  8.75it/s, acc=65.21%, loss=0.6169]\n"
     ]
    },
    {
     "name": "stdout",
     "output_type": "stream",
     "text": [
      "Epoch 63 Loss: 0.6148, Train Accuracy: 65.33%\n",
      "Test Loss: 0.6110, Test Accuracy: 65.66%\n"
     ]
    },
    {
     "name": "stderr",
     "output_type": "stream",
     "text": [
      "Epoch 64/100 - LR: 0.000016: 100%|██████████| 1743/1743 [03:08<00:00,  9.23it/s, acc=65.83%, loss=0.6189]\n"
     ]
    },
    {
     "name": "stdout",
     "output_type": "stream",
     "text": [
      "Epoch 64 Loss: 0.6147, Train Accuracy: 65.34%\n",
      "Test Loss: 0.6109, Test Accuracy: 65.65%\n"
     ]
    },
    {
     "name": "stderr",
     "output_type": "stream",
     "text": [
      "Epoch 65/100 - LR: 0.000016: 100%|██████████| 1743/1743 [03:13<00:00,  9.00it/s, acc=65.26%, loss=0.6124]\n"
     ]
    },
    {
     "name": "stdout",
     "output_type": "stream",
     "text": [
      "Epoch 65 Loss: 0.6148, Train Accuracy: 65.33%\n",
      "Test Loss: 0.6109, Test Accuracy: 65.66%\n"
     ]
    },
    {
     "name": "stderr",
     "output_type": "stream",
     "text": [
      "Epoch 66/100 - LR: 0.000016: 100%|██████████| 1743/1743 [03:00<00:00,  9.63it/s, acc=65.01%, loss=0.6233]\n"
     ]
    },
    {
     "name": "stdout",
     "output_type": "stream",
     "text": [
      "Epoch 66 Loss: 0.6147, Train Accuracy: 65.32%\n",
      "Test Loss: 0.6109, Test Accuracy: 65.65%\n"
     ]
    },
    {
     "name": "stderr",
     "output_type": "stream",
     "text": [
      "Epoch 67/100 - LR: 0.000016: 100%|██████████| 1743/1743 [02:29<00:00, 11.68it/s, acc=65.83%, loss=0.6060]\n"
     ]
    },
    {
     "name": "stdout",
     "output_type": "stream",
     "text": [
      "Epoch 67 Loss: 0.6147, Train Accuracy: 65.33%\n",
      "Test Loss: 0.6110, Test Accuracy: 65.66%\n",
      "Learning rate changed from 0.000016 to 0.000008\n"
     ]
    },
    {
     "name": "stderr",
     "output_type": "stream",
     "text": [
      "Epoch 68/100 - LR: 0.000008: 100%|██████████| 1743/1743 [02:51<00:00, 10.18it/s, acc=64.91%, loss=0.6207]\n"
     ]
    },
    {
     "name": "stdout",
     "output_type": "stream",
     "text": [
      "Epoch 68 Loss: 0.6147, Train Accuracy: 65.35%\n",
      "Test Loss: 0.6112, Test Accuracy: 65.67%\n"
     ]
    },
    {
     "name": "stderr",
     "output_type": "stream",
     "text": [
      "Epoch 69/100 - LR: 0.000008: 100%|██████████| 1743/1743 [02:22<00:00, 12.26it/s, acc=63.88%, loss=0.6260]\n"
     ]
    },
    {
     "name": "stdout",
     "output_type": "stream",
     "text": [
      "Epoch 69 Loss: 0.6146, Train Accuracy: 65.34%\n",
      "Test Loss: 0.6108, Test Accuracy: 65.67%\n"
     ]
    },
    {
     "name": "stderr",
     "output_type": "stream",
     "text": [
      "Epoch 70/100 - LR: 0.000008: 100%|██████████| 1743/1743 [02:13<00:00, 13.09it/s, acc=65.37%, loss=0.6191]\n"
     ]
    },
    {
     "name": "stdout",
     "output_type": "stream",
     "text": [
      "Epoch 70 Loss: 0.6146, Train Accuracy: 65.33%\n",
      "Test Loss: 0.6107, Test Accuracy: 65.66%\n"
     ]
    },
    {
     "name": "stderr",
     "output_type": "stream",
     "text": [
      "Epoch 71/100 - LR: 0.000008: 100%|██████████| 1743/1743 [03:14<00:00,  8.95it/s, acc=64.70%, loss=0.6210]\n"
     ]
    },
    {
     "name": "stdout",
     "output_type": "stream",
     "text": [
      "Epoch 71 Loss: 0.6146, Train Accuracy: 65.34%\n",
      "Test Loss: 0.6108, Test Accuracy: 65.66%\n"
     ]
    },
    {
     "name": "stderr",
     "output_type": "stream",
     "text": [
      "Epoch 72/100 - LR: 0.000008: 100%|██████████| 1743/1743 [03:10<00:00,  9.13it/s, acc=64.34%, loss=0.6297]\n"
     ]
    },
    {
     "name": "stdout",
     "output_type": "stream",
     "text": [
      "Epoch 72 Loss: 0.6146, Train Accuracy: 65.35%\n",
      "Test Loss: 0.6108, Test Accuracy: 65.66%\n",
      "Learning rate changed from 0.000008 to 0.000004\n"
     ]
    },
    {
     "name": "stderr",
     "output_type": "stream",
     "text": [
      "Epoch 73/100 - LR: 0.000004: 100%|██████████| 1743/1743 [03:03<00:00,  9.52it/s, acc=65.37%, loss=0.6140]\n"
     ]
    },
    {
     "name": "stdout",
     "output_type": "stream",
     "text": [
      "Epoch 73 Loss: 0.6145, Train Accuracy: 65.35%\n",
      "Test Loss: 0.6107, Test Accuracy: 65.67%\n"
     ]
    },
    {
     "name": "stderr",
     "output_type": "stream",
     "text": [
      "Epoch 74/100 - LR: 0.000004: 100%|██████████| 1743/1743 [02:59<00:00,  9.72it/s, acc=65.52%, loss=0.6108]\n"
     ]
    },
    {
     "name": "stdout",
     "output_type": "stream",
     "text": [
      "Epoch 74 Loss: 0.6145, Train Accuracy: 65.35%\n",
      "Test Loss: 0.6107, Test Accuracy: 65.67%\n"
     ]
    },
    {
     "name": "stderr",
     "output_type": "stream",
     "text": [
      "Epoch 75/100 - LR: 0.000004: 100%|██████████| 1743/1743 [03:18<00:00,  8.80it/s, acc=66.65%, loss=0.6099]\n"
     ]
    },
    {
     "name": "stdout",
     "output_type": "stream",
     "text": [
      "Epoch 75 Loss: 0.6144, Train Accuracy: 65.36%\n",
      "Test Loss: 0.6109, Test Accuracy: 65.66%\n"
     ]
    },
    {
     "name": "stderr",
     "output_type": "stream",
     "text": [
      "Epoch 76/100 - LR: 0.000004: 100%|██████████| 1743/1743 [03:17<00:00,  8.83it/s, acc=64.44%, loss=0.6237]\n"
     ]
    },
    {
     "name": "stdout",
     "output_type": "stream",
     "text": [
      "Epoch 76 Loss: 0.6145, Train Accuracy: 65.36%\n",
      "Test Loss: 0.6107, Test Accuracy: 65.67%\n",
      "Learning rate changed from 0.000004 to 0.000002\n"
     ]
    },
    {
     "name": "stderr",
     "output_type": "stream",
     "text": [
      "Epoch 77/100 - LR: 0.000002: 100%|██████████| 1743/1743 [02:39<00:00, 10.92it/s, acc=66.34%, loss=0.6069]\n"
     ]
    },
    {
     "name": "stdout",
     "output_type": "stream",
     "text": [
      "Epoch 77 Loss: 0.6144, Train Accuracy: 65.37%\n",
      "Test Loss: 0.6108, Test Accuracy: 65.66%\n"
     ]
    },
    {
     "name": "stderr",
     "output_type": "stream",
     "text": [
      "Epoch 78/100 - LR: 0.000002: 100%|██████████| 1743/1743 [02:53<00:00, 10.03it/s, acc=63.78%, loss=0.6247]\n"
     ]
    },
    {
     "name": "stdout",
     "output_type": "stream",
     "text": [
      "Epoch 78 Loss: 0.6144, Train Accuracy: 65.38%\n",
      "Test Loss: 0.6107, Test Accuracy: 65.67%\n"
     ]
    },
    {
     "name": "stderr",
     "output_type": "stream",
     "text": [
      "Epoch 79/100 - LR: 0.000002: 100%|██████████| 1743/1743 [03:10<00:00,  9.17it/s, acc=66.19%, loss=0.6113]\n"
     ]
    },
    {
     "name": "stdout",
     "output_type": "stream",
     "text": [
      "Epoch 79 Loss: 0.6145, Train Accuracy: 65.36%\n",
      "Test Loss: 0.6107, Test Accuracy: 65.66%\n",
      "Learning rate changed from 0.000002 to 0.000001\n"
     ]
    },
    {
     "name": "stderr",
     "output_type": "stream",
     "text": [
      "Epoch 80/100 - LR: 0.000001: 100%|██████████| 1743/1743 [03:01<00:00,  9.61it/s, acc=64.39%, loss=0.6193]\n"
     ]
    },
    {
     "name": "stdout",
     "output_type": "stream",
     "text": [
      "Epoch 80 Loss: 0.6145, Train Accuracy: 65.35%\n",
      "Test Loss: 0.6107, Test Accuracy: 65.66%\n"
     ]
    },
    {
     "name": "stderr",
     "output_type": "stream",
     "text": [
      "Epoch 81/100 - LR: 0.000001: 100%|██████████| 1743/1743 [02:46<00:00, 10.45it/s, acc=64.70%, loss=0.6154]\n"
     ]
    },
    {
     "name": "stdout",
     "output_type": "stream",
     "text": [
      "Epoch 81 Loss: 0.6144, Train Accuracy: 65.36%\n",
      "Test Loss: 0.6107, Test Accuracy: 65.67%\n"
     ]
    },
    {
     "name": "stderr",
     "output_type": "stream",
     "text": [
      "Epoch 82/100 - LR: 0.000001: 100%|██████████| 1743/1743 [02:53<00:00, 10.04it/s, acc=65.16%, loss=0.6238]\n"
     ]
    },
    {
     "name": "stdout",
     "output_type": "stream",
     "text": [
      "Epoch 82 Loss: 0.6144, Train Accuracy: 65.37%\n",
      "Test Loss: 0.6107, Test Accuracy: 65.66%\n",
      "Learning rate changed from 0.000001 to 0.000000\n",
      "Early stopping triggered at epoch 82. Best model was from epoch 73.\n"
     ]
    }
   ],
   "source": [
    "import helper_functions\n",
    "class MLP(nn.Module):\n",
    "    def __init__(self):\n",
    "        super(MLP, self).__init__()\n",
    "        \n",
    "        self.model = nn.Sequential(\n",
    "            nn.Linear(X_train_tensor.shape[1], 256), \n",
    "            nn.BatchNorm1d(256),\n",
    "            nn.ReLU(),\n",
    "            nn.Dropout(0.3),                            \n",
    "            \n",
    "            nn.Linear(256, 128),\n",
    "            nn.BatchNorm1d(128),\n",
    "            nn.ReLU(),\n",
    "            nn.Dropout(0.3),\n",
    "\n",
    "            nn.Linear(128, 64),\n",
    "            nn.BatchNorm1d(64),\n",
    "            nn.ReLU(),\n",
    "            nn.Dropout(0.3),\n",
    "\n",
    "            nn.Linear(64, 1) \n",
    "        )\n",
    "\n",
    "    def forward(self, x):\n",
    "        return self.model(x)\n",
    "    \n",
    "\n",
    "model = MLP()\n",
    "device = torch.device('cuda' if torch.cuda.is_available() else 'cpu')\n",
    "train_dataset = TensorDataset(X_train_tensor, y_train_tensor)\n",
    "test_dataset = TensorDataset(X_test_tensor, y_test_tensor)\n",
    "criterion = nn.BCEWithLogitsLoss()\n",
    "optimizer = optim.Adam(model.parameters(), weight_decay=1e-4,lr=0.001) \n",
    "model.to(device)\n",
    "\n",
    "train_dataset = TensorDataset(X_train_tensor, y_train_tensor)\n",
    "batch_size = 4096\n",
    "train_loader = DataLoader(train_dataset, batch_size=batch_size, shuffle=True)\n",
    "test_loader = DataLoader(test_dataset, batch_size=batch_size, shuffle=False)\n",
    "scheduler = optim.lr_scheduler.ReduceLROnPlateau(optimizer, mode='min', factor=0.5, patience=2)  \n",
    "\n",
    "num_epochs = 100\n",
    "best_model_weights, shallow_train_loss, shallow_test_loss, shallow_train_accuracy, shallow_test_accuracy, lrs = helper_functions.train_and_evaluate_model(model, criterion, optimizer, scheduler, train_loader, test_loader, num_epochs)\n",
    "\n",
    "torch.save(best_model_weights, '2hl_advanced_encodings.pth')\n"
   ]
  },
  {
   "cell_type": "code",
   "execution_count": null,
   "metadata": {},
   "outputs": [
    {
     "name": "stderr",
     "output_type": "stream",
     "text": [
      "Epoch 1/100 - LR: 0.001000:   0%|          | 0/1743 [00:00<?, ?it/s]"
     ]
    },
    {
     "name": "stderr",
     "output_type": "stream",
     "text": [
      "Epoch 1/100 - LR: 0.001000: 100%|██████████| 1743/1743 [02:25<00:00, 12.02it/s, acc=65.52%, loss=0.6204]\n"
     ]
    },
    {
     "name": "stdout",
     "output_type": "stream",
     "text": [
      "Epoch 1 Loss: 0.6415, Train Accuracy: 62.48%\n",
      "Test Loss: 0.6322, Test Accuracy: 63.40%\n"
     ]
    },
    {
     "name": "stderr",
     "output_type": "stream",
     "text": [
      "Epoch 2/100 - LR: 0.001000: 100%|██████████| 1743/1743 [03:06<00:00,  9.35it/s, acc=63.31%, loss=0.6405]\n"
     ]
    },
    {
     "name": "stdout",
     "output_type": "stream",
     "text": [
      "Epoch 2 Loss: 0.6305, Train Accuracy: 63.59%\n",
      "Test Loss: 0.6301, Test Accuracy: 63.63%\n"
     ]
    },
    {
     "name": "stderr",
     "output_type": "stream",
     "text": [
      "Epoch 3/100 - LR: 0.001000: 100%|██████████| 1743/1743 [03:13<00:00,  9.01it/s, acc=64.85%, loss=0.6224]\n"
     ]
    },
    {
     "name": "stdout",
     "output_type": "stream",
     "text": [
      "Epoch 3 Loss: 0.6289, Train Accuracy: 63.79%\n",
      "Test Loss: 0.6285, Test Accuracy: 63.90%\n"
     ]
    },
    {
     "name": "stderr",
     "output_type": "stream",
     "text": [
      "Epoch 4/100 - LR: 0.001000: 100%|██████████| 1743/1743 [03:10<00:00,  9.16it/s, acc=64.85%, loss=0.6238]\n"
     ]
    },
    {
     "name": "stdout",
     "output_type": "stream",
     "text": [
      "Epoch 4 Loss: 0.6278, Train Accuracy: 63.91%\n",
      "Test Loss: 0.6281, Test Accuracy: 63.90%\n"
     ]
    },
    {
     "name": "stderr",
     "output_type": "stream",
     "text": [
      "Epoch 5/100 - LR: 0.001000: 100%|██████████| 1743/1743 [03:11<00:00,  9.08it/s, acc=64.34%, loss=0.6332]\n"
     ]
    },
    {
     "name": "stdout",
     "output_type": "stream",
     "text": [
      "Epoch 5 Loss: 0.6270, Train Accuracy: 64.02%\n",
      "Test Loss: 0.6271, Test Accuracy: 63.99%\n"
     ]
    },
    {
     "name": "stderr",
     "output_type": "stream",
     "text": [
      "Epoch 6/100 - LR: 0.001000: 100%|██████████| 1743/1743 [03:06<00:00,  9.33it/s, acc=62.49%, loss=0.6360]\n"
     ]
    },
    {
     "name": "stdout",
     "output_type": "stream",
     "text": [
      "Epoch 6 Loss: 0.6261, Train Accuracy: 64.10%\n",
      "Test Loss: 0.6259, Test Accuracy: 64.10%\n"
     ]
    },
    {
     "name": "stderr",
     "output_type": "stream",
     "text": [
      "Epoch 7/100 - LR: 0.001000: 100%|██████████| 1743/1743 [03:10<00:00,  9.14it/s, acc=62.65%, loss=0.6348]\n"
     ]
    },
    {
     "name": "stdout",
     "output_type": "stream",
     "text": [
      "Epoch 7 Loss: 0.6254, Train Accuracy: 64.17%\n",
      "Test Loss: 0.6260, Test Accuracy: 64.06%\n"
     ]
    },
    {
     "name": "stderr",
     "output_type": "stream",
     "text": [
      "Epoch 8/100 - LR: 0.001000: 100%|██████████| 1743/1743 [02:49<00:00, 10.26it/s, acc=63.62%, loss=0.6236]\n"
     ]
    },
    {
     "name": "stdout",
     "output_type": "stream",
     "text": [
      "Epoch 8 Loss: 0.6249, Train Accuracy: 64.21%\n",
      "Test Loss: 0.6251, Test Accuracy: 64.17%\n"
     ]
    },
    {
     "name": "stderr",
     "output_type": "stream",
     "text": [
      "Epoch 9/100 - LR: 0.001000: 100%|██████████| 1743/1743 [03:09<00:00,  9.18it/s, acc=65.32%, loss=0.6171]\n"
     ]
    },
    {
     "name": "stdout",
     "output_type": "stream",
     "text": [
      "Epoch 9 Loss: 0.6244, Train Accuracy: 64.25%\n",
      "Test Loss: 0.6247, Test Accuracy: 64.20%\n"
     ]
    },
    {
     "name": "stderr",
     "output_type": "stream",
     "text": [
      "Epoch 10/100 - LR: 0.001000: 100%|██████████| 1743/1743 [03:06<00:00,  9.36it/s, acc=65.37%, loss=0.6271]\n"
     ]
    },
    {
     "name": "stdout",
     "output_type": "stream",
     "text": [
      "Epoch 10 Loss: 0.6241, Train Accuracy: 64.27%\n",
      "Test Loss: 0.6245, Test Accuracy: 64.18%\n"
     ]
    },
    {
     "name": "stderr",
     "output_type": "stream",
     "text": [
      "Epoch 11/100 - LR: 0.001000: 100%|██████████| 1743/1743 [03:07<00:00,  9.30it/s, acc=63.83%, loss=0.6286]\n"
     ]
    },
    {
     "name": "stdout",
     "output_type": "stream",
     "text": [
      "Epoch 11 Loss: 0.6237, Train Accuracy: 64.31%\n",
      "Test Loss: 0.6242, Test Accuracy: 64.18%\n"
     ]
    },
    {
     "name": "stderr",
     "output_type": "stream",
     "text": [
      "Epoch 12/100 - LR: 0.001000: 100%|██████████| 1743/1743 [03:17<00:00,  8.84it/s, acc=64.14%, loss=0.6198]\n"
     ]
    },
    {
     "name": "stdout",
     "output_type": "stream",
     "text": [
      "Epoch 12 Loss: 0.6235, Train Accuracy: 64.33%\n",
      "Test Loss: 0.6239, Test Accuracy: 64.27%\n"
     ]
    },
    {
     "name": "stderr",
     "output_type": "stream",
     "text": [
      "Epoch 13/100 - LR: 0.001000: 100%|██████████| 1743/1743 [03:13<00:00,  9.03it/s, acc=64.39%, loss=0.6207]\n"
     ]
    },
    {
     "name": "stdout",
     "output_type": "stream",
     "text": [
      "Epoch 13 Loss: 0.6233, Train Accuracy: 64.34%\n",
      "Test Loss: 0.6240, Test Accuracy: 64.25%\n"
     ]
    },
    {
     "name": "stderr",
     "output_type": "stream",
     "text": [
      "Epoch 14/100 - LR: 0.001000: 100%|██████████| 1743/1743 [03:07<00:00,  9.28it/s, acc=65.16%, loss=0.6184]\n"
     ]
    },
    {
     "name": "stdout",
     "output_type": "stream",
     "text": [
      "Epoch 14 Loss: 0.6231, Train Accuracy: 64.36%\n",
      "Test Loss: 0.6236, Test Accuracy: 64.27%\n"
     ]
    },
    {
     "name": "stderr",
     "output_type": "stream",
     "text": [
      "Epoch 15/100 - LR: 0.001000: 100%|██████████| 1743/1743 [03:11<00:00,  9.08it/s, acc=62.24%, loss=0.6383]\n"
     ]
    },
    {
     "name": "stdout",
     "output_type": "stream",
     "text": [
      "Epoch 15 Loss: 0.6230, Train Accuracy: 64.38%\n",
      "Test Loss: 0.6237, Test Accuracy: 64.25%\n"
     ]
    },
    {
     "name": "stderr",
     "output_type": "stream",
     "text": [
      "Epoch 16/100 - LR: 0.001000: 100%|██████████| 1743/1743 [03:26<00:00,  8.42it/s, acc=63.52%, loss=0.6211]\n"
     ]
    },
    {
     "name": "stdout",
     "output_type": "stream",
     "text": [
      "Epoch 16 Loss: 0.6229, Train Accuracy: 64.38%\n",
      "Test Loss: 0.6233, Test Accuracy: 64.30%\n"
     ]
    },
    {
     "name": "stderr",
     "output_type": "stream",
     "text": [
      "Epoch 17/100 - LR: 0.001000: 100%|██████████| 1743/1743 [03:01<00:00,  9.63it/s, acc=64.75%, loss=0.6285]\n"
     ]
    },
    {
     "name": "stdout",
     "output_type": "stream",
     "text": [
      "Epoch 17 Loss: 0.6228, Train Accuracy: 64.41%\n",
      "Test Loss: 0.6234, Test Accuracy: 64.29%\n"
     ]
    },
    {
     "name": "stderr",
     "output_type": "stream",
     "text": [
      "Epoch 18/100 - LR: 0.001000: 100%|██████████| 1743/1743 [02:35<00:00, 11.21it/s, acc=64.34%, loss=0.6227]\n"
     ]
    },
    {
     "name": "stdout",
     "output_type": "stream",
     "text": [
      "Epoch 18 Loss: 0.6227, Train Accuracy: 64.41%\n",
      "Test Loss: 0.6233, Test Accuracy: 64.34%\n"
     ]
    },
    {
     "name": "stderr",
     "output_type": "stream",
     "text": [
      "Epoch 19/100 - LR: 0.001000: 100%|██████████| 1743/1743 [03:18<00:00,  8.79it/s, acc=65.52%, loss=0.6140]\n"
     ]
    },
    {
     "name": "stdout",
     "output_type": "stream",
     "text": [
      "Epoch 19 Loss: 0.6227, Train Accuracy: 64.42%\n",
      "Test Loss: 0.6232, Test Accuracy: 64.33%\n"
     ]
    },
    {
     "name": "stderr",
     "output_type": "stream",
     "text": [
      "Epoch 20/100 - LR: 0.001000: 100%|██████████| 1743/1743 [03:07<00:00,  9.30it/s, acc=64.49%, loss=0.6206]\n"
     ]
    },
    {
     "name": "stdout",
     "output_type": "stream",
     "text": [
      "Epoch 20 Loss: 0.6226, Train Accuracy: 64.41%\n",
      "Test Loss: 0.6227, Test Accuracy: 64.38%\n"
     ]
    },
    {
     "name": "stderr",
     "output_type": "stream",
     "text": [
      "Epoch 21/100 - LR: 0.001000: 100%|██████████| 1743/1743 [03:14<00:00,  8.98it/s, acc=63.16%, loss=0.6231]\n"
     ]
    },
    {
     "name": "stdout",
     "output_type": "stream",
     "text": [
      "Epoch 21 Loss: 0.6225, Train Accuracy: 64.44%\n",
      "Test Loss: 0.6228, Test Accuracy: 64.37%\n"
     ]
    },
    {
     "name": "stderr",
     "output_type": "stream",
     "text": [
      "Epoch 22/100 - LR: 0.001000: 100%|██████████| 1743/1743 [03:08<00:00,  9.24it/s, acc=65.37%, loss=0.6183]\n"
     ]
    },
    {
     "name": "stdout",
     "output_type": "stream",
     "text": [
      "Epoch 22 Loss: 0.6225, Train Accuracy: 64.42%\n",
      "Test Loss: 0.6238, Test Accuracy: 64.24%\n"
     ]
    },
    {
     "name": "stderr",
     "output_type": "stream",
     "text": [
      "Epoch 23/100 - LR: 0.001000: 100%|██████████| 1743/1743 [03:36<00:00,  8.06it/s, acc=63.88%, loss=0.6224]\n"
     ]
    },
    {
     "name": "stdout",
     "output_type": "stream",
     "text": [
      "Epoch 23 Loss: 0.6224, Train Accuracy: 64.43%\n",
      "Test Loss: 0.6231, Test Accuracy: 64.34%\n",
      "Learning rate changed from 0.001000 to 0.000500\n"
     ]
    },
    {
     "name": "stderr",
     "output_type": "stream",
     "text": [
      "Epoch 24/100 - LR: 0.000500: 100%|██████████| 1743/1743 [03:28<00:00,  8.34it/s, acc=63.88%, loss=0.6259]\n"
     ]
    },
    {
     "name": "stdout",
     "output_type": "stream",
     "text": [
      "Epoch 24 Loss: 0.6214, Train Accuracy: 64.56%\n",
      "Test Loss: 0.6222, Test Accuracy: 64.47%\n"
     ]
    },
    {
     "name": "stderr",
     "output_type": "stream",
     "text": [
      "Epoch 25/100 - LR: 0.000500: 100%|██████████| 1743/1743 [03:36<00:00,  8.03it/s, acc=64.08%, loss=0.6205]\n"
     ]
    },
    {
     "name": "stdout",
     "output_type": "stream",
     "text": [
      "Epoch 25 Loss: 0.6214, Train Accuracy: 64.56%\n",
      "Test Loss: 0.6219, Test Accuracy: 64.49%\n"
     ]
    },
    {
     "name": "stderr",
     "output_type": "stream",
     "text": [
      "Epoch 26/100 - LR: 0.000500: 100%|██████████| 1743/1743 [03:41<00:00,  7.87it/s, acc=63.78%, loss=0.6205]\n"
     ]
    },
    {
     "name": "stdout",
     "output_type": "stream",
     "text": [
      "Epoch 26 Loss: 0.6213, Train Accuracy: 64.58%\n",
      "Test Loss: 0.6220, Test Accuracy: 64.47%\n"
     ]
    },
    {
     "name": "stderr",
     "output_type": "stream",
     "text": [
      "Epoch 27/100 - LR: 0.000500: 100%|██████████| 1743/1743 [03:21<00:00,  8.66it/s, acc=64.65%, loss=0.6216]\n"
     ]
    },
    {
     "name": "stdout",
     "output_type": "stream",
     "text": [
      "Epoch 27 Loss: 0.6213, Train Accuracy: 64.58%\n",
      "Test Loss: 0.6218, Test Accuracy: 64.47%\n"
     ]
    },
    {
     "name": "stderr",
     "output_type": "stream",
     "text": [
      "Epoch 28/100 - LR: 0.000500: 100%|██████████| 1743/1743 [03:24<00:00,  8.54it/s, acc=63.93%, loss=0.6273]\n"
     ]
    },
    {
     "name": "stdout",
     "output_type": "stream",
     "text": [
      "Epoch 28 Loss: 0.6212, Train Accuracy: 64.58%\n",
      "Test Loss: 0.6220, Test Accuracy: 64.46%\n"
     ]
    },
    {
     "name": "stderr",
     "output_type": "stream",
     "text": [
      "Epoch 29/100 - LR: 0.000500: 100%|██████████| 1743/1743 [03:21<00:00,  8.64it/s, acc=64.96%, loss=0.6152]\n"
     ]
    },
    {
     "name": "stdout",
     "output_type": "stream",
     "text": [
      "Epoch 29 Loss: 0.6212, Train Accuracy: 64.57%\n",
      "Test Loss: 0.6215, Test Accuracy: 64.52%\n"
     ]
    },
    {
     "name": "stderr",
     "output_type": "stream",
     "text": [
      "Epoch 30/100 - LR: 0.000500: 100%|██████████| 1743/1743 [03:14<00:00,  8.97it/s, acc=64.55%, loss=0.6250]\n"
     ]
    },
    {
     "name": "stdout",
     "output_type": "stream",
     "text": [
      "Epoch 30 Loss: 0.6212, Train Accuracy: 64.59%\n",
      "Test Loss: 0.6219, Test Accuracy: 64.49%\n"
     ]
    },
    {
     "name": "stderr",
     "output_type": "stream",
     "text": [
      "Epoch 31/100 - LR: 0.000500: 100%|██████████| 1743/1743 [03:07<00:00,  9.27it/s, acc=65.57%, loss=0.6169]\n"
     ]
    },
    {
     "name": "stdout",
     "output_type": "stream",
     "text": [
      "Epoch 31 Loss: 0.6212, Train Accuracy: 64.58%\n",
      "Test Loss: 0.6220, Test Accuracy: 64.48%\n"
     ]
    },
    {
     "name": "stderr",
     "output_type": "stream",
     "text": [
      "Epoch 32/100 - LR: 0.000500: 100%|██████████| 1743/1743 [03:13<00:00,  9.03it/s, acc=64.96%, loss=0.6186]\n"
     ]
    },
    {
     "name": "stdout",
     "output_type": "stream",
     "text": [
      "Epoch 32 Loss: 0.6212, Train Accuracy: 64.58%\n",
      "Test Loss: 0.6222, Test Accuracy: 64.48%\n",
      "Learning rate changed from 0.000500 to 0.000250\n"
     ]
    },
    {
     "name": "stderr",
     "output_type": "stream",
     "text": [
      "Epoch 33/100 - LR: 0.000250: 100%|██████████| 1743/1743 [03:12<00:00,  9.05it/s, acc=65.16%, loss=0.6215]\n"
     ]
    },
    {
     "name": "stdout",
     "output_type": "stream",
     "text": [
      "Epoch 33 Loss: 0.6206, Train Accuracy: 64.66%\n",
      "Test Loss: 0.6212, Test Accuracy: 64.58%\n"
     ]
    },
    {
     "name": "stderr",
     "output_type": "stream",
     "text": [
      "Epoch 34/100 - LR: 0.000250: 100%|██████████| 1743/1743 [03:07<00:00,  9.30it/s, acc=64.49%, loss=0.6282]\n"
     ]
    },
    {
     "name": "stdout",
     "output_type": "stream",
     "text": [
      "Epoch 34 Loss: 0.6205, Train Accuracy: 64.66%\n",
      "Test Loss: 0.6212, Test Accuracy: 64.60%\n"
     ]
    },
    {
     "name": "stderr",
     "output_type": "stream",
     "text": [
      "Epoch 35/100 - LR: 0.000250: 100%|██████████| 1743/1743 [03:09<00:00,  9.18it/s, acc=66.14%, loss=0.6156]\n"
     ]
    },
    {
     "name": "stdout",
     "output_type": "stream",
     "text": [
      "Epoch 35 Loss: 0.6205, Train Accuracy: 64.66%\n",
      "Test Loss: 0.6213, Test Accuracy: 64.56%\n"
     ]
    },
    {
     "name": "stderr",
     "output_type": "stream",
     "text": [
      "Epoch 36/100 - LR: 0.000250: 100%|██████████| 1743/1743 [03:08<00:00,  9.26it/s, acc=65.67%, loss=0.6113]\n"
     ]
    },
    {
     "name": "stdout",
     "output_type": "stream",
     "text": [
      "Epoch 36 Loss: 0.6205, Train Accuracy: 64.67%\n",
      "Test Loss: 0.6214, Test Accuracy: 64.55%\n",
      "Learning rate changed from 0.000250 to 0.000125\n"
     ]
    },
    {
     "name": "stderr",
     "output_type": "stream",
     "text": [
      "Epoch 37/100 - LR: 0.000125: 100%|██████████| 1743/1743 [03:19<00:00,  8.74it/s, acc=65.06%, loss=0.6212]\n"
     ]
    },
    {
     "name": "stdout",
     "output_type": "stream",
     "text": [
      "Epoch 37 Loss: 0.6202, Train Accuracy: 64.70%\n",
      "Test Loss: 0.6210, Test Accuracy: 64.60%\n"
     ]
    },
    {
     "name": "stderr",
     "output_type": "stream",
     "text": [
      "Epoch 38/100 - LR: 0.000125: 100%|██████████| 1743/1743 [02:42<00:00, 10.72it/s, acc=63.98%, loss=0.6211]\n"
     ]
    },
    {
     "name": "stdout",
     "output_type": "stream",
     "text": [
      "Epoch 38 Loss: 0.6201, Train Accuracy: 64.72%\n",
      "Test Loss: 0.6209, Test Accuracy: 64.61%\n"
     ]
    },
    {
     "name": "stderr",
     "output_type": "stream",
     "text": [
      "Epoch 39/100 - LR: 0.000125: 100%|██████████| 1743/1743 [02:52<00:00, 10.13it/s, acc=64.44%, loss=0.6143]\n"
     ]
    },
    {
     "name": "stdout",
     "output_type": "stream",
     "text": [
      "Epoch 39 Loss: 0.6201, Train Accuracy: 64.72%\n",
      "Test Loss: 0.6210, Test Accuracy: 64.61%\n"
     ]
    },
    {
     "name": "stderr",
     "output_type": "stream",
     "text": [
      "Epoch 40/100 - LR: 0.000125: 100%|██████████| 1743/1743 [02:55<00:00,  9.95it/s, acc=63.01%, loss=0.6295]\n"
     ]
    },
    {
     "name": "stdout",
     "output_type": "stream",
     "text": [
      "Epoch 40 Loss: 0.6201, Train Accuracy: 64.71%\n",
      "Test Loss: 0.6209, Test Accuracy: 64.61%\n"
     ]
    },
    {
     "name": "stderr",
     "output_type": "stream",
     "text": [
      "Epoch 41/100 - LR: 0.000125: 100%|██████████| 1743/1743 [02:26<00:00, 11.90it/s, acc=66.03%, loss=0.6098]\n"
     ]
    },
    {
     "name": "stdout",
     "output_type": "stream",
     "text": [
      "Epoch 41 Loss: 0.6201, Train Accuracy: 64.72%\n",
      "Test Loss: 0.6209, Test Accuracy: 64.59%\n",
      "Learning rate changed from 0.000125 to 0.000063\n"
     ]
    },
    {
     "name": "stderr",
     "output_type": "stream",
     "text": [
      "Epoch 42/100 - LR: 0.000063: 100%|██████████| 1743/1743 [02:45<00:00, 10.56it/s, acc=65.16%, loss=0.6148]\n"
     ]
    },
    {
     "name": "stdout",
     "output_type": "stream",
     "text": [
      "Epoch 42 Loss: 0.6199, Train Accuracy: 64.73%\n",
      "Test Loss: 0.6208, Test Accuracy: 64.62%\n"
     ]
    },
    {
     "name": "stderr",
     "output_type": "stream",
     "text": [
      "Epoch 43/100 - LR: 0.000063: 100%|██████████| 1743/1743 [02:26<00:00, 11.88it/s, acc=66.91%, loss=0.6008]\n"
     ]
    },
    {
     "name": "stdout",
     "output_type": "stream",
     "text": [
      "Epoch 43 Loss: 0.6199, Train Accuracy: 64.74%\n",
      "Test Loss: 0.6208, Test Accuracy: 64.63%\n"
     ]
    },
    {
     "name": "stderr",
     "output_type": "stream",
     "text": [
      "Epoch 44/100 - LR: 0.000063: 100%|██████████| 1743/1743 [02:23<00:00, 12.12it/s, acc=65.01%, loss=0.6244]\n"
     ]
    },
    {
     "name": "stdout",
     "output_type": "stream",
     "text": [
      "Epoch 44 Loss: 0.6199, Train Accuracy: 64.74%\n",
      "Test Loss: 0.6208, Test Accuracy: 64.66%\n"
     ]
    },
    {
     "name": "stderr",
     "output_type": "stream",
     "text": [
      "Epoch 45/100 - LR: 0.000063: 100%|██████████| 1743/1743 [02:45<00:00, 10.55it/s, acc=66.14%, loss=0.6141]\n"
     ]
    },
    {
     "name": "stdout",
     "output_type": "stream",
     "text": [
      "Epoch 45 Loss: 0.6199, Train Accuracy: 64.74%\n",
      "Test Loss: 0.6208, Test Accuracy: 64.62%\n",
      "Learning rate changed from 0.000063 to 0.000031\n"
     ]
    },
    {
     "name": "stderr",
     "output_type": "stream",
     "text": [
      "Epoch 46/100 - LR: 0.000031: 100%|██████████| 1743/1743 [03:12<00:00,  9.05it/s, acc=64.29%, loss=0.6198]\n"
     ]
    },
    {
     "name": "stdout",
     "output_type": "stream",
     "text": [
      "Epoch 46 Loss: 0.6198, Train Accuracy: 64.75%\n",
      "Test Loss: 0.6207, Test Accuracy: 64.65%\n"
     ]
    },
    {
     "name": "stderr",
     "output_type": "stream",
     "text": [
      "Epoch 47/100 - LR: 0.000031: 100%|██████████| 1743/1743 [02:47<00:00, 10.42it/s, acc=64.03%, loss=0.6258]\n"
     ]
    },
    {
     "name": "stdout",
     "output_type": "stream",
     "text": [
      "Epoch 47 Loss: 0.6198, Train Accuracy: 64.76%\n",
      "Test Loss: 0.6207, Test Accuracy: 64.65%\n"
     ]
    },
    {
     "name": "stderr",
     "output_type": "stream",
     "text": [
      "Epoch 48/100 - LR: 0.000031: 100%|██████████| 1743/1743 [03:10<00:00,  9.14it/s, acc=63.06%, loss=0.6223]\n"
     ]
    },
    {
     "name": "stdout",
     "output_type": "stream",
     "text": [
      "Epoch 48 Loss: 0.6198, Train Accuracy: 64.75%\n",
      "Test Loss: 0.6207, Test Accuracy: 64.65%\n"
     ]
    },
    {
     "name": "stderr",
     "output_type": "stream",
     "text": [
      "Epoch 49/100 - LR: 0.000031: 100%|██████████| 1743/1743 [03:06<00:00,  9.33it/s, acc=64.34%, loss=0.6309]\n"
     ]
    },
    {
     "name": "stdout",
     "output_type": "stream",
     "text": [
      "Epoch 49 Loss: 0.6198, Train Accuracy: 64.75%\n",
      "Test Loss: 0.6207, Test Accuracy: 64.65%\n",
      "Learning rate changed from 0.000031 to 0.000016\n"
     ]
    },
    {
     "name": "stderr",
     "output_type": "stream",
     "text": [
      "Epoch 50/100 - LR: 0.000016: 100%|██████████| 1743/1743 [03:10<00:00,  9.16it/s, acc=64.60%, loss=0.6225]\n"
     ]
    },
    {
     "name": "stdout",
     "output_type": "stream",
     "text": [
      "Epoch 50 Loss: 0.6197, Train Accuracy: 64.76%\n",
      "Test Loss: 0.6207, Test Accuracy: 64.65%\n"
     ]
    },
    {
     "name": "stderr",
     "output_type": "stream",
     "text": [
      "Epoch 51/100 - LR: 0.000016: 100%|██████████| 1743/1743 [03:01<00:00,  9.61it/s, acc=63.21%, loss=0.6287]\n"
     ]
    },
    {
     "name": "stdout",
     "output_type": "stream",
     "text": [
      "Epoch 51 Loss: 0.6197, Train Accuracy: 64.76%\n",
      "Test Loss: 0.6207, Test Accuracy: 64.65%\n",
      "Early stopping triggered at epoch 51. Best model was from epoch 44.\n"
     ]
    }
   ],
   "source": [
    "import helper_functions\n",
    "import importlib\n",
    "importlib.reload(helper_functions)\n",
    "\n",
    "device = torch.device('cuda' if torch.cuda.is_available() else 'cpu')\n",
    "\n",
    "\n",
    "\n",
    "X_train_tensor = X_train_tensor.to(device)\n",
    "y_train_tensor = y_train_tensor.to(device)\n",
    "X_test_tensor = X_test_tensor.to(device)\n",
    "y_test_tensor = y_test_tensor.to(device)\n",
    "class MLP(nn.Module):\n",
    "    def __init__(self):\n",
    "        super(MLP, self).__init__()\n",
    "        self.fc1 = nn.Linear(X_train.shape[1], 64)  # Input layer to first hidden layer\n",
    "        self.fc2 = nn.Linear(64, 1)  # First hidden layer to output layer\n",
    "        self.relu = nn.ReLU()\n",
    "        self.sigmoid = nn.Sigmoid()\n",
    " \n",
    "    def forward(self, x):\n",
    "        x = self.relu(self.fc1(x))\n",
    "        x = self.fc2(x)\n",
    "        return x\n",
    "\n",
    "model = MLP()\n",
    "\n",
    "train_dataset = TensorDataset(X_train_tensor, y_train_tensor)\n",
    "test_dataset = TensorDataset(X_test_tensor, y_test_tensor)\n",
    "criterion = nn.BCEWithLogitsLoss()\n",
    "optimizer = optim.Adam(model.parameters(), weight_decay=1e-4,lr=0.001) \n",
    "model.to(device)\n",
    "\n",
    "train_dataset = TensorDataset(X_train_tensor, y_train_tensor)\n",
    "batch_size = 4096\n",
    "train_loader = DataLoader(train_dataset, batch_size=batch_size, shuffle=True)\n",
    "test_loader = DataLoader(test_dataset, batch_size=batch_size, shuffle=False)\n",
    "scheduler = optim.lr_scheduler.ReduceLROnPlateau(optimizer, mode='min', factor=0.5, patience=2)  \n",
    "\n",
    "num_epochs = 100\n",
    "best_model_weights, simple_nn_train_loss, simple_nn_test_loss, simple_nn_train_accuracy, simple_nn_test_accuracy, lrs = helper_functions.train_and_evaluate_model(model, criterion, optimizer, scheduler, train_loader, test_loader, num_epochs)\n",
    "\n",
    "torch.save(best_model_weights, '1hl_advanced_encodings.pth')\n"
   ]
  },
  {
   "cell_type": "code",
   "execution_count": 20,
   "metadata": {},
   "outputs": [
    {
     "data": {
      "image/png": "[encoded data removed]",
      "text/plain": [
       "<Figure size 1200x600 with 2 Axes>"
      ]
     },
     "metadata": {},
     "output_type": "display_data"
    }
   ],
   "source": [
    "\n",
    "\n",
    "plt.subplot(1, 2, 1)\n",
    "plt.plot(np.arange(1, len(simple_nn_train_loss) + 1), simple_nn_train_loss, label='Simple NN Train Loss', color='green')\n",
    "plt.plot(np.arange(1, len(simple_nn_test_loss) + 1), simple_nn_test_loss, label='Simple NN Test Loss', color='red', linestyle='--')  # Dotted line\n",
    "plt.plot(np.arange(1, len(shallow_train_loss) + 1), shallow_train_loss, label='Shallow Train Loss', color='blue')\n",
    "plt.plot(np.arange(1, len(shallow_test_loss) + 1), shallow_test_loss, label='Shallow Test Loss', color='orange', linestyle='--')  # Dotted line\n",
    "plt.xlabel('Epochs')\n",
    "plt.ylabel('Loss')\n",
    "plt.title('Loss vs. Epochs')\n",
    "plt.legend()\n",
    "\n",
    "plt.subplot(1, 2, 2)\n",
    "plt.plot(np.arange(1, len(simple_nn_train_accuracy) + 1), simple_nn_train_accuracy, label='Simple NN Train Accuracy', color='green')\n",
    "plt.plot(np.arange(1, len(simple_nn_test_accuracy) + 1), simple_nn_test_accuracy, label='Simple NN Test Accuracy', color='red', linestyle='--')  # Dotted line\n",
    "plt.plot(np.arange(1, len(shallow_train_accuracy) + 1), shallow_train_accuracy, label='Shallow Train Accuracy', color='blue')\n",
    "plt.plot(np.arange(1, len(shallow_test_accuracy) + 1), shallow_test_accuracy, label='Shallow Test Accuracy', color='orange', linestyle='--')  # Dotted line\n",
    "plt.xlabel('Epochs')\n",
    "plt.ylabel('Accuracy')\n",
    "plt.title('Accuracy vs. Epochs')\n",
    "plt.legend()\n",
    "\n",
    "plt.tight_layout()\n",
    "plt.show()\n"
   ]
  },
  {
   "cell_type": "markdown",
   "metadata": {},
   "source": [
    "### Using PCA for feature Selection"
   ]
  },
  {
   "cell_type": "code",
   "execution_count": null,
   "metadata": {},
   "outputs": [
    {
     "name": "stderr",
     "output_type": "stream",
     "text": [
      "Epoch 1/100 - LR: 0.001000: 100%|██████████| 1743/1743 [03:01<00:00,  9.58it/s, acc=62.08%, loss=0.6306]\n"
     ]
    },
    {
     "name": "stdout",
     "output_type": "stream",
     "text": [
      "Epoch 1 Loss: 0.6401, Train Accuracy: 62.34%\n",
      "Test Loss: 0.6271, Test Accuracy: 63.69%\n"
     ]
    },
    {
     "name": "stderr",
     "output_type": "stream",
     "text": [
      "Epoch 2/100 - LR: 0.001000: 100%|██████████| 1743/1743 [03:09<00:00,  9.19it/s, acc=63.16%, loss=0.6292]\n"
     ]
    },
    {
     "name": "stdout",
     "output_type": "stream",
     "text": [
      "Epoch 2 Loss: 0.6290, Train Accuracy: 63.63%\n",
      "Test Loss: 0.6238, Test Accuracy: 64.17%\n"
     ]
    },
    {
     "name": "stderr",
     "output_type": "stream",
     "text": [
      "Epoch 3/100 - LR: 0.001000: 100%|██████████| 1743/1743 [03:10<00:00,  9.17it/s, acc=64.39%, loss=0.6249]\n"
     ]
    },
    {
     "name": "stdout",
     "output_type": "stream",
     "text": [
      "Epoch 3 Loss: 0.6272, Train Accuracy: 63.89%\n",
      "Test Loss: 0.6222, Test Accuracy: 64.43%\n"
     ]
    },
    {
     "name": "stderr",
     "output_type": "stream",
     "text": [
      "Epoch 4/100 - LR: 0.001000: 100%|██████████| 1743/1743 [03:11<00:00,  9.11it/s, acc=64.60%, loss=0.6204]\n"
     ]
    },
    {
     "name": "stdout",
     "output_type": "stream",
     "text": [
      "Epoch 4 Loss: 0.6261, Train Accuracy: 64.04%\n",
      "Test Loss: 0.6216, Test Accuracy: 64.43%\n"
     ]
    },
    {
     "name": "stderr",
     "output_type": "stream",
     "text": [
      "Epoch 5/100 - LR: 0.001000: 100%|██████████| 1743/1743 [02:59<00:00,  9.71it/s, acc=65.52%, loss=0.6196]\n"
     ]
    },
    {
     "name": "stdout",
     "output_type": "stream",
     "text": [
      "Epoch 5 Loss: 0.6255, Train Accuracy: 64.13%\n",
      "Test Loss: 0.6211, Test Accuracy: 64.53%\n"
     ]
    },
    {
     "name": "stderr",
     "output_type": "stream",
     "text": [
      "Epoch 6/100 - LR: 0.001000: 100%|██████████| 1743/1743 [02:58<00:00,  9.77it/s, acc=62.90%, loss=0.6316]\n"
     ]
    },
    {
     "name": "stdout",
     "output_type": "stream",
     "text": [
      "Epoch 6 Loss: 0.6251, Train Accuracy: 64.17%\n",
      "Test Loss: 0.6208, Test Accuracy: 64.59%\n"
     ]
    },
    {
     "name": "stderr",
     "output_type": "stream",
     "text": [
      "Epoch 7/100 - LR: 0.001000: 100%|██████████| 1743/1743 [03:01<00:00,  9.60it/s, acc=62.85%, loss=0.6360]\n"
     ]
    },
    {
     "name": "stdout",
     "output_type": "stream",
     "text": [
      "Epoch 7 Loss: 0.6249, Train Accuracy: 64.18%\n",
      "Test Loss: 0.6203, Test Accuracy: 64.63%\n"
     ]
    },
    {
     "name": "stderr",
     "output_type": "stream",
     "text": [
      "Epoch 8/100 - LR: 0.001000: 100%|██████████| 1743/1743 [03:00<00:00,  9.65it/s, acc=63.47%, loss=0.6215]\n"
     ]
    },
    {
     "name": "stdout",
     "output_type": "stream",
     "text": [
      "Epoch 8 Loss: 0.6248, Train Accuracy: 64.22%\n",
      "Test Loss: 0.6205, Test Accuracy: 64.64%\n"
     ]
    },
    {
     "name": "stderr",
     "output_type": "stream",
     "text": [
      "Epoch 9/100 - LR: 0.001000: 100%|██████████| 1743/1743 [03:02<00:00,  9.54it/s, acc=63.06%, loss=0.6337]\n"
     ]
    },
    {
     "name": "stdout",
     "output_type": "stream",
     "text": [
      "Epoch 9 Loss: 0.6247, Train Accuracy: 64.23%\n",
      "Test Loss: 0.6203, Test Accuracy: 64.62%\n"
     ]
    },
    {
     "name": "stderr",
     "output_type": "stream",
     "text": [
      "Epoch 10/100 - LR: 0.001000: 100%|██████████| 1743/1743 [03:03<00:00,  9.51it/s, acc=64.08%, loss=0.6254]\n"
     ]
    },
    {
     "name": "stdout",
     "output_type": "stream",
     "text": [
      "Epoch 10 Loss: 0.6246, Train Accuracy: 64.24%\n",
      "Test Loss: 0.6201, Test Accuracy: 64.63%\n"
     ]
    },
    {
     "name": "stderr",
     "output_type": "stream",
     "text": [
      "Epoch 11/100 - LR: 0.001000: 100%|██████████| 1743/1743 [03:01<00:00,  9.59it/s, acc=64.60%, loss=0.6320]\n"
     ]
    },
    {
     "name": "stdout",
     "output_type": "stream",
     "text": [
      "Epoch 11 Loss: 0.6244, Train Accuracy: 64.26%\n",
      "Test Loss: 0.6202, Test Accuracy: 64.68%\n"
     ]
    },
    {
     "name": "stderr",
     "output_type": "stream",
     "text": [
      "Epoch 12/100 - LR: 0.001000: 100%|██████████| 1743/1743 [03:00<00:00,  9.64it/s, acc=64.19%, loss=0.6279]\n"
     ]
    },
    {
     "name": "stdout",
     "output_type": "stream",
     "text": [
      "Epoch 12 Loss: 0.6243, Train Accuracy: 64.27%\n",
      "Test Loss: 0.6197, Test Accuracy: 64.73%\n"
     ]
    },
    {
     "name": "stderr",
     "output_type": "stream",
     "text": [
      "Epoch 13/100 - LR: 0.001000: 100%|██████████| 1743/1743 [03:01<00:00,  9.60it/s, acc=62.96%, loss=0.6325]\n"
     ]
    },
    {
     "name": "stdout",
     "output_type": "stream",
     "text": [
      "Epoch 13 Loss: 0.6243, Train Accuracy: 64.27%\n",
      "Test Loss: 0.6199, Test Accuracy: 64.72%\n"
     ]
    },
    {
     "name": "stderr",
     "output_type": "stream",
     "text": [
      "Epoch 14/100 - LR: 0.001000: 100%|██████████| 1743/1743 [03:00<00:00,  9.67it/s, acc=64.44%, loss=0.6151]\n"
     ]
    },
    {
     "name": "stdout",
     "output_type": "stream",
     "text": [
      "Epoch 14 Loss: 0.6242, Train Accuracy: 64.27%\n",
      "Test Loss: 0.6194, Test Accuracy: 64.74%\n"
     ]
    },
    {
     "name": "stderr",
     "output_type": "stream",
     "text": [
      "Epoch 15/100 - LR: 0.001000: 100%|██████████| 1743/1743 [03:23<00:00,  8.57it/s, acc=66.50%, loss=0.6127]\n"
     ]
    },
    {
     "name": "stdout",
     "output_type": "stream",
     "text": [
      "Epoch 15 Loss: 0.6242, Train Accuracy: 64.27%\n",
      "Test Loss: 0.6195, Test Accuracy: 64.78%\n"
     ]
    },
    {
     "name": "stderr",
     "output_type": "stream",
     "text": [
      "Epoch 16/100 - LR: 0.001000: 100%|██████████| 1743/1743 [02:54<00:00, 10.00it/s, acc=63.83%, loss=0.6256]\n"
     ]
    },
    {
     "name": "stdout",
     "output_type": "stream",
     "text": [
      "Epoch 16 Loss: 0.6241, Train Accuracy: 64.28%\n",
      "Test Loss: 0.6194, Test Accuracy: 64.78%\n"
     ]
    },
    {
     "name": "stderr",
     "output_type": "stream",
     "text": [
      "Epoch 17/100 - LR: 0.001000: 100%|██████████| 1743/1743 [02:56<00:00,  9.86it/s, acc=64.91%, loss=0.6247]\n"
     ]
    },
    {
     "name": "stdout",
     "output_type": "stream",
     "text": [
      "Epoch 17 Loss: 0.6241, Train Accuracy: 64.29%\n",
      "Test Loss: 0.6197, Test Accuracy: 64.76%\n",
      "Learning rate changed from 0.001000 to 0.000500\n"
     ]
    },
    {
     "name": "stderr",
     "output_type": "stream",
     "text": [
      "Epoch 18/100 - LR: 0.000500: 100%|██████████| 1743/1743 [03:03<00:00,  9.47it/s, acc=65.01%, loss=0.6233]\n"
     ]
    },
    {
     "name": "stdout",
     "output_type": "stream",
     "text": [
      "Epoch 18 Loss: 0.6222, Train Accuracy: 64.50%\n",
      "Test Loss: 0.6175, Test Accuracy: 64.90%\n"
     ]
    },
    {
     "name": "stderr",
     "output_type": "stream",
     "text": [
      "Epoch 19/100 - LR: 0.000500: 100%|██████████| 1743/1743 [02:41<00:00, 10.81it/s, acc=64.44%, loss=0.6210]\n"
     ]
    },
    {
     "name": "stdout",
     "output_type": "stream",
     "text": [
      "Epoch 19 Loss: 0.6218, Train Accuracy: 64.53%\n",
      "Test Loss: 0.6172, Test Accuracy: 64.98%\n"
     ]
    },
    {
     "name": "stderr",
     "output_type": "stream",
     "text": [
      "Epoch 20/100 - LR: 0.000500: 100%|██████████| 1743/1743 [02:41<00:00, 10.82it/s, acc=64.65%, loss=0.6187]\n"
     ]
    },
    {
     "name": "stdout",
     "output_type": "stream",
     "text": [
      "Epoch 20 Loss: 0.6217, Train Accuracy: 64.56%\n",
      "Test Loss: 0.6173, Test Accuracy: 64.98%\n"
     ]
    },
    {
     "name": "stderr",
     "output_type": "stream",
     "text": [
      "Epoch 21/100 - LR: 0.000500: 100%|██████████| 1743/1743 [03:01<00:00,  9.59it/s, acc=64.39%, loss=0.6168]\n"
     ]
    },
    {
     "name": "stdout",
     "output_type": "stream",
     "text": [
      "Epoch 21 Loss: 0.6216, Train Accuracy: 64.58%\n",
      "Test Loss: 0.6167, Test Accuracy: 65.04%\n"
     ]
    },
    {
     "name": "stderr",
     "output_type": "stream",
     "text": [
      "Epoch 22/100 - LR: 0.000500: 100%|██████████| 1743/1743 [03:08<00:00,  9.25it/s, acc=65.67%, loss=0.6100]\n"
     ]
    },
    {
     "name": "stdout",
     "output_type": "stream",
     "text": [
      "Epoch 22 Loss: 0.6215, Train Accuracy: 64.60%\n",
      "Test Loss: 0.6166, Test Accuracy: 65.05%\n"
     ]
    },
    {
     "name": "stderr",
     "output_type": "stream",
     "text": [
      "Epoch 23/100 - LR: 0.000500: 100%|██████████| 1743/1743 [02:43<00:00, 10.64it/s, acc=63.16%, loss=0.6263]\n"
     ]
    },
    {
     "name": "stdout",
     "output_type": "stream",
     "text": [
      "Epoch 23 Loss: 0.6214, Train Accuracy: 64.59%\n",
      "Test Loss: 0.6169, Test Accuracy: 65.02%\n"
     ]
    },
    {
     "name": "stderr",
     "output_type": "stream",
     "text": [
      "Epoch 24/100 - LR: 0.000500: 100%|██████████| 1743/1743 [02:52<00:00, 10.13it/s, acc=63.57%, loss=0.6235]\n"
     ]
    },
    {
     "name": "stdout",
     "output_type": "stream",
     "text": [
      "Epoch 24 Loss: 0.6214, Train Accuracy: 64.57%\n",
      "Test Loss: 0.6169, Test Accuracy: 64.99%\n",
      "Learning rate changed from 0.000500 to 0.000250\n"
     ]
    },
    {
     "name": "stderr",
     "output_type": "stream",
     "text": [
      "Epoch 25/100 - LR: 0.000250: 100%|██████████| 1743/1743 [02:56<00:00,  9.86it/s, acc=65.32%, loss=0.6195]\n"
     ]
    },
    {
     "name": "stdout",
     "output_type": "stream",
     "text": [
      "Epoch 25 Loss: 0.6201, Train Accuracy: 64.73%\n",
      "Test Loss: 0.6155, Test Accuracy: 65.19%\n"
     ]
    },
    {
     "name": "stderr",
     "output_type": "stream",
     "text": [
      "Epoch 26/100 - LR: 0.000250: 100%|██████████| 1743/1743 [02:48<00:00, 10.35it/s, acc=65.78%, loss=0.5988]\n"
     ]
    },
    {
     "name": "stdout",
     "output_type": "stream",
     "text": [
      "Epoch 26 Loss: 0.6196, Train Accuracy: 64.80%\n",
      "Test Loss: 0.6152, Test Accuracy: 65.16%\n"
     ]
    },
    {
     "name": "stderr",
     "output_type": "stream",
     "text": [
      "Epoch 27/100 - LR: 0.000250: 100%|██████████| 1743/1743 [02:47<00:00, 10.42it/s, acc=65.47%, loss=0.6194]\n"
     ]
    },
    {
     "name": "stdout",
     "output_type": "stream",
     "text": [
      "Epoch 27 Loss: 0.6196, Train Accuracy: 64.78%\n",
      "Test Loss: 0.6152, Test Accuracy: 65.17%\n"
     ]
    },
    {
     "name": "stderr",
     "output_type": "stream",
     "text": [
      "Epoch 28/100 - LR: 0.000250: 100%|██████████| 1743/1743 [03:00<00:00,  9.65it/s, acc=65.26%, loss=0.6196]\n"
     ]
    },
    {
     "name": "stdout",
     "output_type": "stream",
     "text": [
      "Epoch 28 Loss: 0.6196, Train Accuracy: 64.78%\n",
      "Test Loss: 0.6151, Test Accuracy: 65.19%\n"
     ]
    },
    {
     "name": "stderr",
     "output_type": "stream",
     "text": [
      "Epoch 29/100 - LR: 0.000250: 100%|██████████| 1743/1743 [02:54<00:00,  9.98it/s, acc=65.32%, loss=0.6262]\n"
     ]
    },
    {
     "name": "stdout",
     "output_type": "stream",
     "text": [
      "Epoch 29 Loss: 0.6196, Train Accuracy: 64.78%\n",
      "Test Loss: 0.6149, Test Accuracy: 65.22%\n"
     ]
    },
    {
     "name": "stderr",
     "output_type": "stream",
     "text": [
      "Epoch 30/100 - LR: 0.000250: 100%|██████████| 1743/1743 [02:47<00:00, 10.40it/s, acc=65.52%, loss=0.6082]\n"
     ]
    },
    {
     "name": "stdout",
     "output_type": "stream",
     "text": [
      "Epoch 30 Loss: 0.6195, Train Accuracy: 64.80%\n",
      "Test Loss: 0.6151, Test Accuracy: 65.21%\n"
     ]
    },
    {
     "name": "stderr",
     "output_type": "stream",
     "text": [
      "Epoch 31/100 - LR: 0.000250: 100%|██████████| 1743/1743 [03:08<00:00,  9.23it/s, acc=64.49%, loss=0.6187]\n"
     ]
    },
    {
     "name": "stdout",
     "output_type": "stream",
     "text": [
      "Epoch 31 Loss: 0.6194, Train Accuracy: 64.80%\n",
      "Test Loss: 0.6148, Test Accuracy: 65.23%\n"
     ]
    },
    {
     "name": "stderr",
     "output_type": "stream",
     "text": [
      "Epoch 32/100 - LR: 0.000250: 100%|██████████| 1743/1743 [02:55<00:00,  9.92it/s, acc=64.75%, loss=0.6183]\n"
     ]
    },
    {
     "name": "stdout",
     "output_type": "stream",
     "text": [
      "Epoch 32 Loss: 0.6194, Train Accuracy: 64.81%\n",
      "Test Loss: 0.6147, Test Accuracy: 65.24%\n"
     ]
    },
    {
     "name": "stderr",
     "output_type": "stream",
     "text": [
      "Epoch 33/100 - LR: 0.000250: 100%|██████████| 1743/1743 [03:04<00:00,  9.47it/s, acc=66.65%, loss=0.6137]\n"
     ]
    },
    {
     "name": "stdout",
     "output_type": "stream",
     "text": [
      "Epoch 33 Loss: 0.6193, Train Accuracy: 64.82%\n",
      "Test Loss: 0.6147, Test Accuracy: 65.22%\n"
     ]
    },
    {
     "name": "stderr",
     "output_type": "stream",
     "text": [
      "Epoch 34/100 - LR: 0.000250: 100%|██████████| 1743/1743 [02:37<00:00, 11.06it/s, acc=63.57%, loss=0.6197]\n"
     ]
    },
    {
     "name": "stdout",
     "output_type": "stream",
     "text": [
      "Epoch 34 Loss: 0.6193, Train Accuracy: 64.84%\n",
      "Test Loss: 0.6148, Test Accuracy: 65.23%\n"
     ]
    },
    {
     "name": "stderr",
     "output_type": "stream",
     "text": [
      "Epoch 35/100 - LR: 0.000250: 100%|██████████| 1743/1743 [02:39<00:00, 10.89it/s, acc=62.96%, loss=0.6341]\n"
     ]
    },
    {
     "name": "stdout",
     "output_type": "stream",
     "text": [
      "Epoch 35 Loss: 0.6193, Train Accuracy: 64.82%\n",
      "Test Loss: 0.6147, Test Accuracy: 65.24%\n",
      "Learning rate changed from 0.000250 to 0.000125\n"
     ]
    },
    {
     "name": "stderr",
     "output_type": "stream",
     "text": [
      "Epoch 36/100 - LR: 0.000125: 100%|██████████| 1743/1743 [02:17<00:00, 12.66it/s, acc=66.60%, loss=0.6079]\n"
     ]
    },
    {
     "name": "stdout",
     "output_type": "stream",
     "text": [
      "Epoch 36 Loss: 0.6182, Train Accuracy: 64.93%\n",
      "Test Loss: 0.6138, Test Accuracy: 65.33%\n"
     ]
    },
    {
     "name": "stderr",
     "output_type": "stream",
     "text": [
      "Epoch 37/100 - LR: 0.000125: 100%|██████████| 1743/1743 [02:23<00:00, 12.13it/s, acc=63.93%, loss=0.6169]\n"
     ]
    },
    {
     "name": "stdout",
     "output_type": "stream",
     "text": [
      "Epoch 37 Loss: 0.6181, Train Accuracy: 64.96%\n",
      "Test Loss: 0.6137, Test Accuracy: 65.35%\n"
     ]
    },
    {
     "name": "stderr",
     "output_type": "stream",
     "text": [
      "Epoch 38/100 - LR: 0.000125: 100%|██████████| 1743/1743 [02:36<00:00, 11.11it/s, acc=63.88%, loss=0.6381]\n"
     ]
    },
    {
     "name": "stdout",
     "output_type": "stream",
     "text": [
      "Epoch 38 Loss: 0.6180, Train Accuracy: 64.97%\n",
      "Test Loss: 0.6137, Test Accuracy: 65.33%\n"
     ]
    },
    {
     "name": "stderr",
     "output_type": "stream",
     "text": [
      "Epoch 39/100 - LR: 0.000125: 100%|██████████| 1743/1743 [02:35<00:00, 11.24it/s, acc=64.75%, loss=0.6113]\n"
     ]
    },
    {
     "name": "stdout",
     "output_type": "stream",
     "text": [
      "Epoch 39 Loss: 0.6181, Train Accuracy: 64.97%\n",
      "Test Loss: 0.6136, Test Accuracy: 65.37%\n"
     ]
    },
    {
     "name": "stderr",
     "output_type": "stream",
     "text": [
      "Epoch 40/100 - LR: 0.000125: 100%|██████████| 1743/1743 [02:20<00:00, 12.43it/s, acc=62.80%, loss=0.6369]\n"
     ]
    },
    {
     "name": "stdout",
     "output_type": "stream",
     "text": [
      "Epoch 40 Loss: 0.6179, Train Accuracy: 64.98%\n",
      "Test Loss: 0.6135, Test Accuracy: 65.36%\n"
     ]
    },
    {
     "name": "stderr",
     "output_type": "stream",
     "text": [
      "Epoch 41/100 - LR: 0.000125: 100%|██████████| 1743/1743 [02:18<00:00, 12.56it/s, acc=65.52%, loss=0.6143]\n"
     ]
    },
    {
     "name": "stdout",
     "output_type": "stream",
     "text": [
      "Epoch 41 Loss: 0.6179, Train Accuracy: 64.97%\n",
      "Test Loss: 0.6135, Test Accuracy: 65.37%\n"
     ]
    },
    {
     "name": "stderr",
     "output_type": "stream",
     "text": [
      "Epoch 42/100 - LR: 0.000125: 100%|██████████| 1743/1743 [02:17<00:00, 12.66it/s, acc=65.62%, loss=0.6149]\n"
     ]
    },
    {
     "name": "stdout",
     "output_type": "stream",
     "text": [
      "Epoch 42 Loss: 0.6179, Train Accuracy: 64.97%\n",
      "Test Loss: 0.6135, Test Accuracy: 65.37%\n"
     ]
    },
    {
     "name": "stderr",
     "output_type": "stream",
     "text": [
      "Epoch 43/100 - LR: 0.000125: 100%|██████████| 1743/1743 [02:18<00:00, 12.62it/s, acc=66.03%, loss=0.6098]\n"
     ]
    },
    {
     "name": "stdout",
     "output_type": "stream",
     "text": [
      "Epoch 43 Loss: 0.6178, Train Accuracy: 65.00%\n",
      "Test Loss: 0.6136, Test Accuracy: 65.35%\n"
     ]
    },
    {
     "name": "stderr",
     "output_type": "stream",
     "text": [
      "Epoch 44/100 - LR: 0.000125: 100%|██████████| 1743/1743 [02:19<00:00, 12.47it/s, acc=64.85%, loss=0.6113]\n"
     ]
    },
    {
     "name": "stdout",
     "output_type": "stream",
     "text": [
      "Epoch 44 Loss: 0.6177, Train Accuracy: 65.00%\n",
      "Test Loss: 0.6134, Test Accuracy: 65.38%\n"
     ]
    },
    {
     "name": "stderr",
     "output_type": "stream",
     "text": [
      "Epoch 45/100 - LR: 0.000125: 100%|██████████| 1743/1743 [03:06<00:00,  9.36it/s, acc=64.29%, loss=0.6172]\n"
     ]
    },
    {
     "name": "stdout",
     "output_type": "stream",
     "text": [
      "Epoch 45 Loss: 0.6177, Train Accuracy: 64.99%\n",
      "Test Loss: 0.6134, Test Accuracy: 65.35%\n"
     ]
    },
    {
     "name": "stderr",
     "output_type": "stream",
     "text": [
      "Epoch 46/100 - LR: 0.000125: 100%|██████████| 1743/1743 [02:47<00:00, 10.38it/s, acc=65.93%, loss=0.6105]\n"
     ]
    },
    {
     "name": "stdout",
     "output_type": "stream",
     "text": [
      "Epoch 46 Loss: 0.6177, Train Accuracy: 65.00%\n",
      "Test Loss: 0.6134, Test Accuracy: 65.37%\n"
     ]
    },
    {
     "name": "stderr",
     "output_type": "stream",
     "text": [
      "Epoch 47/100 - LR: 0.000125: 100%|██████████| 1743/1743 [03:04<00:00,  9.45it/s, acc=66.39%, loss=0.6088]\n"
     ]
    },
    {
     "name": "stdout",
     "output_type": "stream",
     "text": [
      "Epoch 47 Loss: 0.6177, Train Accuracy: 65.00%\n",
      "Test Loss: 0.6136, Test Accuracy: 65.37%\n",
      "Learning rate changed from 0.000125 to 0.000063\n"
     ]
    },
    {
     "name": "stderr",
     "output_type": "stream",
     "text": [
      "Epoch 48/100 - LR: 0.000063: 100%|██████████| 1743/1743 [03:07<00:00,  9.32it/s, acc=65.78%, loss=0.6116]\n"
     ]
    },
    {
     "name": "stdout",
     "output_type": "stream",
     "text": [
      "Epoch 48 Loss: 0.6171, Train Accuracy: 65.04%\n",
      "Test Loss: 0.6129, Test Accuracy: 65.43%\n"
     ]
    },
    {
     "name": "stderr",
     "output_type": "stream",
     "text": [
      "Epoch 49/100 - LR: 0.000063: 100%|██████████| 1743/1743 [03:06<00:00,  9.36it/s, acc=66.80%, loss=0.6039]\n"
     ]
    },
    {
     "name": "stdout",
     "output_type": "stream",
     "text": [
      "Epoch 49 Loss: 0.6170, Train Accuracy: 65.07%\n",
      "Test Loss: 0.6127, Test Accuracy: 65.45%\n"
     ]
    },
    {
     "name": "stderr",
     "output_type": "stream",
     "text": [
      "Epoch 50/100 - LR: 0.000063: 100%|██████████| 1743/1743 [03:00<00:00,  9.64it/s, acc=64.65%, loss=0.6191]\n"
     ]
    },
    {
     "name": "stdout",
     "output_type": "stream",
     "text": [
      "Epoch 50 Loss: 0.6170, Train Accuracy: 65.06%\n",
      "Test Loss: 0.6129, Test Accuracy: 65.44%\n"
     ]
    },
    {
     "name": "stderr",
     "output_type": "stream",
     "text": [
      "Epoch 51/100 - LR: 0.000063: 100%|██████████| 1743/1743 [02:44<00:00, 10.63it/s, acc=65.37%, loss=0.6192]\n"
     ]
    },
    {
     "name": "stdout",
     "output_type": "stream",
     "text": [
      "Epoch 51 Loss: 0.6168, Train Accuracy: 65.10%\n",
      "Test Loss: 0.6127, Test Accuracy: 65.44%\n"
     ]
    },
    {
     "name": "stderr",
     "output_type": "stream",
     "text": [
      "Epoch 52/100 - LR: 0.000063: 100%|██████████| 1743/1743 [02:50<00:00, 10.24it/s, acc=64.03%, loss=0.6281]\n"
     ]
    },
    {
     "name": "stdout",
     "output_type": "stream",
     "text": [
      "Epoch 52 Loss: 0.6169, Train Accuracy: 65.09%\n",
      "Test Loss: 0.6126, Test Accuracy: 65.48%\n"
     ]
    },
    {
     "name": "stderr",
     "output_type": "stream",
     "text": [
      "Epoch 53/100 - LR: 0.000063: 100%|██████████| 1743/1743 [03:08<00:00,  9.24it/s, acc=64.65%, loss=0.6225]\n"
     ]
    },
    {
     "name": "stdout",
     "output_type": "stream",
     "text": [
      "Epoch 53 Loss: 0.6168, Train Accuracy: 65.10%\n",
      "Test Loss: 0.6127, Test Accuracy: 65.44%\n"
     ]
    },
    {
     "name": "stderr",
     "output_type": "stream",
     "text": [
      "Epoch 54/100 - LR: 0.000063: 100%|██████████| 1743/1743 [03:09<00:00,  9.22it/s, acc=65.83%, loss=0.6038]\n"
     ]
    },
    {
     "name": "stdout",
     "output_type": "stream",
     "text": [
      "Epoch 54 Loss: 0.6168, Train Accuracy: 65.09%\n",
      "Test Loss: 0.6126, Test Accuracy: 65.46%\n"
     ]
    },
    {
     "name": "stderr",
     "output_type": "stream",
     "text": [
      "Epoch 55/100 - LR: 0.000063: 100%|██████████| 1743/1743 [03:03<00:00,  9.49it/s, acc=63.57%, loss=0.6206]\n"
     ]
    },
    {
     "name": "stdout",
     "output_type": "stream",
     "text": [
      "Epoch 55 Loss: 0.6167, Train Accuracy: 65.10%\n",
      "Test Loss: 0.6126, Test Accuracy: 65.48%\n",
      "Learning rate changed from 0.000063 to 0.000031\n"
     ]
    },
    {
     "name": "stderr",
     "output_type": "stream",
     "text": [
      "Epoch 56/100 - LR: 0.000031: 100%|██████████| 1743/1743 [03:02<00:00,  9.57it/s, acc=66.14%, loss=0.6101]\n"
     ]
    },
    {
     "name": "stdout",
     "output_type": "stream",
     "text": [
      "Epoch 56 Loss: 0.6164, Train Accuracy: 65.14%\n",
      "Test Loss: 0.6124, Test Accuracy: 65.49%\n"
     ]
    },
    {
     "name": "stderr",
     "output_type": "stream",
     "text": [
      "Epoch 57/100 - LR: 0.000031: 100%|██████████| 1743/1743 [02:59<00:00,  9.73it/s, acc=67.01%, loss=0.5967]\n"
     ]
    },
    {
     "name": "stdout",
     "output_type": "stream",
     "text": [
      "Epoch 57 Loss: 0.6163, Train Accuracy: 65.15%\n",
      "Test Loss: 0.6123, Test Accuracy: 65.49%\n"
     ]
    },
    {
     "name": "stderr",
     "output_type": "stream",
     "text": [
      "Epoch 58/100 - LR: 0.000031: 100%|██████████| 1743/1743 [02:51<00:00, 10.18it/s, acc=66.34%, loss=0.6089]\n"
     ]
    },
    {
     "name": "stdout",
     "output_type": "stream",
     "text": [
      "Epoch 58 Loss: 0.6162, Train Accuracy: 65.15%\n",
      "Test Loss: 0.6123, Test Accuracy: 65.50%\n"
     ]
    },
    {
     "name": "stderr",
     "output_type": "stream",
     "text": [
      "Epoch 59/100 - LR: 0.000031: 100%|██████████| 1743/1743 [02:53<00:00, 10.05it/s, acc=64.85%, loss=0.6088]\n"
     ]
    },
    {
     "name": "stdout",
     "output_type": "stream",
     "text": [
      "Epoch 59 Loss: 0.6162, Train Accuracy: 65.16%\n",
      "Test Loss: 0.6123, Test Accuracy: 65.48%\n"
     ]
    },
    {
     "name": "stderr",
     "output_type": "stream",
     "text": [
      "Epoch 60/100 - LR: 0.000031: 100%|██████████| 1743/1743 [02:51<00:00, 10.14it/s, acc=62.75%, loss=0.6264]\n"
     ]
    },
    {
     "name": "stdout",
     "output_type": "stream",
     "text": [
      "Epoch 60 Loss: 0.6162, Train Accuracy: 65.15%\n",
      "Test Loss: 0.6122, Test Accuracy: 65.51%\n"
     ]
    },
    {
     "name": "stderr",
     "output_type": "stream",
     "text": [
      "Epoch 61/100 - LR: 0.000031: 100%|██████████| 1743/1743 [02:46<00:00, 10.44it/s, acc=66.24%, loss=0.5998]\n"
     ]
    },
    {
     "name": "stdout",
     "output_type": "stream",
     "text": [
      "Epoch 61 Loss: 0.6161, Train Accuracy: 65.15%\n",
      "Test Loss: 0.6121, Test Accuracy: 65.52%\n"
     ]
    },
    {
     "name": "stderr",
     "output_type": "stream",
     "text": [
      "Epoch 62/100 - LR: 0.000031: 100%|██████████| 1743/1743 [02:50<00:00, 10.20it/s, acc=66.44%, loss=0.6060]\n"
     ]
    },
    {
     "name": "stdout",
     "output_type": "stream",
     "text": [
      "Epoch 62 Loss: 0.6162, Train Accuracy: 65.15%\n",
      "Test Loss: 0.6123, Test Accuracy: 65.50%\n"
     ]
    },
    {
     "name": "stderr",
     "output_type": "stream",
     "text": [
      "Epoch 63/100 - LR: 0.000031: 100%|██████████| 1743/1743 [02:42<00:00, 10.76it/s, acc=64.29%, loss=0.6188]\n"
     ]
    },
    {
     "name": "stdout",
     "output_type": "stream",
     "text": [
      "Epoch 63 Loss: 0.6161, Train Accuracy: 65.17%\n",
      "Test Loss: 0.6123, Test Accuracy: 65.50%\n",
      "Learning rate changed from 0.000031 to 0.000016\n"
     ]
    },
    {
     "name": "stderr",
     "output_type": "stream",
     "text": [
      "Epoch 64/100 - LR: 0.000016: 100%|██████████| 1743/1743 [02:53<00:00, 10.05it/s, acc=65.16%, loss=0.6238]\n"
     ]
    },
    {
     "name": "stdout",
     "output_type": "stream",
     "text": [
      "Epoch 64 Loss: 0.6160, Train Accuracy: 65.18%\n",
      "Test Loss: 0.6121, Test Accuracy: 65.53%\n"
     ]
    },
    {
     "name": "stderr",
     "output_type": "stream",
     "text": [
      "Epoch 65/100 - LR: 0.000016: 100%|██████████| 1743/1743 [02:56<00:00,  9.88it/s, acc=64.49%, loss=0.6205]\n"
     ]
    },
    {
     "name": "stdout",
     "output_type": "stream",
     "text": [
      "Epoch 65 Loss: 0.6159, Train Accuracy: 65.19%\n",
      "Test Loss: 0.6121, Test Accuracy: 65.52%\n"
     ]
    },
    {
     "name": "stderr",
     "output_type": "stream",
     "text": [
      "Epoch 66/100 - LR: 0.000016: 100%|██████████| 1743/1743 [03:03<00:00,  9.48it/s, acc=66.19%, loss=0.6034]\n"
     ]
    },
    {
     "name": "stdout",
     "output_type": "stream",
     "text": [
      "Epoch 66 Loss: 0.6158, Train Accuracy: 65.19%\n",
      "Test Loss: 0.6120, Test Accuracy: 65.52%\n"
     ]
    },
    {
     "name": "stderr",
     "output_type": "stream",
     "text": [
      "Epoch 67/100 - LR: 0.000016: 100%|██████████| 1743/1743 [02:58<00:00,  9.74it/s, acc=65.67%, loss=0.6064]\n"
     ]
    },
    {
     "name": "stdout",
     "output_type": "stream",
     "text": [
      "Epoch 67 Loss: 0.6158, Train Accuracy: 65.19%\n",
      "Test Loss: 0.6121, Test Accuracy: 65.52%\n"
     ]
    },
    {
     "name": "stderr",
     "output_type": "stream",
     "text": [
      "Epoch 68/100 - LR: 0.000016: 100%|██████████| 1743/1743 [02:55<00:00,  9.95it/s, acc=66.44%, loss=0.6127]\n"
     ]
    },
    {
     "name": "stdout",
     "output_type": "stream",
     "text": [
      "Epoch 68 Loss: 0.6158, Train Accuracy: 65.20%\n",
      "Test Loss: 0.6120, Test Accuracy: 65.54%\n",
      "Learning rate changed from 0.000016 to 0.000008\n"
     ]
    },
    {
     "name": "stderr",
     "output_type": "stream",
     "text": [
      "Epoch 69/100 - LR: 0.000008: 100%|██████████| 1743/1743 [02:53<00:00, 10.04it/s, acc=63.98%, loss=0.6203]\n"
     ]
    },
    {
     "name": "stdout",
     "output_type": "stream",
     "text": [
      "Epoch 69 Loss: 0.6157, Train Accuracy: 65.20%\n",
      "Test Loss: 0.6119, Test Accuracy: 65.52%\n"
     ]
    },
    {
     "name": "stderr",
     "output_type": "stream",
     "text": [
      "Epoch 70/100 - LR: 0.000008: 100%|██████████| 1743/1743 [02:53<00:00, 10.02it/s, acc=65.57%, loss=0.6165]\n"
     ]
    },
    {
     "name": "stdout",
     "output_type": "stream",
     "text": [
      "Epoch 70 Loss: 0.6157, Train Accuracy: 65.21%\n",
      "Test Loss: 0.6120, Test Accuracy: 65.53%\n"
     ]
    },
    {
     "name": "stderr",
     "output_type": "stream",
     "text": [
      "Epoch 71/100 - LR: 0.000008: 100%|██████████| 1743/1743 [02:36<00:00, 11.17it/s, acc=64.75%, loss=0.6137]\n"
     ]
    },
    {
     "name": "stdout",
     "output_type": "stream",
     "text": [
      "Epoch 71 Loss: 0.6157, Train Accuracy: 65.21%\n",
      "Test Loss: 0.6119, Test Accuracy: 65.53%\n"
     ]
    },
    {
     "name": "stderr",
     "output_type": "stream",
     "text": [
      "Epoch 72/100 - LR: 0.000008: 100%|██████████| 1743/1743 [02:33<00:00, 11.35it/s, acc=64.75%, loss=0.6113]\n"
     ]
    },
    {
     "name": "stdout",
     "output_type": "stream",
     "text": [
      "Epoch 72 Loss: 0.6157, Train Accuracy: 65.21%\n",
      "Test Loss: 0.6120, Test Accuracy: 65.52%\n",
      "Learning rate changed from 0.000008 to 0.000004\n"
     ]
    },
    {
     "name": "stderr",
     "output_type": "stream",
     "text": [
      "Epoch 73/100 - LR: 0.000004: 100%|██████████| 1743/1743 [02:32<00:00, 11.42it/s, acc=64.85%, loss=0.6202]\n"
     ]
    },
    {
     "name": "stdout",
     "output_type": "stream",
     "text": [
      "Epoch 73 Loss: 0.6156, Train Accuracy: 65.21%\n",
      "Test Loss: 0.6119, Test Accuracy: 65.53%\n"
     ]
    },
    {
     "name": "stderr",
     "output_type": "stream",
     "text": [
      "Epoch 74/100 - LR: 0.000004: 100%|██████████| 1743/1743 [02:32<00:00, 11.45it/s, acc=66.03%, loss=0.6125]\n"
     ]
    },
    {
     "name": "stdout",
     "output_type": "stream",
     "text": [
      "Epoch 74 Loss: 0.6156, Train Accuracy: 65.21%\n",
      "Test Loss: 0.6119, Test Accuracy: 65.53%\n"
     ]
    },
    {
     "name": "stderr",
     "output_type": "stream",
     "text": [
      "Epoch 75/100 - LR: 0.000004: 100%|██████████| 1743/1743 [02:32<00:00, 11.41it/s, acc=67.68%, loss=0.6031]\n"
     ]
    },
    {
     "name": "stdout",
     "output_type": "stream",
     "text": [
      "Epoch 75 Loss: 0.6156, Train Accuracy: 65.22%\n",
      "Test Loss: 0.6120, Test Accuracy: 65.53%\n",
      "Learning rate changed from 0.000004 to 0.000002\n"
     ]
    },
    {
     "name": "stderr",
     "output_type": "stream",
     "text": [
      "Epoch 76/100 - LR: 0.000002: 100%|██████████| 1743/1743 [02:45<00:00, 10.54it/s, acc=66.70%, loss=0.6075]\n"
     ]
    },
    {
     "name": "stdout",
     "output_type": "stream",
     "text": [
      "Epoch 76 Loss: 0.6155, Train Accuracy: 65.22%\n",
      "Test Loss: 0.6119, Test Accuracy: 65.55%\n"
     ]
    },
    {
     "name": "stderr",
     "output_type": "stream",
     "text": [
      "Epoch 77/100 - LR: 0.000002: 100%|██████████| 1743/1743 [03:06<00:00,  9.35it/s, acc=65.32%, loss=0.6163]\n"
     ]
    },
    {
     "name": "stdout",
     "output_type": "stream",
     "text": [
      "Epoch 77 Loss: 0.6156, Train Accuracy: 65.23%\n",
      "Test Loss: 0.6119, Test Accuracy: 65.54%\n"
     ]
    },
    {
     "name": "stderr",
     "output_type": "stream",
     "text": [
      "Epoch 78/100 - LR: 0.000002: 100%|██████████| 1743/1743 [02:57<00:00,  9.82it/s, acc=63.52%, loss=0.6249]\n"
     ]
    },
    {
     "name": "stdout",
     "output_type": "stream",
     "text": [
      "Epoch 78 Loss: 0.6155, Train Accuracy: 65.22%\n",
      "Test Loss: 0.6118, Test Accuracy: 65.54%\n"
     ]
    },
    {
     "name": "stderr",
     "output_type": "stream",
     "text": [
      "Epoch 79/100 - LR: 0.000002: 100%|██████████| 1743/1743 [02:25<00:00, 12.01it/s, acc=64.70%, loss=0.6168]\n"
     ]
    },
    {
     "name": "stdout",
     "output_type": "stream",
     "text": [
      "Epoch 79 Loss: 0.6155, Train Accuracy: 65.22%\n",
      "Test Loss: 0.6118, Test Accuracy: 65.54%\n"
     ]
    },
    {
     "name": "stderr",
     "output_type": "stream",
     "text": [
      "Epoch 80/100 - LR: 0.000002: 100%|██████████| 1743/1743 [02:23<00:00, 12.11it/s, acc=67.06%, loss=0.6002]\n"
     ]
    },
    {
     "name": "stdout",
     "output_type": "stream",
     "text": [
      "Epoch 80 Loss: 0.6155, Train Accuracy: 65.23%\n",
      "Test Loss: 0.6118, Test Accuracy: 65.54%\n"
     ]
    },
    {
     "name": "stderr",
     "output_type": "stream",
     "text": [
      "Epoch 81/100 - LR: 0.000002: 100%|██████████| 1743/1743 [02:23<00:00, 12.17it/s, acc=63.31%, loss=0.6214]\n"
     ]
    },
    {
     "name": "stdout",
     "output_type": "stream",
     "text": [
      "Epoch 81 Loss: 0.6155, Train Accuracy: 65.22%\n",
      "Test Loss: 0.6119, Test Accuracy: 65.54%\n",
      "Learning rate changed from 0.000002 to 0.000001\n"
     ]
    },
    {
     "name": "stderr",
     "output_type": "stream",
     "text": [
      "Epoch 82/100 - LR: 0.000001: 100%|██████████| 1743/1743 [02:23<00:00, 12.14it/s, acc=64.24%, loss=0.6267]\n"
     ]
    },
    {
     "name": "stdout",
     "output_type": "stream",
     "text": [
      "Epoch 82 Loss: 0.6155, Train Accuracy: 65.22%\n",
      "Test Loss: 0.6119, Test Accuracy: 65.53%\n"
     ]
    },
    {
     "name": "stderr",
     "output_type": "stream",
     "text": [
      "Epoch 83/100 - LR: 0.000001: 100%|██████████| 1743/1743 [02:38<00:00, 10.99it/s, acc=65.73%, loss=0.6078]\n"
     ]
    },
    {
     "name": "stdout",
     "output_type": "stream",
     "text": [
      "Epoch 83 Loss: 0.6155, Train Accuracy: 65.23%\n",
      "Test Loss: 0.6119, Test Accuracy: 65.55%\n"
     ]
    },
    {
     "name": "stderr",
     "output_type": "stream",
     "text": [
      "Epoch 84/100 - LR: 0.000001: 100%|██████████| 1743/1743 [03:03<00:00,  9.52it/s, acc=65.32%, loss=0.6160]\n"
     ]
    },
    {
     "name": "stdout",
     "output_type": "stream",
     "text": [
      "Epoch 84 Loss: 0.6155, Train Accuracy: 65.24%\n",
      "Test Loss: 0.6119, Test Accuracy: 65.54%\n",
      "Learning rate changed from 0.000001 to 0.000000\n"
     ]
    },
    {
     "name": "stderr",
     "output_type": "stream",
     "text": [
      "Epoch 85/100 - LR: 0.000000: 100%|██████████| 1743/1743 [02:26<00:00, 11.93it/s, acc=64.60%, loss=0.6198]\n"
     ]
    },
    {
     "name": "stdout",
     "output_type": "stream",
     "text": [
      "Epoch 85 Loss: 0.6155, Train Accuracy: 65.22%\n",
      "Test Loss: 0.6119, Test Accuracy: 65.55%\n",
      "Early stopping triggered at epoch 85. Best model was from epoch 76.\n"
     ]
    },
    {
     "ename": "",
     "evalue": "",
     "output_type": "error",
     "traceback": [
      "\u001b[1;31mThe Kernel crashed while executing code in the current cell or a previous cell. \n",
      "\u001b[1;31mPlease review the code in the cell(s) to identify a possible cause of the failure. \n",
      "\u001b[1;31mClick <a href='https://aka.ms/vscodeJupyterKernelCrash'>here</a> for more info. \n",
      "\u001b[1;31mView Jupyter <a href='command:jupyter.viewOutput'>log</a> for further details."
     ]
    }
   ],
   "source": [
    "import helper_functions\n",
    "class MLP(nn.Module):\n",
    "    def __init__(self):\n",
    "        super(MLP, self).__init__()\n",
    "        \n",
    "        self.model = nn.Sequential(\n",
    "            nn.Linear(X_train_pca.shape[1], 256), \n",
    "            nn.BatchNorm1d(256),\n",
    "            nn.ReLU(),\n",
    "            nn.Dropout(0.3),                            \n",
    "            \n",
    "            nn.Linear(256, 128),\n",
    "            nn.BatchNorm1d(128),\n",
    "            nn.ReLU(),\n",
    "            nn.Dropout(0.3),\n",
    "\n",
    "            nn.Linear(128, 64),\n",
    "            nn.BatchNorm1d(64),\n",
    "            nn.ReLU(),\n",
    "            nn.Dropout(0.3),\n",
    "\n",
    "            nn.Linear(64, 1) \n",
    "        )\n",
    "\n",
    "    def forward(self, x):\n",
    "        return self.model(x)\n",
    "    \n",
    "\n",
    "pca_features=['Census_OSInstallLanguageIdentifier', 'OsPlatformSubRelease', 'Census_InternalPrimaryDisplayResolutionHorizontal', 'dpi', 'Census_InternalPrimaryDisplayResolutionVertical', 'CountryIdentifier', 'IsSxsPassiveMode', 'RtpStateBitfield', 'OrganizationIdentifier', 'CityIdentifier', 'GeoNameIdentifier', 'Census_InternalBatteryNumberOfCharges', 'AvSigVersion', 'Census_HasOpticalDiskDrive', 'Census_ChassisTypeName', 'Census_OSBranch', 'Screen_Area', 'Census_GenuineStateName', 'Census_OSBuildRevision', 'Census_IsVirtualDevice', 'magic_4', 'LocaleEnglishNameIdentifier', 'Census_FirmwareVersionIdentifier', 'Census_OEMModelIdentifier', 'Census_MDC2FormFactor', 'Census_OSWUAutoUpdateOptionsName', 'Wdft_RegionIdentifier', 'AppVersion', 'Wdft_IsGamer', 'Firewall', 'Census_ProcessorModelIdentifier', 'Census_TotalPhysicalRAM', 'Census_FlightRing', 'IeVerIdentifier', 'Census_OEMNameIdentifier', 'DefaultBrowsersIdentifier', 'primary_drive_c_ratio', 'Census_PowerPlatformRoleName', 'Census_ProcessorCoreCount', 'Census_FirmwareManufacturerIdentifier', 'AVProductStatesIdentifier', 'SmartScreen', 'Census_OSInstallTypeName', 'Census_OSVersion', 'EngineVersion', 'aspect_ratio', 'IsProtected', 'AVProductsEnabled', 'Census_IsSecureBootEnabled', 'OsBuildLab', 'Processor', 'Census_ActivationChannel', 'OsBuild', 'Census_SystemVolumeTotalCapacity', 'Census_PrimaryDiskTypeName']\n",
    "device = torch.device('cuda' if torch.cuda.is_available() else 'cpu')\n",
    "X_train_pca= X_train[pca_features]\n",
    "X_valid_pca= X_valid[pca_features]\n",
    "X_train_pca_tensor = torch.tensor(X_train_pca.values, dtype=torch.float32).to(device)\n",
    "X_valid_pca_tensor = torch.tensor(X_valid_pca.values, dtype=torch.float32).to(device)\n",
    "y_train_tensor = torch.tensor(y_train.values, dtype=torch.float32).view(-1, 1).to(device)\n",
    "y_valid_tensor = torch.tensor(y_valid.values, dtype=torch.float32).view(-1, 1).to(device)\n",
    "pca_model = MLP()\n",
    "\n",
    "\n",
    "\n",
    "train_dataset = TensorDataset(X_train_pca_tensor, y_train_tensor)\n",
    "valid_dataset = TensorDataset(X_valid_pca_tensor, y_valid_tensor)\n",
    "criterion = nn.BCEWithLogitsLoss()\n",
    "optimizer = optim.Adam(pca_model.parameters(), weight_decay=1e-4,lr=0.001) \n",
    "pca_model.to(device)\n",
    "\n",
    "batch_size = 4096\n",
    "train_loader = DataLoader(train_dataset, batch_size=batch_size, shuffle=True)\n",
    "test_loader = DataLoader(valid_dataset, batch_size=batch_size, shuffle=False)\n",
    "scheduler = optim.lr_scheduler.ReduceLROnPlateau(optimizer, mode='min', factor=0.5, patience=2)  \n",
    "\n",
    "num_epochs = 100\n",
    "best_model_weights, pca_train_loss, pca, pca_train_accuracy, pca_test_accuracy, lrs = helper_functions.train_and_evaluate_model(pca_model, criterion, optimizer, scheduler, train_loader, test_loader, num_epochs,early_stopping_patience=5)\n",
    "torch.save(best_model_weights, '2hl_advanced_encodings_pca.pth')\n"
   ]
  },
  {
   "cell_type": "markdown",
   "metadata": {},
   "source": [
    "### Using LDA for feature Selection"
   ]
  },
  {
   "cell_type": "code",
   "execution_count": 13,
   "metadata": {},
   "outputs": [
    {
     "name": "stderr",
     "output_type": "stream",
     "text": [
      "Epoch 1/100 - LR: 0.001000: 100%|██████████| 1743/1743 [02:30<00:00, 11.58it/s, acc=62.96%, loss=0.6342]\n"
     ]
    },
    {
     "name": "stdout",
     "output_type": "stream",
     "text": [
      "Epoch 1 Loss: 0.6386, Train Accuracy: 62.62%\n",
      "Test Loss: 0.6261, Test Accuracy: 63.85%\n"
     ]
    },
    {
     "name": "stderr",
     "output_type": "stream",
     "text": [
      "Epoch 2/100 - LR: 0.001000: 100%|██████████| 1743/1743 [02:27<00:00, 11.80it/s, acc=65.83%, loss=0.6230]\n"
     ]
    },
    {
     "name": "stdout",
     "output_type": "stream",
     "text": [
      "Epoch 2 Loss: 0.6283, Train Accuracy: 63.76%\n",
      "Test Loss: 0.6234, Test Accuracy: 64.29%\n"
     ]
    },
    {
     "name": "stderr",
     "output_type": "stream",
     "text": [
      "Epoch 3/100 - LR: 0.001000: 100%|██████████| 1743/1743 [02:48<00:00, 10.37it/s, acc=63.83%, loss=0.6260]\n"
     ]
    },
    {
     "name": "stdout",
     "output_type": "stream",
     "text": [
      "Epoch 3 Loss: 0.6265, Train Accuracy: 64.02%\n",
      "Test Loss: 0.6217, Test Accuracy: 64.47%\n"
     ]
    },
    {
     "name": "stderr",
     "output_type": "stream",
     "text": [
      "Epoch 4/100 - LR: 0.001000: 100%|██████████| 1743/1743 [03:04<00:00,  9.43it/s, acc=63.37%, loss=0.6346]\n"
     ]
    },
    {
     "name": "stdout",
     "output_type": "stream",
     "text": [
      "Epoch 4 Loss: 0.6257, Train Accuracy: 64.14%\n",
      "Test Loss: 0.6211, Test Accuracy: 64.54%\n"
     ]
    },
    {
     "name": "stderr",
     "output_type": "stream",
     "text": [
      "Epoch 5/100 - LR: 0.001000: 100%|██████████| 1743/1743 [03:05<00:00,  9.41it/s, acc=64.60%, loss=0.6264]\n"
     ]
    },
    {
     "name": "stdout",
     "output_type": "stream",
     "text": [
      "Epoch 5 Loss: 0.6251, Train Accuracy: 64.20%\n",
      "Test Loss: 0.6212, Test Accuracy: 64.58%\n"
     ]
    },
    {
     "name": "stderr",
     "output_type": "stream",
     "text": [
      "Epoch 6/100 - LR: 0.001000: 100%|██████████| 1743/1743 [02:34<00:00, 11.27it/s, acc=63.57%, loss=0.6391]\n"
     ]
    },
    {
     "name": "stdout",
     "output_type": "stream",
     "text": [
      "Epoch 6 Loss: 0.6247, Train Accuracy: 64.25%\n",
      "Test Loss: 0.6204, Test Accuracy: 64.61%\n"
     ]
    },
    {
     "name": "stderr",
     "output_type": "stream",
     "text": [
      "Epoch 7/100 - LR: 0.001000: 100%|██████████| 1743/1743 [03:02<00:00,  9.54it/s, acc=62.90%, loss=0.6328]\n"
     ]
    },
    {
     "name": "stdout",
     "output_type": "stream",
     "text": [
      "Epoch 7 Loss: 0.6245, Train Accuracy: 64.27%\n",
      "Test Loss: 0.6202, Test Accuracy: 64.69%\n"
     ]
    },
    {
     "name": "stderr",
     "output_type": "stream",
     "text": [
      "Epoch 8/100 - LR: 0.001000: 100%|██████████| 1743/1743 [02:57<00:00,  9.84it/s, acc=63.21%, loss=0.6309]\n"
     ]
    },
    {
     "name": "stdout",
     "output_type": "stream",
     "text": [
      "Epoch 8 Loss: 0.6243, Train Accuracy: 64.29%\n",
      "Test Loss: 0.6199, Test Accuracy: 64.72%\n"
     ]
    },
    {
     "name": "stderr",
     "output_type": "stream",
     "text": [
      "Epoch 9/100 - LR: 0.001000: 100%|██████████| 1743/1743 [02:50<00:00, 10.25it/s, acc=63.52%, loss=0.6232]\n"
     ]
    },
    {
     "name": "stdout",
     "output_type": "stream",
     "text": [
      "Epoch 9 Loss: 0.6243, Train Accuracy: 64.30%\n",
      "Test Loss: 0.6199, Test Accuracy: 64.73%\n"
     ]
    },
    {
     "name": "stderr",
     "output_type": "stream",
     "text": [
      "Epoch 10/100 - LR: 0.001000: 100%|██████████| 1743/1743 [02:57<00:00,  9.82it/s, acc=64.34%, loss=0.6200]\n"
     ]
    },
    {
     "name": "stdout",
     "output_type": "stream",
     "text": [
      "Epoch 10 Loss: 0.6241, Train Accuracy: 64.33%\n",
      "Test Loss: 0.6198, Test Accuracy: 64.73%\n"
     ]
    },
    {
     "name": "stderr",
     "output_type": "stream",
     "text": [
      "Epoch 11/100 - LR: 0.001000: 100%|██████████| 1743/1743 [03:01<00:00,  9.60it/s, acc=63.98%, loss=0.6124]\n"
     ]
    },
    {
     "name": "stdout",
     "output_type": "stream",
     "text": [
      "Epoch 11 Loss: 0.6240, Train Accuracy: 64.33%\n",
      "Test Loss: 0.6198, Test Accuracy: 64.75%\n"
     ]
    },
    {
     "name": "stderr",
     "output_type": "stream",
     "text": [
      "Epoch 12/100 - LR: 0.001000: 100%|██████████| 1743/1743 [03:04<00:00,  9.46it/s, acc=63.98%, loss=0.6172]\n"
     ]
    },
    {
     "name": "stdout",
     "output_type": "stream",
     "text": [
      "Epoch 12 Loss: 0.6240, Train Accuracy: 64.34%\n",
      "Test Loss: 0.6197, Test Accuracy: 64.74%\n"
     ]
    },
    {
     "name": "stderr",
     "output_type": "stream",
     "text": [
      "Epoch 13/100 - LR: 0.001000: 100%|██████████| 1743/1743 [02:59<00:00,  9.72it/s, acc=62.24%, loss=0.6296]\n"
     ]
    },
    {
     "name": "stdout",
     "output_type": "stream",
     "text": [
      "Epoch 13 Loss: 0.6239, Train Accuracy: 64.34%\n",
      "Test Loss: 0.6193, Test Accuracy: 64.71%\n"
     ]
    },
    {
     "name": "stderr",
     "output_type": "stream",
     "text": [
      "Epoch 14/100 - LR: 0.001000: 100%|██████████| 1743/1743 [03:06<00:00,  9.35it/s, acc=64.19%, loss=0.6276]\n"
     ]
    },
    {
     "name": "stdout",
     "output_type": "stream",
     "text": [
      "Epoch 14 Loss: 0.6239, Train Accuracy: 64.36%\n",
      "Test Loss: 0.6196, Test Accuracy: 64.76%\n"
     ]
    },
    {
     "name": "stderr",
     "output_type": "stream",
     "text": [
      "Epoch 15/100 - LR: 0.001000: 100%|██████████| 1743/1743 [03:04<00:00,  9.47it/s, acc=64.70%, loss=0.6174]\n"
     ]
    },
    {
     "name": "stdout",
     "output_type": "stream",
     "text": [
      "Epoch 15 Loss: 0.6239, Train Accuracy: 64.35%\n",
      "Test Loss: 0.6196, Test Accuracy: 64.74%\n"
     ]
    },
    {
     "name": "stderr",
     "output_type": "stream",
     "text": [
      "Epoch 16/100 - LR: 0.001000: 100%|██████████| 1743/1743 [02:55<00:00,  9.93it/s, acc=62.08%, loss=0.6294]\n"
     ]
    },
    {
     "name": "stdout",
     "output_type": "stream",
     "text": [
      "Epoch 16 Loss: 0.6238, Train Accuracy: 64.35%\n",
      "Test Loss: 0.6192, Test Accuracy: 64.75%\n"
     ]
    },
    {
     "name": "stderr",
     "output_type": "stream",
     "text": [
      "Epoch 17/100 - LR: 0.001000: 100%|██████████| 1743/1743 [02:56<00:00,  9.89it/s, acc=62.65%, loss=0.6341]\n"
     ]
    },
    {
     "name": "stdout",
     "output_type": "stream",
     "text": [
      "Epoch 17 Loss: 0.6238, Train Accuracy: 64.37%\n",
      "Test Loss: 0.6194, Test Accuracy: 64.78%\n"
     ]
    },
    {
     "name": "stderr",
     "output_type": "stream",
     "text": [
      "Epoch 18/100 - LR: 0.001000: 100%|██████████| 1743/1743 [02:45<00:00, 10.54it/s, acc=63.37%, loss=0.6328]\n"
     ]
    },
    {
     "name": "stdout",
     "output_type": "stream",
     "text": [
      "Epoch 18 Loss: 0.6238, Train Accuracy: 64.36%\n",
      "Test Loss: 0.6197, Test Accuracy: 64.70%\n"
     ]
    },
    {
     "name": "stderr",
     "output_type": "stream",
     "text": [
      "Epoch 19/100 - LR: 0.001000: 100%|██████████| 1743/1743 [02:48<00:00, 10.34it/s, acc=64.34%, loss=0.6293]\n"
     ]
    },
    {
     "name": "stdout",
     "output_type": "stream",
     "text": [
      "Epoch 19 Loss: 0.6237, Train Accuracy: 64.36%\n",
      "Test Loss: 0.6193, Test Accuracy: 64.78%\n",
      "Learning rate changed from 0.001000 to 0.000500\n"
     ]
    },
    {
     "name": "stderr",
     "output_type": "stream",
     "text": [
      "Epoch 20/100 - LR: 0.000500: 100%|██████████| 1743/1743 [02:52<00:00, 10.08it/s, acc=63.26%, loss=0.6305]\n"
     ]
    },
    {
     "name": "stdout",
     "output_type": "stream",
     "text": [
      "Epoch 20 Loss: 0.6220, Train Accuracy: 64.56%\n",
      "Test Loss: 0.6175, Test Accuracy: 64.98%\n"
     ]
    },
    {
     "name": "stderr",
     "output_type": "stream",
     "text": [
      "Epoch 21/100 - LR: 0.000500: 100%|██████████| 1743/1743 [02:54<00:00,  9.99it/s, acc=63.26%, loss=0.6190]\n"
     ]
    },
    {
     "name": "stdout",
     "output_type": "stream",
     "text": [
      "Epoch 21 Loss: 0.6216, Train Accuracy: 64.60%\n",
      "Test Loss: 0.6171, Test Accuracy: 64.98%\n"
     ]
    },
    {
     "name": "stderr",
     "output_type": "stream",
     "text": [
      "Epoch 22/100 - LR: 0.000500: 100%|██████████| 1743/1743 [02:53<00:00, 10.02it/s, acc=63.78%, loss=0.6280]\n"
     ]
    },
    {
     "name": "stdout",
     "output_type": "stream",
     "text": [
      "Epoch 22 Loss: 0.6214, Train Accuracy: 64.63%\n",
      "Test Loss: 0.6172, Test Accuracy: 64.97%\n"
     ]
    },
    {
     "name": "stderr",
     "output_type": "stream",
     "text": [
      "Epoch 23/100 - LR: 0.000500: 100%|██████████| 1743/1743 [02:53<00:00, 10.03it/s, acc=64.34%, loss=0.6158]\n"
     ]
    },
    {
     "name": "stdout",
     "output_type": "stream",
     "text": [
      "Epoch 23 Loss: 0.6214, Train Accuracy: 64.64%\n",
      "Test Loss: 0.6171, Test Accuracy: 64.99%\n"
     ]
    },
    {
     "name": "stderr",
     "output_type": "stream",
     "text": [
      "Epoch 24/100 - LR: 0.000500: 100%|██████████| 1743/1743 [02:52<00:00, 10.12it/s, acc=66.39%, loss=0.6138]\n"
     ]
    },
    {
     "name": "stdout",
     "output_type": "stream",
     "text": [
      "Epoch 24 Loss: 0.6213, Train Accuracy: 64.64%\n",
      "Test Loss: 0.6169, Test Accuracy: 64.99%\n"
     ]
    },
    {
     "name": "stderr",
     "output_type": "stream",
     "text": [
      "Epoch 25/100 - LR: 0.000500: 100%|██████████| 1743/1743 [02:51<00:00, 10.18it/s, acc=64.96%, loss=0.6217]\n"
     ]
    },
    {
     "name": "stdout",
     "output_type": "stream",
     "text": [
      "Epoch 25 Loss: 0.6212, Train Accuracy: 64.65%\n",
      "Test Loss: 0.6166, Test Accuracy: 65.00%\n"
     ]
    },
    {
     "name": "stderr",
     "output_type": "stream",
     "text": [
      "Epoch 26/100 - LR: 0.000500: 100%|██████████| 1743/1743 [02:23<00:00, 12.16it/s, acc=65.83%, loss=0.6148]\n"
     ]
    },
    {
     "name": "stdout",
     "output_type": "stream",
     "text": [
      "Epoch 26 Loss: 0.6212, Train Accuracy: 64.65%\n",
      "Test Loss: 0.6168, Test Accuracy: 64.96%\n"
     ]
    },
    {
     "name": "stderr",
     "output_type": "stream",
     "text": [
      "Epoch 27/100 - LR: 0.000500: 100%|██████████| 1743/1743 [02:33<00:00, 11.35it/s, acc=64.85%, loss=0.6179]\n"
     ]
    },
    {
     "name": "stdout",
     "output_type": "stream",
     "text": [
      "Epoch 27 Loss: 0.6211, Train Accuracy: 64.66%\n",
      "Test Loss: 0.6167, Test Accuracy: 65.01%\n"
     ]
    },
    {
     "name": "stderr",
     "output_type": "stream",
     "text": [
      "Epoch 28/100 - LR: 0.000500: 100%|██████████| 1743/1743 [02:35<00:00, 11.18it/s, acc=63.62%, loss=0.6248]\n"
     ]
    },
    {
     "name": "stdout",
     "output_type": "stream",
     "text": [
      "Epoch 28 Loss: 0.6210, Train Accuracy: 64.67%\n",
      "Test Loss: 0.6164, Test Accuracy: 65.06%\n"
     ]
    },
    {
     "name": "stderr",
     "output_type": "stream",
     "text": [
      "Epoch 29/100 - LR: 0.000500: 100%|██████████| 1743/1743 [02:45<00:00, 10.52it/s, acc=65.78%, loss=0.6132]\n"
     ]
    },
    {
     "name": "stdout",
     "output_type": "stream",
     "text": [
      "Epoch 29 Loss: 0.6211, Train Accuracy: 64.66%\n",
      "Test Loss: 0.6166, Test Accuracy: 65.07%\n"
     ]
    },
    {
     "name": "stderr",
     "output_type": "stream",
     "text": [
      "Epoch 30/100 - LR: 0.000500: 100%|██████████| 1743/1743 [02:45<00:00, 10.55it/s, acc=65.26%, loss=0.6185]\n"
     ]
    },
    {
     "name": "stdout",
     "output_type": "stream",
     "text": [
      "Epoch 30 Loss: 0.6210, Train Accuracy: 64.67%\n",
      "Test Loss: 0.6170, Test Accuracy: 65.00%\n"
     ]
    },
    {
     "name": "stderr",
     "output_type": "stream",
     "text": [
      "Epoch 31/100 - LR: 0.000500: 100%|██████████| 1743/1743 [02:30<00:00, 11.56it/s, acc=63.67%, loss=0.6339]\n"
     ]
    },
    {
     "name": "stdout",
     "output_type": "stream",
     "text": [
      "Epoch 31 Loss: 0.6210, Train Accuracy: 64.67%\n",
      "Test Loss: 0.6166, Test Accuracy: 65.03%\n",
      "Learning rate changed from 0.000500 to 0.000250\n"
     ]
    },
    {
     "name": "stderr",
     "output_type": "stream",
     "text": [
      "Epoch 32/100 - LR: 0.000250: 100%|██████████| 1743/1743 [02:28<00:00, 11.73it/s, acc=63.83%, loss=0.6326]\n"
     ]
    },
    {
     "name": "stdout",
     "output_type": "stream",
     "text": [
      "Epoch 32 Loss: 0.6197, Train Accuracy: 64.81%\n",
      "Test Loss: 0.6151, Test Accuracy: 65.15%\n"
     ]
    },
    {
     "name": "stderr",
     "output_type": "stream",
     "text": [
      "Epoch 33/100 - LR: 0.000250: 100%|██████████| 1743/1743 [02:28<00:00, 11.75it/s, acc=64.60%, loss=0.6264]\n"
     ]
    },
    {
     "name": "stdout",
     "output_type": "stream",
     "text": [
      "Epoch 33 Loss: 0.6194, Train Accuracy: 64.82%\n",
      "Test Loss: 0.6152, Test Accuracy: 65.19%\n"
     ]
    },
    {
     "name": "stderr",
     "output_type": "stream",
     "text": [
      "Epoch 34/100 - LR: 0.000250: 100%|██████████| 1743/1743 [02:28<00:00, 11.77it/s, acc=64.91%, loss=0.6196]\n"
     ]
    },
    {
     "name": "stdout",
     "output_type": "stream",
     "text": [
      "Epoch 34 Loss: 0.6193, Train Accuracy: 64.86%\n",
      "Test Loss: 0.6152, Test Accuracy: 65.14%\n"
     ]
    },
    {
     "name": "stderr",
     "output_type": "stream",
     "text": [
      "Epoch 35/100 - LR: 0.000250: 100%|██████████| 1743/1743 [02:29<00:00, 11.66it/s, acc=63.83%, loss=0.6190]\n"
     ]
    },
    {
     "name": "stdout",
     "output_type": "stream",
     "text": [
      "Epoch 35 Loss: 0.6193, Train Accuracy: 64.84%\n",
      "Test Loss: 0.6151, Test Accuracy: 65.21%\n",
      "Learning rate changed from 0.000250 to 0.000125\n"
     ]
    },
    {
     "name": "stderr",
     "output_type": "stream",
     "text": [
      "Epoch 36/100 - LR: 0.000125: 100%|██████████| 1743/1743 [02:28<00:00, 11.73it/s, acc=64.70%, loss=0.6239]\n"
     ]
    },
    {
     "name": "stdout",
     "output_type": "stream",
     "text": [
      "Epoch 36 Loss: 0.6184, Train Accuracy: 64.94%\n",
      "Test Loss: 0.6142, Test Accuracy: 65.26%\n"
     ]
    },
    {
     "name": "stderr",
     "output_type": "stream",
     "text": [
      "Epoch 37/100 - LR: 0.000125: 100%|██████████| 1743/1743 [02:28<00:00, 11.73it/s, acc=64.96%, loss=0.6188]\n"
     ]
    },
    {
     "name": "stdout",
     "output_type": "stream",
     "text": [
      "Epoch 37 Loss: 0.6182, Train Accuracy: 64.95%\n",
      "Test Loss: 0.6141, Test Accuracy: 65.27%\n"
     ]
    },
    {
     "name": "stderr",
     "output_type": "stream",
     "text": [
      "Epoch 38/100 - LR: 0.000125: 100%|██████████| 1743/1743 [02:24<00:00, 12.03it/s, acc=65.11%, loss=0.6215]\n"
     ]
    },
    {
     "name": "stdout",
     "output_type": "stream",
     "text": [
      "Epoch 38 Loss: 0.6181, Train Accuracy: 64.98%\n",
      "Test Loss: 0.6140, Test Accuracy: 65.30%\n"
     ]
    },
    {
     "name": "stderr",
     "output_type": "stream",
     "text": [
      "Epoch 39/100 - LR: 0.000125: 100%|██████████| 1743/1743 [02:25<00:00, 11.99it/s, acc=65.26%, loss=0.6248]\n"
     ]
    },
    {
     "name": "stdout",
     "output_type": "stream",
     "text": [
      "Epoch 39 Loss: 0.6180, Train Accuracy: 64.99%\n",
      "Test Loss: 0.6140, Test Accuracy: 65.27%\n"
     ]
    },
    {
     "name": "stderr",
     "output_type": "stream",
     "text": [
      "Epoch 40/100 - LR: 0.000125: 100%|██████████| 1743/1743 [02:24<00:00, 12.05it/s, acc=63.67%, loss=0.6270]\n"
     ]
    },
    {
     "name": "stdout",
     "output_type": "stream",
     "text": [
      "Epoch 40 Loss: 0.6179, Train Accuracy: 65.01%\n",
      "Test Loss: 0.6139, Test Accuracy: 65.30%\n"
     ]
    },
    {
     "name": "stderr",
     "output_type": "stream",
     "text": [
      "Epoch 41/100 - LR: 0.000125: 100%|██████████| 1743/1743 [02:25<00:00, 11.97it/s, acc=64.39%, loss=0.6196]\n"
     ]
    },
    {
     "name": "stdout",
     "output_type": "stream",
     "text": [
      "Epoch 41 Loss: 0.6179, Train Accuracy: 64.98%\n",
      "Test Loss: 0.6138, Test Accuracy: 65.30%\n"
     ]
    },
    {
     "name": "stderr",
     "output_type": "stream",
     "text": [
      "Epoch 42/100 - LR: 0.000125: 100%|██████████| 1743/1743 [02:24<00:00, 12.06it/s, acc=63.47%, loss=0.6313]\n"
     ]
    },
    {
     "name": "stdout",
     "output_type": "stream",
     "text": [
      "Epoch 42 Loss: 0.6178, Train Accuracy: 65.01%\n",
      "Test Loss: 0.6138, Test Accuracy: 65.33%\n"
     ]
    },
    {
     "name": "stderr",
     "output_type": "stream",
     "text": [
      "Epoch 43/100 - LR: 0.000125: 100%|██████████| 1743/1743 [02:30<00:00, 11.55it/s, acc=63.37%, loss=0.6215]\n"
     ]
    },
    {
     "name": "stdout",
     "output_type": "stream",
     "text": [
      "Epoch 43 Loss: 0.6179, Train Accuracy: 65.00%\n",
      "Test Loss: 0.6138, Test Accuracy: 65.30%\n"
     ]
    },
    {
     "name": "stderr",
     "output_type": "stream",
     "text": [
      "Epoch 44/100 - LR: 0.000125: 100%|██████████| 1743/1743 [02:25<00:00, 12.02it/s, acc=65.47%, loss=0.6132]\n"
     ]
    },
    {
     "name": "stdout",
     "output_type": "stream",
     "text": [
      "Epoch 44 Loss: 0.6179, Train Accuracy: 64.99%\n",
      "Test Loss: 0.6139, Test Accuracy: 65.34%\n",
      "Learning rate changed from 0.000125 to 0.000063\n"
     ]
    },
    {
     "name": "stderr",
     "output_type": "stream",
     "text": [
      "Epoch 45/100 - LR: 0.000063: 100%|██████████| 1743/1743 [02:25<00:00, 11.98it/s, acc=64.44%, loss=0.6207]\n"
     ]
    },
    {
     "name": "stdout",
     "output_type": "stream",
     "text": [
      "Epoch 45 Loss: 0.6172, Train Accuracy: 65.07%\n",
      "Test Loss: 0.6132, Test Accuracy: 65.38%\n"
     ]
    },
    {
     "name": "stderr",
     "output_type": "stream",
     "text": [
      "Epoch 46/100 - LR: 0.000063: 100%|██████████| 1743/1743 [02:23<00:00, 12.18it/s, acc=65.11%, loss=0.6152]\n"
     ]
    },
    {
     "name": "stdout",
     "output_type": "stream",
     "text": [
      "Epoch 46 Loss: 0.6172, Train Accuracy: 65.08%\n",
      "Test Loss: 0.6131, Test Accuracy: 65.39%\n"
     ]
    },
    {
     "name": "stderr",
     "output_type": "stream",
     "text": [
      "Epoch 47/100 - LR: 0.000063: 100%|██████████| 1743/1743 [02:24<00:00, 12.03it/s, acc=64.96%, loss=0.6199]\n"
     ]
    },
    {
     "name": "stdout",
     "output_type": "stream",
     "text": [
      "Epoch 47 Loss: 0.6172, Train Accuracy: 65.06%\n",
      "Test Loss: 0.6132, Test Accuracy: 65.39%\n"
     ]
    },
    {
     "name": "stderr",
     "output_type": "stream",
     "text": [
      "Epoch 48/100 - LR: 0.000063: 100%|██████████| 1743/1743 [02:26<00:00, 11.94it/s, acc=65.57%, loss=0.6017]\n"
     ]
    },
    {
     "name": "stdout",
     "output_type": "stream",
     "text": [
      "Epoch 48 Loss: 0.6170, Train Accuracy: 65.08%\n",
      "Test Loss: 0.6132, Test Accuracy: 65.39%\n",
      "Learning rate changed from 0.000063 to 0.000031\n"
     ]
    },
    {
     "name": "stderr",
     "output_type": "stream",
     "text": [
      "Epoch 49/100 - LR: 0.000031: 100%|██████████| 1743/1743 [02:33<00:00, 11.39it/s, acc=65.88%, loss=0.6183]\n"
     ]
    },
    {
     "name": "stdout",
     "output_type": "stream",
     "text": [
      "Epoch 49 Loss: 0.6167, Train Accuracy: 65.12%\n",
      "Test Loss: 0.6129, Test Accuracy: 65.41%\n"
     ]
    },
    {
     "name": "stderr",
     "output_type": "stream",
     "text": [
      "Epoch 50/100 - LR: 0.000031: 100%|██████████| 1743/1743 [02:24<00:00, 12.03it/s, acc=65.67%, loss=0.6182]\n"
     ]
    },
    {
     "name": "stdout",
     "output_type": "stream",
     "text": [
      "Epoch 50 Loss: 0.6165, Train Accuracy: 65.14%\n",
      "Test Loss: 0.6128, Test Accuracy: 65.42%\n"
     ]
    },
    {
     "name": "stderr",
     "output_type": "stream",
     "text": [
      "Epoch 51/100 - LR: 0.000031: 100%|██████████| 1743/1743 [02:25<00:00, 12.01it/s, acc=65.98%, loss=0.6154]\n"
     ]
    },
    {
     "name": "stdout",
     "output_type": "stream",
     "text": [
      "Epoch 51 Loss: 0.6166, Train Accuracy: 65.15%\n",
      "Test Loss: 0.6128, Test Accuracy: 65.41%\n"
     ]
    },
    {
     "name": "stderr",
     "output_type": "stream",
     "text": [
      "Epoch 52/100 - LR: 0.000031: 100%|██████████| 1743/1743 [02:24<00:00, 12.02it/s, acc=65.62%, loss=0.6184]\n"
     ]
    },
    {
     "name": "stdout",
     "output_type": "stream",
     "text": [
      "Epoch 52 Loss: 0.6165, Train Accuracy: 65.13%\n",
      "Test Loss: 0.6127, Test Accuracy: 65.43%\n"
     ]
    },
    {
     "name": "stderr",
     "output_type": "stream",
     "text": [
      "Epoch 53/100 - LR: 0.000031: 100%|██████████| 1743/1743 [02:24<00:00, 12.08it/s, acc=65.06%, loss=0.6118]\n"
     ]
    },
    {
     "name": "stdout",
     "output_type": "stream",
     "text": [
      "Epoch 53 Loss: 0.6166, Train Accuracy: 65.14%\n",
      "Test Loss: 0.6127, Test Accuracy: 65.43%\n"
     ]
    },
    {
     "name": "stderr",
     "output_type": "stream",
     "text": [
      "Epoch 54/100 - LR: 0.000031: 100%|██████████| 1743/1743 [02:24<00:00, 12.05it/s, acc=64.44%, loss=0.6177]\n"
     ]
    },
    {
     "name": "stdout",
     "output_type": "stream",
     "text": [
      "Epoch 54 Loss: 0.6165, Train Accuracy: 65.15%\n",
      "Test Loss: 0.6127, Test Accuracy: 65.43%\n"
     ]
    },
    {
     "name": "stderr",
     "output_type": "stream",
     "text": [
      "Epoch 55/100 - LR: 0.000031: 100%|██████████| 1743/1743 [02:24<00:00, 12.06it/s, acc=64.75%, loss=0.6208]\n"
     ]
    },
    {
     "name": "stdout",
     "output_type": "stream",
     "text": [
      "Epoch 55 Loss: 0.6165, Train Accuracy: 65.15%\n",
      "Test Loss: 0.6127, Test Accuracy: 65.43%\n"
     ]
    },
    {
     "name": "stderr",
     "output_type": "stream",
     "text": [
      "Epoch 56/100 - LR: 0.000031: 100%|██████████| 1743/1743 [02:24<00:00, 12.04it/s, acc=64.85%, loss=0.6195]\n"
     ]
    },
    {
     "name": "stdout",
     "output_type": "stream",
     "text": [
      "Epoch 56 Loss: 0.6164, Train Accuracy: 65.14%\n",
      "Test Loss: 0.6126, Test Accuracy: 65.43%\n"
     ]
    },
    {
     "name": "stderr",
     "output_type": "stream",
     "text": [
      "Epoch 57/100 - LR: 0.000031: 100%|██████████| 1743/1743 [02:24<00:00, 12.02it/s, acc=65.83%, loss=0.6110]\n"
     ]
    },
    {
     "name": "stdout",
     "output_type": "stream",
     "text": [
      "Epoch 57 Loss: 0.6164, Train Accuracy: 65.14%\n",
      "Test Loss: 0.6127, Test Accuracy: 65.43%\n"
     ]
    },
    {
     "name": "stderr",
     "output_type": "stream",
     "text": [
      "Epoch 58/100 - LR: 0.000031: 100%|██████████| 1743/1743 [02:25<00:00, 12.02it/s, acc=65.88%, loss=0.6150]\n"
     ]
    },
    {
     "name": "stdout",
     "output_type": "stream",
     "text": [
      "Epoch 58 Loss: 0.6163, Train Accuracy: 65.16%\n",
      "Test Loss: 0.6126, Test Accuracy: 65.43%\n",
      "Learning rate changed from 0.000031 to 0.000016\n"
     ]
    },
    {
     "name": "stderr",
     "output_type": "stream",
     "text": [
      "Epoch 59/100 - LR: 0.000016: 100%|██████████| 1743/1743 [02:25<00:00, 11.97it/s, acc=63.31%, loss=0.6275]\n"
     ]
    },
    {
     "name": "stdout",
     "output_type": "stream",
     "text": [
      "Epoch 59 Loss: 0.6163, Train Accuracy: 65.17%\n",
      "Test Loss: 0.6126, Test Accuracy: 65.45%\n"
     ]
    },
    {
     "name": "stderr",
     "output_type": "stream",
     "text": [
      "Epoch 60/100 - LR: 0.000016: 100%|██████████| 1743/1743 [02:25<00:00, 11.98it/s, acc=65.16%, loss=0.6226]\n"
     ]
    },
    {
     "name": "stdout",
     "output_type": "stream",
     "text": [
      "Epoch 60 Loss: 0.6162, Train Accuracy: 65.18%\n",
      "Test Loss: 0.6125, Test Accuracy: 65.45%\n"
     ]
    },
    {
     "name": "stderr",
     "output_type": "stream",
     "text": [
      "Epoch 61/100 - LR: 0.000016: 100%|██████████| 1743/1743 [02:24<00:00, 12.04it/s, acc=65.06%, loss=0.6140]\n"
     ]
    },
    {
     "name": "stdout",
     "output_type": "stream",
     "text": [
      "Epoch 61 Loss: 0.6161, Train Accuracy: 65.18%\n",
      "Test Loss: 0.6124, Test Accuracy: 65.45%\n"
     ]
    },
    {
     "name": "stderr",
     "output_type": "stream",
     "text": [
      "Epoch 62/100 - LR: 0.000016: 100%|██████████| 1743/1743 [02:24<00:00, 12.05it/s, acc=66.80%, loss=0.6068]\n"
     ]
    },
    {
     "name": "stdout",
     "output_type": "stream",
     "text": [
      "Epoch 62 Loss: 0.6161, Train Accuracy: 65.17%\n",
      "Test Loss: 0.6126, Test Accuracy: 65.46%\n"
     ]
    },
    {
     "name": "stderr",
     "output_type": "stream",
     "text": [
      "Epoch 63/100 - LR: 0.000016: 100%|██████████| 1743/1743 [02:24<00:00, 12.04it/s, acc=65.52%, loss=0.6141]\n"
     ]
    },
    {
     "name": "stdout",
     "output_type": "stream",
     "text": [
      "Epoch 63 Loss: 0.6161, Train Accuracy: 65.17%\n",
      "Test Loss: 0.6124, Test Accuracy: 65.46%\n"
     ]
    },
    {
     "name": "stderr",
     "output_type": "stream",
     "text": [
      "Epoch 64/100 - LR: 0.000016: 100%|██████████| 1743/1743 [02:25<00:00, 11.95it/s, acc=63.98%, loss=0.6246]\n"
     ]
    },
    {
     "name": "stdout",
     "output_type": "stream",
     "text": [
      "Epoch 64 Loss: 0.6161, Train Accuracy: 65.19%\n",
      "Test Loss: 0.6124, Test Accuracy: 65.48%\n",
      "Learning rate changed from 0.000016 to 0.000008\n"
     ]
    },
    {
     "name": "stderr",
     "output_type": "stream",
     "text": [
      "Epoch 65/100 - LR: 0.000008: 100%|██████████| 1743/1743 [02:24<00:00, 12.09it/s, acc=65.57%, loss=0.6066]\n"
     ]
    },
    {
     "name": "stdout",
     "output_type": "stream",
     "text": [
      "Epoch 65 Loss: 0.6160, Train Accuracy: 65.19%\n",
      "Test Loss: 0.6124, Test Accuracy: 65.47%\n"
     ]
    },
    {
     "name": "stderr",
     "output_type": "stream",
     "text": [
      "Epoch 66/100 - LR: 0.000008: 100%|██████████| 1743/1743 [02:26<00:00, 11.91it/s, acc=65.52%, loss=0.6149]\n"
     ]
    },
    {
     "name": "stdout",
     "output_type": "stream",
     "text": [
      "Epoch 66 Loss: 0.6160, Train Accuracy: 65.19%\n",
      "Test Loss: 0.6124, Test Accuracy: 65.47%\n"
     ]
    },
    {
     "name": "stderr",
     "output_type": "stream",
     "text": [
      "Epoch 67/100 - LR: 0.000008: 100%|██████████| 1743/1743 [02:25<00:00, 12.00it/s, acc=64.14%, loss=0.6265]\n"
     ]
    },
    {
     "name": "stdout",
     "output_type": "stream",
     "text": [
      "Epoch 67 Loss: 0.6159, Train Accuracy: 65.19%\n",
      "Test Loss: 0.6123, Test Accuracy: 65.48%\n"
     ]
    },
    {
     "name": "stderr",
     "output_type": "stream",
     "text": [
      "Epoch 68/100 - LR: 0.000008: 100%|██████████| 1743/1743 [02:25<00:00, 11.97it/s, acc=64.60%, loss=0.6127]\n"
     ]
    },
    {
     "name": "stdout",
     "output_type": "stream",
     "text": [
      "Epoch 68 Loss: 0.6160, Train Accuracy: 65.20%\n",
      "Test Loss: 0.6123, Test Accuracy: 65.47%\n",
      "Learning rate changed from 0.000008 to 0.000004\n"
     ]
    },
    {
     "name": "stderr",
     "output_type": "stream",
     "text": [
      "Epoch 69/100 - LR: 0.000004: 100%|██████████| 1743/1743 [02:26<00:00, 11.93it/s, acc=64.39%, loss=0.6285]\n"
     ]
    },
    {
     "name": "stdout",
     "output_type": "stream",
     "text": [
      "Epoch 69 Loss: 0.6159, Train Accuracy: 65.21%\n",
      "Test Loss: 0.6123, Test Accuracy: 65.47%\n"
     ]
    },
    {
     "name": "stderr",
     "output_type": "stream",
     "text": [
      "Epoch 70/100 - LR: 0.000004: 100%|██████████| 1743/1743 [02:25<00:00, 11.98it/s, acc=66.14%, loss=0.6072]\n"
     ]
    },
    {
     "name": "stdout",
     "output_type": "stream",
     "text": [
      "Epoch 70 Loss: 0.6159, Train Accuracy: 65.20%\n",
      "Test Loss: 0.6124, Test Accuracy: 65.48%\n"
     ]
    },
    {
     "name": "stderr",
     "output_type": "stream",
     "text": [
      "Epoch 71/100 - LR: 0.000004: 100%|██████████| 1743/1743 [02:25<00:00, 12.02it/s, acc=66.75%, loss=0.6013]\n"
     ]
    },
    {
     "name": "stdout",
     "output_type": "stream",
     "text": [
      "Epoch 71 Loss: 0.6159, Train Accuracy: 65.18%\n",
      "Test Loss: 0.6124, Test Accuracy: 65.48%\n",
      "Learning rate changed from 0.000004 to 0.000002\n"
     ]
    },
    {
     "name": "stderr",
     "output_type": "stream",
     "text": [
      "Epoch 72/100 - LR: 0.000002: 100%|██████████| 1743/1743 [02:27<00:00, 11.81it/s, acc=64.65%, loss=0.6146]\n"
     ]
    },
    {
     "name": "stdout",
     "output_type": "stream",
     "text": [
      "Epoch 72 Loss: 0.6158, Train Accuracy: 65.20%\n",
      "Test Loss: 0.6123, Test Accuracy: 65.47%\n"
     ]
    },
    {
     "name": "stderr",
     "output_type": "stream",
     "text": [
      "Epoch 73/100 - LR: 0.000002: 100%|██████████| 1743/1743 [02:25<00:00, 11.97it/s, acc=66.44%, loss=0.6069]\n"
     ]
    },
    {
     "name": "stdout",
     "output_type": "stream",
     "text": [
      "Epoch 73 Loss: 0.6158, Train Accuracy: 65.20%\n",
      "Test Loss: 0.6123, Test Accuracy: 65.48%\n"
     ]
    },
    {
     "name": "stderr",
     "output_type": "stream",
     "text": [
      "Epoch 74/100 - LR: 0.000002: 100%|██████████| 1743/1743 [02:25<00:00, 11.99it/s, acc=65.88%, loss=0.6181]\n"
     ]
    },
    {
     "name": "stdout",
     "output_type": "stream",
     "text": [
      "Epoch 74 Loss: 0.6158, Train Accuracy: 65.19%\n",
      "Test Loss: 0.6123, Test Accuracy: 65.47%\n"
     ]
    },
    {
     "name": "stderr",
     "output_type": "stream",
     "text": [
      "Epoch 75/100 - LR: 0.000002: 100%|██████████| 1743/1743 [02:22<00:00, 12.23it/s, acc=66.09%, loss=0.6160] \n"
     ]
    },
    {
     "name": "stdout",
     "output_type": "stream",
     "text": [
      "Epoch 75 Loss: 0.6159, Train Accuracy: 65.20%\n",
      "Test Loss: 0.6123, Test Accuracy: 65.47%\n",
      "Learning rate changed from 0.000002 to 0.000001\n"
     ]
    },
    {
     "name": "stderr",
     "output_type": "stream",
     "text": [
      "Epoch 76/100 - LR: 0.000001: 100%|██████████| 1743/1743 [02:25<00:00, 11.95it/s, acc=65.16%, loss=0.6103]\n"
     ]
    },
    {
     "name": "stdout",
     "output_type": "stream",
     "text": [
      "Epoch 76 Loss: 0.6158, Train Accuracy: 65.20%\n",
      "Test Loss: 0.6124, Test Accuracy: 65.48%\n"
     ]
    },
    {
     "name": "stderr",
     "output_type": "stream",
     "text": [
      "Epoch 77/100 - LR: 0.000001: 100%|██████████| 1743/1743 [02:25<00:00, 11.97it/s, acc=66.75%, loss=0.6050]\n"
     ]
    },
    {
     "name": "stdout",
     "output_type": "stream",
     "text": [
      "Epoch 77 Loss: 0.6158, Train Accuracy: 65.22%\n",
      "Test Loss: 0.6123, Test Accuracy: 65.48%\n"
     ]
    },
    {
     "name": "stderr",
     "output_type": "stream",
     "text": [
      "Epoch 78/100 - LR: 0.000001: 100%|██████████| 1743/1743 [02:26<00:00, 11.93it/s, acc=63.93%, loss=0.6261]\n"
     ]
    },
    {
     "name": "stdout",
     "output_type": "stream",
     "text": [
      "Epoch 78 Loss: 0.6158, Train Accuracy: 65.22%\n",
      "Test Loss: 0.6123, Test Accuracy: 65.47%\n",
      "Learning rate changed from 0.000001 to 0.000000\n"
     ]
    },
    {
     "name": "stderr",
     "output_type": "stream",
     "text": [
      "Epoch 79/100 - LR: 0.000000: 100%|██████████| 1743/1743 [02:25<00:00, 11.96it/s, acc=66.19%, loss=0.6185]\n"
     ]
    },
    {
     "name": "stdout",
     "output_type": "stream",
     "text": [
      "Epoch 79 Loss: 0.6158, Train Accuracy: 65.21%\n",
      "Test Loss: 0.6123, Test Accuracy: 65.48%\n"
     ]
    },
    {
     "name": "stderr",
     "output_type": "stream",
     "text": [
      "Epoch 80/100 - LR: 0.000000: 100%|██████████| 1743/1743 [02:26<00:00, 11.90it/s, acc=65.26%, loss=0.6088]\n"
     ]
    },
    {
     "name": "stdout",
     "output_type": "stream",
     "text": [
      "Epoch 80 Loss: 0.6158, Train Accuracy: 65.21%\n",
      "Test Loss: 0.6124, Test Accuracy: 65.48%\n"
     ]
    },
    {
     "name": "stderr",
     "output_type": "stream",
     "text": [
      "Epoch 81/100 - LR: 0.000000: 100%|██████████| 1743/1743 [02:26<00:00, 11.93it/s, acc=64.60%, loss=0.6192]\n"
     ]
    },
    {
     "name": "stdout",
     "output_type": "stream",
     "text": [
      "Epoch 81 Loss: 0.6158, Train Accuracy: 65.22%\n",
      "Test Loss: 0.6123, Test Accuracy: 65.48%\n",
      "Learning rate changed from 0.000000 to 0.000000\n"
     ]
    },
    {
     "name": "stderr",
     "output_type": "stream",
     "text": [
      "Epoch 82/100 - LR: 0.000000: 100%|██████████| 1743/1743 [02:26<00:00, 11.92it/s, acc=64.08%, loss=0.6196]\n"
     ]
    },
    {
     "name": "stdout",
     "output_type": "stream",
     "text": [
      "Epoch 82 Loss: 0.6157, Train Accuracy: 65.21%\n",
      "Test Loss: 0.6123, Test Accuracy: 65.48%\n"
     ]
    },
    {
     "name": "stderr",
     "output_type": "stream",
     "text": [
      "Epoch 83/100 - LR: 0.000000: 100%|██████████| 1743/1743 [02:25<00:00, 11.97it/s, acc=66.29%, loss=0.6051]\n"
     ]
    },
    {
     "name": "stdout",
     "output_type": "stream",
     "text": [
      "Epoch 83 Loss: 0.6158, Train Accuracy: 65.21%\n",
      "Test Loss: 0.6123, Test Accuracy: 65.48%\n"
     ]
    },
    {
     "name": "stderr",
     "output_type": "stream",
     "text": [
      "Epoch 84/100 - LR: 0.000000: 100%|██████████| 1743/1743 [02:25<00:00, 12.00it/s, acc=66.96%, loss=0.6055]\n"
     ]
    },
    {
     "name": "stdout",
     "output_type": "stream",
     "text": [
      "Epoch 84 Loss: 0.6158, Train Accuracy: 65.22%\n",
      "Test Loss: 0.6123, Test Accuracy: 65.48%\n",
      "Learning rate changed from 0.000000 to 0.000000\n"
     ]
    },
    {
     "name": "stderr",
     "output_type": "stream",
     "text": [
      "Epoch 85/100 - LR: 0.000000: 100%|██████████| 1743/1743 [02:26<00:00, 11.89it/s, acc=65.32%, loss=0.6098]\n"
     ]
    },
    {
     "name": "stdout",
     "output_type": "stream",
     "text": [
      "Epoch 85 Loss: 0.6158, Train Accuracy: 65.21%\n",
      "Test Loss: 0.6123, Test Accuracy: 65.48%\n"
     ]
    },
    {
     "name": "stderr",
     "output_type": "stream",
     "text": [
      "Epoch 86/100 - LR: 0.000000: 100%|██████████| 1743/1743 [02:24<00:00, 12.02it/s, acc=66.39%, loss=0.6095]\n"
     ]
    },
    {
     "name": "stdout",
     "output_type": "stream",
     "text": [
      "Epoch 86 Loss: 0.6158, Train Accuracy: 65.21%\n",
      "Test Loss: 0.6123, Test Accuracy: 65.48%\n"
     ]
    },
    {
     "name": "stderr",
     "output_type": "stream",
     "text": [
      "Epoch 87/100 - LR: 0.000000: 100%|██████████| 1743/1743 [02:26<00:00, 11.92it/s, acc=66.34%, loss=0.6056]\n"
     ]
    },
    {
     "name": "stdout",
     "output_type": "stream",
     "text": [
      "Epoch 87 Loss: 0.6157, Train Accuracy: 65.21%\n",
      "Test Loss: 0.6123, Test Accuracy: 65.48%\n",
      "Learning rate changed from 0.000000 to 0.000000\n"
     ]
    },
    {
     "name": "stderr",
     "output_type": "stream",
     "text": [
      "Epoch 88/100 - LR: 0.000000: 100%|██████████| 1743/1743 [02:26<00:00, 11.90it/s, acc=65.37%, loss=0.6164]\n"
     ]
    },
    {
     "name": "stdout",
     "output_type": "stream",
     "text": [
      "Epoch 88 Loss: 0.6158, Train Accuracy: 65.21%\n",
      "Test Loss: 0.6123, Test Accuracy: 65.47%\n"
     ]
    },
    {
     "name": "stderr",
     "output_type": "stream",
     "text": [
      "Epoch 89/100 - LR: 0.000000: 100%|██████████| 1743/1743 [02:26<00:00, 11.93it/s, acc=67.73%, loss=0.6021]\n"
     ]
    },
    {
     "name": "stdout",
     "output_type": "stream",
     "text": [
      "Epoch 89 Loss: 0.6158, Train Accuracy: 65.21%\n",
      "Test Loss: 0.6123, Test Accuracy: 65.48%\n"
     ]
    },
    {
     "name": "stderr",
     "output_type": "stream",
     "text": [
      "Epoch 90/100 - LR: 0.000000: 100%|██████████| 1743/1743 [02:26<00:00, 11.91it/s, acc=65.42%, loss=0.6107]\n"
     ]
    },
    {
     "name": "stdout",
     "output_type": "stream",
     "text": [
      "Epoch 90 Loss: 0.6158, Train Accuracy: 65.21%\n",
      "Test Loss: 0.6123, Test Accuracy: 65.47%\n",
      "Learning rate changed from 0.000000 to 0.000000\n",
      "Early stopping triggered at epoch 90. Best model was from epoch 83.\n"
     ]
    }
   ],
   "source": [
    "import helper_functions\n",
    "import torch\n",
    "import torch.nn as nn\n",
    "import torch.optim as optim\n",
    "from torch.utils.data import TensorDataset, DataLoader\n",
    "\n",
    "# Define the feature list selected by LDA\n",
    "lda_selected_features = [\n",
    "    'Firewall', 'Census_OEMModelIdentifier', 'Census_FirmwareManufacturerIdentifier', 'Census_OEMNameIdentifier',\n",
    "    'IeVerIdentifier', 'Census_PrimaryDiskTypeName', 'IsSxsPassiveMode', 'OsBuildLab', 'AVProductsEnabled',\n",
    "    'Census_InternalPrimaryDisplayResolutionVertical', 'Screen_Area', 'Census_MDC2FormFactor',\n",
    "    'Wdft_RegionIdentifier', 'AppVersion', 'AvSigVersion', 'Census_ProcessorModelIdentifier',\n",
    "    'Census_ProcessorCoreCount', 'Census_FlightRing', 'Census_ActivationChannel', 'Census_SystemVolumeTotalCapacity',\n",
    "    'Census_OSInstallLanguageIdentifier', 'aspect_ratio', 'RtpStateBitfield', 'Census_IsSecureBootEnabled',\n",
    "    'Census_GenuineStateName', 'OsSuite', 'LocaleEnglishNameIdentifier', 'OsPlatformSubRelease',\n",
    "    'Census_TotalPhysicalRAM', 'Census_PowerPlatformRoleName', 'magic_4', 'Census_OSUILocaleIdentifier',\n",
    "    'Census_HasOpticalDiskDrive', 'DefaultBrowsersIdentifier', 'Census_InternalPrimaryDiagonalDisplaySizeInInches',\n",
    "    'Census_OSBranch', 'Census_OSVersion', 'AVProductsInstalled_slim', 'OsBuild',\n",
    "    'Census_InternalBatteryNumberOfCharges', 'Wdft_IsGamer', 'Census_OSInstallTypeName', 'SkuEdition',\n",
    "    'IsProtected', 'Census_IsVirtualDevice', 'primary_drive_c_ratio', 'Processor',\n",
    "    'Census_InternalPrimaryDisplayResolutionHorizontal', 'SmartScreen', 'AVProductStatesIdentifier',\n",
    "    'EngineVersion', 'dpi', 'AVProductsInstalled', 'Census_OSSkuName', 'Census_OSEdition'\n",
    "]\n",
    "\n",
    "# Prepare the data\n",
    "X_train_lda_fs = X_train[lda_selected_features]\n",
    "X_valid_lda_fs = X_valid[lda_selected_features]\n",
    "\n",
    "device = torch.device('cuda' if torch.cuda.is_available() else 'cpu')\n",
    "X_train_tensor = torch.tensor(X_train_lda_fs.values, dtype=torch.float32).to(device)\n",
    "X_valid_tensor = torch.tensor(X_valid_lda_fs.values, dtype=torch.float32).to(device)\n",
    "y_train_tensor = torch.tensor(y_train.values, dtype=torch.float32).view(-1, 1).to(device)\n",
    "y_valid_tensor = torch.tensor(y_valid.values, dtype=torch.float32).view(-1, 1).to(device)\n",
    "\n",
    "# Create datasets and loaders\n",
    "train_dataset = TensorDataset(X_train_tensor, y_train_tensor)\n",
    "valid_dataset = TensorDataset(X_valid_tensor, y_valid_tensor)\n",
    "batch_size = 4096\n",
    "train_loader = DataLoader(train_dataset, batch_size=batch_size, shuffle=True)\n",
    "test_loader = DataLoader(valid_dataset, batch_size=batch_size, shuffle=False)\n",
    "\n",
    "# Define the model (same architecture as PCA model)\n",
    "class MLP(nn.Module):\n",
    "    def __init__(self):\n",
    "        super(MLP, self).__init__()\n",
    "        self.model = nn.Sequential(\n",
    "            nn.Linear(X_train_lda_fs.shape[1], 256),\n",
    "            nn.BatchNorm1d(256),\n",
    "            nn.ReLU(),\n",
    "            nn.Dropout(0.3),\n",
    "\n",
    "            nn.Linear(256, 128),\n",
    "            nn.BatchNorm1d(128),\n",
    "            nn.ReLU(),\n",
    "            nn.Dropout(0.3),\n",
    "\n",
    "            nn.Linear(128, 64),\n",
    "            nn.BatchNorm1d(64),\n",
    "            nn.ReLU(),\n",
    "            nn.Dropout(0.3),\n",
    "\n",
    "            nn.Linear(64, 1)\n",
    "        )\n",
    "\n",
    "    def forward(self, x):\n",
    "        return self.model(x)\n",
    "\n",
    "# Initialize model, loss, optimizer\n",
    "lda_fs_model = MLP().to(device)\n",
    "criterion = nn.BCEWithLogitsLoss()\n",
    "optimizer = optim.Adam(lda_fs_model.parameters(), weight_decay=1e-4, lr=0.001)\n",
    "scheduler = optim.lr_scheduler.ReduceLROnPlateau(optimizer, mode='min', factor=0.5, patience=2)\n",
    "\n",
    "# Train the model\n",
    "num_epochs = 100\n",
    "best_model_weights, lda_fs_train_loss, lda_fs_model_trained, lda_fs_train_accuracy, lda_fs_test_accuracy, lrs = helper_functions.train_and_evaluate_model(\n",
    "    lda_fs_model, criterion, optimizer, scheduler, train_loader, test_loader, num_epochs\n",
    ")\n"
   ]
  },
  {
   "cell_type": "code",
   "execution_count": null,
   "metadata": {},
   "outputs": [
    {
     "name": "stderr",
     "output_type": "stream",
     "text": [
      "Epoch 1/100 - LR: 0.001000: 100%|██████████| 1743/1743 [02:17<00:00, 12.72it/s, acc=59.21%, loss=0.6521]\n"
     ]
    },
    {
     "name": "stdout",
     "output_type": "stream",
     "text": [
      "Epoch 1 Loss: 0.6545, Train Accuracy: 59.63%\n",
      "Test Loss: 0.6462, Test Accuracy: 60.80%\n"
     ]
    },
    {
     "name": "stderr",
     "output_type": "stream",
     "text": [
      "Epoch 2/100 - LR: 0.001000: 100%|██████████| 1743/1743 [02:45<00:00, 10.52it/s, acc=60.90%, loss=0.6467]\n"
     ]
    },
    {
     "name": "stdout",
     "output_type": "stream",
     "text": [
      "Epoch 2 Loss: 0.6470, Train Accuracy: 60.69%\n",
      "Test Loss: 0.6440, Test Accuracy: 61.18%\n"
     ]
    },
    {
     "name": "stderr",
     "output_type": "stream",
     "text": [
      "Epoch 3/100 - LR: 0.001000: 100%|██████████| 1743/1743 [02:30<00:00, 11.59it/s, acc=59.83%, loss=0.6489]\n"
     ]
    },
    {
     "name": "stdout",
     "output_type": "stream",
     "text": [
      "Epoch 3 Loss: 0.6457, Train Accuracy: 60.91%\n",
      "Test Loss: 0.6428, Test Accuracy: 61.31%\n"
     ]
    },
    {
     "name": "stderr",
     "output_type": "stream",
     "text": [
      "Epoch 4/100 - LR: 0.001000: 100%|██████████| 1743/1743 [02:31<00:00, 11.50it/s, acc=59.16%, loss=0.6536]\n"
     ]
    },
    {
     "name": "stdout",
     "output_type": "stream",
     "text": [
      "Epoch 4 Loss: 0.6452, Train Accuracy: 61.00%\n",
      "Test Loss: 0.6428, Test Accuracy: 61.34%\n"
     ]
    },
    {
     "name": "stderr",
     "output_type": "stream",
     "text": [
      "Epoch 5/100 - LR: 0.001000: 100%|██████████| 1743/1743 [02:33<00:00, 11.35it/s, acc=59.98%, loss=0.6448]\n"
     ]
    },
    {
     "name": "stdout",
     "output_type": "stream",
     "text": [
      "Epoch 5 Loss: 0.6451, Train Accuracy: 61.03%\n",
      "Test Loss: 0.6422, Test Accuracy: 61.37%\n"
     ]
    },
    {
     "name": "stderr",
     "output_type": "stream",
     "text": [
      "Epoch 6/100 - LR: 0.001000: 100%|██████████| 1743/1743 [02:34<00:00, 11.28it/s, acc=62.60%, loss=0.6396]\n"
     ]
    },
    {
     "name": "stdout",
     "output_type": "stream",
     "text": [
      "Epoch 6 Loss: 0.6448, Train Accuracy: 61.05%\n",
      "Test Loss: 0.6421, Test Accuracy: 61.42%\n"
     ]
    },
    {
     "name": "stderr",
     "output_type": "stream",
     "text": [
      "Epoch 7/100 - LR: 0.001000: 100%|██████████| 1743/1743 [02:32<00:00, 11.43it/s, acc=60.24%, loss=0.6473]\n"
     ]
    },
    {
     "name": "stdout",
     "output_type": "stream",
     "text": [
      "Epoch 7 Loss: 0.6447, Train Accuracy: 61.08%\n",
      "Test Loss: 0.6419, Test Accuracy: 61.46%\n"
     ]
    },
    {
     "name": "stderr",
     "output_type": "stream",
     "text": [
      "Epoch 8/100 - LR: 0.001000: 100%|██████████| 1743/1743 [02:33<00:00, 11.35it/s, acc=60.80%, loss=0.6471]\n"
     ]
    },
    {
     "name": "stdout",
     "output_type": "stream",
     "text": [
      "Epoch 8 Loss: 0.6446, Train Accuracy: 61.09%\n",
      "Test Loss: 0.6424, Test Accuracy: 61.37%\n"
     ]
    },
    {
     "name": "stderr",
     "output_type": "stream",
     "text": [
      "Epoch 9/100 - LR: 0.001000: 100%|██████████| 1743/1743 [02:49<00:00, 10.26it/s, acc=61.06%, loss=0.6390]\n"
     ]
    },
    {
     "name": "stdout",
     "output_type": "stream",
     "text": [
      "Epoch 9 Loss: 0.6446, Train Accuracy: 61.09%\n",
      "Test Loss: 0.6420, Test Accuracy: 61.37%\n"
     ]
    },
    {
     "name": "stderr",
     "output_type": "stream",
     "text": [
      "Epoch 10/100 - LR: 0.001000: 100%|██████████| 1743/1743 [02:51<00:00, 10.17it/s, acc=60.34%, loss=0.6489]\n"
     ]
    },
    {
     "name": "stdout",
     "output_type": "stream",
     "text": [
      "Epoch 10 Loss: 0.6445, Train Accuracy: 61.09%\n",
      "Test Loss: 0.6423, Test Accuracy: 61.43%\n",
      "Learning rate changed from 0.001000 to 0.000500\n"
     ]
    },
    {
     "name": "stderr",
     "output_type": "stream",
     "text": [
      "Epoch 11/100 - LR: 0.000500: 100%|██████████| 1743/1743 [02:59<00:00,  9.72it/s, acc=59.77%, loss=0.6461]\n"
     ]
    },
    {
     "name": "stdout",
     "output_type": "stream",
     "text": [
      "Epoch 11 Loss: 0.6435, Train Accuracy: 61.26%\n",
      "Test Loss: 0.6408, Test Accuracy: 61.62%\n"
     ]
    },
    {
     "name": "stderr",
     "output_type": "stream",
     "text": [
      "Epoch 12/100 - LR: 0.000500: 100%|██████████| 1743/1743 [02:59<00:00,  9.74it/s, acc=60.65%, loss=0.6424]\n"
     ]
    },
    {
     "name": "stdout",
     "output_type": "stream",
     "text": [
      "Epoch 12 Loss: 0.6434, Train Accuracy: 61.26%\n",
      "Test Loss: 0.6406, Test Accuracy: 61.60%\n"
     ]
    },
    {
     "name": "stderr",
     "output_type": "stream",
     "text": [
      "Epoch 13/100 - LR: 0.000500:  69%|██████▉   | 1199/1743 [01:49<00:49, 10.91it/s, acc=60.40%, loss=0.6443]\n"
     ]
    },
    {
     "ename": "KeyboardInterrupt",
     "evalue": "",
     "output_type": "error",
     "traceback": [
      "\u001b[1;31m---------------------------------------------------------------------------\u001b[0m",
      "\u001b[1;31mKeyboardInterrupt\u001b[0m                         Traceback (most recent call last)",
      "Cell \u001b[1;32mIn[15], line 54\u001b[0m\n\u001b[0;32m     51\u001b[0m scheduler \u001b[38;5;241m=\u001b[39m optim\u001b[38;5;241m.\u001b[39mlr_scheduler\u001b[38;5;241m.\u001b[39mReduceLROnPlateau(optimizer, mode\u001b[38;5;241m=\u001b[39m\u001b[38;5;124m'\u001b[39m\u001b[38;5;124mmin\u001b[39m\u001b[38;5;124m'\u001b[39m, factor\u001b[38;5;241m=\u001b[39m\u001b[38;5;241m0.5\u001b[39m, patience\u001b[38;5;241m=\u001b[39m\u001b[38;5;241m2\u001b[39m)  \n\u001b[0;32m     53\u001b[0m num_epochs \u001b[38;5;241m=\u001b[39m \u001b[38;5;241m100\u001b[39m\n\u001b[1;32m---> 54\u001b[0m best_model_weights, pca_train_loss, pca, pca_train_accuracy, pca_test_accuracy, lrs \u001b[38;5;241m=\u001b[39m \u001b[43mhelper_functions\u001b[49m\u001b[38;5;241;43m.\u001b[39;49m\u001b[43mtrain_and_evaluate_model\u001b[49m\u001b[43m(\u001b[49m\u001b[43mpca_model\u001b[49m\u001b[43m,\u001b[49m\u001b[43m \u001b[49m\u001b[43mcriterion\u001b[49m\u001b[43m,\u001b[49m\u001b[43m \u001b[49m\u001b[43moptimizer\u001b[49m\u001b[43m,\u001b[49m\u001b[43m \u001b[49m\u001b[43mscheduler\u001b[49m\u001b[43m,\u001b[49m\u001b[43m \u001b[49m\u001b[43mtrain_loader\u001b[49m\u001b[43m,\u001b[49m\u001b[43m \u001b[49m\u001b[43mtest_loader\u001b[49m\u001b[43m,\u001b[49m\u001b[43m \u001b[49m\u001b[43mnum_epochs\u001b[49m\u001b[43m)\u001b[49m\n",
      "File \u001b[1;32mc:\\Users\\jithi\\OneDrive\\Desktop\\ML project\\helper_functions.py:81\u001b[0m, in \u001b[0;36mtrain_and_evaluate_model\u001b[1;34m(model, criterion, optimizer, scheduler, train_loader, test_loader, epochs, early_stopping_patience)\u001b[0m\n\u001b[0;32m     79\u001b[0m \u001b[38;5;28;01mwith\u001b[39;00m tqdm(train_loader, desc\u001b[38;5;241m=\u001b[39m\u001b[38;5;124mf\u001b[39m\u001b[38;5;124m'\u001b[39m\u001b[38;5;124mEpoch \u001b[39m\u001b[38;5;132;01m{\u001b[39;00mepoch\u001b[38;5;241m+\u001b[39m\u001b[38;5;241m1\u001b[39m\u001b[38;5;132;01m}\u001b[39;00m\u001b[38;5;124m/\u001b[39m\u001b[38;5;132;01m{\u001b[39;00mepochs\u001b[38;5;132;01m}\u001b[39;00m\u001b[38;5;124m - LR: \u001b[39m\u001b[38;5;132;01m{\u001b[39;00mcurrent_lr\u001b[38;5;132;01m:\u001b[39;00m\u001b[38;5;124m.6f\u001b[39m\u001b[38;5;132;01m}\u001b[39;00m\u001b[38;5;124m'\u001b[39m) \u001b[38;5;28;01mas\u001b[39;00m pbar:\n\u001b[0;32m     80\u001b[0m     lrs\u001b[38;5;241m.\u001b[39mappend(current_lr)\n\u001b[1;32m---> 81\u001b[0m     \u001b[38;5;28;01mfor\u001b[39;00m X_batch, y_batch \u001b[38;5;129;01min\u001b[39;00m pbar:\n\u001b[0;32m     82\u001b[0m         X_batch, y_batch \u001b[38;5;241m=\u001b[39m X_batch\u001b[38;5;241m.\u001b[39mto(\u001b[38;5;124m'\u001b[39m\u001b[38;5;124mcuda\u001b[39m\u001b[38;5;124m'\u001b[39m), y_batch\u001b[38;5;241m.\u001b[39mto(\u001b[38;5;124m'\u001b[39m\u001b[38;5;124mcuda\u001b[39m\u001b[38;5;124m'\u001b[39m)\n\u001b[0;32m     83\u001b[0m         optimizer\u001b[38;5;241m.\u001b[39mzero_grad()\n",
      "File \u001b[1;32mc:\\Users\\jithi\\anaconda3\\envs\\fai_labs_3.10\\lib\\site-packages\\tqdm\\std.py:1181\u001b[0m, in \u001b[0;36mtqdm.__iter__\u001b[1;34m(self)\u001b[0m\n\u001b[0;32m   1178\u001b[0m time \u001b[38;5;241m=\u001b[39m \u001b[38;5;28mself\u001b[39m\u001b[38;5;241m.\u001b[39m_time\n\u001b[0;32m   1180\u001b[0m \u001b[38;5;28;01mtry\u001b[39;00m:\n\u001b[1;32m-> 1181\u001b[0m     \u001b[38;5;28;01mfor\u001b[39;00m obj \u001b[38;5;129;01min\u001b[39;00m iterable:\n\u001b[0;32m   1182\u001b[0m         \u001b[38;5;28;01myield\u001b[39;00m obj\n\u001b[0;32m   1183\u001b[0m         \u001b[38;5;66;03m# Update and possibly print the progressbar.\u001b[39;00m\n\u001b[0;32m   1184\u001b[0m         \u001b[38;5;66;03m# Note: does not call self.update(1) for speed optimisation.\u001b[39;00m\n",
      "File \u001b[1;32mc:\\Users\\jithi\\anaconda3\\envs\\fai_labs_3.10\\lib\\site-packages\\torch\\utils\\data\\dataloader.py:630\u001b[0m, in \u001b[0;36m_BaseDataLoaderIter.__next__\u001b[1;34m(self)\u001b[0m\n\u001b[0;32m    627\u001b[0m \u001b[38;5;28;01mif\u001b[39;00m \u001b[38;5;28mself\u001b[39m\u001b[38;5;241m.\u001b[39m_sampler_iter \u001b[38;5;129;01mis\u001b[39;00m \u001b[38;5;28;01mNone\u001b[39;00m:\n\u001b[0;32m    628\u001b[0m     \u001b[38;5;66;03m# TODO(https://github.com/pytorch/pytorch/issues/76750)\u001b[39;00m\n\u001b[0;32m    629\u001b[0m     \u001b[38;5;28mself\u001b[39m\u001b[38;5;241m.\u001b[39m_reset()  \u001b[38;5;66;03m# type: ignore[call-arg]\u001b[39;00m\n\u001b[1;32m--> 630\u001b[0m data \u001b[38;5;241m=\u001b[39m \u001b[38;5;28;43mself\u001b[39;49m\u001b[38;5;241;43m.\u001b[39;49m\u001b[43m_next_data\u001b[49m\u001b[43m(\u001b[49m\u001b[43m)\u001b[49m\n\u001b[0;32m    631\u001b[0m \u001b[38;5;28mself\u001b[39m\u001b[38;5;241m.\u001b[39m_num_yielded \u001b[38;5;241m+\u001b[39m\u001b[38;5;241m=\u001b[39m \u001b[38;5;241m1\u001b[39m\n\u001b[0;32m    632\u001b[0m \u001b[38;5;28;01mif\u001b[39;00m \u001b[38;5;28mself\u001b[39m\u001b[38;5;241m.\u001b[39m_dataset_kind \u001b[38;5;241m==\u001b[39m _DatasetKind\u001b[38;5;241m.\u001b[39mIterable \u001b[38;5;129;01mand\u001b[39;00m \\\n\u001b[0;32m    633\u001b[0m         \u001b[38;5;28mself\u001b[39m\u001b[38;5;241m.\u001b[39m_IterableDataset_len_called \u001b[38;5;129;01mis\u001b[39;00m \u001b[38;5;129;01mnot\u001b[39;00m \u001b[38;5;28;01mNone\u001b[39;00m \u001b[38;5;129;01mand\u001b[39;00m \\\n\u001b[0;32m    634\u001b[0m         \u001b[38;5;28mself\u001b[39m\u001b[38;5;241m.\u001b[39m_num_yielded \u001b[38;5;241m>\u001b[39m \u001b[38;5;28mself\u001b[39m\u001b[38;5;241m.\u001b[39m_IterableDataset_len_called:\n",
      "File \u001b[1;32mc:\\Users\\jithi\\anaconda3\\envs\\fai_labs_3.10\\lib\\site-packages\\torch\\utils\\data\\dataloader.py:673\u001b[0m, in \u001b[0;36m_SingleProcessDataLoaderIter._next_data\u001b[1;34m(self)\u001b[0m\n\u001b[0;32m    671\u001b[0m \u001b[38;5;28;01mdef\u001b[39;00m \u001b[38;5;21m_next_data\u001b[39m(\u001b[38;5;28mself\u001b[39m):\n\u001b[0;32m    672\u001b[0m     index \u001b[38;5;241m=\u001b[39m \u001b[38;5;28mself\u001b[39m\u001b[38;5;241m.\u001b[39m_next_index()  \u001b[38;5;66;03m# may raise StopIteration\u001b[39;00m\n\u001b[1;32m--> 673\u001b[0m     data \u001b[38;5;241m=\u001b[39m \u001b[38;5;28;43mself\u001b[39;49m\u001b[38;5;241;43m.\u001b[39;49m\u001b[43m_dataset_fetcher\u001b[49m\u001b[38;5;241;43m.\u001b[39;49m\u001b[43mfetch\u001b[49m\u001b[43m(\u001b[49m\u001b[43mindex\u001b[49m\u001b[43m)\u001b[49m  \u001b[38;5;66;03m# may raise StopIteration\u001b[39;00m\n\u001b[0;32m    674\u001b[0m     \u001b[38;5;28;01mif\u001b[39;00m \u001b[38;5;28mself\u001b[39m\u001b[38;5;241m.\u001b[39m_pin_memory:\n\u001b[0;32m    675\u001b[0m         data \u001b[38;5;241m=\u001b[39m _utils\u001b[38;5;241m.\u001b[39mpin_memory\u001b[38;5;241m.\u001b[39mpin_memory(data, \u001b[38;5;28mself\u001b[39m\u001b[38;5;241m.\u001b[39m_pin_memory_device)\n",
      "File \u001b[1;32mc:\\Users\\jithi\\anaconda3\\envs\\fai_labs_3.10\\lib\\site-packages\\torch\\utils\\data\\_utils\\fetch.py:52\u001b[0m, in \u001b[0;36m_MapDatasetFetcher.fetch\u001b[1;34m(self, possibly_batched_index)\u001b[0m\n\u001b[0;32m     50\u001b[0m         data \u001b[38;5;241m=\u001b[39m \u001b[38;5;28mself\u001b[39m\u001b[38;5;241m.\u001b[39mdataset\u001b[38;5;241m.\u001b[39m__getitems__(possibly_batched_index)\n\u001b[0;32m     51\u001b[0m     \u001b[38;5;28;01melse\u001b[39;00m:\n\u001b[1;32m---> 52\u001b[0m         data \u001b[38;5;241m=\u001b[39m [\u001b[38;5;28mself\u001b[39m\u001b[38;5;241m.\u001b[39mdataset[idx] \u001b[38;5;28;01mfor\u001b[39;00m idx \u001b[38;5;129;01min\u001b[39;00m possibly_batched_index]\n\u001b[0;32m     53\u001b[0m \u001b[38;5;28;01melse\u001b[39;00m:\n\u001b[0;32m     54\u001b[0m     data \u001b[38;5;241m=\u001b[39m \u001b[38;5;28mself\u001b[39m\u001b[38;5;241m.\u001b[39mdataset[possibly_batched_index]\n",
      "File \u001b[1;32mc:\\Users\\jithi\\anaconda3\\envs\\fai_labs_3.10\\lib\\site-packages\\torch\\utils\\data\\_utils\\fetch.py:52\u001b[0m, in \u001b[0;36m<listcomp>\u001b[1;34m(.0)\u001b[0m\n\u001b[0;32m     50\u001b[0m         data \u001b[38;5;241m=\u001b[39m \u001b[38;5;28mself\u001b[39m\u001b[38;5;241m.\u001b[39mdataset\u001b[38;5;241m.\u001b[39m__getitems__(possibly_batched_index)\n\u001b[0;32m     51\u001b[0m     \u001b[38;5;28;01melse\u001b[39;00m:\n\u001b[1;32m---> 52\u001b[0m         data \u001b[38;5;241m=\u001b[39m [\u001b[38;5;28;43mself\u001b[39;49m\u001b[38;5;241;43m.\u001b[39;49m\u001b[43mdataset\u001b[49m\u001b[43m[\u001b[49m\u001b[43midx\u001b[49m\u001b[43m]\u001b[49m \u001b[38;5;28;01mfor\u001b[39;00m idx \u001b[38;5;129;01min\u001b[39;00m possibly_batched_index]\n\u001b[0;32m     53\u001b[0m \u001b[38;5;28;01melse\u001b[39;00m:\n\u001b[0;32m     54\u001b[0m     data \u001b[38;5;241m=\u001b[39m \u001b[38;5;28mself\u001b[39m\u001b[38;5;241m.\u001b[39mdataset[possibly_batched_index]\n",
      "File \u001b[1;32mc:\\Users\\jithi\\anaconda3\\envs\\fai_labs_3.10\\lib\\site-packages\\torch\\utils\\data\\dataset.py:211\u001b[0m, in \u001b[0;36mTensorDataset.__getitem__\u001b[1;34m(self, index)\u001b[0m\n\u001b[0;32m    210\u001b[0m \u001b[38;5;28;01mdef\u001b[39;00m \u001b[38;5;21m__getitem__\u001b[39m(\u001b[38;5;28mself\u001b[39m, index):\n\u001b[1;32m--> 211\u001b[0m     \u001b[38;5;28;01mreturn\u001b[39;00m \u001b[38;5;28;43mtuple\u001b[39;49m\u001b[43m(\u001b[49m\u001b[43mtensor\u001b[49m\u001b[43m[\u001b[49m\u001b[43mindex\u001b[49m\u001b[43m]\u001b[49m\u001b[43m \u001b[49m\u001b[38;5;28;43;01mfor\u001b[39;49;00m\u001b[43m \u001b[49m\u001b[43mtensor\u001b[49m\u001b[43m \u001b[49m\u001b[38;5;129;43;01min\u001b[39;49;00m\u001b[43m \u001b[49m\u001b[38;5;28;43mself\u001b[39;49m\u001b[38;5;241;43m.\u001b[39;49m\u001b[43mtensors\u001b[49m\u001b[43m)\u001b[49m\n",
      "File \u001b[1;32mc:\\Users\\jithi\\anaconda3\\envs\\fai_labs_3.10\\lib\\site-packages\\torch\\utils\\data\\dataset.py:211\u001b[0m, in \u001b[0;36m<genexpr>\u001b[1;34m(.0)\u001b[0m\n\u001b[0;32m    210\u001b[0m \u001b[38;5;28;01mdef\u001b[39;00m \u001b[38;5;21m__getitem__\u001b[39m(\u001b[38;5;28mself\u001b[39m, index):\n\u001b[1;32m--> 211\u001b[0m     \u001b[38;5;28;01mreturn\u001b[39;00m \u001b[38;5;28mtuple\u001b[39m(tensor[index] \u001b[38;5;28;01mfor\u001b[39;00m tensor \u001b[38;5;129;01min\u001b[39;00m \u001b[38;5;28mself\u001b[39m\u001b[38;5;241m.\u001b[39mtensors)\n",
      "\u001b[1;31mKeyboardInterrupt\u001b[0m: "
     ]
    }
   ],
   "source": [
    "#top 28 features\n",
    "\n",
    "# Stopped running it as accuracy was not improving\n",
    "import helper_functions\n",
    "class MLP(nn.Module):\n",
    "    def __init__(self):\n",
    "        super(MLP, self).__init__()\n",
    "        \n",
    "        self.model = nn.Sequential(\n",
    "            nn.Linear(X_train_pca.shape[1], 256), \n",
    "            nn.BatchNorm1d(256),\n",
    "            nn.ReLU(),\n",
    "            nn.Dropout(0.3),                            \n",
    "            \n",
    "            nn.Linear(256, 128),\n",
    "            nn.BatchNorm1d(128),\n",
    "            nn.ReLU(),\n",
    "            nn.Dropout(0.3),\n",
    "\n",
    "            nn.Linear(128, 64),\n",
    "            nn.BatchNorm1d(64),\n",
    "            nn.ReLU(),\n",
    "            nn.Dropout(0.3),\n",
    "\n",
    "            nn.Linear(64, 1) \n",
    "        )\n",
    "\n",
    "    def forward(self, x):\n",
    "        return self.model(x)\n",
    "    \n",
    "\n",
    "pca_features=['Census_FirmwareManufacturerIdentifier', 'EngineVersion', 'Census_InternalPrimaryDiagonalDisplaySizeInInches', 'Census_TotalPhysicalRAM', 'aspect_ratio', 'Firewall', 'Census_OSInstallTypeName', 'Census_GenuineStateName', 'Census_ProcessorCoreCount', 'Census_PrimaryDiskTypeName', 'primary_drive_c_ratio', 'Processor', 'Census_SystemVolumeTotalCapacity', 'Census_IsVirtualDevice', 'Screen_Area', 'SmartScreen', 'Census_OEMNameIdentifier', 'Census_OEMModelIdentifier', 'Wdft_IsGamer', 'OrganizationIdentifier', 'IsProtected', 'AvSigVersion', 'Wdft_RegionIdentifier', 'AVProductsEnabled', 'DefaultBrowsersIdentifier', 'CityIdentifier', 'Census_ProcessorModelIdentifier', 'Census_HasOpticalDiskDrive']\n",
    " \n",
    "X_train_pca= X_train[pca_features]\n",
    "X_valid_pca= X_valid[pca_features]\n",
    "X_train_pca_tensor = torch.tensor(X_train_pca.values, dtype=torch.float32).to(device)\n",
    "X_valid_pca_tensor = torch.tensor(X_valid_pca.values, dtype=torch.float32).to(device)\n",
    "y_train_tensor = torch.tensor(y_train.values, dtype=torch.float32).view(-1, 1).to(device)\n",
    "y_valid_tensor = torch.tensor(y_valid.values, dtype=torch.float32).view(-1, 1).to(device)\n",
    "\n",
    "pca_model = MLP()\n",
    "\n",
    "device = torch.device('cuda' if torch.cuda.is_available() else 'cpu')\n",
    "train_dataset = TensorDataset(X_train_pca_tensor, y_train_tensor)\n",
    "valid_dataset = TensorDataset(X_valid_pca_tensor, y_valid_tensor)\n",
    "criterion = nn.BCEWithLogitsLoss()\n",
    "optimizer = optim.Adam(pca_model.parameters(), weight_decay=1e-4,lr=0.001) \n",
    "pca_model.to(device)\n",
    "\n",
    "batch_size = 4096\n",
    "train_loader = DataLoader(train_dataset, batch_size=batch_size, shuffle=True)\n",
    "test_loader = DataLoader(valid_dataset, batch_size=batch_size, shuffle=False)\n",
    "scheduler = optim.lr_scheduler.ReduceLROnPlateau(optimizer, mode='min', factor=0.5, patience=2)  \n",
    "\n",
    "num_epochs = 100\n",
    "best_model_weights, pca_train_loss, pca, pca_train_accuracy, pca_test_accuracy, lrs = helper_functions.train_and_evaluate_model(pca_model, criterion, optimizer, scheduler, train_loader, test_loader, num_epochs, early_stopping_patience=5)\n",
    "\n"
   ]
  }
 ],
 "metadata": {
  "kernelspec": {
   "display_name": "fai_labs_3.10",
   "language": "python",
   "name": "python3"
  },
  "language_info": {
   "codemirror_mode": {
    "name": "ipython",
    "version": 3
   },
   "file_extension": ".py",
   "mimetype": "text/x-python",
   "name": "python",
   "nbconvert_exporter": "python",
   "pygments_lexer": "ipython3",
   "version": "3.10.14"
  }
 },
 "nbformat": 4,
 "nbformat_minor": 2
}
