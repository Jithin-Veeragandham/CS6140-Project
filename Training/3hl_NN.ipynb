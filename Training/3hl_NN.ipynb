{
 "cells": [
  {
   "cell_type": "markdown",
   "id": "ab4986b1-bc2c-406a-a4c5-74b3546dfc47",
   "metadata": {},
   "source": [
    "# Training 3-Hidden-Layer Neural Networks\n",
    "\n",
    "This notebook is used for training the 3-hidden-layer neural networks on the initial and advanced encodings. It saves the model's weights too."
   ]
  },
  {
   "cell_type": "markdown",
   "id": "47e0f83e",
   "metadata": {},
   "source": [
    "## Load Initial Encodings"
   ]
  },
  {
   "cell_type": "code",
   "execution_count": 1,
   "id": "7b4345e1",
   "metadata": {
    "vscode": {
     "languageId": "plaintext"
    }
   },
   "outputs": [],
   "source": [
    "dtypes={'ProductName': 'float32', 'EngineVersion': 'float32', 'AppVersion': 'float32', 'AvSigVersion': 'float32', 'IsBeta': 'float32', 'RtpStateBitfield': 'float32', 'IsSxsPassiveMode': 'float32', 'DefaultBrowsersIdentifier': 'float32', 'AVProductStatesIdentifier': 'float32', 'AVProductsInstalled': 'float32', 'AVProductsEnabled': 'float32', 'HasTpm': 'float32', 'CountryIdentifier': 'float32', 'CityIdentifier': 'float32', 'OrganizationIdentifier': 'float32', 'GeoNameIdentifier': 'float32', 'LocaleEnglishNameIdentifier': 'float32', 'Platform': 'float32', 'Processor': 'float32', 'OsVer': 'float32', 'OsBuild': 'float32', 'OsSuite': 'float32', 'OsPlatformSubRelease': 'float32', 'OsBuildLab': 'float32', 'SkuEdition': 'float32', 'IsProtected': 'float32', 'AutoSampleOptIn': 'float32', 'PuaMode': 'float32', 'SMode': 'float32', 'IeVerIdentifier': 'float32', 'SmartScreen': 'float32', 'Firewall': 'float32', 'UacLuaenable': 'float32', 'Census_MDC2FormFactor': 'float32', 'Census_DeviceFamily': 'float32', 'Census_OEMNameIdentifier': 'float32', 'Census_OEMModelIdentifier': 'float32', 'Census_ProcessorCoreCount': 'float32', 'Census_ProcessorManufacturerIdentifier': 'float32', 'Census_ProcessorModelIdentifier': 'float32', 'Census_ProcessorClass': 'float32', 'Census_PrimaryDiskTotalCapacity': 'float32', 'Census_PrimaryDiskTypeName': 'float32', 'Census_SystemVolumeTotalCapacity': 'float32', 'Census_HasOpticalDiskDrive': 'float32', 'Census_TotalPhysicalRAM': 'float32', 'Census_ChassisTypeName': 'float32', 'Census_InternalPrimaryDiagonalDisplaySizeInInches': 'float32', 'Census_InternalPrimaryDisplayResolutionHorizontal': 'float32', 'Census_InternalPrimaryDisplayResolutionVertical': 'float32', 'Census_PowerPlatformRoleName': 'float32', 'Census_InternalBatteryType': 'float32', 'Census_InternalBatteryNumberOfCharges': 'float32', 'Census_OSVersion': 'float32', 'Census_OSArchitecture': 'float32', 'Census_OSBranch': 'float32', 'Census_OSBuildNumber': 'float32', 'Census_OSBuildRevision': 'float32', 'Census_OSEdition': 'float32', 'Census_OSSkuName': 'float32', 'Census_OSInstallTypeName': 'float32', 'Census_OSInstallLanguageIdentifier': 'float32', 'Census_OSUILocaleIdentifier': 'float32', 'Census_OSWUAutoUpdateOptionsName': 'float32', 'Census_IsPortableOperatingSystem': 'float32', 'Census_GenuineStateName': 'float32', 'Census_ActivationChannel': 'float32', 'Census_IsFlightingInternal': 'float32', 'Census_IsFlightsDisabled': 'float32', 'Census_FlightRing': 'float32', 'Census_ThresholdOptIn': 'float32', 'Census_FirmwareManufacturerIdentifier': 'float32', 'Census_FirmwareVersionIdentifier': 'float32', 'Census_IsSecureBootEnabled': 'float32', 'Census_IsWIMBootEnabled': 'float32', 'Census_IsVirtualDevice': 'float32', 'Census_IsTouchEnabled': 'float32', 'Census_IsPenCapable': 'float32', 'Census_IsAlwaysOnAlwaysConnectedCapable': 'float32', 'Wdft_IsGamer': 'float32', 'Wdft_RegionIdentifier': 'float32', 'HasDetections': 'int8'}\n",
    "# Load the training and validation initial encoding datasets\n",
    "train_dir=\"../data/train_data_scaled_encoded_shrunk.csv\"\n",
    "valid_dir=\"../data/validation_data_scaled_encoded_shrunk.csv\""
   ]
  },
  {
   "cell_type": "code",
   "execution_count": 2,
   "id": "0748c241",
   "metadata": {
    "vscode": {
     "languageId": "plaintext"
    }
   },
   "outputs": [],
   "source": [
    "import pandas as pd\n",
    "\n",
    "# Load all the data appropriately\n",
    "train = pd.read_csv(train_dir, dtype=dtypes)\n",
    "valid = pd.read_csv(valid_dir, dtype=dtypes)\n",
    "\n",
    "X_train = train.drop(columns=['HasDetections'])\n",
    "y_train = train['HasDetections']\n",
    "X_valid = valid.drop(columns=['HasDetections'])\n",
    "y_valid = valid['HasDetections']\n"
   ]
  },
  {
   "cell_type": "markdown",
   "id": "20aac8f8-a8ae-4856-9522-63fdd49fc76a",
   "metadata": {},
   "source": [
    "## Train 3-Hidden-Layer Neural Network (Regular)"
   ]
  },
  {
   "cell_type": "code",
   "execution_count": 3,
   "id": "c14cd5a8",
   "metadata": {
    "vscode": {
     "languageId": "plaintext"
    }
   },
   "outputs": [],
   "source": [
    "import torch\n",
    "import torch.nn as nn\n",
    "import torch.optim as optim\n",
    "import numpy as np\n",
    "import pandas as pd\n",
    "from tqdm import tqdm\n",
    "from torch.utils.data import DataLoader, TensorDataset\n",
    "import helper_functions\n",
    "import importlib\n",
    "import os\n",
    "\n",
    "importlib.reload(helper_functions)\n",
    "X_train_tensor = torch.tensor(X_train.values, dtype=torch.float32)\n",
    "y_train_tensor = torch.tensor(y_train.values, dtype=torch.float32).view(-1, 1)\n",
    "X_test_tensor = torch.tensor(X_valid.values, dtype=torch.float32)\n",
    "y_test_tensor = torch.tensor(y_valid.values, dtype=torch.float32).view(-1, 1)\n",
    "\n",
    "# Figure out which device to use. By default, CPU\n",
    "device = \"cpu\"\n",
    "# For M-architecture Macs\n",
    "if torch.backends.mps.is_available():\n",
    "    device = torch.device(\"mps\")\n",
    "# For NVIDIA\n",
    "elif torch.cuda.is_available():\n",
    "    device = torch.device(\"cuda\")\n",
    "\n",
    "X_train_tensor = X_train_tensor.to(device)\n",
    "y_train_tensor = y_train_tensor.to(device)\n",
    "X_test_tensor = X_test_tensor.to(device)\n",
    "y_test_tensor = y_test_tensor.to(device)\n",
    "\n",
    "\n",
    "# Define complex model\n",
    "class BinaryClassifier(nn.Module):\n",
    "    def __init__(self):\n",
    "        super(BinaryClassifier, self).__init__()\n",
    "        self.layers = nn.Sequential(\n",
    "            nn.Linear(X_train_tensor.shape[1], 512),\n",
    "            nn.ReLU(),\n",
    "            nn.BatchNorm1d(512),\n",
    "            nn.Dropout(0.3),\n",
    "\n",
    "            nn.Linear(512, 256),\n",
    "            nn.ReLU(),\n",
    "            nn.BatchNorm1d(256),\n",
    "            nn.Dropout(0.3),\n",
    "\n",
    "            nn.Linear(256, 128),\n",
    "            nn.ReLU(),\n",
    "            nn.BatchNorm1d(128),\n",
    "            nn.Dropout(0.4),\n",
    "\n",
    "            nn.Linear(128, 64),\n",
    "            nn.ReLU(),\n",
    "            nn.BatchNorm1d(64),\n",
    "            nn.Dropout(0.4),\n",
    "\n",
    "            nn.Linear(64, 1)\n",
    "        )\n",
    "\n",
    "    def forward(self, x):\n",
    "        return self.layers(x)\n",
    "\n",
    "model = BinaryClassifier().to(device)\n",
    "\n",
    "criterion = nn.BCEWithLogitsLoss()\n",
    "optimizer = optim.Adam(model.parameters(), weight_decay=1e-4,lr=0.0001)  \n",
    "\n",
    "train_dataset = TensorDataset(X_train_tensor, y_train_tensor)\n",
    "test_dataset = TensorDataset(X_test_tensor, y_test_tensor)\n",
    "batch_size = 2048\n",
    "train_loader = DataLoader(train_dataset, batch_size=batch_size, shuffle=True)\n",
    "test_loader = DataLoader(test_dataset, batch_size=batch_size, shuffle=False)\n",
    "\n",
    "scheduler = optim.lr_scheduler.ReduceLROnPlateau(optimizer, mode='min', factor=0.5, patience=2)  \n"
   ]
  },
  {
   "cell_type": "code",
   "execution_count": 4,
   "id": "9c0a6663",
   "metadata": {
    "vscode": {
     "languageId": "plaintext"
    }
   },
   "outputs": [
    {
     "name": "stdout",
     "output_type": "stream",
     "text": [
      "Training on mps\n"
     ]
    },
    {
     "name": "stderr",
     "output_type": "stream",
     "text": [
      "Epoch 1/100 - LR: 0.000100: 100%|███████████████████| 3485/3485 [07:04<00:00,  8.20it/s, acc=61.39%, loss=0.6471]\n"
     ]
    },
    {
     "name": "stdout",
     "output_type": "stream",
     "text": [
      "Epoch 1 Loss: 0.6617, Train Accuracy: 60.23%\n",
      "Test Loss: 0.6410, Test Accuracy: 62.35%\n"
     ]
    },
    {
     "name": "stderr",
     "output_type": "stream",
     "text": [
      "Epoch 2/100 - LR: 0.000100: 100%|███████████████████| 3485/3485 [07:06<00:00,  8.17it/s, acc=64.31%, loss=0.6173]\n"
     ]
    },
    {
     "name": "stdout",
     "output_type": "stream",
     "text": [
      "Epoch 2 Loss: 0.6375, Train Accuracy: 62.76%\n",
      "Test Loss: 0.6353, Test Accuracy: 62.67%\n"
     ]
    },
    {
     "name": "stderr",
     "output_type": "stream",
     "text": [
      "Epoch 3/100 - LR: 0.000100: 100%|███████████████████| 3485/3485 [07:13<00:00,  8.05it/s, acc=62.42%, loss=0.6388]\n"
     ]
    },
    {
     "name": "stdout",
     "output_type": "stream",
     "text": [
      "Epoch 3 Loss: 0.6318, Train Accuracy: 63.35%\n",
      "Test Loss: 0.6336, Test Accuracy: 62.69%\n"
     ]
    },
    {
     "name": "stderr",
     "output_type": "stream",
     "text": [
      "Epoch 4/100 - LR: 0.000100: 100%|███████████████████| 3485/3485 [07:13<00:00,  8.04it/s, acc=63.95%, loss=0.6136]\n"
     ]
    },
    {
     "name": "stdout",
     "output_type": "stream",
     "text": [
      "Epoch 4 Loss: 0.6287, Train Accuracy: 63.65%\n",
      "Test Loss: 0.6328, Test Accuracy: 62.76%\n"
     ]
    },
    {
     "name": "stderr",
     "output_type": "stream",
     "text": [
      "Epoch 5/100 - LR: 0.000100: 100%|███████████████████| 3485/3485 [07:12<00:00,  8.05it/s, acc=64.00%, loss=0.6191]\n"
     ]
    },
    {
     "name": "stdout",
     "output_type": "stream",
     "text": [
      "Epoch 5 Loss: 0.6268, Train Accuracy: 63.89%\n",
      "Test Loss: 0.6341, Test Accuracy: 62.43%\n"
     ]
    },
    {
     "name": "stderr",
     "output_type": "stream",
     "text": [
      "Epoch 6/100 - LR: 0.000100: 100%|███████████████████| 3485/3485 [07:17<00:00,  7.97it/s, acc=63.95%, loss=0.6200]\n"
     ]
    },
    {
     "name": "stdout",
     "output_type": "stream",
     "text": [
      "Epoch 6 Loss: 0.6252, Train Accuracy: 64.05%\n",
      "Test Loss: 0.6391, Test Accuracy: 61.79%\n"
     ]
    },
    {
     "name": "stderr",
     "output_type": "stream",
     "text": [
      "Epoch 7/100 - LR: 0.000100: 100%|███████████████████| 3485/3485 [07:17<00:00,  7.96it/s, acc=66.67%, loss=0.6172]\n"
     ]
    },
    {
     "name": "stdout",
     "output_type": "stream",
     "text": [
      "Epoch 7 Loss: 0.6239, Train Accuracy: 64.24%\n",
      "Test Loss: 0.6454, Test Accuracy: 61.07%\n",
      "Learning rate changed from 0.000100 to 0.000050\n"
     ]
    },
    {
     "name": "stderr",
     "output_type": "stream",
     "text": [
      "Epoch 8/100 - LR: 0.000050: 100%|███████████████████| 3485/3485 [07:18<00:00,  7.95it/s, acc=64.11%, loss=0.6221]\n"
     ]
    },
    {
     "name": "stdout",
     "output_type": "stream",
     "text": [
      "Epoch 8 Loss: 0.6225, Train Accuracy: 64.42%\n",
      "Test Loss: 0.6483, Test Accuracy: 60.76%\n"
     ]
    },
    {
     "name": "stderr",
     "output_type": "stream",
     "text": [
      "Epoch 9/100 - LR: 0.000050: 100%|███████████████████| 3485/3485 [07:17<00:00,  7.97it/s, acc=65.08%, loss=0.6132]\n"
     ]
    },
    {
     "name": "stdout",
     "output_type": "stream",
     "text": [
      "Epoch 9 Loss: 0.6216, Train Accuracy: 64.51%\n",
      "Test Loss: 0.6490, Test Accuracy: 60.75%\n"
     ]
    },
    {
     "name": "stderr",
     "output_type": "stream",
     "text": [
      "Epoch 10/100 - LR: 0.000050: 100%|██████████████████| 3485/3485 [07:15<00:00,  8.01it/s, acc=64.21%, loss=0.6256]\n"
     ]
    },
    {
     "name": "stdout",
     "output_type": "stream",
     "text": [
      "Epoch 10 Loss: 0.6211, Train Accuracy: 64.58%\n",
      "Test Loss: 0.6460, Test Accuracy: 60.97%\n",
      "Learning rate changed from 0.000050 to 0.000025\n"
     ]
    },
    {
     "name": "stderr",
     "output_type": "stream",
     "text": [
      "Epoch 11/100 - LR: 0.000025: 100%|██████████████████| 3485/3485 [07:22<00:00,  7.87it/s, acc=64.36%, loss=0.6215]\n"
     ]
    },
    {
     "name": "stdout",
     "output_type": "stream",
     "text": [
      "Epoch 11 Loss: 0.6203, Train Accuracy: 64.64%\n",
      "Test Loss: 0.6469, Test Accuracy: 60.98%\n"
     ]
    },
    {
     "name": "stderr",
     "output_type": "stream",
     "text": [
      "Epoch 12/100 - LR: 0.000025: 100%|██████████████████| 3485/3485 [07:20<00:00,  7.91it/s, acc=66.77%, loss=0.6098]\n"
     ]
    },
    {
     "name": "stdout",
     "output_type": "stream",
     "text": [
      "Epoch 12 Loss: 0.6200, Train Accuracy: 64.69%\n",
      "Test Loss: 0.6460, Test Accuracy: 61.08%\n"
     ]
    },
    {
     "name": "stderr",
     "output_type": "stream",
     "text": [
      "Epoch 13/100 - LR: 0.000025: 100%|██████████████████| 3485/3485 [07:20<00:00,  7.91it/s, acc=64.93%, loss=0.6041]\n"
     ]
    },
    {
     "name": "stdout",
     "output_type": "stream",
     "text": [
      "Epoch 13 Loss: 0.6197, Train Accuracy: 64.72%\n",
      "Test Loss: 0.6467, Test Accuracy: 61.06%\n",
      "Learning rate changed from 0.000025 to 0.000013\n",
      "Early stopping triggered at epoch 13. Best model was from epoch 4.\n"
     ]
    }
   ],
   "source": [
    "# Train the model and save its weights\n",
    "epochs = 100\n",
    "best_model_weights, train_loss, test_loss, train_accuracy, test_accuracy, lrs = helper_functions.train_and_evaluate_model(model, criterion, optimizer, scheduler, train_loader, test_loader, epochs)\n",
    "torch.save(model.state_dict(), '../Saved Models/3hl_initial_encodings.pth')"
   ]
  },
  {
   "cell_type": "markdown",
   "id": "24fb1103",
   "metadata": {},
   "source": [
    "## Train 3-Hidden-Layer Neural Network (PCA)"
   ]
  },
  {
   "cell_type": "code",
   "execution_count": 6,
   "id": "e56a751c",
   "metadata": {
    "vscode": {
     "languageId": "plaintext"
    }
   },
   "outputs": [
    {
     "name": "stdout",
     "output_type": "stream",
     "text": [
      "Training on mps\n"
     ]
    },
    {
     "name": "stderr",
     "output_type": "stream",
     "text": [
      "Epoch 1/100 - LR: 0.000100: 100%|███████████████████| 3485/3485 [07:08<00:00,  8.14it/s, acc=62.26%, loss=0.6496]\n"
     ]
    },
    {
     "name": "stdout",
     "output_type": "stream",
     "text": [
      "Epoch 1 Loss: 0.6610, Train Accuracy: 60.20%\n",
      "Test Loss: 0.6429, Test Accuracy: 61.99%\n"
     ]
    },
    {
     "name": "stderr",
     "output_type": "stream",
     "text": [
      "Epoch 2/100 - LR: 0.000100: 100%|███████████████████| 3485/3485 [07:11<00:00,  8.07it/s, acc=64.41%, loss=0.6297]\n"
     ]
    },
    {
     "name": "stdout",
     "output_type": "stream",
     "text": [
      "Epoch 2 Loss: 0.6394, Train Accuracy: 62.54%\n",
      "Test Loss: 0.6385, Test Accuracy: 62.30%\n"
     ]
    },
    {
     "name": "stderr",
     "output_type": "stream",
     "text": [
      "Epoch 3/100 - LR: 0.000100: 100%|███████████████████| 3485/3485 [07:11<00:00,  8.08it/s, acc=62.37%, loss=0.6399]\n"
     ]
    },
    {
     "name": "stdout",
     "output_type": "stream",
     "text": [
      "Epoch 3 Loss: 0.6347, Train Accuracy: 63.01%\n",
      "Test Loss: 0.6376, Test Accuracy: 62.15%\n"
     ]
    },
    {
     "name": "stderr",
     "output_type": "stream",
     "text": [
      "Epoch 4/100 - LR: 0.000100: 100%|███████████████████| 3485/3485 [07:12<00:00,  8.06it/s, acc=63.03%, loss=0.6368]\n"
     ]
    },
    {
     "name": "stdout",
     "output_type": "stream",
     "text": [
      "Epoch 4 Loss: 0.6321, Train Accuracy: 63.28%\n",
      "Test Loss: 0.6391, Test Accuracy: 61.92%\n"
     ]
    },
    {
     "name": "stderr",
     "output_type": "stream",
     "text": [
      "Epoch 5/100 - LR: 0.000100: 100%|███████████████████| 3485/3485 [07:14<00:00,  8.01it/s, acc=63.49%, loss=0.6314]\n"
     ]
    },
    {
     "name": "stdout",
     "output_type": "stream",
     "text": [
      "Epoch 5 Loss: 0.6304, Train Accuracy: 63.48%\n",
      "Test Loss: 0.6424, Test Accuracy: 61.39%\n"
     ]
    },
    {
     "name": "stderr",
     "output_type": "stream",
     "text": [
      "Epoch 6/100 - LR: 0.000100: 100%|███████████████████| 3485/3485 [07:17<00:00,  7.97it/s, acc=61.96%, loss=0.6454]\n"
     ]
    },
    {
     "name": "stdout",
     "output_type": "stream",
     "text": [
      "Epoch 6 Loss: 0.6289, Train Accuracy: 63.64%\n",
      "Test Loss: 0.6484, Test Accuracy: 60.71%\n",
      "Learning rate changed from 0.000100 to 0.000050\n"
     ]
    },
    {
     "name": "stderr",
     "output_type": "stream",
     "text": [
      "Epoch 7/100 - LR: 0.000050: 100%|███████████████████| 3485/3485 [07:16<00:00,  7.99it/s, acc=64.21%, loss=0.6215]\n"
     ]
    },
    {
     "name": "stdout",
     "output_type": "stream",
     "text": [
      "Epoch 7 Loss: 0.6275, Train Accuracy: 63.84%\n",
      "Test Loss: 0.6498, Test Accuracy: 60.55%\n"
     ]
    },
    {
     "name": "stderr",
     "output_type": "stream",
     "text": [
      "Epoch 8/100 - LR: 0.000050: 100%|███████████████████| 3485/3485 [07:17<00:00,  7.97it/s, acc=64.93%, loss=0.6250]\n"
     ]
    },
    {
     "name": "stdout",
     "output_type": "stream",
     "text": [
      "Epoch 8 Loss: 0.6268, Train Accuracy: 63.93%\n",
      "Test Loss: 0.6491, Test Accuracy: 60.61%\n"
     ]
    },
    {
     "name": "stderr",
     "output_type": "stream",
     "text": [
      "Epoch 9/100 - LR: 0.000050: 100%|███████████████████| 3485/3485 [07:15<00:00,  8.00it/s, acc=64.77%, loss=0.6215]\n"
     ]
    },
    {
     "name": "stdout",
     "output_type": "stream",
     "text": [
      "Epoch 9 Loss: 0.6262, Train Accuracy: 64.00%\n",
      "Test Loss: 0.6484, Test Accuracy: 60.69%\n",
      "Learning rate changed from 0.000050 to 0.000025\n"
     ]
    },
    {
     "name": "stderr",
     "output_type": "stream",
     "text": [
      "Epoch 10/100 - LR: 0.000025: 100%|██████████████████| 3485/3485 [07:16<00:00,  7.99it/s, acc=64.77%, loss=0.6176]\n"
     ]
    },
    {
     "name": "stdout",
     "output_type": "stream",
     "text": [
      "Epoch 10 Loss: 0.6256, Train Accuracy: 64.07%\n",
      "Test Loss: 0.6500, Test Accuracy: 60.63%\n"
     ]
    },
    {
     "name": "stderr",
     "output_type": "stream",
     "text": [
      "Epoch 11/100 - LR: 0.000025: 100%|██████████████████| 3485/3485 [07:16<00:00,  7.98it/s, acc=63.59%, loss=0.6306]\n"
     ]
    },
    {
     "name": "stdout",
     "output_type": "stream",
     "text": [
      "Epoch 11 Loss: 0.6252, Train Accuracy: 64.11%\n",
      "Test Loss: 0.6506, Test Accuracy: 60.63%\n"
     ]
    },
    {
     "name": "stderr",
     "output_type": "stream",
     "text": [
      "Epoch 12/100 - LR: 0.000025: 100%|██████████████████| 3485/3485 [07:16<00:00,  7.98it/s, acc=62.98%, loss=0.6264]\n"
     ]
    },
    {
     "name": "stdout",
     "output_type": "stream",
     "text": [
      "Epoch 12 Loss: 0.6249, Train Accuracy: 64.14%\n",
      "Test Loss: 0.6491, Test Accuracy: 60.70%\n",
      "Learning rate changed from 0.000025 to 0.000013\n",
      "Early stopping triggered at epoch 12. Best model was from epoch 2.\n"
     ]
    }
   ],
   "source": [
    "import torch\n",
    "import torch.nn as nn\n",
    "import torch.optim as optim\n",
    "import numpy as np\n",
    "import pandas as pd\n",
    "from tqdm import tqdm\n",
    "from torch.utils.data import DataLoader, TensorDataset\n",
    "import helper_functions\n",
    "import importlib\n",
    "import os\n",
    "\n",
    "pca_features = [\n",
    "    \"Census_OSBuildNumber\",\n",
    "    \"OsBuild\",\n",
    "    \"Census_InternalBatteryType\",\n",
    "    \"Census_InternalBatteryNumberOfCharges\",\n",
    "    \"Census_IsWIMBootEnabled\",\n",
    "    \"Census_ThresholdOptIn\",\n",
    "    \"OsVer\",\n",
    "    \"Platform\",\n",
    "    \"Census_ChassisTypeName\",\n",
    "    \"Census_MDC2FormFactor\",\n",
    "    \"Census_InternalPrimaryDisplayResolutionVertical\",\n",
    "    \"Census_OSSkuName\",\n",
    "    \"AppVersion\",\n",
    "    \"Census_OSEdition\",\n",
    "    \"OsSuite\",\n",
    "    \"Census_InternalPrimaryDisplayResolutionHorizontal\",\n",
    "    \"Census_InternalPrimaryDiagonalDisplaySizeInInches\",\n",
    "    \"SkuEdition\",\n",
    "    \"OsBuildLab\",\n",
    "    \"Census_OSVersion\",\n",
    "    \"SmartScreen\",\n",
    "    \"Census_TotalPhysicalRAM\",\n",
    "    \"Census_OSBranch\",\n",
    "    \"Census_PowerPlatformRoleName\",\n",
    "    \"ProductName\",\n",
    "    \"Census_IsFlightingInternal\",\n",
    "    \"HasTpm\",\n",
    "    \"Census_ProcessorCoreCount\",\n",
    "    \"Census_OSBuildRevision\",\n",
    "    \"OsPlatformSubRelease\",\n",
    "    \"Census_IsFlightsDisabled\",\n",
    "    \"Census_FirmwareManufacturerIdentifier\",\n",
    "    \"Census_IsSecureBootEnabled\",\n",
    "    \"Firewall\",\n",
    "    \"Census_FlightRing\",\n",
    "    \"Census_PrimaryDiskTypeName\",\n",
    "    \"EngineVersion\",\n",
    "    \"IeVerIdentifier\",\n",
    "    \"Census_ProcessorModelIdentifier\",\n",
    "    \"Census_FirmwareVersionIdentifier\",\n",
    "    \"Census_ProcessorClass\",\n",
    "    \"AVProductsInstalled\",\n",
    "    \"Wdft_IsGamer\",\n",
    "    \"Census_OEMNameIdentifier\",\n",
    "    \"IsProtected\",\n",
    "    \"Processor\",\n",
    "    \"Census_OSArchitecture\",\n",
    "    \"AVProductStatesIdentifier\",\n",
    "    \"SMode\",\n",
    "    \"Census_OEMModelIdentifier\",\n",
    "    \"Wdft_RegionIdentifier\",\n",
    "    \"Census_OSInstallLanguageIdentifier\",\n",
    "    \"DefaultBrowsersIdentifier\",\n",
    "    \"AVProductsEnabled\",\n",
    "    \"Census_GenuineStateName\",\n",
    "    \"AvSigVersion\",\n",
    "    \"Census_OSWUAutoUpdateOptionsName\"\n",
    "]\n",
    "# Make sure these exist\n",
    "assert 'X_train' in locals() and 'y_train' in locals()\n",
    "\n",
    "# Figure out which device to use. By default, CPU\n",
    "device = \"cpu\"\n",
    "# For M-architecture Macs\n",
    "if torch.backends.mps.is_available():\n",
    "    device = torch.device(\"mps\")\n",
    "# For NVIDIA\n",
    "elif torch.cuda.is_available():\n",
    "    device = torch.device(\"cuda\")\n",
    "\n",
    "X_train_pca_tensor = torch.tensor(X_train[pca_features].values, dtype=torch.float32).to(device)\n",
    "X_valid_pca_tensor = torch.tensor(X_valid[pca_features].values, dtype=torch.float32).to(device)\n",
    "y_train_tensor = torch.tensor(y_train.values, dtype=torch.float32).view(-1, 1).to(device)\n",
    "y_test_tensor = torch.tensor(y_valid.values, dtype=torch.float32).view(-1, 1).to(device)\n",
    "\n",
    "# DataLoader\n",
    "train_dataset_pca = TensorDataset(X_train_pca_tensor, y_train_tensor)\n",
    "valid_dataset_pca = TensorDataset(X_valid_pca_tensor, y_test_tensor)\n",
    "train_loader_pca = DataLoader(train_dataset_pca, batch_size=batch_size, shuffle=True)\n",
    "test_loader_pca = DataLoader(valid_dataset_pca, batch_size=batch_size, shuffle=False)\n",
    "\n",
    "# Model\n",
    "# Define complex model\n",
    "class BinaryClassifier(nn.Module):\n",
    "    def __init__(self):\n",
    "        super(BinaryClassifier, self).__init__()\n",
    "        self.layers = nn.Sequential(\n",
    "            nn.Linear(X_train_pca_tensor.shape[1], 512),\n",
    "            nn.ReLU(),\n",
    "            nn.BatchNorm1d(512),\n",
    "            nn.Dropout(0.3),\n",
    "\n",
    "            nn.Linear(512, 256),\n",
    "            nn.ReLU(),\n",
    "            nn.BatchNorm1d(256),\n",
    "            nn.Dropout(0.3),\n",
    "\n",
    "            nn.Linear(256, 128),\n",
    "            nn.ReLU(),\n",
    "            nn.BatchNorm1d(128),\n",
    "            nn.Dropout(0.4),\n",
    "\n",
    "            nn.Linear(128, 64),\n",
    "            nn.ReLU(),\n",
    "            nn.BatchNorm1d(64),\n",
    "            nn.Dropout(0.4),\n",
    "\n",
    "            nn.Linear(64, 1)\n",
    "        )\n",
    "\n",
    "    def forward(self, x):\n",
    "        return self.layers(x)\n",
    "\n",
    "\n",
    "\n",
    "model_pca = BinaryClassifier().to(device)\n",
    "\n",
    "criterion = nn.BCEWithLogitsLoss()  # or use nn.BCEWithLogitsLoss and remove sigmoid\n",
    "optimizer = optim.Adam(model_pca.parameters(), weight_decay=1e-4, lr=0.0001)\n",
    "scheduler = optim.lr_scheduler.ReduceLROnPlateau(optimizer, mode='min', factor=0.5, patience=2)\n",
    "\n",
    "# Train the model and save its weights\n",
    "best_model_weights_pca, train_loss_pca, test_loss_pca, train_accuracy_pca, test_accuracy_pca, lrs_pca = helper_functions.train_and_evaluate_model(\n",
    "    model_pca, criterion, optimizer, scheduler, train_loader_pca, test_loader_pca, epochs=epochs\n",
    ")\n",
    "\n",
    "torch.save(model_pca.state_dict(), '../Saved Models/3hl_initial_encodings_pca.pth')"
   ]
  },
  {
   "cell_type": "markdown",
   "id": "c7f7708c-df9a-44fc-8722-631d3c8cf3a7",
   "metadata": {},
   "source": [
    "## Train 3-Hidden-Layer Neural Network (LDA)"
   ]
  },
  {
   "cell_type": "code",
   "execution_count": 14,
   "id": "6982f72d-981d-4765-a912-e836a0865023",
   "metadata": {},
   "outputs": [
    {
     "name": "stdout",
     "output_type": "stream",
     "text": [
      "Training on mps\n"
     ]
    },
    {
     "name": "stderr",
     "output_type": "stream",
     "text": [
      "Epoch 1/100 - LR: 0.000100: 100%|███████████████████| 3485/3485 [07:18<00:00,  7.95it/s, acc=62.06%, loss=0.6424]\n"
     ]
    },
    {
     "name": "stdout",
     "output_type": "stream",
     "text": [
      "Epoch 1 Loss: 0.6598, Train Accuracy: 60.32%\n",
      "Test Loss: 0.6408, Test Accuracy: 62.33%\n"
     ]
    },
    {
     "name": "stderr",
     "output_type": "stream",
     "text": [
      "Epoch 2/100 - LR: 0.000100: 100%|███████████████████| 3485/3485 [07:19<00:00,  7.93it/s, acc=60.47%, loss=0.6408]\n"
     ]
    },
    {
     "name": "stdout",
     "output_type": "stream",
     "text": [
      "Epoch 2 Loss: 0.6372, Train Accuracy: 62.78%\n",
      "Test Loss: 0.6350, Test Accuracy: 62.87%\n"
     ]
    },
    {
     "name": "stderr",
     "output_type": "stream",
     "text": [
      "Epoch 3/100 - LR: 0.000100: 100%|███████████████████| 3485/3485 [07:19<00:00,  7.93it/s, acc=61.19%, loss=0.6379]\n"
     ]
    },
    {
     "name": "stdout",
     "output_type": "stream",
     "text": [
      "Epoch 3 Loss: 0.6319, Train Accuracy: 63.35%\n",
      "Test Loss: 0.6326, Test Accuracy: 62.92%\n"
     ]
    },
    {
     "name": "stderr",
     "output_type": "stream",
     "text": [
      "Epoch 4/100 - LR: 0.000100: 100%|███████████████████| 3485/3485 [07:16<00:00,  7.98it/s, acc=60.88%, loss=0.6460]\n"
     ]
    },
    {
     "name": "stdout",
     "output_type": "stream",
     "text": [
      "Epoch 4 Loss: 0.6289, Train Accuracy: 63.66%\n",
      "Test Loss: 0.6318, Test Accuracy: 62.92%\n"
     ]
    },
    {
     "name": "stderr",
     "output_type": "stream",
     "text": [
      "Epoch 5/100 - LR: 0.000100: 100%|███████████████████| 3485/3485 [07:21<00:00,  7.90it/s, acc=64.52%, loss=0.6182]\n"
     ]
    },
    {
     "name": "stdout",
     "output_type": "stream",
     "text": [
      "Epoch 5 Loss: 0.6270, Train Accuracy: 63.87%\n",
      "Test Loss: 0.6323, Test Accuracy: 62.76%\n"
     ]
    },
    {
     "name": "stderr",
     "output_type": "stream",
     "text": [
      "Epoch 6/100 - LR: 0.000100: 100%|███████████████████| 3485/3485 [07:20<00:00,  7.92it/s, acc=64.41%, loss=0.6323]\n"
     ]
    },
    {
     "name": "stdout",
     "output_type": "stream",
     "text": [
      "Epoch 6 Loss: 0.6254, Train Accuracy: 64.04%\n",
      "Test Loss: 0.6354, Test Accuracy: 62.12%\n"
     ]
    },
    {
     "name": "stderr",
     "output_type": "stream",
     "text": [
      "Epoch 7/100 - LR: 0.000100: 100%|███████████████████| 3485/3485 [07:19<00:00,  7.94it/s, acc=63.49%, loss=0.6315]\n"
     ]
    },
    {
     "name": "stdout",
     "output_type": "stream",
     "text": [
      "Epoch 7 Loss: 0.6242, Train Accuracy: 64.19%\n",
      "Test Loss: 0.6400, Test Accuracy: 61.50%\n",
      "Learning rate changed from 0.000100 to 0.000050\n"
     ]
    },
    {
     "name": "stderr",
     "output_type": "stream",
     "text": [
      "Epoch 8/100 - LR: 0.000050: 100%|███████████████████| 3485/3485 [07:18<00:00,  7.94it/s, acc=65.85%, loss=0.6226]\n"
     ]
    },
    {
     "name": "stdout",
     "output_type": "stream",
     "text": [
      "Epoch 8 Loss: 0.6225, Train Accuracy: 64.40%\n",
      "Test Loss: 0.6443, Test Accuracy: 61.16%\n"
     ]
    },
    {
     "name": "stderr",
     "output_type": "stream",
     "text": [
      "Epoch 9/100 - LR: 0.000050: 100%|███████████████████| 3485/3485 [07:18<00:00,  7.96it/s, acc=66.10%, loss=0.6069]\n"
     ]
    },
    {
     "name": "stdout",
     "output_type": "stream",
     "text": [
      "Epoch 9 Loss: 0.6218, Train Accuracy: 64.48%\n",
      "Test Loss: 0.6463, Test Accuracy: 60.97%\n"
     ]
    },
    {
     "name": "stderr",
     "output_type": "stream",
     "text": [
      "Epoch 10/100 - LR: 0.000050: 100%|██████████████████| 3485/3485 [07:20<00:00,  7.90it/s, acc=65.34%, loss=0.6300]\n"
     ]
    },
    {
     "name": "stdout",
     "output_type": "stream",
     "text": [
      "Epoch 10 Loss: 0.6212, Train Accuracy: 64.57%\n",
      "Test Loss: 0.6471, Test Accuracy: 61.04%\n",
      "Learning rate changed from 0.000050 to 0.000025\n"
     ]
    },
    {
     "name": "stderr",
     "output_type": "stream",
     "text": [
      "Epoch 11/100 - LR: 0.000025: 100%|██████████████████| 3485/3485 [07:20<00:00,  7.92it/s, acc=62.42%, loss=0.6358]\n"
     ]
    },
    {
     "name": "stdout",
     "output_type": "stream",
     "text": [
      "Epoch 11 Loss: 0.6204, Train Accuracy: 64.64%\n",
      "Test Loss: 0.6453, Test Accuracy: 61.16%\n"
     ]
    },
    {
     "name": "stderr",
     "output_type": "stream",
     "text": [
      "Epoch 12/100 - LR: 0.000025: 100%|██████████████████| 3485/3485 [07:19<00:00,  7.92it/s, acc=61.80%, loss=0.6269]\n"
     ]
    },
    {
     "name": "stdout",
     "output_type": "stream",
     "text": [
      "Epoch 12 Loss: 0.6200, Train Accuracy: 64.69%\n",
      "Test Loss: 0.6451, Test Accuracy: 61.08%\n"
     ]
    },
    {
     "name": "stderr",
     "output_type": "stream",
     "text": [
      "Epoch 13/100 - LR: 0.000025: 100%|██████████████████| 3485/3485 [07:20<00:00,  7.92it/s, acc=63.34%, loss=0.6320]\n"
     ]
    },
    {
     "name": "stdout",
     "output_type": "stream",
     "text": [
      "Epoch 13 Loss: 0.6197, Train Accuracy: 64.74%\n",
      "Test Loss: 0.6461, Test Accuracy: 61.07%\n",
      "Learning rate changed from 0.000025 to 0.000013\n",
      "Early stopping triggered at epoch 13. Best model was from epoch 3.\n"
     ]
    }
   ],
   "source": [
    "import torch\n",
    "import torch.nn as nn\n",
    "import torch.optim as optim\n",
    "import numpy as np\n",
    "import pandas as pd\n",
    "from tqdm import tqdm\n",
    "from torch.utils.data import DataLoader, TensorDataset\n",
    "import helper_functions\n",
    "import importlib\n",
    "import os\n",
    "\n",
    "lda_features = [\n",
    "    'Census_OSEdition', \n",
    "    'Census_OSSkuName', \n",
    "    'AVProductsInstalled', \n",
    "    'EngineVersion', \n",
    "    'SmartScreen',\n",
    "    'AVProductStatesIdentifier', \n",
    "    'Census_ThresholdOptIn', \n",
    "    'IsProtected', \n",
    "    'Census_OSInstallTypeName',\n",
    "    'Census_IsVirtualDevice', \n",
    "    'Census_InternalPrimaryDisplayResolutionVertical', \n",
    "    'OsSuite',\n",
    "    'Census_InternalPrimaryDisplayResolutionHorizontal', \n",
    "    'Processor',\n",
    "    'Census_IsAlwaysOnAlwaysConnectedCapable', \n",
    "    'Wdft_IsGamer', \n",
    "    'Census_OSVersion',\n",
    "    'Census_OSUILocaleIdentifier', \n",
    "    'Census_InternalBatteryNumberOfCharges', \n",
    "    'Census_IsTouchEnabled',\n",
    "    'Census_OSBuildNumber', \n",
    "    'HasTpm', \n",
    "    'SMode', \n",
    "    'Census_MDC2FormFactor',\n",
    "    'Census_OSInstallLanguageIdentifier', \n",
    "    'Census_DeviceFamily', \n",
    "    'Census_HasOpticalDiskDrive',\n",
    "    'Census_TotalPhysicalRAM', \n",
    "    'Census_InternalBatteryType', \n",
    "    'Census_PrimaryDiskTypeName',\n",
    "    'LocaleEnglishNameIdentifier', \n",
    "    'ProductName', \n",
    "    'Census_ProcessorCoreCount', \n",
    "    'Wdft_RegionIdentifier',\n",
    "    'DefaultBrowsersIdentifier', \n",
    "    'Census_IsSecureBootEnabled', \n",
    "    'Census_GenuineStateName',\n",
    "    'RtpStateBitfield', \n",
    "    'OsBuild', \n",
    "    'SkuEdition', \n",
    "    'OsPlatformSubRelease', \n",
    "    'Census_IsFlightingInternal',\n",
    "    'Census_FlightRing', \n",
    "    'OsVer', \n",
    "    'Census_ProcessorModelIdentifier', \n",
    "    'Census_ActivationChannel',\n",
    "    'IeVerIdentifier', \n",
    "    'Census_OSBuildRevision', \n",
    "    'AvSigVersion', \n",
    "    'AppVersion',\n",
    "    'Census_OSWUAutoUpdateOptionsName', \n",
    "    'Census_OEMNameIdentifier', \n",
    "    'Census_OSArchitecture',\n",
    "    'Census_ChassisTypeName', \n",
    "    'Census_PowerPlatformRoleName', \n",
    "    'PuaMode', \n",
    "    'Census_OEMModelIdentifier',\n",
    "    'Census_ProcessorClass', \n",
    "    'Census_ProcessorManufacturerIdentifier', \n",
    "    'Census_IsFlightsDisabled',\n",
    "    'Census_OSBranch', \n",
    "    'AVProductsEnabled', \n",
    "    'Census_SystemVolumeTotalCapacity', \n",
    "    'CityIdentifier',\n",
    "    'Census_IsPortableOperatingSystem', \n",
    "    'IsSxsPassiveMode', \n",
    "    'Census_FirmwareManufacturerIdentifier',\n",
    "    'OrganizationIdentifier', \n",
    "    'Census_InternalPrimaryDiagonalDisplaySizeInInches', \n",
    "    'AutoSampleOptIn',\n",
    "    'OsBuildLab', \n",
    "    'Census_FirmwareVersionIdentifier', \n",
    "    'CountryIdentifier', \n",
    "    'UacLuaenable', \n",
    "    'IsBeta',\n",
    "    'Firewall', \n",
    "    'Census_IsPenCapable', \n",
    "    'Census_PrimaryDiskTotalCapacity', \n",
    "    'Platform',\n",
    "    'Census_IsWIMBootEnabled', \n",
    "    'GeoNameIdentifier'\n",
    "]\n",
    "\n",
    "# Make sure these exist\n",
    "assert 'X_train' in locals() and 'y_train' in locals()\n",
    "\n",
    "# Figure out which device to use. By default, CPU\n",
    "device = \"cpu\"\n",
    "# For M-architecture Macs\n",
    "if torch.backends.mps.is_available():\n",
    "    device = torch.device(\"mps\")\n",
    "# For NVIDIA\n",
    "elif torch.cuda.is_available():\n",
    "    device = torch.device(\"cuda\")\n",
    "\n",
    "X_train_lda_tensor = torch.tensor(X_train[lda_features].values, dtype=torch.float32).to(device)\n",
    "X_valid_lda_tensor = torch.tensor(X_valid[lda_features].values, dtype=torch.float32).to(device)\n",
    "y_train_tensor = torch.tensor(y_train.values, dtype=torch.float32).view(-1, 1).to(device)\n",
    "y_test_tensor = torch.tensor(y_valid.values, dtype=torch.float32).view(-1, 1).to(device)\n",
    "\n",
    "# DataLoader\n",
    "train_dataset_lda = TensorDataset(X_train_lda_tensor, y_train_tensor)\n",
    "valid_dataset_lda = TensorDataset(X_valid_lda_tensor, y_test_tensor)\n",
    "train_loader_lda = DataLoader(train_dataset_lda, batch_size=batch_size, shuffle=True)\n",
    "test_loader_lda = DataLoader(valid_dataset_lda, batch_size=batch_size, shuffle=False)\n",
    "\n",
    "# Model\n",
    "# Define complex model\n",
    "class BinaryClassifier(nn.Module):\n",
    "    def __init__(self):\n",
    "        super(BinaryClassifier, self).__init__()\n",
    "        self.layers = nn.Sequential(\n",
    "            nn.Linear(X_train_lda_tensor.shape[1], 512),\n",
    "            nn.ReLU(),\n",
    "            nn.BatchNorm1d(512),\n",
    "            nn.Dropout(0.3),\n",
    "\n",
    "            nn.Linear(512, 256),\n",
    "            nn.ReLU(),\n",
    "            nn.BatchNorm1d(256),\n",
    "            nn.Dropout(0.3),\n",
    "\n",
    "            nn.Linear(256, 128),\n",
    "            nn.ReLU(),\n",
    "            nn.BatchNorm1d(128),\n",
    "            nn.Dropout(0.4),\n",
    "\n",
    "            nn.Linear(128, 64),\n",
    "            nn.ReLU(),\n",
    "            nn.BatchNorm1d(64),\n",
    "            nn.Dropout(0.4),\n",
    "\n",
    "            nn.Linear(64, 1)\n",
    "        )\n",
    "\n",
    "    def forward(self, x):\n",
    "        return self.layers(x)\n",
    "\n",
    "\n",
    "\n",
    "model_lda = BinaryClassifier().to(device)\n",
    "\n",
    "criterion = nn.BCEWithLogitsLoss()  # or use nn.BCEWithLogitsLoss and remove sigmoid\n",
    "optimizer = optim.Adam(model_lda.parameters(), weight_decay=1e-4, lr=0.0001)\n",
    "scheduler = optim.lr_scheduler.ReduceLROnPlateau(optimizer, mode='min', factor=0.5, patience=2)\n",
    "\n",
    "# Train the model and save its weights\n",
    "best_model_weights_lda, train_loss_lda, test_loss_lda, train_accuracy_lda, test_accuracy_lda, lrs_lda = helper_functions.train_and_evaluate_model(\n",
    "    model_lda, criterion, optimizer, scheduler, train_loader_lda, test_loader_lda, epochs=100\n",
    ")\n",
    "\n",
    "torch.save(model_lda.state_dict(), '../Saved Models/3hl_initial_encodings_lda.pth')"
   ]
  },
  {
   "cell_type": "markdown",
   "id": "058cc14f-59c1-4c84-bc8e-ede42af49beb",
   "metadata": {},
   "source": [
    "### Plot the results of the above training (losses and accuracies)"
   ]
  },
  {
   "cell_type": "code",
   "execution_count": 15,
   "id": "5ad297ee-31f0-4b30-86f8-360331b4e0d7",
   "metadata": {},
   "outputs": [
    {
     "data": {
      "image/png": "[encoded data removed]",
      "text/plain": [
       "<Figure size 1200x600 with 1 Axes>"
      ]
     },
     "metadata": {},
     "output_type": "display_data"
    },
    {
     "data": {
      "image/png": "[encoded data removed]",
      "text/plain": [
       "<Figure size 1200x600 with 1 Axes>"
      ]
     },
     "metadata": {},
     "output_type": "display_data"
    }
   ],
   "source": [
    "import matplotlib.pyplot as plt\n",
    "import numpy as np\n",
    "\n",
    "\n",
    "# Plotting function\n",
    "plt.figure(figsize=(12, 6))\n",
    "plt.plot(np.arange(1, len(train_loss) + 1), train_loss, label='Train Loss Baseline', color='green')\n",
    "plt.plot(np.arange(1, len(test_loss) + 1), test_loss, label='Test Loss Baseline', color='red')\n",
    "plt.plot(np.arange(1, len(train_loss_pca) + 1), train_loss_pca, label='Train Loss PCA', color='blue')\n",
    "plt.plot(np.arange(1, len(test_loss_pca) + 1), test_loss_pca, label='Test Loss PCA', color='orange')\n",
    "plt.plot(np.arange(1, len(train_loss_lda) + 1), train_loss_lda, label='Train Loss LDA', color='yellow')\n",
    "plt.plot(np.arange(1, len(test_loss_lda) + 1), test_loss_lda, label='Test Loss LDA', color='pink')\n",
    "plt.xlabel('Epochs')\n",
    "plt.ylabel('Loss')\n",
    "plt.title('Loss vs. Epochs')\n",
    "plt.legend()\n",
    "plt.show()\n",
    "\n",
    "# Plotting function for accuracy\n",
    "plt.figure(figsize=(12, 6))\n",
    "plt.plot(np.arange(1, len(train_accuracy) + 1), train_accuracy, label='Train Accuracy Baseline', color='green')\n",
    "plt.plot(np.arange(1, len(test_accuracy) + 1), test_accuracy, label='Test Accuracy Baseline', color='red')\n",
    "plt.plot(np.arange(1, len(train_accuracy_pca) + 1), train_accuracy_pca, label='Train Accuracy PCA', color='blue')   \n",
    "plt.plot(np.arange(1, len(test_accuracy_pca) + 1), test_accuracy_pca, label='Test Accuracy PCA', color='orange')\n",
    "plt.plot(np.arange(1, len(train_accuracy_lda) + 1), train_accuracy_lda, label='Train Accuracy LDA', color='yellow')   \n",
    "plt.plot(np.arange(1, len(test_accuracy_lda) + 1), test_accuracy_lda, label='Test Accuracy LDA', color='pink')\n",
    "plt.xlabel('Epochs')\n",
    "plt.ylabel('Accuracy')\n",
    "plt.title('Accuracy vs. Epochs')\n",
    "plt.legend()\n",
    "plt.show()"
   ]
  },
  {
   "cell_type": "markdown",
   "id": "f656da05-4e45-4c82-96b6-b6417a4831cd",
   "metadata": {},
   "source": [
    "## Load Advanced Encodings"
   ]
  },
  {
   "cell_type": "code",
   "execution_count": null,
   "id": "4ae2bf84-1750-4254-81a2-da9a1a58d31b",
   "metadata": {},
   "outputs": [],
   "source": [
    "import torch\n",
    "import torch.nn as nn\n",
    "import torch.optim as optim\n",
    "import numpy as np\n",
    "import pandas as pd\n",
    "from tqdm import tqdm\n",
    "from torch.utils.data import DataLoader, TensorDataset\n",
    "import helper_functions\n",
    "import importlib\n",
    "import os\n",
    "\n",
    "train_dtypes=test_dtypes=dtypes = {\n",
    "    'ProductName':                                                  'float32',\n",
    "    'IsBeta':                                                       'float32',\n",
    "    'RtpStateBitfield':                                             'float32',\n",
    "    'IsSxsPassiveMode':                                             'float32',\n",
    "    'DefaultBrowsersIdentifier':                                    'float32',\n",
    "    'AVProductStatesIdentifier':                                    'float32',\n",
    "    'AVProductsInstalled':                                          'float32',\n",
    "    'AVProductsEnabled':                                            'float32',\n",
    "    'HasTpm':                                                       'float32',\n",
    "    'CountryIdentifier':                                            'float32',\n",
    "    'CityIdentifier':                                               'float32',\n",
    "    'OrganizationIdentifier':                                       'float32',\n",
    "    'GeoNameIdentifier':                                            'float32',\n",
    "    'LocaleEnglishNameIdentifier':                                  'float32',\n",
    "    'Platform':                                                     'float32',\n",
    "    'Processor':                                                    'float32',\n",
    "    'OsVer':                                                        'float32',\n",
    "    'OsBuild':                                                      'float32',\n",
    "    'OsSuite':                                                      'float32',\n",
    "    'OsPlatformSubRelease':                                         'float32',\n",
    "    'OsBuildLab':                                                   'float32',\n",
    "    'SkuEdition':                                                   'float32',\n",
    "    'IsProtected':                                                  'float32',\n",
    "    'AutoSampleOptIn':                                              'float32',\n",
    "    'PuaMode':                                                      'float32',\n",
    "    'SMode':                                                        'float32',\n",
    "    'IeVerIdentifier':                                              'float32',\n",
    "    'SmartScreen':                                                  'float32',\n",
    "    'Firewall':                                                     'float32',\n",
    "    'UacLuaenable':                                                 'float32',\n",
    "    'Census_MDC2FormFactor':                                        'float32',\n",
    "    'Census_DeviceFamily':                                          'float32',\n",
    "    'Census_OEMNameIdentifier':                                     'float32',\n",
    "    'Census_OEMModelIdentifier':                                    'float32',\n",
    "    'Census_ProcessorCoreCount':                                    'float32',\n",
    "    'Census_ProcessorManufacturerIdentifier':                       'float32',\n",
    "    'Census_ProcessorModelIdentifier':                              'float32',\n",
    "    'Census_ProcessorClass':                                        'float32',\n",
    "    'Census_PrimaryDiskTotalCapacity':                              'float32',\n",
    "    'Census_PrimaryDiskTypeName':                                   'float32',\n",
    "    'Census_SystemVolumeTotalCapacity':                             'float32',\n",
    "    'Census_HasOpticalDiskDrive':                                   'float32',\n",
    "    'Census_TotalPhysicalRAM':                                      'float32',\n",
    "    'Census_ChassisTypeName':                                       'float32',\n",
    "    'Census_InternalPrimaryDiagonalDisplaySizeInInches':            'float32',\n",
    "    'Census_InternalPrimaryDisplayResolutionHorizontal':            'float32',\n",
    "    'Census_InternalPrimaryDisplayResolutionVertical':              'float32',\n",
    "    'Census_PowerPlatformRoleName':                                 'float32',\n",
    "    'Census_InternalBatteryType':                                   'float32',\n",
    "    'Census_InternalBatteryNumberOfCharges':                        'float32',\n",
    "    'Census_OSArchitecture':                                        'float32',\n",
    "    'Census_OSBranch':                                              'float32',\n",
    "    'Census_OSBuildNumber':                                         'float32',\n",
    "    'Census_OSBuildRevision':                                       'float32',\n",
    "    'Census_OSEdition':                                             'float32',\n",
    "    'Census_OSSkuName':                                             'float32',\n",
    "    'Census_OSInstallTypeName':                                     'float32',\n",
    "    'Census_OSInstallLanguageIdentifier':                           'float32',\n",
    "    'Census_OSUILocaleIdentifier':                                  'float32',\n",
    "    'Census_OSWUAutoUpdateOptionsName':                             'float32',\n",
    "    'Census_IsPortableOperatingSystem':                             'float32',\n",
    "    'Census_GenuineStateName':                                      'float32',\n",
    "    'Census_ActivationChannel':                                     'float32',\n",
    "    'Census_IsFlightingInternal':                                   'float32',\n",
    "    'Census_IsFlightsDisabled':                                     'float32',\n",
    "    'Census_FlightRing':                                            'float32',\n",
    "    'Census_ThresholdOptIn':                                        'float32',\n",
    "    'Census_FirmwareManufacturerIdentifier':                        'float32',\n",
    "    'Census_FirmwareVersionIdentifier':                             'float32',\n",
    "    'Census_IsSecureBootEnabled':                                   'float32',\n",
    "    'Census_IsWIMBootEnabled':                                      'float32',\n",
    "    'Census_IsVirtualDevice':                                       'float32',\n",
    "    'Census_IsTouchEnabled':                                        'float32',\n",
    "    'Census_IsPenCapable':                                          'float32',\n",
    "    'Census_IsAlwaysOnAlwaysConnectedCapable':                      'float32',\n",
    "    'Wdft_IsGamer':                                                 'float32',\n",
    "    'Wdft_RegionIdentifier':                                        'float32',\n",
    "    'EngineVersion_1':                                              'int8',\n",
    "    'EngineVersion_2':                                              'int8',\n",
    "    'EngineVersion_3':                                              'float32',\n",
    "    'EngineVersion_4':                                              'float32',\n",
    "    'AppVersion_1':                                                 'int8',\n",
    "    'AppVersion_2':                                                 'float32',\n",
    "    'AppVersion_3':                                                 'float32',\n",
    "    'AppVersion_4':                                                 'float32',\n",
    "    'AvSigVersion_1':                                               'float32',\n",
    "    'AvSigVersion_2':                                               'float32',\n",
    "    'AvSigVersion_3':                                               'float32',\n",
    "    'AvSigVersion_4':                                               'int8',\n",
    "    'Census_OSVersion_1':                                           'float32',\n",
    "    'Census_OSVersion_2':                                           'float32',\n",
    "    'Census_OSVersion_3':                                           'float32',\n",
    "    'Census_OSVersion_4':                                           'float32',\n",
    "    'HasDetections':                                                'int8',\n",
    "}\n",
    "# Load the encoded datasets\n",
    "train_data = pd.read_csv(\"../data/train_data_kaggle_processed.csv\",dtype=train_dtypes)\n",
    "test_data = pd.read_csv(\"../data/validation_data_kaggle_processed.csv\",dtype=test_dtypes)\n",
    "\n",
    "X_train = train_data.drop('HasDetections', axis=1)\n",
    "y_train = train_data['HasDetections']\n",
    "X_valid = test_data.drop('HasDetections', axis=1)\n",
    "y_valid = test_data['HasDetections']\n",
    "\n",
    "del train_data, test_data"
   ]
  },
  {
   "cell_type": "markdown",
   "id": "019a9d7a-22f9-4b84-ae50-f09714027890",
   "metadata": {},
   "source": [
    "## Train 3-Hidden-Layer Neural Network (Regular)"
   ]
  },
  {
   "cell_type": "code",
   "execution_count": null,
   "id": "d80ca8d1-6b2d-497b-809f-633566e76eaf",
   "metadata": {},
   "outputs": [
    {
     "name": "stdout",
     "output_type": "stream",
     "text": [
      "Training on mps\n"
     ]
    },
    {
     "name": "stderr",
     "output_type": "stream",
     "text": [
      "Epoch 1/100 - LR: 0.000100: 100%|█████████████████████████████| 3485/3485 [02:18<00:00, 25.17it/s, acc=63.06%, loss=0.6315]\n"
     ]
    },
    {
     "name": "stdout",
     "output_type": "stream",
     "text": [
      "Epoch 1 Loss: 0.6632, Train Accuracy: 60.20%\n",
      "Test Loss: 0.6362, Test Accuracy: 63.01%\n"
     ]
    },
    {
     "name": "stderr",
     "output_type": "stream",
     "text": [
      "Epoch 2/100 - LR: 0.000100: 100%|█████████████████████████████| 3485/3485 [02:15<00:00, 25.70it/s, acc=62.80%, loss=0.6297]\n"
     ]
    },
    {
     "name": "stdout",
     "output_type": "stream",
     "text": [
      "Epoch 2 Loss: 0.6371, Train Accuracy: 62.87%\n",
      "Test Loss: 0.6276, Test Accuracy: 63.71%\n"
     ]
    },
    {
     "name": "stderr",
     "output_type": "stream",
     "text": [
      "Epoch 3/100 - LR: 0.000100: 100%|█████████████████████████████| 3485/3485 [02:16<00:00, 25.44it/s, acc=63.47%, loss=0.6338]\n"
     ]
    },
    {
     "name": "stdout",
     "output_type": "stream",
     "text": [
      "Epoch 3 Loss: 0.6309, Train Accuracy: 63.48%\n",
      "Test Loss: 0.6245, Test Accuracy: 64.04%\n"
     ]
    },
    {
     "name": "stderr",
     "output_type": "stream",
     "text": [
      "Epoch 4/100 - LR: 0.000100: 100%|█████████████████████████████| 3485/3485 [02:16<00:00, 25.58it/s, acc=63.88%, loss=0.6299]\n"
     ]
    },
    {
     "name": "stdout",
     "output_type": "stream",
     "text": [
      "Epoch 4 Loss: 0.6281, Train Accuracy: 63.78%\n",
      "Test Loss: 0.6228, Test Accuracy: 64.24%\n"
     ]
    },
    {
     "name": "stderr",
     "output_type": "stream",
     "text": [
      "Epoch 5/100 - LR: 0.000100: 100%|█████████████████████████████| 3485/3485 [02:16<00:00, 25.49it/s, acc=64.96%, loss=0.6231]\n"
     ]
    },
    {
     "name": "stdout",
     "output_type": "stream",
     "text": [
      "Epoch 5 Loss: 0.6264, Train Accuracy: 63.96%\n",
      "Test Loss: 0.6215, Test Accuracy: 64.39%\n"
     ]
    },
    {
     "name": "stderr",
     "output_type": "stream",
     "text": [
      "Epoch 6/100 - LR: 0.000100: 100%|█████████████████████████████| 3485/3485 [02:16<00:00, 25.56it/s, acc=62.29%, loss=0.6307]\n"
     ]
    },
    {
     "name": "stdout",
     "output_type": "stream",
     "text": [
      "Epoch 6 Loss: 0.6251, Train Accuracy: 64.12%\n",
      "Test Loss: 0.6204, Test Accuracy: 64.57%\n"
     ]
    },
    {
     "name": "stderr",
     "output_type": "stream",
     "text": [
      "Epoch 7/100 - LR: 0.000100: 100%|█████████████████████████████| 3485/3485 [02:16<00:00, 25.47it/s, acc=64.85%, loss=0.6208]\n"
     ]
    },
    {
     "name": "stdout",
     "output_type": "stream",
     "text": [
      "Epoch 7 Loss: 0.6237, Train Accuracy: 64.30%\n",
      "Test Loss: 0.6189, Test Accuracy: 64.74%\n"
     ]
    },
    {
     "name": "stderr",
     "output_type": "stream",
     "text": [
      "Epoch 8/100 - LR: 0.000100: 100%|█████████████████████████████| 3485/3485 [02:16<00:00, 25.55it/s, acc=63.67%, loss=0.6265]\n"
     ]
    },
    {
     "name": "stdout",
     "output_type": "stream",
     "text": [
      "Epoch 8 Loss: 0.6224, Train Accuracy: 64.48%\n",
      "Test Loss: 0.6179, Test Accuracy: 64.87%\n"
     ]
    },
    {
     "name": "stderr",
     "output_type": "stream",
     "text": [
      "Epoch 9/100 - LR: 0.000100: 100%|█████████████████████████████| 3485/3485 [02:17<00:00, 25.38it/s, acc=63.57%, loss=0.6312]\n"
     ]
    },
    {
     "name": "stdout",
     "output_type": "stream",
     "text": [
      "Epoch 9 Loss: 0.6215, Train Accuracy: 64.57%\n",
      "Test Loss: 0.6171, Test Accuracy: 64.97%\n"
     ]
    },
    {
     "name": "stderr",
     "output_type": "stream",
     "text": [
      "Epoch 10/100 - LR: 0.000100: 100%|████████████████████████████| 3485/3485 [02:16<00:00, 25.56it/s, acc=62.24%, loss=0.6318]\n"
     ]
    },
    {
     "name": "stdout",
     "output_type": "stream",
     "text": [
      "Epoch 10 Loss: 0.6206, Train Accuracy: 64.68%\n",
      "Test Loss: 0.6164, Test Accuracy: 65.04%\n"
     ]
    },
    {
     "name": "stderr",
     "output_type": "stream",
     "text": [
      "Epoch 11/100 - LR: 0.000100: 100%|████████████████████████████| 3485/3485 [02:16<00:00, 25.55it/s, acc=64.85%, loss=0.6229]\n"
     ]
    },
    {
     "name": "stdout",
     "output_type": "stream",
     "text": [
      "Epoch 11 Loss: 0.6199, Train Accuracy: 64.74%\n",
      "Test Loss: 0.6158, Test Accuracy: 65.08%\n"
     ]
    },
    {
     "name": "stderr",
     "output_type": "stream",
     "text": [
      "Epoch 12/100 - LR: 0.000100: 100%|████████████████████████████| 3485/3485 [02:16<00:00, 25.47it/s, acc=63.47%, loss=0.6296]\n"
     ]
    },
    {
     "name": "stdout",
     "output_type": "stream",
     "text": [
      "Epoch 12 Loss: 0.6193, Train Accuracy: 64.80%\n",
      "Test Loss: 0.6154, Test Accuracy: 65.14%\n"
     ]
    },
    {
     "name": "stderr",
     "output_type": "stream",
     "text": [
      "Epoch 13/100 - LR: 0.000100: 100%|████████████████████████████| 3485/3485 [02:16<00:00, 25.48it/s, acc=65.52%, loss=0.6246]\n"
     ]
    },
    {
     "name": "stdout",
     "output_type": "stream",
     "text": [
      "Epoch 13 Loss: 0.6188, Train Accuracy: 64.87%\n",
      "Test Loss: 0.6147, Test Accuracy: 65.19%\n"
     ]
    },
    {
     "name": "stderr",
     "output_type": "stream",
     "text": [
      "Epoch 14/100 - LR: 0.000100: 100%|████████████████████████████| 3485/3485 [02:17<00:00, 25.43it/s, acc=65.37%, loss=0.6082]\n"
     ]
    },
    {
     "name": "stdout",
     "output_type": "stream",
     "text": [
      "Epoch 14 Loss: 0.6182, Train Accuracy: 64.94%\n",
      "Test Loss: 0.6142, Test Accuracy: 65.24%\n"
     ]
    },
    {
     "name": "stderr",
     "output_type": "stream",
     "text": [
      "Epoch 15/100 - LR: 0.000100: 100%|████████████████████████████| 3485/3485 [02:16<00:00, 25.51it/s, acc=64.08%, loss=0.6187]\n"
     ]
    },
    {
     "name": "stdout",
     "output_type": "stream",
     "text": [
      "Epoch 15 Loss: 0.6179, Train Accuracy: 64.97%\n",
      "Test Loss: 0.6140, Test Accuracy: 65.30%\n"
     ]
    },
    {
     "name": "stderr",
     "output_type": "stream",
     "text": [
      "Epoch 16/100 - LR: 0.000100: 100%|████████████████████████████| 3485/3485 [02:17<00:00, 25.43it/s, acc=65.16%, loss=0.6220]\n"
     ]
    },
    {
     "name": "stdout",
     "output_type": "stream",
     "text": [
      "Epoch 16 Loss: 0.6174, Train Accuracy: 65.01%\n",
      "Test Loss: 0.6134, Test Accuracy: 65.36%\n"
     ]
    },
    {
     "name": "stderr",
     "output_type": "stream",
     "text": [
      "Epoch 17/100 - LR: 0.000100: 100%|████████████████████████████| 3485/3485 [02:16<00:00, 25.53it/s, acc=65.37%, loss=0.6133]\n"
     ]
    },
    {
     "name": "stdout",
     "output_type": "stream",
     "text": [
      "Epoch 17 Loss: 0.6171, Train Accuracy: 65.04%\n",
      "Test Loss: 0.6133, Test Accuracy: 65.36%\n"
     ]
    },
    {
     "name": "stderr",
     "output_type": "stream",
     "text": [
      "Epoch 18/100 - LR: 0.000100: 100%|████████████████████████████| 3485/3485 [02:17<00:00, 25.41it/s, acc=67.62%, loss=0.6081]\n"
     ]
    },
    {
     "name": "stdout",
     "output_type": "stream",
     "text": [
      "Epoch 18 Loss: 0.6169, Train Accuracy: 65.08%\n",
      "Test Loss: 0.6131, Test Accuracy: 65.40%\n"
     ]
    },
    {
     "name": "stderr",
     "output_type": "stream",
     "text": [
      "Epoch 19/100 - LR: 0.000100: 100%|████████████████████████████| 3485/3485 [02:16<00:00, 25.44it/s, acc=64.60%, loss=0.6172]\n"
     ]
    },
    {
     "name": "stdout",
     "output_type": "stream",
     "text": [
      "Epoch 19 Loss: 0.6165, Train Accuracy: 65.12%\n",
      "Test Loss: 0.6123, Test Accuracy: 65.43%\n"
     ]
    },
    {
     "name": "stderr",
     "output_type": "stream",
     "text": [
      "Epoch 20/100 - LR: 0.000100: 100%|████████████████████████████| 3485/3485 [02:17<00:00, 25.35it/s, acc=63.57%, loss=0.6178]\n"
     ]
    },
    {
     "name": "stdout",
     "output_type": "stream",
     "text": [
      "Epoch 20 Loss: 0.6163, Train Accuracy: 65.13%\n",
      "Test Loss: 0.6123, Test Accuracy: 65.46%\n"
     ]
    },
    {
     "name": "stderr",
     "output_type": "stream",
     "text": [
      "Epoch 21/100 - LR: 0.000100: 100%|████████████████████████████| 3485/3485 [02:15<00:00, 25.73it/s, acc=64.55%, loss=0.6177]\n"
     ]
    },
    {
     "name": "stdout",
     "output_type": "stream",
     "text": [
      "Epoch 21 Loss: 0.6160, Train Accuracy: 65.15%\n",
      "Test Loss: 0.6124, Test Accuracy: 65.45%\n"
     ]
    },
    {
     "name": "stderr",
     "output_type": "stream",
     "text": [
      "Epoch 22/100 - LR: 0.000100: 100%|████████████████████████████| 3485/3485 [02:15<00:00, 25.68it/s, acc=64.75%, loss=0.6216]\n"
     ]
    },
    {
     "name": "stdout",
     "output_type": "stream",
     "text": [
      "Epoch 22 Loss: 0.6158, Train Accuracy: 65.19%\n",
      "Test Loss: 0.6122, Test Accuracy: 65.49%\n"
     ]
    },
    {
     "name": "stderr",
     "output_type": "stream",
     "text": [
      "Epoch 23/100 - LR: 0.000100: 100%|████████████████████████████| 3485/3485 [02:15<00:00, 25.70it/s, acc=65.06%, loss=0.6237]\n"
     ]
    },
    {
     "name": "stdout",
     "output_type": "stream",
     "text": [
      "Epoch 23 Loss: 0.6156, Train Accuracy: 65.22%\n",
      "Test Loss: 0.6116, Test Accuracy: 65.55%\n"
     ]
    },
    {
     "name": "stderr",
     "output_type": "stream",
     "text": [
      "Epoch 24/100 - LR: 0.000100: 100%|████████████████████████████| 3485/3485 [02:15<00:00, 25.69it/s, acc=65.78%, loss=0.6120]\n"
     ]
    },
    {
     "name": "stdout",
     "output_type": "stream",
     "text": [
      "Epoch 24 Loss: 0.6154, Train Accuracy: 65.24%\n",
      "Test Loss: 0.6113, Test Accuracy: 65.58%\n"
     ]
    },
    {
     "name": "stderr",
     "output_type": "stream",
     "text": [
      "Epoch 25/100 - LR: 0.000100: 100%|████████████████████████████| 3485/3485 [02:15<00:00, 25.74it/s, acc=65.73%, loss=0.6083]\n"
     ]
    },
    {
     "name": "stdout",
     "output_type": "stream",
     "text": [
      "Epoch 25 Loss: 0.6152, Train Accuracy: 65.26%\n",
      "Test Loss: 0.6113, Test Accuracy: 65.59%\n"
     ]
    },
    {
     "name": "stderr",
     "output_type": "stream",
     "text": [
      "Epoch 26/100 - LR: 0.000100: 100%|████████████████████████████| 3485/3485 [02:15<00:00, 25.69it/s, acc=65.67%, loss=0.6168]\n"
     ]
    },
    {
     "name": "stdout",
     "output_type": "stream",
     "text": [
      "Epoch 26 Loss: 0.6150, Train Accuracy: 65.27%\n",
      "Test Loss: 0.6111, Test Accuracy: 65.59%\n"
     ]
    },
    {
     "name": "stderr",
     "output_type": "stream",
     "text": [
      "Epoch 27/100 - LR: 0.000100: 100%|████████████████████████████| 3485/3485 [02:15<00:00, 25.66it/s, acc=65.67%, loss=0.6131]\n"
     ]
    },
    {
     "name": "stdout",
     "output_type": "stream",
     "text": [
      "Epoch 27 Loss: 0.6149, Train Accuracy: 65.28%\n",
      "Test Loss: 0.6112, Test Accuracy: 65.59%\n"
     ]
    },
    {
     "name": "stderr",
     "output_type": "stream",
     "text": [
      "Epoch 28/100 - LR: 0.000100: 100%|████████████████████████████| 3485/3485 [02:15<00:00, 25.75it/s, acc=64.91%, loss=0.6137]\n"
     ]
    },
    {
     "name": "stdout",
     "output_type": "stream",
     "text": [
      "Epoch 28 Loss: 0.6147, Train Accuracy: 65.31%\n",
      "Test Loss: 0.6113, Test Accuracy: 65.57%\n"
     ]
    },
    {
     "name": "stderr",
     "output_type": "stream",
     "text": [
      "Epoch 29/100 - LR: 0.000100: 100%|████████████████████████████| 3485/3485 [02:15<00:00, 25.70it/s, acc=64.34%, loss=0.6279]\n"
     ]
    },
    {
     "name": "stdout",
     "output_type": "stream",
     "text": [
      "Epoch 29 Loss: 0.6145, Train Accuracy: 65.34%\n",
      "Test Loss: 0.6107, Test Accuracy: 65.65%\n"
     ]
    },
    {
     "name": "stderr",
     "output_type": "stream",
     "text": [
      "Epoch 30/100 - LR: 0.000100: 100%|████████████████████████████| 3485/3485 [02:15<00:00, 25.74it/s, acc=65.42%, loss=0.6162]\n"
     ]
    },
    {
     "name": "stdout",
     "output_type": "stream",
     "text": [
      "Epoch 30 Loss: 0.6144, Train Accuracy: 65.35%\n",
      "Test Loss: 0.6105, Test Accuracy: 65.65%\n"
     ]
    },
    {
     "name": "stderr",
     "output_type": "stream",
     "text": [
      "Epoch 31/100 - LR: 0.000100: 100%|████████████████████████████| 3485/3485 [02:15<00:00, 25.72it/s, acc=65.78%, loss=0.6106]\n"
     ]
    },
    {
     "name": "stdout",
     "output_type": "stream",
     "text": [
      "Epoch 31 Loss: 0.6142, Train Accuracy: 65.37%\n",
      "Test Loss: 0.6104, Test Accuracy: 65.66%\n"
     ]
    },
    {
     "name": "stderr",
     "output_type": "stream",
     "text": [
      "Epoch 32/100 - LR: 0.000100: 100%|████████████████████████████| 3485/3485 [02:15<00:00, 25.77it/s, acc=66.60%, loss=0.6064]\n"
     ]
    },
    {
     "name": "stdout",
     "output_type": "stream",
     "text": [
      "Epoch 32 Loss: 0.6141, Train Accuracy: 65.37%\n",
      "Test Loss: 0.6104, Test Accuracy: 65.68%\n"
     ]
    },
    {
     "name": "stderr",
     "output_type": "stream",
     "text": [
      "Epoch 33/100 - LR: 0.000100: 100%|████████████████████████████| 3485/3485 [02:15<00:00, 25.68it/s, acc=64.60%, loss=0.6143]\n"
     ]
    },
    {
     "name": "stdout",
     "output_type": "stream",
     "text": [
      "Epoch 33 Loss: 0.6140, Train Accuracy: 65.38%\n",
      "Test Loss: 0.6100, Test Accuracy: 65.69%\n"
     ]
    },
    {
     "name": "stderr",
     "output_type": "stream",
     "text": [
      "Epoch 34/100 - LR: 0.000100: 100%|████████████████████████████| 3485/3485 [02:15<00:00, 25.66it/s, acc=64.29%, loss=0.6122]\n"
     ]
    },
    {
     "name": "stdout",
     "output_type": "stream",
     "text": [
      "Epoch 34 Loss: 0.6139, Train Accuracy: 65.39%\n",
      "Test Loss: 0.6100, Test Accuracy: 65.73%\n"
     ]
    },
    {
     "name": "stderr",
     "output_type": "stream",
     "text": [
      "Epoch 35/100 - LR: 0.000100: 100%|████████████████████████████| 3485/3485 [02:16<00:00, 25.62it/s, acc=64.80%, loss=0.6221]\n"
     ]
    },
    {
     "name": "stdout",
     "output_type": "stream",
     "text": [
      "Epoch 35 Loss: 0.6138, Train Accuracy: 65.42%\n",
      "Test Loss: 0.6099, Test Accuracy: 65.71%\n"
     ]
    },
    {
     "name": "stderr",
     "output_type": "stream",
     "text": [
      "Epoch 36/100 - LR: 0.000100: 100%|████████████████████████████| 3485/3485 [02:16<00:00, 25.53it/s, acc=64.55%, loss=0.6156]\n"
     ]
    },
    {
     "name": "stdout",
     "output_type": "stream",
     "text": [
      "Epoch 36 Loss: 0.6137, Train Accuracy: 65.43%\n",
      "Test Loss: 0.6100, Test Accuracy: 65.70%\n"
     ]
    },
    {
     "name": "stderr",
     "output_type": "stream",
     "text": [
      "Epoch 37/100 - LR: 0.000100: 100%|████████████████████████████| 3485/3485 [02:15<00:00, 25.69it/s, acc=63.01%, loss=0.6269]\n"
     ]
    },
    {
     "name": "stdout",
     "output_type": "stream",
     "text": [
      "Epoch 37 Loss: 0.6136, Train Accuracy: 65.42%\n",
      "Test Loss: 0.6098, Test Accuracy: 65.73%\n"
     ]
    },
    {
     "name": "stderr",
     "output_type": "stream",
     "text": [
      "Epoch 38/100 - LR: 0.000100: 100%|████████████████████████████| 3485/3485 [02:15<00:00, 25.67it/s, acc=65.93%, loss=0.6061]\n"
     ]
    },
    {
     "name": "stdout",
     "output_type": "stream",
     "text": [
      "Epoch 38 Loss: 0.6135, Train Accuracy: 65.46%\n",
      "Test Loss: 0.6096, Test Accuracy: 65.75%\n"
     ]
    },
    {
     "name": "stderr",
     "output_type": "stream",
     "text": [
      "Epoch 39/100 - LR: 0.000100: 100%|████████████████████████████| 3485/3485 [02:15<00:00, 25.74it/s, acc=67.62%, loss=0.5993]\n"
     ]
    },
    {
     "name": "stdout",
     "output_type": "stream",
     "text": [
      "Epoch 39 Loss: 0.6134, Train Accuracy: 65.46%\n",
      "Test Loss: 0.6098, Test Accuracy: 65.77%\n"
     ]
    },
    {
     "name": "stderr",
     "output_type": "stream",
     "text": [
      "Epoch 40/100 - LR: 0.000100: 100%|████████████████████████████| 3485/3485 [02:16<00:00, 25.56it/s, acc=64.60%, loss=0.6300]\n"
     ]
    },
    {
     "name": "stdout",
     "output_type": "stream",
     "text": [
      "Epoch 40 Loss: 0.6132, Train Accuracy: 65.48%\n",
      "Test Loss: 0.6095, Test Accuracy: 65.79%\n"
     ]
    },
    {
     "name": "stderr",
     "output_type": "stream",
     "text": [
      "Epoch 41/100 - LR: 0.000100: 100%|████████████████████████████| 3485/3485 [02:16<00:00, 25.61it/s, acc=65.88%, loss=0.6154]\n"
     ]
    },
    {
     "name": "stdout",
     "output_type": "stream",
     "text": [
      "Epoch 41 Loss: 0.6133, Train Accuracy: 65.47%\n",
      "Test Loss: 0.6093, Test Accuracy: 65.77%\n"
     ]
    },
    {
     "name": "stderr",
     "output_type": "stream",
     "text": [
      "Epoch 42/100 - LR: 0.000100: 100%|████████████████████████████| 3485/3485 [02:16<00:00, 25.54it/s, acc=63.98%, loss=0.6142]\n"
     ]
    },
    {
     "name": "stdout",
     "output_type": "stream",
     "text": [
      "Epoch 42 Loss: 0.6131, Train Accuracy: 65.47%\n",
      "Test Loss: 0.6094, Test Accuracy: 65.78%\n"
     ]
    },
    {
     "name": "stderr",
     "output_type": "stream",
     "text": [
      "Epoch 43/100 - LR: 0.000100: 100%|████████████████████████████| 3485/3485 [02:15<00:00, 25.69it/s, acc=64.70%, loss=0.6161]\n"
     ]
    },
    {
     "name": "stdout",
     "output_type": "stream",
     "text": [
      "Epoch 43 Loss: 0.6131, Train Accuracy: 65.49%\n",
      "Test Loss: 0.6093, Test Accuracy: 65.78%\n"
     ]
    },
    {
     "name": "stderr",
     "output_type": "stream",
     "text": [
      "Epoch 44/100 - LR: 0.000100: 100%|████████████████████████████| 3485/3485 [02:16<00:00, 25.62it/s, acc=65.42%, loss=0.6091]\n"
     ]
    },
    {
     "name": "stdout",
     "output_type": "stream",
     "text": [
      "Epoch 44 Loss: 0.6130, Train Accuracy: 65.48%\n",
      "Test Loss: 0.6091, Test Accuracy: 65.82%\n"
     ]
    },
    {
     "name": "stderr",
     "output_type": "stream",
     "text": [
      "Epoch 45/100 - LR: 0.000100: 100%|████████████████████████████| 3485/3485 [02:17<00:00, 25.43it/s, acc=66.03%, loss=0.6148]\n"
     ]
    },
    {
     "name": "stdout",
     "output_type": "stream",
     "text": [
      "Epoch 45 Loss: 0.6129, Train Accuracy: 65.50%\n",
      "Test Loss: 0.6091, Test Accuracy: 65.81%\n"
     ]
    },
    {
     "name": "stderr",
     "output_type": "stream",
     "text": [
      "Epoch 46/100 - LR: 0.000100: 100%|████████████████████████████| 3485/3485 [02:16<00:00, 25.47it/s, acc=65.83%, loss=0.6212]\n"
     ]
    },
    {
     "name": "stdout",
     "output_type": "stream",
     "text": [
      "Epoch 46 Loss: 0.6128, Train Accuracy: 65.51%\n",
      "Test Loss: 0.6090, Test Accuracy: 65.81%\n"
     ]
    },
    {
     "name": "stderr",
     "output_type": "stream",
     "text": [
      "Epoch 47/100 - LR: 0.000100: 100%|████████████████████████████| 3485/3485 [02:17<00:00, 25.40it/s, acc=66.80%, loss=0.6108]\n"
     ]
    },
    {
     "name": "stdout",
     "output_type": "stream",
     "text": [
      "Epoch 47 Loss: 0.6127, Train Accuracy: 65.51%\n",
      "Test Loss: 0.6089, Test Accuracy: 65.80%\n"
     ]
    },
    {
     "name": "stderr",
     "output_type": "stream",
     "text": [
      "Epoch 48/100 - LR: 0.000100: 100%|████████████████████████████| 3485/3485 [02:16<00:00, 25.45it/s, acc=64.39%, loss=0.6262]\n"
     ]
    },
    {
     "name": "stdout",
     "output_type": "stream",
     "text": [
      "Epoch 48 Loss: 0.6127, Train Accuracy: 65.54%\n",
      "Test Loss: 0.6088, Test Accuracy: 65.82%\n"
     ]
    },
    {
     "name": "stderr",
     "output_type": "stream",
     "text": [
      "Epoch 49/100 - LR: 0.000100: 100%|████████████████████████████| 3485/3485 [02:17<00:00, 25.43it/s, acc=66.29%, loss=0.6001]\n"
     ]
    },
    {
     "name": "stdout",
     "output_type": "stream",
     "text": [
      "Epoch 49 Loss: 0.6126, Train Accuracy: 65.53%\n",
      "Test Loss: 0.6090, Test Accuracy: 65.81%\n"
     ]
    },
    {
     "name": "stderr",
     "output_type": "stream",
     "text": [
      "Epoch 50/100 - LR: 0.000100: 100%|████████████████████████████| 3485/3485 [02:16<00:00, 25.54it/s, acc=65.16%, loss=0.6108]\n"
     ]
    },
    {
     "name": "stdout",
     "output_type": "stream",
     "text": [
      "Epoch 50 Loss: 0.6126, Train Accuracy: 65.54%\n",
      "Test Loss: 0.6087, Test Accuracy: 65.81%\n"
     ]
    },
    {
     "name": "stderr",
     "output_type": "stream",
     "text": [
      "Epoch 51/100 - LR: 0.000100: 100%|████████████████████████████| 3485/3485 [02:16<00:00, 25.61it/s, acc=64.39%, loss=0.6179]\n"
     ]
    },
    {
     "name": "stdout",
     "output_type": "stream",
     "text": [
      "Epoch 51 Loss: 0.6124, Train Accuracy: 65.55%\n",
      "Test Loss: 0.6087, Test Accuracy: 65.81%\n"
     ]
    },
    {
     "name": "stderr",
     "output_type": "stream",
     "text": [
      "Epoch 52/100 - LR: 0.000100: 100%|████████████████████████████| 3485/3485 [02:14<00:00, 25.83it/s, acc=64.91%, loss=0.6175]\n"
     ]
    },
    {
     "name": "stdout",
     "output_type": "stream",
     "text": [
      "Epoch 52 Loss: 0.6124, Train Accuracy: 65.56%\n",
      "Test Loss: 0.6087, Test Accuracy: 65.85%\n"
     ]
    },
    {
     "name": "stderr",
     "output_type": "stream",
     "text": [
      "Epoch 53/100 - LR: 0.000100: 100%|████████████████████████████| 3485/3485 [02:16<00:00, 25.55it/s, acc=66.44%, loss=0.6111]\n"
     ]
    },
    {
     "name": "stdout",
     "output_type": "stream",
     "text": [
      "Epoch 53 Loss: 0.6125, Train Accuracy: 65.55%\n",
      "Test Loss: 0.6087, Test Accuracy: 65.83%\n",
      "Learning rate changed from 0.000100 to 0.000050\n"
     ]
    },
    {
     "name": "stderr",
     "output_type": "stream",
     "text": [
      "Epoch 54/100 - LR: 0.000050: 100%|████████████████████████████| 3485/3485 [02:15<00:00, 25.65it/s, acc=66.39%, loss=0.6072]\n"
     ]
    },
    {
     "name": "stdout",
     "output_type": "stream",
     "text": [
      "Epoch 54 Loss: 0.6112, Train Accuracy: 65.68%\n",
      "Test Loss: 0.6074, Test Accuracy: 65.96%\n"
     ]
    },
    {
     "name": "stderr",
     "output_type": "stream",
     "text": [
      "Epoch 55/100 - LR: 0.000050: 100%|████████████████████████████| 3485/3485 [02:16<00:00, 25.62it/s, acc=65.62%, loss=0.6106]\n"
     ]
    },
    {
     "name": "stdout",
     "output_type": "stream",
     "text": [
      "Epoch 55 Loss: 0.6107, Train Accuracy: 65.73%\n",
      "Test Loss: 0.6072, Test Accuracy: 66.00%\n"
     ]
    },
    {
     "name": "stderr",
     "output_type": "stream",
     "text": [
      "Epoch 56/100 - LR: 0.000050: 100%|████████████████████████████| 3485/3485 [02:17<00:00, 25.42it/s, acc=65.67%, loss=0.6101]\n"
     ]
    },
    {
     "name": "stdout",
     "output_type": "stream",
     "text": [
      "Epoch 56 Loss: 0.6106, Train Accuracy: 65.73%\n",
      "Test Loss: 0.6071, Test Accuracy: 65.99%\n"
     ]
    },
    {
     "name": "stderr",
     "output_type": "stream",
     "text": [
      "Epoch 57/100 - LR: 0.000050: 100%|████████████████████████████| 3485/3485 [02:17<00:00, 25.44it/s, acc=67.62%, loss=0.6049]\n"
     ]
    },
    {
     "name": "stdout",
     "output_type": "stream",
     "text": [
      "Epoch 57 Loss: 0.6105, Train Accuracy: 65.75%\n",
      "Test Loss: 0.6069, Test Accuracy: 66.03%\n"
     ]
    },
    {
     "name": "stderr",
     "output_type": "stream",
     "text": [
      "Epoch 58/100 - LR: 0.000050: 100%|████████████████████████████| 3485/3485 [02:17<00:00, 25.41it/s, acc=65.62%, loss=0.6197]\n"
     ]
    },
    {
     "name": "stdout",
     "output_type": "stream",
     "text": [
      "Epoch 58 Loss: 0.6103, Train Accuracy: 65.75%\n",
      "Test Loss: 0.6088, Test Accuracy: 65.87%\n"
     ]
    },
    {
     "name": "stderr",
     "output_type": "stream",
     "text": [
      "Epoch 59/100 - LR: 0.000050: 100%|████████████████████████████| 3485/3485 [02:16<00:00, 25.45it/s, acc=66.60%, loss=0.6022]\n"
     ]
    },
    {
     "name": "stdout",
     "output_type": "stream",
     "text": [
      "Epoch 59 Loss: 0.6103, Train Accuracy: 65.77%\n",
      "Test Loss: 0.6070, Test Accuracy: 66.01%\n"
     ]
    },
    {
     "name": "stderr",
     "output_type": "stream",
     "text": [
      "Epoch 60/100 - LR: 0.000050: 100%|████████████████████████████| 3485/3485 [02:16<00:00, 25.47it/s, acc=66.96%, loss=0.6054]\n"
     ]
    },
    {
     "name": "stdout",
     "output_type": "stream",
     "text": [
      "Epoch 60 Loss: 0.6103, Train Accuracy: 65.76%\n",
      "Test Loss: 0.6071, Test Accuracy: 66.01%\n",
      "Learning rate changed from 0.000050 to 0.000025\n"
     ]
    },
    {
     "name": "stderr",
     "output_type": "stream",
     "text": [
      "Epoch 61/100 - LR: 0.000025: 100%|████████████████████████████| 3485/3485 [02:16<00:00, 25.48it/s, acc=65.78%, loss=0.6102]\n"
     ]
    },
    {
     "name": "stdout",
     "output_type": "stream",
     "text": [
      "Epoch 61 Loss: 0.6095, Train Accuracy: 65.83%\n",
      "Test Loss: 0.6062, Test Accuracy: 66.07%\n"
     ]
    },
    {
     "name": "stderr",
     "output_type": "stream",
     "text": [
      "Epoch 62/100 - LR: 0.000025: 100%|████████████████████████████| 3485/3485 [02:17<00:00, 25.33it/s, acc=67.78%, loss=0.5924]\n"
     ]
    },
    {
     "name": "stdout",
     "output_type": "stream",
     "text": [
      "Epoch 62 Loss: 0.6093, Train Accuracy: 65.86%\n",
      "Test Loss: 0.6061, Test Accuracy: 66.09%\n"
     ]
    },
    {
     "name": "stderr",
     "output_type": "stream",
     "text": [
      "Epoch 63/100 - LR: 0.000025: 100%|████████████████████████████| 3485/3485 [02:17<00:00, 25.43it/s, acc=65.98%, loss=0.6046]\n"
     ]
    },
    {
     "name": "stdout",
     "output_type": "stream",
     "text": [
      "Epoch 63 Loss: 0.6091, Train Accuracy: 65.88%\n",
      "Test Loss: 0.6062, Test Accuracy: 66.08%\n"
     ]
    },
    {
     "name": "stderr",
     "output_type": "stream",
     "text": [
      "Epoch 64/100 - LR: 0.000025: 100%|████████████████████████████| 3485/3485 [02:17<00:00, 25.43it/s, acc=65.93%, loss=0.6123]\n"
     ]
    },
    {
     "name": "stdout",
     "output_type": "stream",
     "text": [
      "Epoch 64 Loss: 0.6091, Train Accuracy: 65.88%\n",
      "Test Loss: 0.6063, Test Accuracy: 66.06%\n"
     ]
    },
    {
     "name": "stderr",
     "output_type": "stream",
     "text": [
      "Epoch 65/100 - LR: 0.000025: 100%|████████████████████████████| 3485/3485 [02:16<00:00, 25.54it/s, acc=66.75%, loss=0.6060]\n"
     ]
    },
    {
     "name": "stdout",
     "output_type": "stream",
     "text": [
      "Epoch 65 Loss: 0.6090, Train Accuracy: 65.89%\n",
      "Test Loss: 0.6061, Test Accuracy: 66.09%\n",
      "Learning rate changed from 0.000025 to 0.000013\n"
     ]
    },
    {
     "name": "stderr",
     "output_type": "stream",
     "text": [
      "Epoch 66/100 - LR: 0.000013: 100%|████████████████████████████| 3485/3485 [02:16<00:00, 25.52it/s, acc=67.52%, loss=0.6033]\n"
     ]
    },
    {
     "name": "stdout",
     "output_type": "stream",
     "text": [
      "Epoch 66 Loss: 0.6086, Train Accuracy: 65.93%\n",
      "Test Loss: 0.6059, Test Accuracy: 66.11%\n"
     ]
    },
    {
     "name": "stderr",
     "output_type": "stream",
     "text": [
      "Epoch 67/100 - LR: 0.000013: 100%|████████████████████████████| 3485/3485 [02:17<00:00, 25.37it/s, acc=66.24%, loss=0.6071]\n"
     ]
    },
    {
     "name": "stdout",
     "output_type": "stream",
     "text": [
      "Epoch 67 Loss: 0.6085, Train Accuracy: 65.94%\n",
      "Test Loss: 0.6059, Test Accuracy: 66.13%\n"
     ]
    },
    {
     "name": "stderr",
     "output_type": "stream",
     "text": [
      "Epoch 68/100 - LR: 0.000013: 100%|████████████████████████████| 3485/3485 [02:17<00:00, 25.42it/s, acc=66.03%, loss=0.6101]\n"
     ]
    },
    {
     "name": "stdout",
     "output_type": "stream",
     "text": [
      "Epoch 68 Loss: 0.6083, Train Accuracy: 65.95%\n",
      "Test Loss: 0.6057, Test Accuracy: 66.13%\n"
     ]
    },
    {
     "name": "stderr",
     "output_type": "stream",
     "text": [
      "Epoch 69/100 - LR: 0.000013: 100%|████████████████████████████| 3485/3485 [02:17<00:00, 25.37it/s, acc=65.26%, loss=0.6213]\n"
     ]
    },
    {
     "name": "stdout",
     "output_type": "stream",
     "text": [
      "Epoch 69 Loss: 0.6083, Train Accuracy: 65.96%\n",
      "Test Loss: 0.6058, Test Accuracy: 66.13%\n"
     ]
    },
    {
     "name": "stderr",
     "output_type": "stream",
     "text": [
      "Epoch 70/100 - LR: 0.000013: 100%|████████████████████████████| 3485/3485 [02:16<00:00, 25.51it/s, acc=65.42%, loss=0.5992]\n"
     ]
    },
    {
     "name": "stdout",
     "output_type": "stream",
     "text": [
      "Epoch 70 Loss: 0.6083, Train Accuracy: 65.96%\n",
      "Test Loss: 0.6058, Test Accuracy: 66.15%\n"
     ]
    },
    {
     "name": "stderr",
     "output_type": "stream",
     "text": [
      "Epoch 71/100 - LR: 0.000013: 100%|████████████████████████████| 3485/3485 [02:16<00:00, 25.45it/s, acc=67.47%, loss=0.6037]\n"
     ]
    },
    {
     "name": "stdout",
     "output_type": "stream",
     "text": [
      "Epoch 71 Loss: 0.6082, Train Accuracy: 65.96%\n",
      "Test Loss: 0.6057, Test Accuracy: 66.14%\n",
      "Learning rate changed from 0.000013 to 0.000006\n"
     ]
    },
    {
     "name": "stderr",
     "output_type": "stream",
     "text": [
      "Epoch 72/100 - LR: 0.000006: 100%|████████████████████████████| 3485/3485 [02:16<00:00, 25.49it/s, acc=66.14%, loss=0.6078]\n"
     ]
    },
    {
     "name": "stdout",
     "output_type": "stream",
     "text": [
      "Epoch 72 Loss: 0.6079, Train Accuracy: 66.00%\n",
      "Test Loss: 0.6058, Test Accuracy: 66.14%\n"
     ]
    },
    {
     "name": "stderr",
     "output_type": "stream",
     "text": [
      "Epoch 73/100 - LR: 0.000006: 100%|████████████████████████████| 3485/3485 [02:17<00:00, 25.35it/s, acc=65.78%, loss=0.6056]\n"
     ]
    },
    {
     "name": "stdout",
     "output_type": "stream",
     "text": [
      "Epoch 73 Loss: 0.6079, Train Accuracy: 65.99%\n",
      "Test Loss: 0.6057, Test Accuracy: 66.14%\n"
     ]
    },
    {
     "name": "stderr",
     "output_type": "stream",
     "text": [
      "Epoch 74/100 - LR: 0.000006: 100%|████████████████████████████| 3485/3485 [02:16<00:00, 25.53it/s, acc=66.80%, loss=0.6066]\n"
     ]
    },
    {
     "name": "stdout",
     "output_type": "stream",
     "text": [
      "Epoch 74 Loss: 0.6078, Train Accuracy: 66.01%\n",
      "Test Loss: 0.6056, Test Accuracy: 66.15%\n"
     ]
    },
    {
     "name": "stderr",
     "output_type": "stream",
     "text": [
      "Epoch 75/100 - LR: 0.000006: 100%|████████████████████████████| 3485/3485 [02:16<00:00, 25.55it/s, acc=66.29%, loss=0.6046]\n"
     ]
    },
    {
     "name": "stdout",
     "output_type": "stream",
     "text": [
      "Epoch 75 Loss: 0.6078, Train Accuracy: 66.02%\n",
      "Test Loss: 0.6056, Test Accuracy: 66.16%\n"
     ]
    },
    {
     "name": "stderr",
     "output_type": "stream",
     "text": [
      "Epoch 76/100 - LR: 0.000006: 100%|████████████████████████████| 3485/3485 [02:16<00:00, 25.55it/s, acc=65.93%, loss=0.6134]\n"
     ]
    },
    {
     "name": "stdout",
     "output_type": "stream",
     "text": [
      "Epoch 76 Loss: 0.6077, Train Accuracy: 66.02%\n",
      "Test Loss: 0.6055, Test Accuracy: 66.17%\n"
     ]
    },
    {
     "name": "stderr",
     "output_type": "stream",
     "text": [
      "Epoch 77/100 - LR: 0.000006: 100%|████████████████████████████| 3485/3485 [02:16<00:00, 25.50it/s, acc=67.83%, loss=0.5926]\n"
     ]
    },
    {
     "name": "stdout",
     "output_type": "stream",
     "text": [
      "Epoch 77 Loss: 0.6079, Train Accuracy: 66.00%\n",
      "Test Loss: 0.6055, Test Accuracy: 66.17%\n"
     ]
    },
    {
     "name": "stderr",
     "output_type": "stream",
     "text": [
      "Epoch 78/100 - LR: 0.000006: 100%|████████████████████████████| 3485/3485 [02:17<00:00, 25.43it/s, acc=67.37%, loss=0.5976]\n"
     ]
    },
    {
     "name": "stdout",
     "output_type": "stream",
     "text": [
      "Epoch 78 Loss: 0.6077, Train Accuracy: 66.00%\n",
      "Test Loss: 0.6055, Test Accuracy: 66.15%\n"
     ]
    },
    {
     "name": "stderr",
     "output_type": "stream",
     "text": [
      "Epoch 79/100 - LR: 0.000006: 100%|████████████████████████████| 3485/3485 [02:17<00:00, 25.39it/s, acc=65.11%, loss=0.6069]\n"
     ]
    },
    {
     "name": "stdout",
     "output_type": "stream",
     "text": [
      "Epoch 79 Loss: 0.6078, Train Accuracy: 66.01%\n",
      "Test Loss: 0.6055, Test Accuracy: 66.17%\n"
     ]
    },
    {
     "name": "stderr",
     "output_type": "stream",
     "text": [
      "Epoch 80/100 - LR: 0.000006: 100%|████████████████████████████| 3485/3485 [02:17<00:00, 25.36it/s, acc=67.37%, loss=0.5974]\n"
     ]
    },
    {
     "name": "stdout",
     "output_type": "stream",
     "text": [
      "Epoch 80 Loss: 0.6076, Train Accuracy: 66.02%\n",
      "Test Loss: 0.6054, Test Accuracy: 66.17%\n",
      "Learning rate changed from 0.000006 to 0.000003\n"
     ]
    },
    {
     "name": "stderr",
     "output_type": "stream",
     "text": [
      "Epoch 81/100 - LR: 0.000003: 100%|████████████████████████████| 3485/3485 [02:17<00:00, 25.39it/s, acc=66.70%, loss=0.6099]\n"
     ]
    },
    {
     "name": "stdout",
     "output_type": "stream",
     "text": [
      "Epoch 81 Loss: 0.6076, Train Accuracy: 66.02%\n",
      "Test Loss: 0.6054, Test Accuracy: 66.17%\n"
     ]
    },
    {
     "name": "stderr",
     "output_type": "stream",
     "text": [
      "Epoch 82/100 - LR: 0.000003: 100%|████████████████████████████| 3485/3485 [02:17<00:00, 25.43it/s, acc=64.96%, loss=0.6039]\n"
     ]
    },
    {
     "name": "stdout",
     "output_type": "stream",
     "text": [
      "Epoch 82 Loss: 0.6076, Train Accuracy: 66.02%\n",
      "Test Loss: 0.6055, Test Accuracy: 66.15%\n"
     ]
    },
    {
     "name": "stderr",
     "output_type": "stream",
     "text": [
      "Epoch 83/100 - LR: 0.000003: 100%|████████████████████████████| 3485/3485 [02:16<00:00, 25.51it/s, acc=64.55%, loss=0.6189]\n"
     ]
    },
    {
     "name": "stdout",
     "output_type": "stream",
     "text": [
      "Epoch 83 Loss: 0.6075, Train Accuracy: 66.03%\n",
      "Test Loss: 0.6054, Test Accuracy: 66.17%\n",
      "Learning rate changed from 0.000003 to 0.000002\n"
     ]
    },
    {
     "name": "stderr",
     "output_type": "stream",
     "text": [
      "Epoch 84/100 - LR: 0.000002: 100%|████████████████████████████| 3485/3485 [02:17<00:00, 25.41it/s, acc=65.73%, loss=0.6156]\n"
     ]
    },
    {
     "name": "stdout",
     "output_type": "stream",
     "text": [
      "Epoch 84 Loss: 0.6074, Train Accuracy: 66.05%\n",
      "Test Loss: 0.6053, Test Accuracy: 66.18%\n"
     ]
    },
    {
     "name": "stderr",
     "output_type": "stream",
     "text": [
      "Epoch 85/100 - LR: 0.000002: 100%|████████████████████████████| 3485/3485 [02:16<00:00, 25.60it/s, acc=65.52%, loss=0.6074]\n"
     ]
    },
    {
     "name": "stdout",
     "output_type": "stream",
     "text": [
      "Epoch 85 Loss: 0.6074, Train Accuracy: 66.04%\n",
      "Test Loss: 0.6054, Test Accuracy: 66.17%\n"
     ]
    },
    {
     "name": "stderr",
     "output_type": "stream",
     "text": [
      "Epoch 86/100 - LR: 0.000002: 100%|████████████████████████████| 3485/3485 [02:16<00:00, 25.59it/s, acc=67.78%, loss=0.5942]\n"
     ]
    },
    {
     "name": "stdout",
     "output_type": "stream",
     "text": [
      "Epoch 86 Loss: 0.6074, Train Accuracy: 66.04%\n",
      "Test Loss: 0.6054, Test Accuracy: 66.17%\n"
     ]
    },
    {
     "name": "stderr",
     "output_type": "stream",
     "text": [
      "Epoch 87/100 - LR: 0.000002: 100%|████████████████████████████| 3485/3485 [02:15<00:00, 25.68it/s, acc=65.93%, loss=0.6067]\n"
     ]
    },
    {
     "name": "stdout",
     "output_type": "stream",
     "text": [
      "Epoch 87 Loss: 0.6074, Train Accuracy: 66.05%\n",
      "Test Loss: 0.6054, Test Accuracy: 66.17%\n",
      "Learning rate changed from 0.000002 to 0.000001\n"
     ]
    },
    {
     "name": "stderr",
     "output_type": "stream",
     "text": [
      "Epoch 88/100 - LR: 0.000001: 100%|████████████████████████████| 3485/3485 [02:15<00:00, 25.66it/s, acc=67.52%, loss=0.5952]\n"
     ]
    },
    {
     "name": "stdout",
     "output_type": "stream",
     "text": [
      "Epoch 88 Loss: 0.6073, Train Accuracy: 66.04%\n",
      "Test Loss: 0.6053, Test Accuracy: 66.17%\n"
     ]
    },
    {
     "name": "stderr",
     "output_type": "stream",
     "text": [
      "Epoch 89/100 - LR: 0.000001: 100%|████████████████████████████| 3485/3485 [02:16<00:00, 25.58it/s, acc=64.60%, loss=0.6184]\n"
     ]
    },
    {
     "name": "stdout",
     "output_type": "stream",
     "text": [
      "Epoch 89 Loss: 0.6074, Train Accuracy: 66.02%\n",
      "Test Loss: 0.6053, Test Accuracy: 66.18%\n"
     ]
    },
    {
     "name": "stderr",
     "output_type": "stream",
     "text": [
      "Epoch 90/100 - LR: 0.000001: 100%|████████████████████████████| 3485/3485 [02:16<00:00, 25.62it/s, acc=66.19%, loss=0.6052]\n"
     ]
    },
    {
     "name": "stdout",
     "output_type": "stream",
     "text": [
      "Epoch 90 Loss: 0.6074, Train Accuracy: 66.04%\n",
      "Test Loss: 0.6053, Test Accuracy: 66.18%\n",
      "Learning rate changed from 0.000001 to 0.000000\n"
     ]
    },
    {
     "name": "stderr",
     "output_type": "stream",
     "text": [
      "Epoch 91/100 - LR: 0.000000: 100%|████████████████████████████| 3485/3485 [02:16<00:00, 25.53it/s, acc=67.16%, loss=0.6110]\n"
     ]
    },
    {
     "name": "stdout",
     "output_type": "stream",
     "text": [
      "Epoch 91 Loss: 0.6073, Train Accuracy: 66.05%\n",
      "Test Loss: 0.6053, Test Accuracy: 66.19%\n"
     ]
    },
    {
     "name": "stderr",
     "output_type": "stream",
     "text": [
      "Epoch 92/100 - LR: 0.000000: 100%|████████████████████████████| 3485/3485 [02:15<00:00, 25.67it/s, acc=65.83%, loss=0.6071]\n"
     ]
    },
    {
     "name": "stdout",
     "output_type": "stream",
     "text": [
      "Epoch 92 Loss: 0.6073, Train Accuracy: 66.05%\n",
      "Test Loss: 0.6054, Test Accuracy: 66.17%\n"
     ]
    },
    {
     "name": "stderr",
     "output_type": "stream",
     "text": [
      "Epoch 93/100 - LR: 0.000000: 100%|████████████████████████████| 3485/3485 [02:16<00:00, 25.53it/s, acc=67.16%, loss=0.5963]\n"
     ]
    },
    {
     "name": "stdout",
     "output_type": "stream",
     "text": [
      "Epoch 93 Loss: 0.6073, Train Accuracy: 66.05%\n",
      "Test Loss: 0.6053, Test Accuracy: 66.18%\n",
      "Learning rate changed from 0.000000 to 0.000000\n"
     ]
    },
    {
     "name": "stderr",
     "output_type": "stream",
     "text": [
      "Epoch 94/100 - LR: 0.000000: 100%|████████████████████████████| 3485/3485 [02:15<00:00, 25.65it/s, acc=65.83%, loss=0.6123]\n"
     ]
    },
    {
     "name": "stdout",
     "output_type": "stream",
     "text": [
      "Epoch 94 Loss: 0.6074, Train Accuracy: 66.05%\n",
      "Test Loss: 0.6053, Test Accuracy: 66.18%\n"
     ]
    },
    {
     "name": "stderr",
     "output_type": "stream",
     "text": [
      "Epoch 95/100 - LR: 0.000000: 100%|████████████████████████████| 3485/3485 [02:16<00:00, 25.62it/s, acc=65.37%, loss=0.6168]\n"
     ]
    },
    {
     "name": "stdout",
     "output_type": "stream",
     "text": [
      "Epoch 95 Loss: 0.6073, Train Accuracy: 66.06%\n",
      "Test Loss: 0.6053, Test Accuracy: 66.17%\n"
     ]
    },
    {
     "name": "stderr",
     "output_type": "stream",
     "text": [
      "Epoch 96/100 - LR: 0.000000: 100%|████████████████████████████| 3485/3485 [02:16<00:00, 25.59it/s, acc=63.31%, loss=0.6172]\n"
     ]
    },
    {
     "name": "stdout",
     "output_type": "stream",
     "text": [
      "Epoch 96 Loss: 0.6073, Train Accuracy: 66.06%\n",
      "Test Loss: 0.6054, Test Accuracy: 66.18%\n",
      "Learning rate changed from 0.000000 to 0.000000\n"
     ]
    },
    {
     "name": "stderr",
     "output_type": "stream",
     "text": [
      "Epoch 97/100 - LR: 0.000000: 100%|████████████████████████████| 3485/3485 [02:16<00:00, 25.53it/s, acc=67.06%, loss=0.6116]\n"
     ]
    },
    {
     "name": "stdout",
     "output_type": "stream",
     "text": [
      "Epoch 97 Loss: 0.6073, Train Accuracy: 66.06%\n",
      "Test Loss: 0.6054, Test Accuracy: 66.18%\n"
     ]
    },
    {
     "name": "stderr",
     "output_type": "stream",
     "text": [
      "Epoch 98/100 - LR: 0.000000: 100%|████████████████████████████| 3485/3485 [02:16<00:00, 25.62it/s, acc=65.26%, loss=0.6138]\n"
     ]
    },
    {
     "name": "stdout",
     "output_type": "stream",
     "text": [
      "Epoch 98 Loss: 0.6073, Train Accuracy: 66.06%\n",
      "Test Loss: 0.6053, Test Accuracy: 66.17%\n"
     ]
    },
    {
     "name": "stderr",
     "output_type": "stream",
     "text": [
      "Epoch 99/100 - LR: 0.000000: 100%|████████████████████████████| 3485/3485 [02:15<00:00, 25.68it/s, acc=63.88%, loss=0.6308]\n"
     ]
    },
    {
     "name": "stdout",
     "output_type": "stream",
     "text": [
      "Epoch 99 Loss: 0.6073, Train Accuracy: 66.06%\n",
      "Test Loss: 0.6053, Test Accuracy: 66.18%\n",
      "Learning rate changed from 0.000000 to 0.000000\n",
      "Early stopping triggered at epoch 99. Best model was from epoch 91.\n"
     ]
    }
   ],
   "source": [
    "X_train_kagenc_tensor = torch.tensor(X_train.values, dtype=torch.float32)\n",
    "y_train_kagenc_tensor = torch.tensor(y_train.values, dtype=torch.float32).view(-1, 1)\n",
    "X_valid_kagenc_tensor = torch.tensor(X_valid.values, dtype=torch.float32)\n",
    "y_valid_kagenc_tensor = torch.tensor(y_valid.values, dtype=torch.float32).view(-1, 1)\n",
    "\n",
    "\n",
    "# Figure out which device to use. By default, CPU\n",
    "device = \"cpu\"\n",
    "# For M-architecture Macs\n",
    "if torch.backends.mps.is_available():\n",
    "    device = torch.device(\"mps\")\n",
    "# For NVIDIA\n",
    "elif torch.cuda.is_available():\n",
    "    device = torch.device(\"cuda\")\n",
    "\n",
    "# DataLoader\n",
    "train_dataset_kagenc = TensorDataset(X_train_kagenc_tensor, y_train_kagenc_tensor)\n",
    "valid_dataset_kagenc = TensorDataset(X_valid_kagenc_tensor, y_valid_kagenc_tensor)\n",
    "\n",
    "batch_size = 2048\n",
    "train_loader_kagenc = DataLoader(train_dataset_kagenc, batch_size=batch_size, shuffle=True)\n",
    "test_loader_kagenc = DataLoader(valid_dataset_kagenc, batch_size=batch_size, shuffle=False)\n",
    "\n",
    "# Model\n",
    "# Define complex model\n",
    "class BinaryClassifier(nn.Module):\n",
    "    def __init__(self):\n",
    "        super(BinaryClassifier, self).__init__()\n",
    "        self.layers = nn.Sequential(\n",
    "            nn.Linear(X_train_kagenc_tensor.shape[1], 512),\n",
    "            nn.ReLU(),\n",
    "            nn.BatchNorm1d(512),\n",
    "            nn.Dropout(0.3),\n",
    "\n",
    "            nn.Linear(512, 256),\n",
    "            nn.ReLU(),\n",
    "            nn.BatchNorm1d(256),\n",
    "            nn.Dropout(0.3),\n",
    "\n",
    "            nn.Linear(256, 128),\n",
    "            nn.ReLU(),\n",
    "            nn.BatchNorm1d(128),\n",
    "            nn.Dropout(0.4),\n",
    "\n",
    "            nn.Linear(128, 64),\n",
    "            nn.ReLU(),\n",
    "            nn.BatchNorm1d(64),\n",
    "            nn.Dropout(0.4),\n",
    "\n",
    "            nn.Linear(64, 1)\n",
    "        )\n",
    "\n",
    "    def forward(self, x):\n",
    "        return self.layers(x)\n",
    "\n",
    "\n",
    "\n",
    "model_kagenc = BinaryClassifier().to(device)\n",
    "\n",
    "criterion = nn.BCEWithLogitsLoss()  # or use nn.BCEWithLogitsLoss and remove sigmoid\n",
    "optimizer = optim.Adam(model_kagenc.parameters(), weight_decay=1e-4, lr=0.0001)\n",
    "scheduler = optim.lr_scheduler.ReduceLROnPlateau(optimizer, mode='min', factor=0.5, patience=2)\n",
    "\n",
    "epochs = 100\n",
    "# Train\n",
    "best_model_weights_kagenc, train_loss_kagenc, test_loss_kagenc, train_accuracy_kagenc, test_accuracy_kagenc, lrs_kagenc = helper_functions.train_and_evaluate_model(\n",
    "    model_kagenc, criterion, optimizer, scheduler, train_loader_kagenc, test_loader_kagenc, epochs=epochs\n",
    ")\n",
    "\n",
    "torch.save(model_kagenc.state_dict(), '../Saved Models/3hl_advanced_encodings.pth')"
   ]
  },
  {
   "cell_type": "markdown",
   "id": "dae34367-279d-4b63-953c-f79dbe326de1",
   "metadata": {},
   "source": [
    "## Train 3-Hidden-Layer Neural Network (PCA)"
   ]
  },
  {
   "cell_type": "code",
   "execution_count": 2,
   "id": "fdc0c20e-f6c2-46b5-96b5-747369701466",
   "metadata": {},
   "outputs": [
    {
     "name": "stdout",
     "output_type": "stream",
     "text": [
      "Training on mps\n"
     ]
    },
    {
     "name": "stderr",
     "output_type": "stream",
     "text": [
      "Epoch 1/100 - LR: 0.000100: 100%|█████████████████████████████| 3485/3485 [02:18<00:00, 25.23it/s, acc=62.19%, loss=0.6406]\n"
     ]
    },
    {
     "name": "stdout",
     "output_type": "stream",
     "text": [
      "Epoch 1 Loss: 0.6632, Train Accuracy: 59.92%\n",
      "Test Loss: 0.6365, Test Accuracy: 62.85%\n"
     ]
    },
    {
     "name": "stderr",
     "output_type": "stream",
     "text": [
      "Epoch 2/100 - LR: 0.000100: 100%|█████████████████████████████| 3485/3485 [02:16<00:00, 25.51it/s, acc=62.60%, loss=0.6361]\n"
     ]
    },
    {
     "name": "stdout",
     "output_type": "stream",
     "text": [
      "Epoch 2 Loss: 0.6385, Train Accuracy: 62.57%\n",
      "Test Loss: 0.6291, Test Accuracy: 63.49%\n"
     ]
    },
    {
     "name": "stderr",
     "output_type": "stream",
     "text": [
      "Epoch 3/100 - LR: 0.000100: 100%|█████████████████████████████| 3485/3485 [02:16<00:00, 25.58it/s, acc=64.39%, loss=0.6258]\n"
     ]
    },
    {
     "name": "stdout",
     "output_type": "stream",
     "text": [
      "Epoch 3 Loss: 0.6327, Train Accuracy: 63.22%\n",
      "Test Loss: 0.6261, Test Accuracy: 63.85%\n"
     ]
    },
    {
     "name": "stderr",
     "output_type": "stream",
     "text": [
      "Epoch 4/100 - LR: 0.000100: 100%|█████████████████████████████| 3485/3485 [02:16<00:00, 25.48it/s, acc=63.37%, loss=0.6312]\n"
     ]
    },
    {
     "name": "stdout",
     "output_type": "stream",
     "text": [
      "Epoch 4 Loss: 0.6299, Train Accuracy: 63.54%\n",
      "Test Loss: 0.6242, Test Accuracy: 64.11%\n"
     ]
    },
    {
     "name": "stderr",
     "output_type": "stream",
     "text": [
      "Epoch 5/100 - LR: 0.000100: 100%|█████████████████████████████| 3485/3485 [02:16<00:00, 25.53it/s, acc=64.24%, loss=0.6276]\n"
     ]
    },
    {
     "name": "stdout",
     "output_type": "stream",
     "text": [
      "Epoch 5 Loss: 0.6281, Train Accuracy: 63.74%\n",
      "Test Loss: 0.6229, Test Accuracy: 64.21%\n"
     ]
    },
    {
     "name": "stderr",
     "output_type": "stream",
     "text": [
      "Epoch 6/100 - LR: 0.000100: 100%|█████████████████████████████| 3485/3485 [02:17<00:00, 25.42it/s, acc=64.19%, loss=0.6267]\n"
     ]
    },
    {
     "name": "stdout",
     "output_type": "stream",
     "text": [
      "Epoch 6 Loss: 0.6266, Train Accuracy: 63.90%\n",
      "Test Loss: 0.6218, Test Accuracy: 64.35%\n"
     ]
    },
    {
     "name": "stderr",
     "output_type": "stream",
     "text": [
      "Epoch 7/100 - LR: 0.000100: 100%|█████████████████████████████| 3485/3485 [02:16<00:00, 25.46it/s, acc=65.11%, loss=0.6233]\n"
     ]
    },
    {
     "name": "stdout",
     "output_type": "stream",
     "text": [
      "Epoch 7 Loss: 0.6256, Train Accuracy: 64.04%\n",
      "Test Loss: 0.6209, Test Accuracy: 64.44%\n"
     ]
    },
    {
     "name": "stderr",
     "output_type": "stream",
     "text": [
      "Epoch 8/100 - LR: 0.000100: 100%|█████████████████████████████| 3485/3485 [02:16<00:00, 25.46it/s, acc=64.14%, loss=0.6264]\n"
     ]
    },
    {
     "name": "stdout",
     "output_type": "stream",
     "text": [
      "Epoch 8 Loss: 0.6244, Train Accuracy: 64.19%\n",
      "Test Loss: 0.6199, Test Accuracy: 64.59%\n"
     ]
    },
    {
     "name": "stderr",
     "output_type": "stream",
     "text": [
      "Epoch 9/100 - LR: 0.000100: 100%|█████████████████████████████| 3485/3485 [02:16<00:00, 25.45it/s, acc=65.57%, loss=0.6218]\n"
     ]
    },
    {
     "name": "stdout",
     "output_type": "stream",
     "text": [
      "Epoch 9 Loss: 0.6234, Train Accuracy: 64.32%\n",
      "Test Loss: 0.6190, Test Accuracy: 64.72%\n"
     ]
    },
    {
     "name": "stderr",
     "output_type": "stream",
     "text": [
      "Epoch 10/100 - LR: 0.000100: 100%|████████████████████████████| 3485/3485 [02:17<00:00, 25.37it/s, acc=64.80%, loss=0.6300]\n"
     ]
    },
    {
     "name": "stdout",
     "output_type": "stream",
     "text": [
      "Epoch 10 Loss: 0.6226, Train Accuracy: 64.43%\n",
      "Test Loss: 0.6182, Test Accuracy: 64.78%\n"
     ]
    },
    {
     "name": "stderr",
     "output_type": "stream",
     "text": [
      "Epoch 11/100 - LR: 0.000100: 100%|████████████████████████████| 3485/3485 [02:17<00:00, 25.42it/s, acc=65.67%, loss=0.6138]\n"
     ]
    },
    {
     "name": "stdout",
     "output_type": "stream",
     "text": [
      "Epoch 11 Loss: 0.6217, Train Accuracy: 64.53%\n",
      "Test Loss: 0.6173, Test Accuracy: 64.90%\n"
     ]
    },
    {
     "name": "stderr",
     "output_type": "stream",
     "text": [
      "Epoch 12/100 - LR: 0.000100: 100%|████████████████████████████| 3485/3485 [02:16<00:00, 25.58it/s, acc=64.65%, loss=0.6251]\n"
     ]
    },
    {
     "name": "stdout",
     "output_type": "stream",
     "text": [
      "Epoch 12 Loss: 0.6208, Train Accuracy: 64.63%\n",
      "Test Loss: 0.6167, Test Accuracy: 64.99%\n"
     ]
    },
    {
     "name": "stderr",
     "output_type": "stream",
     "text": [
      "Epoch 13/100 - LR: 0.000100: 100%|████████████████████████████| 3485/3485 [02:16<00:00, 25.51it/s, acc=63.37%, loss=0.6180]\n"
     ]
    },
    {
     "name": "stdout",
     "output_type": "stream",
     "text": [
      "Epoch 13 Loss: 0.6202, Train Accuracy: 64.70%\n",
      "Test Loss: 0.6161, Test Accuracy: 65.05%\n"
     ]
    },
    {
     "name": "stderr",
     "output_type": "stream",
     "text": [
      "Epoch 14/100 - LR: 0.000100: 100%|████████████████████████████| 3485/3485 [02:16<00:00, 25.53it/s, acc=64.65%, loss=0.6244]\n"
     ]
    },
    {
     "name": "stdout",
     "output_type": "stream",
     "text": [
      "Epoch 14 Loss: 0.6197, Train Accuracy: 64.74%\n",
      "Test Loss: 0.6159, Test Accuracy: 65.06%\n"
     ]
    },
    {
     "name": "stderr",
     "output_type": "stream",
     "text": [
      "Epoch 15/100 - LR: 0.000100: 100%|████████████████████████████| 3485/3485 [02:16<00:00, 25.46it/s, acc=64.39%, loss=0.6176]\n"
     ]
    },
    {
     "name": "stdout",
     "output_type": "stream",
     "text": [
      "Epoch 15 Loss: 0.6193, Train Accuracy: 64.80%\n",
      "Test Loss: 0.6153, Test Accuracy: 65.14%\n"
     ]
    },
    {
     "name": "stderr",
     "output_type": "stream",
     "text": [
      "Epoch 16/100 - LR: 0.000100: 100%|████████████████████████████| 3485/3485 [02:16<00:00, 25.46it/s, acc=65.32%, loss=0.6168]\n"
     ]
    },
    {
     "name": "stdout",
     "output_type": "stream",
     "text": [
      "Epoch 16 Loss: 0.6189, Train Accuracy: 64.85%\n",
      "Test Loss: 0.6149, Test Accuracy: 65.17%\n"
     ]
    },
    {
     "name": "stderr",
     "output_type": "stream",
     "text": [
      "Epoch 17/100 - LR: 0.000100: 100%|████████████████████████████| 3485/3485 [02:15<00:00, 25.64it/s, acc=64.44%, loss=0.6126]\n"
     ]
    },
    {
     "name": "stdout",
     "output_type": "stream",
     "text": [
      "Epoch 17 Loss: 0.6185, Train Accuracy: 64.89%\n",
      "Test Loss: 0.6145, Test Accuracy: 65.25%\n"
     ]
    },
    {
     "name": "stderr",
     "output_type": "stream",
     "text": [
      "Epoch 18/100 - LR: 0.000100: 100%|████████████████████████████| 3485/3485 [02:17<00:00, 25.25it/s, acc=64.65%, loss=0.6193]\n"
     ]
    },
    {
     "name": "stdout",
     "output_type": "stream",
     "text": [
      "Epoch 18 Loss: 0.6182, Train Accuracy: 64.92%\n",
      "Test Loss: 0.6140, Test Accuracy: 65.28%\n"
     ]
    },
    {
     "name": "stderr",
     "output_type": "stream",
     "text": [
      "Epoch 19/100 - LR: 0.000100: 100%|████████████████████████████| 3485/3485 [02:17<00:00, 25.31it/s, acc=67.16%, loss=0.6058]\n"
     ]
    },
    {
     "name": "stdout",
     "output_type": "stream",
     "text": [
      "Epoch 19 Loss: 0.6178, Train Accuracy: 64.95%\n",
      "Test Loss: 0.6140, Test Accuracy: 65.26%\n"
     ]
    },
    {
     "name": "stderr",
     "output_type": "stream",
     "text": [
      "Epoch 20/100 - LR: 0.000100: 100%|████████████████████████████| 3485/3485 [02:16<00:00, 25.60it/s, acc=64.29%, loss=0.6315]\n"
     ]
    },
    {
     "name": "stdout",
     "output_type": "stream",
     "text": [
      "Epoch 20 Loss: 0.6176, Train Accuracy: 64.98%\n",
      "Test Loss: 0.6136, Test Accuracy: 65.34%\n"
     ]
    },
    {
     "name": "stderr",
     "output_type": "stream",
     "text": [
      "Epoch 21/100 - LR: 0.000100: 100%|████████████████████████████| 3485/3485 [02:16<00:00, 25.49it/s, acc=65.11%, loss=0.6168]\n"
     ]
    },
    {
     "name": "stdout",
     "output_type": "stream",
     "text": [
      "Epoch 21 Loss: 0.6173, Train Accuracy: 65.02%\n",
      "Test Loss: 0.6132, Test Accuracy: 65.36%\n"
     ]
    },
    {
     "name": "stderr",
     "output_type": "stream",
     "text": [
      "Epoch 22/100 - LR: 0.000100: 100%|████████████████████████████| 3485/3485 [02:17<00:00, 25.41it/s, acc=64.49%, loss=0.6171]\n"
     ]
    },
    {
     "name": "stdout",
     "output_type": "stream",
     "text": [
      "Epoch 22 Loss: 0.6171, Train Accuracy: 65.04%\n",
      "Test Loss: 0.6131, Test Accuracy: 65.37%\n"
     ]
    },
    {
     "name": "stderr",
     "output_type": "stream",
     "text": [
      "Epoch 23/100 - LR: 0.000100: 100%|████████████████████████████| 3485/3485 [02:16<00:00, 25.46it/s, acc=64.39%, loss=0.6217]\n"
     ]
    },
    {
     "name": "stdout",
     "output_type": "stream",
     "text": [
      "Epoch 23 Loss: 0.6168, Train Accuracy: 65.07%\n",
      "Test Loss: 0.6127, Test Accuracy: 65.40%\n"
     ]
    },
    {
     "name": "stderr",
     "output_type": "stream",
     "text": [
      "Epoch 24/100 - LR: 0.000100: 100%|████████████████████████████| 3485/3485 [02:16<00:00, 25.49it/s, acc=66.09%, loss=0.6096]\n"
     ]
    },
    {
     "name": "stdout",
     "output_type": "stream",
     "text": [
      "Epoch 24 Loss: 0.6166, Train Accuracy: 65.09%\n",
      "Test Loss: 0.6127, Test Accuracy: 65.43%\n"
     ]
    },
    {
     "name": "stderr",
     "output_type": "stream",
     "text": [
      "Epoch 25/100 - LR: 0.000100: 100%|████████████████████████████| 3485/3485 [02:16<00:00, 25.45it/s, acc=66.70%, loss=0.6001]\n"
     ]
    },
    {
     "name": "stdout",
     "output_type": "stream",
     "text": [
      "Epoch 25 Loss: 0.6164, Train Accuracy: 65.12%\n",
      "Test Loss: 0.6127, Test Accuracy: 65.46%\n"
     ]
    },
    {
     "name": "stderr",
     "output_type": "stream",
     "text": [
      "Epoch 26/100 - LR: 0.000100: 100%|████████████████████████████| 3485/3485 [02:16<00:00, 25.51it/s, acc=66.34%, loss=0.6073]\n"
     ]
    },
    {
     "name": "stdout",
     "output_type": "stream",
     "text": [
      "Epoch 26 Loss: 0.6162, Train Accuracy: 65.13%\n",
      "Test Loss: 0.6122, Test Accuracy: 65.47%\n"
     ]
    },
    {
     "name": "stderr",
     "output_type": "stream",
     "text": [
      "Epoch 27/100 - LR: 0.000100: 100%|████████████████████████████| 3485/3485 [02:17<00:00, 25.37it/s, acc=64.39%, loss=0.6122]\n"
     ]
    },
    {
     "name": "stdout",
     "output_type": "stream",
     "text": [
      "Epoch 27 Loss: 0.6161, Train Accuracy: 65.15%\n",
      "Test Loss: 0.6122, Test Accuracy: 65.48%\n"
     ]
    },
    {
     "name": "stderr",
     "output_type": "stream",
     "text": [
      "Epoch 28/100 - LR: 0.000100: 100%|████████████████████████████| 3485/3485 [02:17<00:00, 25.43it/s, acc=64.34%, loss=0.6262]\n"
     ]
    },
    {
     "name": "stdout",
     "output_type": "stream",
     "text": [
      "Epoch 28 Loss: 0.6159, Train Accuracy: 65.17%\n",
      "Test Loss: 0.6119, Test Accuracy: 65.46%\n"
     ]
    },
    {
     "name": "stderr",
     "output_type": "stream",
     "text": [
      "Epoch 29/100 - LR: 0.000100: 100%|████████████████████████████| 3485/3485 [02:16<00:00, 25.48it/s, acc=65.06%, loss=0.6120]\n"
     ]
    },
    {
     "name": "stdout",
     "output_type": "stream",
     "text": [
      "Epoch 29 Loss: 0.6158, Train Accuracy: 65.17%\n",
      "Test Loss: 0.6118, Test Accuracy: 65.52%\n"
     ]
    },
    {
     "name": "stderr",
     "output_type": "stream",
     "text": [
      "Epoch 30/100 - LR: 0.000100: 100%|████████████████████████████| 3485/3485 [02:17<00:00, 25.31it/s, acc=63.93%, loss=0.6209]\n"
     ]
    },
    {
     "name": "stdout",
     "output_type": "stream",
     "text": [
      "Epoch 30 Loss: 0.6157, Train Accuracy: 65.20%\n",
      "Test Loss: 0.6116, Test Accuracy: 65.51%\n"
     ]
    },
    {
     "name": "stderr",
     "output_type": "stream",
     "text": [
      "Epoch 31/100 - LR: 0.000100: 100%|████████████████████████████| 3485/3485 [02:16<00:00, 25.55it/s, acc=66.39%, loss=0.6066]\n"
     ]
    },
    {
     "name": "stdout",
     "output_type": "stream",
     "text": [
      "Epoch 31 Loss: 0.6155, Train Accuracy: 65.21%\n",
      "Test Loss: 0.6115, Test Accuracy: 65.55%\n"
     ]
    },
    {
     "name": "stderr",
     "output_type": "stream",
     "text": [
      "Epoch 32/100 - LR: 0.000100: 100%|████████████████████████████| 3485/3485 [02:16<00:00, 25.45it/s, acc=63.88%, loss=0.6298]\n"
     ]
    },
    {
     "name": "stdout",
     "output_type": "stream",
     "text": [
      "Epoch 32 Loss: 0.6154, Train Accuracy: 65.23%\n",
      "Test Loss: 0.6112, Test Accuracy: 65.58%\n"
     ]
    },
    {
     "name": "stderr",
     "output_type": "stream",
     "text": [
      "Epoch 33/100 - LR: 0.000100: 100%|████████████████████████████| 3485/3485 [02:17<00:00, 25.44it/s, acc=64.14%, loss=0.6259]\n"
     ]
    },
    {
     "name": "stdout",
     "output_type": "stream",
     "text": [
      "Epoch 33 Loss: 0.6152, Train Accuracy: 65.23%\n",
      "Test Loss: 0.6114, Test Accuracy: 65.53%\n"
     ]
    },
    {
     "name": "stderr",
     "output_type": "stream",
     "text": [
      "Epoch 34/100 - LR: 0.000100: 100%|████████████████████████████| 3485/3485 [02:16<00:00, 25.50it/s, acc=66.34%, loss=0.6175]\n"
     ]
    },
    {
     "name": "stdout",
     "output_type": "stream",
     "text": [
      "Epoch 34 Loss: 0.6150, Train Accuracy: 65.25%\n",
      "Test Loss: 0.6110, Test Accuracy: 65.62%\n"
     ]
    },
    {
     "name": "stderr",
     "output_type": "stream",
     "text": [
      "Epoch 35/100 - LR: 0.000100: 100%|████████████████████████████| 3485/3485 [02:16<00:00, 25.50it/s, acc=65.11%, loss=0.6205]\n"
     ]
    },
    {
     "name": "stdout",
     "output_type": "stream",
     "text": [
      "Epoch 35 Loss: 0.6150, Train Accuracy: 65.24%\n",
      "Test Loss: 0.6110, Test Accuracy: 65.61%\n"
     ]
    },
    {
     "name": "stderr",
     "output_type": "stream",
     "text": [
      "Epoch 36/100 - LR: 0.000100: 100%|████████████████████████████| 3485/3485 [02:16<00:00, 25.50it/s, acc=66.70%, loss=0.5958]\n"
     ]
    },
    {
     "name": "stdout",
     "output_type": "stream",
     "text": [
      "Epoch 36 Loss: 0.6149, Train Accuracy: 65.28%\n",
      "Test Loss: 0.6110, Test Accuracy: 65.60%\n"
     ]
    },
    {
     "name": "stderr",
     "output_type": "stream",
     "text": [
      "Epoch 37/100 - LR: 0.000100: 100%|████████████████████████████| 3485/3485 [02:16<00:00, 25.45it/s, acc=66.44%, loss=0.6209]\n"
     ]
    },
    {
     "name": "stdout",
     "output_type": "stream",
     "text": [
      "Epoch 37 Loss: 0.6149, Train Accuracy: 65.27%\n",
      "Test Loss: 0.6107, Test Accuracy: 65.65%\n"
     ]
    },
    {
     "name": "stderr",
     "output_type": "stream",
     "text": [
      "Epoch 38/100 - LR: 0.000100: 100%|████████████████████████████| 3485/3485 [02:16<00:00, 25.46it/s, acc=64.08%, loss=0.6217]\n"
     ]
    },
    {
     "name": "stdout",
     "output_type": "stream",
     "text": [
      "Epoch 38 Loss: 0.6146, Train Accuracy: 65.29%\n",
      "Test Loss: 0.6109, Test Accuracy: 65.65%\n"
     ]
    },
    {
     "name": "stderr",
     "output_type": "stream",
     "text": [
      "Epoch 39/100 - LR: 0.000100: 100%|████████████████████████████| 3485/3485 [02:16<00:00, 25.49it/s, acc=66.96%, loss=0.6059]\n"
     ]
    },
    {
     "name": "stdout",
     "output_type": "stream",
     "text": [
      "Epoch 39 Loss: 0.6145, Train Accuracy: 65.31%\n",
      "Test Loss: 0.6106, Test Accuracy: 65.65%\n"
     ]
    },
    {
     "name": "stderr",
     "output_type": "stream",
     "text": [
      "Epoch 40/100 - LR: 0.000100: 100%|████████████████████████████| 3485/3485 [02:16<00:00, 25.46it/s, acc=64.91%, loss=0.6184]\n"
     ]
    },
    {
     "name": "stdout",
     "output_type": "stream",
     "text": [
      "Epoch 40 Loss: 0.6144, Train Accuracy: 65.32%\n",
      "Test Loss: 0.6107, Test Accuracy: 65.67%\n"
     ]
    },
    {
     "name": "stderr",
     "output_type": "stream",
     "text": [
      "Epoch 41/100 - LR: 0.000100: 100%|████████████████████████████| 3485/3485 [02:16<00:00, 25.49it/s, acc=65.16%, loss=0.6120]\n"
     ]
    },
    {
     "name": "stdout",
     "output_type": "stream",
     "text": [
      "Epoch 41 Loss: 0.6142, Train Accuracy: 65.33%\n",
      "Test Loss: 0.6107, Test Accuracy: 65.67%\n"
     ]
    },
    {
     "name": "stderr",
     "output_type": "stream",
     "text": [
      "Epoch 42/100 - LR: 0.000100: 100%|████████████████████████████| 3485/3485 [02:16<00:00, 25.50it/s, acc=66.34%, loss=0.6025]\n"
     ]
    },
    {
     "name": "stdout",
     "output_type": "stream",
     "text": [
      "Epoch 42 Loss: 0.6143, Train Accuracy: 65.34%\n",
      "Test Loss: 0.6104, Test Accuracy: 65.67%\n"
     ]
    },
    {
     "name": "stderr",
     "output_type": "stream",
     "text": [
      "Epoch 43/100 - LR: 0.000100: 100%|████████████████████████████| 3485/3485 [02:17<00:00, 25.41it/s, acc=64.08%, loss=0.6173]\n"
     ]
    },
    {
     "name": "stdout",
     "output_type": "stream",
     "text": [
      "Epoch 43 Loss: 0.6142, Train Accuracy: 65.34%\n",
      "Test Loss: 0.6101, Test Accuracy: 65.69%\n"
     ]
    },
    {
     "name": "stderr",
     "output_type": "stream",
     "text": [
      "Epoch 44/100 - LR: 0.000100: 100%|████████████████████████████| 3485/3485 [02:17<00:00, 25.37it/s, acc=64.14%, loss=0.6234]\n"
     ]
    },
    {
     "name": "stdout",
     "output_type": "stream",
     "text": [
      "Epoch 44 Loss: 0.6141, Train Accuracy: 65.35%\n",
      "Test Loss: 0.6101, Test Accuracy: 65.68%\n"
     ]
    },
    {
     "name": "stderr",
     "output_type": "stream",
     "text": [
      "Epoch 45/100 - LR: 0.000100: 100%|████████████████████████████| 3485/3485 [02:17<00:00, 25.39it/s, acc=66.60%, loss=0.6031]\n"
     ]
    },
    {
     "name": "stdout",
     "output_type": "stream",
     "text": [
      "Epoch 45 Loss: 0.6141, Train Accuracy: 65.35%\n",
      "Test Loss: 0.6103, Test Accuracy: 65.65%\n"
     ]
    },
    {
     "name": "stderr",
     "output_type": "stream",
     "text": [
      "Epoch 46/100 - LR: 0.000100: 100%|████████████████████████████| 3485/3485 [02:16<00:00, 25.58it/s, acc=65.32%, loss=0.6078]\n"
     ]
    },
    {
     "name": "stdout",
     "output_type": "stream",
     "text": [
      "Epoch 46 Loss: 0.6140, Train Accuracy: 65.36%\n",
      "Test Loss: 0.6102, Test Accuracy: 65.67%\n",
      "Learning rate changed from 0.000100 to 0.000050\n"
     ]
    },
    {
     "name": "stderr",
     "output_type": "stream",
     "text": [
      "Epoch 47/100 - LR: 0.000050: 100%|████████████████████████████| 3485/3485 [02:16<00:00, 25.47it/s, acc=65.88%, loss=0.6036]\n"
     ]
    },
    {
     "name": "stdout",
     "output_type": "stream",
     "text": [
      "Epoch 47 Loss: 0.6128, Train Accuracy: 65.48%\n",
      "Test Loss: 0.6092, Test Accuracy: 65.79%\n"
     ]
    },
    {
     "name": "stderr",
     "output_type": "stream",
     "text": [
      "Epoch 48/100 - LR: 0.000050: 100%|████████████████████████████| 3485/3485 [02:17<00:00, 25.43it/s, acc=66.75%, loss=0.6012]\n"
     ]
    },
    {
     "name": "stdout",
     "output_type": "stream",
     "text": [
      "Epoch 48 Loss: 0.6124, Train Accuracy: 65.51%\n",
      "Test Loss: 0.6090, Test Accuracy: 65.83%\n"
     ]
    },
    {
     "name": "stderr",
     "output_type": "stream",
     "text": [
      "Epoch 49/100 - LR: 0.000050: 100%|████████████████████████████| 3485/3485 [02:17<00:00, 25.38it/s, acc=64.65%, loss=0.6184]\n"
     ]
    },
    {
     "name": "stdout",
     "output_type": "stream",
     "text": [
      "Epoch 49 Loss: 0.6122, Train Accuracy: 65.53%\n",
      "Test Loss: 0.6091, Test Accuracy: 65.82%\n"
     ]
    },
    {
     "name": "stderr",
     "output_type": "stream",
     "text": [
      "Epoch 50/100 - LR: 0.000050: 100%|████████████████████████████| 3485/3485 [02:18<00:00, 25.23it/s, acc=66.34%, loss=0.6072]\n"
     ]
    },
    {
     "name": "stdout",
     "output_type": "stream",
     "text": [
      "Epoch 50 Loss: 0.6121, Train Accuracy: 65.55%\n",
      "Test Loss: 0.6091, Test Accuracy: 65.82%\n"
     ]
    },
    {
     "name": "stderr",
     "output_type": "stream",
     "text": [
      "Epoch 51/100 - LR: 0.000050: 100%|████████████████████████████| 3485/3485 [02:16<00:00, 25.53it/s, acc=65.67%, loss=0.6096]\n"
     ]
    },
    {
     "name": "stdout",
     "output_type": "stream",
     "text": [
      "Epoch 51 Loss: 0.6121, Train Accuracy: 65.56%\n",
      "Test Loss: 0.6089, Test Accuracy: 65.84%\n"
     ]
    },
    {
     "name": "stderr",
     "output_type": "stream",
     "text": [
      "Epoch 52/100 - LR: 0.000050: 100%|████████████████████████████| 3485/3485 [02:16<00:00, 25.47it/s, acc=64.85%, loss=0.6106]\n"
     ]
    },
    {
     "name": "stdout",
     "output_type": "stream",
     "text": [
      "Epoch 52 Loss: 0.6119, Train Accuracy: 65.57%\n",
      "Test Loss: 0.6088, Test Accuracy: 65.84%\n"
     ]
    },
    {
     "name": "stderr",
     "output_type": "stream",
     "text": [
      "Epoch 53/100 - LR: 0.000050: 100%|████████████████████████████| 3485/3485 [02:17<00:00, 25.43it/s, acc=64.08%, loss=0.6217]\n"
     ]
    },
    {
     "name": "stdout",
     "output_type": "stream",
     "text": [
      "Epoch 53 Loss: 0.6119, Train Accuracy: 65.58%\n",
      "Test Loss: 0.6089, Test Accuracy: 65.84%\n"
     ]
    },
    {
     "name": "stderr",
     "output_type": "stream",
     "text": [
      "Epoch 54/100 - LR: 0.000050: 100%|████████████████████████████| 3485/3485 [02:16<00:00, 25.46it/s, acc=65.37%, loss=0.6158]\n"
     ]
    },
    {
     "name": "stdout",
     "output_type": "stream",
     "text": [
      "Epoch 54 Loss: 0.6119, Train Accuracy: 65.57%\n",
      "Test Loss: 0.6087, Test Accuracy: 65.86%\n"
     ]
    },
    {
     "name": "stderr",
     "output_type": "stream",
     "text": [
      "Epoch 55/100 - LR: 0.000050: 100%|████████████████████████████| 3485/3485 [02:16<00:00, 25.47it/s, acc=67.01%, loss=0.6063]\n"
     ]
    },
    {
     "name": "stdout",
     "output_type": "stream",
     "text": [
      "Epoch 55 Loss: 0.6118, Train Accuracy: 65.59%\n",
      "Test Loss: 0.6088, Test Accuracy: 65.84%\n",
      "Learning rate changed from 0.000050 to 0.000025\n"
     ]
    },
    {
     "name": "stderr",
     "output_type": "stream",
     "text": [
      "Epoch 56/100 - LR: 0.000025: 100%|████████████████████████████| 3485/3485 [02:16<00:00, 25.47it/s, acc=65.88%, loss=0.6113]\n"
     ]
    },
    {
     "name": "stdout",
     "output_type": "stream",
     "text": [
      "Epoch 56 Loss: 0.6111, Train Accuracy: 65.66%\n",
      "Test Loss: 0.6083, Test Accuracy: 65.90%\n"
     ]
    },
    {
     "name": "stderr",
     "output_type": "stream",
     "text": [
      "Epoch 57/100 - LR: 0.000025: 100%|████████████████████████████| 3485/3485 [02:18<00:00, 25.12it/s, acc=64.55%, loss=0.6175]\n"
     ]
    },
    {
     "name": "stdout",
     "output_type": "stream",
     "text": [
      "Epoch 57 Loss: 0.6108, Train Accuracy: 65.68%\n",
      "Test Loss: 0.6082, Test Accuracy: 65.90%\n"
     ]
    },
    {
     "name": "stderr",
     "output_type": "stream",
     "text": [
      "Epoch 58/100 - LR: 0.000025: 100%|████████████████████████████| 3485/3485 [02:17<00:00, 25.43it/s, acc=65.57%, loss=0.6188]\n"
     ]
    },
    {
     "name": "stdout",
     "output_type": "stream",
     "text": [
      "Epoch 58 Loss: 0.6107, Train Accuracy: 65.69%\n",
      "Test Loss: 0.6080, Test Accuracy: 65.92%\n"
     ]
    },
    {
     "name": "stderr",
     "output_type": "stream",
     "text": [
      "Epoch 59/100 - LR: 0.000025: 100%|████████████████████████████| 3485/3485 [02:16<00:00, 25.47it/s, acc=65.16%, loss=0.6224]\n"
     ]
    },
    {
     "name": "stdout",
     "output_type": "stream",
     "text": [
      "Epoch 59 Loss: 0.6107, Train Accuracy: 65.71%\n",
      "Test Loss: 0.6080, Test Accuracy: 65.93%\n"
     ]
    },
    {
     "name": "stderr",
     "output_type": "stream",
     "text": [
      "Epoch 60/100 - LR: 0.000025: 100%|████████████████████████████| 3485/3485 [02:16<00:00, 25.44it/s, acc=65.01%, loss=0.6064]\n"
     ]
    },
    {
     "name": "stdout",
     "output_type": "stream",
     "text": [
      "Epoch 60 Loss: 0.6106, Train Accuracy: 65.71%\n",
      "Test Loss: 0.6080, Test Accuracy: 65.93%\n"
     ]
    },
    {
     "name": "stderr",
     "output_type": "stream",
     "text": [
      "Epoch 61/100 - LR: 0.000025: 100%|████████████████████████████| 3485/3485 [02:16<00:00, 25.53it/s, acc=65.98%, loss=0.6034]\n"
     ]
    },
    {
     "name": "stdout",
     "output_type": "stream",
     "text": [
      "Epoch 61 Loss: 0.6105, Train Accuracy: 65.71%\n",
      "Test Loss: 0.6080, Test Accuracy: 65.92%\n",
      "Learning rate changed from 0.000025 to 0.000013\n"
     ]
    },
    {
     "name": "stderr",
     "output_type": "stream",
     "text": [
      "Epoch 62/100 - LR: 0.000013: 100%|████████████████████████████| 3485/3485 [02:16<00:00, 25.48it/s, acc=64.60%, loss=0.6212]\n"
     ]
    },
    {
     "name": "stdout",
     "output_type": "stream",
     "text": [
      "Epoch 62 Loss: 0.6102, Train Accuracy: 65.75%\n",
      "Test Loss: 0.6079, Test Accuracy: 65.94%\n"
     ]
    },
    {
     "name": "stderr",
     "output_type": "stream",
     "text": [
      "Epoch 63/100 - LR: 0.000013: 100%|████████████████████████████| 3485/3485 [02:16<00:00, 25.47it/s, acc=65.21%, loss=0.6129]\n"
     ]
    },
    {
     "name": "stdout",
     "output_type": "stream",
     "text": [
      "Epoch 63 Loss: 0.6099, Train Accuracy: 65.76%\n",
      "Test Loss: 0.6078, Test Accuracy: 65.95%\n"
     ]
    },
    {
     "name": "stderr",
     "output_type": "stream",
     "text": [
      "Epoch 64/100 - LR: 0.000013: 100%|████████████████████████████| 3485/3485 [02:16<00:00, 25.52it/s, acc=65.01%, loss=0.6137]\n"
     ]
    },
    {
     "name": "stdout",
     "output_type": "stream",
     "text": [
      "Epoch 64 Loss: 0.6099, Train Accuracy: 65.78%\n",
      "Test Loss: 0.6078, Test Accuracy: 65.95%\n"
     ]
    },
    {
     "name": "stderr",
     "output_type": "stream",
     "text": [
      "Epoch 65/100 - LR: 0.000013: 100%|████████████████████████████| 3485/3485 [02:16<00:00, 25.50it/s, acc=64.80%, loss=0.6205]\n"
     ]
    },
    {
     "name": "stdout",
     "output_type": "stream",
     "text": [
      "Epoch 65 Loss: 0.6099, Train Accuracy: 65.78%\n",
      "Test Loss: 0.6077, Test Accuracy: 65.96%\n"
     ]
    },
    {
     "name": "stderr",
     "output_type": "stream",
     "text": [
      "Epoch 66/100 - LR: 0.000013: 100%|████████████████████████████| 3485/3485 [02:17<00:00, 25.39it/s, acc=63.88%, loss=0.6199]\n"
     ]
    },
    {
     "name": "stdout",
     "output_type": "stream",
     "text": [
      "Epoch 66 Loss: 0.6098, Train Accuracy: 65.78%\n",
      "Test Loss: 0.6077, Test Accuracy: 65.94%\n",
      "Learning rate changed from 0.000013 to 0.000006\n"
     ]
    },
    {
     "name": "stderr",
     "output_type": "stream",
     "text": [
      "Epoch 67/100 - LR: 0.000006: 100%|████████████████████████████| 3485/3485 [02:16<00:00, 25.51it/s, acc=65.83%, loss=0.6118]\n"
     ]
    },
    {
     "name": "stdout",
     "output_type": "stream",
     "text": [
      "Epoch 67 Loss: 0.6096, Train Accuracy: 65.82%\n",
      "Test Loss: 0.6075, Test Accuracy: 65.96%\n"
     ]
    },
    {
     "name": "stderr",
     "output_type": "stream",
     "text": [
      "Epoch 68/100 - LR: 0.000006: 100%|████████████████████████████| 3485/3485 [02:16<00:00, 25.46it/s, acc=64.49%, loss=0.6256]\n"
     ]
    },
    {
     "name": "stdout",
     "output_type": "stream",
     "text": [
      "Epoch 68 Loss: 0.6095, Train Accuracy: 65.83%\n",
      "Test Loss: 0.6076, Test Accuracy: 65.96%\n"
     ]
    },
    {
     "name": "stderr",
     "output_type": "stream",
     "text": [
      "Epoch 69/100 - LR: 0.000006: 100%|████████████████████████████| 3485/3485 [02:16<00:00, 25.45it/s, acc=65.78%, loss=0.6089]\n"
     ]
    },
    {
     "name": "stdout",
     "output_type": "stream",
     "text": [
      "Epoch 69 Loss: 0.6095, Train Accuracy: 65.81%\n",
      "Test Loss: 0.6075, Test Accuracy: 65.96%\n"
     ]
    },
    {
     "name": "stderr",
     "output_type": "stream",
     "text": [
      "Epoch 70/100 - LR: 0.000006: 100%|████████████████████████████| 3485/3485 [02:17<00:00, 25.42it/s, acc=65.73%, loss=0.5999]\n"
     ]
    },
    {
     "name": "stdout",
     "output_type": "stream",
     "text": [
      "Epoch 70 Loss: 0.6094, Train Accuracy: 65.84%\n",
      "Test Loss: 0.6076, Test Accuracy: 65.97%\n",
      "Learning rate changed from 0.000006 to 0.000003\n"
     ]
    },
    {
     "name": "stderr",
     "output_type": "stream",
     "text": [
      "Epoch 71/100 - LR: 0.000003: 100%|████████████████████████████| 3485/3485 [02:16<00:00, 25.45it/s, acc=67.32%, loss=0.5972]\n"
     ]
    },
    {
     "name": "stdout",
     "output_type": "stream",
     "text": [
      "Epoch 71 Loss: 0.6093, Train Accuracy: 65.84%\n",
      "Test Loss: 0.6075, Test Accuracy: 65.98%\n"
     ]
    },
    {
     "name": "stderr",
     "output_type": "stream",
     "text": [
      "Epoch 72/100 - LR: 0.000003: 100%|████████████████████████████| 3485/3485 [02:16<00:00, 25.44it/s, acc=65.62%, loss=0.5971]\n"
     ]
    },
    {
     "name": "stdout",
     "output_type": "stream",
     "text": [
      "Epoch 72 Loss: 0.6093, Train Accuracy: 65.83%\n",
      "Test Loss: 0.6075, Test Accuracy: 65.98%\n"
     ]
    },
    {
     "name": "stderr",
     "output_type": "stream",
     "text": [
      "Epoch 73/100 - LR: 0.000003: 100%|████████████████████████████| 3485/3485 [02:16<00:00, 25.48it/s, acc=66.14%, loss=0.6020]\n"
     ]
    },
    {
     "name": "stdout",
     "output_type": "stream",
     "text": [
      "Epoch 73 Loss: 0.6092, Train Accuracy: 65.86%\n",
      "Test Loss: 0.6075, Test Accuracy: 65.98%\n",
      "Learning rate changed from 0.000003 to 0.000002\n"
     ]
    },
    {
     "name": "stderr",
     "output_type": "stream",
     "text": [
      "Epoch 74/100 - LR: 0.000002: 100%|████████████████████████████| 3485/3485 [02:16<00:00, 25.51it/s, acc=65.26%, loss=0.6058]\n"
     ]
    },
    {
     "name": "stdout",
     "output_type": "stream",
     "text": [
      "Epoch 74 Loss: 0.6093, Train Accuracy: 65.85%\n",
      "Test Loss: 0.6075, Test Accuracy: 65.98%\n"
     ]
    },
    {
     "name": "stderr",
     "output_type": "stream",
     "text": [
      "Epoch 75/100 - LR: 0.000002: 100%|████████████████████████████| 3485/3485 [02:16<00:00, 25.50it/s, acc=65.52%, loss=0.6203]\n"
     ]
    },
    {
     "name": "stdout",
     "output_type": "stream",
     "text": [
      "Epoch 75 Loss: 0.6092, Train Accuracy: 65.83%\n",
      "Test Loss: 0.6075, Test Accuracy: 65.97%\n"
     ]
    },
    {
     "name": "stderr",
     "output_type": "stream",
     "text": [
      "Epoch 76/100 - LR: 0.000002: 100%|████████████████████████████| 3485/3485 [02:17<00:00, 25.43it/s, acc=66.60%, loss=0.5984]\n"
     ]
    },
    {
     "name": "stdout",
     "output_type": "stream",
     "text": [
      "Epoch 76 Loss: 0.6092, Train Accuracy: 65.85%\n",
      "Test Loss: 0.6075, Test Accuracy: 65.98%\n",
      "Learning rate changed from 0.000002 to 0.000001\n"
     ]
    },
    {
     "name": "stderr",
     "output_type": "stream",
     "text": [
      "Epoch 77/100 - LR: 0.000001: 100%|████████████████████████████| 3485/3485 [02:17<00:00, 25.36it/s, acc=66.14%, loss=0.6015]\n"
     ]
    },
    {
     "name": "stdout",
     "output_type": "stream",
     "text": [
      "Epoch 77 Loss: 0.6091, Train Accuracy: 65.85%\n",
      "Test Loss: 0.6075, Test Accuracy: 65.98%\n"
     ]
    },
    {
     "name": "stderr",
     "output_type": "stream",
     "text": [
      "Epoch 78/100 - LR: 0.000001: 100%|████████████████████████████| 3485/3485 [02:16<00:00, 25.50it/s, acc=66.14%, loss=0.6066]\n"
     ]
    },
    {
     "name": "stdout",
     "output_type": "stream",
     "text": [
      "Epoch 78 Loss: 0.6091, Train Accuracy: 65.86%\n",
      "Test Loss: 0.6075, Test Accuracy: 65.98%\n"
     ]
    },
    {
     "name": "stderr",
     "output_type": "stream",
     "text": [
      "Epoch 79/100 - LR: 0.000001: 100%|████████████████████████████| 3485/3485 [02:16<00:00, 25.47it/s, acc=67.06%, loss=0.6029]\n"
     ]
    },
    {
     "name": "stdout",
     "output_type": "stream",
     "text": [
      "Epoch 79 Loss: 0.6091, Train Accuracy: 65.86%\n",
      "Test Loss: 0.6075, Test Accuracy: 65.98%\n"
     ]
    },
    {
     "name": "stderr",
     "output_type": "stream",
     "text": [
      "Epoch 80/100 - LR: 0.000001: 100%|████████████████████████████| 3485/3485 [02:17<00:00, 25.37it/s, acc=64.80%, loss=0.6142]\n"
     ]
    },
    {
     "name": "stdout",
     "output_type": "stream",
     "text": [
      "Epoch 80 Loss: 0.6091, Train Accuracy: 65.85%\n",
      "Test Loss: 0.6074, Test Accuracy: 65.97%\n",
      "Learning rate changed from 0.000001 to 0.000000\n"
     ]
    },
    {
     "name": "stderr",
     "output_type": "stream",
     "text": [
      "Epoch 81/100 - LR: 0.000000: 100%|████████████████████████████| 3485/3485 [02:16<00:00, 25.45it/s, acc=65.42%, loss=0.6151]\n"
     ]
    },
    {
     "name": "stdout",
     "output_type": "stream",
     "text": [
      "Epoch 81 Loss: 0.6091, Train Accuracy: 65.85%\n",
      "Test Loss: 0.6074, Test Accuracy: 65.98%\n"
     ]
    },
    {
     "name": "stderr",
     "output_type": "stream",
     "text": [
      "Epoch 82/100 - LR: 0.000000: 100%|████████████████████████████| 3485/3485 [02:16<00:00, 25.47it/s, acc=64.03%, loss=0.6279]\n"
     ]
    },
    {
     "name": "stdout",
     "output_type": "stream",
     "text": [
      "Epoch 82 Loss: 0.6091, Train Accuracy: 65.87%\n",
      "Test Loss: 0.6075, Test Accuracy: 65.98%\n",
      "Early stopping triggered at epoch 82. Best model was from epoch 74.\n"
     ]
    }
   ],
   "source": [
    "import torch\n",
    "import torch.nn as nn\n",
    "import torch.optim as optim\n",
    "import numpy as np\n",
    "import pandas as pd\n",
    "from tqdm import tqdm\n",
    "from torch.utils.data import DataLoader, TensorDataset\n",
    "import helper_functions\n",
    "import importlib\n",
    "import os\n",
    "\n",
    "# Make sure these exist\n",
    "assert 'X_train' in locals() and 'y_train' in locals()\n",
    "\n",
    "pca_features = [\n",
    "    'Census_OSInstallLanguageIdentifier', \n",
    "    'OsPlatformSubRelease', \n",
    "    'Census_InternalPrimaryDisplayResolutionHorizontal', \n",
    "    'dpi', \n",
    "    'Census_InternalPrimaryDisplayResolutionVertical', \n",
    "    'CountryIdentifier', \n",
    "    'IsSxsPassiveMode', \n",
    "    'RtpStateBitfield', \n",
    "    'OrganizationIdentifier', \n",
    "    'CityIdentifier', \n",
    "    'GeoNameIdentifier', \n",
    "    'Census_InternalBatteryNumberOfCharges', \n",
    "    'AvSigVersion', \n",
    "    'Census_HasOpticalDiskDrive', \n",
    "    'Census_ChassisTypeName', \n",
    "    'Census_OSBranch', \n",
    "    'Screen_Area', \n",
    "    'Census_GenuineStateName', \n",
    "    'Census_OSBuildRevision', \n",
    "    'Census_IsVirtualDevice', \n",
    "    'magic_4', \n",
    "    'LocaleEnglishNameIdentifier', \n",
    "    'Census_FirmwareVersionIdentifier', \n",
    "    'Census_OEMModelIdentifier', \n",
    "    'Census_MDC2FormFactor', \n",
    "    'Census_OSWUAutoUpdateOptionsName', \n",
    "    'Wdft_RegionIdentifier', \n",
    "    'AppVersion', \n",
    "    'Wdft_IsGamer', \n",
    "    'Firewall', \n",
    "    'Census_ProcessorModelIdentifier', \n",
    "    'Census_TotalPhysicalRAM', \n",
    "    'Census_FlightRing', \n",
    "    'IeVerIdentifier', \n",
    "    'Census_OEMNameIdentifier', \n",
    "    'DefaultBrowsersIdentifier', \n",
    "    'primary_drive_c_ratio', \n",
    "    'Census_PowerPlatformRoleName', \n",
    "    'Census_ProcessorCoreCount', \n",
    "    'Census_FirmwareManufacturerIdentifier', \n",
    "    'AVProductStatesIdentifier', \n",
    "    'SmartScreen', \n",
    "    'Census_OSInstallTypeName',\n",
    "    'Census_OSVersion', \n",
    "    'EngineVersion', \n",
    "    'aspect_ratio', \n",
    "    'IsProtected', \n",
    "    'AVProductsEnabled', \n",
    "    'Census_IsSecureBootEnabled', \n",
    "    'OsBuildLab', \n",
    "    'Processor', \n",
    "    'Census_ActivationChannel', \n",
    "    'OsBuild', \n",
    "    'Census_SystemVolumeTotalCapacity', \n",
    "    'Census_PrimaryDiskTypeName'\n",
    "]\n",
    "\n",
    "X_train_kagenc_pca_tensor = torch.tensor(X_train[pca_features].values, dtype=torch.float32)\n",
    "X_valid_kagenc_pca_tensor = torch.tensor(X_valid[pca_features].values, dtype=torch.float32)\n",
    "y_train_kagenc_tensor = torch.tensor(y_train.values, dtype=torch.float32).view(-1, 1)\n",
    "y_valid_kagenc_tensor = torch.tensor(y_valid.values, dtype=torch.float32).view(-1, 1)\n",
    "\n",
    "\n",
    "# Figure out which device to use. By default, CPU\n",
    "device = \"cpu\"\n",
    "# For M-architecture Macs\n",
    "if torch.backends.mps.is_available():\n",
    "    device = torch.device(\"mps\")\n",
    "# For NVIDIA\n",
    "elif torch.cuda.is_available():\n",
    "    device = torch.device(\"cuda\")\n",
    "\n",
    "# DataLoader\n",
    "train_dataset_kagenc_pca = TensorDataset(X_train_kagenc_pca_tensor, y_train_kagenc_tensor)\n",
    "valid_dataset_kagenc_pca = TensorDataset(X_valid_kagenc_pca_tensor, y_valid_kagenc_tensor)\n",
    "\n",
    "batch_size = 2048\n",
    "train_loader_kagenc_pca = DataLoader(train_dataset_kagenc_pca, batch_size=batch_size, shuffle=True)\n",
    "test_loader_kagenc_pca = DataLoader(valid_dataset_kagenc_pca, batch_size=batch_size, shuffle=False)\n",
    "\n",
    "# Model\n",
    "# Define complex model\n",
    "class BinaryClassifier(nn.Module):\n",
    "    def __init__(self):\n",
    "        super(BinaryClassifier, self).__init__()\n",
    "        self.layers = nn.Sequential(\n",
    "            nn.Linear(X_train_kagenc_pca_tensor.shape[1], 512),\n",
    "            nn.ReLU(),\n",
    "            nn.BatchNorm1d(512),\n",
    "            nn.Dropout(0.3),\n",
    "\n",
    "            nn.Linear(512, 256),\n",
    "            nn.ReLU(),\n",
    "            nn.BatchNorm1d(256),\n",
    "            nn.Dropout(0.3),\n",
    "\n",
    "            nn.Linear(256, 128),\n",
    "            nn.ReLU(),\n",
    "            nn.BatchNorm1d(128),\n",
    "            nn.Dropout(0.4),\n",
    "\n",
    "            nn.Linear(128, 64),\n",
    "            nn.ReLU(),\n",
    "            nn.BatchNorm1d(64),\n",
    "            nn.Dropout(0.4),\n",
    "\n",
    "            nn.Linear(64, 1)\n",
    "        )\n",
    "\n",
    "    def forward(self, x):\n",
    "        return self.layers(x)\n",
    "\n",
    "\n",
    "\n",
    "model_kagenc_pca = BinaryClassifier().to(device)\n",
    "\n",
    "criterion = nn.BCEWithLogitsLoss()  # or use nn.BCEWithLogitsLoss and remove sigmoid\n",
    "optimizer = optim.Adam(model_kagenc_pca.parameters(), weight_decay=1e-4, lr=0.0001)\n",
    "scheduler = optim.lr_scheduler.ReduceLROnPlateau(optimizer, mode='min', factor=0.5, patience=2)\n",
    "\n",
    "epochs = 100\n",
    "# Train\n",
    "best_model_weights_kagenc_pca, train_loss_kagenc_pca, test_loss_kagenc_pca, train_accuracy_kagenc_pca, test_accuracy_kagenc_pca, lrs_kagenc_pca = helper_functions.train_and_evaluate_model(\n",
    "    model_kagenc_pca, criterion, optimizer, scheduler, train_loader_kagenc_pca, test_loader_kagenc_pca, epochs=epochs\n",
    ")\n",
    "\n",
    "torch.save(model_kagenc_pca.state_dict(), '../Saved Models/3hl_advanced_encodings_pca.pth')"
   ]
  },
  {
   "cell_type": "markdown",
   "id": "5e9376ce-cc85-425b-be7a-4389eca0765f",
   "metadata": {},
   "source": [
    "## Train 3-Hidden-Layer Neural Network (LDA)"
   ]
  },
  {
   "cell_type": "code",
   "execution_count": 5,
   "id": "8ab2b22e-5563-4b33-961b-bedf2800cdf2",
   "metadata": {},
   "outputs": [
    {
     "name": "stdout",
     "output_type": "stream",
     "text": [
      "Training on mps\n"
     ]
    },
    {
     "name": "stderr",
     "output_type": "stream",
     "text": [
      "Epoch 1/100 - LR: 0.000100: 100%|█████████████████████████████| 3485/3485 [02:15<00:00, 25.69it/s, acc=63.16%, loss=0.6333]\n"
     ]
    },
    {
     "name": "stdout",
     "output_type": "stream",
     "text": [
      "Epoch 1 Loss: 0.6618, Train Accuracy: 60.37%\n",
      "Test Loss: 0.6351, Test Accuracy: 63.15%\n"
     ]
    },
    {
     "name": "stderr",
     "output_type": "stream",
     "text": [
      "Epoch 2/100 - LR: 0.000100: 100%|█████████████████████████████| 3485/3485 [02:14<00:00, 25.83it/s, acc=61.67%, loss=0.6336]\n"
     ]
    },
    {
     "name": "stdout",
     "output_type": "stream",
     "text": [
      "Epoch 2 Loss: 0.6368, Train Accuracy: 62.90%\n",
      "Test Loss: 0.6279, Test Accuracy: 63.71%\n"
     ]
    },
    {
     "name": "stderr",
     "output_type": "stream",
     "text": [
      "Epoch 3/100 - LR: 0.000100: 100%|█████████████████████████████| 3485/3485 [02:15<00:00, 25.74it/s, acc=60.90%, loss=0.6402]\n"
     ]
    },
    {
     "name": "stdout",
     "output_type": "stream",
     "text": [
      "Epoch 3 Loss: 0.6311, Train Accuracy: 63.45%\n",
      "Test Loss: 0.6250, Test Accuracy: 63.98%\n"
     ]
    },
    {
     "name": "stderr",
     "output_type": "stream",
     "text": [
      "Epoch 4/100 - LR: 0.000100: 100%|█████████████████████████████| 3485/3485 [02:14<00:00, 25.84it/s, acc=63.01%, loss=0.6345]\n"
     ]
    },
    {
     "name": "stdout",
     "output_type": "stream",
     "text": [
      "Epoch 4 Loss: 0.6285, Train Accuracy: 63.72%\n",
      "Test Loss: 0.6233, Test Accuracy: 64.18%\n"
     ]
    },
    {
     "name": "stderr",
     "output_type": "stream",
     "text": [
      "Epoch 5/100 - LR: 0.000100: 100%|█████████████████████████████| 3485/3485 [02:15<00:00, 25.77it/s, acc=63.98%, loss=0.6249]\n"
     ]
    },
    {
     "name": "stdout",
     "output_type": "stream",
     "text": [
      "Epoch 5 Loss: 0.6269, Train Accuracy: 63.92%\n",
      "Test Loss: 0.6221, Test Accuracy: 64.34%\n"
     ]
    },
    {
     "name": "stderr",
     "output_type": "stream",
     "text": [
      "Epoch 6/100 - LR: 0.000100: 100%|█████████████████████████████| 3485/3485 [02:15<00:00, 25.79it/s, acc=62.80%, loss=0.6329]\n"
     ]
    },
    {
     "name": "stdout",
     "output_type": "stream",
     "text": [
      "Epoch 6 Loss: 0.6256, Train Accuracy: 64.06%\n",
      "Test Loss: 0.6210, Test Accuracy: 64.51%\n"
     ]
    },
    {
     "name": "stderr",
     "output_type": "stream",
     "text": [
      "Epoch 7/100 - LR: 0.000100: 100%|█████████████████████████████| 3485/3485 [02:15<00:00, 25.77it/s, acc=62.03%, loss=0.6353]\n"
     ]
    },
    {
     "name": "stdout",
     "output_type": "stream",
     "text": [
      "Epoch 7 Loss: 0.6244, Train Accuracy: 64.21%\n",
      "Test Loss: 0.6199, Test Accuracy: 64.62%\n"
     ]
    },
    {
     "name": "stderr",
     "output_type": "stream",
     "text": [
      "Epoch 8/100 - LR: 0.000100: 100%|█████████████████████████████| 3485/3485 [02:15<00:00, 25.80it/s, acc=65.06%, loss=0.6205]\n"
     ]
    },
    {
     "name": "stdout",
     "output_type": "stream",
     "text": [
      "Epoch 8 Loss: 0.6234, Train Accuracy: 64.35%\n",
      "Test Loss: 0.6192, Test Accuracy: 64.69%\n"
     ]
    },
    {
     "name": "stderr",
     "output_type": "stream",
     "text": [
      "Epoch 9/100 - LR: 0.000100: 100%|█████████████████████████████| 3485/3485 [02:16<00:00, 25.62it/s, acc=64.44%, loss=0.6238]\n"
     ]
    },
    {
     "name": "stdout",
     "output_type": "stream",
     "text": [
      "Epoch 9 Loss: 0.6225, Train Accuracy: 64.44%\n",
      "Test Loss: 0.6183, Test Accuracy: 64.78%\n"
     ]
    },
    {
     "name": "stderr",
     "output_type": "stream",
     "text": [
      "Epoch 10/100 - LR: 0.000100: 100%|████████████████████████████| 3485/3485 [02:14<00:00, 25.89it/s, acc=64.24%, loss=0.6305]\n"
     ]
    },
    {
     "name": "stdout",
     "output_type": "stream",
     "text": [
      "Epoch 10 Loss: 0.6217, Train Accuracy: 64.52%\n",
      "Test Loss: 0.6176, Test Accuracy: 64.88%\n"
     ]
    },
    {
     "name": "stderr",
     "output_type": "stream",
     "text": [
      "Epoch 11/100 - LR: 0.000100: 100%|████████████████████████████| 3485/3485 [02:14<00:00, 25.87it/s, acc=64.29%, loss=0.6238]\n"
     ]
    },
    {
     "name": "stdout",
     "output_type": "stream",
     "text": [
      "Epoch 11 Loss: 0.6211, Train Accuracy: 64.61%\n",
      "Test Loss: 0.6172, Test Accuracy: 64.92%\n"
     ]
    },
    {
     "name": "stderr",
     "output_type": "stream",
     "text": [
      "Epoch 12/100 - LR: 0.000100: 100%|████████████████████████████| 3485/3485 [02:15<00:00, 25.76it/s, acc=65.78%, loss=0.6188]\n"
     ]
    },
    {
     "name": "stdout",
     "output_type": "stream",
     "text": [
      "Epoch 12 Loss: 0.6204, Train Accuracy: 64.68%\n",
      "Test Loss: 0.6168, Test Accuracy: 64.95%\n"
     ]
    },
    {
     "name": "stderr",
     "output_type": "stream",
     "text": [
      "Epoch 13/100 - LR: 0.000100: 100%|████████████████████████████| 3485/3485 [02:14<00:00, 25.89it/s, acc=63.88%, loss=0.6208]\n"
     ]
    },
    {
     "name": "stdout",
     "output_type": "stream",
     "text": [
      "Epoch 13 Loss: 0.6200, Train Accuracy: 64.72%\n",
      "Test Loss: 0.6163, Test Accuracy: 65.04%\n"
     ]
    },
    {
     "name": "stderr",
     "output_type": "stream",
     "text": [
      "Epoch 14/100 - LR: 0.000100: 100%|████████████████████████████| 3485/3485 [02:14<00:00, 25.87it/s, acc=65.01%, loss=0.6223]\n"
     ]
    },
    {
     "name": "stdout",
     "output_type": "stream",
     "text": [
      "Epoch 14 Loss: 0.6195, Train Accuracy: 64.78%\n",
      "Test Loss: 0.6158, Test Accuracy: 65.10%\n"
     ]
    },
    {
     "name": "stderr",
     "output_type": "stream",
     "text": [
      "Epoch 15/100 - LR: 0.000100: 100%|████████████████████████████| 3485/3485 [02:14<00:00, 25.87it/s, acc=64.19%, loss=0.6260]\n"
     ]
    },
    {
     "name": "stdout",
     "output_type": "stream",
     "text": [
      "Epoch 15 Loss: 0.6190, Train Accuracy: 64.84%\n",
      "Test Loss: 0.6151, Test Accuracy: 65.15%\n"
     ]
    },
    {
     "name": "stderr",
     "output_type": "stream",
     "text": [
      "Epoch 16/100 - LR: 0.000100: 100%|████████████████████████████| 3485/3485 [02:14<00:00, 25.83it/s, acc=66.09%, loss=0.6071]\n"
     ]
    },
    {
     "name": "stdout",
     "output_type": "stream",
     "text": [
      "Epoch 16 Loss: 0.6185, Train Accuracy: 64.91%\n",
      "Test Loss: 0.6147, Test Accuracy: 65.21%\n"
     ]
    },
    {
     "name": "stderr",
     "output_type": "stream",
     "text": [
      "Epoch 17/100 - LR: 0.000100: 100%|████████████████████████████| 3485/3485 [02:14<00:00, 25.87it/s, acc=64.80%, loss=0.6154]\n"
     ]
    },
    {
     "name": "stdout",
     "output_type": "stream",
     "text": [
      "Epoch 17 Loss: 0.6182, Train Accuracy: 64.94%\n",
      "Test Loss: 0.6145, Test Accuracy: 65.22%\n"
     ]
    },
    {
     "name": "stderr",
     "output_type": "stream",
     "text": [
      "Epoch 18/100 - LR: 0.000100: 100%|████████████████████████████| 3485/3485 [02:16<00:00, 25.56it/s, acc=64.75%, loss=0.6080]\n"
     ]
    },
    {
     "name": "stdout",
     "output_type": "stream",
     "text": [
      "Epoch 18 Loss: 0.6178, Train Accuracy: 64.97%\n",
      "Test Loss: 0.6140, Test Accuracy: 65.27%\n"
     ]
    },
    {
     "name": "stderr",
     "output_type": "stream",
     "text": [
      "Epoch 19/100 - LR: 0.000100: 100%|████████████████████████████| 3485/3485 [02:16<00:00, 25.45it/s, acc=63.83%, loss=0.6244]\n"
     ]
    },
    {
     "name": "stdout",
     "output_type": "stream",
     "text": [
      "Epoch 19 Loss: 0.6176, Train Accuracy: 64.99%\n",
      "Test Loss: 0.6137, Test Accuracy: 65.28%\n"
     ]
    },
    {
     "name": "stderr",
     "output_type": "stream",
     "text": [
      "Epoch 20/100 - LR: 0.000100: 100%|████████████████████████████| 3485/3485 [02:14<00:00, 25.85it/s, acc=63.98%, loss=0.6291]\n"
     ]
    },
    {
     "name": "stdout",
     "output_type": "stream",
     "text": [
      "Epoch 20 Loss: 0.6173, Train Accuracy: 65.02%\n",
      "Test Loss: 0.6135, Test Accuracy: 65.32%\n"
     ]
    },
    {
     "name": "stderr",
     "output_type": "stream",
     "text": [
      "Epoch 21/100 - LR: 0.000100: 100%|████████████████████████████| 3485/3485 [02:16<00:00, 25.59it/s, acc=63.72%, loss=0.6202]\n"
     ]
    },
    {
     "name": "stdout",
     "output_type": "stream",
     "text": [
      "Epoch 21 Loss: 0.6171, Train Accuracy: 65.04%\n",
      "Test Loss: 0.6133, Test Accuracy: 65.33%\n"
     ]
    },
    {
     "name": "stderr",
     "output_type": "stream",
     "text": [
      "Epoch 22/100 - LR: 0.000100: 100%|████████████████████████████| 3485/3485 [02:15<00:00, 25.76it/s, acc=65.67%, loss=0.6241]\n"
     ]
    },
    {
     "name": "stdout",
     "output_type": "stream",
     "text": [
      "Epoch 22 Loss: 0.6168, Train Accuracy: 65.07%\n",
      "Test Loss: 0.6133, Test Accuracy: 65.31%\n"
     ]
    },
    {
     "name": "stderr",
     "output_type": "stream",
     "text": [
      "Epoch 23/100 - LR: 0.000100: 100%|████████████████████████████| 3485/3485 [02:15<00:00, 25.76it/s, acc=64.14%, loss=0.6184]\n"
     ]
    },
    {
     "name": "stdout",
     "output_type": "stream",
     "text": [
      "Epoch 23 Loss: 0.6168, Train Accuracy: 65.09%\n",
      "Test Loss: 0.6131, Test Accuracy: 65.39%\n"
     ]
    },
    {
     "name": "stderr",
     "output_type": "stream",
     "text": [
      "Epoch 24/100 - LR: 0.000100: 100%|████████████████████████████| 3485/3485 [02:15<00:00, 25.79it/s, acc=65.21%, loss=0.6242]\n"
     ]
    },
    {
     "name": "stdout",
     "output_type": "stream",
     "text": [
      "Epoch 24 Loss: 0.6165, Train Accuracy: 65.12%\n",
      "Test Loss: 0.6127, Test Accuracy: 65.41%\n"
     ]
    },
    {
     "name": "stderr",
     "output_type": "stream",
     "text": [
      "Epoch 25/100 - LR: 0.000100: 100%|████████████████████████████| 3485/3485 [02:15<00:00, 25.74it/s, acc=67.11%, loss=0.6055]\n"
     ]
    },
    {
     "name": "stdout",
     "output_type": "stream",
     "text": [
      "Epoch 25 Loss: 0.6163, Train Accuracy: 65.12%\n",
      "Test Loss: 0.6127, Test Accuracy: 65.43%\n"
     ]
    },
    {
     "name": "stderr",
     "output_type": "stream",
     "text": [
      "Epoch 26/100 - LR: 0.000100: 100%|████████████████████████████| 3485/3485 [02:14<00:00, 25.83it/s, acc=64.19%, loss=0.6282]\n"
     ]
    },
    {
     "name": "stdout",
     "output_type": "stream",
     "text": [
      "Epoch 26 Loss: 0.6161, Train Accuracy: 65.16%\n",
      "Test Loss: 0.6126, Test Accuracy: 65.42%\n"
     ]
    },
    {
     "name": "stderr",
     "output_type": "stream",
     "text": [
      "Epoch 27/100 - LR: 0.000100: 100%|████████████████████████████| 3485/3485 [02:15<00:00, 25.76it/s, acc=64.24%, loss=0.6103]\n"
     ]
    },
    {
     "name": "stdout",
     "output_type": "stream",
     "text": [
      "Epoch 27 Loss: 0.6161, Train Accuracy: 65.16%\n",
      "Test Loss: 0.6127, Test Accuracy: 65.47%\n"
     ]
    },
    {
     "name": "stderr",
     "output_type": "stream",
     "text": [
      "Epoch 28/100 - LR: 0.000100: 100%|████████████████████████████| 3485/3485 [02:14<00:00, 25.91it/s, acc=65.37%, loss=0.6256]\n"
     ]
    },
    {
     "name": "stdout",
     "output_type": "stream",
     "text": [
      "Epoch 28 Loss: 0.6158, Train Accuracy: 65.19%\n",
      "Test Loss: 0.6123, Test Accuracy: 65.46%\n"
     ]
    },
    {
     "name": "stderr",
     "output_type": "stream",
     "text": [
      "Epoch 29/100 - LR: 0.000100: 100%|████████████████████████████| 3485/3485 [02:14<00:00, 25.91it/s, acc=64.70%, loss=0.6169]\n"
     ]
    },
    {
     "name": "stdout",
     "output_type": "stream",
     "text": [
      "Epoch 29 Loss: 0.6157, Train Accuracy: 65.19%\n",
      "Test Loss: 0.6123, Test Accuracy: 65.48%\n"
     ]
    },
    {
     "name": "stderr",
     "output_type": "stream",
     "text": [
      "Epoch 30/100 - LR: 0.000100: 100%|████████████████████████████| 3485/3485 [02:14<00:00, 25.90it/s, acc=66.39%, loss=0.6125]\n"
     ]
    },
    {
     "name": "stdout",
     "output_type": "stream",
     "text": [
      "Epoch 30 Loss: 0.6155, Train Accuracy: 65.22%\n",
      "Test Loss: 0.6121, Test Accuracy: 65.48%\n"
     ]
    },
    {
     "name": "stderr",
     "output_type": "stream",
     "text": [
      "Epoch 31/100 - LR: 0.000100: 100%|████████████████████████████| 3485/3485 [02:14<00:00, 25.89it/s, acc=63.88%, loss=0.6256]\n"
     ]
    },
    {
     "name": "stdout",
     "output_type": "stream",
     "text": [
      "Epoch 31 Loss: 0.6154, Train Accuracy: 65.23%\n",
      "Test Loss: 0.6118, Test Accuracy: 65.49%\n"
     ]
    },
    {
     "name": "stderr",
     "output_type": "stream",
     "text": [
      "Epoch 32/100 - LR: 0.000100: 100%|████████████████████████████| 3485/3485 [02:14<00:00, 25.93it/s, acc=64.08%, loss=0.6235]\n"
     ]
    },
    {
     "name": "stdout",
     "output_type": "stream",
     "text": [
      "Epoch 32 Loss: 0.6152, Train Accuracy: 65.23%\n",
      "Test Loss: 0.6116, Test Accuracy: 65.52%\n"
     ]
    },
    {
     "name": "stderr",
     "output_type": "stream",
     "text": [
      "Epoch 33/100 - LR: 0.000100: 100%|████████████████████████████| 3485/3485 [02:14<00:00, 25.90it/s, acc=64.85%, loss=0.6142]\n"
     ]
    },
    {
     "name": "stdout",
     "output_type": "stream",
     "text": [
      "Epoch 33 Loss: 0.6152, Train Accuracy: 65.24%\n",
      "Test Loss: 0.6114, Test Accuracy: 65.56%\n"
     ]
    },
    {
     "name": "stderr",
     "output_type": "stream",
     "text": [
      "Epoch 34/100 - LR: 0.000100: 100%|████████████████████████████| 3485/3485 [02:14<00:00, 25.86it/s, acc=66.24%, loss=0.6064]\n"
     ]
    },
    {
     "name": "stdout",
     "output_type": "stream",
     "text": [
      "Epoch 34 Loss: 0.6150, Train Accuracy: 65.27%\n",
      "Test Loss: 0.6115, Test Accuracy: 65.56%\n"
     ]
    },
    {
     "name": "stderr",
     "output_type": "stream",
     "text": [
      "Epoch 35/100 - LR: 0.000100: 100%|████████████████████████████| 3485/3485 [02:14<00:00, 25.90it/s, acc=64.19%, loss=0.6314]\n"
     ]
    },
    {
     "name": "stdout",
     "output_type": "stream",
     "text": [
      "Epoch 35 Loss: 0.6150, Train Accuracy: 65.28%\n",
      "Test Loss: 0.6113, Test Accuracy: 65.57%\n"
     ]
    },
    {
     "name": "stderr",
     "output_type": "stream",
     "text": [
      "Epoch 36/100 - LR: 0.000100: 100%|████████████████████████████| 3485/3485 [02:15<00:00, 25.68it/s, acc=65.16%, loss=0.6203]\n"
     ]
    },
    {
     "name": "stdout",
     "output_type": "stream",
     "text": [
      "Epoch 36 Loss: 0.6148, Train Accuracy: 65.30%\n",
      "Test Loss: 0.6110, Test Accuracy: 65.57%\n"
     ]
    },
    {
     "name": "stderr",
     "output_type": "stream",
     "text": [
      "Epoch 37/100 - LR: 0.000100: 100%|████████████████████████████| 3485/3485 [02:14<00:00, 25.83it/s, acc=64.49%, loss=0.6169]\n"
     ]
    },
    {
     "name": "stdout",
     "output_type": "stream",
     "text": [
      "Epoch 37 Loss: 0.6148, Train Accuracy: 65.31%\n",
      "Test Loss: 0.6111, Test Accuracy: 65.57%\n"
     ]
    },
    {
     "name": "stderr",
     "output_type": "stream",
     "text": [
      "Epoch 38/100 - LR: 0.000100: 100%|████████████████████████████| 3485/3485 [02:15<00:00, 25.78it/s, acc=66.75%, loss=0.6061]\n"
     ]
    },
    {
     "name": "stdout",
     "output_type": "stream",
     "text": [
      "Epoch 38 Loss: 0.6146, Train Accuracy: 65.30%\n",
      "Test Loss: 0.6109, Test Accuracy: 65.58%\n"
     ]
    },
    {
     "name": "stderr",
     "output_type": "stream",
     "text": [
      "Epoch 39/100 - LR: 0.000100: 100%|████████████████████████████| 3485/3485 [02:15<00:00, 25.74it/s, acc=65.32%, loss=0.6131]\n"
     ]
    },
    {
     "name": "stdout",
     "output_type": "stream",
     "text": [
      "Epoch 39 Loss: 0.6146, Train Accuracy: 65.31%\n",
      "Test Loss: 0.6109, Test Accuracy: 65.57%\n"
     ]
    },
    {
     "name": "stderr",
     "output_type": "stream",
     "text": [
      "Epoch 40/100 - LR: 0.000100: 100%|████████████████████████████| 3485/3485 [02:14<00:00, 25.95it/s, acc=64.03%, loss=0.6272]\n"
     ]
    },
    {
     "name": "stdout",
     "output_type": "stream",
     "text": [
      "Epoch 40 Loss: 0.6146, Train Accuracy: 65.31%\n",
      "Test Loss: 0.6107, Test Accuracy: 65.61%\n"
     ]
    },
    {
     "name": "stderr",
     "output_type": "stream",
     "text": [
      "Epoch 41/100 - LR: 0.000100: 100%|████████████████████████████| 3485/3485 [02:14<00:00, 25.85it/s, acc=65.88%, loss=0.6170]\n"
     ]
    },
    {
     "name": "stdout",
     "output_type": "stream",
     "text": [
      "Epoch 41 Loss: 0.6145, Train Accuracy: 65.32%\n",
      "Test Loss: 0.6111, Test Accuracy: 65.57%\n"
     ]
    },
    {
     "name": "stderr",
     "output_type": "stream",
     "text": [
      "Epoch 42/100 - LR: 0.000100: 100%|████████████████████████████| 3485/3485 [02:14<00:00, 25.95it/s, acc=63.62%, loss=0.6275]\n"
     ]
    },
    {
     "name": "stdout",
     "output_type": "stream",
     "text": [
      "Epoch 42 Loss: 0.6143, Train Accuracy: 65.33%\n",
      "Test Loss: 0.6107, Test Accuracy: 65.63%\n"
     ]
    },
    {
     "name": "stderr",
     "output_type": "stream",
     "text": [
      "Epoch 43/100 - LR: 0.000100: 100%|████████████████████████████| 3485/3485 [02:14<00:00, 25.94it/s, acc=63.52%, loss=0.6273]\n"
     ]
    },
    {
     "name": "stdout",
     "output_type": "stream",
     "text": [
      "Epoch 43 Loss: 0.6143, Train Accuracy: 65.35%\n",
      "Test Loss: 0.6104, Test Accuracy: 65.64%\n"
     ]
    },
    {
     "name": "stderr",
     "output_type": "stream",
     "text": [
      "Epoch 44/100 - LR: 0.000100: 100%|████████████████████████████| 3485/3485 [02:14<00:00, 25.84it/s, acc=65.67%, loss=0.6071]\n"
     ]
    },
    {
     "name": "stdout",
     "output_type": "stream",
     "text": [
      "Epoch 44 Loss: 0.6142, Train Accuracy: 65.37%\n",
      "Test Loss: 0.6104, Test Accuracy: 65.64%\n"
     ]
    },
    {
     "name": "stderr",
     "output_type": "stream",
     "text": [
      "Epoch 45/100 - LR: 0.000100: 100%|████████████████████████████| 3485/3485 [02:14<00:00, 25.94it/s, acc=65.06%, loss=0.6180]\n"
     ]
    },
    {
     "name": "stdout",
     "output_type": "stream",
     "text": [
      "Epoch 45 Loss: 0.6142, Train Accuracy: 65.34%\n",
      "Test Loss: 0.6105, Test Accuracy: 65.60%\n"
     ]
    },
    {
     "name": "stderr",
     "output_type": "stream",
     "text": [
      "Epoch 46/100 - LR: 0.000100: 100%|████████████████████████████| 3485/3485 [02:14<00:00, 25.92it/s, acc=64.39%, loss=0.6271]\n"
     ]
    },
    {
     "name": "stdout",
     "output_type": "stream",
     "text": [
      "Epoch 46 Loss: 0.6141, Train Accuracy: 65.36%\n",
      "Test Loss: 0.6105, Test Accuracy: 65.64%\n"
     ]
    },
    {
     "name": "stderr",
     "output_type": "stream",
     "text": [
      "Epoch 47/100 - LR: 0.000100: 100%|████████████████████████████| 3485/3485 [02:14<00:00, 25.94it/s, acc=64.65%, loss=0.6171]\n"
     ]
    },
    {
     "name": "stdout",
     "output_type": "stream",
     "text": [
      "Epoch 47 Loss: 0.6141, Train Accuracy: 65.34%\n",
      "Test Loss: 0.6103, Test Accuracy: 65.63%\n",
      "Learning rate changed from 0.000100 to 0.000050\n"
     ]
    },
    {
     "name": "stderr",
     "output_type": "stream",
     "text": [
      "Epoch 48/100 - LR: 0.000050: 100%|████████████████████████████| 3485/3485 [02:14<00:00, 25.95it/s, acc=65.83%, loss=0.6181]\n"
     ]
    },
    {
     "name": "stdout",
     "output_type": "stream",
     "text": [
      "Epoch 48 Loss: 0.6130, Train Accuracy: 65.49%\n",
      "Test Loss: 0.6093, Test Accuracy: 65.74%\n"
     ]
    },
    {
     "name": "stderr",
     "output_type": "stream",
     "text": [
      "Epoch 49/100 - LR: 0.000050: 100%|████████████████████████████| 3485/3485 [02:14<00:00, 25.90it/s, acc=65.73%, loss=0.6110]\n"
     ]
    },
    {
     "name": "stdout",
     "output_type": "stream",
     "text": [
      "Epoch 49 Loss: 0.6126, Train Accuracy: 65.49%\n",
      "Test Loss: 0.6090, Test Accuracy: 65.75%\n"
     ]
    },
    {
     "name": "stderr",
     "output_type": "stream",
     "text": [
      "Epoch 50/100 - LR: 0.000050: 100%|████████████████████████████| 3485/3485 [02:14<00:00, 25.93it/s, acc=66.70%, loss=0.6024]\n"
     ]
    },
    {
     "name": "stdout",
     "output_type": "stream",
     "text": [
      "Epoch 50 Loss: 0.6124, Train Accuracy: 65.52%\n",
      "Test Loss: 0.6091, Test Accuracy: 65.78%\n"
     ]
    },
    {
     "name": "stderr",
     "output_type": "stream",
     "text": [
      "Epoch 51/100 - LR: 0.000050: 100%|████████████████████████████| 3485/3485 [02:14<00:00, 25.90it/s, acc=65.47%, loss=0.6091]\n"
     ]
    },
    {
     "name": "stdout",
     "output_type": "stream",
     "text": [
      "Epoch 51 Loss: 0.6123, Train Accuracy: 65.55%\n",
      "Test Loss: 0.6088, Test Accuracy: 65.79%\n"
     ]
    },
    {
     "name": "stderr",
     "output_type": "stream",
     "text": [
      "Epoch 52/100 - LR: 0.000050: 100%|████████████████████████████| 3485/3485 [02:14<00:00, 25.85it/s, acc=63.11%, loss=0.6272]\n"
     ]
    },
    {
     "name": "stdout",
     "output_type": "stream",
     "text": [
      "Epoch 52 Loss: 0.6122, Train Accuracy: 65.55%\n",
      "Test Loss: 0.6089, Test Accuracy: 65.78%\n"
     ]
    },
    {
     "name": "stderr",
     "output_type": "stream",
     "text": [
      "Epoch 53/100 - LR: 0.000050: 100%|████████████████████████████| 3485/3485 [02:14<00:00, 25.85it/s, acc=65.47%, loss=0.6148]\n"
     ]
    },
    {
     "name": "stdout",
     "output_type": "stream",
     "text": [
      "Epoch 53 Loss: 0.6121, Train Accuracy: 65.55%\n",
      "Test Loss: 0.6088, Test Accuracy: 65.78%\n"
     ]
    },
    {
     "name": "stderr",
     "output_type": "stream",
     "text": [
      "Epoch 54/100 - LR: 0.000050: 100%|████████████████████████████| 3485/3485 [02:14<00:00, 25.92it/s, acc=64.85%, loss=0.6235]\n"
     ]
    },
    {
     "name": "stdout",
     "output_type": "stream",
     "text": [
      "Epoch 54 Loss: 0.6121, Train Accuracy: 65.56%\n",
      "Test Loss: 0.6087, Test Accuracy: 65.79%\n"
     ]
    },
    {
     "name": "stderr",
     "output_type": "stream",
     "text": [
      "Epoch 55/100 - LR: 0.000050: 100%|████████████████████████████| 3485/3485 [02:14<00:00, 25.94it/s, acc=64.96%, loss=0.6151]\n"
     ]
    },
    {
     "name": "stdout",
     "output_type": "stream",
     "text": [
      "Epoch 55 Loss: 0.6120, Train Accuracy: 65.56%\n",
      "Test Loss: 0.6087, Test Accuracy: 65.78%\n"
     ]
    },
    {
     "name": "stderr",
     "output_type": "stream",
     "text": [
      "Epoch 56/100 - LR: 0.000050: 100%|████████████████████████████| 3485/3485 [02:14<00:00, 25.89it/s, acc=62.96%, loss=0.6300]\n"
     ]
    },
    {
     "name": "stdout",
     "output_type": "stream",
     "text": [
      "Epoch 56 Loss: 0.6120, Train Accuracy: 65.55%\n",
      "Test Loss: 0.6088, Test Accuracy: 65.81%\n"
     ]
    },
    {
     "name": "stderr",
     "output_type": "stream",
     "text": [
      "Epoch 57/100 - LR: 0.000050: 100%|████████████████████████████| 3485/3485 [02:14<00:00, 25.91it/s, acc=64.39%, loss=0.6167]\n"
     ]
    },
    {
     "name": "stdout",
     "output_type": "stream",
     "text": [
      "Epoch 57 Loss: 0.6119, Train Accuracy: 65.57%\n",
      "Test Loss: 0.6086, Test Accuracy: 65.81%\n"
     ]
    },
    {
     "name": "stderr",
     "output_type": "stream",
     "text": [
      "Epoch 58/100 - LR: 0.000050: 100%|████████████████████████████| 3485/3485 [02:14<00:00, 25.93it/s, acc=65.47%, loss=0.6111]\n"
     ]
    },
    {
     "name": "stdout",
     "output_type": "stream",
     "text": [
      "Epoch 58 Loss: 0.6119, Train Accuracy: 65.57%\n",
      "Test Loss: 0.6086, Test Accuracy: 65.82%\n"
     ]
    },
    {
     "name": "stderr",
     "output_type": "stream",
     "text": [
      "Epoch 59/100 - LR: 0.000050: 100%|████████████████████████████| 3485/3485 [02:14<00:00, 25.93it/s, acc=65.42%, loss=0.6191]\n"
     ]
    },
    {
     "name": "stdout",
     "output_type": "stream",
     "text": [
      "Epoch 59 Loss: 0.6119, Train Accuracy: 65.58%\n",
      "Test Loss: 0.6087, Test Accuracy: 65.80%\n"
     ]
    },
    {
     "name": "stderr",
     "output_type": "stream",
     "text": [
      "Epoch 60/100 - LR: 0.000050: 100%|████████████████████████████| 3485/3485 [02:14<00:00, 25.89it/s, acc=64.80%, loss=0.6026]\n"
     ]
    },
    {
     "name": "stdout",
     "output_type": "stream",
     "text": [
      "Epoch 60 Loss: 0.6118, Train Accuracy: 65.57%\n",
      "Test Loss: 0.6085, Test Accuracy: 65.82%\n",
      "Learning rate changed from 0.000050 to 0.000025\n"
     ]
    },
    {
     "name": "stderr",
     "output_type": "stream",
     "text": [
      "Epoch 61/100 - LR: 0.000025: 100%|████████████████████████████| 3485/3485 [02:14<00:00, 25.91it/s, acc=63.67%, loss=0.6105]\n"
     ]
    },
    {
     "name": "stdout",
     "output_type": "stream",
     "text": [
      "Epoch 61 Loss: 0.6110, Train Accuracy: 65.66%\n",
      "Test Loss: 0.6080, Test Accuracy: 65.87%\n"
     ]
    },
    {
     "name": "stderr",
     "output_type": "stream",
     "text": [
      "Epoch 62/100 - LR: 0.000025: 100%|████████████████████████████| 3485/3485 [02:16<00:00, 25.49it/s, acc=66.24%, loss=0.6102]\n"
     ]
    },
    {
     "name": "stdout",
     "output_type": "stream",
     "text": [
      "Epoch 62 Loss: 0.6108, Train Accuracy: 65.67%\n",
      "Test Loss: 0.6078, Test Accuracy: 65.89%\n"
     ]
    },
    {
     "name": "stderr",
     "output_type": "stream",
     "text": [
      "Epoch 63/100 - LR: 0.000025: 100%|████████████████████████████| 3485/3485 [02:16<00:00, 25.50it/s, acc=66.70%, loss=0.6059]\n"
     ]
    },
    {
     "name": "stdout",
     "output_type": "stream",
     "text": [
      "Epoch 63 Loss: 0.6107, Train Accuracy: 65.68%\n",
      "Test Loss: 0.6078, Test Accuracy: 65.89%\n"
     ]
    },
    {
     "name": "stderr",
     "output_type": "stream",
     "text": [
      "Epoch 64/100 - LR: 0.000025: 100%|████████████████████████████| 3485/3485 [02:14<00:00, 25.88it/s, acc=65.73%, loss=0.6086]\n"
     ]
    },
    {
     "name": "stdout",
     "output_type": "stream",
     "text": [
      "Epoch 64 Loss: 0.6106, Train Accuracy: 65.69%\n",
      "Test Loss: 0.6078, Test Accuracy: 65.89%\n"
     ]
    },
    {
     "name": "stderr",
     "output_type": "stream",
     "text": [
      "Epoch 65/100 - LR: 0.000025: 100%|████████████████████████████| 3485/3485 [02:14<00:00, 25.95it/s, acc=66.09%, loss=0.6012]\n"
     ]
    },
    {
     "name": "stdout",
     "output_type": "stream",
     "text": [
      "Epoch 65 Loss: 0.6106, Train Accuracy: 65.70%\n",
      "Test Loss: 0.6077, Test Accuracy: 65.90%\n"
     ]
    },
    {
     "name": "stderr",
     "output_type": "stream",
     "text": [
      "Epoch 66/100 - LR: 0.000025: 100%|████████████████████████████| 3485/3485 [02:14<00:00, 25.91it/s, acc=66.34%, loss=0.6023]\n"
     ]
    },
    {
     "name": "stdout",
     "output_type": "stream",
     "text": [
      "Epoch 66 Loss: 0.6105, Train Accuracy: 65.70%\n",
      "Test Loss: 0.6077, Test Accuracy: 65.92%\n"
     ]
    },
    {
     "name": "stderr",
     "output_type": "stream",
     "text": [
      "Epoch 67/100 - LR: 0.000025: 100%|████████████████████████████| 3485/3485 [02:14<00:00, 25.93it/s, acc=69.01%, loss=0.5937]\n"
     ]
    },
    {
     "name": "stdout",
     "output_type": "stream",
     "text": [
      "Epoch 67 Loss: 0.6105, Train Accuracy: 65.70%\n",
      "Test Loss: 0.6077, Test Accuracy: 65.91%\n"
     ]
    },
    {
     "name": "stderr",
     "output_type": "stream",
     "text": [
      "Epoch 68/100 - LR: 0.000025: 100%|████████████████████████████| 3485/3485 [02:14<00:00, 25.91it/s, acc=64.80%, loss=0.6125]\n"
     ]
    },
    {
     "name": "stdout",
     "output_type": "stream",
     "text": [
      "Epoch 68 Loss: 0.6104, Train Accuracy: 65.72%\n",
      "Test Loss: 0.6076, Test Accuracy: 65.91%\n"
     ]
    },
    {
     "name": "stderr",
     "output_type": "stream",
     "text": [
      "Epoch 69/100 - LR: 0.000025: 100%|████████████████████████████| 3485/3485 [02:14<00:00, 25.93it/s, acc=68.03%, loss=0.5973]\n"
     ]
    },
    {
     "name": "stdout",
     "output_type": "stream",
     "text": [
      "Epoch 69 Loss: 0.6103, Train Accuracy: 65.72%\n",
      "Test Loss: 0.6076, Test Accuracy: 65.92%\n"
     ]
    },
    {
     "name": "stderr",
     "output_type": "stream",
     "text": [
      "Epoch 70/100 - LR: 0.000025: 100%|████████████████████████████| 3485/3485 [02:14<00:00, 25.93it/s, acc=66.44%, loss=0.6066]\n"
     ]
    },
    {
     "name": "stdout",
     "output_type": "stream",
     "text": [
      "Epoch 70 Loss: 0.6104, Train Accuracy: 65.73%\n",
      "Test Loss: 0.6075, Test Accuracy: 65.92%\n"
     ]
    },
    {
     "name": "stderr",
     "output_type": "stream",
     "text": [
      "Epoch 71/100 - LR: 0.000025: 100%|████████████████████████████| 3485/3485 [02:14<00:00, 25.82it/s, acc=65.78%, loss=0.6107]\n"
     ]
    },
    {
     "name": "stdout",
     "output_type": "stream",
     "text": [
      "Epoch 71 Loss: 0.6103, Train Accuracy: 65.73%\n",
      "Test Loss: 0.6075, Test Accuracy: 65.90%\n"
     ]
    },
    {
     "name": "stderr",
     "output_type": "stream",
     "text": [
      "Epoch 72/100 - LR: 0.000025: 100%|████████████████████████████| 3485/3485 [02:14<00:00, 25.90it/s, acc=67.27%, loss=0.5979]\n"
     ]
    },
    {
     "name": "stdout",
     "output_type": "stream",
     "text": [
      "Epoch 72 Loss: 0.6103, Train Accuracy: 65.73%\n",
      "Test Loss: 0.6077, Test Accuracy: 65.93%\n"
     ]
    },
    {
     "name": "stderr",
     "output_type": "stream",
     "text": [
      "Epoch 73/100 - LR: 0.000025: 100%|████████████████████████████| 3485/3485 [02:14<00:00, 25.92it/s, acc=66.65%, loss=0.6133]\n"
     ]
    },
    {
     "name": "stdout",
     "output_type": "stream",
     "text": [
      "Epoch 73 Loss: 0.6102, Train Accuracy: 65.74%\n",
      "Test Loss: 0.6076, Test Accuracy: 65.90%\n"
     ]
    },
    {
     "name": "stderr",
     "output_type": "stream",
     "text": [
      "Epoch 74/100 - LR: 0.000025: 100%|████████████████████████████| 3485/3485 [02:14<00:00, 25.94it/s, acc=67.21%, loss=0.5892]\n"
     ]
    },
    {
     "name": "stdout",
     "output_type": "stream",
     "text": [
      "Epoch 74 Loss: 0.6102, Train Accuracy: 65.72%\n",
      "Test Loss: 0.6075, Test Accuracy: 65.94%\n",
      "Learning rate changed from 0.000025 to 0.000013\n"
     ]
    },
    {
     "name": "stderr",
     "output_type": "stream",
     "text": [
      "Epoch 75/100 - LR: 0.000013: 100%|████████████████████████████| 3485/3485 [02:14<00:00, 25.93it/s, acc=66.14%, loss=0.6123]\n"
     ]
    },
    {
     "name": "stdout",
     "output_type": "stream",
     "text": [
      "Epoch 75 Loss: 0.6098, Train Accuracy: 65.78%\n",
      "Test Loss: 0.6072, Test Accuracy: 65.95%\n"
     ]
    },
    {
     "name": "stderr",
     "output_type": "stream",
     "text": [
      "Epoch 76/100 - LR: 0.000013: 100%|████████████████████████████| 3485/3485 [02:15<00:00, 25.74it/s, acc=65.01%, loss=0.6179]\n"
     ]
    },
    {
     "name": "stdout",
     "output_type": "stream",
     "text": [
      "Epoch 76 Loss: 0.6097, Train Accuracy: 65.79%\n",
      "Test Loss: 0.6071, Test Accuracy: 65.97%\n"
     ]
    },
    {
     "name": "stderr",
     "output_type": "stream",
     "text": [
      "Epoch 77/100 - LR: 0.000013: 100%|████████████████████████████| 3485/3485 [02:14<00:00, 25.91it/s, acc=66.75%, loss=0.6046]\n"
     ]
    },
    {
     "name": "stdout",
     "output_type": "stream",
     "text": [
      "Epoch 77 Loss: 0.6096, Train Accuracy: 65.79%\n",
      "Test Loss: 0.6072, Test Accuracy: 65.96%\n"
     ]
    },
    {
     "name": "stderr",
     "output_type": "stream",
     "text": [
      "Epoch 78/100 - LR: 0.000013: 100%|████████████████████████████| 3485/3485 [02:14<00:00, 25.85it/s, acc=65.42%, loss=0.6053]\n"
     ]
    },
    {
     "name": "stdout",
     "output_type": "stream",
     "text": [
      "Epoch 78 Loss: 0.6096, Train Accuracy: 65.81%\n",
      "Test Loss: 0.6072, Test Accuracy: 65.96%\n"
     ]
    },
    {
     "name": "stderr",
     "output_type": "stream",
     "text": [
      "Epoch 79/100 - LR: 0.000013: 100%|████████████████████████████| 3485/3485 [02:14<00:00, 25.92it/s, acc=63.52%, loss=0.6252]\n"
     ]
    },
    {
     "name": "stdout",
     "output_type": "stream",
     "text": [
      "Epoch 79 Loss: 0.6095, Train Accuracy: 65.81%\n",
      "Test Loss: 0.6072, Test Accuracy: 65.98%\n",
      "Learning rate changed from 0.000013 to 0.000006\n"
     ]
    },
    {
     "name": "stderr",
     "output_type": "stream",
     "text": [
      "Epoch 80/100 - LR: 0.000006: 100%|████████████████████████████| 3485/3485 [02:14<00:00, 25.90it/s, acc=65.57%, loss=0.6067]\n"
     ]
    },
    {
     "name": "stdout",
     "output_type": "stream",
     "text": [
      "Epoch 80 Loss: 0.6093, Train Accuracy: 65.82%\n",
      "Test Loss: 0.6070, Test Accuracy: 65.99%\n"
     ]
    },
    {
     "name": "stderr",
     "output_type": "stream",
     "text": [
      "Epoch 81/100 - LR: 0.000006: 100%|████████████████████████████| 3485/3485 [02:14<00:00, 25.83it/s, acc=67.11%, loss=0.6020]\n"
     ]
    },
    {
     "name": "stdout",
     "output_type": "stream",
     "text": [
      "Epoch 81 Loss: 0.6092, Train Accuracy: 65.82%\n",
      "Test Loss: 0.6071, Test Accuracy: 65.99%\n"
     ]
    },
    {
     "name": "stderr",
     "output_type": "stream",
     "text": [
      "Epoch 82/100 - LR: 0.000006: 100%|████████████████████████████| 3485/3485 [02:14<00:00, 25.92it/s, acc=65.83%, loss=0.6070]\n"
     ]
    },
    {
     "name": "stdout",
     "output_type": "stream",
     "text": [
      "Epoch 82 Loss: 0.6092, Train Accuracy: 65.84%\n",
      "Test Loss: 0.6070, Test Accuracy: 65.99%\n"
     ]
    },
    {
     "name": "stderr",
     "output_type": "stream",
     "text": [
      "Epoch 83/100 - LR: 0.000006: 100%|████████████████████████████| 3485/3485 [02:14<00:00, 25.91it/s, acc=64.29%, loss=0.6163]\n"
     ]
    },
    {
     "name": "stdout",
     "output_type": "stream",
     "text": [
      "Epoch 83 Loss: 0.6091, Train Accuracy: 65.85%\n",
      "Test Loss: 0.6069, Test Accuracy: 66.00%\n"
     ]
    },
    {
     "name": "stderr",
     "output_type": "stream",
     "text": [
      "Epoch 84/100 - LR: 0.000006: 100%|████████████████████████████| 3485/3485 [02:14<00:00, 25.84it/s, acc=64.91%, loss=0.6026]\n"
     ]
    },
    {
     "name": "stdout",
     "output_type": "stream",
     "text": [
      "Epoch 84 Loss: 0.6090, Train Accuracy: 65.86%\n",
      "Test Loss: 0.6070, Test Accuracy: 66.00%\n"
     ]
    },
    {
     "name": "stderr",
     "output_type": "stream",
     "text": [
      "Epoch 85/100 - LR: 0.000006: 100%|████████████████████████████| 3485/3485 [02:14<00:00, 25.93it/s, acc=65.57%, loss=0.6068]\n"
     ]
    },
    {
     "name": "stdout",
     "output_type": "stream",
     "text": [
      "Epoch 85 Loss: 0.6091, Train Accuracy: 65.84%\n",
      "Test Loss: 0.6069, Test Accuracy: 66.00%\n"
     ]
    },
    {
     "name": "stderr",
     "output_type": "stream",
     "text": [
      "Epoch 86/100 - LR: 0.000006: 100%|████████████████████████████| 3485/3485 [02:14<00:00, 25.89it/s, acc=65.06%, loss=0.6174]\n"
     ]
    },
    {
     "name": "stdout",
     "output_type": "stream",
     "text": [
      "Epoch 86 Loss: 0.6090, Train Accuracy: 65.85%\n",
      "Test Loss: 0.6069, Test Accuracy: 66.00%\n",
      "Learning rate changed from 0.000006 to 0.000003\n"
     ]
    },
    {
     "name": "stderr",
     "output_type": "stream",
     "text": [
      "Epoch 87/100 - LR: 0.000003: 100%|████████████████████████████| 3485/3485 [02:14<00:00, 25.94it/s, acc=64.29%, loss=0.6241]\n"
     ]
    },
    {
     "name": "stdout",
     "output_type": "stream",
     "text": [
      "Epoch 87 Loss: 0.6090, Train Accuracy: 65.86%\n",
      "Test Loss: 0.6069, Test Accuracy: 66.01%\n"
     ]
    },
    {
     "name": "stderr",
     "output_type": "stream",
     "text": [
      "Epoch 88/100 - LR: 0.000003: 100%|████████████████████████████| 3485/3485 [02:14<00:00, 25.89it/s, acc=65.78%, loss=0.6025]\n"
     ]
    },
    {
     "name": "stdout",
     "output_type": "stream",
     "text": [
      "Epoch 88 Loss: 0.6090, Train Accuracy: 65.85%\n",
      "Test Loss: 0.6068, Test Accuracy: 66.01%\n"
     ]
    },
    {
     "name": "stderr",
     "output_type": "stream",
     "text": [
      "Epoch 89/100 - LR: 0.000003: 100%|████████████████████████████| 3485/3485 [02:14<00:00, 25.94it/s, acc=66.39%, loss=0.6124]\n"
     ]
    },
    {
     "name": "stdout",
     "output_type": "stream",
     "text": [
      "Epoch 89 Loss: 0.6088, Train Accuracy: 65.86%\n",
      "Test Loss: 0.6068, Test Accuracy: 66.02%\n"
     ]
    },
    {
     "name": "stderr",
     "output_type": "stream",
     "text": [
      "Epoch 90/100 - LR: 0.000003: 100%|████████████████████████████| 3485/3485 [02:14<00:00, 25.94it/s, acc=65.06%, loss=0.6239]\n"
     ]
    },
    {
     "name": "stdout",
     "output_type": "stream",
     "text": [
      "Epoch 90 Loss: 0.6088, Train Accuracy: 65.86%\n",
      "Test Loss: 0.6068, Test Accuracy: 66.02%\n"
     ]
    },
    {
     "name": "stderr",
     "output_type": "stream",
     "text": [
      "Epoch 91/100 - LR: 0.000003: 100%|████████████████████████████| 3485/3485 [02:14<00:00, 25.89it/s, acc=66.75%, loss=0.5960]\n"
     ]
    },
    {
     "name": "stdout",
     "output_type": "stream",
     "text": [
      "Epoch 91 Loss: 0.6088, Train Accuracy: 65.87%\n",
      "Test Loss: 0.6068, Test Accuracy: 66.02%\n"
     ]
    },
    {
     "name": "stderr",
     "output_type": "stream",
     "text": [
      "Epoch 92/100 - LR: 0.000003: 100%|████████████████████████████| 3485/3485 [02:14<00:00, 25.92it/s, acc=65.93%, loss=0.6122]\n"
     ]
    },
    {
     "name": "stdout",
     "output_type": "stream",
     "text": [
      "Epoch 92 Loss: 0.6088, Train Accuracy: 65.87%\n",
      "Test Loss: 0.6068, Test Accuracy: 66.02%\n"
     ]
    },
    {
     "name": "stderr",
     "output_type": "stream",
     "text": [
      "Epoch 93/100 - LR: 0.000003: 100%|████████████████████████████| 3485/3485 [02:14<00:00, 25.90it/s, acc=67.62%, loss=0.6014]\n"
     ]
    },
    {
     "name": "stdout",
     "output_type": "stream",
     "text": [
      "Epoch 93 Loss: 0.6088, Train Accuracy: 65.86%\n",
      "Test Loss: 0.6068, Test Accuracy: 66.02%\n",
      "Learning rate changed from 0.000003 to 0.000002\n"
     ]
    },
    {
     "name": "stderr",
     "output_type": "stream",
     "text": [
      "Epoch 94/100 - LR: 0.000002: 100%|████████████████████████████| 3485/3485 [02:17<00:00, 25.26it/s, acc=65.93%, loss=0.6095]\n"
     ]
    },
    {
     "name": "stdout",
     "output_type": "stream",
     "text": [
      "Epoch 94 Loss: 0.6087, Train Accuracy: 65.88%\n",
      "Test Loss: 0.6068, Test Accuracy: 66.01%\n"
     ]
    },
    {
     "name": "stderr",
     "output_type": "stream",
     "text": [
      "Epoch 95/100 - LR: 0.000002: 100%|████████████████████████████| 3485/3485 [02:17<00:00, 25.39it/s, acc=67.98%, loss=0.6005]\n"
     ]
    },
    {
     "name": "stdout",
     "output_type": "stream",
     "text": [
      "Epoch 95 Loss: 0.6088, Train Accuracy: 65.87%\n",
      "Test Loss: 0.6068, Test Accuracy: 66.02%\n"
     ]
    },
    {
     "name": "stderr",
     "output_type": "stream",
     "text": [
      "Epoch 96/100 - LR: 0.000002: 100%|████████████████████████████| 3485/3485 [02:14<00:00, 25.84it/s, acc=65.06%, loss=0.6141]\n"
     ]
    },
    {
     "name": "stdout",
     "output_type": "stream",
     "text": [
      "Epoch 96 Loss: 0.6087, Train Accuracy: 65.88%\n",
      "Test Loss: 0.6068, Test Accuracy: 66.02%\n",
      "Learning rate changed from 0.000002 to 0.000001\n"
     ]
    },
    {
     "name": "stderr",
     "output_type": "stream",
     "text": [
      "Epoch 97/100 - LR: 0.000001: 100%|████████████████████████████| 3485/3485 [02:15<00:00, 25.68it/s, acc=64.44%, loss=0.6146]\n"
     ]
    },
    {
     "name": "stdout",
     "output_type": "stream",
     "text": [
      "Epoch 97 Loss: 0.6086, Train Accuracy: 65.89%\n",
      "Test Loss: 0.6068, Test Accuracy: 66.01%\n"
     ]
    },
    {
     "name": "stderr",
     "output_type": "stream",
     "text": [
      "Epoch 98/100 - LR: 0.000001: 100%|████████████████████████████| 3485/3485 [02:18<00:00, 25.20it/s, acc=64.91%, loss=0.6204]\n"
     ]
    },
    {
     "name": "stdout",
     "output_type": "stream",
     "text": [
      "Epoch 98 Loss: 0.6087, Train Accuracy: 65.88%\n",
      "Test Loss: 0.6067, Test Accuracy: 66.01%\n"
     ]
    },
    {
     "name": "stderr",
     "output_type": "stream",
     "text": [
      "Epoch 99/100 - LR: 0.000001: 100%|████████████████████████████| 3485/3485 [02:16<00:00, 25.58it/s, acc=64.91%, loss=0.6115]\n"
     ]
    },
    {
     "name": "stdout",
     "output_type": "stream",
     "text": [
      "Epoch 99 Loss: 0.6086, Train Accuracy: 65.89%\n",
      "Test Loss: 0.6068, Test Accuracy: 66.02%\n",
      "Learning rate changed from 0.000001 to 0.000000\n"
     ]
    },
    {
     "name": "stderr",
     "output_type": "stream",
     "text": [
      "Epoch 100/100 - LR: 0.000000: 100%|███████████████████████████| 3485/3485 [02:15<00:00, 25.71it/s, acc=65.06%, loss=0.6085]\n"
     ]
    },
    {
     "name": "stdout",
     "output_type": "stream",
     "text": [
      "Epoch 100 Loss: 0.6087, Train Accuracy: 65.88%\n",
      "Test Loss: 0.6068, Test Accuracy: 66.02%\n"
     ]
    }
   ],
   "source": [
    "import torch\n",
    "import torch.nn as nn\n",
    "import torch.optim as optim\n",
    "import numpy as np\n",
    "import pandas as pd\n",
    "from tqdm import tqdm\n",
    "from torch.utils.data import DataLoader, TensorDataset\n",
    "import helper_functions\n",
    "import importlib\n",
    "import os\n",
    "\n",
    "# Make sure these exist\n",
    "assert 'X_train' in locals() and 'y_train' in locals()\n",
    "\n",
    "lda_features = [\n",
    "    'Firewall', \n",
    "    'Census_OEMModelIdentifier', \n",
    "    'Census_FirmwareManufacturerIdentifier', \n",
    "    'Census_OEMNameIdentifier', \n",
    "    'IeVerIdentifier', \n",
    "    'Census_PrimaryDiskTypeName', \n",
    "    'IsSxsPassiveMode', \n",
    "    'OsBuildLab', \n",
    "    'AVProductsEnabled', \n",
    "    'Census_InternalPrimaryDisplayResolutionVertical', \n",
    "    'Screen_Area', \n",
    "    'Census_MDC2FormFactor', \n",
    "    'Wdft_RegionIdentifier', \n",
    "    'AppVersion', \n",
    "    'AvSigVersion', \n",
    "    'Census_ProcessorModelIdentifier', \n",
    "    'Census_ProcessorCoreCount', \n",
    "    'Census_FlightRing', \n",
    "    'Census_ActivationChannel', \n",
    "    'Census_SystemVolumeTotalCapacity', \n",
    "    'Census_OSInstallLanguageIdentifier', \n",
    "    'aspect_ratio', \n",
    "    'RtpStateBitfield', \n",
    "    'Census_IsSecureBootEnabled', \n",
    "    'Census_GenuineStateName', \n",
    "    'OsSuite', \n",
    "    'LocaleEnglishNameIdentifier', \n",
    "    'OsPlatformSubRelease', \n",
    "    'Census_TotalPhysicalRAM', \n",
    "    'Census_PowerPlatformRoleName', \n",
    "    'magic_4', \n",
    "    'Census_OSUILocaleIdentifier', \n",
    "    'Census_HasOpticalDiskDrive', \n",
    "    'DefaultBrowsersIdentifier', \n",
    "    'Census_InternalPrimaryDiagonalDisplaySizeInInches', \n",
    "    'Census_OSBranch', \n",
    "    'Census_OSVersion', \n",
    "    'AVProductsInstalled_slim', \n",
    "    'OsBuild', \n",
    "    'Census_InternalBatteryNumberOfCharges', \n",
    "    'Wdft_IsGamer', \n",
    "    'Census_OSInstallTypeName', \n",
    "    'SkuEdition', \n",
    "    'IsProtected', \n",
    "    'Census_IsVirtualDevice', \n",
    "    'primary_drive_c_ratio', \n",
    "    'Processor', \n",
    "    'Census_InternalPrimaryDisplayResolutionHorizontal', \n",
    "    'SmartScreen', \n",
    "    'AVProductStatesIdentifier', \n",
    "    'EngineVersion', \n",
    "    'dpi', \n",
    "    'AVProductsInstalled', \n",
    "    'Census_OSSkuName', \n",
    "    'Census_OSEdition'\n",
    "]\n",
    "\n",
    "X_train_kagenc_lda_tensor = torch.tensor(X_train[lda_features].values, dtype=torch.float32)\n",
    "X_valid_kagenc_lda_tensor = torch.tensor(X_valid[lda_features].values, dtype=torch.float32)\n",
    "y_train_kagenc_tensor = torch.tensor(y_train.values, dtype=torch.float32).view(-1, 1)\n",
    "y_valid_kagenc_tensor = torch.tensor(y_valid.values, dtype=torch.float32).view(-1, 1)\n",
    "\n",
    "\n",
    "# Figure out which device to use. By default, CPU\n",
    "device = \"cpu\"\n",
    "# For M-architecture Macs\n",
    "if torch.backends.mps.is_available():\n",
    "    device = torch.device(\"mps\")\n",
    "# For NVIDIA\n",
    "elif torch.cuda.is_available():\n",
    "    device = torch.device(\"cuda\")\n",
    "\n",
    "# DataLoader\n",
    "train_dataset_kagenc_lda = TensorDataset(X_train_kagenc_lda_tensor, y_train_kagenc_tensor)\n",
    "valid_dataset_kagenc_lda = TensorDataset(X_valid_kagenc_lda_tensor, y_valid_kagenc_tensor)\n",
    "\n",
    "batch_size = 2048\n",
    "train_loader_kagenc_lda = DataLoader(train_dataset_kagenc_lda, batch_size=batch_size, shuffle=True)\n",
    "test_loader_kagenc_lda = DataLoader(valid_dataset_kagenc_lda, batch_size=batch_size, shuffle=False)\n",
    "\n",
    "# Model\n",
    "# Define complex model\n",
    "class BinaryClassifier(nn.Module):\n",
    "    def __init__(self):\n",
    "        super(BinaryClassifier, self).__init__()\n",
    "        self.layers = nn.Sequential(\n",
    "            nn.Linear(X_train_kagenc_lda_tensor.shape[1], 512),\n",
    "            nn.ReLU(),\n",
    "            nn.BatchNorm1d(512),\n",
    "            nn.Dropout(0.3),\n",
    "\n",
    "            nn.Linear(512, 256),\n",
    "            nn.ReLU(),\n",
    "            nn.BatchNorm1d(256),\n",
    "            nn.Dropout(0.3),\n",
    "\n",
    "            nn.Linear(256, 128),\n",
    "            nn.ReLU(),\n",
    "            nn.BatchNorm1d(128),\n",
    "            nn.Dropout(0.4),\n",
    "\n",
    "            nn.Linear(128, 64),\n",
    "            nn.ReLU(),\n",
    "            nn.BatchNorm1d(64),\n",
    "            nn.Dropout(0.4),\n",
    "\n",
    "            nn.Linear(64, 1)\n",
    "        )\n",
    "\n",
    "    def forward(self, x):\n",
    "        return self.layers(x)\n",
    "\n",
    "\n",
    "\n",
    "model_kagenc_lda = BinaryClassifier().to(device)\n",
    "\n",
    "criterion = nn.BCEWithLogitsLoss()  # or use nn.BCEWithLogitsLoss and remove sigmoid\n",
    "optimizer = optim.Adam(model_kagenc_lda.parameters(), weight_decay=1e-4, lr=0.0001)\n",
    "scheduler = optim.lr_scheduler.ReduceLROnPlateau(optimizer, mode='min', factor=0.5, patience=2)\n",
    "\n",
    "epochs = 100\n",
    "# Train\n",
    "best_model_weights_kagenc_lda, train_loss_kagenc_lda, test_loss_kagenc_lda, train_accuracy_kagenc_lda, test_accuracy_kagenc_lda, lrs_kagenc_lda = helper_functions.train_and_evaluate_model(\n",
    "    model_kagenc_lda, criterion, optimizer, scheduler, train_loader_kagenc_lda, test_loader_kagenc_lda, epochs=epochs\n",
    ")\n",
    "\n",
    "torch.save(model_kagenc_lda.state_dict(), '../Saved Models/3hl_advanced_encodings_lda.pth')"
   ]
  },
  {
   "cell_type": "markdown",
   "id": "e238b2aa-dbf9-41c1-a239-836cdbd0162b",
   "metadata": {},
   "source": [
    "### Plot the results of the above training (losses and accuracies)"
   ]
  },
  {
   "cell_type": "code",
   "execution_count": 7,
   "id": "04c8b9f9-1fba-4f1b-8520-648180d4411f",
   "metadata": {},
   "outputs": [
    {
     "data": {
      "image/png": "[encoded data removed]",
      "text/plain": [
       "<Figure size 1200x600 with 1 Axes>"
      ]
     },
     "metadata": {},
     "output_type": "display_data"
    },
    {
     "data": {
      "image/png": "[encoded data removed]",
      "text/plain": [
       "<Figure size 1200x600 with 1 Axes>"
      ]
     },
     "metadata": {},
     "output_type": "display_data"
    }
   ],
   "source": [
    "import matplotlib.pyplot as plt\n",
    "import numpy as np\n",
    "\n",
    "# Plotting function\n",
    "plt.figure(figsize=(12, 6))\n",
    "plt.plot(np.arange(1, len(train_loss_kagenc) + 1), train_loss_kagenc, label='Train Loss Kaggle Encodings', color='green')\n",
    "plt.plot(np.arange(1, len(test_loss_kagenc) + 1), test_loss_kagenc, label='Test Loss Kaggle Encodings', color='red')\n",
    "plt.plot(np.arange(1, len(train_loss_kagenc_pca) + 1), train_loss_kagenc_pca, label='Train Loss Kaggle Encodings PCA', color='blue')\n",
    "plt.plot(np.arange(1, len(test_loss_kagenc_pca) + 1), test_loss_kagenc_pca, label='Test Loss Kaggle Encodings PCA', color='orange')\n",
    "plt.plot(np.arange(1, len(train_loss_kagenc_lda) + 1), train_loss_kagenc_lda, label='Train Loss Kaggle Encodings LDA', color='cyan')\n",
    "plt.plot(np.arange(1, len(test_loss_kagenc_lda) + 1), test_loss_kagenc_lda, label='Test Loss Kaggle Encodings LDA', color='pink')\n",
    "plt.xlabel('Epochs')\n",
    "plt.ylabel('Loss')\n",
    "plt.title('Loss vs. Epochs')\n",
    "plt.legend()\n",
    "plt.show()\n",
    "\n",
    "# Plotting function for accuracy\n",
    "plt.figure(figsize=(12, 6))\n",
    "plt.plot(np.arange(1, len(train_accuracy_kagenc) + 1), train_accuracy_kagenc, label='Train Accuracy Kaggle Encodings', color='green')\n",
    "plt.plot(np.arange(1, len(test_accuracy_kagenc) + 1), test_accuracy_kagenc, label='Test Accuracy Kaggle Encodings', color='red')\n",
    "plt.plot(np.arange(1, len(train_accuracy_kagenc_pca) + 1), train_accuracy_kagenc_pca, label='Train Accuracy Kaggle Encodings PCA', color='blue')   \n",
    "plt.plot(np.arange(1, len(test_accuracy_kagenc_pca) + 1), test_accuracy_kagenc_pca, label='Test Accuracy Kaggle Encodings PCA', color='orange')\n",
    "plt.plot(np.arange(1, len(train_accuracy_kagenc_lda) + 1), train_accuracy_kagenc_lda, label='Train Accuracy Kaggle Encodings LDA', color='cyan')   \n",
    "plt.plot(np.arange(1, len(test_accuracy_kagenc_lda) + 1), test_accuracy_kagenc_lda, label='Test Accuracy Kaggle Encodings LDA', color='pink')\n",
    "plt.xlabel('Epochs')\n",
    "plt.ylabel('Accuracy')\n",
    "plt.title('Accuracy vs. Epochs')\n",
    "plt.legend()\n",
    "plt.show()"
   ]
  },
  {
   "cell_type": "markdown",
   "id": "e1f6fe92-7498-4e2e-b2fc-87f002eb9cd1",
   "metadata": {},
   "source": [
    "## Perform K-Fold Cross Validation"
   ]
  },
  {
   "cell_type": "code",
   "execution_count": 2,
   "id": "19e78823-feea-4325-96bf-db44256a2f9f",
   "metadata": {},
   "outputs": [
    {
     "name": "stdout",
     "output_type": "stream",
     "text": [
      "Using mps device\n",
      "FOLD 1/5\n",
      "----------------------------------------\n",
      "Training on mps\n"
     ]
    },
    {
     "name": "stderr",
     "output_type": "stream",
     "text": [
      "Epoch 1/20 - LR: 0.000100: 100%|██████████████████████████████| 2788/2788 [01:56<00:00, 23.97it/s, acc=61.69%, loss=0.6455]\n"
     ]
    },
    {
     "name": "stdout",
     "output_type": "stream",
     "text": [
      "Epoch 1 Loss: 0.6664, Train Accuracy: 59.87%\n",
      "Test Loss: 0.6394, Test Accuracy: 62.72%\n"
     ]
    },
    {
     "name": "stderr",
     "output_type": "stream",
     "text": [
      "Epoch 2/20 - LR: 0.000100: 100%|██████████████████████████████| 2788/2788 [01:48<00:00, 25.62it/s, acc=61.99%, loss=0.6476]\n"
     ]
    },
    {
     "name": "stdout",
     "output_type": "stream",
     "text": [
      "Epoch 2 Loss: 0.6403, Train Accuracy: 62.51%\n",
      "Test Loss: 0.6296, Test Accuracy: 63.58%\n"
     ]
    },
    {
     "name": "stderr",
     "output_type": "stream",
     "text": [
      "Epoch 3/20 - LR: 0.000100: 100%|██████████████████████████████| 2788/2788 [01:48<00:00, 25.67it/s, acc=62.55%, loss=0.6295]\n"
     ]
    },
    {
     "name": "stdout",
     "output_type": "stream",
     "text": [
      "Epoch 3 Loss: 0.6331, Train Accuracy: 63.24%\n",
      "Test Loss: 0.6258, Test Accuracy: 63.92%\n"
     ]
    },
    {
     "name": "stderr",
     "output_type": "stream",
     "text": [
      "Epoch 4/20 - LR: 0.000100: 100%|██████████████████████████████| 2788/2788 [01:50<00:00, 25.12it/s, acc=64.53%, loss=0.6221]\n"
     ]
    },
    {
     "name": "stdout",
     "output_type": "stream",
     "text": [
      "Epoch 4 Loss: 0.6300, Train Accuracy: 63.54%\n",
      "Test Loss: 0.6240, Test Accuracy: 64.16%\n"
     ]
    },
    {
     "name": "stderr",
     "output_type": "stream",
     "text": [
      "Epoch 5/20 - LR: 0.000100: 100%|██████████████████████████████| 2788/2788 [01:49<00:00, 25.41it/s, acc=63.72%, loss=0.6271]\n"
     ]
    },
    {
     "name": "stdout",
     "output_type": "stream",
     "text": [
      "Epoch 5 Loss: 0.6280, Train Accuracy: 63.77%\n",
      "Test Loss: 0.6228, Test Accuracy: 64.28%\n"
     ]
    },
    {
     "name": "stderr",
     "output_type": "stream",
     "text": [
      "Epoch 6/20 - LR: 0.000100: 100%|██████████████████████████████| 2788/2788 [01:50<00:00, 25.20it/s, acc=63.36%, loss=0.6334]\n"
     ]
    },
    {
     "name": "stdout",
     "output_type": "stream",
     "text": [
      "Epoch 6 Loss: 0.6266, Train Accuracy: 63.94%\n",
      "Test Loss: 0.6217, Test Accuracy: 64.42%\n"
     ]
    },
    {
     "name": "stderr",
     "output_type": "stream",
     "text": [
      "Epoch 7/20 - LR: 0.000100: 100%|██████████████████████████████| 2788/2788 [01:49<00:00, 25.46it/s, acc=64.02%, loss=0.6241]\n"
     ]
    },
    {
     "name": "stdout",
     "output_type": "stream",
     "text": [
      "Epoch 7 Loss: 0.6255, Train Accuracy: 64.06%\n",
      "Test Loss: 0.6210, Test Accuracy: 64.48%\n"
     ]
    },
    {
     "name": "stderr",
     "output_type": "stream",
     "text": [
      "Epoch 8/20 - LR: 0.000100: 100%|██████████████████████████████| 2788/2788 [01:48<00:00, 25.69it/s, acc=65.75%, loss=0.6127]\n"
     ]
    },
    {
     "name": "stdout",
     "output_type": "stream",
     "text": [
      "Epoch 8 Loss: 0.6246, Train Accuracy: 64.19%\n",
      "Test Loss: 0.6201, Test Accuracy: 64.61%\n"
     ]
    },
    {
     "name": "stderr",
     "output_type": "stream",
     "text": [
      "Epoch 9/20 - LR: 0.000100: 100%|██████████████████████████████| 2788/2788 [01:50<00:00, 25.33it/s, acc=63.62%, loss=0.6248]\n"
     ]
    },
    {
     "name": "stdout",
     "output_type": "stream",
     "text": [
      "Epoch 9 Loss: 0.6237, Train Accuracy: 64.28%\n",
      "Test Loss: 0.6193, Test Accuracy: 64.71%\n"
     ]
    },
    {
     "name": "stderr",
     "output_type": "stream",
     "text": [
      "Epoch 10/20 - LR: 0.000100: 100%|█████████████████████████████| 2788/2788 [01:49<00:00, 25.37it/s, acc=62.55%, loss=0.6394]\n"
     ]
    },
    {
     "name": "stdout",
     "output_type": "stream",
     "text": [
      "Epoch 10 Loss: 0.6227, Train Accuracy: 64.39%\n",
      "Test Loss: 0.6184, Test Accuracy: 64.82%\n"
     ]
    },
    {
     "name": "stderr",
     "output_type": "stream",
     "text": [
      "Epoch 11/20 - LR: 0.000100: 100%|█████████████████████████████| 2788/2788 [01:50<00:00, 25.28it/s, acc=64.08%, loss=0.6298]\n"
     ]
    },
    {
     "name": "stdout",
     "output_type": "stream",
     "text": [
      "Epoch 11 Loss: 0.6220, Train Accuracy: 64.49%\n",
      "Test Loss: 0.6178, Test Accuracy: 64.92%\n"
     ]
    },
    {
     "name": "stderr",
     "output_type": "stream",
     "text": [
      "Epoch 12/20 - LR: 0.000100: 100%|█████████████████████████████| 2788/2788 [01:50<00:00, 25.21it/s, acc=66.26%, loss=0.6159]\n"
     ]
    },
    {
     "name": "stdout",
     "output_type": "stream",
     "text": [
      "Epoch 12 Loss: 0.6213, Train Accuracy: 64.59%\n",
      "Test Loss: 0.6173, Test Accuracy: 64.97%\n"
     ]
    },
    {
     "name": "stderr",
     "output_type": "stream",
     "text": [
      "Epoch 13/20 - LR: 0.000100: 100%|█████████████████████████████| 2788/2788 [01:49<00:00, 25.45it/s, acc=64.68%, loss=0.6098]\n"
     ]
    },
    {
     "name": "stdout",
     "output_type": "stream",
     "text": [
      "Epoch 13 Loss: 0.6206, Train Accuracy: 64.65%\n",
      "Test Loss: 0.6167, Test Accuracy: 65.03%\n"
     ]
    },
    {
     "name": "stderr",
     "output_type": "stream",
     "text": [
      "Epoch 14/20 - LR: 0.000100: 100%|█████████████████████████████| 2788/2788 [01:50<00:00, 25.30it/s, acc=65.50%, loss=0.6187]\n"
     ]
    },
    {
     "name": "stdout",
     "output_type": "stream",
     "text": [
      "Epoch 14 Loss: 0.6200, Train Accuracy: 64.73%\n",
      "Test Loss: 0.6163, Test Accuracy: 65.09%\n"
     ]
    },
    {
     "name": "stderr",
     "output_type": "stream",
     "text": [
      "Epoch 15/20 - LR: 0.000100: 100%|█████████████████████████████| 2788/2788 [01:50<00:00, 25.19it/s, acc=64.43%, loss=0.6254]\n"
     ]
    },
    {
     "name": "stdout",
     "output_type": "stream",
     "text": [
      "Epoch 15 Loss: 0.6195, Train Accuracy: 64.77%\n",
      "Test Loss: 0.6157, Test Accuracy: 65.14%\n"
     ]
    },
    {
     "name": "stderr",
     "output_type": "stream",
     "text": [
      "Epoch 16/20 - LR: 0.000100: 100%|█████████████████████████████| 2788/2788 [01:49<00:00, 25.37it/s, acc=64.48%, loss=0.6292]\n"
     ]
    },
    {
     "name": "stdout",
     "output_type": "stream",
     "text": [
      "Epoch 16 Loss: 0.6189, Train Accuracy: 64.85%\n",
      "Test Loss: 0.6151, Test Accuracy: 65.20%\n"
     ]
    },
    {
     "name": "stderr",
     "output_type": "stream",
     "text": [
      "Epoch 17/20 - LR: 0.000100: 100%|█████████████████████████████| 2788/2788 [01:50<00:00, 25.13it/s, acc=65.29%, loss=0.6226]\n"
     ]
    },
    {
     "name": "stdout",
     "output_type": "stream",
     "text": [
      "Epoch 17 Loss: 0.6185, Train Accuracy: 64.92%\n",
      "Test Loss: 0.6147, Test Accuracy: 65.23%\n"
     ]
    },
    {
     "name": "stderr",
     "output_type": "stream",
     "text": [
      "Epoch 18/20 - LR: 0.000100: 100%|█████████████████████████████| 2788/2788 [01:49<00:00, 25.44it/s, acc=65.55%, loss=0.6181]\n"
     ]
    },
    {
     "name": "stdout",
     "output_type": "stream",
     "text": [
      "Epoch 18 Loss: 0.6182, Train Accuracy: 64.96%\n",
      "Test Loss: 0.6143, Test Accuracy: 65.29%\n"
     ]
    },
    {
     "name": "stderr",
     "output_type": "stream",
     "text": [
      "Epoch 19/20 - LR: 0.000100: 100%|█████████████████████████████| 2788/2788 [01:50<00:00, 25.16it/s, acc=65.75%, loss=0.6132]\n"
     ]
    },
    {
     "name": "stdout",
     "output_type": "stream",
     "text": [
      "Epoch 19 Loss: 0.6178, Train Accuracy: 64.98%\n",
      "Test Loss: 0.6143, Test Accuracy: 65.33%\n"
     ]
    },
    {
     "name": "stderr",
     "output_type": "stream",
     "text": [
      "Epoch 20/20 - LR: 0.000100: 100%|█████████████████████████████| 2788/2788 [01:51<00:00, 25.05it/s, acc=64.28%, loss=0.6218]\n"
     ]
    },
    {
     "name": "stdout",
     "output_type": "stream",
     "text": [
      "Epoch 20 Loss: 0.6175, Train Accuracy: 65.03%\n",
      "Test Loss: 0.6139, Test Accuracy: 65.34%\n",
      "Fold 1 - Training Loss: 0.6175, Validation Loss: 0.6139\n",
      "Fold 1 - Training Accuracy: 0.6503, Validation Accuracy: 0.6534\n",
      "----------------------------------------\n",
      "FOLD 2/5\n",
      "----------------------------------------\n",
      "Training on mps\n"
     ]
    },
    {
     "name": "stderr",
     "output_type": "stream",
     "text": [
      "Epoch 1/20 - LR: 0.000100: 100%|██████████████████████████████| 2788/2788 [01:56<00:00, 23.84it/s, acc=60.03%, loss=0.6545]\n"
     ]
    },
    {
     "name": "stdout",
     "output_type": "stream",
     "text": [
      "Epoch 1 Loss: 0.6658, Train Accuracy: 59.91%\n",
      "Test Loss: 0.6393, Test Accuracy: 62.77%\n"
     ]
    },
    {
     "name": "stderr",
     "output_type": "stream",
     "text": [
      "Epoch 2/20 - LR: 0.000100: 100%|██████████████████████████████| 2788/2788 [02:03<00:00, 22.51it/s, acc=61.76%, loss=0.6448]\n"
     ]
    },
    {
     "name": "stdout",
     "output_type": "stream",
     "text": [
      "Epoch 2 Loss: 0.6399, Train Accuracy: 62.58%\n",
      "Test Loss: 0.6295, Test Accuracy: 63.63%\n"
     ]
    },
    {
     "name": "stderr",
     "output_type": "stream",
     "text": [
      "Epoch 3/20 - LR: 0.000100: 100%|██████████████████████████████| 2788/2788 [01:54<00:00, 24.26it/s, acc=61.50%, loss=0.6419]\n"
     ]
    },
    {
     "name": "stdout",
     "output_type": "stream",
     "text": [
      "Epoch 3 Loss: 0.6329, Train Accuracy: 63.31%\n",
      "Test Loss: 0.6259, Test Accuracy: 63.91%\n"
     ]
    },
    {
     "name": "stderr",
     "output_type": "stream",
     "text": [
      "Epoch 4/20 - LR: 0.000100: 100%|██████████████████████████████| 2788/2788 [01:56<00:00, 23.97it/s, acc=63.74%, loss=0.6250]\n"
     ]
    },
    {
     "name": "stdout",
     "output_type": "stream",
     "text": [
      "Epoch 4 Loss: 0.6297, Train Accuracy: 63.63%\n",
      "Test Loss: 0.6238, Test Accuracy: 64.16%\n"
     ]
    },
    {
     "name": "stderr",
     "output_type": "stream",
     "text": [
      "Epoch 5/20 - LR: 0.000100: 100%|██████████████████████████████| 2788/2788 [02:07<00:00, 21.89it/s, acc=63.18%, loss=0.6400]\n"
     ]
    },
    {
     "name": "stdout",
     "output_type": "stream",
     "text": [
      "Epoch 5 Loss: 0.6277, Train Accuracy: 63.85%\n",
      "Test Loss: 0.6226, Test Accuracy: 64.30%\n"
     ]
    },
    {
     "name": "stderr",
     "output_type": "stream",
     "text": [
      "Epoch 6/20 - LR: 0.000100: 100%|██████████████████████████████| 2788/2788 [02:02<00:00, 22.78it/s, acc=64.50%, loss=0.6143]\n"
     ]
    },
    {
     "name": "stdout",
     "output_type": "stream",
     "text": [
      "Epoch 6 Loss: 0.6264, Train Accuracy: 63.98%\n",
      "Test Loss: 0.6217, Test Accuracy: 64.42%\n"
     ]
    },
    {
     "name": "stderr",
     "output_type": "stream",
     "text": [
      "Epoch 7/20 - LR: 0.000100: 100%|██████████████████████████████| 2788/2788 [02:03<00:00, 22.62it/s, acc=63.48%, loss=0.6200]\n"
     ]
    },
    {
     "name": "stdout",
     "output_type": "stream",
     "text": [
      "Epoch 7 Loss: 0.6252, Train Accuracy: 64.10%\n",
      "Test Loss: 0.6206, Test Accuracy: 64.56%\n"
     ]
    },
    {
     "name": "stderr",
     "output_type": "stream",
     "text": [
      "Epoch 8/20 - LR: 0.000100: 100%|██████████████████████████████| 2788/2788 [02:05<00:00, 22.17it/s, acc=63.33%, loss=0.6287]\n"
     ]
    },
    {
     "name": "stdout",
     "output_type": "stream",
     "text": [
      "Epoch 8 Loss: 0.6242, Train Accuracy: 64.23%\n",
      "Test Loss: 0.6197, Test Accuracy: 64.65%\n"
     ]
    },
    {
     "name": "stderr",
     "output_type": "stream",
     "text": [
      "Epoch 9/20 - LR: 0.000100: 100%|██████████████████████████████| 2788/2788 [02:06<00:00, 22.03it/s, acc=63.38%, loss=0.6395]\n"
     ]
    },
    {
     "name": "stdout",
     "output_type": "stream",
     "text": [
      "Epoch 9 Loss: 0.6233, Train Accuracy: 64.33%\n",
      "Test Loss: 0.6189, Test Accuracy: 64.75%\n"
     ]
    },
    {
     "name": "stderr",
     "output_type": "stream",
     "text": [
      "Epoch 10/20 - LR: 0.000100: 100%|█████████████████████████████| 2788/2788 [02:04<00:00, 22.35it/s, acc=65.82%, loss=0.6156]\n"
     ]
    },
    {
     "name": "stdout",
     "output_type": "stream",
     "text": [
      "Epoch 10 Loss: 0.6225, Train Accuracy: 64.45%\n",
      "Test Loss: 0.6183, Test Accuracy: 64.82%\n"
     ]
    },
    {
     "name": "stderr",
     "output_type": "stream",
     "text": [
      "Epoch 11/20 - LR: 0.000100: 100%|█████████████████████████████| 2788/2788 [02:05<00:00, 22.24it/s, acc=63.38%, loss=0.6312]\n"
     ]
    },
    {
     "name": "stdout",
     "output_type": "stream",
     "text": [
      "Epoch 11 Loss: 0.6217, Train Accuracy: 64.56%\n",
      "Test Loss: 0.6177, Test Accuracy: 64.89%\n"
     ]
    },
    {
     "name": "stderr",
     "output_type": "stream",
     "text": [
      "Epoch 12/20 - LR: 0.000100: 100%|█████████████████████████████| 2788/2788 [02:03<00:00, 22.60it/s, acc=63.43%, loss=0.6284]\n"
     ]
    },
    {
     "name": "stdout",
     "output_type": "stream",
     "text": [
      "Epoch 12 Loss: 0.6211, Train Accuracy: 64.61%\n",
      "Test Loss: 0.6171, Test Accuracy: 64.95%\n"
     ]
    },
    {
     "name": "stderr",
     "output_type": "stream",
     "text": [
      "Epoch 13/20 - LR: 0.000100: 100%|█████████████████████████████| 2788/2788 [02:02<00:00, 22.80it/s, acc=64.40%, loss=0.6191]\n"
     ]
    },
    {
     "name": "stdout",
     "output_type": "stream",
     "text": [
      "Epoch 13 Loss: 0.6204, Train Accuracy: 64.68%\n",
      "Test Loss: 0.6167, Test Accuracy: 64.99%\n"
     ]
    },
    {
     "name": "stderr",
     "output_type": "stream",
     "text": [
      "Epoch 14/20 - LR: 0.000100: 100%|█████████████████████████████| 2788/2788 [02:05<00:00, 22.26it/s, acc=64.80%, loss=0.6154]\n"
     ]
    },
    {
     "name": "stdout",
     "output_type": "stream",
     "text": [
      "Epoch 14 Loss: 0.6199, Train Accuracy: 64.74%\n",
      "Test Loss: 0.6164, Test Accuracy: 65.07%\n"
     ]
    },
    {
     "name": "stderr",
     "output_type": "stream",
     "text": [
      "Epoch 15/20 - LR: 0.000100: 100%|█████████████████████████████| 2788/2788 [02:02<00:00, 22.79it/s, acc=66.48%, loss=0.6162]\n"
     ]
    },
    {
     "name": "stdout",
     "output_type": "stream",
     "text": [
      "Epoch 15 Loss: 0.6194, Train Accuracy: 64.77%\n",
      "Test Loss: 0.6157, Test Accuracy: 65.12%\n"
     ]
    },
    {
     "name": "stderr",
     "output_type": "stream",
     "text": [
      "Epoch 16/20 - LR: 0.000100: 100%|█████████████████████████████| 2788/2788 [02:06<00:00, 21.97it/s, acc=65.52%, loss=0.6191]\n"
     ]
    },
    {
     "name": "stdout",
     "output_type": "stream",
     "text": [
      "Epoch 16 Loss: 0.6190, Train Accuracy: 64.86%\n",
      "Test Loss: 0.6152, Test Accuracy: 65.19%\n"
     ]
    },
    {
     "name": "stderr",
     "output_type": "stream",
     "text": [
      "Epoch 17/20 - LR: 0.000100: 100%|█████████████████████████████| 2788/2788 [02:03<00:00, 22.61it/s, acc=64.45%, loss=0.6245]\n"
     ]
    },
    {
     "name": "stdout",
     "output_type": "stream",
     "text": [
      "Epoch 17 Loss: 0.6184, Train Accuracy: 64.92%\n",
      "Test Loss: 0.6149, Test Accuracy: 65.20%\n"
     ]
    },
    {
     "name": "stderr",
     "output_type": "stream",
     "text": [
      "Epoch 18/20 - LR: 0.000100: 100%|█████████████████████████████| 2788/2788 [02:06<00:00, 22.09it/s, acc=66.33%, loss=0.6105]\n"
     ]
    },
    {
     "name": "stdout",
     "output_type": "stream",
     "text": [
      "Epoch 18 Loss: 0.6181, Train Accuracy: 64.96%\n",
      "Test Loss: 0.6145, Test Accuracy: 65.23%\n"
     ]
    },
    {
     "name": "stderr",
     "output_type": "stream",
     "text": [
      "Epoch 19/20 - LR: 0.000100: 100%|█████████████████████████████| 2788/2788 [02:08<00:00, 21.63it/s, acc=63.23%, loss=0.6245]\n"
     ]
    },
    {
     "name": "stdout",
     "output_type": "stream",
     "text": [
      "Epoch 19 Loss: 0.6177, Train Accuracy: 64.98%\n",
      "Test Loss: 0.6142, Test Accuracy: 65.28%\n"
     ]
    },
    {
     "name": "stderr",
     "output_type": "stream",
     "text": [
      "Epoch 20/20 - LR: 0.000100: 100%|█████████████████████████████| 2788/2788 [02:03<00:00, 22.66it/s, acc=66.23%, loss=0.6080]\n"
     ]
    },
    {
     "name": "stdout",
     "output_type": "stream",
     "text": [
      "Epoch 20 Loss: 0.6173, Train Accuracy: 65.03%\n",
      "Test Loss: 0.6139, Test Accuracy: 65.30%\n",
      "Fold 2 - Training Loss: 0.6173, Validation Loss: 0.6139\n",
      "Fold 2 - Training Accuracy: 0.6503, Validation Accuracy: 0.6530\n",
      "----------------------------------------\n",
      "FOLD 3/5\n",
      "----------------------------------------\n",
      "Training on mps\n"
     ]
    },
    {
     "name": "stderr",
     "output_type": "stream",
     "text": [
      "Epoch 1/20 - LR: 0.000100: 100%|██████████████████████████████| 2788/2788 [02:04<00:00, 22.45it/s, acc=59.12%, loss=0.6634]\n"
     ]
    },
    {
     "name": "stdout",
     "output_type": "stream",
     "text": [
      "Epoch 1 Loss: 0.6646, Train Accuracy: 60.02%\n",
      "Test Loss: 0.6379, Test Accuracy: 62.83%\n"
     ]
    },
    {
     "name": "stderr",
     "output_type": "stream",
     "text": [
      "Epoch 2/20 - LR: 0.000100: 100%|██████████████████████████████| 2788/2788 [02:03<00:00, 22.55it/s, acc=62.77%, loss=0.6311]\n"
     ]
    },
    {
     "name": "stdout",
     "output_type": "stream",
     "text": [
      "Epoch 2 Loss: 0.6396, Train Accuracy: 62.60%\n",
      "Test Loss: 0.6290, Test Accuracy: 63.61%\n"
     ]
    },
    {
     "name": "stderr",
     "output_type": "stream",
     "text": [
      "Epoch 3/20 - LR: 0.000100: 100%|██████████████████████████████| 2788/2788 [02:03<00:00, 22.59it/s, acc=62.16%, loss=0.6549]\n"
     ]
    },
    {
     "name": "stdout",
     "output_type": "stream",
     "text": [
      "Epoch 3 Loss: 0.6327, Train Accuracy: 63.30%\n",
      "Test Loss: 0.6252, Test Accuracy: 63.97%\n"
     ]
    },
    {
     "name": "stderr",
     "output_type": "stream",
     "text": [
      "Epoch 4/20 - LR: 0.000100: 100%|██████████████████████████████| 2788/2788 [02:06<00:00, 22.02it/s, acc=62.21%, loss=0.6440]\n"
     ]
    },
    {
     "name": "stdout",
     "output_type": "stream",
     "text": [
      "Epoch 4 Loss: 0.6296, Train Accuracy: 63.61%\n",
      "Test Loss: 0.6235, Test Accuracy: 64.16%\n"
     ]
    },
    {
     "name": "stderr",
     "output_type": "stream",
     "text": [
      "Epoch 5/20 - LR: 0.000100: 100%|██████████████████████████████| 2788/2788 [02:03<00:00, 22.51it/s, acc=64.30%, loss=0.6230]\n"
     ]
    },
    {
     "name": "stdout",
     "output_type": "stream",
     "text": [
      "Epoch 5 Loss: 0.6278, Train Accuracy: 63.79%\n",
      "Test Loss: 0.6222, Test Accuracy: 64.28%\n"
     ]
    },
    {
     "name": "stderr",
     "output_type": "stream",
     "text": [
      "Epoch 6/20 - LR: 0.000100: 100%|██████████████████████████████| 2788/2788 [02:06<00:00, 22.05it/s, acc=62.82%, loss=0.6249]\n"
     ]
    },
    {
     "name": "stdout",
     "output_type": "stream",
     "text": [
      "Epoch 6 Loss: 0.6266, Train Accuracy: 63.95%\n",
      "Test Loss: 0.6213, Test Accuracy: 64.43%\n"
     ]
    },
    {
     "name": "stderr",
     "output_type": "stream",
     "text": [
      "Epoch 7/20 - LR: 0.000100: 100%|██████████████████████████████| 2788/2788 [02:06<00:00, 22.04it/s, acc=64.55%, loss=0.6170]\n"
     ]
    },
    {
     "name": "stdout",
     "output_type": "stream",
     "text": [
      "Epoch 7 Loss: 0.6253, Train Accuracy: 64.10%\n",
      "Test Loss: 0.6203, Test Accuracy: 64.56%\n"
     ]
    },
    {
     "name": "stderr",
     "output_type": "stream",
     "text": [
      "Epoch 8/20 - LR: 0.000100: 100%|██████████████████████████████| 2788/2788 [02:06<00:00, 22.08it/s, acc=65.21%, loss=0.6220]\n"
     ]
    },
    {
     "name": "stdout",
     "output_type": "stream",
     "text": [
      "Epoch 8 Loss: 0.6243, Train Accuracy: 64.22%\n",
      "Test Loss: 0.6193, Test Accuracy: 64.66%\n"
     ]
    },
    {
     "name": "stderr",
     "output_type": "stream",
     "text": [
      "Epoch 9/20 - LR: 0.000100: 100%|██████████████████████████████| 2788/2788 [02:05<00:00, 22.21it/s, acc=63.79%, loss=0.6322]\n"
     ]
    },
    {
     "name": "stdout",
     "output_type": "stream",
     "text": [
      "Epoch 9 Loss: 0.6234, Train Accuracy: 64.34%\n",
      "Test Loss: 0.6186, Test Accuracy: 64.77%\n"
     ]
    },
    {
     "name": "stderr",
     "output_type": "stream",
     "text": [
      "Epoch 10/20 - LR: 0.000100: 100%|█████████████████████████████| 2788/2788 [02:05<00:00, 22.22it/s, acc=63.08%, loss=0.6289]\n"
     ]
    },
    {
     "name": "stdout",
     "output_type": "stream",
     "text": [
      "Epoch 10 Loss: 0.6226, Train Accuracy: 64.44%\n",
      "Test Loss: 0.6177, Test Accuracy: 64.89%\n"
     ]
    },
    {
     "name": "stderr",
     "output_type": "stream",
     "text": [
      "Epoch 11/20 - LR: 0.000100: 100%|█████████████████████████████| 2788/2788 [02:06<00:00, 22.05it/s, acc=64.45%, loss=0.6260]\n"
     ]
    },
    {
     "name": "stdout",
     "output_type": "stream",
     "text": [
      "Epoch 11 Loss: 0.6219, Train Accuracy: 64.52%\n",
      "Test Loss: 0.6173, Test Accuracy: 64.97%\n"
     ]
    },
    {
     "name": "stderr",
     "output_type": "stream",
     "text": [
      "Epoch 12/20 - LR: 0.000100: 100%|█████████████████████████████| 2788/2788 [02:05<00:00, 22.14it/s, acc=65.41%, loss=0.6067]\n"
     ]
    },
    {
     "name": "stdout",
     "output_type": "stream",
     "text": [
      "Epoch 12 Loss: 0.6211, Train Accuracy: 64.62%\n",
      "Test Loss: 0.6162, Test Accuracy: 65.06%\n"
     ]
    },
    {
     "name": "stderr",
     "output_type": "stream",
     "text": [
      "Epoch 13/20 - LR: 0.000100: 100%|█████████████████████████████| 2788/2788 [02:06<00:00, 21.96it/s, acc=65.36%, loss=0.6252]\n"
     ]
    },
    {
     "name": "stdout",
     "output_type": "stream",
     "text": [
      "Epoch 13 Loss: 0.6204, Train Accuracy: 64.69%\n",
      "Test Loss: 0.6158, Test Accuracy: 65.10%\n"
     ]
    },
    {
     "name": "stderr",
     "output_type": "stream",
     "text": [
      "Epoch 14/20 - LR: 0.000100: 100%|█████████████████████████████| 2788/2788 [02:06<00:00, 21.98it/s, acc=64.14%, loss=0.6211]\n"
     ]
    },
    {
     "name": "stdout",
     "output_type": "stream",
     "text": [
      "Epoch 14 Loss: 0.6198, Train Accuracy: 64.75%\n",
      "Test Loss: 0.6152, Test Accuracy: 65.18%\n"
     ]
    },
    {
     "name": "stderr",
     "output_type": "stream",
     "text": [
      "Epoch 15/20 - LR: 0.000100: 100%|█████████████████████████████| 2788/2788 [02:06<00:00, 22.11it/s, acc=64.86%, loss=0.6182]\n"
     ]
    },
    {
     "name": "stdout",
     "output_type": "stream",
     "text": [
      "Epoch 15 Loss: 0.6193, Train Accuracy: 64.83%\n",
      "Test Loss: 0.6149, Test Accuracy: 65.23%\n"
     ]
    },
    {
     "name": "stderr",
     "output_type": "stream",
     "text": [
      "Epoch 16/20 - LR: 0.000100: 100%|█████████████████████████████| 2788/2788 [02:06<00:00, 22.03it/s, acc=63.89%, loss=0.6220]\n"
     ]
    },
    {
     "name": "stdout",
     "output_type": "stream",
     "text": [
      "Epoch 16 Loss: 0.6188, Train Accuracy: 64.86%\n",
      "Test Loss: 0.6145, Test Accuracy: 65.22%\n"
     ]
    },
    {
     "name": "stderr",
     "output_type": "stream",
     "text": [
      "Epoch 17/20 - LR: 0.000100: 100%|█████████████████████████████| 2788/2788 [02:06<00:00, 22.00it/s, acc=62.06%, loss=0.6246]\n"
     ]
    },
    {
     "name": "stdout",
     "output_type": "stream",
     "text": [
      "Epoch 17 Loss: 0.6184, Train Accuracy: 64.90%\n",
      "Test Loss: 0.6141, Test Accuracy: 65.29%\n"
     ]
    },
    {
     "name": "stderr",
     "output_type": "stream",
     "text": [
      "Epoch 18/20 - LR: 0.000100: 100%|█████████████████████████████| 2788/2788 [02:06<00:00, 22.00it/s, acc=64.30%, loss=0.6245]\n"
     ]
    },
    {
     "name": "stdout",
     "output_type": "stream",
     "text": [
      "Epoch 18 Loss: 0.6181, Train Accuracy: 64.93%\n",
      "Test Loss: 0.6139, Test Accuracy: 65.30%\n"
     ]
    },
    {
     "name": "stderr",
     "output_type": "stream",
     "text": [
      "Epoch 19/20 - LR: 0.000100: 100%|█████████████████████████████| 2788/2788 [02:06<00:00, 22.03it/s, acc=63.89%, loss=0.6218]\n"
     ]
    },
    {
     "name": "stdout",
     "output_type": "stream",
     "text": [
      "Epoch 19 Loss: 0.6178, Train Accuracy: 64.98%\n",
      "Test Loss: 0.6135, Test Accuracy: 65.34%\n"
     ]
    },
    {
     "name": "stderr",
     "output_type": "stream",
     "text": [
      "Epoch 20/20 - LR: 0.000100: 100%|█████████████████████████████| 2788/2788 [02:08<00:00, 21.70it/s, acc=64.20%, loss=0.6243]\n"
     ]
    },
    {
     "name": "stdout",
     "output_type": "stream",
     "text": [
      "Epoch 20 Loss: 0.6175, Train Accuracy: 65.03%\n",
      "Test Loss: 0.6131, Test Accuracy: 65.39%\n",
      "Fold 3 - Training Loss: 0.6175, Validation Loss: 0.6131\n",
      "Fold 3 - Training Accuracy: 0.6503, Validation Accuracy: 0.6539\n",
      "----------------------------------------\n",
      "FOLD 4/5\n",
      "----------------------------------------\n",
      "Training on mps\n"
     ]
    },
    {
     "name": "stderr",
     "output_type": "stream",
     "text": [
      "Epoch 1/20 - LR: 0.000100: 100%|██████████████████████████████| 2788/2788 [02:08<00:00, 21.74it/s, acc=61.91%, loss=0.6471]\n"
     ]
    },
    {
     "name": "stdout",
     "output_type": "stream",
     "text": [
      "Epoch 1 Loss: 0.6661, Train Accuracy: 59.91%\n",
      "Test Loss: 0.6401, Test Accuracy: 62.69%\n"
     ]
    },
    {
     "name": "stderr",
     "output_type": "stream",
     "text": [
      "Epoch 2/20 - LR: 0.000100: 100%|██████████████████████████████| 2788/2788 [02:06<00:00, 22.05it/s, acc=63.38%, loss=0.6326]\n"
     ]
    },
    {
     "name": "stdout",
     "output_type": "stream",
     "text": [
      "Epoch 2 Loss: 0.6405, Train Accuracy: 62.53%\n",
      "Test Loss: 0.6293, Test Accuracy: 63.61%\n"
     ]
    },
    {
     "name": "stderr",
     "output_type": "stream",
     "text": [
      "Epoch 3/20 - LR: 0.000100: 100%|██████████████████████████████| 2788/2788 [02:07<00:00, 21.88it/s, acc=61.96%, loss=0.6358]\n"
     ]
    },
    {
     "name": "stdout",
     "output_type": "stream",
     "text": [
      "Epoch 3 Loss: 0.6330, Train Accuracy: 63.29%\n",
      "Test Loss: 0.6256, Test Accuracy: 63.94%\n"
     ]
    },
    {
     "name": "stderr",
     "output_type": "stream",
     "text": [
      "Epoch 4/20 - LR: 0.000100: 100%|██████████████████████████████| 2788/2788 [02:07<00:00, 21.89it/s, acc=63.13%, loss=0.6222]\n"
     ]
    },
    {
     "name": "stdout",
     "output_type": "stream",
     "text": [
      "Epoch 4 Loss: 0.6299, Train Accuracy: 63.60%\n",
      "Test Loss: 0.6238, Test Accuracy: 64.13%\n"
     ]
    },
    {
     "name": "stderr",
     "output_type": "stream",
     "text": [
      "Epoch 5/20 - LR: 0.000100: 100%|██████████████████████████████| 2788/2788 [02:07<00:00, 21.94it/s, acc=64.65%, loss=0.6304]\n"
     ]
    },
    {
     "name": "stdout",
     "output_type": "stream",
     "text": [
      "Epoch 5 Loss: 0.6281, Train Accuracy: 63.79%\n",
      "Test Loss: 0.6226, Test Accuracy: 64.27%\n"
     ]
    },
    {
     "name": "stderr",
     "output_type": "stream",
     "text": [
      "Epoch 6/20 - LR: 0.000100: 100%|██████████████████████████████| 2788/2788 [02:07<00:00, 21.80it/s, acc=65.36%, loss=0.6147]\n"
     ]
    },
    {
     "name": "stdout",
     "output_type": "stream",
     "text": [
      "Epoch 6 Loss: 0.6267, Train Accuracy: 63.94%\n",
      "Test Loss: 0.6217, Test Accuracy: 64.39%\n"
     ]
    },
    {
     "name": "stderr",
     "output_type": "stream",
     "text": [
      "Epoch 7/20 - LR: 0.000100: 100%|██████████████████████████████| 2788/2788 [02:09<00:00, 21.49it/s, acc=63.23%, loss=0.6377]\n"
     ]
    },
    {
     "name": "stdout",
     "output_type": "stream",
     "text": [
      "Epoch 7 Loss: 0.6256, Train Accuracy: 64.07%\n",
      "Test Loss: 0.6209, Test Accuracy: 64.49%\n"
     ]
    },
    {
     "name": "stderr",
     "output_type": "stream",
     "text": [
      "Epoch 8/20 - LR: 0.000100: 100%|██████████████████████████████| 2788/2788 [02:07<00:00, 21.86it/s, acc=64.30%, loss=0.6264]\n"
     ]
    },
    {
     "name": "stdout",
     "output_type": "stream",
     "text": [
      "Epoch 8 Loss: 0.6246, Train Accuracy: 64.18%\n",
      "Test Loss: 0.6197, Test Accuracy: 64.62%\n"
     ]
    },
    {
     "name": "stderr",
     "output_type": "stream",
     "text": [
      "Epoch 9/20 - LR: 0.000100: 100%|██████████████████████████████| 2788/2788 [02:06<00:00, 21.99it/s, acc=63.28%, loss=0.6288]\n"
     ]
    },
    {
     "name": "stdout",
     "output_type": "stream",
     "text": [
      "Epoch 9 Loss: 0.6237, Train Accuracy: 64.30%\n",
      "Test Loss: 0.6190, Test Accuracy: 64.71%\n"
     ]
    },
    {
     "name": "stderr",
     "output_type": "stream",
     "text": [
      "Epoch 10/20 - LR: 0.000100: 100%|█████████████████████████████| 2788/2788 [02:06<00:00, 22.06it/s, acc=66.18%, loss=0.6121]\n"
     ]
    },
    {
     "name": "stdout",
     "output_type": "stream",
     "text": [
      "Epoch 10 Loss: 0.6227, Train Accuracy: 64.42%\n",
      "Test Loss: 0.6181, Test Accuracy: 64.82%\n"
     ]
    },
    {
     "name": "stderr",
     "output_type": "stream",
     "text": [
      "Epoch 11/20 - LR: 0.000100: 100%|█████████████████████████████| 2788/2788 [02:15<00:00, 20.51it/s, acc=62.37%, loss=0.6447]\n"
     ]
    },
    {
     "name": "stdout",
     "output_type": "stream",
     "text": [
      "Epoch 11 Loss: 0.6219, Train Accuracy: 64.52%\n",
      "Test Loss: 0.6175, Test Accuracy: 64.92%\n"
     ]
    },
    {
     "name": "stderr",
     "output_type": "stream",
     "text": [
      "Epoch 12/20 - LR: 0.000100: 100%|█████████████████████████████| 2788/2788 [01:49<00:00, 25.46it/s, acc=65.21%, loss=0.6219]\n"
     ]
    },
    {
     "name": "stdout",
     "output_type": "stream",
     "text": [
      "Epoch 12 Loss: 0.6213, Train Accuracy: 64.59%\n",
      "Test Loss: 0.6169, Test Accuracy: 64.93%\n"
     ]
    },
    {
     "name": "stderr",
     "output_type": "stream",
     "text": [
      "Epoch 13/20 - LR: 0.000100: 100%|█████████████████████████████| 2788/2788 [01:51<00:00, 25.12it/s, acc=64.45%, loss=0.6249]\n"
     ]
    },
    {
     "name": "stdout",
     "output_type": "stream",
     "text": [
      "Epoch 13 Loss: 0.6208, Train Accuracy: 64.65%\n",
      "Test Loss: 0.6165, Test Accuracy: 64.99%\n"
     ]
    },
    {
     "name": "stderr",
     "output_type": "stream",
     "text": [
      "Epoch 14/20 - LR: 0.000100: 100%|█████████████████████████████| 2788/2788 [01:51<00:00, 25.08it/s, acc=62.62%, loss=0.6414]\n"
     ]
    },
    {
     "name": "stdout",
     "output_type": "stream",
     "text": [
      "Epoch 14 Loss: 0.6202, Train Accuracy: 64.71%\n",
      "Test Loss: 0.6163, Test Accuracy: 65.02%\n"
     ]
    },
    {
     "name": "stderr",
     "output_type": "stream",
     "text": [
      "Epoch 15/20 - LR: 0.000100: 100%|█████████████████████████████| 2788/2788 [02:06<00:00, 22.09it/s, acc=64.25%, loss=0.6253]\n"
     ]
    },
    {
     "name": "stdout",
     "output_type": "stream",
     "text": [
      "Epoch 15 Loss: 0.6197, Train Accuracy: 64.80%\n",
      "Test Loss: 0.6157, Test Accuracy: 65.08%\n"
     ]
    },
    {
     "name": "stderr",
     "output_type": "stream",
     "text": [
      "Epoch 16/20 - LR: 0.000100: 100%|█████████████████████████████| 2788/2788 [01:53<00:00, 24.63it/s, acc=62.93%, loss=0.6257]\n"
     ]
    },
    {
     "name": "stdout",
     "output_type": "stream",
     "text": [
      "Epoch 16 Loss: 0.6192, Train Accuracy: 64.83%\n",
      "Test Loss: 0.6152, Test Accuracy: 65.15%\n"
     ]
    },
    {
     "name": "stderr",
     "output_type": "stream",
     "text": [
      "Epoch 17/20 - LR: 0.000100: 100%|█████████████████████████████| 2788/2788 [01:49<00:00, 25.53it/s, acc=64.09%, loss=0.6152]\n"
     ]
    },
    {
     "name": "stdout",
     "output_type": "stream",
     "text": [
      "Epoch 17 Loss: 0.6188, Train Accuracy: 64.86%\n",
      "Test Loss: 0.6148, Test Accuracy: 65.17%\n"
     ]
    },
    {
     "name": "stderr",
     "output_type": "stream",
     "text": [
      "Epoch 18/20 - LR: 0.000100: 100%|█████████████████████████████| 2788/2788 [01:49<00:00, 25.36it/s, acc=66.38%, loss=0.6105]\n"
     ]
    },
    {
     "name": "stdout",
     "output_type": "stream",
     "text": [
      "Epoch 18 Loss: 0.6184, Train Accuracy: 64.92%\n",
      "Test Loss: 0.6145, Test Accuracy: 65.23%\n"
     ]
    },
    {
     "name": "stderr",
     "output_type": "stream",
     "text": [
      "Epoch 19/20 - LR: 0.000100: 100%|█████████████████████████████| 2788/2788 [01:49<00:00, 25.44it/s, acc=64.60%, loss=0.6218]\n"
     ]
    },
    {
     "name": "stdout",
     "output_type": "stream",
     "text": [
      "Epoch 19 Loss: 0.6179, Train Accuracy: 64.96%\n",
      "Test Loss: 0.6138, Test Accuracy: 65.28%\n"
     ]
    },
    {
     "name": "stderr",
     "output_type": "stream",
     "text": [
      "Epoch 20/20 - LR: 0.000100: 100%|█████████████████████████████| 2788/2788 [01:49<00:00, 25.37it/s, acc=66.63%, loss=0.6122]\n"
     ]
    },
    {
     "name": "stdout",
     "output_type": "stream",
     "text": [
      "Epoch 20 Loss: 0.6175, Train Accuracy: 65.00%\n",
      "Test Loss: 0.6137, Test Accuracy: 65.31%\n",
      "Fold 4 - Training Loss: 0.6175, Validation Loss: 0.6137\n",
      "Fold 4 - Training Accuracy: 0.6500, Validation Accuracy: 0.6531\n",
      "----------------------------------------\n",
      "FOLD 5/5\n",
      "----------------------------------------\n",
      "Training on mps\n"
     ]
    },
    {
     "name": "stderr",
     "output_type": "stream",
     "text": [
      "Epoch 1/20 - LR: 0.000100: 100%|██████████████████████████████| 2788/2788 [01:49<00:00, 25.37it/s, acc=61.55%, loss=0.6537]\n"
     ]
    },
    {
     "name": "stdout",
     "output_type": "stream",
     "text": [
      "Epoch 1 Loss: 0.6650, Train Accuracy: 60.04%\n",
      "Test Loss: 0.6385, Test Accuracy: 62.91%\n"
     ]
    },
    {
     "name": "stderr",
     "output_type": "stream",
     "text": [
      "Epoch 2/20 - LR: 0.000100: 100%|██████████████████████████████| 2788/2788 [01:51<00:00, 25.04it/s, acc=61.76%, loss=0.6340]\n"
     ]
    },
    {
     "name": "stdout",
     "output_type": "stream",
     "text": [
      "Epoch 2 Loss: 0.6402, Train Accuracy: 62.57%\n",
      "Test Loss: 0.6291, Test Accuracy: 63.67%\n"
     ]
    },
    {
     "name": "stderr",
     "output_type": "stream",
     "text": [
      "Epoch 3/20 - LR: 0.000100: 100%|██████████████████████████████| 2788/2788 [01:49<00:00, 25.56it/s, acc=61.91%, loss=0.6320]\n"
     ]
    },
    {
     "name": "stdout",
     "output_type": "stream",
     "text": [
      "Epoch 3 Loss: 0.6331, Train Accuracy: 63.28%\n",
      "Test Loss: 0.6252, Test Accuracy: 63.98%\n"
     ]
    },
    {
     "name": "stderr",
     "output_type": "stream",
     "text": [
      "Epoch 4/20 - LR: 0.000100: 100%|██████████████████████████████| 2788/2788 [01:49<00:00, 25.39it/s, acc=63.43%, loss=0.6322]\n"
     ]
    },
    {
     "name": "stdout",
     "output_type": "stream",
     "text": [
      "Epoch 4 Loss: 0.6298, Train Accuracy: 63.59%\n",
      "Test Loss: 0.6235, Test Accuracy: 64.21%\n"
     ]
    },
    {
     "name": "stderr",
     "output_type": "stream",
     "text": [
      "Epoch 5/20 - LR: 0.000100: 100%|██████████████████████████████| 2788/2788 [01:49<00:00, 25.47it/s, acc=63.64%, loss=0.6278]\n"
     ]
    },
    {
     "name": "stdout",
     "output_type": "stream",
     "text": [
      "Epoch 5 Loss: 0.6280, Train Accuracy: 63.78%\n",
      "Test Loss: 0.6222, Test Accuracy: 64.36%\n"
     ]
    },
    {
     "name": "stderr",
     "output_type": "stream",
     "text": [
      "Epoch 6/20 - LR: 0.000100: 100%|██████████████████████████████| 2788/2788 [01:50<00:00, 25.22it/s, acc=64.20%, loss=0.6236]\n"
     ]
    },
    {
     "name": "stdout",
     "output_type": "stream",
     "text": [
      "Epoch 6 Loss: 0.6266, Train Accuracy: 63.95%\n",
      "Test Loss: 0.6214, Test Accuracy: 64.43%\n"
     ]
    },
    {
     "name": "stderr",
     "output_type": "stream",
     "text": [
      "Epoch 7/20 - LR: 0.000100: 100%|██████████████████████████████| 2788/2788 [01:49<00:00, 25.39it/s, acc=64.55%, loss=0.6194]\n"
     ]
    },
    {
     "name": "stdout",
     "output_type": "stream",
     "text": [
      "Epoch 7 Loss: 0.6254, Train Accuracy: 64.07%\n",
      "Test Loss: 0.6202, Test Accuracy: 64.58%\n"
     ]
    },
    {
     "name": "stderr",
     "output_type": "stream",
     "text": [
      "Epoch 8/20 - LR: 0.000100: 100%|██████████████████████████████| 2788/2788 [01:50<00:00, 25.18it/s, acc=63.33%, loss=0.6257]\n"
     ]
    },
    {
     "name": "stdout",
     "output_type": "stream",
     "text": [
      "Epoch 8 Loss: 0.6245, Train Accuracy: 64.18%\n",
      "Test Loss: 0.6195, Test Accuracy: 64.67%\n"
     ]
    },
    {
     "name": "stderr",
     "output_type": "stream",
     "text": [
      "Epoch 9/20 - LR: 0.000100: 100%|██████████████████████████████| 2788/2788 [01:49<00:00, 25.54it/s, acc=64.50%, loss=0.6199]\n"
     ]
    },
    {
     "name": "stdout",
     "output_type": "stream",
     "text": [
      "Epoch 9 Loss: 0.6236, Train Accuracy: 64.28%\n",
      "Test Loss: 0.6188, Test Accuracy: 64.80%\n"
     ]
    },
    {
     "name": "stderr",
     "output_type": "stream",
     "text": [
      "Epoch 10/20 - LR: 0.000100: 100%|█████████████████████████████| 2788/2788 [01:49<00:00, 25.45it/s, acc=66.38%, loss=0.6154]\n"
     ]
    },
    {
     "name": "stdout",
     "output_type": "stream",
     "text": [
      "Epoch 10 Loss: 0.6227, Train Accuracy: 64.41%\n",
      "Test Loss: 0.6179, Test Accuracy: 64.86%\n"
     ]
    },
    {
     "name": "stderr",
     "output_type": "stream",
     "text": [
      "Epoch 11/20 - LR: 0.000100: 100%|█████████████████████████████| 2788/2788 [01:50<00:00, 25.21it/s, acc=64.35%, loss=0.6117]\n"
     ]
    },
    {
     "name": "stdout",
     "output_type": "stream",
     "text": [
      "Epoch 11 Loss: 0.6219, Train Accuracy: 64.52%\n",
      "Test Loss: 0.6172, Test Accuracy: 64.92%\n"
     ]
    },
    {
     "name": "stderr",
     "output_type": "stream",
     "text": [
      "Epoch 12/20 - LR: 0.000100: 100%|█████████████████████████████| 2788/2788 [01:49<00:00, 25.46it/s, acc=66.28%, loss=0.6124]\n"
     ]
    },
    {
     "name": "stdout",
     "output_type": "stream",
     "text": [
      "Epoch 12 Loss: 0.6212, Train Accuracy: 64.60%\n",
      "Test Loss: 0.6168, Test Accuracy: 64.98%\n"
     ]
    },
    {
     "name": "stderr",
     "output_type": "stream",
     "text": [
      "Epoch 13/20 - LR: 0.000100: 100%|█████████████████████████████| 2788/2788 [01:52<00:00, 24.84it/s, acc=61.86%, loss=0.6442]\n"
     ]
    },
    {
     "name": "stdout",
     "output_type": "stream",
     "text": [
      "Epoch 13 Loss: 0.6205, Train Accuracy: 64.67%\n",
      "Test Loss: 0.6163, Test Accuracy: 65.04%\n"
     ]
    },
    {
     "name": "stderr",
     "output_type": "stream",
     "text": [
      "Epoch 14/20 - LR: 0.000100: 100%|█████████████████████████████| 2788/2788 [01:50<00:00, 25.32it/s, acc=65.67%, loss=0.6170]\n"
     ]
    },
    {
     "name": "stdout",
     "output_type": "stream",
     "text": [
      "Epoch 14 Loss: 0.6201, Train Accuracy: 64.71%\n",
      "Test Loss: 0.6160, Test Accuracy: 65.08%\n"
     ]
    },
    {
     "name": "stderr",
     "output_type": "stream",
     "text": [
      "Epoch 15/20 - LR: 0.000100: 100%|█████████████████████████████| 2788/2788 [01:51<00:00, 25.01it/s, acc=65.01%, loss=0.6153]\n"
     ]
    },
    {
     "name": "stdout",
     "output_type": "stream",
     "text": [
      "Epoch 15 Loss: 0.6196, Train Accuracy: 64.79%\n",
      "Test Loss: 0.6155, Test Accuracy: 65.15%\n"
     ]
    },
    {
     "name": "stderr",
     "output_type": "stream",
     "text": [
      "Epoch 16/20 - LR: 0.000100: 100%|█████████████████████████████| 2788/2788 [01:54<00:00, 24.39it/s, acc=66.33%, loss=0.6068]\n"
     ]
    },
    {
     "name": "stdout",
     "output_type": "stream",
     "text": [
      "Epoch 16 Loss: 0.6192, Train Accuracy: 64.81%\n",
      "Test Loss: 0.6150, Test Accuracy: 65.19%\n"
     ]
    },
    {
     "name": "stderr",
     "output_type": "stream",
     "text": [
      "Epoch 17/20 - LR: 0.000100: 100%|█████████████████████████████| 2788/2788 [01:53<00:00, 24.56it/s, acc=64.70%, loss=0.6111]\n"
     ]
    },
    {
     "name": "stdout",
     "output_type": "stream",
     "text": [
      "Epoch 17 Loss: 0.6189, Train Accuracy: 64.85%\n",
      "Test Loss: 0.6147, Test Accuracy: 65.20%\n"
     ]
    },
    {
     "name": "stderr",
     "output_type": "stream",
     "text": [
      "Epoch 18/20 - LR: 0.000100: 100%|█████████████████████████████| 2788/2788 [01:51<00:00, 24.94it/s, acc=65.77%, loss=0.6049]\n"
     ]
    },
    {
     "name": "stdout",
     "output_type": "stream",
     "text": [
      "Epoch 18 Loss: 0.6185, Train Accuracy: 64.90%\n",
      "Test Loss: 0.6145, Test Accuracy: 65.24%\n"
     ]
    },
    {
     "name": "stderr",
     "output_type": "stream",
     "text": [
      "Epoch 19/20 - LR: 0.000100: 100%|█████████████████████████████| 2788/2788 [01:53<00:00, 24.60it/s, acc=65.57%, loss=0.6117]\n"
     ]
    },
    {
     "name": "stdout",
     "output_type": "stream",
     "text": [
      "Epoch 19 Loss: 0.6181, Train Accuracy: 64.93%\n",
      "Test Loss: 0.6143, Test Accuracy: 65.24%\n"
     ]
    },
    {
     "name": "stderr",
     "output_type": "stream",
     "text": [
      "Epoch 20/20 - LR: 0.000100: 100%|█████████████████████████████| 2788/2788 [01:49<00:00, 25.43it/s, acc=65.52%, loss=0.6166]\n"
     ]
    },
    {
     "name": "stdout",
     "output_type": "stream",
     "text": [
      "Epoch 20 Loss: 0.6179, Train Accuracy: 64.98%\n",
      "Test Loss: 0.6138, Test Accuracy: 65.31%\n",
      "Fold 5 - Training Loss: 0.6179, Validation Loss: 0.6138\n",
      "Fold 5 - Training Accuracy: 0.6498, Validation Accuracy: 0.6531\n",
      "----------------------------------------\n",
      "Average Train Loss: 0.6175\n",
      "Average Validation Loss: 0.6137\n",
      "Average Train Accuracy: 0.6501\n",
      "Average Validation Accuracy: 0.6533\n"
     ]
    },
    {
     "data": {
      "image/png": "[encoded data removed]",
      "text/plain": [
       "<Figure size 1500x500 with 2 Axes>"
      ]
     },
     "metadata": {},
     "output_type": "display_data"
    }
   ],
   "source": [
    "import torch\n",
    "import torch.nn as nn\n",
    "import torch.optim as optim\n",
    "import numpy as np\n",
    "import pandas as pd\n",
    "from tqdm import tqdm\n",
    "from torch.utils.data import DataLoader, TensorDataset, SubsetRandomSampler\n",
    "from sklearn.model_selection import KFold\n",
    "import helper_functions\n",
    "import importlib\n",
    "import os\n",
    "\n",
    "train_dtypes = test_dtypes = dtypes = {\n",
    "    'ProductName':                                                  'float32',\n",
    "    'IsBeta':                                                       'float32',\n",
    "    'RtpStateBitfield':                                             'float32',\n",
    "    'IsSxsPassiveMode':                                             'float32',\n",
    "    'DefaultBrowsersIdentifier':                                    'float32',\n",
    "    'AVProductStatesIdentifier':                                    'float32',\n",
    "    'AVProductsInstalled':                                          'float32',\n",
    "    'AVProductsEnabled':                                            'float32',\n",
    "    'HasTpm':                                                       'float32',\n",
    "    'CountryIdentifier':                                            'float32',\n",
    "    'CityIdentifier':                                               'float32',\n",
    "    'OrganizationIdentifier':                                       'float32',\n",
    "    'GeoNameIdentifier':                                            'float32',\n",
    "    'LocaleEnglishNameIdentifier':                                  'float32',\n",
    "    'Platform':                                                     'float32',\n",
    "    'Processor':                                                    'float32',\n",
    "    'OsVer':                                                        'float32',\n",
    "    'OsBuild':                                                      'float32',\n",
    "    'OsSuite':                                                      'float32',\n",
    "    'OsPlatformSubRelease':                                         'float32',\n",
    "    'OsBuildLab':                                                   'float32',\n",
    "    'SkuEdition':                                                   'float32',\n",
    "    'IsProtected':                                                  'float32',\n",
    "    'AutoSampleOptIn':                                              'float32',\n",
    "    'PuaMode':                                                      'float32',\n",
    "    'SMode':                                                        'float32',\n",
    "    'IeVerIdentifier':                                              'float32',\n",
    "    'SmartScreen':                                                  'float32',\n",
    "    'Firewall':                                                     'float32',\n",
    "    'UacLuaenable':                                                 'float32',\n",
    "    'Census_MDC2FormFactor':                                        'float32',\n",
    "    'Census_DeviceFamily':                                          'float32',\n",
    "    'Census_OEMNameIdentifier':                                     'float32',\n",
    "    'Census_OEMModelIdentifier':                                    'float32',\n",
    "    'Census_ProcessorCoreCount':                                    'float32',\n",
    "    'Census_ProcessorManufacturerIdentifier':                       'float32',\n",
    "    'Census_ProcessorModelIdentifier':                              'float32',\n",
    "    'Census_ProcessorClass':                                        'float32',\n",
    "    'Census_PrimaryDiskTotalCapacity':                              'float32',\n",
    "    'Census_PrimaryDiskTypeName':                                   'float32',\n",
    "    'Census_SystemVolumeTotalCapacity':                             'float32',\n",
    "    'Census_HasOpticalDiskDrive':                                   'float32',\n",
    "    'Census_TotalPhysicalRAM':                                      'float32',\n",
    "    'Census_ChassisTypeName':                                       'float32',\n",
    "    'Census_InternalPrimaryDiagonalDisplaySizeInInches':            'float32',\n",
    "    'Census_InternalPrimaryDisplayResolutionHorizontal':            'float32',\n",
    "    'Census_InternalPrimaryDisplayResolutionVertical':              'float32',\n",
    "    'Census_PowerPlatformRoleName':                                 'float32',\n",
    "    'Census_InternalBatteryType':                                   'float32',\n",
    "    'Census_InternalBatteryNumberOfCharges':                        'float32',\n",
    "    'Census_OSArchitecture':                                        'float32',\n",
    "    'Census_OSBranch':                                              'float32',\n",
    "    'Census_OSBuildNumber':                                         'float32',\n",
    "    'Census_OSBuildRevision':                                       'float32',\n",
    "    'Census_OSEdition':                                             'float32',\n",
    "    'Census_OSSkuName':                                             'float32',\n",
    "    'Census_OSInstallTypeName':                                     'float32',\n",
    "    'Census_OSInstallLanguageIdentifier':                           'float32',\n",
    "    'Census_OSUILocaleIdentifier':                                  'float32',\n",
    "    'Census_OSWUAutoUpdateOptionsName':                             'float32',\n",
    "    'Census_IsPortableOperatingSystem':                             'float32',\n",
    "    'Census_GenuineStateName':                                      'float32',\n",
    "    'Census_ActivationChannel':                                     'float32',\n",
    "    'Census_IsFlightingInternal':                                   'float32',\n",
    "    'Census_IsFlightsDisabled':                                     'float32',\n",
    "    'Census_FlightRing':                                            'float32',\n",
    "    'Census_ThresholdOptIn':                                        'float32',\n",
    "    'Census_FirmwareManufacturerIdentifier':                        'float32',\n",
    "    'Census_FirmwareVersionIdentifier':                             'float32',\n",
    "    'Census_IsSecureBootEnabled':                                   'float32',\n",
    "    'Census_IsWIMBootEnabled':                                      'float32',\n",
    "    'Census_IsVirtualDevice':                                       'float32',\n",
    "    'Census_IsTouchEnabled':                                        'float32',\n",
    "    'Census_IsPenCapable':                                          'float32',\n",
    "    'Census_IsAlwaysOnAlwaysConnectedCapable':                      'float32',\n",
    "    'Wdft_IsGamer':                                                 'float32',\n",
    "    'Wdft_RegionIdentifier':                                        'float32',\n",
    "    'EngineVersion_1':                                              'int8',\n",
    "    'EngineVersion_2':                                              'int8',\n",
    "    'EngineVersion_3':                                              'float32',\n",
    "    'EngineVersion_4':                                              'float32',\n",
    "    'AppVersion_1':                                                 'int8',\n",
    "    'AppVersion_2':                                                 'float32',\n",
    "    'AppVersion_3':                                                 'float32',\n",
    "    'AppVersion_4':                                                 'float32',\n",
    "    'AvSigVersion_1':                                               'float32',\n",
    "    'AvSigVersion_2':                                               'float32',\n",
    "    'AvSigVersion_3':                                               'float32',\n",
    "    'AvSigVersion_4':                                               'int8',\n",
    "    'Census_OSVersion_1':                                           'float32',\n",
    "    'Census_OSVersion_2':                                           'float32',\n",
    "    'Census_OSVersion_3':                                           'float32',\n",
    "    'Census_OSVersion_4':                                           'float32',\n",
    "    'HasDetections':                                                'int8',\n",
    "}\n",
    "\n",
    "train_data = pd.read_csv(\"../data/train_data_kaggle_processed.csv\", dtype=train_dtypes)\n",
    "test_data = pd.read_csv(\"../data/validation_data_kaggle_processed.csv\", dtype=test_dtypes)\n",
    "\n",
    "X_train = train_data.drop('HasDetections', axis=1)\n",
    "y_train = train_data['HasDetections']\n",
    "X_valid = test_data.drop('HasDetections', axis=1)\n",
    "y_valid = test_data['HasDetections']\n",
    "\n",
    "del train_data, test_data\n",
    "\n",
    "# Convert to tensors\n",
    "X_train_tensor = torch.tensor(X_train.values, dtype=torch.float32)\n",
    "y_train_tensor = torch.tensor(y_train.values, dtype=torch.float32).view(-1, 1)\n",
    "X_valid_tensor = torch.tensor(X_valid.values, dtype=torch.float32)\n",
    "y_valid_tensor = torch.tensor(y_valid.values, dtype=torch.float32).view(-1, 1)\n",
    "\n",
    "# Figure out which device to use\n",
    "device = \"cpu\"\n",
    "if torch.backends.mps.is_available():\n",
    "    device = torch.device(\"mps\")\n",
    "elif torch.cuda.is_available():\n",
    "    device = torch.device(\"cuda\")\n",
    "print(f\"Using {device} device\")\n",
    "\n",
    "# Define model architecture (same as yours)\n",
    "class BinaryClassifier(nn.Module):\n",
    "    def __init__(self, input_dim):\n",
    "        super(BinaryClassifier, self).__init__()\n",
    "        self.layers = nn.Sequential(\n",
    "            nn.Linear(input_dim, 512),\n",
    "            nn.ReLU(),\n",
    "            nn.BatchNorm1d(512),\n",
    "            nn.Dropout(0.3),\n",
    "\n",
    "            nn.Linear(512, 256),\n",
    "            nn.ReLU(),\n",
    "            nn.BatchNorm1d(256),\n",
    "            nn.Dropout(0.3),\n",
    "\n",
    "            nn.Linear(256, 128),\n",
    "            nn.ReLU(),\n",
    "            nn.BatchNorm1d(128),\n",
    "            nn.Dropout(0.4),\n",
    "\n",
    "            nn.Linear(128, 64),\n",
    "            nn.ReLU(),\n",
    "            nn.BatchNorm1d(64),\n",
    "            nn.Dropout(0.4),\n",
    "\n",
    "            nn.Linear(64, 1)\n",
    "        )\n",
    "\n",
    "    def forward(self, x):\n",
    "        return self.layers(x)\n",
    "\n",
    "# K-Fold implementation\n",
    "def run_kfold_cross_validation(X, y, k=5, batch_size=2048, epochs=10):\n",
    "    # Combine data for K-fold\n",
    "    dataset = TensorDataset(X, y)\n",
    "    \n",
    "    # Define the K-fold Cross Validator\n",
    "    kfold = KFold(n_splits=k, shuffle=True, random_state=42)\n",
    "    \n",
    "    # For storing fold results\n",
    "    fold_results = {\n",
    "        'train_losses': [],\n",
    "        'val_losses': [],\n",
    "        'train_accuracies': [],\n",
    "        'val_accuracies': [],\n",
    "    }\n",
    "    \n",
    "    # K-fold Cross Validation\n",
    "    for fold, (train_ids, val_ids) in enumerate(kfold.split(X)):\n",
    "        print(f'FOLD {fold+1}/{k}')\n",
    "        print('-' * 40)\n",
    "        \n",
    "        # Sample elements randomly from a given list of ids, no replacement\n",
    "        train_sampler = SubsetRandomSampler(train_ids)\n",
    "        val_sampler = SubsetRandomSampler(val_ids)\n",
    "        \n",
    "        # Define data loaders for training and validation\n",
    "        train_loader = DataLoader(dataset, batch_size=batch_size, sampler=train_sampler)\n",
    "        val_loader = DataLoader(dataset, batch_size=batch_size, sampler=val_sampler)\n",
    "        \n",
    "        # Initialize model, criterion, optimizer\n",
    "        model = BinaryClassifier(X.shape[1]).to(device)\n",
    "        criterion = nn.BCEWithLogitsLoss()\n",
    "        optimizer = optim.Adam(model.parameters(), weight_decay=1e-4, lr=0.0001)\n",
    "        scheduler = optim.lr_scheduler.ReduceLROnPlateau(optimizer, mode='min', factor=0.5, patience=2)\n",
    "        \n",
    "        # Train and evaluate for this fold\n",
    "        best_model_weights, train_loss, val_loss, train_acc, val_acc, lrs = helper_functions.train_and_evaluate_model(\n",
    "            model, criterion, optimizer, scheduler, train_loader, val_loader, epochs=epochs\n",
    "        )\n",
    "        \n",
    "        # Store fold results\n",
    "        fold_results['train_losses'].append(train_loss)\n",
    "        fold_results['val_losses'].append(val_loss)\n",
    "        fold_results['train_accuracies'].append(train_acc)\n",
    "        fold_results['val_accuracies'].append(val_acc)\n",
    "        \n",
    "        # Save the model for this fold\n",
    "        torch.save(model.state_dict(), f'deepernn_kaggle_fold_{fold+1}.pth')\n",
    "        \n",
    "        print(f'Fold {fold+1} - Training Loss: {train_loss[-1]:.4f}, Validation Loss: {val_loss[-1]:.4f}')\n",
    "        print(f'Fold {fold+1} - Training Accuracy: {train_acc[-1]:.4f}, Validation Accuracy: {val_acc[-1]:.4f}')\n",
    "        print('-' * 40)\n",
    "    \n",
    "    # Calculate and print average results across all folds\n",
    "    avg_train_loss = np.mean([losses[-1] for losses in fold_results['train_losses']])\n",
    "    avg_val_loss = np.mean([losses[-1] for losses in fold_results['val_losses']])\n",
    "    avg_train_acc = np.mean([acc[-1] for acc in fold_results['train_accuracies']])\n",
    "    avg_val_acc = np.mean([acc[-1] for acc in fold_results['val_accuracies']])\n",
    "    \n",
    "    print(f\"Average Train Loss: {avg_train_loss:.4f}\")\n",
    "    print(f\"Average Validation Loss: {avg_val_loss:.4f}\")\n",
    "    print(f\"Average Train Accuracy: {avg_train_acc:.4f}\")\n",
    "    print(f\"Average Validation Accuracy: {avg_val_acc:.4f}\")\n",
    "    \n",
    "    return fold_results\n",
    "\n",
    "# Run K-Fold cross validation\n",
    "k = 5  # Number of folds\n",
    "num_epochs = 20\n",
    "\n",
    "# Run K-Fold CV\n",
    "fold_results = run_kfold_cross_validation(\n",
    "    X_train_tensor, \n",
    "    y_train_tensor, \n",
    "    k=k, \n",
    "    batch_size=2048, \n",
    "    epochs=num_epochs\n",
    ")"
   ]
  },
  {
   "cell_type": "markdown",
   "id": "d2f0ef08-1429-4ce2-93cd-7a159582a72d",
   "metadata": {},
   "source": [
    "### Plot the K-Fold Runs' Losses and Accuracies"
   ]
  },
  {
   "cell_type": "code",
   "execution_count": 8,
   "id": "9883a95e-7b27-4e40-9196-62a7ef514459",
   "metadata": {},
   "outputs": [
    {
     "data": {
      "image/png": "[encoded data removed]",
      "text/plain": [
       "<Figure size 1500x500 with 2 Axes>"
      ]
     },
     "metadata": {},
     "output_type": "display_data"
    }
   ],
   "source": [
    "# Function to plot results of K-Fold\n",
    "def plot_kfold_results(fold_results, k=5):\n",
    "    import matplotlib.pyplot as plt\n",
    "    \n",
    "    fig, (ax1, ax2) = plt.subplots(1, 2, figsize=(15, 5))\n",
    "    \n",
    "    # Plot loss\n",
    "    for fold in range(k):\n",
    "        ax1.plot(fold_results['train_losses'][fold], label=f'Fold {fold+1} Train')\n",
    "        ax1.plot(fold_results['val_losses'][fold], label=f'Fold {fold+1} Val', linestyle='--')\n",
    "    \n",
    "    ax1.set_title('Loss across folds')\n",
    "    ax1.set_xlabel('Epoch')\n",
    "    ax1.set_ylabel('Loss')\n",
    "    ax1.legend()\n",
    "    ax1.grid(True)\n",
    "    \n",
    "    # Plot accuracy\n",
    "    for fold in range(k):\n",
    "        ax2.plot(fold_results['train_accuracies'][fold], label=f'Fold {fold+1} Train')\n",
    "        ax2.plot(fold_results['val_accuracies'][fold], label=f'Fold {fold+1} Val', linestyle='--')\n",
    "    \n",
    "    ax2.set_title('Accuracy across folds')\n",
    "    ax2.set_xlabel('Epoch')\n",
    "    ax2.set_ylabel('Accuracy')\n",
    "    ax2.legend()\n",
    "    ax2.grid(True)\n",
    "    \n",
    "    plt.tight_layout()\n",
    "    plt.show()\n",
    "\n",
    "# Plot the results\n",
    "plot_kfold_results(fold_results, k=k)"
   ]
  },
  {
   "cell_type": "code",
   "execution_count": null,
   "id": "1627cf04-84b7-4181-b870-d1ea6a1666a3",
   "metadata": {},
   "outputs": [],
   "source": []
  }
 ],
 "metadata": {
  "kernelspec": {
   "display_name": "Python 3 (ipykernel)",
   "language": "python",
   "name": "python3"
  },
  "language_info": {
   "codemirror_mode": {
    "name": "ipython",
    "version": 3
   },
   "file_extension": ".py",
   "mimetype": "text/x-python",
   "name": "python",
   "nbconvert_exporter": "python",
   "pygments_lexer": "ipython3",
   "version": "3.11.11"
  }
 },
 "nbformat": 4,
 "nbformat_minor": 5
}
