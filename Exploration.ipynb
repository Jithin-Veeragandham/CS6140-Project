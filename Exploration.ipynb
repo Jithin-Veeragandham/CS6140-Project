{
 "cells": [
  {
   "cell_type": "code",
   "execution_count": null,
   "metadata": {},
   "outputs": [],
   "source": [
    "import pandas as pd\n",
    "train = pd.read_csv(r'C:\\Users\\jithi\\OneDrive\\Desktop\\ML project\\microsoft-malware-prediction\\test.csv')"
   ]
  },
  {
   "cell_type": "code",
   "execution_count": null,
   "metadata": {},
   "outputs": [],
   "source": [
    "import pandas as pd\n",
    "\n",
    "def analyze_columns(df):\n",
    "    total_rows = len(df)\n",
    "    \n",
    "    for col in df.columns:\n",
    "        nan_count = df[col].isna().sum()  # Count NaN values\n",
    "        nan_percentage = nan_count / total_rows  # Percentage of NaNs\n",
    "        \n",
    "        value_counts = df[col].value_counts(normalize=True)  # Get value frequencies\n",
    "        dominating_value = value_counts.idxmax() if (value_counts.max() > 0.9) else None\n",
    "        \n",
    "        # Print only if NaN values > 95% or there's a dominating value\n",
    "        if nan_percentage > 0.95 or dominating_value:\n",
    "            print(f\"Column: {col}\")\n",
    "            \n",
    "            if nan_percentage > 0.95:\n",
    "                print(f\"  More than 95% NaN values ({nan_percentage*100:.2f}%)\")\n",
    "            \n",
    "            if dominating_value:\n",
    "                print(f\"  Dominating Value: {dominating_value} ({value_counts.max()*100:.2f}%)\")\n",
    "            \n",
    "            print(\"-\" * 30)\n",
    "\n",
    "\n",
    "\n",
    "# Run analysis\n",
    "analyze_columns(train)\n"
   ]
  },
  {
   "cell_type": "code",
   "execution_count": null,
   "metadata": {},
   "outputs": [],
   "source": [
    "train['AutoSampleOptIn'].value_counts()"
   ]
  },
  {
   "cell_type": "code",
   "execution_count": null,
   "metadata": {},
   "outputs": [],
   "source": [
    "#print any object colrumns by comapring type using for loop\n",
    "\n",
    "for col in train.columns:\n",
    "    if train[col].dtype == 'object':\n",
    "        print(col)\n"
   ]
  },
  {
   "cell_type": "code",
   "execution_count": null,
   "metadata": {},
   "outputs": [],
   "source": [
    "train.head()"
   ]
  },
  {
   "cell_type": "code",
   "execution_count": null,
   "metadata": {},
   "outputs": [],
   "source": [
    "import pandas as pd\n",
    "data=train.copy()\n",
    "cols_to_drop = ['IsBeta','IsSxsPassiveMode','DefaultBrowsersIdentifier','Census_ProcessorClass','MachineIdentifier']\n",
    "columns_to_split = ['EngineVersion','AppVersion','AvSigVersion','Census_OSVersion']\n",
    "columns_for_OE = ['ProductName','RtpStateBitfield','Platform','Processor','OsVer','OsBuild','OsSuite','OsPlatformSubRelease','OsBuildLab','SkuEdition','PuaMode','SmartScreen','Census_MDC2FormFactor',\n",
    "                  'Census_DeviceFamily','Census_ProcessorClass','Census_PrimaryDiskTypeName','Census_ChassisTypeName','Census_InternalPrimaryDiagonalDisplaySizeInInches','Census_InternalPrimaryDisplayResolutionHorizontal','Census_InternalPrimaryDisplayResolutionVertical',\n",
    "                  'Census_PowerPlatformRoleName','Census_InternalBatteryType','Census_OSArchitecture','Census_OSBranch','Census_OSEdition','Census_OSSkuName','Census_OSInstallTypeName','Census_OSWUAutoUpdateOptionsName','Census_GenuineStateName','Census_ActivationChannel',\n",
    "                   'Census_FlightRing',\n",
    "                  ]\n",
    "cols_to_bin=['Census_PrimaryDiskTotalCapacity','Census_SystemVolumeTotalCapacity', 'Census_TotalPhysicalRAM']\n",
    "for col in columns_to_split:\n",
    "    split_cols = data[col].str.split('.', expand=True)  # Split column values by \".\"\n",
    "    split_cols.columns = [f\"{col}_{i+1}\" for i in range(split_cols.shape[1])]  # Rename columns\n",
    "    data = data.drop(columns=[col]).join(split_cols)  # Replace original column with new ones\n",
    "\n",
    "from sklearn.preprocessing import OrdinalEncoder\n",
    "\n",
    "oe = OrdinalEncoder(handle_unknown=\"use_encoded_value\", unknown_value=-1)\n",
    "oe.fit(data[columns_for_OE])\n",
    "data.fillna(-1, inplace=True)\n",
    "data[columns_for_OE] = oe.transform(data[columns_for_OE])\n",
    "\n",
    "print(data)\n"
   ]
  },
  {
   "cell_type": "code",
   "execution_count": null,
   "metadata": {},
   "outputs": [],
   "source": [
    "from sklearn.preprocessing import OrdinalEncoder\n",
    "\n",
    "oe = OrdinalEncoder(handle_unknown=\"use_encoded_value\", unknown_value=-1) \n",
    "data['AvSigVersion_2'] = data['AvSigVersion_2'].astype(str)\n",
    "oe.fit(data[['AvSigVersion_2']])\n",
    "data['AvSigVersion_2'] = oe.transform(data[['AvSigVersion_2']])\n",
    "\n",
    "# from sklearn.model_selection import train_test_split\n",
    "\n",
    "# X = data.drop(columns=['MachineIdentifier'])\n"
   ]
  },
  {
   "cell_type": "code",
   "execution_count": null,
   "metadata": {},
   "outputs": [],
   "source": [
    "identifier = data['MachineIdentifier']\n",
    "data.drop(columns=cols_to_drop, inplace=True)"
   ]
  },
  {
   "cell_type": "code",
   "execution_count": null,
   "metadata": {},
   "outputs": [],
   "source": [
    "cols_to_category = [\n",
    "     'EngineVersion_1', 'EngineVersion_2', 'EngineVersion_3', 'EngineVersion_4',\n",
    "    'AppVersion_1', 'AppVersion_2', 'AppVersion_3', 'AppVersion_4',\n",
    "    'AvSigVersion_1', 'AvSigVersion_3', 'AvSigVersion_4',\n",
    "    'Census_OSVersion_1', 'Census_OSVersion_2', 'Census_OSVersion_3', 'Census_OSVersion_4'\n",
    "]\n",
    "data_cat = data.copy()\n",
    "for col in cols_to_category:\n",
    "    data_cat[col] = data_cat[col].astype('category')\n",
    "\n",
    "import xgboost as xgb\n",
    "dtest = xgb.DMatrix(data_cat, enable_categorical=True)\n",
    "predictions = xgb_loaded.predict(dtest)"
   ]
  },
  {
   "cell_type": "code",
   "execution_count": null,
   "metadata": {},
   "outputs": [],
   "source": [
    "#load xgboost\n",
    "xgboost_dir=r'C:\\Users\\jithi\\OneDrive\\Desktop\\ML project\\xgb_model.json'\n",
    "from xgboost import XGBClassifier\n",
    "xgb_loaded = XGBClassifier(enable_categorical=True)\n",
    "xgb_loaded.load_model(xgboost_dir)\n",
    "predictions = xgb_loaded.predict(data)\n"
   ]
  },
  {
   "cell_type": "code",
   "execution_count": null,
   "metadata": {},
   "outputs": [],
   "source": [
    "#predict\n"
   ]
  },
  {
   "cell_type": "code",
   "execution_count": null,
   "metadata": {},
   "outputs": [],
   "source": [
    "#save as csv\n",
    "data.to_csv(r'C:\\Users\\jithi\\OneDrive\\Desktop\\ML project\\microsoft-malware-prediction\\train_encoded.csv', index=False)"
   ]
  },
  {
   "cell_type": "code",
   "execution_count": null,
   "metadata": {},
   "outputs": [],
   "source": [
    "from sklearn.preprocessing import OrdinalEncoder\n",
    "\n",
    "oe = OrdinalEncoder()\n",
    "columns = X_train.select_dtypes(include='object').columns\n",
    "\n",
    "from sklearn.preprocessing import OrdinalEncoder\n",
    "\n",
    "oe = OrdinalEncoder(handle_unknown=\"use_encoded_value\", unknown_value=-1)\n",
    "\n",
    "oe.fit(X_train[columns])\n",
    "\n",
    "X_train[columns] = oe.transform(X_train[columns])\n",
    "X_test[columns] = oe.transform(X_test[columns])  \n"
   ]
  },
  {
   "cell_type": "code",
   "execution_count": null,
   "metadata": {},
   "outputs": [],
   "source": [
    "from xgboost import XGBClassifier\n",
    "xgb = XGBClassifier()\n",
    "xgb.fit(X_train, y_train)\n",
    "labels = xgb.predict(X_train)\n",
    "from sklearn.metrics import accuracy_score\n",
    "accuracy_score(y_train, labels)"
   ]
  },
  {
   "cell_type": "code",
   "execution_count": null,
   "metadata": {},
   "outputs": [],
   "source": [
    "labels = xgb.predict(X_test)\n",
    "accuracy_score(y_test, labels)    "
   ]
  },
  {
   "cell_type": "code",
   "execution_count": null,
   "metadata": {},
   "outputs": [],
   "source": [
    "from sklearn.preprocessing import StandardScaler\n",
    "scaler = StandardScaler()\n",
    "X_train = scaler.fit_transform(X_train)\n",
    "X_test = scaler.transform(X_test)"
   ]
  },
  {
   "cell_type": "code",
   "execution_count": null,
   "metadata": {},
   "outputs": [],
   "source": [
    "from sklearn.ensemble import HistGradientBoostingClassifier\n",
    "hgb = HistGradientBoostingClassifier()\n",
    "hgb.fit(X_train, y_train)\n",
    "train_pred = hgb.predict(X_train)\n",
    "train_acc = accuracy_score(y_train, train_pred)\n",
    "print(f'Train Accuracy: {train_acc}')\n",
    "test_pred = hgb.predict(X_test)\n",
    "test_acc = accuracy_score(y_test, test_pred)\n",
    "print(f'Test Accuracy: {test_acc}')"
   ]
  },
  {
   "cell_type": "code",
   "execution_count": null,
   "metadata": {},
   "outputs": [],
   "source": [
    "X_train = pd.DataFrame(X_train)\n",
    "X_test = pd.DataFrame(X_test)"
   ]
  },
  {
   "cell_type": "code",
   "execution_count": null,
   "metadata": {},
   "outputs": [],
   "source": [
    "X_train.fillna(X_train.mean(), inplace=True)\n",
    "X_test.fillna(X_test.mean(), inplace=True)"
   ]
  },
  {
   "cell_type": "code",
   "execution_count": null,
   "metadata": {},
   "outputs": [],
   "source": [
    "from sklearn.neural_network import MLPClassifier\n",
    "import numpy as np\n",
    "\n",
    "\n",
    "mlp = MLPClassifier()\n",
    "mlp.fit(X_train, y_train)\n",
    "labels = mlp.predict(X_train)\n",
    "print(accuracy_score(y_train, labels))\n",
    "test_labels = mlp.predict(X_test)\n",
    "print(accuracy_score(y_test, test_labels))"
   ]
  },
  {
   "cell_type": "markdown",
   "metadata": {},
   "source": [
    "#run from here"
   ]
  },
  {
   "cell_type": "code",
   "execution_count": null,
   "metadata": {},
   "outputs": [],
   "source": [
    "train.info()"
   ]
  },
  {
   "cell_type": "code",
   "execution_count": null,
   "metadata": {},
   "outputs": [],
   "source": [
    "for col, dtype in dtypes.items():\n",
    "    if dtype == 'category':\n",
    "        try:\n",
    "            train[col] = train[col].astype('float32')\n",
    "        except ValueError:\n",
    "            print(f\"Failed to convert {col} to {dtype}\")"
   ]
  },
  {
   "cell_type": "code",
   "execution_count": null,
   "metadata": {},
   "outputs": [],
   "source": [
    "train.info()  # Check the data types after conversion"
   ]
  },
  {
   "cell_type": "code",
   "execution_count": null,
   "metadata": {},
   "outputs": [],
   "source": [
    "import pandas as pd\n",
    "\n",
    "train = pd.read_csv(r'C:\\Users\\jithi\\OneDrive\\Desktop\\ML project\\microsoft-malware-prediction\\train_encoded.csv',dtype=dtypes)\n",
    "train.drop(index=5244810, inplace=True)\n",
    "print(train.head())"
   ]
  },
  {
   "cell_type": "code",
   "execution_count": null,
   "metadata": {},
   "outputs": [],
   "source": [
    "#print nan values for each column\n",
    "nan_values = train.isna().sum()\n",
    "print(nan_values[nan_values > 0])\n"
   ]
  },
  {
   "cell_type": "code",
   "execution_count": null,
   "metadata": {},
   "outputs": [],
   "source": [
    "from sklearn.preprocessing import OrdinalEncoder\n",
    "\n",
    "oe = OrdinalEncoder(handle_unknown=\"use_encoded_value\", unknown_value=-1) \n",
    "train['AvSigVersion_2'] = train['AvSigVersion_2'].astype(str)\n",
    "oe.fit(train[['AvSigVersion_2']])\n",
    "train['AvSigVersion_2'] = oe.transform(train[['AvSigVersion_2']])\n",
    "\n",
    "from sklearn.model_selection import train_test_split\n",
    "\n",
    "y = train['HasDetections']\n",
    "X = train.drop(columns=['HasDetections','MachineIdentifier'])\n",
    "X_train, X_test, y_train, y_test = train_test_split(X, y, test_size=0.2, random_state=42)"
   ]
  },
  {
   "cell_type": "code",
   "execution_count": null,
   "metadata": {},
   "outputs": [],
   "source": [
    "for col, dtype in dtypes.items():\n",
    "    if dtype == 'category':\n",
    "        try:\n",
    "            train[col] = train[col].astype('float32')\n",
    "        except ValueError:\n",
    "            print(f\"Failed to convert {col} to {dtype}\")"
   ]
  },
  {
   "cell_type": "code",
   "execution_count": null,
   "metadata": {},
   "outputs": [],
   "source": [
    "dtypes = {\n",
    "    'MachineIdentifier':                                    'category',\n",
    "    'ProductName':                                          'int8',\n",
    "    'IsBeta':                                              'int8',\n",
    "    'RtpStateBitfield':                                    'float32',\n",
    "    'IsSxsPassiveMode':                                    'int8',\n",
    "    'DefaultBrowsersIdentifier':                           'float32',\n",
    "    'AVProductStatesIdentifier':                           'float32',\n",
    "    'AVProductsInstalled':                                 'float32',\n",
    "    'AVProductsEnabled':                                   'float32',\n",
    "    'HasTpm':                                             'int8',\n",
    "    'CountryIdentifier':                                   'int8',\n",
    "    'CityIdentifier':                                      'float32',\n",
    "    'OrganizationIdentifier':                              'float32',\n",
    "    'GeoNameIdentifier':                                   'float32',\n",
    "    'LocaleEnglishNameIdentifier':                        'int8',\n",
    "    'Platform':                                           'int8',\n",
    "    'Processor':                                          'int8',\n",
    "    'OsVer':                                             'int8',\n",
    "    'OsBuild':                                           'float32',\n",
    "    'OsSuite':                                           'float32',\n",
    "    'OsPlatformSubRelease':                              'float32',\n",
    "    'OsBuildLab':                                        'float32',\n",
    "    'SkuEdition':                                        'int8',\n",
    "    'IsProtected':                                       'float32',\n",
    "    'AutoSampleOptIn':                                   'int8',\n",
    "    'PuaMode':                                          'float32',\n",
    "    'SMode':                                           'float32',\n",
    "    'IeVerIdentifier':                                   'float32',\n",
    "    'SmartScreen':                                      'int8',\n",
    "    'Firewall':                                         'float32',\n",
    "    'UacLuaenable':                                     'float32',\n",
    "    'Census_MDC2FormFactor':                            'int8',\n",
    "    'Census_DeviceFamily':                              'int8',\n",
    "    'Census_OEMNameIdentifier':                         'float32',\n",
    "    'Census_OEMModelIdentifier':                        'float32',\n",
    "    'Census_ProcessorCoreCount':                        'float32',\n",
    "    'Census_ProcessorManufacturerIdentifier':           'float32',\n",
    "    'Census_ProcessorModelIdentifier':                  'float32',\n",
    "    'Census_ProcessorClass':                            'int8',\n",
    "    'Census_PrimaryDiskTotalCapacity':                 'float32',\n",
    "    'Census_PrimaryDiskTypeName':                      'int8',\n",
    "    'Census_SystemVolumeTotalCapacity':                'float32',\n",
    "    'Census_HasOpticalDiskDrive':                      'int8',\n",
    "    'Census_TotalPhysicalRAM':                         'float32',\n",
    "    'Census_ChassisTypeName':                          'int8',\n",
    "    'Census_InternalPrimaryDiagonalDisplaySizeInInches': 'float32',\n",
    "    'Census_InternalPrimaryDisplayResolutionHorizontal': 'float32',\n",
    "    'Census_InternalPrimaryDisplayResolutionVertical':   'float32',\n",
    "    'Census_PowerPlatformRoleName':                     'int8',\n",
    "    'Census_InternalBatteryType':                       'int8',\n",
    "    'Census_InternalBatteryNumberOfCharges':            'float32',\n",
    "    'Census_OSArchitecture':                            'int8',\n",
    "    'Census_OSBranch':                                  'int8',\n",
    "    'Census_OSBuildNumber':                             'int8',\n",
    "    'Census_OSBuildRevision':                           'int8',\n",
    "    'Census_OSEdition':                                 'int8',\n",
    "    'Census_OSSkuName':                                 'int8',\n",
    "    'Census_OSInstallTypeName':                         'int8',\n",
    "    'Census_OSInstallLanguageIdentifier':               'float32',\n",
    "    'Census_OSUILocaleIdentifier':                      'int8',\n",
    "    'Census_OSWUAutoUpdateOptionsName':                 'int8',\n",
    "    'Census_IsPortableOperatingSystem':                 'int8',\n",
    "    'Census_GenuineStateName':                          'int8',\n",
    "    'Census_ActivationChannel':                         'int8',\n",
    "    'Census_IsFlightingInternal':                       'float32',\n",
    "    'Census_IsFlightsDisabled':                         'float32',\n",
    "    'Census_FlightRing':                                'int8',\n",
    "    'Census_ThresholdOptIn':                            'float32',\n",
    "    'Census_FirmwareManufacturerIdentifier':            'float32',\n",
    "    'Census_FirmwareVersionIdentifier':                 'float32',\n",
    "    'Census_IsSecureBootEnabled':                       'int8',\n",
    "    'Census_IsWIMBootEnabled':                          'float32',\n",
    "    'Census_IsVirtualDevice':                           'float32',\n",
    "    'Census_IsTouchEnabled':                            'int8',\n",
    "    'Census_IsPenCapable':                              'int8',\n",
    "    'Census_IsAlwaysOnAlwaysConnectedCapable':          'float32',\n",
    "    'Wdft_IsGamer':                                     'float32',\n",
    "    'Wdft_RegionIdentifier':                            'float32',\n",
    "    'HasDetections':                                    'int8',\n",
    "    'EngineVersion_1':                                  'int8',\n",
    "    'EngineVersion_2':                                  'int8',\n",
    "    'EngineVersion_3':                                  'int8',\n",
    "    'EngineVersion_4':                                  'int8',\n",
    "    'AppVersion_1':                                     'int8',\n",
    "    'AppVersion_2':                                     'int8',\n",
    "    'AppVersion_3':                                     'int8',\n",
    "    'AppVersion_4':                                     'int8',\n",
    "    'AvSigVersion_1':                                   'int8',\n",
    "    'AvSigVersion_2':                                   'object',\n",
    "    'AvSigVersion_3':                                   'int8',\n",
    "    'AvSigVersion_4':                                   'int8',\n",
    "    'Census_OSVersion_1':                               'int8',\n",
    "    'Census_OSVersion_2':                               'int8',\n",
    "    'Census_OSVersion_3':                               'int8',\n",
    "    'Census_OSVersion_4':                               'int8',\n",
    "}\n",
    " \n",
    " "
   ]
  },
  {
   "cell_type": "code",
   "execution_count": null,
   "metadata": {},
   "outputs": [],
   "source": [
    "import pandas as pd\n",
    "\n",
    "train = pd.read_csv(r'C:\\Users\\jithi\\OneDrive\\Desktop\\ML project\\microsoft-malware-prediction\\train_encoded.csv',dtype=dtypes)\n",
    "train.drop(index=5244810, inplace=True)\n",
    "print(train.head())"
   ]
  },
  {
   "cell_type": "code",
   "execution_count": null,
   "metadata": {},
   "outputs": [],
   "source": [
    "#convert to float 32\n",
    "for col, dtype in dtypes.items():\n",
    "    if dtype == 'object':\n",
    "        try:\n",
    "            train[col] = train[col].astype('float32')\n",
    "        except ValueError:\n",
    "            print(f\"Failed to convert {col} to {dtype}\")"
   ]
  },
  {
   "cell_type": "code",
   "execution_count": null,
   "metadata": {},
   "outputs": [],
   "source": [
    "from sklearn.model_selection import train_test_split\n",
    "\n",
    "y = train['HasDetections']\n",
    "X = train.drop(columns=['HasDetections','MachineIdentifier'])\n",
    "X_train, X_test, y_train, y_test = train_test_split(X, y, test_size=0.2, random_state=42)"
   ]
  },
  {
   "cell_type": "code",
   "execution_count": null,
   "metadata": {},
   "outputs": [],
   "source": [
    "#perceptron\n",
    "\n",
    "from sklearn.linear_model import Perceptron\n",
    "from sklearn.metrics import accuracy_score\n",
    "perceptron = Perceptron()\n",
    "perceptron.fit(X_train, y_train)\n",
    "labels = perceptron.predict(X_train)\n",
    "print(accuracy_score(y_train, labels))\n",
    "test_labels = perceptron.predict(X_test)\n",
    "print(accuracy_score(y_test, test_labels))"
   ]
  },
  {
   "cell_type": "code",
   "execution_count": null,
   "metadata": {},
   "outputs": [],
   "source": [
    "#logistic regression\n",
    "from sklearn.linear_model import LogisticRegression\n",
    "logreg = LogisticRegression()\n",
    "logreg.fit(X_train, y_train)\n",
    "labels = logreg.predict(X_train)\n",
    "print(accuracy_score(y_train, labels))\n",
    "test_labels = logreg.predict(X_test)\n",
    "print(accuracy_score(y_test, test_labels))"
   ]
  },
  {
   "cell_type": "code",
   "execution_count": null,
   "metadata": {},
   "outputs": [],
   "source": [
    "#xgboost vanilla\n",
    "from sklearn.metrics import accuracy_score\n",
    "from xgboost import XGBClassifier\n",
    "xgb = XGBClassifier()\n",
    "xgb.fit(X_train, y_train)\n",
    "labels = xgb.predict(X_train)\n",
    "print(accuracy_score(y_train, labels))\n",
    "test_labels = xgb.predict(X_test)\n",
    "print(accuracy_score(y_test, test_labels))"
   ]
  },
  {
   "cell_type": "code",
   "execution_count": null,
   "metadata": {},
   "outputs": [],
   "source": [
    "xgb.save_model('xgb_model.json')\n"
   ]
  },
  {
   "cell_type": "code",
   "execution_count": null,
   "metadata": {},
   "outputs": [],
   "source": [
    "#xgboost vanilla\n",
    "# from xgboost import XGBClassifier\n",
    "# xgb = XGBClassifier(enable_categorical=True)\n",
    "# xgb.fit(X_train, y_train)\n",
    "# labels = xgb.predict(X_train)\n",
    "from sklearn.metrics import accuracy_score\n",
    "\n",
    "print(accuracy_score(y_train, labels))\n",
    "test_labels = xgb.predict(X_test)\n",
    "print(accuracy_score(y_test, test_labels))"
   ]
  },
  {
   "cell_type": "code",
   "execution_count": null,
   "metadata": {},
   "outputs": [],
   "source": [
    "import numpy as np\n",
    "import pandas as pd\n",
    "from xgboost import XGBClassifier\n",
    "from sklearn.model_selection import RandomizedSearchCV, train_test_split\n",
    "from sklearn.metrics import accuracy_score\n",
    " \n",
    "param_grid = {\n",
    "    'n_estimators': [ 400, 500],   # Number of boosting rounds\n",
    "    'max_depth': [3, 6, 9],                 # Maximum depth of trees\n",
    "    'learning_rate': [0.01,0.025, 0.05], # Step size shrinkage\n",
    "    'subsample': [0.3,0.5,0.7],             # Fraction of samples used per tree\n",
    "    'colsample_bytree': [ 0.8, 0.9],      # Fraction of features used per tree\n",
    "    'gamma': [0, 0.01, 0.001,0.0001],                 # Regularization term\n",
    "    'min_child_weight': [1, 3, 5],          # Minimum sum of instance weight needed in a child\n",
    "}\n",
    "\n",
    "\n",
    "xgb = XGBClassifier(objective='binary:logistic', eval_metric='logloss', tree_method=\"hist\")\n",
    "X_train_sample, _, y_train_sample, _ = train_test_split(X_train, y_train, train_size=0.15, random_state=42)\n",
    "\n",
    "random_search = RandomizedSearchCV(xgb, param_distributions=param_grid, \n",
    "                                   n_iter=20, scoring='accuracy', \n",
    "                                   cv=3, verbose=2, n_jobs=-1, random_state=42)\n",
    "\n",
    "random_search.fit(X_train_sample, y_train_sample)\n",
    "\n",
    "print(random_search.best_params_)\n",
    "\n",
    "xgb = XGBClassifier(objective='binary:logistic', eval_metric='logloss', tree_method=\"hist\", **random_search.best_params_)\n",
    "xgb.fit(X_train, y_train)\n",
    "labels = xgb.predict(X_train)\n",
    "print(accuracy_score(y_train, labels))\n",
    "test_labels = xgb.predict(X_test)\n",
    "print(accuracy_score(y_test, test_labels))\n"
   ]
  },
  {
   "cell_type": "code",
   "execution_count": null,
   "metadata": {},
   "outputs": [],
   "source": [
    "#get feature importance for decision trees\n",
    "importances = xgb.feature_importances_\n",
    "indices = np.argsort(importances)[::-1]\n",
    "\n",
    "# Convert X_train back to DataFrame to access column names\n",
    "X_train_df = pd.DataFrame(X_train, columns=X.columns)\n",
    "\n",
    "for f in range(X_train_df.shape[1]):\n",
    "    print(\"%2d) %-*s %f\" % (f + 1, 30, X_train_df.columns[indices[f]], importances[indices[f]]))"
   ]
  },
  {
   "cell_type": "code",
   "execution_count": null,
   "metadata": {},
   "outputs": [],
   "source": [
    "#kernel svm\n",
    "from sklearn.svm import LinearSVC\n",
    "from sklearn.kernel_approximation import RBFSampler\n",
    "from sklearn.pipeline import Pipeline\n",
    "from sklearn.metrics import accuracy_score\n",
    "\n",
    "rbf_feature = RBFSampler(gamma=0.1, n_components=200, random_state=42)  # Adjust `n_components`\n",
    "\n",
    "linear_svc = LinearSVC(dual=False, max_iter=5000)\n",
    "\n",
    "svm_pipeline = Pipeline([\n",
    "    ('rbf_feature', rbf_feature),\n",
    "    ('svm', linear_svc)\n",
    "])\n",
    "\n",
    "svm_pipeline.fit(X_train, y_train)\n",
    "\n",
    "train_preds = svm_pipeline.predict(X_train)\n",
    "test_preds = svm_pipeline.predict(X_test)\n",
    "\n",
    "print(\"Train Accuracy:\", accuracy_score(y_train, train_preds))\n",
    "print(\"Test Accuracy:\", accuracy_score(y_test, test_preds))\n"
   ]
  },
  {
   "cell_type": "code",
   "execution_count": null,
   "metadata": {},
   "outputs": [],
   "source": [
    "#kernel svm\n",
    "from sklearn.svm import LinearSVC\n",
    "from sklearn.kernel_approximation import RBFSampler\n",
    "from sklearn.pipeline import Pipeline\n",
    "from sklearn.metrics import accuracy_score\n",
    "\n",
    "rbf_feature = RBFSampler(gamma=0.1, n_components=500, random_state=42)  # Adjust `n_components`\n",
    "\n",
    "linear_svc = LinearSVC(dual=False, max_iter=5000)\n",
    "\n",
    "svm_pipeline = Pipeline([\n",
    "    ('rbf_feature', rbf_feature),\n",
    "    ('svm', linear_svc)\n",
    "])\n",
    "\n",
    "svm_pipeline.fit(X_train, y_train)\n",
    "\n",
    "train_preds = svm_pipeline.predict(X_train)\n",
    "test_preds = svm_pipeline.predict(X_test)\n",
    "\n",
    "print(\"Train Accuracy:\", accuracy_score(y_train, train_preds))\n",
    "print(\"Test Accuracy:\", accuracy_score(y_test, test_preds))\n"
   ]
  },
  {
   "cell_type": "code",
   "execution_count": null,
   "metadata": {},
   "outputs": [],
   "source": [
    "# Shallow NN\n",
    " \n",
    "# Assuming X_train, X_test, y_train, y_test are already defined\n",
    " \n",
    "# Convert data to PyTorch tensors\n",
    "X_train_tensor = torch.tensor(X_train.values, dtype=torch.float32)\n",
    "y_train_tensor = torch.tensor(y_train.values, dtype=torch.float32).view(-1, 1)\n",
    "X_test_tensor = torch.tensor(X_test.values, dtype=torch.float32)\n",
    "y_test_tensor = torch.tensor(y_test.values, dtype=torch.float32).view(-1, 1)\n",
    " \n",
    "# Define the model\n",
    "class MLP(nn.Module):\n",
    "    def __init__(self):\n",
    "        super(MLP, self).__init__()\n",
    "        self.fc1 = nn.Linear(X_train.shape[1], 64)  # Input layer to first hidden layer\n",
    "        self.fc2 = nn.Linear(64, 1)  # First hidden layer to output layer\n",
    "        self.relu = nn.ReLU()\n",
    "        self.sigmoid = nn.Sigmoid()\n",
    " \n",
    "    def forward(self, x):\n",
    "        x = self.relu(self.fc1(x))\n",
    "        x = self.sigmoid(self.fc2(x))\n",
    "        return x\n",
    " \n",
    "# Initialize model\n",
    "model = MLP()\n",
    " \n",
    "# Loss and optimizer\n",
    "criterion = nn.BCELoss()  # Binary Cross-Entropy loss\n",
    "optimizer = optim.Adam(model.parameters())\n",
    " \n",
    "# Training the model\n",
    "epochs = 10\n",
    "batch_size = 64\n",
    "for epoch in range(epochs):\n",
    "    model.train()\n",
    "    # Wrap the batch loop with tqdm for progress bar\n",
    "    with tqdm(range(0, len(X_train_tensor), batch_size), desc=f'Epoch {epoch+1}/{epochs}') as pbar:\n",
    "        for i in pbar:\n",
    "            X_batch = X_train_tensor[i:i + batch_size]\n",
    "            y_batch = y_train_tensor[i:i + batch_size]\n",
    "            optimizer.zero_grad()  # Zero the gradients\n",
    "            outputs = model(X_batch)\n",
    "            loss = criterion(outputs, y_batch)\n",
    "            loss.backward()  # Backpropagation\n",
    "            optimizer.step()  # Optimizer step\n",
    "            pbar.set_postfix(loss=loss.item())  # Display the loss in the progress bar\n",
    "\n",
    "    # Predictions\n",
    "    model.eval()\n",
    "    with torch.no_grad():\n",
    "        y_train_pred = (model(X_train_tensor) > 0.5).float()\n",
    "        y_test_pred = (model(X_test_tensor) > 0.5).float()\n",
    "    \n",
    "    # Accuracy on train and test data\n",
    "    train_accuracy = accuracy_score(y_train_tensor.numpy(), y_train_pred.numpy())\n",
    "    test_accuracy = accuracy_score(y_test_tensor.numpy(), y_test_pred.numpy())\n",
    "    \n",
    "    print(f\"Train Accuracy for Epoch {epoch+1}: {train_accuracy}\")\n",
    "    print(f\"Test Accuracy for Epoch {epoch+1}: {test_accuracy}\")\n",
    " \n",
    "# Predictions\n",
    "model.eval()\n",
    "with torch.no_grad():\n",
    "    y_train_pred = (model(X_train_tensor) > 0.5).float()\n",
    "    y_test_pred = (model(X_test_tensor) > 0.5).float()\n",
    " \n",
    "# Accuracy on train and test data\n",
    "train_accuracy = accuracy_score(y_train_tensor.numpy(), y_train_pred.numpy())\n",
    "test_accuracy = accuracy_score(y_test_tensor.numpy(), y_test_pred.numpy())\n",
    " \n",
    "print(f\"Train Accuracy: {train_accuracy}\")\n",
    "print(f\"Test Accuracy: {test_accuracy}\")\n",
    " "
   ]
  },
  {
   "cell_type": "code",
   "execution_count": null,
   "metadata": {},
   "outputs": [],
   "source": [
    "X_train"
   ]
  },
  {
   "cell_type": "code",
   "execution_count": null,
   "metadata": {},
   "outputs": [],
   "source": [
    "import tensorflow as tf\n",
    "from tensorflow.keras import layers, models # type: ignore\n",
    "from tensorflow.keras.optimizers import Adam\n",
    "from tensorflow.keras.models import Sequential\n",
    "from sklearn.preprocessing import StandardScaler\n",
    "from sklearn.model_selection import train_test_split\n",
    "from sklearn.metrics import accuracy_score\n",
    "\n",
    "\n",
    "\n",
    "\n",
    "# Normalize features\n",
    "scaler = StandardScaler()\n",
    "X_train_scaled = scaler.fit_transform(X_train)\n",
    "X_test_scaled = scaler.transform(X_test)\n",
    "\n",
    "# Define model\n",
    "model = models.Sequential([\n",
    "    layers.Dense(512, activation='relu', input_shape=(X_train.shape[1],)),\n",
    "    layers.BatchNormalization(),\n",
    "    layers.Dropout(0.3),\n",
    "\n",
    "    layers.Dense(256, activation='relu'),\n",
    "    layers.BatchNormalization(),\n",
    "    layers.Dropout(0.3),\n",
    "\n",
    "    layers.Dense(128, activation='relu'),\n",
    "    layers.BatchNormalization(),\n",
    "    layers.Dropout(0.4),\n",
    "\n",
    "    layers.Dense(64, activation='relu'),\n",
    "    layers.BatchNormalization(),\n",
    "    layers.Dropout(0.4),\n",
    "\n",
    "    layers.Dense(1, activation='sigmoid')  # Binary classification\n",
    "])\n",
    "\n",
    "# Use AdamW for better generalization\n",
    "optimizer = optimizers.AdamW(learning_rate=0.001, weight_decay=1e-5)\n",
    "\n",
    "# Compile model\n",
    "model.compile(optimizer=optimizer,\n",
    "              loss='binary_crossentropy',\n",
    "              metrics=['accuracy'])\n",
    "\n",
    "# Learning rate scheduler\n",
    "lr_scheduler = callbacks.ReduceLROnPlateau(monitor='val_loss', factor=0.5, patience=5, min_lr=1e-6)\n",
    "\n",
    "# Train model with smaller batch size to avoid memory issues\n",
    "history = model.fit(X_train_scaled, y_train,\n",
    "                    epochs=30, batch_size=128,  \n",
    "                    validation_data=(X_test_scaled, y_test),\n",
    "                    callbacks=[lr_scheduler])\n",
    "\n",
    "# Predictions\n",
    "y_train_pred = (model.predict(X_train_scaled, batch_size=512) > 0.5).astype(\"int32\")\n",
    "y_test_pred = (model.predict(X_test_scaled, batch_size=512) > 0.5).astype(\"int32\")\n",
    "\n",
    "train_accuracy = accuracy_score(y_train, y_train_pred)\n",
    "test_accuracy = accuracy_score(y_test, y_test_pred)\n",
    "\n",
    "print(f\"Train Accuracy: {train_accuracy:.4f}\")\n",
    "print(f\"Test Accuracy: {test_accuracy:.4f}\")\n"
   ]
  },
  {
   "cell_type": "code",
   "execution_count": null,
   "metadata": {},
   "outputs": [],
   "source": [
    "import tensorflow as tf\n",
    "from tensorflow.keras import layers, models, regularizers\n",
    "from tensorflow.keras.optimizers import Adam\n",
    "from tensorflow.keras.callbacks import EarlyStopping, ReduceLROnPlateau\n",
    "from sklearn.preprocessing import StandardScaler\n",
    "from sklearn.model_selection import train_test_split\n",
    "from sklearn.metrics import accuracy_score\n",
    "\n",
    "# Define the model\n",
    "model = models.Sequential([\n",
    "    layers.InputLayer(input_shape=(X_train.shape[1],)),\n",
    "    \n",
    "    layers.Dense(64, activation=None, kernel_regularizer=regularizers.l2(0.001)),  \n",
    "    layers.BatchNormalization(),\n",
    "    layers.LeakyReLU(),  \n",
    "    layers.Dropout(0.3), \n",
    "    \n",
    "    layers.Dense(128, activation=None, kernel_regularizer=regularizers.l2(0.001)),  \n",
    "    layers.BatchNormalization(),\n",
    "    layers.LeakyReLU(),\n",
    "    layers.Dropout(0.3),\n",
    "    \n",
    "    layers.Dense(32, activation=None, kernel_regularizer=regularizers.l2(0.001)),  \n",
    "    layers.BatchNormalization(),\n",
    "    layers.LeakyReLU(),\n",
    "    layers.Dropout(0.2),\n",
    "    \n",
    "    layers.Dense(1, activation='sigmoid') \n",
    "])\n",
    "\n",
    "model.compile(optimizer=Adam(learning_rate=0.001), \n",
    "              loss='binary_crossentropy', \n",
    "              metrics=['accuracy'])\n",
    "\n",
    "early_stopping = EarlyStopping(monitor='val_loss', patience=5, restore_best_weights=True)\n",
    "reduce_lr = ReduceLROnPlateau(monitor='val_loss', factor=0.5, patience=3)\n",
    "\n",
    "history = model.fit(X_train, y_train, epochs=50, batch_size=64, \n",
    "                    validation_data=(X_test, y_test), \n",
    "                    callbacks=[early_stopping, reduce_lr])\n",
    "\n",
    "# Predictions\n",
    "y_train_pred = (model.predict(X_train) > 0.5).astype(\"int32\")\n",
    "y_test_pred = (model.predict(X_test) > 0.5).astype(\"int32\")\n",
    "\n",
    "# Accuracy on train and test data\n",
    "train_accuracy = accuracy_score(y_train, y_train_pred)\n",
    "test_accuracy = accuracy_score(y_test, y_test_pred)\n",
    "\n",
    "print(f\"Train Accuracy: {train_accuracy}\")\n",
    "print(f\"Test Accuracy: {test_accuracy}\")\n"
   ]
  },
  {
   "cell_type": "code",
   "execution_count": null,
   "metadata": {},
   "outputs": [],
   "source": [
    "y_test_preds = model.predict(X) "
   ]
  },
  {
   "cell_type": "code",
   "execution_count": null,
   "metadata": {},
   "outputs": [],
   "source": [
    "y_test_preds = np.ravel(y_test_preds)\n",
    "\n",
    "submission = pd.DataFrame({'MachineIdentifier': train['MachineIdentifier'], 'HasDetections': y_test_preds})"
   ]
  },
  {
   "cell_type": "code",
   "execution_count": null,
   "metadata": {},
   "outputs": [],
   "source": [
    "submission.to_csv('submission.csv', index=False)"
   ]
  }
 ],
 "metadata": {
  "kernelspec": {
   "display_name": "fai_labs_3.10",
   "language": "python",
   "name": "python3"
  },
  "language_info": {
   "codemirror_mode": {
    "name": "ipython",
    "version": 3
   },
   "file_extension": ".py",
   "mimetype": "text/x-python",
   "name": "python",
   "nbconvert_exporter": "python",
   "pygments_lexer": "ipython3",
   "version": "3.10.14"
  }
 },
 "nbformat": 4,
 "nbformat_minor": 2
}
