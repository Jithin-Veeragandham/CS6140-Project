{
 "cells": [
  {
   "cell_type": "code",
   "execution_count": 1,
   "id": "6679167d-405f-4bf2-861c-c8916282307e",
   "metadata": {},
   "outputs": [
    {
     "name": "stdout",
     "output_type": "stream",
     "text": [
      "Training on mps\n"
     ]
    },
    {
     "name": "stderr",
     "output_type": "stream",
     "text": [
      "Epoch 1/100 - LR: 0.000100: 100%|█████████████████████████████| 3485/3485 [02:22<00:00, 24.51it/s, acc=62.34%, loss=0.6412]\n"
     ]
    },
    {
     "name": "stdout",
     "output_type": "stream",
     "text": [
      "Epoch 1 Loss: 0.6630, Train Accuracy: 60.22%\n",
      "Test Loss: 0.6347, Test Accuracy: 63.14%\n"
     ]
    },
    {
     "name": "stderr",
     "output_type": "stream",
     "text": [
      "Epoch 2/100 - LR: 0.000100: 100%|█████████████████████████████| 3485/3485 [02:18<00:00, 25.09it/s, acc=62.44%, loss=0.6285]\n"
     ]
    },
    {
     "name": "stdout",
     "output_type": "stream",
     "text": [
      "Epoch 2 Loss: 0.6355, Train Accuracy: 63.02%\n",
      "Test Loss: 0.6260, Test Accuracy: 63.88%\n"
     ]
    },
    {
     "name": "stderr",
     "output_type": "stream",
     "text": [
      "Epoch 3/100 - LR: 0.000100: 100%|█████████████████████████████| 3485/3485 [02:18<00:00, 25.22it/s, acc=63.01%, loss=0.6279]\n"
     ]
    },
    {
     "name": "stdout",
     "output_type": "stream",
     "text": [
      "Epoch 3 Loss: 0.6297, Train Accuracy: 63.59%\n",
      "Test Loss: 0.6235, Test Accuracy: 64.17%\n"
     ]
    },
    {
     "name": "stderr",
     "output_type": "stream",
     "text": [
      "Epoch 4/100 - LR: 0.000100: 100%|█████████████████████████████| 3485/3485 [02:18<00:00, 25.18it/s, acc=64.14%, loss=0.6288]\n"
     ]
    },
    {
     "name": "stdout",
     "output_type": "stream",
     "text": [
      "Epoch 4 Loss: 0.6272, Train Accuracy: 63.89%\n",
      "Test Loss: 0.6221, Test Accuracy: 64.29%\n"
     ]
    },
    {
     "name": "stderr",
     "output_type": "stream",
     "text": [
      "Epoch 5/100 - LR: 0.000100: 100%|█████████████████████████████| 3485/3485 [02:17<00:00, 25.35it/s, acc=65.78%, loss=0.6084]\n"
     ]
    },
    {
     "name": "stdout",
     "output_type": "stream",
     "text": [
      "Epoch 5 Loss: 0.6256, Train Accuracy: 64.05%\n",
      "Test Loss: 0.6209, Test Accuracy: 64.48%\n"
     ]
    },
    {
     "name": "stderr",
     "output_type": "stream",
     "text": [
      "Epoch 6/100 - LR: 0.000100: 100%|█████████████████████████████| 3485/3485 [02:18<00:00, 25.19it/s, acc=63.62%, loss=0.6272]\n"
     ]
    },
    {
     "name": "stdout",
     "output_type": "stream",
     "text": [
      "Epoch 6 Loss: 0.6244, Train Accuracy: 64.20%\n",
      "Test Loss: 0.6199, Test Accuracy: 64.57%\n"
     ]
    },
    {
     "name": "stderr",
     "output_type": "stream",
     "text": [
      "Epoch 7/100 - LR: 0.000100: 100%|█████████████████████████████| 3485/3485 [02:16<00:00, 25.51it/s, acc=63.52%, loss=0.6311]\n"
     ]
    },
    {
     "name": "stdout",
     "output_type": "stream",
     "text": [
      "Epoch 7 Loss: 0.6232, Train Accuracy: 64.35%\n",
      "Test Loss: 0.6186, Test Accuracy: 64.74%\n"
     ]
    },
    {
     "name": "stderr",
     "output_type": "stream",
     "text": [
      "Epoch 8/100 - LR: 0.000100: 100%|█████████████████████████████| 3485/3485 [02:17<00:00, 25.43it/s, acc=63.88%, loss=0.6362]\n"
     ]
    },
    {
     "name": "stdout",
     "output_type": "stream",
     "text": [
      "Epoch 8 Loss: 0.6221, Train Accuracy: 64.48%\n",
      "Test Loss: 0.6176, Test Accuracy: 64.86%\n"
     ]
    },
    {
     "name": "stderr",
     "output_type": "stream",
     "text": [
      "Epoch 9/100 - LR: 0.000100: 100%|█████████████████████████████| 3485/3485 [02:18<00:00, 25.20it/s, acc=66.19%, loss=0.6071]\n"
     ]
    },
    {
     "name": "stdout",
     "output_type": "stream",
     "text": [
      "Epoch 9 Loss: 0.6211, Train Accuracy: 64.59%\n",
      "Test Loss: 0.6166, Test Accuracy: 64.98%\n"
     ]
    },
    {
     "name": "stderr",
     "output_type": "stream",
     "text": [
      "Epoch 10/100 - LR: 0.000100: 100%|████████████████████████████| 3485/3485 [02:18<00:00, 25.25it/s, acc=64.44%, loss=0.6198]\n"
     ]
    },
    {
     "name": "stdout",
     "output_type": "stream",
     "text": [
      "Epoch 10 Loss: 0.6202, Train Accuracy: 64.71%\n",
      "Test Loss: 0.6163, Test Accuracy: 64.99%\n"
     ]
    },
    {
     "name": "stderr",
     "output_type": "stream",
     "text": [
      "Epoch 11/100 - LR: 0.000100: 100%|████████████████████████████| 3485/3485 [02:18<00:00, 25.13it/s, acc=66.24%, loss=0.6073]\n"
     ]
    },
    {
     "name": "stdout",
     "output_type": "stream",
     "text": [
      "Epoch 11 Loss: 0.6194, Train Accuracy: 64.78%\n",
      "Test Loss: 0.6152, Test Accuracy: 65.15%\n"
     ]
    },
    {
     "name": "stderr",
     "output_type": "stream",
     "text": [
      "Epoch 12/100 - LR: 0.000100: 100%|████████████████████████████| 3485/3485 [02:17<00:00, 25.27it/s, acc=64.91%, loss=0.6269]\n"
     ]
    },
    {
     "name": "stdout",
     "output_type": "stream",
     "text": [
      "Epoch 12 Loss: 0.6186, Train Accuracy: 64.88%\n",
      "Test Loss: 0.6145, Test Accuracy: 65.23%\n"
     ]
    },
    {
     "name": "stderr",
     "output_type": "stream",
     "text": [
      "Epoch 13/100 - LR: 0.000100: 100%|████████████████████████████| 3485/3485 [02:18<00:00, 25.14it/s, acc=64.85%, loss=0.6123]\n"
     ]
    },
    {
     "name": "stdout",
     "output_type": "stream",
     "text": [
      "Epoch 13 Loss: 0.6181, Train Accuracy: 64.95%\n",
      "Test Loss: 0.6141, Test Accuracy: 65.26%\n"
     ]
    },
    {
     "name": "stderr",
     "output_type": "stream",
     "text": [
      "Epoch 14/100 - LR: 0.000100: 100%|████████████████████████████| 3485/3485 [02:17<00:00, 25.37it/s, acc=63.98%, loss=0.6246]\n"
     ]
    },
    {
     "name": "stdout",
     "output_type": "stream",
     "text": [
      "Epoch 14 Loss: 0.6176, Train Accuracy: 65.01%\n",
      "Test Loss: 0.6135, Test Accuracy: 65.36%\n"
     ]
    },
    {
     "name": "stderr",
     "output_type": "stream",
     "text": [
      "Epoch 15/100 - LR: 0.000100: 100%|████████████████████████████| 3485/3485 [02:18<00:00, 25.12it/s, acc=65.37%, loss=0.6222]\n"
     ]
    },
    {
     "name": "stdout",
     "output_type": "stream",
     "text": [
      "Epoch 15 Loss: 0.6170, Train Accuracy: 65.07%\n",
      "Test Loss: 0.6128, Test Accuracy: 65.44%\n"
     ]
    },
    {
     "name": "stderr",
     "output_type": "stream",
     "text": [
      "Epoch 16/100 - LR: 0.000100: 100%|████████████████████████████| 3485/3485 [02:18<00:00, 25.18it/s, acc=63.16%, loss=0.6369]\n"
     ]
    },
    {
     "name": "stdout",
     "output_type": "stream",
     "text": [
      "Epoch 16 Loss: 0.6165, Train Accuracy: 65.11%\n",
      "Test Loss: 0.6126, Test Accuracy: 65.43%\n"
     ]
    },
    {
     "name": "stderr",
     "output_type": "stream",
     "text": [
      "Epoch 17/100 - LR: 0.000100: 100%|████████████████████████████| 3485/3485 [02:17<00:00, 25.26it/s, acc=64.08%, loss=0.6111]\n"
     ]
    },
    {
     "name": "stdout",
     "output_type": "stream",
     "text": [
      "Epoch 17 Loss: 0.6161, Train Accuracy: 65.18%\n",
      "Test Loss: 0.6121, Test Accuracy: 65.51%\n"
     ]
    },
    {
     "name": "stderr",
     "output_type": "stream",
     "text": [
      "Epoch 18/100 - LR: 0.000100: 100%|████████████████████████████| 3485/3485 [02:17<00:00, 25.28it/s, acc=64.49%, loss=0.6154]\n"
     ]
    },
    {
     "name": "stdout",
     "output_type": "stream",
     "text": [
      "Epoch 18 Loss: 0.6157, Train Accuracy: 65.20%\n",
      "Test Loss: 0.6118, Test Accuracy: 65.54%\n"
     ]
    },
    {
     "name": "stderr",
     "output_type": "stream",
     "text": [
      "Epoch 19/100 - LR: 0.000100: 100%|████████████████████████████| 3485/3485 [02:17<00:00, 25.29it/s, acc=66.34%, loss=0.6116]\n"
     ]
    },
    {
     "name": "stdout",
     "output_type": "stream",
     "text": [
      "Epoch 19 Loss: 0.6154, Train Accuracy: 65.26%\n",
      "Test Loss: 0.6115, Test Accuracy: 65.56%\n"
     ]
    },
    {
     "name": "stderr",
     "output_type": "stream",
     "text": [
      "Epoch 20/100 - LR: 0.000100: 100%|████████████████████████████| 3485/3485 [02:17<00:00, 25.30it/s, acc=65.11%, loss=0.6222]\n"
     ]
    },
    {
     "name": "stdout",
     "output_type": "stream",
     "text": [
      "Epoch 20 Loss: 0.6150, Train Accuracy: 65.29%\n",
      "Test Loss: 0.6111, Test Accuracy: 65.61%\n"
     ]
    },
    {
     "name": "stderr",
     "output_type": "stream",
     "text": [
      "Epoch 21/100 - LR: 0.000100: 100%|████████████████████████████| 3485/3485 [02:17<00:00, 25.30it/s, acc=63.37%, loss=0.6343]\n"
     ]
    },
    {
     "name": "stdout",
     "output_type": "stream",
     "text": [
      "Epoch 21 Loss: 0.6148, Train Accuracy: 65.31%\n",
      "Test Loss: 0.6109, Test Accuracy: 65.63%\n"
     ]
    },
    {
     "name": "stderr",
     "output_type": "stream",
     "text": [
      "Epoch 22/100 - LR: 0.000100: 100%|████████████████████████████| 3485/3485 [02:18<00:00, 25.15it/s, acc=65.37%, loss=0.6082]\n"
     ]
    },
    {
     "name": "stdout",
     "output_type": "stream",
     "text": [
      "Epoch 22 Loss: 0.6145, Train Accuracy: 65.35%\n",
      "Test Loss: 0.6105, Test Accuracy: 65.66%\n"
     ]
    },
    {
     "name": "stderr",
     "output_type": "stream",
     "text": [
      "Epoch 23/100 - LR: 0.000100: 100%|████████████████████████████| 3485/3485 [02:17<00:00, 25.25it/s, acc=64.91%, loss=0.6116]\n"
     ]
    },
    {
     "name": "stdout",
     "output_type": "stream",
     "text": [
      "Epoch 23 Loss: 0.6142, Train Accuracy: 65.36%\n",
      "Test Loss: 0.6102, Test Accuracy: 65.66%\n"
     ]
    },
    {
     "name": "stderr",
     "output_type": "stream",
     "text": [
      "Epoch 24/100 - LR: 0.000100: 100%|████████████████████████████| 3485/3485 [02:18<00:00, 25.23it/s, acc=64.70%, loss=0.6268]\n"
     ]
    },
    {
     "name": "stdout",
     "output_type": "stream",
     "text": [
      "Epoch 24 Loss: 0.6139, Train Accuracy: 65.40%\n",
      "Test Loss: 0.6100, Test Accuracy: 65.73%\n"
     ]
    },
    {
     "name": "stderr",
     "output_type": "stream",
     "text": [
      "Epoch 25/100 - LR: 0.000100: 100%|████████████████████████████| 3485/3485 [02:18<00:00, 25.19it/s, acc=66.39%, loss=0.6116]\n"
     ]
    },
    {
     "name": "stdout",
     "output_type": "stream",
     "text": [
      "Epoch 25 Loss: 0.6138, Train Accuracy: 65.41%\n",
      "Test Loss: 0.6096, Test Accuracy: 65.74%\n"
     ]
    },
    {
     "name": "stderr",
     "output_type": "stream",
     "text": [
      "Epoch 26/100 - LR: 0.000100: 100%|████████████████████████████| 3485/3485 [02:17<00:00, 25.33it/s, acc=66.24%, loss=0.6032]\n"
     ]
    },
    {
     "name": "stdout",
     "output_type": "stream",
     "text": [
      "Epoch 26 Loss: 0.6136, Train Accuracy: 65.44%\n",
      "Test Loss: 0.6096, Test Accuracy: 65.71%\n"
     ]
    },
    {
     "name": "stderr",
     "output_type": "stream",
     "text": [
      "Epoch 27/100 - LR: 0.000100: 100%|████████████████████████████| 3485/3485 [02:18<00:00, 25.13it/s, acc=66.29%, loss=0.6021]\n"
     ]
    },
    {
     "name": "stdout",
     "output_type": "stream",
     "text": [
      "Epoch 27 Loss: 0.6133, Train Accuracy: 65.46%\n",
      "Test Loss: 0.6097, Test Accuracy: 65.75%\n"
     ]
    },
    {
     "name": "stderr",
     "output_type": "stream",
     "text": [
      "Epoch 28/100 - LR: 0.000100: 100%|████████████████████████████| 3485/3485 [02:18<00:00, 25.24it/s, acc=65.32%, loss=0.6086]\n"
     ]
    },
    {
     "name": "stdout",
     "output_type": "stream",
     "text": [
      "Epoch 28 Loss: 0.6131, Train Accuracy: 65.47%\n",
      "Test Loss: 0.6090, Test Accuracy: 65.81%\n"
     ]
    },
    {
     "name": "stderr",
     "output_type": "stream",
     "text": [
      "Epoch 29/100 - LR: 0.000100: 100%|████████████████████████████| 3485/3485 [02:18<00:00, 25.15it/s, acc=65.21%, loss=0.6129]\n"
     ]
    },
    {
     "name": "stdout",
     "output_type": "stream",
     "text": [
      "Epoch 29 Loss: 0.6130, Train Accuracy: 65.50%\n",
      "Test Loss: 0.6093, Test Accuracy: 65.78%\n"
     ]
    },
    {
     "name": "stderr",
     "output_type": "stream",
     "text": [
      "Epoch 30/100 - LR: 0.000100: 100%|████████████████████████████| 3485/3485 [02:17<00:00, 25.35it/s, acc=63.52%, loss=0.6328]\n"
     ]
    },
    {
     "name": "stdout",
     "output_type": "stream",
     "text": [
      "Epoch 30 Loss: 0.6128, Train Accuracy: 65.51%\n",
      "Test Loss: 0.6091, Test Accuracy: 65.80%\n"
     ]
    },
    {
     "name": "stderr",
     "output_type": "stream",
     "text": [
      "Epoch 31/100 - LR: 0.000100: 100%|████████████████████████████| 3485/3485 [02:18<00:00, 25.07it/s, acc=64.14%, loss=0.6265]\n"
     ]
    },
    {
     "name": "stdout",
     "output_type": "stream",
     "text": [
      "Epoch 31 Loss: 0.6126, Train Accuracy: 65.53%\n",
      "Test Loss: 0.6086, Test Accuracy: 65.82%\n"
     ]
    },
    {
     "name": "stderr",
     "output_type": "stream",
     "text": [
      "Epoch 32/100 - LR: 0.000100: 100%|████████████████████████████| 3485/3485 [02:19<00:00, 25.03it/s, acc=66.39%, loss=0.6062]\n"
     ]
    },
    {
     "name": "stdout",
     "output_type": "stream",
     "text": [
      "Epoch 32 Loss: 0.6126, Train Accuracy: 65.54%\n",
      "Test Loss: 0.6087, Test Accuracy: 65.85%\n"
     ]
    },
    {
     "name": "stderr",
     "output_type": "stream",
     "text": [
      "Epoch 33/100 - LR: 0.000100: 100%|████████████████████████████| 3485/3485 [02:22<00:00, 24.52it/s, acc=65.47%, loss=0.6189]\n"
     ]
    },
    {
     "name": "stdout",
     "output_type": "stream",
     "text": [
      "Epoch 33 Loss: 0.6125, Train Accuracy: 65.55%\n",
      "Test Loss: 0.6083, Test Accuracy: 65.86%\n"
     ]
    },
    {
     "name": "stderr",
     "output_type": "stream",
     "text": [
      "Epoch 34/100 - LR: 0.000100: 100%|████████████████████████████| 3485/3485 [02:19<00:00, 24.93it/s, acc=63.62%, loss=0.6242]\n"
     ]
    },
    {
     "name": "stdout",
     "output_type": "stream",
     "text": [
      "Epoch 34 Loss: 0.6124, Train Accuracy: 65.55%\n",
      "Test Loss: 0.6084, Test Accuracy: 65.87%\n"
     ]
    },
    {
     "name": "stderr",
     "output_type": "stream",
     "text": [
      "Epoch 35/100 - LR: 0.000100: 100%|████████████████████████████| 3485/3485 [02:20<00:00, 24.88it/s, acc=66.09%, loss=0.6104]\n"
     ]
    },
    {
     "name": "stdout",
     "output_type": "stream",
     "text": [
      "Epoch 35 Loss: 0.6122, Train Accuracy: 65.56%\n",
      "Test Loss: 0.6082, Test Accuracy: 65.88%\n"
     ]
    },
    {
     "name": "stderr",
     "output_type": "stream",
     "text": [
      "Epoch 36/100 - LR: 0.000100: 100%|████████████████████████████| 3485/3485 [02:20<00:00, 24.84it/s, acc=66.03%, loss=0.6115]\n"
     ]
    },
    {
     "name": "stdout",
     "output_type": "stream",
     "text": [
      "Epoch 36 Loss: 0.6121, Train Accuracy: 65.57%\n",
      "Test Loss: 0.6081, Test Accuracy: 65.85%\n"
     ]
    },
    {
     "name": "stderr",
     "output_type": "stream",
     "text": [
      "Epoch 37/100 - LR: 0.000100: 100%|████████████████████████████| 3485/3485 [02:17<00:00, 25.33it/s, acc=64.75%, loss=0.6245]\n"
     ]
    },
    {
     "name": "stdout",
     "output_type": "stream",
     "text": [
      "Epoch 37 Loss: 0.6121, Train Accuracy: 65.57%\n",
      "Test Loss: 0.6080, Test Accuracy: 65.89%\n"
     ]
    },
    {
     "name": "stderr",
     "output_type": "stream",
     "text": [
      "Epoch 38/100 - LR: 0.000100: 100%|████████████████████████████| 3485/3485 [02:18<00:00, 25.19it/s, acc=66.34%, loss=0.6142]\n"
     ]
    },
    {
     "name": "stdout",
     "output_type": "stream",
     "text": [
      "Epoch 38 Loss: 0.6120, Train Accuracy: 65.59%\n",
      "Test Loss: 0.6079, Test Accuracy: 65.91%\n"
     ]
    },
    {
     "name": "stderr",
     "output_type": "stream",
     "text": [
      "Epoch 39/100 - LR: 0.000100: 100%|████████████████████████████| 3485/3485 [02:17<00:00, 25.26it/s, acc=66.50%, loss=0.6076]\n"
     ]
    },
    {
     "name": "stdout",
     "output_type": "stream",
     "text": [
      "Epoch 39 Loss: 0.6118, Train Accuracy: 65.61%\n",
      "Test Loss: 0.6078, Test Accuracy: 65.93%\n"
     ]
    },
    {
     "name": "stderr",
     "output_type": "stream",
     "text": [
      "Epoch 40/100 - LR: 0.000100: 100%|████████████████████████████| 3485/3485 [02:18<00:00, 25.21it/s, acc=65.42%, loss=0.6174]\n"
     ]
    },
    {
     "name": "stdout",
     "output_type": "stream",
     "text": [
      "Epoch 40 Loss: 0.6118, Train Accuracy: 65.62%\n",
      "Test Loss: 0.6079, Test Accuracy: 65.90%\n"
     ]
    },
    {
     "name": "stderr",
     "output_type": "stream",
     "text": [
      "Epoch 41/100 - LR: 0.000100: 100%|████████████████████████████| 3485/3485 [02:17<00:00, 25.27it/s, acc=67.27%, loss=0.6033]\n"
     ]
    },
    {
     "name": "stdout",
     "output_type": "stream",
     "text": [
      "Epoch 41 Loss: 0.6116, Train Accuracy: 65.64%\n",
      "Test Loss: 0.6078, Test Accuracy: 65.93%\n"
     ]
    },
    {
     "name": "stderr",
     "output_type": "stream",
     "text": [
      "Epoch 42/100 - LR: 0.000100: 100%|████████████████████████████| 3485/3485 [02:19<00:00, 24.98it/s, acc=67.52%, loss=0.5968]\n"
     ]
    },
    {
     "name": "stdout",
     "output_type": "stream",
     "text": [
      "Epoch 42 Loss: 0.6116, Train Accuracy: 65.64%\n",
      "Test Loss: 0.6076, Test Accuracy: 65.94%\n"
     ]
    },
    {
     "name": "stderr",
     "output_type": "stream",
     "text": [
      "Epoch 43/100 - LR: 0.000100: 100%|████████████████████████████| 3485/3485 [02:20<00:00, 24.82it/s, acc=65.11%, loss=0.6121]\n"
     ]
    },
    {
     "name": "stdout",
     "output_type": "stream",
     "text": [
      "Epoch 43 Loss: 0.6116, Train Accuracy: 65.63%\n",
      "Test Loss: 0.6074, Test Accuracy: 65.95%\n"
     ]
    },
    {
     "name": "stderr",
     "output_type": "stream",
     "text": [
      "Epoch 44/100 - LR: 0.000100: 100%|████████████████████████████| 3485/3485 [02:19<00:00, 24.92it/s, acc=65.47%, loss=0.6157]\n"
     ]
    },
    {
     "name": "stdout",
     "output_type": "stream",
     "text": [
      "Epoch 44 Loss: 0.6114, Train Accuracy: 65.65%\n",
      "Test Loss: 0.6076, Test Accuracy: 65.93%\n"
     ]
    },
    {
     "name": "stderr",
     "output_type": "stream",
     "text": [
      "Epoch 45/100 - LR: 0.000100: 100%|████████████████████████████| 3485/3485 [02:20<00:00, 24.82it/s, acc=66.39%, loss=0.6196]\n"
     ]
    },
    {
     "name": "stdout",
     "output_type": "stream",
     "text": [
      "Epoch 45 Loss: 0.6115, Train Accuracy: 65.65%\n",
      "Test Loss: 0.6076, Test Accuracy: 65.97%\n"
     ]
    },
    {
     "name": "stderr",
     "output_type": "stream",
     "text": [
      "Epoch 46/100 - LR: 0.000100: 100%|████████████████████████████| 3485/3485 [02:20<00:00, 24.86it/s, acc=65.67%, loss=0.6055]\n"
     ]
    },
    {
     "name": "stdout",
     "output_type": "stream",
     "text": [
      "Epoch 46 Loss: 0.6114, Train Accuracy: 65.66%\n",
      "Test Loss: 0.6075, Test Accuracy: 65.98%\n",
      "Learning rate changed from 0.000100 to 0.000050\n"
     ]
    },
    {
     "name": "stderr",
     "output_type": "stream",
     "text": [
      "Epoch 47/100 - LR: 0.000050: 100%|████████████████████████████| 3485/3485 [02:20<00:00, 24.88it/s, acc=66.29%, loss=0.6042]\n"
     ]
    },
    {
     "name": "stdout",
     "output_type": "stream",
     "text": [
      "Epoch 47 Loss: 0.6099, Train Accuracy: 65.80%\n",
      "Test Loss: 0.6064, Test Accuracy: 66.06%\n"
     ]
    },
    {
     "name": "stderr",
     "output_type": "stream",
     "text": [
      "Epoch 48/100 - LR: 0.000050: 100%|████████████████████████████| 3485/3485 [02:20<00:00, 24.81it/s, acc=66.34%, loss=0.6163]\n"
     ]
    },
    {
     "name": "stdout",
     "output_type": "stream",
     "text": [
      "Epoch 48 Loss: 0.6094, Train Accuracy: 65.84%\n",
      "Test Loss: 0.6059, Test Accuracy: 66.10%\n"
     ]
    },
    {
     "name": "stderr",
     "output_type": "stream",
     "text": [
      "Epoch 49/100 - LR: 0.000050: 100%|████████████████████████████| 3485/3485 [02:20<00:00, 24.85it/s, acc=64.44%, loss=0.6217]\n"
     ]
    },
    {
     "name": "stdout",
     "output_type": "stream",
     "text": [
      "Epoch 49 Loss: 0.6092, Train Accuracy: 65.89%\n",
      "Test Loss: 0.6060, Test Accuracy: 66.08%\n"
     ]
    },
    {
     "name": "stderr",
     "output_type": "stream",
     "text": [
      "Epoch 50/100 - LR: 0.000050: 100%|████████████████████████████| 3485/3485 [02:20<00:00, 24.81it/s, acc=65.62%, loss=0.6015]\n"
     ]
    },
    {
     "name": "stdout",
     "output_type": "stream",
     "text": [
      "Epoch 50 Loss: 0.6091, Train Accuracy: 65.88%\n",
      "Test Loss: 0.6059, Test Accuracy: 66.08%\n"
     ]
    },
    {
     "name": "stderr",
     "output_type": "stream",
     "text": [
      "Epoch 51/100 - LR: 0.000050: 100%|████████████████████████████| 3485/3485 [02:20<00:00, 24.88it/s, acc=65.98%, loss=0.6038]\n"
     ]
    },
    {
     "name": "stdout",
     "output_type": "stream",
     "text": [
      "Epoch 51 Loss: 0.6089, Train Accuracy: 65.90%\n",
      "Test Loss: 0.6058, Test Accuracy: 66.11%\n"
     ]
    },
    {
     "name": "stderr",
     "output_type": "stream",
     "text": [
      "Epoch 52/100 - LR: 0.000050: 100%|████████████████████████████| 3485/3485 [02:19<00:00, 24.94it/s, acc=65.57%, loss=0.6181]\n"
     ]
    },
    {
     "name": "stdout",
     "output_type": "stream",
     "text": [
      "Epoch 52 Loss: 0.6089, Train Accuracy: 65.90%\n",
      "Test Loss: 0.6058, Test Accuracy: 66.11%\n"
     ]
    },
    {
     "name": "stderr",
     "output_type": "stream",
     "text": [
      "Epoch 53/100 - LR: 0.000050: 100%|████████████████████████████| 3485/3485 [02:20<00:00, 24.81it/s, acc=66.39%, loss=0.6130]\n"
     ]
    },
    {
     "name": "stdout",
     "output_type": "stream",
     "text": [
      "Epoch 53 Loss: 0.6088, Train Accuracy: 65.91%\n",
      "Test Loss: 0.6055, Test Accuracy: 66.13%\n"
     ]
    },
    {
     "name": "stderr",
     "output_type": "stream",
     "text": [
      "Epoch 54/100 - LR: 0.000050: 100%|████████████████████████████| 3485/3485 [02:20<00:00, 24.80it/s, acc=67.01%, loss=0.5957]\n"
     ]
    },
    {
     "name": "stdout",
     "output_type": "stream",
     "text": [
      "Epoch 54 Loss: 0.6087, Train Accuracy: 65.93%\n",
      "Test Loss: 0.6054, Test Accuracy: 66.16%\n"
     ]
    },
    {
     "name": "stderr",
     "output_type": "stream",
     "text": [
      "Epoch 55/100 - LR: 0.000050: 100%|████████████████████████████| 3485/3485 [02:19<00:00, 24.95it/s, acc=66.14%, loss=0.6024]\n"
     ]
    },
    {
     "name": "stdout",
     "output_type": "stream",
     "text": [
      "Epoch 55 Loss: 0.6087, Train Accuracy: 65.92%\n",
      "Test Loss: 0.6056, Test Accuracy: 66.16%\n"
     ]
    },
    {
     "name": "stderr",
     "output_type": "stream",
     "text": [
      "Epoch 56/100 - LR: 0.000050: 100%|████████████████████████████| 3485/3485 [02:20<00:00, 24.85it/s, acc=67.73%, loss=0.5964]\n"
     ]
    },
    {
     "name": "stdout",
     "output_type": "stream",
     "text": [
      "Epoch 56 Loss: 0.6085, Train Accuracy: 65.95%\n",
      "Test Loss: 0.6054, Test Accuracy: 66.16%\n"
     ]
    },
    {
     "name": "stderr",
     "output_type": "stream",
     "text": [
      "Epoch 57/100 - LR: 0.000050: 100%|████████████████████████████| 3485/3485 [02:19<00:00, 24.94it/s, acc=69.52%, loss=0.5966]\n"
     ]
    },
    {
     "name": "stdout",
     "output_type": "stream",
     "text": [
      "Epoch 57 Loss: 0.6086, Train Accuracy: 65.94%\n",
      "Test Loss: 0.6055, Test Accuracy: 66.14%\n",
      "Learning rate changed from 0.000050 to 0.000025\n"
     ]
    },
    {
     "name": "stderr",
     "output_type": "stream",
     "text": [
      "Epoch 58/100 - LR: 0.000025: 100%|████████████████████████████| 3485/3485 [02:20<00:00, 24.79it/s, acc=65.98%, loss=0.6156]\n"
     ]
    },
    {
     "name": "stdout",
     "output_type": "stream",
     "text": [
      "Epoch 58 Loss: 0.6076, Train Accuracy: 66.02%\n",
      "Test Loss: 0.6049, Test Accuracy: 66.20%\n"
     ]
    },
    {
     "name": "stderr",
     "output_type": "stream",
     "text": [
      "Epoch 59/100 - LR: 0.000025: 100%|████████████████████████████| 3485/3485 [02:19<00:00, 24.91it/s, acc=66.70%, loss=0.6123]\n"
     ]
    },
    {
     "name": "stdout",
     "output_type": "stream",
     "text": [
      "Epoch 59 Loss: 0.6073, Train Accuracy: 66.06%\n",
      "Test Loss: 0.6048, Test Accuracy: 66.21%\n"
     ]
    },
    {
     "name": "stderr",
     "output_type": "stream",
     "text": [
      "Epoch 60/100 - LR: 0.000025: 100%|████████████████████████████| 3485/3485 [02:19<00:00, 24.91it/s, acc=66.09%, loss=0.5938]\n"
     ]
    },
    {
     "name": "stdout",
     "output_type": "stream",
     "text": [
      "Epoch 60 Loss: 0.6072, Train Accuracy: 66.05%\n",
      "Test Loss: 0.6046, Test Accuracy: 66.23%\n"
     ]
    },
    {
     "name": "stderr",
     "output_type": "stream",
     "text": [
      "Epoch 61/100 - LR: 0.000025: 100%|████████████████████████████| 3485/3485 [02:20<00:00, 24.84it/s, acc=65.01%, loss=0.6131]\n"
     ]
    },
    {
     "name": "stdout",
     "output_type": "stream",
     "text": [
      "Epoch 61 Loss: 0.6071, Train Accuracy: 66.10%\n",
      "Test Loss: 0.6047, Test Accuracy: 66.23%\n"
     ]
    },
    {
     "name": "stderr",
     "output_type": "stream",
     "text": [
      "Epoch 62/100 - LR: 0.000025: 100%|████████████████████████████| 3485/3485 [02:20<00:00, 24.88it/s, acc=67.06%, loss=0.5993]\n"
     ]
    },
    {
     "name": "stdout",
     "output_type": "stream",
     "text": [
      "Epoch 62 Loss: 0.6069, Train Accuracy: 66.08%\n",
      "Test Loss: 0.6046, Test Accuracy: 66.23%\n"
     ]
    },
    {
     "name": "stderr",
     "output_type": "stream",
     "text": [
      "Epoch 63/100 - LR: 0.000025: 100%|████████████████████████████| 3485/3485 [02:19<00:00, 24.90it/s, acc=66.34%, loss=0.6067]\n"
     ]
    },
    {
     "name": "stdout",
     "output_type": "stream",
     "text": [
      "Epoch 63 Loss: 0.6068, Train Accuracy: 66.10%\n",
      "Test Loss: 0.6046, Test Accuracy: 66.23%\n"
     ]
    },
    {
     "name": "stderr",
     "output_type": "stream",
     "text": [
      "Epoch 64/100 - LR: 0.000025: 100%|████████████████████████████| 3485/3485 [02:19<00:00, 24.90it/s, acc=66.85%, loss=0.5912]\n"
     ]
    },
    {
     "name": "stdout",
     "output_type": "stream",
     "text": [
      "Epoch 64 Loss: 0.6068, Train Accuracy: 66.10%\n",
      "Test Loss: 0.6045, Test Accuracy: 66.24%\n"
     ]
    },
    {
     "name": "stderr",
     "output_type": "stream",
     "text": [
      "Epoch 65/100 - LR: 0.000025: 100%|████████████████████████████| 3485/3485 [02:20<00:00, 24.87it/s, acc=67.16%, loss=0.5917]\n"
     ]
    },
    {
     "name": "stdout",
     "output_type": "stream",
     "text": [
      "Epoch 65 Loss: 0.6067, Train Accuracy: 66.11%\n",
      "Test Loss: 0.6044, Test Accuracy: 66.24%\n"
     ]
    },
    {
     "name": "stderr",
     "output_type": "stream",
     "text": [
      "Epoch 66/100 - LR: 0.000025: 100%|████████████████████████████| 3485/3485 [02:20<00:00, 24.84it/s, acc=65.88%, loss=0.5991]\n"
     ]
    },
    {
     "name": "stdout",
     "output_type": "stream",
     "text": [
      "Epoch 66 Loss: 0.6067, Train Accuracy: 66.11%\n",
      "Test Loss: 0.6045, Test Accuracy: 66.25%\n"
     ]
    },
    {
     "name": "stderr",
     "output_type": "stream",
     "text": [
      "Epoch 67/100 - LR: 0.000025: 100%|████████████████████████████| 3485/3485 [02:21<00:00, 24.68it/s, acc=65.78%, loss=0.6077]\n"
     ]
    },
    {
     "name": "stdout",
     "output_type": "stream",
     "text": [
      "Epoch 67 Loss: 0.6066, Train Accuracy: 66.12%\n",
      "Test Loss: 0.6044, Test Accuracy: 66.25%\n"
     ]
    },
    {
     "name": "stderr",
     "output_type": "stream",
     "text": [
      "Epoch 68/100 - LR: 0.000025: 100%|████████████████████████████| 3485/3485 [02:20<00:00, 24.88it/s, acc=65.93%, loss=0.6030]\n"
     ]
    },
    {
     "name": "stdout",
     "output_type": "stream",
     "text": [
      "Epoch 68 Loss: 0.6066, Train Accuracy: 66.13%\n",
      "Test Loss: 0.6044, Test Accuracy: 66.25%\n"
     ]
    },
    {
     "name": "stderr",
     "output_type": "stream",
     "text": [
      "Epoch 69/100 - LR: 0.000025: 100%|████████████████████████████| 3485/3485 [02:19<00:00, 24.92it/s, acc=66.14%, loss=0.6075]\n"
     ]
    },
    {
     "name": "stdout",
     "output_type": "stream",
     "text": [
      "Epoch 69 Loss: 0.6065, Train Accuracy: 66.11%\n",
      "Test Loss: 0.6045, Test Accuracy: 66.23%\n"
     ]
    },
    {
     "name": "stderr",
     "output_type": "stream",
     "text": [
      "Epoch 70/100 - LR: 0.000025: 100%|████████████████████████████| 3485/3485 [02:20<00:00, 24.88it/s, acc=65.26%, loss=0.6015]\n"
     ]
    },
    {
     "name": "stdout",
     "output_type": "stream",
     "text": [
      "Epoch 70 Loss: 0.6065, Train Accuracy: 66.14%\n",
      "Test Loss: 0.6043, Test Accuracy: 66.25%\n",
      "Learning rate changed from 0.000025 to 0.000013\n"
     ]
    },
    {
     "name": "stderr",
     "output_type": "stream",
     "text": [
      "Epoch 71/100 - LR: 0.000013: 100%|████████████████████████████| 3485/3485 [02:20<00:00, 24.84it/s, acc=66.39%, loss=0.6143]\n"
     ]
    },
    {
     "name": "stdout",
     "output_type": "stream",
     "text": [
      "Epoch 71 Loss: 0.6060, Train Accuracy: 66.18%\n",
      "Test Loss: 0.6040, Test Accuracy: 66.29%\n"
     ]
    },
    {
     "name": "stderr",
     "output_type": "stream",
     "text": [
      "Epoch 72/100 - LR: 0.000013: 100%|████████████████████████████| 3485/3485 [02:20<00:00, 24.80it/s, acc=66.03%, loss=0.6021]\n"
     ]
    },
    {
     "name": "stdout",
     "output_type": "stream",
     "text": [
      "Epoch 72 Loss: 0.6057, Train Accuracy: 66.19%\n",
      "Test Loss: 0.6040, Test Accuracy: 66.30%\n"
     ]
    },
    {
     "name": "stderr",
     "output_type": "stream",
     "text": [
      "Epoch 73/100 - LR: 0.000013: 100%|████████████████████████████| 3485/3485 [02:19<00:00, 24.98it/s, acc=64.75%, loss=0.6024]\n"
     ]
    },
    {
     "name": "stdout",
     "output_type": "stream",
     "text": [
      "Epoch 73 Loss: 0.6057, Train Accuracy: 66.22%\n",
      "Test Loss: 0.6040, Test Accuracy: 66.28%\n"
     ]
    },
    {
     "name": "stderr",
     "output_type": "stream",
     "text": [
      "Epoch 74/100 - LR: 0.000013: 100%|████████████████████████████| 3485/3485 [02:19<00:00, 24.89it/s, acc=67.78%, loss=0.6060]\n"
     ]
    },
    {
     "name": "stdout",
     "output_type": "stream",
     "text": [
      "Epoch 74 Loss: 0.6056, Train Accuracy: 66.23%\n",
      "Test Loss: 0.6040, Test Accuracy: 66.28%\n",
      "Learning rate changed from 0.000013 to 0.000006\n"
     ]
    },
    {
     "name": "stderr",
     "output_type": "stream",
     "text": [
      "Epoch 75/100 - LR: 0.000006: 100%|████████████████████████████| 3485/3485 [02:19<00:00, 24.90it/s, acc=66.85%, loss=0.6050]\n"
     ]
    },
    {
     "name": "stdout",
     "output_type": "stream",
     "text": [
      "Epoch 75 Loss: 0.6053, Train Accuracy: 66.25%\n",
      "Test Loss: 0.6038, Test Accuracy: 66.30%\n"
     ]
    },
    {
     "name": "stderr",
     "output_type": "stream",
     "text": [
      "Epoch 76/100 - LR: 0.000006: 100%|████████████████████████████| 3485/3485 [02:20<00:00, 24.82it/s, acc=63.88%, loss=0.6227]\n"
     ]
    },
    {
     "name": "stdout",
     "output_type": "stream",
     "text": [
      "Epoch 76 Loss: 0.6052, Train Accuracy: 66.26%\n",
      "Test Loss: 0.6037, Test Accuracy: 66.29%\n"
     ]
    },
    {
     "name": "stderr",
     "output_type": "stream",
     "text": [
      "Epoch 77/100 - LR: 0.000006: 100%|████████████████████████████| 3485/3485 [02:20<00:00, 24.83it/s, acc=68.39%, loss=0.5961]\n"
     ]
    },
    {
     "name": "stdout",
     "output_type": "stream",
     "text": [
      "Epoch 77 Loss: 0.6051, Train Accuracy: 66.26%\n",
      "Test Loss: 0.6038, Test Accuracy: 66.31%\n"
     ]
    },
    {
     "name": "stderr",
     "output_type": "stream",
     "text": [
      "Epoch 78/100 - LR: 0.000006: 100%|████████████████████████████| 3485/3485 [02:20<00:00, 24.88it/s, acc=68.39%, loss=0.5994]\n"
     ]
    },
    {
     "name": "stdout",
     "output_type": "stream",
     "text": [
      "Epoch 78 Loss: 0.6051, Train Accuracy: 66.27%\n",
      "Test Loss: 0.6038, Test Accuracy: 66.30%\n",
      "Learning rate changed from 0.000006 to 0.000003\n"
     ]
    },
    {
     "name": "stderr",
     "output_type": "stream",
     "text": [
      "Epoch 79/100 - LR: 0.000003: 100%|████████████████████████████| 3485/3485 [02:19<00:00, 24.94it/s, acc=67.32%, loss=0.5991]\n"
     ]
    },
    {
     "name": "stdout",
     "output_type": "stream",
     "text": [
      "Epoch 79 Loss: 0.6049, Train Accuracy: 66.30%\n",
      "Test Loss: 0.6037, Test Accuracy: 66.31%\n"
     ]
    },
    {
     "name": "stderr",
     "output_type": "stream",
     "text": [
      "Epoch 80/100 - LR: 0.000003: 100%|████████████████████████████| 3485/3485 [02:20<00:00, 24.85it/s, acc=65.88%, loss=0.6081]\n"
     ]
    },
    {
     "name": "stdout",
     "output_type": "stream",
     "text": [
      "Epoch 80 Loss: 0.6049, Train Accuracy: 66.30%\n",
      "Test Loss: 0.6037, Test Accuracy: 66.31%\n"
     ]
    },
    {
     "name": "stderr",
     "output_type": "stream",
     "text": [
      "Epoch 81/100 - LR: 0.000003: 100%|████████████████████████████| 3485/3485 [02:20<00:00, 24.89it/s, acc=67.16%, loss=0.5929]\n"
     ]
    },
    {
     "name": "stdout",
     "output_type": "stream",
     "text": [
      "Epoch 81 Loss: 0.6048, Train Accuracy: 66.28%\n",
      "Test Loss: 0.6036, Test Accuracy: 66.31%\n"
     ]
    },
    {
     "name": "stderr",
     "output_type": "stream",
     "text": [
      "Epoch 82/100 - LR: 0.000003: 100%|████████████████████████████| 3485/3485 [02:21<00:00, 24.55it/s, acc=66.85%, loss=0.5991]\n"
     ]
    },
    {
     "name": "stdout",
     "output_type": "stream",
     "text": [
      "Epoch 82 Loss: 0.6048, Train Accuracy: 66.28%\n",
      "Test Loss: 0.6036, Test Accuracy: 66.30%\n",
      "Learning rate changed from 0.000003 to 0.000002\n"
     ]
    },
    {
     "name": "stderr",
     "output_type": "stream",
     "text": [
      "Epoch 83/100 - LR: 0.000002: 100%|████████████████████████████| 3485/3485 [02:22<00:00, 24.54it/s, acc=65.93%, loss=0.6023]\n"
     ]
    },
    {
     "name": "stdout",
     "output_type": "stream",
     "text": [
      "Epoch 83 Loss: 0.6047, Train Accuracy: 66.29%\n",
      "Test Loss: 0.6036, Test Accuracy: 66.31%\n"
     ]
    },
    {
     "name": "stderr",
     "output_type": "stream",
     "text": [
      "Epoch 84/100 - LR: 0.000002: 100%|████████████████████████████| 3485/3485 [02:22<00:00, 24.45it/s, acc=65.78%, loss=0.6137]\n"
     ]
    },
    {
     "name": "stdout",
     "output_type": "stream",
     "text": [
      "Epoch 84 Loss: 0.6047, Train Accuracy: 66.31%\n",
      "Test Loss: 0.6036, Test Accuracy: 66.30%\n"
     ]
    },
    {
     "name": "stderr",
     "output_type": "stream",
     "text": [
      "Epoch 85/100 - LR: 0.000002: 100%|████████████████████████████| 3485/3485 [02:21<00:00, 24.67it/s, acc=66.85%, loss=0.5975]\n"
     ]
    },
    {
     "name": "stdout",
     "output_type": "stream",
     "text": [
      "Epoch 85 Loss: 0.6046, Train Accuracy: 66.32%\n",
      "Test Loss: 0.6036, Test Accuracy: 66.30%\n"
     ]
    },
    {
     "name": "stderr",
     "output_type": "stream",
     "text": [
      "Epoch 86/100 - LR: 0.000002: 100%|████████████████████████████| 3485/3485 [02:19<00:00, 25.02it/s, acc=66.75%, loss=0.5899]\n"
     ]
    },
    {
     "name": "stdout",
     "output_type": "stream",
     "text": [
      "Epoch 86 Loss: 0.6046, Train Accuracy: 66.31%\n",
      "Test Loss: 0.6036, Test Accuracy: 66.31%\n",
      "Learning rate changed from 0.000002 to 0.000001\n"
     ]
    },
    {
     "name": "stderr",
     "output_type": "stream",
     "text": [
      "Epoch 87/100 - LR: 0.000001: 100%|████████████████████████████| 3485/3485 [02:20<00:00, 24.88it/s, acc=65.52%, loss=0.6078]\n"
     ]
    },
    {
     "name": "stdout",
     "output_type": "stream",
     "text": [
      "Epoch 87 Loss: 0.6047, Train Accuracy: 66.31%\n",
      "Test Loss: 0.6036, Test Accuracy: 66.31%\n"
     ]
    },
    {
     "name": "stderr",
     "output_type": "stream",
     "text": [
      "Epoch 88/100 - LR: 0.000001: 100%|████████████████████████████| 3485/3485 [02:20<00:00, 24.86it/s, acc=68.29%, loss=0.5964]\n"
     ]
    },
    {
     "name": "stdout",
     "output_type": "stream",
     "text": [
      "Epoch 88 Loss: 0.6046, Train Accuracy: 66.32%\n",
      "Test Loss: 0.6036, Test Accuracy: 66.32%\n"
     ]
    },
    {
     "name": "stderr",
     "output_type": "stream",
     "text": [
      "Epoch 89/100 - LR: 0.000001: 100%|████████████████████████████| 3485/3485 [02:20<00:00, 24.88it/s, acc=66.96%, loss=0.6038]\n"
     ]
    },
    {
     "name": "stdout",
     "output_type": "stream",
     "text": [
      "Epoch 89 Loss: 0.6046, Train Accuracy: 66.33%\n",
      "Test Loss: 0.6036, Test Accuracy: 66.31%\n",
      "Learning rate changed from 0.000001 to 0.000000\n"
     ]
    },
    {
     "name": "stderr",
     "output_type": "stream",
     "text": [
      "Epoch 90/100 - LR: 0.000000: 100%|████████████████████████████| 3485/3485 [02:20<00:00, 24.87it/s, acc=67.16%, loss=0.5896]\n"
     ]
    },
    {
     "name": "stdout",
     "output_type": "stream",
     "text": [
      "Epoch 90 Loss: 0.6046, Train Accuracy: 66.31%\n",
      "Test Loss: 0.6036, Test Accuracy: 66.32%\n"
     ]
    },
    {
     "name": "stderr",
     "output_type": "stream",
     "text": [
      "Epoch 91/100 - LR: 0.000000: 100%|████████████████████████████| 3485/3485 [02:20<00:00, 24.85it/s, acc=63.62%, loss=0.6187]\n"
     ]
    },
    {
     "name": "stdout",
     "output_type": "stream",
     "text": [
      "Epoch 91 Loss: 0.6045, Train Accuracy: 66.32%\n",
      "Test Loss: 0.6036, Test Accuracy: 66.31%\n"
     ]
    },
    {
     "name": "stderr",
     "output_type": "stream",
     "text": [
      "Epoch 92/100 - LR: 0.000000: 100%|████████████████████████████| 3485/3485 [02:20<00:00, 24.81it/s, acc=66.65%, loss=0.5908]\n"
     ]
    },
    {
     "name": "stdout",
     "output_type": "stream",
     "text": [
      "Epoch 92 Loss: 0.6046, Train Accuracy: 66.30%\n",
      "Test Loss: 0.6036, Test Accuracy: 66.32%\n",
      "Learning rate changed from 0.000000 to 0.000000\n"
     ]
    },
    {
     "name": "stderr",
     "output_type": "stream",
     "text": [
      "Epoch 93/100 - LR: 0.000000: 100%|████████████████████████████| 3485/3485 [02:20<00:00, 24.87it/s, acc=66.96%, loss=0.6002]\n"
     ]
    },
    {
     "name": "stdout",
     "output_type": "stream",
     "text": [
      "Epoch 93 Loss: 0.6046, Train Accuracy: 66.31%\n",
      "Test Loss: 0.6036, Test Accuracy: 66.31%\n"
     ]
    },
    {
     "name": "stderr",
     "output_type": "stream",
     "text": [
      "Epoch 94/100 - LR: 0.000000: 100%|████████████████████████████| 3485/3485 [02:20<00:00, 24.88it/s, acc=67.78%, loss=0.5883]\n"
     ]
    },
    {
     "name": "stdout",
     "output_type": "stream",
     "text": [
      "Epoch 94 Loss: 0.6046, Train Accuracy: 66.32%\n",
      "Test Loss: 0.6036, Test Accuracy: 66.30%\n"
     ]
    },
    {
     "name": "stderr",
     "output_type": "stream",
     "text": [
      "Epoch 95/100 - LR: 0.000000: 100%|████████████████████████████| 3485/3485 [02:20<00:00, 24.89it/s, acc=66.39%, loss=0.6007]\n"
     ]
    },
    {
     "name": "stdout",
     "output_type": "stream",
     "text": [
      "Epoch 95 Loss: 0.6046, Train Accuracy: 66.32%\n",
      "Test Loss: 0.6036, Test Accuracy: 66.31%\n",
      "Learning rate changed from 0.000000 to 0.000000\n",
      "Early stopping triggered at epoch 95. Best model was from epoch 88.\n"
     ]
    }
   ],
   "source": [
    "import torch\n",
    "import torch.nn as nn\n",
    "import torch.optim as optim\n",
    "import numpy as np\n",
    "import pandas as pd\n",
    "from tqdm import tqdm\n",
    "from torch.utils.data import DataLoader, TensorDataset\n",
    "import helper_functions\n",
    "import importlib\n",
    "import os\n",
    "\n",
    "train_dtypes=test_dtypes=dtypes = {\n",
    "    'ProductName':                                                  'float32',\n",
    "    'IsBeta':                                                       'float32',\n",
    "    'RtpStateBitfield':                                             'float32',\n",
    "    'IsSxsPassiveMode':                                             'float32',\n",
    "    'DefaultBrowsersIdentifier':                                    'float32',\n",
    "    'AVProductStatesIdentifier':                                    'float32',\n",
    "    'AVProductsInstalled':                                          'float32',\n",
    "    'AVProductsEnabled':                                            'float32',\n",
    "    'HasTpm':                                                       'float32',\n",
    "    'CountryIdentifier':                                            'float32',\n",
    "    'CityIdentifier':                                               'float32',\n",
    "    'OrganizationIdentifier':                                       'float32',\n",
    "    'GeoNameIdentifier':                                            'float32',\n",
    "    'LocaleEnglishNameIdentifier':                                  'float32',\n",
    "    'Platform':                                                     'float32',\n",
    "    'Processor':                                                    'float32',\n",
    "    'OsVer':                                                        'float32',\n",
    "    'OsBuild':                                                      'float32',\n",
    "    'OsSuite':                                                      'float32',\n",
    "    'OsPlatformSubRelease':                                         'float32',\n",
    "    'OsBuildLab':                                                   'float32',\n",
    "    'SkuEdition':                                                   'float32',\n",
    "    'IsProtected':                                                  'float32',\n",
    "    'AutoSampleOptIn':                                              'float32',\n",
    "    'PuaMode':                                                      'float32',\n",
    "    'SMode':                                                        'float32',\n",
    "    'IeVerIdentifier':                                              'float32',\n",
    "    'SmartScreen':                                                  'float32',\n",
    "    'Firewall':                                                     'float32',\n",
    "    'UacLuaenable':                                                 'float32',\n",
    "    'Census_MDC2FormFactor':                                        'float32',\n",
    "    'Census_DeviceFamily':                                          'float32',\n",
    "    'Census_OEMNameIdentifier':                                     'float32',\n",
    "    'Census_OEMModelIdentifier':                                    'float32',\n",
    "    'Census_ProcessorCoreCount':                                    'float32',\n",
    "    'Census_ProcessorManufacturerIdentifier':                       'float32',\n",
    "    'Census_ProcessorModelIdentifier':                              'float32',\n",
    "    'Census_ProcessorClass':                                        'float32',\n",
    "    'Census_PrimaryDiskTotalCapacity':                              'float32',\n",
    "    'Census_PrimaryDiskTypeName':                                   'float32',\n",
    "    'Census_SystemVolumeTotalCapacity':                             'float32',\n",
    "    'Census_HasOpticalDiskDrive':                                   'float32',\n",
    "    'Census_TotalPhysicalRAM':                                      'float32',\n",
    "    'Census_ChassisTypeName':                                       'float32',\n",
    "    'Census_InternalPrimaryDiagonalDisplaySizeInInches':            'float32',\n",
    "    'Census_InternalPrimaryDisplayResolutionHorizontal':            'float32',\n",
    "    'Census_InternalPrimaryDisplayResolutionVertical':              'float32',\n",
    "    'Census_PowerPlatformRoleName':                                 'float32',\n",
    "    'Census_InternalBatteryType':                                   'float32',\n",
    "    'Census_InternalBatteryNumberOfCharges':                        'float32',\n",
    "    'Census_OSArchitecture':                                        'float32',\n",
    "    'Census_OSBranch':                                              'float32',\n",
    "    'Census_OSBuildNumber':                                         'float32',\n",
    "    'Census_OSBuildRevision':                                       'float32',\n",
    "    'Census_OSEdition':                                             'float32',\n",
    "    'Census_OSSkuName':                                             'float32',\n",
    "    'Census_OSInstallTypeName':                                     'float32',\n",
    "    'Census_OSInstallLanguageIdentifier':                           'float32',\n",
    "    'Census_OSUILocaleIdentifier':                                  'float32',\n",
    "    'Census_OSWUAutoUpdateOptionsName':                             'float32',\n",
    "    'Census_IsPortableOperatingSystem':                             'float32',\n",
    "    'Census_GenuineStateName':                                      'float32',\n",
    "    'Census_ActivationChannel':                                     'float32',\n",
    "    'Census_IsFlightingInternal':                                   'float32',\n",
    "    'Census_IsFlightsDisabled':                                     'float32',\n",
    "    'Census_FlightRing':                                            'float32',\n",
    "    'Census_ThresholdOptIn':                                        'float32',\n",
    "    'Census_FirmwareManufacturerIdentifier':                        'float32',\n",
    "    'Census_FirmwareVersionIdentifier':                             'float32',\n",
    "    'Census_IsSecureBootEnabled':                                   'float32',\n",
    "    'Census_IsWIMBootEnabled':                                      'float32',\n",
    "    'Census_IsVirtualDevice':                                       'float32',\n",
    "    'Census_IsTouchEnabled':                                        'float32',\n",
    "    'Census_IsPenCapable':                                          'float32',\n",
    "    'Census_IsAlwaysOnAlwaysConnectedCapable':                      'float32',\n",
    "    'Wdft_IsGamer':                                                 'float32',\n",
    "    'Wdft_RegionIdentifier':                                        'float32',\n",
    "    'EngineVersion_1':                                              'int8',\n",
    "    'EngineVersion_2':                                              'int8',\n",
    "    'EngineVersion_3':                                              'float32',\n",
    "    'EngineVersion_4':                                              'float32',\n",
    "    'AppVersion_1':                                                 'int8',\n",
    "    'AppVersion_2':                                                 'float32',\n",
    "    'AppVersion_3':                                                 'float32',\n",
    "    'AppVersion_4':                                                 'float32',\n",
    "    'AvSigVersion_1':                                               'float32',\n",
    "    'AvSigVersion_2':                                               'float32',\n",
    "    'AvSigVersion_3':                                               'float32',\n",
    "    'AvSigVersion_4':                                               'int8',\n",
    "    'Census_OSVersion_1':                                           'float32',\n",
    "    'Census_OSVersion_2':                                           'float32',\n",
    "    'Census_OSVersion_3':                                           'float32',\n",
    "    'Census_OSVersion_4':                                           'float32',\n",
    "    'HasDetections':                                                'int8',\n",
    "}\n",
    "train_data = pd.read_csv(\"/Users/dragonfruit/cs6140-ml-workspace/ML-project/data/validation_data_kaggle_processed/train_data_kaggle_processed.csv\",dtype=train_dtypes)\n",
    "test_data = pd.read_csv(\"/Users/dragonfruit/cs6140-ml-workspace/ML-project/data/validation_data_kaggle_processed/validation_data_kaggle_processed.csv\",dtype=test_dtypes)\n",
    "\n",
    "X_train = train_data.drop('HasDetections', axis=1)\n",
    "y_train = train_data['HasDetections']\n",
    "X_valid = test_data.drop('HasDetections', axis=1)\n",
    "y_valid = test_data['HasDetections']\n",
    "\n",
    "del train_data, test_data\n",
    "X_train_kagenc_tensor = torch.tensor(X_train.values, dtype=torch.float32)\n",
    "y_train_kagenc_tensor = torch.tensor(y_train.values, dtype=torch.float32).view(-1, 1)\n",
    "X_valid_kagenc_tensor = torch.tensor(X_valid.values, dtype=torch.float32)\n",
    "y_valid_kagenc_tensor = torch.tensor(y_valid.values, dtype=torch.float32).view(-1, 1)\n",
    "\n",
    "\n",
    "# Figure out which device to use. By default, CPU\n",
    "device = \"cpu\"\n",
    "# For M-architecture Macs\n",
    "if torch.backends.mps.is_available():\n",
    "    device = torch.device(\"mps\")\n",
    "# For NVIDIA\n",
    "elif torch.cuda.is_available():\n",
    "    device = torch.device(\"cuda\")\n",
    "\n",
    "# DataLoader\n",
    "train_dataset_kagenc = TensorDataset(X_train_kagenc_tensor, y_train_kagenc_tensor)\n",
    "valid_dataset_kagenc = TensorDataset(X_valid_kagenc_tensor, y_valid_kagenc_tensor)\n",
    "\n",
    "batch_size = 2048\n",
    "train_loader_kagenc = DataLoader(train_dataset_kagenc, batch_size=batch_size, shuffle=True)\n",
    "test_loader_kagenc = DataLoader(valid_dataset_kagenc, batch_size=batch_size, shuffle=False)\n",
    "\n",
    "# Model\n",
    "# Define complex model\n",
    "class EnhancedBinaryClassifier(nn.Module):\n",
    "    def __init__(self):\n",
    "        super(EnhancedBinaryClassifier, self).__init__()\n",
    "        self.layers = nn.Sequential(\n",
    "            nn.Linear(X_train_kagenc_tensor.shape[1], 512),\n",
    "            nn.ReLU(),\n",
    "            nn.BatchNorm1d(512),\n",
    "            nn.Dropout(0.3),\n",
    "\n",
    "            nn.Linear(512, 512),\n",
    "            nn.ReLU(),\n",
    "            nn.BatchNorm1d(512),\n",
    "            nn.Dropout(0.3),\n",
    "\n",
    "            nn.Linear(512, 256),\n",
    "            nn.ReLU(),\n",
    "            nn.BatchNorm1d(256),\n",
    "            nn.Dropout(0.3),\n",
    "            \n",
    "            nn.Linear(256, 128),\n",
    "            nn.ReLU(),\n",
    "            nn.BatchNorm1d(128),\n",
    "            nn.Dropout(0.4),\n",
    "\n",
    "            nn.Linear(128, 64),\n",
    "            nn.ReLU(),\n",
    "            nn.BatchNorm1d(64),\n",
    "            nn.Dropout(0.4),\n",
    "\n",
    "            nn.Linear(64, 1)\n",
    "        )\n",
    "\n",
    "    def forward(self, x):\n",
    "        return self.layers(x)\n",
    "\n",
    "\n",
    "\n",
    "model_kagenc = EnhancedBinaryClassifier().to(device)\n",
    "\n",
    "criterion = nn.BCEWithLogitsLoss()  # or use nn.BCEWithLogitsLoss and remove sigmoid\n",
    "optimizer = optim.Adam(model_kagenc.parameters(), weight_decay=1e-4, lr=0.0001)\n",
    "scheduler = optim.lr_scheduler.ReduceLROnPlateau(optimizer, mode='min', factor=0.5, patience=2)\n",
    "\n",
    "epochs = 100\n",
    "# Train\n",
    "best_model_weights_kagenc, train_loss_kagenc, test_loss_kagenc, train_accuracy_kagenc, test_accuracy_kagenc, lrs_kagenc = helper_functions.train_and_evaluate_model(\n",
    "    model_kagenc, criterion, optimizer, scheduler, train_loader_kagenc, test_loader_kagenc, epochs=epochs\n",
    ")\n",
    "\n",
    "torch.save(model_kagenc.state_dict(), 'enhanced_deepernn_kaggle_encodings.pth')\n"
   ]
  },
  {
   "cell_type": "code",
   "execution_count": 2,
   "id": "3cdc26a7-91f0-479b-b2a9-1ce841029966",
   "metadata": {},
   "outputs": [
    {
     "data": {
      "image/png": "[encoded data removed]",
      "text/plain": [
       "<Figure size 1200x600 with 1 Axes>"
      ]
     },
     "metadata": {},
     "output_type": "display_data"
    },
    {
     "data": {
      "image/png": "[encoded data removed]",
      "text/plain": [
       "<Figure size 1200x600 with 1 Axes>"
      ]
     },
     "metadata": {},
     "output_type": "display_data"
    }
   ],
   "source": [
    "import matplotlib.pyplot as plt\n",
    "import numpy as np\n",
    "\n",
    "\n",
    "# Plotting function\n",
    "plt.figure(figsize=(12, 6))\n",
    "plt.plot(np.arange(1, len(train_loss_kagenc) + 1), train_loss_kagenc, label='Enhanced DNN Train Loss Kaggle Encodings', color='green')\n",
    "plt.plot(np.arange(1, len(test_loss_kagenc) + 1), test_loss_kagenc, label='Enhanced DNN Test Loss Kaggle Encodings', color='red')\n",
    "plt.xlabel('Epochs')\n",
    "plt.ylabel('Loss')\n",
    "plt.title('Loss vs. Epochs')\n",
    "plt.legend()\n",
    "plt.show()\n",
    "\n",
    "# Plotting function for accuracy\n",
    "plt.figure(figsize=(12, 6))\n",
    "plt.plot(np.arange(1, len(train_accuracy_kagenc) + 1), train_accuracy_kagenc, label='Enhanced DNN Train Accuracy Kaggle Encodings', color='green')\n",
    "plt.plot(np.arange(1, len(test_accuracy_kagenc) + 1), test_accuracy_kagenc, label='Enhanced DNN Test Accuracy Kaggle Encodings', color='red')\n",
    "plt.xlabel('Epochs')\n",
    "plt.ylabel('Accuracy')\n",
    "plt.title('Accuracy vs. Epochs')\n",
    "plt.legend()\n",
    "plt.show()"
   ]
  }
 ],
 "metadata": {
  "kernelspec": {
   "display_name": "Python 3 (ipykernel)",
   "language": "python",
   "name": "python3"
  },
  "language_info": {
   "codemirror_mode": {
    "name": "ipython",
    "version": 3
   },
   "file_extension": ".py",
   "mimetype": "text/x-python",
   "name": "python",
   "nbconvert_exporter": "python",
   "pygments_lexer": "ipython3",
   "version": "3.11.11"
  }
 },
 "nbformat": 4,
 "nbformat_minor": 5
}
